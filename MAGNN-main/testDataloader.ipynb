{
 "cells": [
  {
   "cell_type": "code",
   "execution_count": 1,
   "metadata": {},
   "outputs": [
    {
     "name": "stderr",
     "output_type": "stream",
     "text": [
      "/home/exitialium/miniconda3/envs/MAGNN/lib/python3.8/site-packages/tqdm/auto.py:22: TqdmWarning: IProgress not found. Please update jupyter and ipywidgets. See https://ipywidgets.readthedocs.io/en/stable/user_install.html\n",
      "  from .autonotebook import tqdm as notebook_tqdm\n"
     ]
    }
   ],
   "source": [
    "import numpy as np\n",
    "import pandas as pd\n",
    "from util import DataLoaderS"
   ]
  },
  {
   "cell_type": "code",
   "execution_count": 2,
   "metadata": {},
   "outputs": [
    {
     "name": "stdout",
     "output_type": "stream",
     "text": [
      "input data size:(419, 22)\n"
     ]
    },
    {
     "ename": "IndexError",
     "evalue": "index 81 is out of bounds for dimension 0 with size 81",
     "output_type": "error",
     "traceback": [
      "\u001b[0;31m---------------------------------------------------------------------------\u001b[0m",
      "\u001b[0;31mIndexError\u001b[0m                                Traceback (most recent call last)",
      "\u001b[1;32m/home/exitialium/projects/stageAnalysis/MAGNN-main/testDataloader.ipynb Cell 2\u001b[0m in \u001b[0;36m<cell line: 5>\u001b[0;34m()\u001b[0m\n\u001b[1;32m      <a href='vscode-notebook-cell://wsl%2Bubuntu/home/exitialium/projects/stageAnalysis/MAGNN-main/testDataloader.ipynb#ch0000001vscode-remote?line=2'>3</a>\u001b[0m data_dir1 \u001b[39m=\u001b[39m \u001b[39m'\u001b[39m\u001b[39m../development/datasets/trainingDataset/A.txt\u001b[39m\u001b[39m'\u001b[39m\n\u001b[1;32m      <a href='vscode-notebook-cell://wsl%2Bubuntu/home/exitialium/projects/stageAnalysis/MAGNN-main/testDataloader.ipynb#ch0000001vscode-remote?line=3'>4</a>\u001b[0m dataDirs \u001b[39m=\u001b[39m [data_dir, data_dir1]\n\u001b[0;32m----> <a href='vscode-notebook-cell://wsl%2Bubuntu/home/exitialium/projects/stageAnalysis/MAGNN-main/testDataloader.ipynb#ch0000001vscode-remote?line=4'>5</a>\u001b[0m data \u001b[39m=\u001b[39m DataLoaderS(dataDirs, \u001b[39m0.6\u001b[39;49m, \u001b[39m0.2\u001b[39;49m, device, \u001b[39m3\u001b[39;49m, \u001b[39m24\u001b[39;49m\u001b[39m*\u001b[39;49m\u001b[39m7\u001b[39;49m)\n",
      "File \u001b[0;32m~/projects/stageAnalysis/MAGNN-main/util.py:30\u001b[0m, in \u001b[0;36mDataLoaderS.__init__\u001b[0;34m(self, files, train, valid, device, horizon, window, normalize)\u001b[0m\n\u001b[1;32m     28\u001b[0m \u001b[39mself\u001b[39m\u001b[39m.\u001b[39mscale \u001b[39m=\u001b[39m np\u001b[39m.\u001b[39mones(\u001b[39mself\u001b[39m\u001b[39m.\u001b[39mm)\n\u001b[1;32m     29\u001b[0m \u001b[39m# self._normalized(normalize)\u001b[39;00m\n\u001b[0;32m---> 30\u001b[0m \u001b[39mself\u001b[39;49m\u001b[39m.\u001b[39;49m_split(\u001b[39mint\u001b[39;49m(train \u001b[39m*\u001b[39;49m \u001b[39mself\u001b[39;49m\u001b[39m.\u001b[39;49mn), \u001b[39mint\u001b[39;49m((train \u001b[39m+\u001b[39;49m valid) \u001b[39m*\u001b[39;49m \u001b[39mself\u001b[39;49m\u001b[39m.\u001b[39;49mn), \u001b[39mself\u001b[39;49m\u001b[39m.\u001b[39;49mn)\n\u001b[1;32m     32\u001b[0m \u001b[39mself\u001b[39m\u001b[39m.\u001b[39mscale \u001b[39m=\u001b[39m torch\u001b[39m.\u001b[39mfrom_numpy(\u001b[39mself\u001b[39m\u001b[39m.\u001b[39mscale)\u001b[39m.\u001b[39mfloat()\n\u001b[1;32m     33\u001b[0m tmp \u001b[39m=\u001b[39m \u001b[39mself\u001b[39m\u001b[39m.\u001b[39mtest[\u001b[39m1\u001b[39m] \u001b[39m*\u001b[39m \u001b[39mself\u001b[39m\u001b[39m.\u001b[39mscale\u001b[39m.\u001b[39mexpand(\u001b[39mself\u001b[39m\u001b[39m.\u001b[39mtest[\u001b[39m1\u001b[39m]\u001b[39m.\u001b[39msize(\u001b[39m0\u001b[39m), \u001b[39mself\u001b[39m\u001b[39m.\u001b[39mm)\n",
      "File \u001b[0;32m~/projects/stageAnalysis/MAGNN-main/util.py:63\u001b[0m, in \u001b[0;36mDataLoaderS._split\u001b[0;34m(self, train, valid, test)\u001b[0m\n\u001b[1;32m     61\u001b[0m valid_set \u001b[39m=\u001b[39m \u001b[39mrange\u001b[39m(train, valid)\n\u001b[1;32m     62\u001b[0m test_set \u001b[39m=\u001b[39m \u001b[39mrange\u001b[39m(valid, \u001b[39mself\u001b[39m\u001b[39m.\u001b[39mn)\n\u001b[0;32m---> 63\u001b[0m \u001b[39mself\u001b[39m\u001b[39m.\u001b[39mtrain \u001b[39m=\u001b[39m \u001b[39mself\u001b[39;49m\u001b[39m.\u001b[39;49m_batchify(train_set, \u001b[39mself\u001b[39;49m\u001b[39m.\u001b[39;49mh)\n\u001b[1;32m     64\u001b[0m \u001b[39mself\u001b[39m\u001b[39m.\u001b[39mvalid \u001b[39m=\u001b[39m \u001b[39mself\u001b[39m\u001b[39m.\u001b[39m_batchify(valid_set, \u001b[39mself\u001b[39m\u001b[39m.\u001b[39mh)\n\u001b[1;32m     65\u001b[0m \u001b[39mself\u001b[39m\u001b[39m.\u001b[39mtest \u001b[39m=\u001b[39m \u001b[39mself\u001b[39m\u001b[39m.\u001b[39m_batchify(test_set, \u001b[39mself\u001b[39m\u001b[39m.\u001b[39mh)\n",
      "File \u001b[0;32m~/projects/stageAnalysis/MAGNN-main/util.py:75\u001b[0m, in \u001b[0;36mDataLoaderS._batchify\u001b[0;34m(self, idx_set, horizon)\u001b[0m\n\u001b[1;32m     73\u001b[0m         end \u001b[39m=\u001b[39m idx_set[i] \u001b[39m-\u001b[39m \u001b[39mself\u001b[39m\u001b[39m.\u001b[39mh \u001b[39m+\u001b[39m \u001b[39m1\u001b[39m\n\u001b[1;32m     74\u001b[0m         start \u001b[39m=\u001b[39m end \u001b[39m-\u001b[39m \u001b[39mself\u001b[39m\u001b[39m.\u001b[39mP\n\u001b[0;32m---> 75\u001b[0m         X[j\u001b[39m*\u001b[39mn \u001b[39m+\u001b[39m i, :, :] \u001b[39m=\u001b[39m torch\u001b[39m.\u001b[39mfrom_numpy(\u001b[39mself\u001b[39m\u001b[39m.\u001b[39mdat[j][start:end, :])\n\u001b[1;32m     76\u001b[0m         Y[j\u001b[39m*\u001b[39mn \u001b[39m+\u001b[39m i, :] \u001b[39m=\u001b[39m torch\u001b[39m.\u001b[39mfrom_numpy(\u001b[39mself\u001b[39m\u001b[39m.\u001b[39mdat[j][idx_set[i], :])\n\u001b[1;32m     77\u001b[0m \u001b[39mreturn\u001b[39;00m [X, Y]\n",
      "\u001b[0;31mIndexError\u001b[0m: index 81 is out of bounds for dimension 0 with size 81"
     ]
    }
   ],
   "source": [
    "device = 'cuda'\n",
    "data_dir = '../development/datasets/trainingDataset/AAPL.txt'\n",
    "data_dir1 = '../development/datasets/trainingDataset/A.txt'\n",
    "dataDirs = [data_dir, data_dir1]\n",
    "data = DataLoaderS(dataDirs, 0.6, 0.2, device, 3, 24*7)"
   ]
  },
  {
   "cell_type": "code",
   "execution_count": null,
   "metadata": {},
   "outputs": [],
   "source": []
  }
 ],
 "metadata": {
  "kernelspec": {
   "display_name": "Python 3.8.13 ('MAGNN')",
   "language": "python",
   "name": "python3"
  },
  "language_info": {
   "codemirror_mode": {
    "name": "ipython",
    "version": 3
   },
   "file_extension": ".py",
   "mimetype": "text/x-python",
   "name": "python",
   "nbconvert_exporter": "python",
   "pygments_lexer": "ipython3",
   "version": "3.8.13"
  },
  "orig_nbformat": 4,
  "vscode": {
   "interpreter": {
    "hash": "19a4467dba046d428f26c7b150a87830f8d724a7c4ffa2c3fd307f4feaa95990"
   }
  }
 },
 "nbformat": 4,
 "nbformat_minor": 2
}
