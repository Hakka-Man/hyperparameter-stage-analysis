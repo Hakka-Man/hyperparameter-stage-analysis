{
 "cells": [
  {
   "cell_type": "code",
   "execution_count": 8,
   "metadata": {},
   "outputs": [],
   "source": [
    "## IMPORTS\n",
    "import pandas as pd\n",
    "import numpy as np\n",
    "from datetime import date, timedelta\n",
    "import yahoo_fin.stock_info as yf"
   ]
  },
  {
   "cell_type": "code",
   "execution_count": 9,
   "metadata": {},
   "outputs": [
    {
     "name": "stdout",
     "output_type": "stream",
     "text": [
      "stock not found\n"
     ]
    }
   ],
   "source": [
    "spList = yf.tickers_sp500()\n",
    "today = date.today()\n",
    "today = today.strftime('%Y-%m-%d')\n",
    "dictionary = {}\n",
    "for ticker in spList:\n",
    "    try:\n",
    "        df = yf.get_data(ticker, start_date=\"1995-01-01\",end_date=today, index_as_date = True, interval=\"1wk\")\n",
    "        df.to_pickle('stockData/S&P500/'+ticker+'.pkl')\n",
    "        if ticker not in dictionary.values():\n",
    "            industry = yf.get_company_info(ticker).loc['industry'][0]\n",
    "            if industry not in dictionary.keys():\n",
    "                dictionary[industry] = []\n",
    "            dictionary[industry].append(ticker)\n",
    "    except:\n",
    "        print(\"stock not found\")"
   ]
  },
  {
   "cell_type": "code",
   "execution_count": 7,
   "metadata": {},
   "outputs": [
    {
     "name": "stdout",
     "output_type": "stream",
     "text": [
      "Consumer Electronics\n"
     ]
    }
   ],
   "source": [
    "print(dictionary)"
   ]
  },
  {
   "cell_type": "code",
   "execution_count": null,
   "metadata": {},
   "outputs": [],
   "source": []
  }
 ],
 "metadata": {
  "interpreter": {
   "hash": "9b909473a2ac8a01f4c1acf0a2fbc0992511891620a2b1ce77dfcb5a1893eb99"
  },
  "kernelspec": {
   "display_name": "Python 3.9.7 64-bit ('titanic': conda)",
   "language": "python",
   "name": "python3"
  },
  "language_info": {
   "codemirror_mode": {
    "name": "ipython",
    "version": 3
   },
   "file_extension": ".py",
   "mimetype": "text/x-python",
   "name": "python",
   "nbconvert_exporter": "python",
   "pygments_lexer": "ipython3",
   "version": "3.9.7"
  },
  "orig_nbformat": 4
 },
 "nbformat": 4,
 "nbformat_minor": 2
}
