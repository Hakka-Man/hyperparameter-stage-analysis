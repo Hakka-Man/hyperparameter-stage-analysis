{
 "cells": [
  {
   "cell_type": "code",
   "execution_count": 1,
   "metadata": {},
   "outputs": [],
   "source": [
    "from stage import getStage\n",
    "import pandas as pd\n",
    "import datetime\n",
    "from datetime import date, datetime\n",
    "import yahoo_fin.stock_info as yf"
   ]
  },
  {
   "cell_type": "code",
   "execution_count": 4,
   "metadata": {},
   "outputs": [
    {
     "name": "stdout",
     "output_type": "stream",
     "text": [
      "AKAM hold\n",
      "ALB hold\n",
      "ALGN hold\n",
      "INCY hold\n",
      "IVZ hold\n"
     ]
    }
   ],
   "source": [
    "# Open a file\n",
    "result = open(\"Testdata/Realtime/result\"+date.today().strftime('%Y-%m-%d')+\".txt\", \"w\")\n",
    "for symbol in yf.tickers_sp500():\n",
    "    df = getStage(symbol,[0.3866447912682057, 1.554754873864911, 0.11941121685460436, 1.0326272714103917, 1.0873323087402937, 1.0382277515512988, 0.9779939752154027, 0.9698535499223544])\n",
    "    shares = 0\n",
    "    sharesSPY = 0\n",
    "    if df.iloc[-1].Stage==\"Buy\":\n",
    "        print(symbol+\" buy\")\n",
    "        #result.write(symbol+\" buy\\n\")\n",
    "    elif df.iloc[-1].Stage==\"Stage 2\":\n",
    "        print(symbol+\" hold\")\n",
    "        #result.write(symbol+\" hold\\n\")\n",
    "    elif df.iloc[-1].Stage==\"Sell\":\n",
    "        print(symbol+\" sell\")\n",
    "        #result.write(symbol+\" sell\\n\")\n"
   ]
  },
  {
   "cell_type": "code",
   "execution_count": null,
   "metadata": {},
   "outputs": [],
   "source": []
  }
 ],
 "metadata": {
  "interpreter": {
   "hash": "9b909473a2ac8a01f4c1acf0a2fbc0992511891620a2b1ce77dfcb5a1893eb99"
  },
  "kernelspec": {
   "display_name": "Python 3.9.7 64-bit ('titanic': conda)",
   "language": "python",
   "name": "python3"
  },
  "language_info": {
   "codemirror_mode": {
    "name": "ipython",
    "version": 3
   },
   "file_extension": ".py",
   "mimetype": "text/x-python",
   "name": "python",
   "nbconvert_exporter": "python",
   "pygments_lexer": "ipython3",
   "version": "3.9.7"
  },
  "orig_nbformat": 4
 },
 "nbformat": 4,
 "nbformat_minor": 2
}
