{
 "cells": [
  {
   "cell_type": "code",
   "execution_count": 1,
   "metadata": {},
   "outputs": [],
   "source": [
    "from stage import getStage\n",
    "import pandas as pd\n",
    "import datetime\n",
    "from datetime import date, datetime\n",
    "import yahoo_fin.stock_info as yf"
   ]
  },
  {
   "cell_type": "code",
   "execution_count": 2,
   "metadata": {},
   "outputs": [],
   "source": [
    "SectorDict = {\n",
    "    \"Energy\":\"XLE\",\"Technology\":\"XLK\",\n",
    "    \"Communication Services\":\"XLC\",\n",
    "    \"Consumer Staples\":\"XLP\",\n",
    "    \"Health Care\":\"XLV\",\n",
    "    \"Consumer Cyclical\":\"XLY\",\n",
    "    \"Industrial\":\"XLI\",\n",
    "    \"Utilities\":\"XLU\",\n",
    "    \"Materials\":\"XLB\",\n",
    "    \"Financial\":\"XLF\",\n",
    "    \"Real Estate\":\"XLRE\"}\n",
    "sectorDfList = []\n",
    "for sector in SectorDict.values():\n",
    "    sectorDfList.append(pd.read_pickle(\"stockData/sectorCharts/\"+sector+\".pkl\"))\n",
    "goodSectorDf = sectorDfList[0].drop(['close','ticker','MA30','MA30Slope','RS'],axis=1)\n",
    "goodSectorDf['Sectors'] = [[] for _ in range(len(goodSectorDf))]\n",
    "goodSectorDf.index = sectorDfList[0].index\n",
    "for date in sectorDfList[0].index:\n",
    "    listOfSector = []\n",
    "    for df in sectorDfList:\n",
    "        try:\n",
    "            if df.at[date,'MA30Slope'] > 1.268490629719207 and df.loc[date,'RS'] > 1.0013386634337298:\n",
    "                if df.at[date,'close'] > df.at[date,'MA30']:\n",
    "                    listOfSector.append(df.at[date,'ticker'])\n",
    "        except: \n",
    "            pass\n",
    "    goodSectorDf.at[date,'Sectors'] = set(listOfSector)"
   ]
  },
  {
   "cell_type": "code",
   "execution_count": 8,
   "metadata": {},
   "outputs": [],
   "source": [
    "# Open a file\n",
    "result = open(\"Testdata/Realtime/result\"+date.today().strftime('%Y-%m-%d')+\".txt\", \"w\")\n",
    "for symbol in yf.tickers_nasdaq():\n",
    "    df = getStage(symbol,[0.03361077383204303, 1.7466372328111242, -0.08498841770875612, 0.926192276854965, 1.1764676012556523, 1.1405501342698643, 0.8517616225271734, 0.8691969716399011, 1.268490629719207, 1.0013386634337298, 0.07551020458494859, 0.9489349345040117, 0.996709764664632, 0.9485725801058837, 0.9857019510456804],goodSectorDf)\n",
    "    shares = 0\n",
    "    sharesSPY = 0\n",
    "    if df.empty:\n",
    "        continue\n",
    "    if df.iloc[-1].Stage==\"Buy\":\n",
    "        print(symbol+\" buy\")\n",
    "        #result.write(symbol+\" buy\\n\")\n",
    "    elif df.iloc[-1].Stage==\"Stage 2\":\n",
    "        print(symbol+\" hold\")\n",
    "        #result.write(symbol+\" hold\\n\")\n",
    "    elif df.iloc[-1].Stage==\"Sell\":\n",
    "        print(symbol+\" sell\")\n",
    "        #result.write(symbol+\" sell\\n\")\n"
   ]
  },
  {
   "cell_type": "code",
   "execution_count": null,
   "metadata": {},
   "outputs": [],
   "source": []
  }
 ],
 "metadata": {
  "interpreter": {
   "hash": "9b909473a2ac8a01f4c1acf0a2fbc0992511891620a2b1ce77dfcb5a1893eb99"
  },
  "kernelspec": {
   "display_name": "Python 3.9.7 64-bit ('titanic': conda)",
   "language": "python",
   "name": "python3"
  },
  "language_info": {
   "codemirror_mode": {
    "name": "ipython",
    "version": 3
   },
   "file_extension": ".py",
   "mimetype": "text/x-python",
   "name": "python",
   "nbconvert_exporter": "python",
   "pygments_lexer": "ipython3",
   "version": "3.9.7"
  },
  "orig_nbformat": 4
 },
 "nbformat": 4,
 "nbformat_minor": 2
}
