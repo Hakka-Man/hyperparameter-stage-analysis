{
 "cells": [
  {
   "cell_type": "code",
   "execution_count": 3,
   "metadata": {},
   "outputs": [],
   "source": [
    "from stage import getStage\n",
    "import pandas as pd"
   ]
  },
  {
   "cell_type": "code",
   "execution_count": 4,
   "metadata": {},
   "outputs": [
    {
     "name": "stdout",
     "output_type": "stream",
     "text": [
      "[*********************100%***********************]  1 of 1 completed\n",
      "[*********************100%***********************]  1 of 1 completed\n",
      "[*********************100%***********************]  1 of 1 completed\n",
      "[*********************100%***********************]  1 of 1 completed\n",
      "buy 01/08/2021\n",
      "F 1533.333354526096\n",
      "SPY 1160.599010912239\n",
      "sell 08/06/2021\n",
      "[*********************100%***********************]  1 of 1 completed\n",
      "[*********************100%***********************]  1 of 1 completed\n",
      "[*********************100%***********************]  1 of 1 completed\n",
      "\n",
      "1 Failed download:\n",
      "- ETHUSD: No data found, symbol may be delisted\n",
      "[*********************100%***********************]  1 of 1 completed\n",
      "Stock Not Found\n",
      "[*********************100%***********************]  1 of 1 completed\n",
      "[*********************100%***********************]  1 of 1 completed\n",
      "buy 01/08/2021\n",
      "GE 1126.984088272228\n",
      "SPY 1088.2862162302347\n",
      "sell 06/18/2021\n",
      "1.330158721399162\n",
      "1.1244426135712369\n",
      "26.5\n",
      "0.00020384615384615385\n"
     ]
    }
   ],
   "source": [
    "totalEarnings = 0\n",
    "totalCost = 0\n",
    "totalSPYEarings = 0\n",
    "totalTime = 0\n",
    "count = 0\n",
    "totalPerc = 0\n",
    "SPYPerc = 0\n",
    "dfSPY = getStage('SPY')\n",
    "F500 = ['GM', 'F', 'XOM', 'ETHUSD', 'GE', 'MPLX', 'MO', 'DD', 'DOCU', 'C', 'PG', 'PEP', 'AMCR', 'HPE', 'KR', 'MET', 'XLB', 'BA', 'TGT', 'ENNV', 'TKUMF', 'UPS', 'WINA', 'C', 'CNC', 'PYS', 'XRX', 'ETN', 'KODK', 'PCTY', 'MRO', 'COST', 'KO', 'WBREOX', 'JNJ', 'SIVB', 'AXP', 'SEAS', 'MMM', 'MRK', 'IP', 'CAT', 'VZ', 'LCID', 'NIO', 'LMT', 'BAC', 'SPMYY', 'ATVK', 'HD', 'MCK', 'COP', 'DAL', 'GT', 'BUD', 'BMY', 'JPM', 'ACI', 'SBAC', 'INTC', 'ADM', 'ROK', 'NUSI', 'CSCO', 'QREARX', 'IWM', 'WBA', 'TXN', 'WM', 'DIS', 'RTX', 'CSLT', 'MLM', 'TXT', 'ALGN', 'OXY', 'BAX', 'WBA', 'COUP', 'LEHLQ', 'ABT', 'TNA', 'TNA', 'MKFG.WT', 'ETHUSD', 'EMR', 'AOMOY', 'GIS', 'FDX', 'FBHS', 'EIX', 'MCD', 'SO', 'FL', 'PFE', 'UNP', 'WHR', 'PFG', 'CI', 'VIAC', 'CL', 'ANSS', 'KMB', 'AU', 'JNJ', 'LLY', 'OSRS', 'LNC', 'FMCKJ', 'JCI', 'DOW', 'NOC', 'WUMSY', 'CPB', 'MS', 'QCOM', 'SEE', 'DFS', 'PPG', 'XYL', 'EHC', 'ED', 'USB', 'AFL', 'LCID', 'LEVI', 'GS', 'HON', 'ETN', 'WFC', 'ICE', 'PEG', 'CAH', 'HAL', 'DDS', 'CMG', 'BTO', 'TXN', 'AEP', 'VOBIF', 'EVO', 'KEY', 'TWMTX', 'DOTUSD', 'CLR', 'ARMK', 'FB', 'TSN', 'MRZLF', 'FSRXU', 'W', 'WFC', 'RC.PRE', 'TCPIX', 'RHCO', 'RRD', 'GPC', 'GLW', 'CMI', 'R', 'PNC', 'ARW', 'MSFT', 'NSC', 'AKTX', 'LWLG', 'BKR', 'DOMR', 'DUK', 'MAS', 'CCK', 'RAD', 'EMN', 'ABC', 'MAN', 'FIBK', 'EXC', 'LRLCY', 'CNP', 'JWN', 'BRK.B', 'DLLFF', 'GESI', 'CP', 'PBI', 'NKE', 'SCL', 'UNH', 'GE', 'COF', 'COUP', 'GD', 'HUM', 'JLL', 'COF', 'UNM', 'CENX', 'CMS', 'CGNSF', 'PMCB', 'OVV', 'SFE', 'FUTU', 'RJF', 'TSM', 'DTP', 'RISR', 'PPWLM', 'STX', 'APD', 'ITW', 'THC', 'MARA', 'MPW', 'KMX', 'OC', 'HZNP', 'RIORX', 'DGII', 'JAZZ', 'SYUS', 'MET', 'LEA', 'FTMRQ', 'SHW', 'DOV', 'HRL', 'MPXOF', 'LPX', 'GWW', 'XOM', 'SPGI', 'BBY', 'NUE', 'UHS', 'ALLT', 'MODV', 'SHIP', 'FREE', 'AVY', 'BC', 'PFG', 'NURE', 'HTGC', 'AAPL', 'MGAWY', 'ELAMF', 'XM', 'KO', 'PARXF', 'PEBN', 'CAT', 'WMB', 'HAS', 'PSTH', 'WTM', 'ALGN', 'PKI', 'USO', 'DOTUSD', 'LUV', 'PH', 'TRV', 'PEI', 'BDX', 'CMA', 'F', 'BKR', 'XEL', 'RCII', 'ARVIX', 'DTRC', 'PGR', 'JNJ', 'TDY', 'USB', 'FE', 'KELYA', 'NYT', 'ACER', 'BLDP', 'HCYIX', 'SON', 'AES', 'YSACU', 'WING', 'JD', 'A', 'MCHP', 'FIJEX']\n",
    "for symbol in F500[1:5]:\n",
    "    try:\n",
    "        df = getStage(symbol)\n",
    "        shares = 0\n",
    "        sharesSPY = 0\n",
    "        for index, element in df.iterrows():\n",
    "            if shares == 0 and element.Stage == \"Stage 2\":\n",
    "                shares = 1000/element.Close\n",
    "                sharesSPY = 1000/dfSPY.loc[index].Close\n",
    "                totalTime +=1\n",
    "                totalCost +=1000\n",
    "                count+=1\n",
    "                print(\"buy \"+index.strftime(\"%m/%d/%Y\"))\n",
    "                continue\n",
    "            if shares != 0:\n",
    "                if element.Stage == \"Stage 2\":\n",
    "                    totalTime +=1\n",
    "                else:\n",
    "                    totalEarnings += shares*element.Close\n",
    "                    totalSPYEarings += sharesSPY*dfSPY.loc[index].Close\n",
    "                    totalPerc += shares*element.Close/1000\n",
    "                    SPYPerc += sharesSPY*dfSPY.loc[index].Close/1000\n",
    "                    print(symbol+\" \"+str(shares*element.Close))\n",
    "                    print(\"SPY \"+ str(sharesSPY*dfSPY.loc[index].Close))\n",
    "                    print(\"sell \"+index.strftime(\"%m/%d/%Y\"))\n",
    "                    shares = 0\n",
    "\n",
    "        if shares !=0:\n",
    "            totalEarnings += df.iloc[-1].Close\n",
    "            totalSPYEarings += sharesSPY*dfSPY.iloc[-1].Close\n",
    "            totalPerc += shares*element.Close/1000\n",
    "            SPYPerc += sharesSPY*dfSPY.loc[index].Close/1000\n",
    "    except:\n",
    "        print(\"Stock Not Found\")\n",
    "# totalPerc = totalEarnings/totalCost\n",
    "# SPYPerc = totalSPYEarings/totalCost\n",
    "# print(totalPerc)\n",
    "# print(SPYPerc)\n",
    "# print(totalTime)\n",
    "# print(totalPerc/(totalTime/52))\n",
    "# print(SPYPerc/(totalTime/52))\n",
    "# print(totalCost)\n",
    "print(totalPerc/count)\n",
    "print(SPYPerc/count)\n",
    "print(totalTime/count)\n",
    "print((totalTime/500)/(10*52))"
   ]
  },
  {
   "cell_type": "code",
   "execution_count": null,
   "metadata": {},
   "outputs": [],
   "source": []
  }
 ],
 "metadata": {
  "interpreter": {
   "hash": "9b909473a2ac8a01f4c1acf0a2fbc0992511891620a2b1ce77dfcb5a1893eb99"
  },
  "kernelspec": {
   "display_name": "Python 3.9.7 64-bit ('titanic': conda)",
   "language": "python",
   "name": "python3"
  },
  "language_info": {
   "codemirror_mode": {
    "name": "ipython",
    "version": 3
   },
   "file_extension": ".py",
   "mimetype": "text/x-python",
   "name": "python",
   "nbconvert_exporter": "python",
   "pygments_lexer": "ipython3",
   "version": "3.9.7"
  },
  "orig_nbformat": 4
 },
 "nbformat": 4,
 "nbformat_minor": 2
}
