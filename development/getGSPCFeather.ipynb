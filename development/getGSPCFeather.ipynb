{
 "cells": [
  {
   "cell_type": "code",
   "execution_count": 3,
   "metadata": {},
   "outputs": [],
   "source": [
    "import pandas as pd\n",
    "import numpy as np\n",
    "from datetime import datetime, timedelta\n",
    "now = datetime.now()\n",
    "import investpy\n",
    "import time"
   ]
  },
  {
   "cell_type": "code",
   "execution_count": 4,
   "metadata": {},
   "outputs": [],
   "source": [
    "time.sleep(3)\n",
    "df = investpy.indices.get_index_historical_data(\"S&P 500\", 'United States', '20/06/2009', '20/06/2022', as_json=False, order='ascending', interval='Weekly')\n",
    "df = df.reset_index().drop(['Open','High','Low','Currency'], axis = 1)\n",
    "df.to_feather(\"datasets/GSPC.feather\")"
   ]
  }
 ],
 "metadata": {
  "kernelspec": {
   "display_name": "Python 3.9.13 ('bob')",
   "language": "python",
   "name": "python3"
  },
  "language_info": {
   "codemirror_mode": {
    "name": "ipython",
    "version": 3
   },
   "file_extension": ".py",
   "mimetype": "text/x-python",
   "name": "python",
   "nbconvert_exporter": "python",
   "pygments_lexer": "ipython3",
   "version": "3.9.13"
  },
  "orig_nbformat": 4,
  "vscode": {
   "interpreter": {
    "hash": "cef17d8e0b693fce01e9f1f72b9414a3311abac1f5b34dcfc301a056a5e7bd77"
   }
  }
 },
 "nbformat": 4,
 "nbformat_minor": 2
}
