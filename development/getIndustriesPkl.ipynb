{
 "cells": [
  {
   "cell_type": "code",
   "execution_count": null,
   "metadata": {},
   "outputs": [],
   "source": [
    "import pandas as pd\n",
    "import numpy as np\n",
    "from stage import getStage, fullPrint\n",
    "import pickle\n",
    "from datetime import datetime, timedelta\n",
    "now = datetime.now()\n",
    "import investpy\n",
    "import os\n",
    "import time"
   ]
  },
  {
   "cell_type": "code",
   "execution_count": null,
   "metadata": {},
   "outputs": [],
   "source": [
    "industries = dict()\n",
    "with open('stockData/industries.txt', 'r') as f:\n",
    "    currentSector = \"\"\n",
    "    for line in f:\n",
    "        if \"XL\" in line:\n",
    "            currentSector = line.strip()\n",
    "            industries[currentSector] = list()\n",
    "        elif line.strip() == \"\":\n",
    "            continue\n",
    "        else:\n",
    "            industries[currentSector].append(line.strip())\n",
    "            "
   ]
  },
  {
   "cell_type": "code",
   "execution_count": null,
   "metadata": {},
   "outputs": [],
   "source": [
    "for key in industries.keys():\n",
    "    if not os.path.exists(\"stockData/industriesData/\"+key):\n",
    "        os.mkdir(\"stockData/industriesData/\"+key)\n",
    "    for industry in industries[key]:\n",
    "        time.sleep(3)\n",
    "        df = pd.DataFrame()\n",
    "        df = investpy.indices.get_index_historical_data(industry, 'United States', '01/01/2010', '01/01/2022', as_json=False, order='ascending', interval='Weekly')\n",
    "        industry = industry.replace(\" \", \"\")\n",
    "        df.to_pickle(\"stockData/industriesData/\"+key+\"/\"+industry+\".pkl\")"
   ]
  },
  {
   "cell_type": "code",
   "execution_count": null,
   "metadata": {},
   "outputs": [],
   "source": [
    "industryList = []\n",
    "sectorOfIndustry = {}\n",
    "for sector in industries.keys():\n",
    "    for industry in industries[sector]:\n",
    "        industryList.append((sector,industry.replace(\" \",\"\")))\n",
    "        sectorOfIndustry[industry.replace(\" \",\"\")] = sector"
   ]
  },
  {
   "cell_type": "code",
   "execution_count": null,
   "metadata": {},
   "outputs": [],
   "source": [
    "with open('stockData/industryDict.pkl', 'wb') as handle:\n",
    "    pickle.dump(industries, handle, protocol=pickle.HIGHEST_PROTOCOL)\n",
    "with open('stockData/industryList.pkl', 'wb') as handle:\n",
    "    pickle.dump(industryList, handle, protocol=pickle.HIGHEST_PROTOCOL)\n",
    "with open('stockData/sectorOfIndustry.pkl', 'wb') as handle:\n",
    "    pickle.dump(industryList, handle, protocol=pickle.HIGHEST_PROTOCOL)"
   ]
  },
  {
   "cell_type": "code",
   "execution_count": null,
   "metadata": {},
   "outputs": [],
   "source": [
    "df = pd.read_pickle('stockData/industriesData/XLB/DJMining.pkl')\n",
    "df.index"
   ]
  }
 ],
 "metadata": {
  "kernelspec": {
   "display_name": "Python 3.10.4 ('titanicM')",
   "language": "python",
   "name": "python3"
  },
  "language_info": {
   "codemirror_mode": {
    "name": "ipython",
    "version": 3
   },
   "file_extension": ".py",
   "mimetype": "text/x-python",
   "name": "python",
   "nbconvert_exporter": "python",
   "pygments_lexer": "ipython3",
   "version": "3.10.4"
  },
  "orig_nbformat": 4,
  "vscode": {
   "interpreter": {
    "hash": "ea40916e32696a4422b33cc9ebf8f980cef431e5c5c30edbf18af9732d339d23"
   }
  }
 },
 "nbformat": 4,
 "nbformat_minor": 2
}
