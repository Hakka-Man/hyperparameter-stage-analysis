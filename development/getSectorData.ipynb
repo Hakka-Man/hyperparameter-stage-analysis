{
 "cells": [
  {
   "cell_type": "code",
   "execution_count": null,
   "metadata": {},
   "outputs": [],
   "source": [
    "## IMPORTS\n",
    "import pandas as pd\n",
    "import numpy as np\n",
    "from datetime import date,datetime, timedelta\n",
    "import investpy\n",
    "import time\n",
    "from stage import fullPrint"
   ]
  },
  {
   "cell_type": "code",
   "execution_count": null,
   "metadata": {},
   "outputs": [],
   "source": [
    "SectorDict = {\n",
    "    \"S&P 500 Energy\":\"XLE\",\n",
    "    \"S&P 500 Information Technology\":\"XLK\",\n",
    "    \"S&P 500 Telecom Services\":\"XLC\",\n",
    "    \"S&P 500 Consumer Staples\":\"XLP\",\n",
    "    \"S&P 500 Health Care\":\"XLV\",\n",
    "    \"S&P 500 Consumer Discretionary\":\"XLY\",\n",
    "    \"S&P 500 Industrials\":\"XLI\",\n",
    "    \"S&P 500 Utilities\":\"XLU\",\n",
    "    \"S&P 500 Materials\":\"XLB\",\n",
    "    \"S&P 500 Financials\":\"XLF\",\n",
    "    \"S&P 500 Real Estate\":\"XLRE\"}\n",
    "now = datetime.now()\n",
    "sectorDfList = []\n",
    "for sector in SectorDict.keys():\n",
    "    df = investpy.indices.get_index_historical_data(sector, 'United States', '01/01/2010', '01/01/2022', as_json=False, order='ascending', interval='Weekly')\n",
    "    df['sector'] = SectorDict[sector]\n",
    "    sectorDfList.append(df)\n",
    "    sectorDfList[-1].to_pickle(\"stockData/sectorCharts/\"+SectorDict[sector]+\".pkl\")\n",
    "    time.sleep(5)"
   ]
  },
  {
   "cell_type": "code",
   "execution_count": null,
   "metadata": {},
   "outputs": [],
   "source": [
    "weights = np.arange(1,31)\n",
    "sumWeights = np.sum(weights)\n",
    "spDf = investpy.indices.get_index_historical_data(\"S&P 500\", 'United States', '01/01/2002', '01/01/2022', as_json=False, order='ascending', interval='Weekly')\n",
    "def product(df,index):\n",
    "    if index < 30:\n",
    "        return 0\n",
    "    else:\n",
    "        return df.iloc[index]['Close']/df.iloc[index-30]['Close']\n",
    "def calculateSlope(df,index):\n",
    "    if index < 31:\n",
    "        return 0\n",
    "    else:\n",
    "        return df.iloc[index]['MA30']/df.iloc[index-1]['MA30']\n",
    "i = 0\n",
    "for df in sectorDfList:\n",
    "    df['MA30'] = df['Close'].rolling(window=30).apply(lambda x: np.sum(x)/30)\n",
    "    df['MA30Slope'] = df.apply(lambda x: calculateSlope(df,df.index.get_loc(x.name)),axis=1)\n",
    "    df['Volume'] = df['Volume'].replace(to_replace=0, method='ffill')\n",
    "    df['percent'] = df.apply(lambda x: product(df,df.index.get_loc(x.name)),axis=1)\n",
    "    spDf['percent'] = spDf.apply(lambda x: product(spDf,spDf.index.get_loc(x.name)),axis=1)\n",
    "    df['RS'] = df['percent'] - spDf['percent']\n",
    "    df.drop(['Open','High','Low','Close','Volume','percent','Currency'],axis=1)\n",
    "    df.to_pickle(\"stockData/sectorCharts/\"+df['sector'].iat[0]+\".pkl\")\n",
    "    i += 1"
   ]
  },
  {
   "cell_type": "code",
   "execution_count": null,
   "metadata": {},
   "outputs": [],
   "source": [
    "goodSectorDf = sectorDfList[0].drop(['Open','High','Low','Close','Currency','MA30','MA30Slope','RS','sector','percent','Volume'],axis=1)"
   ]
  },
  {
   "cell_type": "code",
   "execution_count": null,
   "metadata": {},
   "outputs": [],
   "source": [
    "goodSectorDf.index = sectorDfList[0].index\n",
    "fullPrint(sectorDfList[1][['MA30Slope','RS']])"
   ]
  },
  {
   "cell_type": "code",
   "execution_count": null,
   "metadata": {},
   "outputs": [],
   "source": [
    "goodSectorDf['Sectors'] = [[] for _ in range(len(goodSectorDf))]\n",
    "goodSectorDf['BadSectors'] = [[] for _ in range(len(goodSectorDf))]\n",
    "for date in sectorDfList[0].index:\n",
    "    listOfSector = []\n",
    "    listOfBadSector = []\n",
    "    for df in sectorDfList:\n",
    "        try:\n",
    "            if df.at[date,'MA30Slope'] > 1 or df.loc[date,'RS'] > 0.1:\n",
    "                if df.at[date,'Close'] > df.at[date,'MA30']:\n",
    "                    listOfSector.append(df.at[date,'sector'])\n",
    "            if (df.at[date,'MA30Slope'] < 0.995 and df.loc[date,'RS'] < 0) or df.at[date, 'MA30Slope'] < 0.975:\n",
    "                if df.at[date,'Close'] < df.at[date,'MA30']:\n",
    "                    listOfBadSector.append(df.at[date,'sector'])\n",
    "        except: \n",
    "            print(df.iloc[-1]['sector'])\n",
    "    goodSectorDf.at[date,'Sectors'] = set(listOfSector)\n",
    "    goodSectorDf.at[date,'BadSectors'] = set(listOfBadSector)"
   ]
  },
  {
   "cell_type": "code",
   "execution_count": null,
   "metadata": {},
   "outputs": [],
   "source": [
    "fullPrint(goodSectorDf)\n",
    "goodSectorDf.to_pickle('stockData/goodSector.pkl')"
   ]
  }
 ],
 "metadata": {
  "kernelspec": {
   "display_name": "Python 3.10.4 ('titanicM')",
   "language": "python",
   "name": "python3"
  },
  "language_info": {
   "codemirror_mode": {
    "name": "ipython",
    "version": 3
   },
   "file_extension": ".py",
   "mimetype": "text/x-python",
   "name": "python",
   "nbconvert_exporter": "python",
   "pygments_lexer": "ipython3",
   "version": "3.10.4"
  },
  "orig_nbformat": 4,
  "vscode": {
   "interpreter": {
    "hash": "ea40916e32696a4422b33cc9ebf8f980cef431e5c5c30edbf18af9732d339d23"
   }
  }
 },
 "nbformat": 4,
 "nbformat_minor": 2
}
