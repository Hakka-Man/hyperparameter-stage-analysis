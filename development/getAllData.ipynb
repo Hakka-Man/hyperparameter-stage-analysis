{
 "cells": [
  {
   "cell_type": "code",
   "execution_count": 2,
   "metadata": {},
   "outputs": [],
   "source": [
    "import pandas as pd\n",
    "import numpy as np\n",
    "\n",
    "stockList = pd.read_pickle(\"stockData/tickerList.pkl\")\n",
    "industryList = pd.read_pickle(\"stockData/industryList.pkl\")\n",
    "sectorList = pd.read_pickle(\"stockData/sectorList.pkl\")"
   ]
  },
  {
   "cell_type": "code",
   "execution_count": null,
   "metadata": {},
   "outputs": [],
   "source": [
    "weights = np.arange(1,31)\n",
    "sumWeights = np.sum(weights)\n",
    "def calculateSlopeOfTicker(df,index):\n",
    "    if index < 31:\n",
    "        return 0\n",
    "    else:\n",
    "        return df.iloc[index]['WMA30Slope']/df.iloc[index-1]['WMA30Slope']"
   ]
  },
  {
   "cell_type": "code",
   "execution_count": null,
   "metadata": {},
   "outputs": [],
   "source": [
    "def getData(path):\n",
    "    try:\n",
    "        df = pd.read_pickle(path)\n",
    "        if df['Close'].isnull().values.any():\n",
    "            print(path + \" close contains null\")\n",
    "        df['FiveYearHigh'] = df['Close'].rolling(window=260).max().shift(1).fillna(0)\n",
    "        df['WMA30'] = df['Close'].rolling(window=30).apply(lambda x: np.sum(weights*x)/sumWeights)\n",
    "        df['WMA30Slope'] = df.swifter.apply(lambda x: calculateSlopeOfTicker(df,df.indexm.get_loc(x.name)),axis=1)\n",
    "        df['Volume'] = df['Volume'].replace(to_replace=0, method='ffill')\n",
    "        df.to_pickle(path)\n",
    "    except:\n",
    "        print(path)"
   ]
  },
  {
   "cell_type": "code",
   "execution_count": null,
   "metadata": {},
   "outputs": [],
   "source": [
    "for stock in stockList:\n",
    "    getData(\"datasets/stockData/\"+stock+\".pkl\")\n",
    "for industry in industryList:\n",
    "    getData(\"stockData/industriesData/\"+industry[0]+\"/\"+industry[1]+\".pkl\")\n",
    "for sector in sectorList:\n",
    "    getData(\"datasets/sectorData/\"+sector+\".pkl\")"
   ]
  }
 ],
 "metadata": {
  "kernelspec": {
   "display_name": "Python 3.9.12 ('titanicM')",
   "language": "python",
   "name": "python3"
  },
  "language_info": {
   "codemirror_mode": {
    "name": "ipython",
    "version": 3
   },
   "file_extension": ".py",
   "mimetype": "text/x-python",
   "name": "python",
   "nbconvert_exporter": "python",
   "pygments_lexer": "ipython3",
   "version": "3.10.4"
  },
  "orig_nbformat": 4,
  "vscode": {
   "interpreter": {
    "hash": "ea40916e32696a4422b33cc9ebf8f980cef431e5c5c30edbf18af9732d339d23"
   }
  }
 },
 "nbformat": 4,
 "nbformat_minor": 2
}
