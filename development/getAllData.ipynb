{
 "cells": [
  {
   "cell_type": "code",
   "execution_count": 1,
   "metadata": {},
   "outputs": [],
   "source": [
    "import pandas as pd\n",
    "import numpy as np\n",
    "import swifter"
   ]
  },
  {
   "cell_type": "code",
   "execution_count": 2,
   "metadata": {},
   "outputs": [],
   "source": [
    "weights = np.arange(1,31)\n",
    "sumWeights = np.sum(weights)\n",
    "def calculateSlopeOfTicker(df,index):\n",
    "    if index < 31:\n",
    "        return 0\n",
    "    else:\n",
    "        return df.at[index, 'WMA30']/df.at[index-1, 'WMA30']\n",
    "\n",
    "def product(df,index):\n",
    "    if index < 30:\n",
    "        return 0\n",
    "    else:\n",
    "        return df.at[index,'Close']/df.at[index-30, 'Close']"
   ]
  },
  {
   "cell_type": "code",
   "execution_count": 3,
   "metadata": {},
   "outputs": [],
   "source": [
    "def getData(path, comparePath = \"\"):\n",
    "    try:\n",
    "        df = pd.read_feather(path)\n",
    "        if 'WMA30Slope' not in df.columns:\n",
    "            dfCompare = [] if comparePath == \"\" else pd.read_feather(comparePath)\n",
    "            if df['Close'].isnull().values.any():\n",
    "                print(path + \" close contains null\")\n",
    "            df['FiveYearHigh'] = df['Close'].rolling(window=260).max().shift(1).fillna(0)\n",
    "            df['WMA30'] = df['Close'].rolling(window=30).apply(lambda x: np.sum(weights*x)/sumWeights)\n",
    "            df['WMA30Slope'] = 0\n",
    "            df['WMA30Slope'] = df.swifter.apply(lambda x: calculateSlopeOfTicker(df,(x.name)),axis=1)\n",
    "            df['Volume'] = df['Volume'].replace(to_replace=0, method='ffill')\n",
    "            df['Percent'] = 0\n",
    "            df['Percent'] = df.swifter.apply(lambda x: product(df,(x.name)),axis=1)\n",
    "            df = df.iloc[260:]\n",
    "            if comparePath != \"\":\n",
    "                df['RS'] = df['Percent'] - dfCompare['Percent']\n",
    "            df.reset_index().to_feather(path)\n",
    "    except:\n",
    "        print(path)"
   ]
  },
  {
   "cell_type": "code",
   "execution_count": 4,
   "metadata": {},
   "outputs": [
    {
     "data": {
      "application/vnd.jupyter.widget-view+json": {
       "model_id": "47448cb0c40f43be89ea60347f92910f",
       "version_major": 2,
       "version_minor": 0
      },
      "text/plain": [
       "Pandas Apply:   0%|          | 0/431 [00:00<?, ?it/s]"
      ]
     },
     "metadata": {},
     "output_type": "display_data"
    },
    {
     "data": {
      "application/vnd.jupyter.widget-view+json": {
       "model_id": "5e7e08997a44413e9aa6f41f0bd4a8d1",
       "version_major": 2,
       "version_minor": 0
      },
      "text/plain": [
       "Pandas Apply:   0%|          | 0/431 [00:00<?, ?it/s]"
      ]
     },
     "metadata": {},
     "output_type": "display_data"
    },
    {
     "name": "stderr",
     "output_type": "stream",
     "text": [
      "/tmp/ipykernel_8304/2036736335.py:17: SettingWithCopyWarning: \n",
      "A value is trying to be set on a copy of a slice from a DataFrame.\n",
      "Try using .loc[row_indexer,col_indexer] = value instead\n",
      "\n",
      "See the caveats in the documentation: https://pandas.pydata.org/pandas-docs/stable/user_guide/indexing.html#returning-a-view-versus-a-copy\n",
      "  df['RS'] = df['Percent'] - dfCompare['Percent']\n"
     ]
    },
    {
     "data": {
      "application/vnd.jupyter.widget-view+json": {
       "model_id": "a881a69c34064edcbbac5c7d1d63c6a0",
       "version_major": 2,
       "version_minor": 0
      },
      "text/plain": [
       "Pandas Apply:   0%|          | 0/679 [00:00<?, ?it/s]"
      ]
     },
     "metadata": {},
     "output_type": "display_data"
    },
    {
     "data": {
      "application/vnd.jupyter.widget-view+json": {
       "model_id": "391011dbd41443779b6b51df650181f0",
       "version_major": 2,
       "version_minor": 0
      },
      "text/plain": [
       "Pandas Apply:   0%|          | 0/679 [00:00<?, ?it/s]"
      ]
     },
     "metadata": {},
     "output_type": "display_data"
    },
    {
     "name": "stderr",
     "output_type": "stream",
     "text": [
      "/tmp/ipykernel_8304/2036736335.py:17: SettingWithCopyWarning: \n",
      "A value is trying to be set on a copy of a slice from a DataFrame.\n",
      "Try using .loc[row_indexer,col_indexer] = value instead\n",
      "\n",
      "See the caveats in the documentation: https://pandas.pydata.org/pandas-docs/stable/user_guide/indexing.html#returning-a-view-versus-a-copy\n",
      "  df['RS'] = df['Percent'] - dfCompare['Percent']\n"
     ]
    },
    {
     "data": {
      "application/vnd.jupyter.widget-view+json": {
       "model_id": "9e818609f62541c084d940a3c6f0d978",
       "version_major": 2,
       "version_minor": 0
      },
      "text/plain": [
       "Pandas Apply:   0%|          | 0/651 [00:00<?, ?it/s]"
      ]
     },
     "metadata": {},
     "output_type": "display_data"
    },
    {
     "data": {
      "application/vnd.jupyter.widget-view+json": {
       "model_id": "d8903644820b4d11b6516ce3567f6c12",
       "version_major": 2,
       "version_minor": 0
      },
      "text/plain": [
       "Pandas Apply:   0%|          | 0/651 [00:00<?, ?it/s]"
      ]
     },
     "metadata": {},
     "output_type": "display_data"
    },
    {
     "name": "stderr",
     "output_type": "stream",
     "text": [
      "/tmp/ipykernel_8304/2036736335.py:17: SettingWithCopyWarning: \n",
      "A value is trying to be set on a copy of a slice from a DataFrame.\n",
      "Try using .loc[row_indexer,col_indexer] = value instead\n",
      "\n",
      "See the caveats in the documentation: https://pandas.pydata.org/pandas-docs/stable/user_guide/indexing.html#returning-a-view-versus-a-copy\n",
      "  df['RS'] = df['Percent'] - dfCompare['Percent']\n"
     ]
    },
    {
     "data": {
      "application/vnd.jupyter.widget-view+json": {
       "model_id": "1347eed7b423480292a153c0a026410a",
       "version_major": 2,
       "version_minor": 0
      },
      "text/plain": [
       "Pandas Apply:   0%|          | 0/679 [00:00<?, ?it/s]"
      ]
     },
     "metadata": {},
     "output_type": "display_data"
    },
    {
     "data": {
      "application/vnd.jupyter.widget-view+json": {
       "model_id": "5f807c1800f54b47b0a801bc766f2e2c",
       "version_major": 2,
       "version_minor": 0
      },
      "text/plain": [
       "Pandas Apply:   0%|          | 0/679 [00:00<?, ?it/s]"
      ]
     },
     "metadata": {},
     "output_type": "display_data"
    },
    {
     "name": "stderr",
     "output_type": "stream",
     "text": [
      "/tmp/ipykernel_8304/2036736335.py:17: SettingWithCopyWarning: \n",
      "A value is trying to be set on a copy of a slice from a DataFrame.\n",
      "Try using .loc[row_indexer,col_indexer] = value instead\n",
      "\n",
      "See the caveats in the documentation: https://pandas.pydata.org/pandas-docs/stable/user_guide/indexing.html#returning-a-view-versus-a-copy\n",
      "  df['RS'] = df['Percent'] - dfCompare['Percent']\n"
     ]
    },
    {
     "data": {
      "application/vnd.jupyter.widget-view+json": {
       "model_id": "e3fba1a0f61d4c2c8411bae11fbef0ab",
       "version_major": 2,
       "version_minor": 0
      },
      "text/plain": [
       "Pandas Apply:   0%|          | 0/257 [00:00<?, ?it/s]"
      ]
     },
     "metadata": {},
     "output_type": "display_data"
    },
    {
     "data": {
      "application/vnd.jupyter.widget-view+json": {
       "model_id": "ab6a8dad4b5347a09eb1431b7fde5575",
       "version_major": 2,
       "version_minor": 0
      },
      "text/plain": [
       "Pandas Apply:   0%|          | 0/257 [00:00<?, ?it/s]"
      ]
     },
     "metadata": {},
     "output_type": "display_data"
    },
    {
     "name": "stderr",
     "output_type": "stream",
     "text": [
      "/tmp/ipykernel_8304/2036736335.py:17: SettingWithCopyWarning: \n",
      "A value is trying to be set on a copy of a slice from a DataFrame.\n",
      "Try using .loc[row_indexer,col_indexer] = value instead\n",
      "\n",
      "See the caveats in the documentation: https://pandas.pydata.org/pandas-docs/stable/user_guide/indexing.html#returning-a-view-versus-a-copy\n",
      "  df['RS'] = df['Percent'] - dfCompare['Percent']\n"
     ]
    },
    {
     "data": {
      "application/vnd.jupyter.widget-view+json": {
       "model_id": "90c522026e5e417186435ed1345231ed",
       "version_major": 2,
       "version_minor": 0
      },
      "text/plain": [
       "Pandas Apply:   0%|          | 0/184 [00:00<?, ?it/s]"
      ]
     },
     "metadata": {},
     "output_type": "display_data"
    },
    {
     "data": {
      "application/vnd.jupyter.widget-view+json": {
       "model_id": "8ac0bd0443964c6ea4bc43730a35e918",
       "version_major": 2,
       "version_minor": 0
      },
      "text/plain": [
       "Pandas Apply:   0%|          | 0/184 [00:00<?, ?it/s]"
      ]
     },
     "metadata": {},
     "output_type": "display_data"
    },
    {
     "name": "stderr",
     "output_type": "stream",
     "text": [
      "/tmp/ipykernel_8304/2036736335.py:17: SettingWithCopyWarning: \n",
      "A value is trying to be set on a copy of a slice from a DataFrame.\n",
      "Try using .loc[row_indexer,col_indexer] = value instead\n",
      "\n",
      "See the caveats in the documentation: https://pandas.pydata.org/pandas-docs/stable/user_guide/indexing.html#returning-a-view-versus-a-copy\n",
      "  df['RS'] = df['Percent'] - dfCompare['Percent']\n"
     ]
    },
    {
     "data": {
      "application/vnd.jupyter.widget-view+json": {
       "model_id": "42be59a442e14b3187ad4c4ccd6e9d93",
       "version_major": 2,
       "version_minor": 0
      },
      "text/plain": [
       "Pandas Apply:   0%|          | 0/679 [00:00<?, ?it/s]"
      ]
     },
     "metadata": {},
     "output_type": "display_data"
    },
    {
     "data": {
      "application/vnd.jupyter.widget-view+json": {
       "model_id": "eb248ba4fecb4e83936faf746ccfdc94",
       "version_major": 2,
       "version_minor": 0
      },
      "text/plain": [
       "Pandas Apply:   0%|          | 0/679 [00:00<?, ?it/s]"
      ]
     },
     "metadata": {},
     "output_type": "display_data"
    },
    {
     "name": "stderr",
     "output_type": "stream",
     "text": [
      "/tmp/ipykernel_8304/2036736335.py:17: SettingWithCopyWarning: \n",
      "A value is trying to be set on a copy of a slice from a DataFrame.\n",
      "Try using .loc[row_indexer,col_indexer] = value instead\n",
      "\n",
      "See the caveats in the documentation: https://pandas.pydata.org/pandas-docs/stable/user_guide/indexing.html#returning-a-view-versus-a-copy\n",
      "  df['RS'] = df['Percent'] - dfCompare['Percent']\n"
     ]
    },
    {
     "data": {
      "application/vnd.jupyter.widget-view+json": {
       "model_id": "36824010248d4fc7a914689937b6ca28",
       "version_major": 2,
       "version_minor": 0
      },
      "text/plain": [
       "Pandas Apply:   0%|          | 0/437 [00:00<?, ?it/s]"
      ]
     },
     "metadata": {},
     "output_type": "display_data"
    },
    {
     "data": {
      "application/vnd.jupyter.widget-view+json": {
       "model_id": "c8c26e3e780f4ff8ae903055b0784d07",
       "version_major": 2,
       "version_minor": 0
      },
      "text/plain": [
       "Pandas Apply:   0%|          | 0/437 [00:00<?, ?it/s]"
      ]
     },
     "metadata": {},
     "output_type": "display_data"
    },
    {
     "name": "stderr",
     "output_type": "stream",
     "text": [
      "/tmp/ipykernel_8304/2036736335.py:17: SettingWithCopyWarning: \n",
      "A value is trying to be set on a copy of a slice from a DataFrame.\n",
      "Try using .loc[row_indexer,col_indexer] = value instead\n",
      "\n",
      "See the caveats in the documentation: https://pandas.pydata.org/pandas-docs/stable/user_guide/indexing.html#returning-a-view-versus-a-copy\n",
      "  df['RS'] = df['Percent'] - dfCompare['Percent']\n"
     ]
    },
    {
     "data": {
      "application/vnd.jupyter.widget-view+json": {
       "model_id": "5fa912dbffc044d385ea74d712290404",
       "version_major": 2,
       "version_minor": 0
      },
      "text/plain": [
       "Pandas Apply:   0%|          | 0/677 [00:00<?, ?it/s]"
      ]
     },
     "metadata": {},
     "output_type": "display_data"
    },
    {
     "data": {
      "application/vnd.jupyter.widget-view+json": {
       "model_id": "62b93a9a7b4d466c91c33bd45918c041",
       "version_major": 2,
       "version_minor": 0
      },
      "text/plain": [
       "Pandas Apply:   0%|          | 0/677 [00:00<?, ?it/s]"
      ]
     },
     "metadata": {},
     "output_type": "display_data"
    },
    {
     "name": "stderr",
     "output_type": "stream",
     "text": [
      "/tmp/ipykernel_8304/2036736335.py:17: SettingWithCopyWarning: \n",
      "A value is trying to be set on a copy of a slice from a DataFrame.\n",
      "Try using .loc[row_indexer,col_indexer] = value instead\n",
      "\n",
      "See the caveats in the documentation: https://pandas.pydata.org/pandas-docs/stable/user_guide/indexing.html#returning-a-view-versus-a-copy\n",
      "  df['RS'] = df['Percent'] - dfCompare['Percent']\n"
     ]
    },
    {
     "data": {
      "application/vnd.jupyter.widget-view+json": {
       "model_id": "4d78b017c7644dc5bc6c5efb5ffb8810",
       "version_major": 2,
       "version_minor": 0
      },
      "text/plain": [
       "Pandas Apply:   0%|          | 0/679 [00:00<?, ?it/s]"
      ]
     },
     "metadata": {},
     "output_type": "display_data"
    },
    {
     "data": {
      "application/vnd.jupyter.widget-view+json": {
       "model_id": "b0db13db325448e4940fc83003364480",
       "version_major": 2,
       "version_minor": 0
      },
      "text/plain": [
       "Pandas Apply:   0%|          | 0/679 [00:00<?, ?it/s]"
      ]
     },
     "metadata": {},
     "output_type": "display_data"
    },
    {
     "name": "stderr",
     "output_type": "stream",
     "text": [
      "/tmp/ipykernel_8304/2036736335.py:17: SettingWithCopyWarning: \n",
      "A value is trying to be set on a copy of a slice from a DataFrame.\n",
      "Try using .loc[row_indexer,col_indexer] = value instead\n",
      "\n",
      "See the caveats in the documentation: https://pandas.pydata.org/pandas-docs/stable/user_guide/indexing.html#returning-a-view-versus-a-copy\n",
      "  df['RS'] = df['Percent'] - dfCompare['Percent']\n"
     ]
    },
    {
     "data": {
      "application/vnd.jupyter.widget-view+json": {
       "model_id": "1340add28f2443a79e25a443e6cad7e1",
       "version_major": 2,
       "version_minor": 0
      },
      "text/plain": [
       "Pandas Apply:   0%|          | 0/190 [00:00<?, ?it/s]"
      ]
     },
     "metadata": {},
     "output_type": "display_data"
    },
    {
     "data": {
      "application/vnd.jupyter.widget-view+json": {
       "model_id": "33a108af5a7b47c2a0a32b054b3c1479",
       "version_major": 2,
       "version_minor": 0
      },
      "text/plain": [
       "Pandas Apply:   0%|          | 0/190 [00:00<?, ?it/s]"
      ]
     },
     "metadata": {},
     "output_type": "display_data"
    },
    {
     "name": "stderr",
     "output_type": "stream",
     "text": [
      "/tmp/ipykernel_8304/2036736335.py:17: SettingWithCopyWarning: \n",
      "A value is trying to be set on a copy of a slice from a DataFrame.\n",
      "Try using .loc[row_indexer,col_indexer] = value instead\n",
      "\n",
      "See the caveats in the documentation: https://pandas.pydata.org/pandas-docs/stable/user_guide/indexing.html#returning-a-view-versus-a-copy\n",
      "  df['RS'] = df['Percent'] - dfCompare['Percent']\n"
     ]
    },
    {
     "data": {
      "application/vnd.jupyter.widget-view+json": {
       "model_id": "2fc4de0744fd495098c8963eefaf589b",
       "version_major": 2,
       "version_minor": 0
      },
      "text/plain": [
       "Pandas Apply:   0%|          | 0/679 [00:00<?, ?it/s]"
      ]
     },
     "metadata": {},
     "output_type": "display_data"
    },
    {
     "data": {
      "application/vnd.jupyter.widget-view+json": {
       "model_id": "a1e9ba6a408a4524ab2b8a698b197643",
       "version_major": 2,
       "version_minor": 0
      },
      "text/plain": [
       "Pandas Apply:   0%|          | 0/679 [00:00<?, ?it/s]"
      ]
     },
     "metadata": {},
     "output_type": "display_data"
    },
    {
     "name": "stderr",
     "output_type": "stream",
     "text": [
      "/tmp/ipykernel_8304/2036736335.py:17: SettingWithCopyWarning: \n",
      "A value is trying to be set on a copy of a slice from a DataFrame.\n",
      "Try using .loc[row_indexer,col_indexer] = value instead\n",
      "\n",
      "See the caveats in the documentation: https://pandas.pydata.org/pandas-docs/stable/user_guide/indexing.html#returning-a-view-versus-a-copy\n",
      "  df['RS'] = df['Percent'] - dfCompare['Percent']\n"
     ]
    },
    {
     "data": {
      "application/vnd.jupyter.widget-view+json": {
       "model_id": "6d7dc82480fd49db8cb6c053505fe410",
       "version_major": 2,
       "version_minor": 0
      },
      "text/plain": [
       "Pandas Apply:   0%|          | 0/679 [00:00<?, ?it/s]"
      ]
     },
     "metadata": {},
     "output_type": "display_data"
    },
    {
     "data": {
      "application/vnd.jupyter.widget-view+json": {
       "model_id": "8e02a32717f34a21ae7daa26bf8add10",
       "version_major": 2,
       "version_minor": 0
      },
      "text/plain": [
       "Pandas Apply:   0%|          | 0/679 [00:00<?, ?it/s]"
      ]
     },
     "metadata": {},
     "output_type": "display_data"
    },
    {
     "name": "stderr",
     "output_type": "stream",
     "text": [
      "/tmp/ipykernel_8304/2036736335.py:17: SettingWithCopyWarning: \n",
      "A value is trying to be set on a copy of a slice from a DataFrame.\n",
      "Try using .loc[row_indexer,col_indexer] = value instead\n",
      "\n",
      "See the caveats in the documentation: https://pandas.pydata.org/pandas-docs/stable/user_guide/indexing.html#returning-a-view-versus-a-copy\n",
      "  df['RS'] = df['Percent'] - dfCompare['Percent']\n"
     ]
    },
    {
     "data": {
      "application/vnd.jupyter.widget-view+json": {
       "model_id": "98a25e5fe09143de9f5371f4d1c7e146",
       "version_major": 2,
       "version_minor": 0
      },
      "text/plain": [
       "Pandas Apply:   0%|          | 0/417 [00:00<?, ?it/s]"
      ]
     },
     "metadata": {},
     "output_type": "display_data"
    },
    {
     "data": {
      "application/vnd.jupyter.widget-view+json": {
       "model_id": "acba756947b241f2a4c6e66680ae0d62",
       "version_major": 2,
       "version_minor": 0
      },
      "text/plain": [
       "Pandas Apply:   0%|          | 0/417 [00:00<?, ?it/s]"
      ]
     },
     "metadata": {},
     "output_type": "display_data"
    },
    {
     "name": "stderr",
     "output_type": "stream",
     "text": [
      "/tmp/ipykernel_8304/2036736335.py:17: SettingWithCopyWarning: \n",
      "A value is trying to be set on a copy of a slice from a DataFrame.\n",
      "Try using .loc[row_indexer,col_indexer] = value instead\n",
      "\n",
      "See the caveats in the documentation: https://pandas.pydata.org/pandas-docs/stable/user_guide/indexing.html#returning-a-view-versus-a-copy\n",
      "  df['RS'] = df['Percent'] - dfCompare['Percent']\n"
     ]
    },
    {
     "data": {
      "application/vnd.jupyter.widget-view+json": {
       "model_id": "6f75fddacd0849bf8c68fe3c559dfe3e",
       "version_major": 2,
       "version_minor": 0
      },
      "text/plain": [
       "Pandas Apply:   0%|          | 0/679 [00:00<?, ?it/s]"
      ]
     },
     "metadata": {},
     "output_type": "display_data"
    },
    {
     "data": {
      "application/vnd.jupyter.widget-view+json": {
       "model_id": "74c83285b832441f9fbc1ba11bf87c9c",
       "version_major": 2,
       "version_minor": 0
      },
      "text/plain": [
       "Pandas Apply:   0%|          | 0/679 [00:00<?, ?it/s]"
      ]
     },
     "metadata": {},
     "output_type": "display_data"
    },
    {
     "name": "stderr",
     "output_type": "stream",
     "text": [
      "/tmp/ipykernel_8304/2036736335.py:17: SettingWithCopyWarning: \n",
      "A value is trying to be set on a copy of a slice from a DataFrame.\n",
      "Try using .loc[row_indexer,col_indexer] = value instead\n",
      "\n",
      "See the caveats in the documentation: https://pandas.pydata.org/pandas-docs/stable/user_guide/indexing.html#returning-a-view-versus-a-copy\n",
      "  df['RS'] = df['Percent'] - dfCompare['Percent']\n"
     ]
    },
    {
     "data": {
      "application/vnd.jupyter.widget-view+json": {
       "model_id": "151ee6fb6cae40d4a57f6d9f2f464674",
       "version_major": 2,
       "version_minor": 0
      },
      "text/plain": [
       "Pandas Apply:   0%|          | 0/276 [00:00<?, ?it/s]"
      ]
     },
     "metadata": {},
     "output_type": "display_data"
    },
    {
     "data": {
      "application/vnd.jupyter.widget-view+json": {
       "model_id": "e3a14c1179844c18bcaec5057292d7d0",
       "version_major": 2,
       "version_minor": 0
      },
      "text/plain": [
       "Pandas Apply:   0%|          | 0/276 [00:00<?, ?it/s]"
      ]
     },
     "metadata": {},
     "output_type": "display_data"
    },
    {
     "name": "stderr",
     "output_type": "stream",
     "text": [
      "/tmp/ipykernel_8304/2036736335.py:17: SettingWithCopyWarning: \n",
      "A value is trying to be set on a copy of a slice from a DataFrame.\n",
      "Try using .loc[row_indexer,col_indexer] = value instead\n",
      "\n",
      "See the caveats in the documentation: https://pandas.pydata.org/pandas-docs/stable/user_guide/indexing.html#returning-a-view-versus-a-copy\n",
      "  df['RS'] = df['Percent'] - dfCompare['Percent']\n"
     ]
    },
    {
     "data": {
      "application/vnd.jupyter.widget-view+json": {
       "model_id": "0b5dbfa332984a519c299a835353f5ad",
       "version_major": 2,
       "version_minor": 0
      },
      "text/plain": [
       "Pandas Apply:   0%|          | 0/341 [00:00<?, ?it/s]"
      ]
     },
     "metadata": {},
     "output_type": "display_data"
    },
    {
     "data": {
      "application/vnd.jupyter.widget-view+json": {
       "model_id": "c5d7a7618ec34d84abf85c66ff8a6d40",
       "version_major": 2,
       "version_minor": 0
      },
      "text/plain": [
       "Pandas Apply:   0%|          | 0/341 [00:00<?, ?it/s]"
      ]
     },
     "metadata": {},
     "output_type": "display_data"
    },
    {
     "name": "stderr",
     "output_type": "stream",
     "text": [
      "/tmp/ipykernel_8304/2036736335.py:17: SettingWithCopyWarning: \n",
      "A value is trying to be set on a copy of a slice from a DataFrame.\n",
      "Try using .loc[row_indexer,col_indexer] = value instead\n",
      "\n",
      "See the caveats in the documentation: https://pandas.pydata.org/pandas-docs/stable/user_guide/indexing.html#returning-a-view-versus-a-copy\n",
      "  df['RS'] = df['Percent'] - dfCompare['Percent']\n"
     ]
    },
    {
     "data": {
      "application/vnd.jupyter.widget-view+json": {
       "model_id": "be54936aa7d84178b9b98de5dd278c09",
       "version_major": 2,
       "version_minor": 0
      },
      "text/plain": [
       "Pandas Apply:   0%|          | 0/430 [00:00<?, ?it/s]"
      ]
     },
     "metadata": {},
     "output_type": "display_data"
    },
    {
     "data": {
      "application/vnd.jupyter.widget-view+json": {
       "model_id": "c7daac9187ec4007a747c381d0be5abf",
       "version_major": 2,
       "version_minor": 0
      },
      "text/plain": [
       "Pandas Apply:   0%|          | 0/430 [00:00<?, ?it/s]"
      ]
     },
     "metadata": {},
     "output_type": "display_data"
    },
    {
     "name": "stderr",
     "output_type": "stream",
     "text": [
      "/tmp/ipykernel_8304/2036736335.py:17: SettingWithCopyWarning: \n",
      "A value is trying to be set on a copy of a slice from a DataFrame.\n",
      "Try using .loc[row_indexer,col_indexer] = value instead\n",
      "\n",
      "See the caveats in the documentation: https://pandas.pydata.org/pandas-docs/stable/user_guide/indexing.html#returning-a-view-versus-a-copy\n",
      "  df['RS'] = df['Percent'] - dfCompare['Percent']\n"
     ]
    },
    {
     "data": {
      "application/vnd.jupyter.widget-view+json": {
       "model_id": "42bd26bd9d354ddea35180e7d9d86ac0",
       "version_major": 2,
       "version_minor": 0
      },
      "text/plain": [
       "Pandas Apply:   0%|          | 0/398 [00:00<?, ?it/s]"
      ]
     },
     "metadata": {},
     "output_type": "display_data"
    },
    {
     "data": {
      "application/vnd.jupyter.widget-view+json": {
       "model_id": "e4aeadbc102a4a33b64d2c32a439f821",
       "version_major": 2,
       "version_minor": 0
      },
      "text/plain": [
       "Pandas Apply:   0%|          | 0/398 [00:00<?, ?it/s]"
      ]
     },
     "metadata": {},
     "output_type": "display_data"
    },
    {
     "name": "stderr",
     "output_type": "stream",
     "text": [
      "/tmp/ipykernel_8304/2036736335.py:17: SettingWithCopyWarning: \n",
      "A value is trying to be set on a copy of a slice from a DataFrame.\n",
      "Try using .loc[row_indexer,col_indexer] = value instead\n",
      "\n",
      "See the caveats in the documentation: https://pandas.pydata.org/pandas-docs/stable/user_guide/indexing.html#returning-a-view-versus-a-copy\n",
      "  df['RS'] = df['Percent'] - dfCompare['Percent']\n"
     ]
    },
    {
     "data": {
      "application/vnd.jupyter.widget-view+json": {
       "model_id": "082c5451b122408d84127b784d5d1a26",
       "version_major": 2,
       "version_minor": 0
      },
      "text/plain": [
       "Pandas Apply:   0%|          | 0/421 [00:00<?, ?it/s]"
      ]
     },
     "metadata": {},
     "output_type": "display_data"
    },
    {
     "data": {
      "application/vnd.jupyter.widget-view+json": {
       "model_id": "0a6457d184c54129b4b7e46e988ac51a",
       "version_major": 2,
       "version_minor": 0
      },
      "text/plain": [
       "Pandas Apply:   0%|          | 0/421 [00:00<?, ?it/s]"
      ]
     },
     "metadata": {},
     "output_type": "display_data"
    },
    {
     "name": "stderr",
     "output_type": "stream",
     "text": [
      "/tmp/ipykernel_8304/2036736335.py:17: SettingWithCopyWarning: \n",
      "A value is trying to be set on a copy of a slice from a DataFrame.\n",
      "Try using .loc[row_indexer,col_indexer] = value instead\n",
      "\n",
      "See the caveats in the documentation: https://pandas.pydata.org/pandas-docs/stable/user_guide/indexing.html#returning-a-view-versus-a-copy\n",
      "  df['RS'] = df['Percent'] - dfCompare['Percent']\n"
     ]
    },
    {
     "data": {
      "application/vnd.jupyter.widget-view+json": {
       "model_id": "3bc093926f6249e48228515aa8b80bc0",
       "version_major": 2,
       "version_minor": 0
      },
      "text/plain": [
       "Pandas Apply:   0%|          | 0/137 [00:00<?, ?it/s]"
      ]
     },
     "metadata": {},
     "output_type": "display_data"
    },
    {
     "data": {
      "application/vnd.jupyter.widget-view+json": {
       "model_id": "694990ff91fc41ecbebb048a9b76e1db",
       "version_major": 2,
       "version_minor": 0
      },
      "text/plain": [
       "Pandas Apply:   0%|          | 0/137 [00:00<?, ?it/s]"
      ]
     },
     "metadata": {},
     "output_type": "display_data"
    },
    {
     "name": "stderr",
     "output_type": "stream",
     "text": [
      "/tmp/ipykernel_8304/2036736335.py:17: SettingWithCopyWarning: \n",
      "A value is trying to be set on a copy of a slice from a DataFrame.\n",
      "Try using .loc[row_indexer,col_indexer] = value instead\n",
      "\n",
      "See the caveats in the documentation: https://pandas.pydata.org/pandas-docs/stable/user_guide/indexing.html#returning-a-view-versus-a-copy\n",
      "  df['RS'] = df['Percent'] - dfCompare['Percent']\n"
     ]
    },
    {
     "data": {
      "application/vnd.jupyter.widget-view+json": {
       "model_id": "99f21c563dfb478594a85f7d05e5624c",
       "version_major": 2,
       "version_minor": 0
      },
      "text/plain": [
       "Pandas Apply:   0%|          | 0/679 [00:00<?, ?it/s]"
      ]
     },
     "metadata": {},
     "output_type": "display_data"
    },
    {
     "data": {
      "application/vnd.jupyter.widget-view+json": {
       "model_id": "b0625c6bf9ea47db95a6d604b8ad34db",
       "version_major": 2,
       "version_minor": 0
      },
      "text/plain": [
       "Pandas Apply:   0%|          | 0/679 [00:00<?, ?it/s]"
      ]
     },
     "metadata": {},
     "output_type": "display_data"
    },
    {
     "name": "stderr",
     "output_type": "stream",
     "text": [
      "/tmp/ipykernel_8304/2036736335.py:17: SettingWithCopyWarning: \n",
      "A value is trying to be set on a copy of a slice from a DataFrame.\n",
      "Try using .loc[row_indexer,col_indexer] = value instead\n",
      "\n",
      "See the caveats in the documentation: https://pandas.pydata.org/pandas-docs/stable/user_guide/indexing.html#returning-a-view-versus-a-copy\n",
      "  df['RS'] = df['Percent'] - dfCompare['Percent']\n"
     ]
    },
    {
     "data": {
      "application/vnd.jupyter.widget-view+json": {
       "model_id": "381a051f270e44bd8ab73e5b6568ee57",
       "version_major": 2,
       "version_minor": 0
      },
      "text/plain": [
       "Pandas Apply:   0%|          | 0/224 [00:00<?, ?it/s]"
      ]
     },
     "metadata": {},
     "output_type": "display_data"
    },
    {
     "data": {
      "application/vnd.jupyter.widget-view+json": {
       "model_id": "1d091b3ffa6e49b5aa4ae88a546d4ab0",
       "version_major": 2,
       "version_minor": 0
      },
      "text/plain": [
       "Pandas Apply:   0%|          | 0/224 [00:00<?, ?it/s]"
      ]
     },
     "metadata": {},
     "output_type": "display_data"
    },
    {
     "name": "stderr",
     "output_type": "stream",
     "text": [
      "/tmp/ipykernel_8304/2036736335.py:17: SettingWithCopyWarning: \n",
      "A value is trying to be set on a copy of a slice from a DataFrame.\n",
      "Try using .loc[row_indexer,col_indexer] = value instead\n",
      "\n",
      "See the caveats in the documentation: https://pandas.pydata.org/pandas-docs/stable/user_guide/indexing.html#returning-a-view-versus-a-copy\n",
      "  df['RS'] = df['Percent'] - dfCompare['Percent']\n"
     ]
    },
    {
     "data": {
      "application/vnd.jupyter.widget-view+json": {
       "model_id": "d8fdb5c2d05e4df781bdf326df8bfe46",
       "version_major": 2,
       "version_minor": 0
      },
      "text/plain": [
       "Pandas Apply:   0%|          | 0/679 [00:00<?, ?it/s]"
      ]
     },
     "metadata": {},
     "output_type": "display_data"
    },
    {
     "data": {
      "application/vnd.jupyter.widget-view+json": {
       "model_id": "d9e93c22eb834daabf5ca447c03aef30",
       "version_major": 2,
       "version_minor": 0
      },
      "text/plain": [
       "Pandas Apply:   0%|          | 0/679 [00:00<?, ?it/s]"
      ]
     },
     "metadata": {},
     "output_type": "display_data"
    },
    {
     "name": "stderr",
     "output_type": "stream",
     "text": [
      "/tmp/ipykernel_8304/2036736335.py:17: SettingWithCopyWarning: \n",
      "A value is trying to be set on a copy of a slice from a DataFrame.\n",
      "Try using .loc[row_indexer,col_indexer] = value instead\n",
      "\n",
      "See the caveats in the documentation: https://pandas.pydata.org/pandas-docs/stable/user_guide/indexing.html#returning-a-view-versus-a-copy\n",
      "  df['RS'] = df['Percent'] - dfCompare['Percent']\n"
     ]
    },
    {
     "data": {
      "application/vnd.jupyter.widget-view+json": {
       "model_id": "d39c1df73ce942f3b8f3426d6d4a4668",
       "version_major": 2,
       "version_minor": 0
      },
      "text/plain": [
       "Pandas Apply:   0%|          | 0/419 [00:00<?, ?it/s]"
      ]
     },
     "metadata": {},
     "output_type": "display_data"
    },
    {
     "data": {
      "application/vnd.jupyter.widget-view+json": {
       "model_id": "9b79c9dfa94b4352881e75d6684ef4e4",
       "version_major": 2,
       "version_minor": 0
      },
      "text/plain": [
       "Pandas Apply:   0%|          | 0/419 [00:00<?, ?it/s]"
      ]
     },
     "metadata": {},
     "output_type": "display_data"
    },
    {
     "name": "stderr",
     "output_type": "stream",
     "text": [
      "/tmp/ipykernel_8304/2036736335.py:17: SettingWithCopyWarning: \n",
      "A value is trying to be set on a copy of a slice from a DataFrame.\n",
      "Try using .loc[row_indexer,col_indexer] = value instead\n",
      "\n",
      "See the caveats in the documentation: https://pandas.pydata.org/pandas-docs/stable/user_guide/indexing.html#returning-a-view-versus-a-copy\n",
      "  df['RS'] = df['Percent'] - dfCompare['Percent']\n"
     ]
    },
    {
     "data": {
      "application/vnd.jupyter.widget-view+json": {
       "model_id": "44de7b7c471f4235aa24f284fb083f6b",
       "version_major": 2,
       "version_minor": 0
      },
      "text/plain": [
       "Pandas Apply:   0%|          | 0/679 [00:00<?, ?it/s]"
      ]
     },
     "metadata": {},
     "output_type": "display_data"
    },
    {
     "data": {
      "application/vnd.jupyter.widget-view+json": {
       "model_id": "0a9554d2d3be4cad8b5cf37bc75cec5f",
       "version_major": 2,
       "version_minor": 0
      },
      "text/plain": [
       "Pandas Apply:   0%|          | 0/679 [00:00<?, ?it/s]"
      ]
     },
     "metadata": {},
     "output_type": "display_data"
    },
    {
     "name": "stderr",
     "output_type": "stream",
     "text": [
      "/tmp/ipykernel_8304/2036736335.py:17: SettingWithCopyWarning: \n",
      "A value is trying to be set on a copy of a slice from a DataFrame.\n",
      "Try using .loc[row_indexer,col_indexer] = value instead\n",
      "\n",
      "See the caveats in the documentation: https://pandas.pydata.org/pandas-docs/stable/user_guide/indexing.html#returning-a-view-versus-a-copy\n",
      "  df['RS'] = df['Percent'] - dfCompare['Percent']\n"
     ]
    },
    {
     "data": {
      "application/vnd.jupyter.widget-view+json": {
       "model_id": "89b13496d4c745328b097bb0d142d6ff",
       "version_major": 2,
       "version_minor": 0
      },
      "text/plain": [
       "Pandas Apply:   0%|          | 0/677 [00:00<?, ?it/s]"
      ]
     },
     "metadata": {},
     "output_type": "display_data"
    },
    {
     "data": {
      "application/vnd.jupyter.widget-view+json": {
       "model_id": "b0b6a9a3e0e245a49ac7748dd13b5581",
       "version_major": 2,
       "version_minor": 0
      },
      "text/plain": [
       "Pandas Apply:   0%|          | 0/677 [00:00<?, ?it/s]"
      ]
     },
     "metadata": {},
     "output_type": "display_data"
    },
    {
     "name": "stderr",
     "output_type": "stream",
     "text": [
      "/tmp/ipykernel_8304/2036736335.py:17: SettingWithCopyWarning: \n",
      "A value is trying to be set on a copy of a slice from a DataFrame.\n",
      "Try using .loc[row_indexer,col_indexer] = value instead\n",
      "\n",
      "See the caveats in the documentation: https://pandas.pydata.org/pandas-docs/stable/user_guide/indexing.html#returning-a-view-versus-a-copy\n",
      "  df['RS'] = df['Percent'] - dfCompare['Percent']\n"
     ]
    },
    {
     "data": {
      "application/vnd.jupyter.widget-view+json": {
       "model_id": "462cadecc6fa492796f4f7fa7b91b92f",
       "version_major": 2,
       "version_minor": 0
      },
      "text/plain": [
       "Pandas Apply:   0%|          | 0/679 [00:00<?, ?it/s]"
      ]
     },
     "metadata": {},
     "output_type": "display_data"
    },
    {
     "data": {
      "application/vnd.jupyter.widget-view+json": {
       "model_id": "5c2d268ebbeb4cf4be56d95ac38db140",
       "version_major": 2,
       "version_minor": 0
      },
      "text/plain": [
       "Pandas Apply:   0%|          | 0/679 [00:00<?, ?it/s]"
      ]
     },
     "metadata": {},
     "output_type": "display_data"
    },
    {
     "name": "stderr",
     "output_type": "stream",
     "text": [
      "/tmp/ipykernel_8304/2036736335.py:17: SettingWithCopyWarning: \n",
      "A value is trying to be set on a copy of a slice from a DataFrame.\n",
      "Try using .loc[row_indexer,col_indexer] = value instead\n",
      "\n",
      "See the caveats in the documentation: https://pandas.pydata.org/pandas-docs/stable/user_guide/indexing.html#returning-a-view-versus-a-copy\n",
      "  df['RS'] = df['Percent'] - dfCompare['Percent']\n"
     ]
    },
    {
     "data": {
      "application/vnd.jupyter.widget-view+json": {
       "model_id": "e6c31d53932a4809b5afa532de273fa2",
       "version_major": 2,
       "version_minor": 0
      },
      "text/plain": [
       "Pandas Apply:   0%|          | 0/679 [00:00<?, ?it/s]"
      ]
     },
     "metadata": {},
     "output_type": "display_data"
    },
    {
     "data": {
      "application/vnd.jupyter.widget-view+json": {
       "model_id": "e66f764a94e940818234a176d629daae",
       "version_major": 2,
       "version_minor": 0
      },
      "text/plain": [
       "Pandas Apply:   0%|          | 0/679 [00:00<?, ?it/s]"
      ]
     },
     "metadata": {},
     "output_type": "display_data"
    },
    {
     "name": "stderr",
     "output_type": "stream",
     "text": [
      "/tmp/ipykernel_8304/2036736335.py:17: SettingWithCopyWarning: \n",
      "A value is trying to be set on a copy of a slice from a DataFrame.\n",
      "Try using .loc[row_indexer,col_indexer] = value instead\n",
      "\n",
      "See the caveats in the documentation: https://pandas.pydata.org/pandas-docs/stable/user_guide/indexing.html#returning-a-view-versus-a-copy\n",
      "  df['RS'] = df['Percent'] - dfCompare['Percent']\n"
     ]
    },
    {
     "data": {
      "application/vnd.jupyter.widget-view+json": {
       "model_id": "e4b883929cfe4538995bd1419136e9de",
       "version_major": 2,
       "version_minor": 0
      },
      "text/plain": [
       "Pandas Apply:   0%|          | 0/679 [00:00<?, ?it/s]"
      ]
     },
     "metadata": {},
     "output_type": "display_data"
    },
    {
     "data": {
      "application/vnd.jupyter.widget-view+json": {
       "model_id": "d19c995e0088407d9e110935e62dae83",
       "version_major": 2,
       "version_minor": 0
      },
      "text/plain": [
       "Pandas Apply:   0%|          | 0/679 [00:00<?, ?it/s]"
      ]
     },
     "metadata": {},
     "output_type": "display_data"
    },
    {
     "name": "stderr",
     "output_type": "stream",
     "text": [
      "/tmp/ipykernel_8304/2036736335.py:17: SettingWithCopyWarning: \n",
      "A value is trying to be set on a copy of a slice from a DataFrame.\n",
      "Try using .loc[row_indexer,col_indexer] = value instead\n",
      "\n",
      "See the caveats in the documentation: https://pandas.pydata.org/pandas-docs/stable/user_guide/indexing.html#returning-a-view-versus-a-copy\n",
      "  df['RS'] = df['Percent'] - dfCompare['Percent']\n"
     ]
    },
    {
     "data": {
      "application/vnd.jupyter.widget-view+json": {
       "model_id": "b722f7b4b420473595dacc5106b85140",
       "version_major": 2,
       "version_minor": 0
      },
      "text/plain": [
       "Pandas Apply:   0%|          | 0/679 [00:00<?, ?it/s]"
      ]
     },
     "metadata": {},
     "output_type": "display_data"
    },
    {
     "data": {
      "application/vnd.jupyter.widget-view+json": {
       "model_id": "38c0d958e5584deb90c6e94d348f3310",
       "version_major": 2,
       "version_minor": 0
      },
      "text/plain": [
       "Pandas Apply:   0%|          | 0/679 [00:00<?, ?it/s]"
      ]
     },
     "metadata": {},
     "output_type": "display_data"
    },
    {
     "name": "stderr",
     "output_type": "stream",
     "text": [
      "/tmp/ipykernel_8304/2036736335.py:17: SettingWithCopyWarning: \n",
      "A value is trying to be set on a copy of a slice from a DataFrame.\n",
      "Try using .loc[row_indexer,col_indexer] = value instead\n",
      "\n",
      "See the caveats in the documentation: https://pandas.pydata.org/pandas-docs/stable/user_guide/indexing.html#returning-a-view-versus-a-copy\n",
      "  df['RS'] = df['Percent'] - dfCompare['Percent']\n"
     ]
    },
    {
     "data": {
      "application/vnd.jupyter.widget-view+json": {
       "model_id": "f5f9ec7904d7418588d6db42485a89cc",
       "version_major": 2,
       "version_minor": 0
      },
      "text/plain": [
       "Pandas Apply:   0%|          | 0/480 [00:00<?, ?it/s]"
      ]
     },
     "metadata": {},
     "output_type": "display_data"
    },
    {
     "data": {
      "application/vnd.jupyter.widget-view+json": {
       "model_id": "30aaf38e3d6c4b4fbc37253246d6d9f5",
       "version_major": 2,
       "version_minor": 0
      },
      "text/plain": [
       "Pandas Apply:   0%|          | 0/480 [00:00<?, ?it/s]"
      ]
     },
     "metadata": {},
     "output_type": "display_data"
    },
    {
     "name": "stderr",
     "output_type": "stream",
     "text": [
      "/tmp/ipykernel_8304/2036736335.py:17: SettingWithCopyWarning: \n",
      "A value is trying to be set on a copy of a slice from a DataFrame.\n",
      "Try using .loc[row_indexer,col_indexer] = value instead\n",
      "\n",
      "See the caveats in the documentation: https://pandas.pydata.org/pandas-docs/stable/user_guide/indexing.html#returning-a-view-versus-a-copy\n",
      "  df['RS'] = df['Percent'] - dfCompare['Percent']\n"
     ]
    },
    {
     "data": {
      "application/vnd.jupyter.widget-view+json": {
       "model_id": "ca390902e0e54d52b01298857025f01b",
       "version_major": 2,
       "version_minor": 0
      },
      "text/plain": [
       "Pandas Apply:   0%|          | 0/317 [00:00<?, ?it/s]"
      ]
     },
     "metadata": {},
     "output_type": "display_data"
    },
    {
     "data": {
      "application/vnd.jupyter.widget-view+json": {
       "model_id": "e27762defd0a4cf9a7f03d4a778fb107",
       "version_major": 2,
       "version_minor": 0
      },
      "text/plain": [
       "Pandas Apply:   0%|          | 0/317 [00:00<?, ?it/s]"
      ]
     },
     "metadata": {},
     "output_type": "display_data"
    },
    {
     "name": "stderr",
     "output_type": "stream",
     "text": [
      "/tmp/ipykernel_8304/2036736335.py:17: SettingWithCopyWarning: \n",
      "A value is trying to be set on a copy of a slice from a DataFrame.\n",
      "Try using .loc[row_indexer,col_indexer] = value instead\n",
      "\n",
      "See the caveats in the documentation: https://pandas.pydata.org/pandas-docs/stable/user_guide/indexing.html#returning-a-view-versus-a-copy\n",
      "  df['RS'] = df['Percent'] - dfCompare['Percent']\n"
     ]
    },
    {
     "data": {
      "application/vnd.jupyter.widget-view+json": {
       "model_id": "a878f242bee4421e801459a147a54d8f",
       "version_major": 2,
       "version_minor": 0
      },
      "text/plain": [
       "Pandas Apply:   0%|          | 0/398 [00:00<?, ?it/s]"
      ]
     },
     "metadata": {},
     "output_type": "display_data"
    },
    {
     "data": {
      "application/vnd.jupyter.widget-view+json": {
       "model_id": "891a93990ddc40a8a0855e4785968ed8",
       "version_major": 2,
       "version_minor": 0
      },
      "text/plain": [
       "Pandas Apply:   0%|          | 0/398 [00:00<?, ?it/s]"
      ]
     },
     "metadata": {},
     "output_type": "display_data"
    },
    {
     "name": "stderr",
     "output_type": "stream",
     "text": [
      "/tmp/ipykernel_8304/2036736335.py:17: SettingWithCopyWarning: \n",
      "A value is trying to be set on a copy of a slice from a DataFrame.\n",
      "Try using .loc[row_indexer,col_indexer] = value instead\n",
      "\n",
      "See the caveats in the documentation: https://pandas.pydata.org/pandas-docs/stable/user_guide/indexing.html#returning-a-view-versus-a-copy\n",
      "  df['RS'] = df['Percent'] - dfCompare['Percent']\n"
     ]
    },
    {
     "data": {
      "application/vnd.jupyter.widget-view+json": {
       "model_id": "46c51dbb04c44ae881c70c7346a9ca72",
       "version_major": 2,
       "version_minor": 0
      },
      "text/plain": [
       "Pandas Apply:   0%|          | 0/679 [00:00<?, ?it/s]"
      ]
     },
     "metadata": {},
     "output_type": "display_data"
    },
    {
     "data": {
      "application/vnd.jupyter.widget-view+json": {
       "model_id": "f376d492930b45878f09f732b0acee8e",
       "version_major": 2,
       "version_minor": 0
      },
      "text/plain": [
       "Pandas Apply:   0%|          | 0/679 [00:00<?, ?it/s]"
      ]
     },
     "metadata": {},
     "output_type": "display_data"
    },
    {
     "name": "stderr",
     "output_type": "stream",
     "text": [
      "/tmp/ipykernel_8304/2036736335.py:17: SettingWithCopyWarning: \n",
      "A value is trying to be set on a copy of a slice from a DataFrame.\n",
      "Try using .loc[row_indexer,col_indexer] = value instead\n",
      "\n",
      "See the caveats in the documentation: https://pandas.pydata.org/pandas-docs/stable/user_guide/indexing.html#returning-a-view-versus-a-copy\n",
      "  df['RS'] = df['Percent'] - dfCompare['Percent']\n"
     ]
    },
    {
     "data": {
      "application/vnd.jupyter.widget-view+json": {
       "model_id": "99c154fcec71485486142cc29e5800a8",
       "version_major": 2,
       "version_minor": 0
      },
      "text/plain": [
       "Pandas Apply:   0%|          | 0/268 [00:00<?, ?it/s]"
      ]
     },
     "metadata": {},
     "output_type": "display_data"
    },
    {
     "data": {
      "application/vnd.jupyter.widget-view+json": {
       "model_id": "a961274c93134ae9b68b5cb7234808d1",
       "version_major": 2,
       "version_minor": 0
      },
      "text/plain": [
       "Pandas Apply:   0%|          | 0/268 [00:00<?, ?it/s]"
      ]
     },
     "metadata": {},
     "output_type": "display_data"
    },
    {
     "name": "stderr",
     "output_type": "stream",
     "text": [
      "/tmp/ipykernel_8304/2036736335.py:17: SettingWithCopyWarning: \n",
      "A value is trying to be set on a copy of a slice from a DataFrame.\n",
      "Try using .loc[row_indexer,col_indexer] = value instead\n",
      "\n",
      "See the caveats in the documentation: https://pandas.pydata.org/pandas-docs/stable/user_guide/indexing.html#returning-a-view-versus-a-copy\n",
      "  df['RS'] = df['Percent'] - dfCompare['Percent']\n"
     ]
    },
    {
     "data": {
      "application/vnd.jupyter.widget-view+json": {
       "model_id": "d24611c1e2d541188b71d9075da829fe",
       "version_major": 2,
       "version_minor": 0
      },
      "text/plain": [
       "Pandas Apply:   0%|          | 0/679 [00:00<?, ?it/s]"
      ]
     },
     "metadata": {},
     "output_type": "display_data"
    },
    {
     "data": {
      "application/vnd.jupyter.widget-view+json": {
       "model_id": "b776e45aa7c047f5b73243edf004f2c8",
       "version_major": 2,
       "version_minor": 0
      },
      "text/plain": [
       "Pandas Apply:   0%|          | 0/679 [00:00<?, ?it/s]"
      ]
     },
     "metadata": {},
     "output_type": "display_data"
    },
    {
     "name": "stderr",
     "output_type": "stream",
     "text": [
      "/tmp/ipykernel_8304/2036736335.py:17: SettingWithCopyWarning: \n",
      "A value is trying to be set on a copy of a slice from a DataFrame.\n",
      "Try using .loc[row_indexer,col_indexer] = value instead\n",
      "\n",
      "See the caveats in the documentation: https://pandas.pydata.org/pandas-docs/stable/user_guide/indexing.html#returning-a-view-versus-a-copy\n",
      "  df['RS'] = df['Percent'] - dfCompare['Percent']\n"
     ]
    },
    {
     "data": {
      "application/vnd.jupyter.widget-view+json": {
       "model_id": "94c335ce37f04f0faf4d956648639a7c",
       "version_major": 2,
       "version_minor": 0
      },
      "text/plain": [
       "Pandas Apply:   0%|          | 0/679 [00:00<?, ?it/s]"
      ]
     },
     "metadata": {},
     "output_type": "display_data"
    },
    {
     "data": {
      "application/vnd.jupyter.widget-view+json": {
       "model_id": "2125a817abf94341a884ebcc31d82fed",
       "version_major": 2,
       "version_minor": 0
      },
      "text/plain": [
       "Pandas Apply:   0%|          | 0/679 [00:00<?, ?it/s]"
      ]
     },
     "metadata": {},
     "output_type": "display_data"
    },
    {
     "name": "stderr",
     "output_type": "stream",
     "text": [
      "/tmp/ipykernel_8304/2036736335.py:17: SettingWithCopyWarning: \n",
      "A value is trying to be set on a copy of a slice from a DataFrame.\n",
      "Try using .loc[row_indexer,col_indexer] = value instead\n",
      "\n",
      "See the caveats in the documentation: https://pandas.pydata.org/pandas-docs/stable/user_guide/indexing.html#returning-a-view-versus-a-copy\n",
      "  df['RS'] = df['Percent'] - dfCompare['Percent']\n"
     ]
    },
    {
     "data": {
      "application/vnd.jupyter.widget-view+json": {
       "model_id": "ac9089b6b63840f9a9fdc1a827f52606",
       "version_major": 2,
       "version_minor": 0
      },
      "text/plain": [
       "Pandas Apply:   0%|          | 0/238 [00:00<?, ?it/s]"
      ]
     },
     "metadata": {},
     "output_type": "display_data"
    },
    {
     "data": {
      "application/vnd.jupyter.widget-view+json": {
       "model_id": "c396fb218a21491c8dba6bfb0ab7d715",
       "version_major": 2,
       "version_minor": 0
      },
      "text/plain": [
       "Pandas Apply:   0%|          | 0/238 [00:00<?, ?it/s]"
      ]
     },
     "metadata": {},
     "output_type": "display_data"
    },
    {
     "name": "stderr",
     "output_type": "stream",
     "text": [
      "/tmp/ipykernel_8304/2036736335.py:17: SettingWithCopyWarning: \n",
      "A value is trying to be set on a copy of a slice from a DataFrame.\n",
      "Try using .loc[row_indexer,col_indexer] = value instead\n",
      "\n",
      "See the caveats in the documentation: https://pandas.pydata.org/pandas-docs/stable/user_guide/indexing.html#returning-a-view-versus-a-copy\n",
      "  df['RS'] = df['Percent'] - dfCompare['Percent']\n"
     ]
    },
    {
     "data": {
      "application/vnd.jupyter.widget-view+json": {
       "model_id": "56a31aa8f1a648b98efdc5b50ba5d703",
       "version_major": 2,
       "version_minor": 0
      },
      "text/plain": [
       "Pandas Apply:   0%|          | 0/678 [00:00<?, ?it/s]"
      ]
     },
     "metadata": {},
     "output_type": "display_data"
    },
    {
     "data": {
      "application/vnd.jupyter.widget-view+json": {
       "model_id": "6a382c030f2e4ec3bbef270d64c8df11",
       "version_major": 2,
       "version_minor": 0
      },
      "text/plain": [
       "Pandas Apply:   0%|          | 0/678 [00:00<?, ?it/s]"
      ]
     },
     "metadata": {},
     "output_type": "display_data"
    },
    {
     "name": "stderr",
     "output_type": "stream",
     "text": [
      "/tmp/ipykernel_8304/2036736335.py:17: SettingWithCopyWarning: \n",
      "A value is trying to be set on a copy of a slice from a DataFrame.\n",
      "Try using .loc[row_indexer,col_indexer] = value instead\n",
      "\n",
      "See the caveats in the documentation: https://pandas.pydata.org/pandas-docs/stable/user_guide/indexing.html#returning-a-view-versus-a-copy\n",
      "  df['RS'] = df['Percent'] - dfCompare['Percent']\n"
     ]
    },
    {
     "data": {
      "application/vnd.jupyter.widget-view+json": {
       "model_id": "0621072525714bb38dc1fc75d17a2678",
       "version_major": 2,
       "version_minor": 0
      },
      "text/plain": [
       "Pandas Apply:   0%|          | 0/138 [00:00<?, ?it/s]"
      ]
     },
     "metadata": {},
     "output_type": "display_data"
    },
    {
     "data": {
      "application/vnd.jupyter.widget-view+json": {
       "model_id": "8bd001f20b074827b59ed368188a6de8",
       "version_major": 2,
       "version_minor": 0
      },
      "text/plain": [
       "Pandas Apply:   0%|          | 0/138 [00:00<?, ?it/s]"
      ]
     },
     "metadata": {},
     "output_type": "display_data"
    },
    {
     "name": "stderr",
     "output_type": "stream",
     "text": [
      "/tmp/ipykernel_8304/2036736335.py:17: SettingWithCopyWarning: \n",
      "A value is trying to be set on a copy of a slice from a DataFrame.\n",
      "Try using .loc[row_indexer,col_indexer] = value instead\n",
      "\n",
      "See the caveats in the documentation: https://pandas.pydata.org/pandas-docs/stable/user_guide/indexing.html#returning-a-view-versus-a-copy\n",
      "  df['RS'] = df['Percent'] - dfCompare['Percent']\n"
     ]
    },
    {
     "data": {
      "application/vnd.jupyter.widget-view+json": {
       "model_id": "b9f3e960b29546a29bf3c3670f23960c",
       "version_major": 2,
       "version_minor": 0
      },
      "text/plain": [
       "Pandas Apply:   0%|          | 0/645 [00:00<?, ?it/s]"
      ]
     },
     "metadata": {},
     "output_type": "display_data"
    },
    {
     "data": {
      "application/vnd.jupyter.widget-view+json": {
       "model_id": "32371e9d381341cfb97610fed55dd798",
       "version_major": 2,
       "version_minor": 0
      },
      "text/plain": [
       "Pandas Apply:   0%|          | 0/645 [00:00<?, ?it/s]"
      ]
     },
     "metadata": {},
     "output_type": "display_data"
    },
    {
     "name": "stderr",
     "output_type": "stream",
     "text": [
      "/tmp/ipykernel_8304/2036736335.py:17: SettingWithCopyWarning: \n",
      "A value is trying to be set on a copy of a slice from a DataFrame.\n",
      "Try using .loc[row_indexer,col_indexer] = value instead\n",
      "\n",
      "See the caveats in the documentation: https://pandas.pydata.org/pandas-docs/stable/user_guide/indexing.html#returning-a-view-versus-a-copy\n",
      "  df['RS'] = df['Percent'] - dfCompare['Percent']\n"
     ]
    },
    {
     "data": {
      "application/vnd.jupyter.widget-view+json": {
       "model_id": "4e2366dd46434db38438a65eaca4313d",
       "version_major": 2,
       "version_minor": 0
      },
      "text/plain": [
       "Pandas Apply:   0%|          | 0/377 [00:00<?, ?it/s]"
      ]
     },
     "metadata": {},
     "output_type": "display_data"
    },
    {
     "data": {
      "application/vnd.jupyter.widget-view+json": {
       "model_id": "0200ca45fb9042a398544f019e17d7f4",
       "version_major": 2,
       "version_minor": 0
      },
      "text/plain": [
       "Pandas Apply:   0%|          | 0/377 [00:00<?, ?it/s]"
      ]
     },
     "metadata": {},
     "output_type": "display_data"
    },
    {
     "name": "stderr",
     "output_type": "stream",
     "text": [
      "/tmp/ipykernel_8304/2036736335.py:17: SettingWithCopyWarning: \n",
      "A value is trying to be set on a copy of a slice from a DataFrame.\n",
      "Try using .loc[row_indexer,col_indexer] = value instead\n",
      "\n",
      "See the caveats in the documentation: https://pandas.pydata.org/pandas-docs/stable/user_guide/indexing.html#returning-a-view-versus-a-copy\n",
      "  df['RS'] = df['Percent'] - dfCompare['Percent']\n"
     ]
    },
    {
     "data": {
      "application/vnd.jupyter.widget-view+json": {
       "model_id": "67ec71f347f1427581d6f3e88e63611c",
       "version_major": 2,
       "version_minor": 0
      },
      "text/plain": [
       "Pandas Apply:   0%|          | 0/412 [00:00<?, ?it/s]"
      ]
     },
     "metadata": {},
     "output_type": "display_data"
    },
    {
     "data": {
      "application/vnd.jupyter.widget-view+json": {
       "model_id": "b2341a4ad5b7489d9bd7d49b69f84373",
       "version_major": 2,
       "version_minor": 0
      },
      "text/plain": [
       "Pandas Apply:   0%|          | 0/412 [00:00<?, ?it/s]"
      ]
     },
     "metadata": {},
     "output_type": "display_data"
    },
    {
     "name": "stderr",
     "output_type": "stream",
     "text": [
      "/tmp/ipykernel_8304/2036736335.py:17: SettingWithCopyWarning: \n",
      "A value is trying to be set on a copy of a slice from a DataFrame.\n",
      "Try using .loc[row_indexer,col_indexer] = value instead\n",
      "\n",
      "See the caveats in the documentation: https://pandas.pydata.org/pandas-docs/stable/user_guide/indexing.html#returning-a-view-versus-a-copy\n",
      "  df['RS'] = df['Percent'] - dfCompare['Percent']\n"
     ]
    },
    {
     "data": {
      "application/vnd.jupyter.widget-view+json": {
       "model_id": "05f97be9588b49b4849c14497b964921",
       "version_major": 2,
       "version_minor": 0
      },
      "text/plain": [
       "Pandas Apply:   0%|          | 0/158 [00:00<?, ?it/s]"
      ]
     },
     "metadata": {},
     "output_type": "display_data"
    },
    {
     "data": {
      "application/vnd.jupyter.widget-view+json": {
       "model_id": "08e424b552b64b15be9d1e18768f7ab9",
       "version_major": 2,
       "version_minor": 0
      },
      "text/plain": [
       "Pandas Apply:   0%|          | 0/158 [00:00<?, ?it/s]"
      ]
     },
     "metadata": {},
     "output_type": "display_data"
    },
    {
     "name": "stderr",
     "output_type": "stream",
     "text": [
      "/tmp/ipykernel_8304/2036736335.py:17: SettingWithCopyWarning: \n",
      "A value is trying to be set on a copy of a slice from a DataFrame.\n",
      "Try using .loc[row_indexer,col_indexer] = value instead\n",
      "\n",
      "See the caveats in the documentation: https://pandas.pydata.org/pandas-docs/stable/user_guide/indexing.html#returning-a-view-versus-a-copy\n",
      "  df['RS'] = df['Percent'] - dfCompare['Percent']\n"
     ]
    },
    {
     "data": {
      "application/vnd.jupyter.widget-view+json": {
       "model_id": "6e5c2e71ce3440568b9ba0a19fa6a4c2",
       "version_major": 2,
       "version_minor": 0
      },
      "text/plain": [
       "Pandas Apply:   0%|          | 0/679 [00:00<?, ?it/s]"
      ]
     },
     "metadata": {},
     "output_type": "display_data"
    },
    {
     "data": {
      "application/vnd.jupyter.widget-view+json": {
       "model_id": "6a9ea7074e464d319dbe94144b256edf",
       "version_major": 2,
       "version_minor": 0
      },
      "text/plain": [
       "Pandas Apply:   0%|          | 0/679 [00:00<?, ?it/s]"
      ]
     },
     "metadata": {},
     "output_type": "display_data"
    },
    {
     "name": "stderr",
     "output_type": "stream",
     "text": [
      "/tmp/ipykernel_8304/2036736335.py:17: SettingWithCopyWarning: \n",
      "A value is trying to be set on a copy of a slice from a DataFrame.\n",
      "Try using .loc[row_indexer,col_indexer] = value instead\n",
      "\n",
      "See the caveats in the documentation: https://pandas.pydata.org/pandas-docs/stable/user_guide/indexing.html#returning-a-view-versus-a-copy\n",
      "  df['RS'] = df['Percent'] - dfCompare['Percent']\n"
     ]
    },
    {
     "data": {
      "application/vnd.jupyter.widget-view+json": {
       "model_id": "43487fd97c034309a90839bda1dc1aff",
       "version_major": 2,
       "version_minor": 0
      },
      "text/plain": [
       "Pandas Apply:   0%|          | 0/679 [00:00<?, ?it/s]"
      ]
     },
     "metadata": {},
     "output_type": "display_data"
    },
    {
     "data": {
      "application/vnd.jupyter.widget-view+json": {
       "model_id": "29298d63d0a84b359b8ca66c7dd588ae",
       "version_major": 2,
       "version_minor": 0
      },
      "text/plain": [
       "Pandas Apply:   0%|          | 0/679 [00:00<?, ?it/s]"
      ]
     },
     "metadata": {},
     "output_type": "display_data"
    },
    {
     "name": "stderr",
     "output_type": "stream",
     "text": [
      "/tmp/ipykernel_8304/2036736335.py:17: SettingWithCopyWarning: \n",
      "A value is trying to be set on a copy of a slice from a DataFrame.\n",
      "Try using .loc[row_indexer,col_indexer] = value instead\n",
      "\n",
      "See the caveats in the documentation: https://pandas.pydata.org/pandas-docs/stable/user_guide/indexing.html#returning-a-view-versus-a-copy\n",
      "  df['RS'] = df['Percent'] - dfCompare['Percent']\n"
     ]
    },
    {
     "data": {
      "application/vnd.jupyter.widget-view+json": {
       "model_id": "ebed57c4c94f4d6ca07b342aaf68f8ae",
       "version_major": 2,
       "version_minor": 0
      },
      "text/plain": [
       "Pandas Apply:   0%|          | 0/678 [00:00<?, ?it/s]"
      ]
     },
     "metadata": {},
     "output_type": "display_data"
    },
    {
     "data": {
      "application/vnd.jupyter.widget-view+json": {
       "model_id": "3ad7a3857ffe44289aae41d8efa74587",
       "version_major": 2,
       "version_minor": 0
      },
      "text/plain": [
       "Pandas Apply:   0%|          | 0/678 [00:00<?, ?it/s]"
      ]
     },
     "metadata": {},
     "output_type": "display_data"
    },
    {
     "name": "stderr",
     "output_type": "stream",
     "text": [
      "/tmp/ipykernel_8304/2036736335.py:17: SettingWithCopyWarning: \n",
      "A value is trying to be set on a copy of a slice from a DataFrame.\n",
      "Try using .loc[row_indexer,col_indexer] = value instead\n",
      "\n",
      "See the caveats in the documentation: https://pandas.pydata.org/pandas-docs/stable/user_guide/indexing.html#returning-a-view-versus-a-copy\n",
      "  df['RS'] = df['Percent'] - dfCompare['Percent']\n"
     ]
    },
    {
     "data": {
      "application/vnd.jupyter.widget-view+json": {
       "model_id": "b3d14be669764dee90bdd1b665239ebc",
       "version_major": 2,
       "version_minor": 0
      },
      "text/plain": [
       "Pandas Apply:   0%|          | 0/333 [00:00<?, ?it/s]"
      ]
     },
     "metadata": {},
     "output_type": "display_data"
    },
    {
     "data": {
      "application/vnd.jupyter.widget-view+json": {
       "model_id": "d260d9322c584c49a95432c4386d6618",
       "version_major": 2,
       "version_minor": 0
      },
      "text/plain": [
       "Pandas Apply:   0%|          | 0/333 [00:00<?, ?it/s]"
      ]
     },
     "metadata": {},
     "output_type": "display_data"
    },
    {
     "name": "stderr",
     "output_type": "stream",
     "text": [
      "/tmp/ipykernel_8304/2036736335.py:17: SettingWithCopyWarning: \n",
      "A value is trying to be set on a copy of a slice from a DataFrame.\n",
      "Try using .loc[row_indexer,col_indexer] = value instead\n",
      "\n",
      "See the caveats in the documentation: https://pandas.pydata.org/pandas-docs/stable/user_guide/indexing.html#returning-a-view-versus-a-copy\n",
      "  df['RS'] = df['Percent'] - dfCompare['Percent']\n"
     ]
    },
    {
     "data": {
      "application/vnd.jupyter.widget-view+json": {
       "model_id": "ee62041d7bd64efe86ec3f6c43d98260",
       "version_major": 2,
       "version_minor": 0
      },
      "text/plain": [
       "Pandas Apply:   0%|          | 0/676 [00:00<?, ?it/s]"
      ]
     },
     "metadata": {},
     "output_type": "display_data"
    },
    {
     "data": {
      "application/vnd.jupyter.widget-view+json": {
       "model_id": "a30cb33ca691471495d323dcdab974e7",
       "version_major": 2,
       "version_minor": 0
      },
      "text/plain": [
       "Pandas Apply:   0%|          | 0/676 [00:00<?, ?it/s]"
      ]
     },
     "metadata": {},
     "output_type": "display_data"
    },
    {
     "name": "stderr",
     "output_type": "stream",
     "text": [
      "/tmp/ipykernel_8304/2036736335.py:17: SettingWithCopyWarning: \n",
      "A value is trying to be set on a copy of a slice from a DataFrame.\n",
      "Try using .loc[row_indexer,col_indexer] = value instead\n",
      "\n",
      "See the caveats in the documentation: https://pandas.pydata.org/pandas-docs/stable/user_guide/indexing.html#returning-a-view-versus-a-copy\n",
      "  df['RS'] = df['Percent'] - dfCompare['Percent']\n"
     ]
    },
    {
     "data": {
      "application/vnd.jupyter.widget-view+json": {
       "model_id": "c209156485ec423085f9faa9a4400bf4",
       "version_major": 2,
       "version_minor": 0
      },
      "text/plain": [
       "Pandas Apply:   0%|          | 0/393 [00:00<?, ?it/s]"
      ]
     },
     "metadata": {},
     "output_type": "display_data"
    },
    {
     "data": {
      "application/vnd.jupyter.widget-view+json": {
       "model_id": "56d1538fd2c1462e85c541a33f0a3b35",
       "version_major": 2,
       "version_minor": 0
      },
      "text/plain": [
       "Pandas Apply:   0%|          | 0/393 [00:00<?, ?it/s]"
      ]
     },
     "metadata": {},
     "output_type": "display_data"
    },
    {
     "name": "stderr",
     "output_type": "stream",
     "text": [
      "/tmp/ipykernel_8304/2036736335.py:17: SettingWithCopyWarning: \n",
      "A value is trying to be set on a copy of a slice from a DataFrame.\n",
      "Try using .loc[row_indexer,col_indexer] = value instead\n",
      "\n",
      "See the caveats in the documentation: https://pandas.pydata.org/pandas-docs/stable/user_guide/indexing.html#returning-a-view-versus-a-copy\n",
      "  df['RS'] = df['Percent'] - dfCompare['Percent']\n"
     ]
    },
    {
     "data": {
      "application/vnd.jupyter.widget-view+json": {
       "model_id": "3dbcb30f0b9f478d809a1e36cf04a361",
       "version_major": 2,
       "version_minor": 0
      },
      "text/plain": [
       "Pandas Apply:   0%|          | 0/429 [00:00<?, ?it/s]"
      ]
     },
     "metadata": {},
     "output_type": "display_data"
    },
    {
     "data": {
      "application/vnd.jupyter.widget-view+json": {
       "model_id": "3af2e4e9cd374288bf5acc2fb57d7189",
       "version_major": 2,
       "version_minor": 0
      },
      "text/plain": [
       "Pandas Apply:   0%|          | 0/429 [00:00<?, ?it/s]"
      ]
     },
     "metadata": {},
     "output_type": "display_data"
    },
    {
     "name": "stderr",
     "output_type": "stream",
     "text": [
      "/tmp/ipykernel_8304/2036736335.py:17: SettingWithCopyWarning: \n",
      "A value is trying to be set on a copy of a slice from a DataFrame.\n",
      "Try using .loc[row_indexer,col_indexer] = value instead\n",
      "\n",
      "See the caveats in the documentation: https://pandas.pydata.org/pandas-docs/stable/user_guide/indexing.html#returning-a-view-versus-a-copy\n",
      "  df['RS'] = df['Percent'] - dfCompare['Percent']\n"
     ]
    },
    {
     "data": {
      "application/vnd.jupyter.widget-view+json": {
       "model_id": "841686fedfdc450da4d79065b757e85e",
       "version_major": 2,
       "version_minor": 0
      },
      "text/plain": [
       "Pandas Apply:   0%|          | 0/139 [00:00<?, ?it/s]"
      ]
     },
     "metadata": {},
     "output_type": "display_data"
    },
    {
     "data": {
      "application/vnd.jupyter.widget-view+json": {
       "model_id": "0f6a95b691f14c4ab5c1d204b826d32e",
       "version_major": 2,
       "version_minor": 0
      },
      "text/plain": [
       "Pandas Apply:   0%|          | 0/139 [00:00<?, ?it/s]"
      ]
     },
     "metadata": {},
     "output_type": "display_data"
    },
    {
     "name": "stderr",
     "output_type": "stream",
     "text": [
      "/tmp/ipykernel_8304/2036736335.py:17: SettingWithCopyWarning: \n",
      "A value is trying to be set on a copy of a slice from a DataFrame.\n",
      "Try using .loc[row_indexer,col_indexer] = value instead\n",
      "\n",
      "See the caveats in the documentation: https://pandas.pydata.org/pandas-docs/stable/user_guide/indexing.html#returning-a-view-versus-a-copy\n",
      "  df['RS'] = df['Percent'] - dfCompare['Percent']\n"
     ]
    },
    {
     "data": {
      "application/vnd.jupyter.widget-view+json": {
       "model_id": "e2fafc21cb1b4854bf19f732c6d883af",
       "version_major": 2,
       "version_minor": 0
      },
      "text/plain": [
       "Pandas Apply:   0%|          | 0/679 [00:00<?, ?it/s]"
      ]
     },
     "metadata": {},
     "output_type": "display_data"
    },
    {
     "data": {
      "application/vnd.jupyter.widget-view+json": {
       "model_id": "b86ea396c8af4cd69185e9c82296699a",
       "version_major": 2,
       "version_minor": 0
      },
      "text/plain": [
       "Pandas Apply:   0%|          | 0/679 [00:00<?, ?it/s]"
      ]
     },
     "metadata": {},
     "output_type": "display_data"
    },
    {
     "name": "stderr",
     "output_type": "stream",
     "text": [
      "/tmp/ipykernel_8304/2036736335.py:17: SettingWithCopyWarning: \n",
      "A value is trying to be set on a copy of a slice from a DataFrame.\n",
      "Try using .loc[row_indexer,col_indexer] = value instead\n",
      "\n",
      "See the caveats in the documentation: https://pandas.pydata.org/pandas-docs/stable/user_guide/indexing.html#returning-a-view-versus-a-copy\n",
      "  df['RS'] = df['Percent'] - dfCompare['Percent']\n"
     ]
    },
    {
     "data": {
      "application/vnd.jupyter.widget-view+json": {
       "model_id": "0a9f3a2a753a44f693c1b4a777f3b19a",
       "version_major": 2,
       "version_minor": 0
      },
      "text/plain": [
       "Pandas Apply:   0%|          | 0/208 [00:00<?, ?it/s]"
      ]
     },
     "metadata": {},
     "output_type": "display_data"
    },
    {
     "data": {
      "application/vnd.jupyter.widget-view+json": {
       "model_id": "16e768f3abeb45a88f7434dfe722c5d6",
       "version_major": 2,
       "version_minor": 0
      },
      "text/plain": [
       "Pandas Apply:   0%|          | 0/208 [00:00<?, ?it/s]"
      ]
     },
     "metadata": {},
     "output_type": "display_data"
    },
    {
     "name": "stderr",
     "output_type": "stream",
     "text": [
      "/tmp/ipykernel_8304/2036736335.py:17: SettingWithCopyWarning: \n",
      "A value is trying to be set on a copy of a slice from a DataFrame.\n",
      "Try using .loc[row_indexer,col_indexer] = value instead\n",
      "\n",
      "See the caveats in the documentation: https://pandas.pydata.org/pandas-docs/stable/user_guide/indexing.html#returning-a-view-versus-a-copy\n",
      "  df['RS'] = df['Percent'] - dfCompare['Percent']\n"
     ]
    },
    {
     "data": {
      "application/vnd.jupyter.widget-view+json": {
       "model_id": "6f5af76653bf455f8be9133af679582e",
       "version_major": 2,
       "version_minor": 0
      },
      "text/plain": [
       "Pandas Apply:   0%|          | 0/584 [00:00<?, ?it/s]"
      ]
     },
     "metadata": {},
     "output_type": "display_data"
    },
    {
     "data": {
      "application/vnd.jupyter.widget-view+json": {
       "model_id": "e6b559c3b0f74ef88552ba7de5afb928",
       "version_major": 2,
       "version_minor": 0
      },
      "text/plain": [
       "Pandas Apply:   0%|          | 0/584 [00:00<?, ?it/s]"
      ]
     },
     "metadata": {},
     "output_type": "display_data"
    },
    {
     "name": "stderr",
     "output_type": "stream",
     "text": [
      "/tmp/ipykernel_8304/2036736335.py:17: SettingWithCopyWarning: \n",
      "A value is trying to be set on a copy of a slice from a DataFrame.\n",
      "Try using .loc[row_indexer,col_indexer] = value instead\n",
      "\n",
      "See the caveats in the documentation: https://pandas.pydata.org/pandas-docs/stable/user_guide/indexing.html#returning-a-view-versus-a-copy\n",
      "  df['RS'] = df['Percent'] - dfCompare['Percent']\n"
     ]
    },
    {
     "data": {
      "application/vnd.jupyter.widget-view+json": {
       "model_id": "2b2c2f33d2a44e6190492f198ca749bd",
       "version_major": 2,
       "version_minor": 0
      },
      "text/plain": [
       "Pandas Apply:   0%|          | 0/495 [00:00<?, ?it/s]"
      ]
     },
     "metadata": {},
     "output_type": "display_data"
    },
    {
     "data": {
      "application/vnd.jupyter.widget-view+json": {
       "model_id": "b38d826b86b443f5be0935b19fe86c96",
       "version_major": 2,
       "version_minor": 0
      },
      "text/plain": [
       "Pandas Apply:   0%|          | 0/495 [00:00<?, ?it/s]"
      ]
     },
     "metadata": {},
     "output_type": "display_data"
    },
    {
     "name": "stderr",
     "output_type": "stream",
     "text": [
      "/tmp/ipykernel_8304/2036736335.py:17: SettingWithCopyWarning: \n",
      "A value is trying to be set on a copy of a slice from a DataFrame.\n",
      "Try using .loc[row_indexer,col_indexer] = value instead\n",
      "\n",
      "See the caveats in the documentation: https://pandas.pydata.org/pandas-docs/stable/user_guide/indexing.html#returning-a-view-versus-a-copy\n",
      "  df['RS'] = df['Percent'] - dfCompare['Percent']\n"
     ]
    },
    {
     "data": {
      "application/vnd.jupyter.widget-view+json": {
       "model_id": "14945f42dc9b426492ae32a278ee90e4",
       "version_major": 2,
       "version_minor": 0
      },
      "text/plain": [
       "Pandas Apply:   0%|          | 0/542 [00:00<?, ?it/s]"
      ]
     },
     "metadata": {},
     "output_type": "display_data"
    },
    {
     "data": {
      "application/vnd.jupyter.widget-view+json": {
       "model_id": "582b2023cc824bdc9618168ef9ee8e21",
       "version_major": 2,
       "version_minor": 0
      },
      "text/plain": [
       "Pandas Apply:   0%|          | 0/542 [00:00<?, ?it/s]"
      ]
     },
     "metadata": {},
     "output_type": "display_data"
    },
    {
     "name": "stderr",
     "output_type": "stream",
     "text": [
      "/tmp/ipykernel_8304/2036736335.py:17: SettingWithCopyWarning: \n",
      "A value is trying to be set on a copy of a slice from a DataFrame.\n",
      "Try using .loc[row_indexer,col_indexer] = value instead\n",
      "\n",
      "See the caveats in the documentation: https://pandas.pydata.org/pandas-docs/stable/user_guide/indexing.html#returning-a-view-versus-a-copy\n",
      "  df['RS'] = df['Percent'] - dfCompare['Percent']\n"
     ]
    },
    {
     "data": {
      "application/vnd.jupyter.widget-view+json": {
       "model_id": "111f8a0a0f26433da95594d96e410b42",
       "version_major": 2,
       "version_minor": 0
      },
      "text/plain": [
       "Pandas Apply:   0%|          | 0/679 [00:00<?, ?it/s]"
      ]
     },
     "metadata": {},
     "output_type": "display_data"
    },
    {
     "data": {
      "application/vnd.jupyter.widget-view+json": {
       "model_id": "9f33931d87644e76a8fd136f512ede1e",
       "version_major": 2,
       "version_minor": 0
      },
      "text/plain": [
       "Pandas Apply:   0%|          | 0/679 [00:00<?, ?it/s]"
      ]
     },
     "metadata": {},
     "output_type": "display_data"
    },
    {
     "name": "stderr",
     "output_type": "stream",
     "text": [
      "/tmp/ipykernel_8304/2036736335.py:17: SettingWithCopyWarning: \n",
      "A value is trying to be set on a copy of a slice from a DataFrame.\n",
      "Try using .loc[row_indexer,col_indexer] = value instead\n",
      "\n",
      "See the caveats in the documentation: https://pandas.pydata.org/pandas-docs/stable/user_guide/indexing.html#returning-a-view-versus-a-copy\n",
      "  df['RS'] = df['Percent'] - dfCompare['Percent']\n"
     ]
    },
    {
     "data": {
      "application/vnd.jupyter.widget-view+json": {
       "model_id": "49b640b6779d4c188dac5e5025c8ea67",
       "version_major": 2,
       "version_minor": 0
      },
      "text/plain": [
       "Pandas Apply:   0%|          | 0/221 [00:00<?, ?it/s]"
      ]
     },
     "metadata": {},
     "output_type": "display_data"
    },
    {
     "data": {
      "application/vnd.jupyter.widget-view+json": {
       "model_id": "6e6597b5c4f04d399ca88848ba5ee7f3",
       "version_major": 2,
       "version_minor": 0
      },
      "text/plain": [
       "Pandas Apply:   0%|          | 0/221 [00:00<?, ?it/s]"
      ]
     },
     "metadata": {},
     "output_type": "display_data"
    },
    {
     "name": "stderr",
     "output_type": "stream",
     "text": [
      "/tmp/ipykernel_8304/2036736335.py:17: SettingWithCopyWarning: \n",
      "A value is trying to be set on a copy of a slice from a DataFrame.\n",
      "Try using .loc[row_indexer,col_indexer] = value instead\n",
      "\n",
      "See the caveats in the documentation: https://pandas.pydata.org/pandas-docs/stable/user_guide/indexing.html#returning-a-view-versus-a-copy\n",
      "  df['RS'] = df['Percent'] - dfCompare['Percent']\n"
     ]
    },
    {
     "data": {
      "application/vnd.jupyter.widget-view+json": {
       "model_id": "61d110736e4748f89fffb32b151456fe",
       "version_major": 2,
       "version_minor": 0
      },
      "text/plain": [
       "Pandas Apply:   0%|          | 0/679 [00:00<?, ?it/s]"
      ]
     },
     "metadata": {},
     "output_type": "display_data"
    },
    {
     "data": {
      "application/vnd.jupyter.widget-view+json": {
       "model_id": "46ecfd197d3049b19e88f13e38369845",
       "version_major": 2,
       "version_minor": 0
      },
      "text/plain": [
       "Pandas Apply:   0%|          | 0/679 [00:00<?, ?it/s]"
      ]
     },
     "metadata": {},
     "output_type": "display_data"
    },
    {
     "name": "stderr",
     "output_type": "stream",
     "text": [
      "/tmp/ipykernel_8304/2036736335.py:17: SettingWithCopyWarning: \n",
      "A value is trying to be set on a copy of a slice from a DataFrame.\n",
      "Try using .loc[row_indexer,col_indexer] = value instead\n",
      "\n",
      "See the caveats in the documentation: https://pandas.pydata.org/pandas-docs/stable/user_guide/indexing.html#returning-a-view-versus-a-copy\n",
      "  df['RS'] = df['Percent'] - dfCompare['Percent']\n"
     ]
    },
    {
     "data": {
      "application/vnd.jupyter.widget-view+json": {
       "model_id": "1e84cf89a7de4d019c5d14789168a91a",
       "version_major": 2,
       "version_minor": 0
      },
      "text/plain": [
       "Pandas Apply:   0%|          | 0/372 [00:00<?, ?it/s]"
      ]
     },
     "metadata": {},
     "output_type": "display_data"
    },
    {
     "data": {
      "application/vnd.jupyter.widget-view+json": {
       "model_id": "cde7d61c1cdc4df5beaa4bd0e63006cf",
       "version_major": 2,
       "version_minor": 0
      },
      "text/plain": [
       "Pandas Apply:   0%|          | 0/372 [00:00<?, ?it/s]"
      ]
     },
     "metadata": {},
     "output_type": "display_data"
    },
    {
     "name": "stderr",
     "output_type": "stream",
     "text": [
      "/tmp/ipykernel_8304/2036736335.py:17: SettingWithCopyWarning: \n",
      "A value is trying to be set on a copy of a slice from a DataFrame.\n",
      "Try using .loc[row_indexer,col_indexer] = value instead\n",
      "\n",
      "See the caveats in the documentation: https://pandas.pydata.org/pandas-docs/stable/user_guide/indexing.html#returning-a-view-versus-a-copy\n",
      "  df['RS'] = df['Percent'] - dfCompare['Percent']\n"
     ]
    },
    {
     "data": {
      "application/vnd.jupyter.widget-view+json": {
       "model_id": "7b8109904ebd41c29c9f4cf257708829",
       "version_major": 2,
       "version_minor": 0
      },
      "text/plain": [
       "Pandas Apply:   0%|          | 0/223 [00:00<?, ?it/s]"
      ]
     },
     "metadata": {},
     "output_type": "display_data"
    },
    {
     "data": {
      "application/vnd.jupyter.widget-view+json": {
       "model_id": "e00f7a9503694cf48588714d11dd6fcd",
       "version_major": 2,
       "version_minor": 0
      },
      "text/plain": [
       "Pandas Apply:   0%|          | 0/223 [00:00<?, ?it/s]"
      ]
     },
     "metadata": {},
     "output_type": "display_data"
    },
    {
     "name": "stderr",
     "output_type": "stream",
     "text": [
      "/tmp/ipykernel_8304/2036736335.py:17: SettingWithCopyWarning: \n",
      "A value is trying to be set on a copy of a slice from a DataFrame.\n",
      "Try using .loc[row_indexer,col_indexer] = value instead\n",
      "\n",
      "See the caveats in the documentation: https://pandas.pydata.org/pandas-docs/stable/user_guide/indexing.html#returning-a-view-versus-a-copy\n",
      "  df['RS'] = df['Percent'] - dfCompare['Percent']\n"
     ]
    },
    {
     "data": {
      "application/vnd.jupyter.widget-view+json": {
       "model_id": "8e3fd6a4bd2142b6b8552a4fd807f745",
       "version_major": 2,
       "version_minor": 0
      },
      "text/plain": [
       "Pandas Apply:   0%|          | 0/275 [00:00<?, ?it/s]"
      ]
     },
     "metadata": {},
     "output_type": "display_data"
    },
    {
     "data": {
      "application/vnd.jupyter.widget-view+json": {
       "model_id": "0b1877a82a36437883bfbe78ddb81a2f",
       "version_major": 2,
       "version_minor": 0
      },
      "text/plain": [
       "Pandas Apply:   0%|          | 0/275 [00:00<?, ?it/s]"
      ]
     },
     "metadata": {},
     "output_type": "display_data"
    },
    {
     "name": "stderr",
     "output_type": "stream",
     "text": [
      "/tmp/ipykernel_8304/2036736335.py:17: SettingWithCopyWarning: \n",
      "A value is trying to be set on a copy of a slice from a DataFrame.\n",
      "Try using .loc[row_indexer,col_indexer] = value instead\n",
      "\n",
      "See the caveats in the documentation: https://pandas.pydata.org/pandas-docs/stable/user_guide/indexing.html#returning-a-view-versus-a-copy\n",
      "  df['RS'] = df['Percent'] - dfCompare['Percent']\n"
     ]
    },
    {
     "data": {
      "application/vnd.jupyter.widget-view+json": {
       "model_id": "6a7cd822d3ad457baf2cd5bd0d291308",
       "version_major": 2,
       "version_minor": 0
      },
      "text/plain": [
       "Pandas Apply:   0%|          | 0/408 [00:00<?, ?it/s]"
      ]
     },
     "metadata": {},
     "output_type": "display_data"
    },
    {
     "data": {
      "application/vnd.jupyter.widget-view+json": {
       "model_id": "6ed7dd5ddd674c4da25f36f62eeff5ef",
       "version_major": 2,
       "version_minor": 0
      },
      "text/plain": [
       "Pandas Apply:   0%|          | 0/408 [00:00<?, ?it/s]"
      ]
     },
     "metadata": {},
     "output_type": "display_data"
    },
    {
     "name": "stderr",
     "output_type": "stream",
     "text": [
      "/tmp/ipykernel_8304/2036736335.py:17: SettingWithCopyWarning: \n",
      "A value is trying to be set on a copy of a slice from a DataFrame.\n",
      "Try using .loc[row_indexer,col_indexer] = value instead\n",
      "\n",
      "See the caveats in the documentation: https://pandas.pydata.org/pandas-docs/stable/user_guide/indexing.html#returning-a-view-versus-a-copy\n",
      "  df['RS'] = df['Percent'] - dfCompare['Percent']\n"
     ]
    },
    {
     "data": {
      "application/vnd.jupyter.widget-view+json": {
       "model_id": "c4369bcf71a34176926d365009a5587a",
       "version_major": 2,
       "version_minor": 0
      },
      "text/plain": [
       "Pandas Apply:   0%|          | 0/399 [00:00<?, ?it/s]"
      ]
     },
     "metadata": {},
     "output_type": "display_data"
    },
    {
     "data": {
      "application/vnd.jupyter.widget-view+json": {
       "model_id": "2f317c357ee04dcab414910b7629a1b7",
       "version_major": 2,
       "version_minor": 0
      },
      "text/plain": [
       "Pandas Apply:   0%|          | 0/399 [00:00<?, ?it/s]"
      ]
     },
     "metadata": {},
     "output_type": "display_data"
    },
    {
     "name": "stderr",
     "output_type": "stream",
     "text": [
      "/tmp/ipykernel_8304/2036736335.py:17: SettingWithCopyWarning: \n",
      "A value is trying to be set on a copy of a slice from a DataFrame.\n",
      "Try using .loc[row_indexer,col_indexer] = value instead\n",
      "\n",
      "See the caveats in the documentation: https://pandas.pydata.org/pandas-docs/stable/user_guide/indexing.html#returning-a-view-versus-a-copy\n",
      "  df['RS'] = df['Percent'] - dfCompare['Percent']\n"
     ]
    },
    {
     "data": {
      "application/vnd.jupyter.widget-view+json": {
       "model_id": "3ec73db3f97f4dd1b59df883f360cd29",
       "version_major": 2,
       "version_minor": 0
      },
      "text/plain": [
       "Pandas Apply:   0%|          | 0/283 [00:00<?, ?it/s]"
      ]
     },
     "metadata": {},
     "output_type": "display_data"
    },
    {
     "data": {
      "application/vnd.jupyter.widget-view+json": {
       "model_id": "ee6e4327aaf04865bc54f40d2b5dfa36",
       "version_major": 2,
       "version_minor": 0
      },
      "text/plain": [
       "Pandas Apply:   0%|          | 0/283 [00:00<?, ?it/s]"
      ]
     },
     "metadata": {},
     "output_type": "display_data"
    },
    {
     "name": "stderr",
     "output_type": "stream",
     "text": [
      "/tmp/ipykernel_8304/2036736335.py:17: SettingWithCopyWarning: \n",
      "A value is trying to be set on a copy of a slice from a DataFrame.\n",
      "Try using .loc[row_indexer,col_indexer] = value instead\n",
      "\n",
      "See the caveats in the documentation: https://pandas.pydata.org/pandas-docs/stable/user_guide/indexing.html#returning-a-view-versus-a-copy\n",
      "  df['RS'] = df['Percent'] - dfCompare['Percent']\n"
     ]
    },
    {
     "data": {
      "application/vnd.jupyter.widget-view+json": {
       "model_id": "19e3a4f9cd9f4f70b03483164d6f4619",
       "version_major": 2,
       "version_minor": 0
      },
      "text/plain": [
       "Pandas Apply:   0%|          | 0/170 [00:00<?, ?it/s]"
      ]
     },
     "metadata": {},
     "output_type": "display_data"
    },
    {
     "data": {
      "application/vnd.jupyter.widget-view+json": {
       "model_id": "726f1a2dbc47443f9f2def7f861d5d07",
       "version_major": 2,
       "version_minor": 0
      },
      "text/plain": [
       "Pandas Apply:   0%|          | 0/170 [00:00<?, ?it/s]"
      ]
     },
     "metadata": {},
     "output_type": "display_data"
    },
    {
     "name": "stderr",
     "output_type": "stream",
     "text": [
      "/tmp/ipykernel_8304/2036736335.py:17: SettingWithCopyWarning: \n",
      "A value is trying to be set on a copy of a slice from a DataFrame.\n",
      "Try using .loc[row_indexer,col_indexer] = value instead\n",
      "\n",
      "See the caveats in the documentation: https://pandas.pydata.org/pandas-docs/stable/user_guide/indexing.html#returning-a-view-versus-a-copy\n",
      "  df['RS'] = df['Percent'] - dfCompare['Percent']\n"
     ]
    },
    {
     "data": {
      "application/vnd.jupyter.widget-view+json": {
       "model_id": "ef054f3800ff488cae57cef17bebefc1",
       "version_major": 2,
       "version_minor": 0
      },
      "text/plain": [
       "Pandas Apply:   0%|          | 0/678 [00:00<?, ?it/s]"
      ]
     },
     "metadata": {},
     "output_type": "display_data"
    },
    {
     "data": {
      "application/vnd.jupyter.widget-view+json": {
       "model_id": "fe538708d63c452292bf4f4e75428a43",
       "version_major": 2,
       "version_minor": 0
      },
      "text/plain": [
       "Pandas Apply:   0%|          | 0/678 [00:00<?, ?it/s]"
      ]
     },
     "metadata": {},
     "output_type": "display_data"
    },
    {
     "name": "stderr",
     "output_type": "stream",
     "text": [
      "/tmp/ipykernel_8304/2036736335.py:17: SettingWithCopyWarning: \n",
      "A value is trying to be set on a copy of a slice from a DataFrame.\n",
      "Try using .loc[row_indexer,col_indexer] = value instead\n",
      "\n",
      "See the caveats in the documentation: https://pandas.pydata.org/pandas-docs/stable/user_guide/indexing.html#returning-a-view-versus-a-copy\n",
      "  df['RS'] = df['Percent'] - dfCompare['Percent']\n"
     ]
    },
    {
     "data": {
      "application/vnd.jupyter.widget-view+json": {
       "model_id": "9e66f5a9e72d4b51af918604c599dd54",
       "version_major": 2,
       "version_minor": 0
      },
      "text/plain": [
       "Pandas Apply:   0%|          | 0/456 [00:00<?, ?it/s]"
      ]
     },
     "metadata": {},
     "output_type": "display_data"
    },
    {
     "data": {
      "application/vnd.jupyter.widget-view+json": {
       "model_id": "1eed7511d5b646de96e96629172542ae",
       "version_major": 2,
       "version_minor": 0
      },
      "text/plain": [
       "Pandas Apply:   0%|          | 0/456 [00:00<?, ?it/s]"
      ]
     },
     "metadata": {},
     "output_type": "display_data"
    },
    {
     "name": "stderr",
     "output_type": "stream",
     "text": [
      "/tmp/ipykernel_8304/2036736335.py:17: SettingWithCopyWarning: \n",
      "A value is trying to be set on a copy of a slice from a DataFrame.\n",
      "Try using .loc[row_indexer,col_indexer] = value instead\n",
      "\n",
      "See the caveats in the documentation: https://pandas.pydata.org/pandas-docs/stable/user_guide/indexing.html#returning-a-view-versus-a-copy\n",
      "  df['RS'] = df['Percent'] - dfCompare['Percent']\n"
     ]
    },
    {
     "data": {
      "application/vnd.jupyter.widget-view+json": {
       "model_id": "a6e8780b79644349af123ffb3e8943f6",
       "version_major": 2,
       "version_minor": 0
      },
      "text/plain": [
       "Pandas Apply:   0%|          | 0/144 [00:00<?, ?it/s]"
      ]
     },
     "metadata": {},
     "output_type": "display_data"
    },
    {
     "data": {
      "application/vnd.jupyter.widget-view+json": {
       "model_id": "5b3368d9bd654fa5a98557e3637f53f1",
       "version_major": 2,
       "version_minor": 0
      },
      "text/plain": [
       "Pandas Apply:   0%|          | 0/144 [00:00<?, ?it/s]"
      ]
     },
     "metadata": {},
     "output_type": "display_data"
    },
    {
     "name": "stderr",
     "output_type": "stream",
     "text": [
      "/tmp/ipykernel_8304/2036736335.py:17: SettingWithCopyWarning: \n",
      "A value is trying to be set on a copy of a slice from a DataFrame.\n",
      "Try using .loc[row_indexer,col_indexer] = value instead\n",
      "\n",
      "See the caveats in the documentation: https://pandas.pydata.org/pandas-docs/stable/user_guide/indexing.html#returning-a-view-versus-a-copy\n",
      "  df['RS'] = df['Percent'] - dfCompare['Percent']\n"
     ]
    },
    {
     "data": {
      "application/vnd.jupyter.widget-view+json": {
       "model_id": "8a9dd6156b5e4efeae723531b8306bc9",
       "version_major": 2,
       "version_minor": 0
      },
      "text/plain": [
       "Pandas Apply:   0%|          | 0/508 [00:00<?, ?it/s]"
      ]
     },
     "metadata": {},
     "output_type": "display_data"
    },
    {
     "data": {
      "application/vnd.jupyter.widget-view+json": {
       "model_id": "4f4408314f884c7bbed4bc4e37bbf257",
       "version_major": 2,
       "version_minor": 0
      },
      "text/plain": [
       "Pandas Apply:   0%|          | 0/508 [00:00<?, ?it/s]"
      ]
     },
     "metadata": {},
     "output_type": "display_data"
    },
    {
     "name": "stderr",
     "output_type": "stream",
     "text": [
      "/tmp/ipykernel_8304/2036736335.py:17: SettingWithCopyWarning: \n",
      "A value is trying to be set on a copy of a slice from a DataFrame.\n",
      "Try using .loc[row_indexer,col_indexer] = value instead\n",
      "\n",
      "See the caveats in the documentation: https://pandas.pydata.org/pandas-docs/stable/user_guide/indexing.html#returning-a-view-versus-a-copy\n",
      "  df['RS'] = df['Percent'] - dfCompare['Percent']\n"
     ]
    },
    {
     "data": {
      "application/vnd.jupyter.widget-view+json": {
       "model_id": "26576c8841c7487c8bff89e6c8fc87c6",
       "version_major": 2,
       "version_minor": 0
      },
      "text/plain": [
       "Pandas Apply:   0%|          | 0/400 [00:00<?, ?it/s]"
      ]
     },
     "metadata": {},
     "output_type": "display_data"
    },
    {
     "data": {
      "application/vnd.jupyter.widget-view+json": {
       "model_id": "5505653de4d9427eb5580f28833c6072",
       "version_major": 2,
       "version_minor": 0
      },
      "text/plain": [
       "Pandas Apply:   0%|          | 0/400 [00:00<?, ?it/s]"
      ]
     },
     "metadata": {},
     "output_type": "display_data"
    },
    {
     "name": "stderr",
     "output_type": "stream",
     "text": [
      "/tmp/ipykernel_8304/2036736335.py:17: SettingWithCopyWarning: \n",
      "A value is trying to be set on a copy of a slice from a DataFrame.\n",
      "Try using .loc[row_indexer,col_indexer] = value instead\n",
      "\n",
      "See the caveats in the documentation: https://pandas.pydata.org/pandas-docs/stable/user_guide/indexing.html#returning-a-view-versus-a-copy\n",
      "  df['RS'] = df['Percent'] - dfCompare['Percent']\n"
     ]
    },
    {
     "data": {
      "application/vnd.jupyter.widget-view+json": {
       "model_id": "eb7f5c11e50c41da8f20fb937e44d46f",
       "version_major": 2,
       "version_minor": 0
      },
      "text/plain": [
       "Pandas Apply:   0%|          | 0/679 [00:00<?, ?it/s]"
      ]
     },
     "metadata": {},
     "output_type": "display_data"
    },
    {
     "data": {
      "application/vnd.jupyter.widget-view+json": {
       "model_id": "e73dfb08b1ef42169ca7257bd0390bd3",
       "version_major": 2,
       "version_minor": 0
      },
      "text/plain": [
       "Pandas Apply:   0%|          | 0/679 [00:00<?, ?it/s]"
      ]
     },
     "metadata": {},
     "output_type": "display_data"
    },
    {
     "name": "stderr",
     "output_type": "stream",
     "text": [
      "/tmp/ipykernel_8304/2036736335.py:17: SettingWithCopyWarning: \n",
      "A value is trying to be set on a copy of a slice from a DataFrame.\n",
      "Try using .loc[row_indexer,col_indexer] = value instead\n",
      "\n",
      "See the caveats in the documentation: https://pandas.pydata.org/pandas-docs/stable/user_guide/indexing.html#returning-a-view-versus-a-copy\n",
      "  df['RS'] = df['Percent'] - dfCompare['Percent']\n"
     ]
    },
    {
     "data": {
      "application/vnd.jupyter.widget-view+json": {
       "model_id": "f78e576a81d84c47b34a779e6bdc35ce",
       "version_major": 2,
       "version_minor": 0
      },
      "text/plain": [
       "Pandas Apply:   0%|          | 0/339 [00:00<?, ?it/s]"
      ]
     },
     "metadata": {},
     "output_type": "display_data"
    },
    {
     "data": {
      "application/vnd.jupyter.widget-view+json": {
       "model_id": "97b071639ec24f6f834be0354520494b",
       "version_major": 2,
       "version_minor": 0
      },
      "text/plain": [
       "Pandas Apply:   0%|          | 0/339 [00:00<?, ?it/s]"
      ]
     },
     "metadata": {},
     "output_type": "display_data"
    },
    {
     "name": "stderr",
     "output_type": "stream",
     "text": [
      "/tmp/ipykernel_8304/2036736335.py:17: SettingWithCopyWarning: \n",
      "A value is trying to be set on a copy of a slice from a DataFrame.\n",
      "Try using .loc[row_indexer,col_indexer] = value instead\n",
      "\n",
      "See the caveats in the documentation: https://pandas.pydata.org/pandas-docs/stable/user_guide/indexing.html#returning-a-view-versus-a-copy\n",
      "  df['RS'] = df['Percent'] - dfCompare['Percent']\n"
     ]
    },
    {
     "data": {
      "application/vnd.jupyter.widget-view+json": {
       "model_id": "c3bd9d17a3924507b0edf85f79d9bfdf",
       "version_major": 2,
       "version_minor": 0
      },
      "text/plain": [
       "Pandas Apply:   0%|          | 0/679 [00:00<?, ?it/s]"
      ]
     },
     "metadata": {},
     "output_type": "display_data"
    },
    {
     "data": {
      "application/vnd.jupyter.widget-view+json": {
       "model_id": "c6018b5b1ee242d78b410a5375ca11d8",
       "version_major": 2,
       "version_minor": 0
      },
      "text/plain": [
       "Pandas Apply:   0%|          | 0/679 [00:00<?, ?it/s]"
      ]
     },
     "metadata": {},
     "output_type": "display_data"
    },
    {
     "name": "stderr",
     "output_type": "stream",
     "text": [
      "/tmp/ipykernel_8304/2036736335.py:17: SettingWithCopyWarning: \n",
      "A value is trying to be set on a copy of a slice from a DataFrame.\n",
      "Try using .loc[row_indexer,col_indexer] = value instead\n",
      "\n",
      "See the caveats in the documentation: https://pandas.pydata.org/pandas-docs/stable/user_guide/indexing.html#returning-a-view-versus-a-copy\n",
      "  df['RS'] = df['Percent'] - dfCompare['Percent']\n"
     ]
    },
    {
     "data": {
      "application/vnd.jupyter.widget-view+json": {
       "model_id": "4c24b26dcca34b268c6a61c0cc247cce",
       "version_major": 2,
       "version_minor": 0
      },
      "text/plain": [
       "Pandas Apply:   0%|          | 0/229 [00:00<?, ?it/s]"
      ]
     },
     "metadata": {},
     "output_type": "display_data"
    },
    {
     "data": {
      "application/vnd.jupyter.widget-view+json": {
       "model_id": "d5d4af75be1e4fe183aa72f542eb9678",
       "version_major": 2,
       "version_minor": 0
      },
      "text/plain": [
       "Pandas Apply:   0%|          | 0/229 [00:00<?, ?it/s]"
      ]
     },
     "metadata": {},
     "output_type": "display_data"
    },
    {
     "name": "stderr",
     "output_type": "stream",
     "text": [
      "/tmp/ipykernel_8304/2036736335.py:17: SettingWithCopyWarning: \n",
      "A value is trying to be set on a copy of a slice from a DataFrame.\n",
      "Try using .loc[row_indexer,col_indexer] = value instead\n",
      "\n",
      "See the caveats in the documentation: https://pandas.pydata.org/pandas-docs/stable/user_guide/indexing.html#returning-a-view-versus-a-copy\n",
      "  df['RS'] = df['Percent'] - dfCompare['Percent']\n"
     ]
    },
    {
     "data": {
      "application/vnd.jupyter.widget-view+json": {
       "model_id": "88489ee7f71c456eab45396ad512034a",
       "version_major": 2,
       "version_minor": 0
      },
      "text/plain": [
       "Pandas Apply:   0%|          | 0/239 [00:00<?, ?it/s]"
      ]
     },
     "metadata": {},
     "output_type": "display_data"
    },
    {
     "data": {
      "application/vnd.jupyter.widget-view+json": {
       "model_id": "73f5fb5aed3d473aafabeee2bcf4bcd3",
       "version_major": 2,
       "version_minor": 0
      },
      "text/plain": [
       "Pandas Apply:   0%|          | 0/239 [00:00<?, ?it/s]"
      ]
     },
     "metadata": {},
     "output_type": "display_data"
    },
    {
     "name": "stderr",
     "output_type": "stream",
     "text": [
      "/tmp/ipykernel_8304/2036736335.py:17: SettingWithCopyWarning: \n",
      "A value is trying to be set on a copy of a slice from a DataFrame.\n",
      "Try using .loc[row_indexer,col_indexer] = value instead\n",
      "\n",
      "See the caveats in the documentation: https://pandas.pydata.org/pandas-docs/stable/user_guide/indexing.html#returning-a-view-versus-a-copy\n",
      "  df['RS'] = df['Percent'] - dfCompare['Percent']\n"
     ]
    },
    {
     "data": {
      "application/vnd.jupyter.widget-view+json": {
       "model_id": "50c9b080bb4e46649ed085511d42c2a7",
       "version_major": 2,
       "version_minor": 0
      },
      "text/plain": [
       "Pandas Apply:   0%|          | 0/365 [00:00<?, ?it/s]"
      ]
     },
     "metadata": {},
     "output_type": "display_data"
    },
    {
     "data": {
      "application/vnd.jupyter.widget-view+json": {
       "model_id": "d615e9cf746147b1b0cf174c4d2118cc",
       "version_major": 2,
       "version_minor": 0
      },
      "text/plain": [
       "Pandas Apply:   0%|          | 0/365 [00:00<?, ?it/s]"
      ]
     },
     "metadata": {},
     "output_type": "display_data"
    },
    {
     "name": "stderr",
     "output_type": "stream",
     "text": [
      "/tmp/ipykernel_8304/2036736335.py:17: SettingWithCopyWarning: \n",
      "A value is trying to be set on a copy of a slice from a DataFrame.\n",
      "Try using .loc[row_indexer,col_indexer] = value instead\n",
      "\n",
      "See the caveats in the documentation: https://pandas.pydata.org/pandas-docs/stable/user_guide/indexing.html#returning-a-view-versus-a-copy\n",
      "  df['RS'] = df['Percent'] - dfCompare['Percent']\n"
     ]
    },
    {
     "data": {
      "application/vnd.jupyter.widget-view+json": {
       "model_id": "33ccc80c905848aa8546d921ed9c3c0e",
       "version_major": 2,
       "version_minor": 0
      },
      "text/plain": [
       "Pandas Apply:   0%|          | 0/623 [00:00<?, ?it/s]"
      ]
     },
     "metadata": {},
     "output_type": "display_data"
    },
    {
     "data": {
      "application/vnd.jupyter.widget-view+json": {
       "model_id": "0144d98777a84ca3a127f13d65342290",
       "version_major": 2,
       "version_minor": 0
      },
      "text/plain": [
       "Pandas Apply:   0%|          | 0/623 [00:00<?, ?it/s]"
      ]
     },
     "metadata": {},
     "output_type": "display_data"
    },
    {
     "name": "stderr",
     "output_type": "stream",
     "text": [
      "/tmp/ipykernel_8304/2036736335.py:17: SettingWithCopyWarning: \n",
      "A value is trying to be set on a copy of a slice from a DataFrame.\n",
      "Try using .loc[row_indexer,col_indexer] = value instead\n",
      "\n",
      "See the caveats in the documentation: https://pandas.pydata.org/pandas-docs/stable/user_guide/indexing.html#returning-a-view-versus-a-copy\n",
      "  df['RS'] = df['Percent'] - dfCompare['Percent']\n"
     ]
    },
    {
     "data": {
      "application/vnd.jupyter.widget-view+json": {
       "model_id": "cee943ddeff747c8bd1eca5e31415a76",
       "version_major": 2,
       "version_minor": 0
      },
      "text/plain": [
       "Pandas Apply:   0%|          | 0/679 [00:00<?, ?it/s]"
      ]
     },
     "metadata": {},
     "output_type": "display_data"
    },
    {
     "data": {
      "application/vnd.jupyter.widget-view+json": {
       "model_id": "ed127771a1d04deebe28331e1acb5278",
       "version_major": 2,
       "version_minor": 0
      },
      "text/plain": [
       "Pandas Apply:   0%|          | 0/679 [00:00<?, ?it/s]"
      ]
     },
     "metadata": {},
     "output_type": "display_data"
    },
    {
     "name": "stderr",
     "output_type": "stream",
     "text": [
      "/tmp/ipykernel_8304/2036736335.py:17: SettingWithCopyWarning: \n",
      "A value is trying to be set on a copy of a slice from a DataFrame.\n",
      "Try using .loc[row_indexer,col_indexer] = value instead\n",
      "\n",
      "See the caveats in the documentation: https://pandas.pydata.org/pandas-docs/stable/user_guide/indexing.html#returning-a-view-versus-a-copy\n",
      "  df['RS'] = df['Percent'] - dfCompare['Percent']\n"
     ]
    },
    {
     "data": {
      "application/vnd.jupyter.widget-view+json": {
       "model_id": "063f86ade58f4c278b35a4015797a42b",
       "version_major": 2,
       "version_minor": 0
      },
      "text/plain": [
       "Pandas Apply:   0%|          | 0/679 [00:00<?, ?it/s]"
      ]
     },
     "metadata": {},
     "output_type": "display_data"
    },
    {
     "data": {
      "application/vnd.jupyter.widget-view+json": {
       "model_id": "036a773f37934589a18ecd80aa794332",
       "version_major": 2,
       "version_minor": 0
      },
      "text/plain": [
       "Pandas Apply:   0%|          | 0/679 [00:00<?, ?it/s]"
      ]
     },
     "metadata": {},
     "output_type": "display_data"
    },
    {
     "name": "stderr",
     "output_type": "stream",
     "text": [
      "/tmp/ipykernel_8304/2036736335.py:17: SettingWithCopyWarning: \n",
      "A value is trying to be set on a copy of a slice from a DataFrame.\n",
      "Try using .loc[row_indexer,col_indexer] = value instead\n",
      "\n",
      "See the caveats in the documentation: https://pandas.pydata.org/pandas-docs/stable/user_guide/indexing.html#returning-a-view-versus-a-copy\n",
      "  df['RS'] = df['Percent'] - dfCompare['Percent']\n"
     ]
    },
    {
     "data": {
      "application/vnd.jupyter.widget-view+json": {
       "model_id": "ce143cff413c4605b034efad0c9332bc",
       "version_major": 2,
       "version_minor": 0
      },
      "text/plain": [
       "Pandas Apply:   0%|          | 0/219 [00:00<?, ?it/s]"
      ]
     },
     "metadata": {},
     "output_type": "display_data"
    },
    {
     "data": {
      "application/vnd.jupyter.widget-view+json": {
       "model_id": "7fadc8edf7ae4d14b10cfe930e30521b",
       "version_major": 2,
       "version_minor": 0
      },
      "text/plain": [
       "Pandas Apply:   0%|          | 0/219 [00:00<?, ?it/s]"
      ]
     },
     "metadata": {},
     "output_type": "display_data"
    },
    {
     "name": "stderr",
     "output_type": "stream",
     "text": [
      "/tmp/ipykernel_8304/2036736335.py:17: SettingWithCopyWarning: \n",
      "A value is trying to be set on a copy of a slice from a DataFrame.\n",
      "Try using .loc[row_indexer,col_indexer] = value instead\n",
      "\n",
      "See the caveats in the documentation: https://pandas.pydata.org/pandas-docs/stable/user_guide/indexing.html#returning-a-view-versus-a-copy\n",
      "  df['RS'] = df['Percent'] - dfCompare['Percent']\n"
     ]
    },
    {
     "data": {
      "application/vnd.jupyter.widget-view+json": {
       "model_id": "37614bb8e6e14becbaaf5a1e39f6263b",
       "version_major": 2,
       "version_minor": 0
      },
      "text/plain": [
       "Pandas Apply:   0%|          | 0/679 [00:00<?, ?it/s]"
      ]
     },
     "metadata": {},
     "output_type": "display_data"
    },
    {
     "data": {
      "application/vnd.jupyter.widget-view+json": {
       "model_id": "6ef3680815014005a928a92ca34086fa",
       "version_major": 2,
       "version_minor": 0
      },
      "text/plain": [
       "Pandas Apply:   0%|          | 0/679 [00:00<?, ?it/s]"
      ]
     },
     "metadata": {},
     "output_type": "display_data"
    },
    {
     "name": "stderr",
     "output_type": "stream",
     "text": [
      "/tmp/ipykernel_8304/2036736335.py:17: SettingWithCopyWarning: \n",
      "A value is trying to be set on a copy of a slice from a DataFrame.\n",
      "Try using .loc[row_indexer,col_indexer] = value instead\n",
      "\n",
      "See the caveats in the documentation: https://pandas.pydata.org/pandas-docs/stable/user_guide/indexing.html#returning-a-view-versus-a-copy\n",
      "  df['RS'] = df['Percent'] - dfCompare['Percent']\n"
     ]
    },
    {
     "data": {
      "application/vnd.jupyter.widget-view+json": {
       "model_id": "c9cc0958c83a4c209fc9d9f3b55a06fc",
       "version_major": 2,
       "version_minor": 0
      },
      "text/plain": [
       "Pandas Apply:   0%|          | 0/673 [00:00<?, ?it/s]"
      ]
     },
     "metadata": {},
     "output_type": "display_data"
    },
    {
     "data": {
      "application/vnd.jupyter.widget-view+json": {
       "model_id": "0437081e9ded46b284a2eb2ad362eeb1",
       "version_major": 2,
       "version_minor": 0
      },
      "text/plain": [
       "Pandas Apply:   0%|          | 0/673 [00:00<?, ?it/s]"
      ]
     },
     "metadata": {},
     "output_type": "display_data"
    },
    {
     "name": "stderr",
     "output_type": "stream",
     "text": [
      "/tmp/ipykernel_8304/2036736335.py:17: SettingWithCopyWarning: \n",
      "A value is trying to be set on a copy of a slice from a DataFrame.\n",
      "Try using .loc[row_indexer,col_indexer] = value instead\n",
      "\n",
      "See the caveats in the documentation: https://pandas.pydata.org/pandas-docs/stable/user_guide/indexing.html#returning-a-view-versus-a-copy\n",
      "  df['RS'] = df['Percent'] - dfCompare['Percent']\n"
     ]
    },
    {
     "data": {
      "application/vnd.jupyter.widget-view+json": {
       "model_id": "50158488dd3e4b89a8b62c4e3ee21fb1",
       "version_major": 2,
       "version_minor": 0
      },
      "text/plain": [
       "Pandas Apply:   0%|          | 0/218 [00:00<?, ?it/s]"
      ]
     },
     "metadata": {},
     "output_type": "display_data"
    },
    {
     "data": {
      "application/vnd.jupyter.widget-view+json": {
       "model_id": "acde51ba2afb439a92ad530bffbcf287",
       "version_major": 2,
       "version_minor": 0
      },
      "text/plain": [
       "Pandas Apply:   0%|          | 0/218 [00:00<?, ?it/s]"
      ]
     },
     "metadata": {},
     "output_type": "display_data"
    },
    {
     "name": "stderr",
     "output_type": "stream",
     "text": [
      "/tmp/ipykernel_8304/2036736335.py:17: SettingWithCopyWarning: \n",
      "A value is trying to be set on a copy of a slice from a DataFrame.\n",
      "Try using .loc[row_indexer,col_indexer] = value instead\n",
      "\n",
      "See the caveats in the documentation: https://pandas.pydata.org/pandas-docs/stable/user_guide/indexing.html#returning-a-view-versus-a-copy\n",
      "  df['RS'] = df['Percent'] - dfCompare['Percent']\n"
     ]
    },
    {
     "data": {
      "application/vnd.jupyter.widget-view+json": {
       "model_id": "b3c02b256ce44a49be5e136f81ecd0bd",
       "version_major": 2,
       "version_minor": 0
      },
      "text/plain": [
       "Pandas Apply:   0%|          | 0/278 [00:00<?, ?it/s]"
      ]
     },
     "metadata": {},
     "output_type": "display_data"
    },
    {
     "data": {
      "application/vnd.jupyter.widget-view+json": {
       "model_id": "683c4e57fea144c99ec3092bc32372cd",
       "version_major": 2,
       "version_minor": 0
      },
      "text/plain": [
       "Pandas Apply:   0%|          | 0/278 [00:00<?, ?it/s]"
      ]
     },
     "metadata": {},
     "output_type": "display_data"
    },
    {
     "name": "stderr",
     "output_type": "stream",
     "text": [
      "/tmp/ipykernel_8304/2036736335.py:17: SettingWithCopyWarning: \n",
      "A value is trying to be set on a copy of a slice from a DataFrame.\n",
      "Try using .loc[row_indexer,col_indexer] = value instead\n",
      "\n",
      "See the caveats in the documentation: https://pandas.pydata.org/pandas-docs/stable/user_guide/indexing.html#returning-a-view-versus-a-copy\n",
      "  df['RS'] = df['Percent'] - dfCompare['Percent']\n"
     ]
    },
    {
     "data": {
      "application/vnd.jupyter.widget-view+json": {
       "model_id": "8274882ec25c4853bba14858208d73fe",
       "version_major": 2,
       "version_minor": 0
      },
      "text/plain": [
       "Pandas Apply:   0%|          | 0/205 [00:00<?, ?it/s]"
      ]
     },
     "metadata": {},
     "output_type": "display_data"
    },
    {
     "data": {
      "application/vnd.jupyter.widget-view+json": {
       "model_id": "1bc4d83fd16f47979d427f9db104526d",
       "version_major": 2,
       "version_minor": 0
      },
      "text/plain": [
       "Pandas Apply:   0%|          | 0/205 [00:00<?, ?it/s]"
      ]
     },
     "metadata": {},
     "output_type": "display_data"
    },
    {
     "name": "stderr",
     "output_type": "stream",
     "text": [
      "/tmp/ipykernel_8304/2036736335.py:17: SettingWithCopyWarning: \n",
      "A value is trying to be set on a copy of a slice from a DataFrame.\n",
      "Try using .loc[row_indexer,col_indexer] = value instead\n",
      "\n",
      "See the caveats in the documentation: https://pandas.pydata.org/pandas-docs/stable/user_guide/indexing.html#returning-a-view-versus-a-copy\n",
      "  df['RS'] = df['Percent'] - dfCompare['Percent']\n"
     ]
    },
    {
     "data": {
      "application/vnd.jupyter.widget-view+json": {
       "model_id": "b0413e266e35470089202f1fdd8cd847",
       "version_major": 2,
       "version_minor": 0
      },
      "text/plain": [
       "Pandas Apply:   0%|          | 0/463 [00:00<?, ?it/s]"
      ]
     },
     "metadata": {},
     "output_type": "display_data"
    },
    {
     "data": {
      "application/vnd.jupyter.widget-view+json": {
       "model_id": "e858615ab26d414bb3822bc56f587350",
       "version_major": 2,
       "version_minor": 0
      },
      "text/plain": [
       "Pandas Apply:   0%|          | 0/463 [00:00<?, ?it/s]"
      ]
     },
     "metadata": {},
     "output_type": "display_data"
    },
    {
     "name": "stderr",
     "output_type": "stream",
     "text": [
      "/tmp/ipykernel_8304/2036736335.py:17: SettingWithCopyWarning: \n",
      "A value is trying to be set on a copy of a slice from a DataFrame.\n",
      "Try using .loc[row_indexer,col_indexer] = value instead\n",
      "\n",
      "See the caveats in the documentation: https://pandas.pydata.org/pandas-docs/stable/user_guide/indexing.html#returning-a-view-versus-a-copy\n",
      "  df['RS'] = df['Percent'] - dfCompare['Percent']\n"
     ]
    },
    {
     "data": {
      "application/vnd.jupyter.widget-view+json": {
       "model_id": "7cb936750ca8445c9cf1ddfee8b6bab9",
       "version_major": 2,
       "version_minor": 0
      },
      "text/plain": [
       "Pandas Apply:   0%|          | 0/208 [00:00<?, ?it/s]"
      ]
     },
     "metadata": {},
     "output_type": "display_data"
    },
    {
     "data": {
      "application/vnd.jupyter.widget-view+json": {
       "model_id": "76b1c782cd0f4da5871cdf29909abe54",
       "version_major": 2,
       "version_minor": 0
      },
      "text/plain": [
       "Pandas Apply:   0%|          | 0/208 [00:00<?, ?it/s]"
      ]
     },
     "metadata": {},
     "output_type": "display_data"
    },
    {
     "name": "stderr",
     "output_type": "stream",
     "text": [
      "/tmp/ipykernel_8304/2036736335.py:17: SettingWithCopyWarning: \n",
      "A value is trying to be set on a copy of a slice from a DataFrame.\n",
      "Try using .loc[row_indexer,col_indexer] = value instead\n",
      "\n",
      "See the caveats in the documentation: https://pandas.pydata.org/pandas-docs/stable/user_guide/indexing.html#returning-a-view-versus-a-copy\n",
      "  df['RS'] = df['Percent'] - dfCompare['Percent']\n"
     ]
    },
    {
     "data": {
      "application/vnd.jupyter.widget-view+json": {
       "model_id": "369ded53be274a689feb2423a9458edf",
       "version_major": 2,
       "version_minor": 0
      },
      "text/plain": [
       "Pandas Apply:   0%|          | 0/679 [00:00<?, ?it/s]"
      ]
     },
     "metadata": {},
     "output_type": "display_data"
    },
    {
     "data": {
      "application/vnd.jupyter.widget-view+json": {
       "model_id": "e94015d8a5594583a4406fe6f7d98e1b",
       "version_major": 2,
       "version_minor": 0
      },
      "text/plain": [
       "Pandas Apply:   0%|          | 0/679 [00:00<?, ?it/s]"
      ]
     },
     "metadata": {},
     "output_type": "display_data"
    },
    {
     "name": "stderr",
     "output_type": "stream",
     "text": [
      "/tmp/ipykernel_8304/2036736335.py:17: SettingWithCopyWarning: \n",
      "A value is trying to be set on a copy of a slice from a DataFrame.\n",
      "Try using .loc[row_indexer,col_indexer] = value instead\n",
      "\n",
      "See the caveats in the documentation: https://pandas.pydata.org/pandas-docs/stable/user_guide/indexing.html#returning-a-view-versus-a-copy\n",
      "  df['RS'] = df['Percent'] - dfCompare['Percent']\n"
     ]
    },
    {
     "data": {
      "application/vnd.jupyter.widget-view+json": {
       "model_id": "4275378b4fdc4966b5fa753f50907702",
       "version_major": 2,
       "version_minor": 0
      },
      "text/plain": [
       "Pandas Apply:   0%|          | 0/169 [00:00<?, ?it/s]"
      ]
     },
     "metadata": {},
     "output_type": "display_data"
    },
    {
     "data": {
      "application/vnd.jupyter.widget-view+json": {
       "model_id": "e9b6ff35684948d084a0bec85b16b298",
       "version_major": 2,
       "version_minor": 0
      },
      "text/plain": [
       "Pandas Apply:   0%|          | 0/169 [00:00<?, ?it/s]"
      ]
     },
     "metadata": {},
     "output_type": "display_data"
    },
    {
     "name": "stderr",
     "output_type": "stream",
     "text": [
      "/tmp/ipykernel_8304/2036736335.py:17: SettingWithCopyWarning: \n",
      "A value is trying to be set on a copy of a slice from a DataFrame.\n",
      "Try using .loc[row_indexer,col_indexer] = value instead\n",
      "\n",
      "See the caveats in the documentation: https://pandas.pydata.org/pandas-docs/stable/user_guide/indexing.html#returning-a-view-versus-a-copy\n",
      "  df['RS'] = df['Percent'] - dfCompare['Percent']\n"
     ]
    },
    {
     "data": {
      "application/vnd.jupyter.widget-view+json": {
       "model_id": "f262a93733124c68bb782ff2844d030b",
       "version_major": 2,
       "version_minor": 0
      },
      "text/plain": [
       "Pandas Apply:   0%|          | 0/262 [00:00<?, ?it/s]"
      ]
     },
     "metadata": {},
     "output_type": "display_data"
    },
    {
     "data": {
      "application/vnd.jupyter.widget-view+json": {
       "model_id": "056a514e88f44397afc962034c1f016d",
       "version_major": 2,
       "version_minor": 0
      },
      "text/plain": [
       "Pandas Apply:   0%|          | 0/262 [00:00<?, ?it/s]"
      ]
     },
     "metadata": {},
     "output_type": "display_data"
    },
    {
     "name": "stderr",
     "output_type": "stream",
     "text": [
      "/tmp/ipykernel_8304/2036736335.py:17: SettingWithCopyWarning: \n",
      "A value is trying to be set on a copy of a slice from a DataFrame.\n",
      "Try using .loc[row_indexer,col_indexer] = value instead\n",
      "\n",
      "See the caveats in the documentation: https://pandas.pydata.org/pandas-docs/stable/user_guide/indexing.html#returning-a-view-versus-a-copy\n",
      "  df['RS'] = df['Percent'] - dfCompare['Percent']\n"
     ]
    },
    {
     "data": {
      "application/vnd.jupyter.widget-view+json": {
       "model_id": "70cb278b210a455997da2ae40247b679",
       "version_major": 2,
       "version_minor": 0
      },
      "text/plain": [
       "Pandas Apply:   0%|          | 0/208 [00:00<?, ?it/s]"
      ]
     },
     "metadata": {},
     "output_type": "display_data"
    },
    {
     "data": {
      "application/vnd.jupyter.widget-view+json": {
       "model_id": "8d2357215fa145259920e3773ba4ea00",
       "version_major": 2,
       "version_minor": 0
      },
      "text/plain": [
       "Pandas Apply:   0%|          | 0/208 [00:00<?, ?it/s]"
      ]
     },
     "metadata": {},
     "output_type": "display_data"
    },
    {
     "name": "stderr",
     "output_type": "stream",
     "text": [
      "/tmp/ipykernel_8304/2036736335.py:17: SettingWithCopyWarning: \n",
      "A value is trying to be set on a copy of a slice from a DataFrame.\n",
      "Try using .loc[row_indexer,col_indexer] = value instead\n",
      "\n",
      "See the caveats in the documentation: https://pandas.pydata.org/pandas-docs/stable/user_guide/indexing.html#returning-a-view-versus-a-copy\n",
      "  df['RS'] = df['Percent'] - dfCompare['Percent']\n"
     ]
    },
    {
     "data": {
      "application/vnd.jupyter.widget-view+json": {
       "model_id": "138fbb0d243e475c91357bfb9ea1a4a3",
       "version_major": 2,
       "version_minor": 0
      },
      "text/plain": [
       "Pandas Apply:   0%|          | 0/679 [00:00<?, ?it/s]"
      ]
     },
     "metadata": {},
     "output_type": "display_data"
    },
    {
     "data": {
      "application/vnd.jupyter.widget-view+json": {
       "model_id": "1e25c8ac7c6548b5860911496cdd3c8f",
       "version_major": 2,
       "version_minor": 0
      },
      "text/plain": [
       "Pandas Apply:   0%|          | 0/679 [00:00<?, ?it/s]"
      ]
     },
     "metadata": {},
     "output_type": "display_data"
    },
    {
     "name": "stderr",
     "output_type": "stream",
     "text": [
      "/tmp/ipykernel_8304/2036736335.py:17: SettingWithCopyWarning: \n",
      "A value is trying to be set on a copy of a slice from a DataFrame.\n",
      "Try using .loc[row_indexer,col_indexer] = value instead\n",
      "\n",
      "See the caveats in the documentation: https://pandas.pydata.org/pandas-docs/stable/user_guide/indexing.html#returning-a-view-versus-a-copy\n",
      "  df['RS'] = df['Percent'] - dfCompare['Percent']\n"
     ]
    },
    {
     "data": {
      "application/vnd.jupyter.widget-view+json": {
       "model_id": "730339beb22c416194ebc45201eb044d",
       "version_major": 2,
       "version_minor": 0
      },
      "text/plain": [
       "Pandas Apply:   0%|          | 0/679 [00:00<?, ?it/s]"
      ]
     },
     "metadata": {},
     "output_type": "display_data"
    },
    {
     "data": {
      "application/vnd.jupyter.widget-view+json": {
       "model_id": "7452ae0e2bba45dc846603c69f20d4e4",
       "version_major": 2,
       "version_minor": 0
      },
      "text/plain": [
       "Pandas Apply:   0%|          | 0/679 [00:00<?, ?it/s]"
      ]
     },
     "metadata": {},
     "output_type": "display_data"
    },
    {
     "name": "stderr",
     "output_type": "stream",
     "text": [
      "/tmp/ipykernel_8304/2036736335.py:17: SettingWithCopyWarning: \n",
      "A value is trying to be set on a copy of a slice from a DataFrame.\n",
      "Try using .loc[row_indexer,col_indexer] = value instead\n",
      "\n",
      "See the caveats in the documentation: https://pandas.pydata.org/pandas-docs/stable/user_guide/indexing.html#returning-a-view-versus-a-copy\n",
      "  df['RS'] = df['Percent'] - dfCompare['Percent']\n"
     ]
    },
    {
     "data": {
      "application/vnd.jupyter.widget-view+json": {
       "model_id": "a5078786b09941feb6d082a1289ed5b8",
       "version_major": 2,
       "version_minor": 0
      },
      "text/plain": [
       "Pandas Apply:   0%|          | 0/676 [00:00<?, ?it/s]"
      ]
     },
     "metadata": {},
     "output_type": "display_data"
    },
    {
     "data": {
      "application/vnd.jupyter.widget-view+json": {
       "model_id": "d4c59857b5d14ffa9a88d933ac3efe3a",
       "version_major": 2,
       "version_minor": 0
      },
      "text/plain": [
       "Pandas Apply:   0%|          | 0/676 [00:00<?, ?it/s]"
      ]
     },
     "metadata": {},
     "output_type": "display_data"
    },
    {
     "name": "stderr",
     "output_type": "stream",
     "text": [
      "/tmp/ipykernel_8304/2036736335.py:17: SettingWithCopyWarning: \n",
      "A value is trying to be set on a copy of a slice from a DataFrame.\n",
      "Try using .loc[row_indexer,col_indexer] = value instead\n",
      "\n",
      "See the caveats in the documentation: https://pandas.pydata.org/pandas-docs/stable/user_guide/indexing.html#returning-a-view-versus-a-copy\n",
      "  df['RS'] = df['Percent'] - dfCompare['Percent']\n"
     ]
    },
    {
     "data": {
      "application/vnd.jupyter.widget-view+json": {
       "model_id": "3cc50d8d7db0489bb4e1200c947cfd89",
       "version_major": 2,
       "version_minor": 0
      },
      "text/plain": [
       "Pandas Apply:   0%|          | 0/196 [00:00<?, ?it/s]"
      ]
     },
     "metadata": {},
     "output_type": "display_data"
    },
    {
     "data": {
      "application/vnd.jupyter.widget-view+json": {
       "model_id": "7a44cb8a5e5147d4bba2c881626d77d3",
       "version_major": 2,
       "version_minor": 0
      },
      "text/plain": [
       "Pandas Apply:   0%|          | 0/196 [00:00<?, ?it/s]"
      ]
     },
     "metadata": {},
     "output_type": "display_data"
    },
    {
     "name": "stderr",
     "output_type": "stream",
     "text": [
      "/tmp/ipykernel_8304/2036736335.py:17: SettingWithCopyWarning: \n",
      "A value is trying to be set on a copy of a slice from a DataFrame.\n",
      "Try using .loc[row_indexer,col_indexer] = value instead\n",
      "\n",
      "See the caveats in the documentation: https://pandas.pydata.org/pandas-docs/stable/user_guide/indexing.html#returning-a-view-versus-a-copy\n",
      "  df['RS'] = df['Percent'] - dfCompare['Percent']\n"
     ]
    },
    {
     "data": {
      "application/vnd.jupyter.widget-view+json": {
       "model_id": "5914643049334a53be89450c8736f25c",
       "version_major": 2,
       "version_minor": 0
      },
      "text/plain": [
       "Pandas Apply:   0%|          | 0/228 [00:00<?, ?it/s]"
      ]
     },
     "metadata": {},
     "output_type": "display_data"
    },
    {
     "data": {
      "application/vnd.jupyter.widget-view+json": {
       "model_id": "4afc2d845515400b8520667ab92e9aa1",
       "version_major": 2,
       "version_minor": 0
      },
      "text/plain": [
       "Pandas Apply:   0%|          | 0/228 [00:00<?, ?it/s]"
      ]
     },
     "metadata": {},
     "output_type": "display_data"
    },
    {
     "name": "stderr",
     "output_type": "stream",
     "text": [
      "/tmp/ipykernel_8304/2036736335.py:17: SettingWithCopyWarning: \n",
      "A value is trying to be set on a copy of a slice from a DataFrame.\n",
      "Try using .loc[row_indexer,col_indexer] = value instead\n",
      "\n",
      "See the caveats in the documentation: https://pandas.pydata.org/pandas-docs/stable/user_guide/indexing.html#returning-a-view-versus-a-copy\n",
      "  df['RS'] = df['Percent'] - dfCompare['Percent']\n"
     ]
    },
    {
     "data": {
      "application/vnd.jupyter.widget-view+json": {
       "model_id": "f56a857bb19045d791b92b6f24fd0deb",
       "version_major": 2,
       "version_minor": 0
      },
      "text/plain": [
       "Pandas Apply:   0%|          | 0/378 [00:00<?, ?it/s]"
      ]
     },
     "metadata": {},
     "output_type": "display_data"
    },
    {
     "data": {
      "application/vnd.jupyter.widget-view+json": {
       "model_id": "8b510fb7c98f4123bdbb991fde5df0f9",
       "version_major": 2,
       "version_minor": 0
      },
      "text/plain": [
       "Pandas Apply:   0%|          | 0/378 [00:00<?, ?it/s]"
      ]
     },
     "metadata": {},
     "output_type": "display_data"
    },
    {
     "name": "stderr",
     "output_type": "stream",
     "text": [
      "/tmp/ipykernel_8304/2036736335.py:17: SettingWithCopyWarning: \n",
      "A value is trying to be set on a copy of a slice from a DataFrame.\n",
      "Try using .loc[row_indexer,col_indexer] = value instead\n",
      "\n",
      "See the caveats in the documentation: https://pandas.pydata.org/pandas-docs/stable/user_guide/indexing.html#returning-a-view-versus-a-copy\n",
      "  df['RS'] = df['Percent'] - dfCompare['Percent']\n"
     ]
    },
    {
     "data": {
      "application/vnd.jupyter.widget-view+json": {
       "model_id": "9467eceb8ceb424a8283dceeb1afb28f",
       "version_major": 2,
       "version_minor": 0
      },
      "text/plain": [
       "Pandas Apply:   0%|          | 0/321 [00:00<?, ?it/s]"
      ]
     },
     "metadata": {},
     "output_type": "display_data"
    },
    {
     "data": {
      "application/vnd.jupyter.widget-view+json": {
       "model_id": "943dcc566d904daea0590d0086b5cd8a",
       "version_major": 2,
       "version_minor": 0
      },
      "text/plain": [
       "Pandas Apply:   0%|          | 0/321 [00:00<?, ?it/s]"
      ]
     },
     "metadata": {},
     "output_type": "display_data"
    },
    {
     "name": "stderr",
     "output_type": "stream",
     "text": [
      "/tmp/ipykernel_8304/2036736335.py:17: SettingWithCopyWarning: \n",
      "A value is trying to be set on a copy of a slice from a DataFrame.\n",
      "Try using .loc[row_indexer,col_indexer] = value instead\n",
      "\n",
      "See the caveats in the documentation: https://pandas.pydata.org/pandas-docs/stable/user_guide/indexing.html#returning-a-view-versus-a-copy\n",
      "  df['RS'] = df['Percent'] - dfCompare['Percent']\n"
     ]
    },
    {
     "data": {
      "application/vnd.jupyter.widget-view+json": {
       "model_id": "43b5a995ccdd4b75868bbf683461a090",
       "version_major": 2,
       "version_minor": 0
      },
      "text/plain": [
       "Pandas Apply:   0%|          | 0/450 [00:00<?, ?it/s]"
      ]
     },
     "metadata": {},
     "output_type": "display_data"
    },
    {
     "data": {
      "application/vnd.jupyter.widget-view+json": {
       "model_id": "d52e69f98a4f45a6ab8db0778325fb35",
       "version_major": 2,
       "version_minor": 0
      },
      "text/plain": [
       "Pandas Apply:   0%|          | 0/450 [00:00<?, ?it/s]"
      ]
     },
     "metadata": {},
     "output_type": "display_data"
    },
    {
     "name": "stderr",
     "output_type": "stream",
     "text": [
      "/tmp/ipykernel_8304/2036736335.py:17: SettingWithCopyWarning: \n",
      "A value is trying to be set on a copy of a slice from a DataFrame.\n",
      "Try using .loc[row_indexer,col_indexer] = value instead\n",
      "\n",
      "See the caveats in the documentation: https://pandas.pydata.org/pandas-docs/stable/user_guide/indexing.html#returning-a-view-versus-a-copy\n",
      "  df['RS'] = df['Percent'] - dfCompare['Percent']\n"
     ]
    },
    {
     "data": {
      "application/vnd.jupyter.widget-view+json": {
       "model_id": "1176d58d3be049c19693b62431d18356",
       "version_major": 2,
       "version_minor": 0
      },
      "text/plain": [
       "Pandas Apply:   0%|          | 0/151 [00:00<?, ?it/s]"
      ]
     },
     "metadata": {},
     "output_type": "display_data"
    },
    {
     "data": {
      "application/vnd.jupyter.widget-view+json": {
       "model_id": "1215638a89d743baad6e7f8b6870c84d",
       "version_major": 2,
       "version_minor": 0
      },
      "text/plain": [
       "Pandas Apply:   0%|          | 0/151 [00:00<?, ?it/s]"
      ]
     },
     "metadata": {},
     "output_type": "display_data"
    },
    {
     "name": "stderr",
     "output_type": "stream",
     "text": [
      "/tmp/ipykernel_8304/2036736335.py:17: SettingWithCopyWarning: \n",
      "A value is trying to be set on a copy of a slice from a DataFrame.\n",
      "Try using .loc[row_indexer,col_indexer] = value instead\n",
      "\n",
      "See the caveats in the documentation: https://pandas.pydata.org/pandas-docs/stable/user_guide/indexing.html#returning-a-view-versus-a-copy\n",
      "  df['RS'] = df['Percent'] - dfCompare['Percent']\n"
     ]
    },
    {
     "data": {
      "application/vnd.jupyter.widget-view+json": {
       "model_id": "14e5f218f70e4209bf542cb8fbb10db7",
       "version_major": 2,
       "version_minor": 0
      },
      "text/plain": [
       "Pandas Apply:   0%|          | 0/398 [00:00<?, ?it/s]"
      ]
     },
     "metadata": {},
     "output_type": "display_data"
    },
    {
     "data": {
      "application/vnd.jupyter.widget-view+json": {
       "model_id": "cccf56dfc0bc4620a79afa48037916fc",
       "version_major": 2,
       "version_minor": 0
      },
      "text/plain": [
       "Pandas Apply:   0%|          | 0/398 [00:00<?, ?it/s]"
      ]
     },
     "metadata": {},
     "output_type": "display_data"
    },
    {
     "name": "stderr",
     "output_type": "stream",
     "text": [
      "/tmp/ipykernel_8304/2036736335.py:17: SettingWithCopyWarning: \n",
      "A value is trying to be set on a copy of a slice from a DataFrame.\n",
      "Try using .loc[row_indexer,col_indexer] = value instead\n",
      "\n",
      "See the caveats in the documentation: https://pandas.pydata.org/pandas-docs/stable/user_guide/indexing.html#returning-a-view-versus-a-copy\n",
      "  df['RS'] = df['Percent'] - dfCompare['Percent']\n"
     ]
    },
    {
     "data": {
      "application/vnd.jupyter.widget-view+json": {
       "model_id": "b9cd9b36966a4513b96bd57c9a8b80db",
       "version_major": 2,
       "version_minor": 0
      },
      "text/plain": [
       "Pandas Apply:   0%|          | 0/677 [00:00<?, ?it/s]"
      ]
     },
     "metadata": {},
     "output_type": "display_data"
    },
    {
     "data": {
      "application/vnd.jupyter.widget-view+json": {
       "model_id": "53201e88dd174473bd886595f66401ad",
       "version_major": 2,
       "version_minor": 0
      },
      "text/plain": [
       "Pandas Apply:   0%|          | 0/677 [00:00<?, ?it/s]"
      ]
     },
     "metadata": {},
     "output_type": "display_data"
    },
    {
     "name": "stderr",
     "output_type": "stream",
     "text": [
      "/tmp/ipykernel_8304/2036736335.py:17: SettingWithCopyWarning: \n",
      "A value is trying to be set on a copy of a slice from a DataFrame.\n",
      "Try using .loc[row_indexer,col_indexer] = value instead\n",
      "\n",
      "See the caveats in the documentation: https://pandas.pydata.org/pandas-docs/stable/user_guide/indexing.html#returning-a-view-versus-a-copy\n",
      "  df['RS'] = df['Percent'] - dfCompare['Percent']\n"
     ]
    },
    {
     "data": {
      "application/vnd.jupyter.widget-view+json": {
       "model_id": "27a44bb4a0f74b879ce233b35d82cee2",
       "version_major": 2,
       "version_minor": 0
      },
      "text/plain": [
       "Pandas Apply:   0%|          | 0/450 [00:00<?, ?it/s]"
      ]
     },
     "metadata": {},
     "output_type": "display_data"
    },
    {
     "data": {
      "application/vnd.jupyter.widget-view+json": {
       "model_id": "3e202eda7b4240adb333528093aaca4f",
       "version_major": 2,
       "version_minor": 0
      },
      "text/plain": [
       "Pandas Apply:   0%|          | 0/450 [00:00<?, ?it/s]"
      ]
     },
     "metadata": {},
     "output_type": "display_data"
    },
    {
     "name": "stderr",
     "output_type": "stream",
     "text": [
      "/tmp/ipykernel_8304/2036736335.py:17: SettingWithCopyWarning: \n",
      "A value is trying to be set on a copy of a slice from a DataFrame.\n",
      "Try using .loc[row_indexer,col_indexer] = value instead\n",
      "\n",
      "See the caveats in the documentation: https://pandas.pydata.org/pandas-docs/stable/user_guide/indexing.html#returning-a-view-versus-a-copy\n",
      "  df['RS'] = df['Percent'] - dfCompare['Percent']\n"
     ]
    },
    {
     "data": {
      "application/vnd.jupyter.widget-view+json": {
       "model_id": "2c96bdbfbc6b4a6ebb0dccba6aa3424b",
       "version_major": 2,
       "version_minor": 0
      },
      "text/plain": [
       "Pandas Apply:   0%|          | 0/119 [00:00<?, ?it/s]"
      ]
     },
     "metadata": {},
     "output_type": "display_data"
    },
    {
     "data": {
      "application/vnd.jupyter.widget-view+json": {
       "model_id": "8146cd4d865744c18f6a5046eb9f9ca6",
       "version_major": 2,
       "version_minor": 0
      },
      "text/plain": [
       "Pandas Apply:   0%|          | 0/119 [00:00<?, ?it/s]"
      ]
     },
     "metadata": {},
     "output_type": "display_data"
    },
    {
     "name": "stderr",
     "output_type": "stream",
     "text": [
      "/tmp/ipykernel_8304/2036736335.py:17: SettingWithCopyWarning: \n",
      "A value is trying to be set on a copy of a slice from a DataFrame.\n",
      "Try using .loc[row_indexer,col_indexer] = value instead\n",
      "\n",
      "See the caveats in the documentation: https://pandas.pydata.org/pandas-docs/stable/user_guide/indexing.html#returning-a-view-versus-a-copy\n",
      "  df['RS'] = df['Percent'] - dfCompare['Percent']\n"
     ]
    },
    {
     "data": {
      "application/vnd.jupyter.widget-view+json": {
       "model_id": "a5170a8e76c54ef3868ae4a8f8c921de",
       "version_major": 2,
       "version_minor": 0
      },
      "text/plain": [
       "Pandas Apply:   0%|          | 0/679 [00:00<?, ?it/s]"
      ]
     },
     "metadata": {},
     "output_type": "display_data"
    },
    {
     "data": {
      "application/vnd.jupyter.widget-view+json": {
       "model_id": "e79945ec869347a99b7f6cad7555439f",
       "version_major": 2,
       "version_minor": 0
      },
      "text/plain": [
       "Pandas Apply:   0%|          | 0/679 [00:00<?, ?it/s]"
      ]
     },
     "metadata": {},
     "output_type": "display_data"
    },
    {
     "name": "stderr",
     "output_type": "stream",
     "text": [
      "/tmp/ipykernel_8304/2036736335.py:17: SettingWithCopyWarning: \n",
      "A value is trying to be set on a copy of a slice from a DataFrame.\n",
      "Try using .loc[row_indexer,col_indexer] = value instead\n",
      "\n",
      "See the caveats in the documentation: https://pandas.pydata.org/pandas-docs/stable/user_guide/indexing.html#returning-a-view-versus-a-copy\n",
      "  df['RS'] = df['Percent'] - dfCompare['Percent']\n"
     ]
    },
    {
     "data": {
      "application/vnd.jupyter.widget-view+json": {
       "model_id": "59e9cffdf6b0478f93c35bd92ccef28b",
       "version_major": 2,
       "version_minor": 0
      },
      "text/plain": [
       "Pandas Apply:   0%|          | 0/679 [00:00<?, ?it/s]"
      ]
     },
     "metadata": {},
     "output_type": "display_data"
    },
    {
     "data": {
      "application/vnd.jupyter.widget-view+json": {
       "model_id": "e768ba668e5a42f5b5cc254eb8a537e6",
       "version_major": 2,
       "version_minor": 0
      },
      "text/plain": [
       "Pandas Apply:   0%|          | 0/679 [00:00<?, ?it/s]"
      ]
     },
     "metadata": {},
     "output_type": "display_data"
    },
    {
     "name": "stderr",
     "output_type": "stream",
     "text": [
      "/tmp/ipykernel_8304/2036736335.py:17: SettingWithCopyWarning: \n",
      "A value is trying to be set on a copy of a slice from a DataFrame.\n",
      "Try using .loc[row_indexer,col_indexer] = value instead\n",
      "\n",
      "See the caveats in the documentation: https://pandas.pydata.org/pandas-docs/stable/user_guide/indexing.html#returning-a-view-versus-a-copy\n",
      "  df['RS'] = df['Percent'] - dfCompare['Percent']\n"
     ]
    },
    {
     "data": {
      "application/vnd.jupyter.widget-view+json": {
       "model_id": "1d9a710874084e26aea31a5cd4a92b3b",
       "version_major": 2,
       "version_minor": 0
      },
      "text/plain": [
       "Pandas Apply:   0%|          | 0/163 [00:00<?, ?it/s]"
      ]
     },
     "metadata": {},
     "output_type": "display_data"
    },
    {
     "data": {
      "application/vnd.jupyter.widget-view+json": {
       "model_id": "9d2435d71afe408c906e69ea83262514",
       "version_major": 2,
       "version_minor": 0
      },
      "text/plain": [
       "Pandas Apply:   0%|          | 0/163 [00:00<?, ?it/s]"
      ]
     },
     "metadata": {},
     "output_type": "display_data"
    },
    {
     "name": "stderr",
     "output_type": "stream",
     "text": [
      "/tmp/ipykernel_8304/2036736335.py:17: SettingWithCopyWarning: \n",
      "A value is trying to be set on a copy of a slice from a DataFrame.\n",
      "Try using .loc[row_indexer,col_indexer] = value instead\n",
      "\n",
      "See the caveats in the documentation: https://pandas.pydata.org/pandas-docs/stable/user_guide/indexing.html#returning-a-view-versus-a-copy\n",
      "  df['RS'] = df['Percent'] - dfCompare['Percent']\n"
     ]
    },
    {
     "data": {
      "application/vnd.jupyter.widget-view+json": {
       "model_id": "99b46a4ba7be4705b0eb6e6c9002bb91",
       "version_major": 2,
       "version_minor": 0
      },
      "text/plain": [
       "Pandas Apply:   0%|          | 0/679 [00:00<?, ?it/s]"
      ]
     },
     "metadata": {},
     "output_type": "display_data"
    },
    {
     "data": {
      "application/vnd.jupyter.widget-view+json": {
       "model_id": "55133d717fd94d13935816df74a3c916",
       "version_major": 2,
       "version_minor": 0
      },
      "text/plain": [
       "Pandas Apply:   0%|          | 0/679 [00:00<?, ?it/s]"
      ]
     },
     "metadata": {},
     "output_type": "display_data"
    },
    {
     "name": "stderr",
     "output_type": "stream",
     "text": [
      "/tmp/ipykernel_8304/2036736335.py:17: SettingWithCopyWarning: \n",
      "A value is trying to be set on a copy of a slice from a DataFrame.\n",
      "Try using .loc[row_indexer,col_indexer] = value instead\n",
      "\n",
      "See the caveats in the documentation: https://pandas.pydata.org/pandas-docs/stable/user_guide/indexing.html#returning-a-view-versus-a-copy\n",
      "  df['RS'] = df['Percent'] - dfCompare['Percent']\n"
     ]
    },
    {
     "data": {
      "application/vnd.jupyter.widget-view+json": {
       "model_id": "c4957a25bf4d4e9a9418ec28c7cfff72",
       "version_major": 2,
       "version_minor": 0
      },
      "text/plain": [
       "Pandas Apply:   0%|          | 0/205 [00:00<?, ?it/s]"
      ]
     },
     "metadata": {},
     "output_type": "display_data"
    },
    {
     "data": {
      "application/vnd.jupyter.widget-view+json": {
       "model_id": "7c16380d0b134b1c8b3856555a3eab75",
       "version_major": 2,
       "version_minor": 0
      },
      "text/plain": [
       "Pandas Apply:   0%|          | 0/205 [00:00<?, ?it/s]"
      ]
     },
     "metadata": {},
     "output_type": "display_data"
    },
    {
     "name": "stderr",
     "output_type": "stream",
     "text": [
      "/tmp/ipykernel_8304/2036736335.py:17: SettingWithCopyWarning: \n",
      "A value is trying to be set on a copy of a slice from a DataFrame.\n",
      "Try using .loc[row_indexer,col_indexer] = value instead\n",
      "\n",
      "See the caveats in the documentation: https://pandas.pydata.org/pandas-docs/stable/user_guide/indexing.html#returning-a-view-versus-a-copy\n",
      "  df['RS'] = df['Percent'] - dfCompare['Percent']\n"
     ]
    },
    {
     "data": {
      "application/vnd.jupyter.widget-view+json": {
       "model_id": "d164c30dd20242cf86118f3cd81f4b46",
       "version_major": 2,
       "version_minor": 0
      },
      "text/plain": [
       "Pandas Apply:   0%|          | 0/531 [00:00<?, ?it/s]"
      ]
     },
     "metadata": {},
     "output_type": "display_data"
    },
    {
     "data": {
      "application/vnd.jupyter.widget-view+json": {
       "model_id": "2874280190bd471da034e8a343ea2ece",
       "version_major": 2,
       "version_minor": 0
      },
      "text/plain": [
       "Pandas Apply:   0%|          | 0/531 [00:00<?, ?it/s]"
      ]
     },
     "metadata": {},
     "output_type": "display_data"
    },
    {
     "name": "stderr",
     "output_type": "stream",
     "text": [
      "/tmp/ipykernel_8304/2036736335.py:17: SettingWithCopyWarning: \n",
      "A value is trying to be set on a copy of a slice from a DataFrame.\n",
      "Try using .loc[row_indexer,col_indexer] = value instead\n",
      "\n",
      "See the caveats in the documentation: https://pandas.pydata.org/pandas-docs/stable/user_guide/indexing.html#returning-a-view-versus-a-copy\n",
      "  df['RS'] = df['Percent'] - dfCompare['Percent']\n"
     ]
    },
    {
     "data": {
      "application/vnd.jupyter.widget-view+json": {
       "model_id": "3a869545cfaa4be2baacf3f8712bcf5d",
       "version_major": 2,
       "version_minor": 0
      },
      "text/plain": [
       "Pandas Apply:   0%|          | 0/199 [00:00<?, ?it/s]"
      ]
     },
     "metadata": {},
     "output_type": "display_data"
    },
    {
     "data": {
      "application/vnd.jupyter.widget-view+json": {
       "model_id": "8d01b6b1ca3a4b0c99476bf90928e32c",
       "version_major": 2,
       "version_minor": 0
      },
      "text/plain": [
       "Pandas Apply:   0%|          | 0/199 [00:00<?, ?it/s]"
      ]
     },
     "metadata": {},
     "output_type": "display_data"
    },
    {
     "name": "stderr",
     "output_type": "stream",
     "text": [
      "/tmp/ipykernel_8304/2036736335.py:17: SettingWithCopyWarning: \n",
      "A value is trying to be set on a copy of a slice from a DataFrame.\n",
      "Try using .loc[row_indexer,col_indexer] = value instead\n",
      "\n",
      "See the caveats in the documentation: https://pandas.pydata.org/pandas-docs/stable/user_guide/indexing.html#returning-a-view-versus-a-copy\n",
      "  df['RS'] = df['Percent'] - dfCompare['Percent']\n"
     ]
    },
    {
     "data": {
      "application/vnd.jupyter.widget-view+json": {
       "model_id": "af1bd306855b44d2a7ac380d186e8914",
       "version_major": 2,
       "version_minor": 0
      },
      "text/plain": [
       "Pandas Apply:   0%|          | 0/679 [00:00<?, ?it/s]"
      ]
     },
     "metadata": {},
     "output_type": "display_data"
    },
    {
     "data": {
      "application/vnd.jupyter.widget-view+json": {
       "model_id": "65b36d9e83cc4661a86f1a4825a801d1",
       "version_major": 2,
       "version_minor": 0
      },
      "text/plain": [
       "Pandas Apply:   0%|          | 0/679 [00:00<?, ?it/s]"
      ]
     },
     "metadata": {},
     "output_type": "display_data"
    },
    {
     "name": "stderr",
     "output_type": "stream",
     "text": [
      "/tmp/ipykernel_8304/2036736335.py:17: SettingWithCopyWarning: \n",
      "A value is trying to be set on a copy of a slice from a DataFrame.\n",
      "Try using .loc[row_indexer,col_indexer] = value instead\n",
      "\n",
      "See the caveats in the documentation: https://pandas.pydata.org/pandas-docs/stable/user_guide/indexing.html#returning-a-view-versus-a-copy\n",
      "  df['RS'] = df['Percent'] - dfCompare['Percent']\n"
     ]
    },
    {
     "data": {
      "application/vnd.jupyter.widget-view+json": {
       "model_id": "9d4dbef879cc4a0d97f5054264bb596b",
       "version_major": 2,
       "version_minor": 0
      },
      "text/plain": [
       "Pandas Apply:   0%|          | 0/451 [00:00<?, ?it/s]"
      ]
     },
     "metadata": {},
     "output_type": "display_data"
    },
    {
     "data": {
      "application/vnd.jupyter.widget-view+json": {
       "model_id": "7dc19cbb0bfc49b28cfaa56dd1a86f46",
       "version_major": 2,
       "version_minor": 0
      },
      "text/plain": [
       "Pandas Apply:   0%|          | 0/451 [00:00<?, ?it/s]"
      ]
     },
     "metadata": {},
     "output_type": "display_data"
    },
    {
     "name": "stderr",
     "output_type": "stream",
     "text": [
      "/tmp/ipykernel_8304/2036736335.py:17: SettingWithCopyWarning: \n",
      "A value is trying to be set on a copy of a slice from a DataFrame.\n",
      "Try using .loc[row_indexer,col_indexer] = value instead\n",
      "\n",
      "See the caveats in the documentation: https://pandas.pydata.org/pandas-docs/stable/user_guide/indexing.html#returning-a-view-versus-a-copy\n",
      "  df['RS'] = df['Percent'] - dfCompare['Percent']\n"
     ]
    },
    {
     "data": {
      "application/vnd.jupyter.widget-view+json": {
       "model_id": "c6e9baf92d9047b593db309142b0d61b",
       "version_major": 2,
       "version_minor": 0
      },
      "text/plain": [
       "Pandas Apply:   0%|          | 0/378 [00:00<?, ?it/s]"
      ]
     },
     "metadata": {},
     "output_type": "display_data"
    },
    {
     "data": {
      "application/vnd.jupyter.widget-view+json": {
       "model_id": "d3272c3f453246bc9ef686ca98c12f79",
       "version_major": 2,
       "version_minor": 0
      },
      "text/plain": [
       "Pandas Apply:   0%|          | 0/378 [00:00<?, ?it/s]"
      ]
     },
     "metadata": {},
     "output_type": "display_data"
    },
    {
     "name": "stderr",
     "output_type": "stream",
     "text": [
      "/tmp/ipykernel_8304/2036736335.py:17: SettingWithCopyWarning: \n",
      "A value is trying to be set on a copy of a slice from a DataFrame.\n",
      "Try using .loc[row_indexer,col_indexer] = value instead\n",
      "\n",
      "See the caveats in the documentation: https://pandas.pydata.org/pandas-docs/stable/user_guide/indexing.html#returning-a-view-versus-a-copy\n",
      "  df['RS'] = df['Percent'] - dfCompare['Percent']\n"
     ]
    },
    {
     "data": {
      "application/vnd.jupyter.widget-view+json": {
       "model_id": "d9a238109bdc4c5da2eac3e3bb7d7017",
       "version_major": 2,
       "version_minor": 0
      },
      "text/plain": [
       "Pandas Apply:   0%|          | 0/342 [00:00<?, ?it/s]"
      ]
     },
     "metadata": {},
     "output_type": "display_data"
    },
    {
     "data": {
      "application/vnd.jupyter.widget-view+json": {
       "model_id": "37fd36314f824de195dc0e8f87ebff22",
       "version_major": 2,
       "version_minor": 0
      },
      "text/plain": [
       "Pandas Apply:   0%|          | 0/342 [00:00<?, ?it/s]"
      ]
     },
     "metadata": {},
     "output_type": "display_data"
    },
    {
     "name": "stderr",
     "output_type": "stream",
     "text": [
      "/tmp/ipykernel_8304/2036736335.py:17: SettingWithCopyWarning: \n",
      "A value is trying to be set on a copy of a slice from a DataFrame.\n",
      "Try using .loc[row_indexer,col_indexer] = value instead\n",
      "\n",
      "See the caveats in the documentation: https://pandas.pydata.org/pandas-docs/stable/user_guide/indexing.html#returning-a-view-versus-a-copy\n",
      "  df['RS'] = df['Percent'] - dfCompare['Percent']\n"
     ]
    },
    {
     "data": {
      "application/vnd.jupyter.widget-view+json": {
       "model_id": "e5933479bfdc4516a1a9520f4d7cf2c2",
       "version_major": 2,
       "version_minor": 0
      },
      "text/plain": [
       "Pandas Apply:   0%|          | 0/402 [00:00<?, ?it/s]"
      ]
     },
     "metadata": {},
     "output_type": "display_data"
    },
    {
     "data": {
      "application/vnd.jupyter.widget-view+json": {
       "model_id": "520bed1e3e4046a0b8033fa7bc4bb491",
       "version_major": 2,
       "version_minor": 0
      },
      "text/plain": [
       "Pandas Apply:   0%|          | 0/402 [00:00<?, ?it/s]"
      ]
     },
     "metadata": {},
     "output_type": "display_data"
    },
    {
     "name": "stderr",
     "output_type": "stream",
     "text": [
      "/tmp/ipykernel_8304/2036736335.py:17: SettingWithCopyWarning: \n",
      "A value is trying to be set on a copy of a slice from a DataFrame.\n",
      "Try using .loc[row_indexer,col_indexer] = value instead\n",
      "\n",
      "See the caveats in the documentation: https://pandas.pydata.org/pandas-docs/stable/user_guide/indexing.html#returning-a-view-versus-a-copy\n",
      "  df['RS'] = df['Percent'] - dfCompare['Percent']\n"
     ]
    },
    {
     "data": {
      "application/vnd.jupyter.widget-view+json": {
       "model_id": "6fcecc1d31c545c99a319c4d6d1fe898",
       "version_major": 2,
       "version_minor": 0
      },
      "text/plain": [
       "Pandas Apply:   0%|          | 0/427 [00:00<?, ?it/s]"
      ]
     },
     "metadata": {},
     "output_type": "display_data"
    },
    {
     "data": {
      "application/vnd.jupyter.widget-view+json": {
       "model_id": "595b6777a2d4424b8b37f85c0028ceee",
       "version_major": 2,
       "version_minor": 0
      },
      "text/plain": [
       "Pandas Apply:   0%|          | 0/427 [00:00<?, ?it/s]"
      ]
     },
     "metadata": {},
     "output_type": "display_data"
    },
    {
     "name": "stderr",
     "output_type": "stream",
     "text": [
      "/tmp/ipykernel_8304/2036736335.py:17: SettingWithCopyWarning: \n",
      "A value is trying to be set on a copy of a slice from a DataFrame.\n",
      "Try using .loc[row_indexer,col_indexer] = value instead\n",
      "\n",
      "See the caveats in the documentation: https://pandas.pydata.org/pandas-docs/stable/user_guide/indexing.html#returning-a-view-versus-a-copy\n",
      "  df['RS'] = df['Percent'] - dfCompare['Percent']\n"
     ]
    },
    {
     "data": {
      "application/vnd.jupyter.widget-view+json": {
       "model_id": "73d793c7769d42cbb48205626426d710",
       "version_major": 2,
       "version_minor": 0
      },
      "text/plain": [
       "Pandas Apply:   0%|          | 0/416 [00:00<?, ?it/s]"
      ]
     },
     "metadata": {},
     "output_type": "display_data"
    },
    {
     "data": {
      "application/vnd.jupyter.widget-view+json": {
       "model_id": "955150a694844717a12520292fbacfd1",
       "version_major": 2,
       "version_minor": 0
      },
      "text/plain": [
       "Pandas Apply:   0%|          | 0/416 [00:00<?, ?it/s]"
      ]
     },
     "metadata": {},
     "output_type": "display_data"
    },
    {
     "name": "stderr",
     "output_type": "stream",
     "text": [
      "/tmp/ipykernel_8304/2036736335.py:17: SettingWithCopyWarning: \n",
      "A value is trying to be set on a copy of a slice from a DataFrame.\n",
      "Try using .loc[row_indexer,col_indexer] = value instead\n",
      "\n",
      "See the caveats in the documentation: https://pandas.pydata.org/pandas-docs/stable/user_guide/indexing.html#returning-a-view-versus-a-copy\n",
      "  df['RS'] = df['Percent'] - dfCompare['Percent']\n"
     ]
    },
    {
     "data": {
      "application/vnd.jupyter.widget-view+json": {
       "model_id": "02500d6a907e4012ba21795dc666db47",
       "version_major": 2,
       "version_minor": 0
      },
      "text/plain": [
       "Pandas Apply:   0%|          | 0/679 [00:00<?, ?it/s]"
      ]
     },
     "metadata": {},
     "output_type": "display_data"
    },
    {
     "data": {
      "application/vnd.jupyter.widget-view+json": {
       "model_id": "d6cbc9d36b114ffda52f57a0dace0918",
       "version_major": 2,
       "version_minor": 0
      },
      "text/plain": [
       "Pandas Apply:   0%|          | 0/679 [00:00<?, ?it/s]"
      ]
     },
     "metadata": {},
     "output_type": "display_data"
    },
    {
     "name": "stderr",
     "output_type": "stream",
     "text": [
      "/tmp/ipykernel_8304/2036736335.py:17: SettingWithCopyWarning: \n",
      "A value is trying to be set on a copy of a slice from a DataFrame.\n",
      "Try using .loc[row_indexer,col_indexer] = value instead\n",
      "\n",
      "See the caveats in the documentation: https://pandas.pydata.org/pandas-docs/stable/user_guide/indexing.html#returning-a-view-versus-a-copy\n",
      "  df['RS'] = df['Percent'] - dfCompare['Percent']\n"
     ]
    },
    {
     "data": {
      "application/vnd.jupyter.widget-view+json": {
       "model_id": "6e3830b9ce6a4c0ca0ad1a9365223428",
       "version_major": 2,
       "version_minor": 0
      },
      "text/plain": [
       "Pandas Apply:   0%|          | 0/197 [00:00<?, ?it/s]"
      ]
     },
     "metadata": {},
     "output_type": "display_data"
    },
    {
     "data": {
      "application/vnd.jupyter.widget-view+json": {
       "model_id": "6fc0fa00395446a6b4612b95be299000",
       "version_major": 2,
       "version_minor": 0
      },
      "text/plain": [
       "Pandas Apply:   0%|          | 0/197 [00:00<?, ?it/s]"
      ]
     },
     "metadata": {},
     "output_type": "display_data"
    },
    {
     "name": "stderr",
     "output_type": "stream",
     "text": [
      "/tmp/ipykernel_8304/2036736335.py:17: SettingWithCopyWarning: \n",
      "A value is trying to be set on a copy of a slice from a DataFrame.\n",
      "Try using .loc[row_indexer,col_indexer] = value instead\n",
      "\n",
      "See the caveats in the documentation: https://pandas.pydata.org/pandas-docs/stable/user_guide/indexing.html#returning-a-view-versus-a-copy\n",
      "  df['RS'] = df['Percent'] - dfCompare['Percent']\n"
     ]
    },
    {
     "data": {
      "application/vnd.jupyter.widget-view+json": {
       "model_id": "e8260e903a11446bb3d17189a4ce88bf",
       "version_major": 2,
       "version_minor": 0
      },
      "text/plain": [
       "Pandas Apply:   0%|          | 0/679 [00:00<?, ?it/s]"
      ]
     },
     "metadata": {},
     "output_type": "display_data"
    },
    {
     "data": {
      "application/vnd.jupyter.widget-view+json": {
       "model_id": "8ca1e50a1b524b0ab6bfbd2201ed6fbf",
       "version_major": 2,
       "version_minor": 0
      },
      "text/plain": [
       "Pandas Apply:   0%|          | 0/679 [00:00<?, ?it/s]"
      ]
     },
     "metadata": {},
     "output_type": "display_data"
    },
    {
     "name": "stderr",
     "output_type": "stream",
     "text": [
      "/tmp/ipykernel_8304/2036736335.py:17: SettingWithCopyWarning: \n",
      "A value is trying to be set on a copy of a slice from a DataFrame.\n",
      "Try using .loc[row_indexer,col_indexer] = value instead\n",
      "\n",
      "See the caveats in the documentation: https://pandas.pydata.org/pandas-docs/stable/user_guide/indexing.html#returning-a-view-versus-a-copy\n",
      "  df['RS'] = df['Percent'] - dfCompare['Percent']\n"
     ]
    },
    {
     "data": {
      "application/vnd.jupyter.widget-view+json": {
       "model_id": "74af1f935ed248a2b10b5d64ea62970d",
       "version_major": 2,
       "version_minor": 0
      },
      "text/plain": [
       "Pandas Apply:   0%|          | 0/204 [00:00<?, ?it/s]"
      ]
     },
     "metadata": {},
     "output_type": "display_data"
    },
    {
     "data": {
      "application/vnd.jupyter.widget-view+json": {
       "model_id": "be0c04156b75472a8be033e746d173bc",
       "version_major": 2,
       "version_minor": 0
      },
      "text/plain": [
       "Pandas Apply:   0%|          | 0/204 [00:00<?, ?it/s]"
      ]
     },
     "metadata": {},
     "output_type": "display_data"
    },
    {
     "name": "stderr",
     "output_type": "stream",
     "text": [
      "/tmp/ipykernel_8304/2036736335.py:17: SettingWithCopyWarning: \n",
      "A value is trying to be set on a copy of a slice from a DataFrame.\n",
      "Try using .loc[row_indexer,col_indexer] = value instead\n",
      "\n",
      "See the caveats in the documentation: https://pandas.pydata.org/pandas-docs/stable/user_guide/indexing.html#returning-a-view-versus-a-copy\n",
      "  df['RS'] = df['Percent'] - dfCompare['Percent']\n"
     ]
    },
    {
     "data": {
      "application/vnd.jupyter.widget-view+json": {
       "model_id": "53465bf7ac694d9085b3cfb2cddd3f2c",
       "version_major": 2,
       "version_minor": 0
      },
      "text/plain": [
       "Pandas Apply:   0%|          | 0/191 [00:00<?, ?it/s]"
      ]
     },
     "metadata": {},
     "output_type": "display_data"
    },
    {
     "data": {
      "application/vnd.jupyter.widget-view+json": {
       "model_id": "ad15d65200ce4bbb9a82d23dcb198726",
       "version_major": 2,
       "version_minor": 0
      },
      "text/plain": [
       "Pandas Apply:   0%|          | 0/191 [00:00<?, ?it/s]"
      ]
     },
     "metadata": {},
     "output_type": "display_data"
    },
    {
     "name": "stderr",
     "output_type": "stream",
     "text": [
      "/tmp/ipykernel_8304/2036736335.py:17: SettingWithCopyWarning: \n",
      "A value is trying to be set on a copy of a slice from a DataFrame.\n",
      "Try using .loc[row_indexer,col_indexer] = value instead\n",
      "\n",
      "See the caveats in the documentation: https://pandas.pydata.org/pandas-docs/stable/user_guide/indexing.html#returning-a-view-versus-a-copy\n",
      "  df['RS'] = df['Percent'] - dfCompare['Percent']\n"
     ]
    },
    {
     "data": {
      "application/vnd.jupyter.widget-view+json": {
       "model_id": "690d732256df4fc5ae245daf3ff964d3",
       "version_major": 2,
       "version_minor": 0
      },
      "text/plain": [
       "Pandas Apply:   0%|          | 0/217 [00:00<?, ?it/s]"
      ]
     },
     "metadata": {},
     "output_type": "display_data"
    },
    {
     "data": {
      "application/vnd.jupyter.widget-view+json": {
       "model_id": "983015fbdc544f0bb3defb6ec1ac1b88",
       "version_major": 2,
       "version_minor": 0
      },
      "text/plain": [
       "Pandas Apply:   0%|          | 0/217 [00:00<?, ?it/s]"
      ]
     },
     "metadata": {},
     "output_type": "display_data"
    },
    {
     "name": "stderr",
     "output_type": "stream",
     "text": [
      "/tmp/ipykernel_8304/2036736335.py:17: SettingWithCopyWarning: \n",
      "A value is trying to be set on a copy of a slice from a DataFrame.\n",
      "Try using .loc[row_indexer,col_indexer] = value instead\n",
      "\n",
      "See the caveats in the documentation: https://pandas.pydata.org/pandas-docs/stable/user_guide/indexing.html#returning-a-view-versus-a-copy\n",
      "  df['RS'] = df['Percent'] - dfCompare['Percent']\n"
     ]
    },
    {
     "data": {
      "application/vnd.jupyter.widget-view+json": {
       "model_id": "0b349053d92c41af9b25fcfa5977ad9f",
       "version_major": 2,
       "version_minor": 0
      },
      "text/plain": [
       "Pandas Apply:   0%|          | 0/397 [00:00<?, ?it/s]"
      ]
     },
     "metadata": {},
     "output_type": "display_data"
    },
    {
     "data": {
      "application/vnd.jupyter.widget-view+json": {
       "model_id": "8b8ed44ec5e946b2945324cdbb4f9517",
       "version_major": 2,
       "version_minor": 0
      },
      "text/plain": [
       "Pandas Apply:   0%|          | 0/397 [00:00<?, ?it/s]"
      ]
     },
     "metadata": {},
     "output_type": "display_data"
    },
    {
     "name": "stderr",
     "output_type": "stream",
     "text": [
      "/tmp/ipykernel_8304/2036736335.py:17: SettingWithCopyWarning: \n",
      "A value is trying to be set on a copy of a slice from a DataFrame.\n",
      "Try using .loc[row_indexer,col_indexer] = value instead\n",
      "\n",
      "See the caveats in the documentation: https://pandas.pydata.org/pandas-docs/stable/user_guide/indexing.html#returning-a-view-versus-a-copy\n",
      "  df['RS'] = df['Percent'] - dfCompare['Percent']\n"
     ]
    },
    {
     "data": {
      "application/vnd.jupyter.widget-view+json": {
       "model_id": "bd0a0e390b384a6b929c9b94772ac0c2",
       "version_major": 2,
       "version_minor": 0
      },
      "text/plain": [
       "Pandas Apply:   0%|          | 0/405 [00:00<?, ?it/s]"
      ]
     },
     "metadata": {},
     "output_type": "display_data"
    },
    {
     "data": {
      "application/vnd.jupyter.widget-view+json": {
       "model_id": "3bbd0324ec634c94adc7493cb1704a51",
       "version_major": 2,
       "version_minor": 0
      },
      "text/plain": [
       "Pandas Apply:   0%|          | 0/405 [00:00<?, ?it/s]"
      ]
     },
     "metadata": {},
     "output_type": "display_data"
    },
    {
     "name": "stderr",
     "output_type": "stream",
     "text": [
      "/tmp/ipykernel_8304/2036736335.py:17: SettingWithCopyWarning: \n",
      "A value is trying to be set on a copy of a slice from a DataFrame.\n",
      "Try using .loc[row_indexer,col_indexer] = value instead\n",
      "\n",
      "See the caveats in the documentation: https://pandas.pydata.org/pandas-docs/stable/user_guide/indexing.html#returning-a-view-versus-a-copy\n",
      "  df['RS'] = df['Percent'] - dfCompare['Percent']\n"
     ]
    },
    {
     "data": {
      "application/vnd.jupyter.widget-view+json": {
       "model_id": "50d4f72683de44b885b865eee6719f3a",
       "version_major": 2,
       "version_minor": 0
      },
      "text/plain": [
       "Pandas Apply:   0%|          | 0/204 [00:00<?, ?it/s]"
      ]
     },
     "metadata": {},
     "output_type": "display_data"
    },
    {
     "data": {
      "application/vnd.jupyter.widget-view+json": {
       "model_id": "f6156aac6a9b48efb468f7eda0d3e8f3",
       "version_major": 2,
       "version_minor": 0
      },
      "text/plain": [
       "Pandas Apply:   0%|          | 0/204 [00:00<?, ?it/s]"
      ]
     },
     "metadata": {},
     "output_type": "display_data"
    },
    {
     "name": "stderr",
     "output_type": "stream",
     "text": [
      "/tmp/ipykernel_8304/2036736335.py:17: SettingWithCopyWarning: \n",
      "A value is trying to be set on a copy of a slice from a DataFrame.\n",
      "Try using .loc[row_indexer,col_indexer] = value instead\n",
      "\n",
      "See the caveats in the documentation: https://pandas.pydata.org/pandas-docs/stable/user_guide/indexing.html#returning-a-view-versus-a-copy\n",
      "  df['RS'] = df['Percent'] - dfCompare['Percent']\n"
     ]
    },
    {
     "data": {
      "application/vnd.jupyter.widget-view+json": {
       "model_id": "1de79be9c02d4322b5c0051132fb7306",
       "version_major": 2,
       "version_minor": 0
      },
      "text/plain": [
       "Pandas Apply:   0%|          | 0/367 [00:00<?, ?it/s]"
      ]
     },
     "metadata": {},
     "output_type": "display_data"
    },
    {
     "data": {
      "application/vnd.jupyter.widget-view+json": {
       "model_id": "85452b58b46a46799e323ee5c3c693bd",
       "version_major": 2,
       "version_minor": 0
      },
      "text/plain": [
       "Pandas Apply:   0%|          | 0/367 [00:00<?, ?it/s]"
      ]
     },
     "metadata": {},
     "output_type": "display_data"
    },
    {
     "name": "stderr",
     "output_type": "stream",
     "text": [
      "/tmp/ipykernel_8304/2036736335.py:17: SettingWithCopyWarning: \n",
      "A value is trying to be set on a copy of a slice from a DataFrame.\n",
      "Try using .loc[row_indexer,col_indexer] = value instead\n",
      "\n",
      "See the caveats in the documentation: https://pandas.pydata.org/pandas-docs/stable/user_guide/indexing.html#returning-a-view-versus-a-copy\n",
      "  df['RS'] = df['Percent'] - dfCompare['Percent']\n"
     ]
    },
    {
     "data": {
      "application/vnd.jupyter.widget-view+json": {
       "model_id": "18a25c0089fa42c7957746a417a01cbe",
       "version_major": 2,
       "version_minor": 0
      },
      "text/plain": [
       "Pandas Apply:   0%|          | 0/295 [00:00<?, ?it/s]"
      ]
     },
     "metadata": {},
     "output_type": "display_data"
    },
    {
     "data": {
      "application/vnd.jupyter.widget-view+json": {
       "model_id": "515008df5ff04bbcb54765959fd9b669",
       "version_major": 2,
       "version_minor": 0
      },
      "text/plain": [
       "Pandas Apply:   0%|          | 0/295 [00:00<?, ?it/s]"
      ]
     },
     "metadata": {},
     "output_type": "display_data"
    },
    {
     "name": "stderr",
     "output_type": "stream",
     "text": [
      "/tmp/ipykernel_8304/2036736335.py:17: SettingWithCopyWarning: \n",
      "A value is trying to be set on a copy of a slice from a DataFrame.\n",
      "Try using .loc[row_indexer,col_indexer] = value instead\n",
      "\n",
      "See the caveats in the documentation: https://pandas.pydata.org/pandas-docs/stable/user_guide/indexing.html#returning-a-view-versus-a-copy\n",
      "  df['RS'] = df['Percent'] - dfCompare['Percent']\n"
     ]
    },
    {
     "data": {
      "application/vnd.jupyter.widget-view+json": {
       "model_id": "0ccb1823ef4449e8aa0599ce838912e7",
       "version_major": 2,
       "version_minor": 0
      },
      "text/plain": [
       "Pandas Apply:   0%|          | 0/679 [00:00<?, ?it/s]"
      ]
     },
     "metadata": {},
     "output_type": "display_data"
    },
    {
     "data": {
      "application/vnd.jupyter.widget-view+json": {
       "model_id": "a80afc054e9148e6bd3fbdecdd4c9823",
       "version_major": 2,
       "version_minor": 0
      },
      "text/plain": [
       "Pandas Apply:   0%|          | 0/679 [00:00<?, ?it/s]"
      ]
     },
     "metadata": {},
     "output_type": "display_data"
    },
    {
     "name": "stderr",
     "output_type": "stream",
     "text": [
      "/tmp/ipykernel_8304/2036736335.py:17: SettingWithCopyWarning: \n",
      "A value is trying to be set on a copy of a slice from a DataFrame.\n",
      "Try using .loc[row_indexer,col_indexer] = value instead\n",
      "\n",
      "See the caveats in the documentation: https://pandas.pydata.org/pandas-docs/stable/user_guide/indexing.html#returning-a-view-versus-a-copy\n",
      "  df['RS'] = df['Percent'] - dfCompare['Percent']\n"
     ]
    },
    {
     "data": {
      "application/vnd.jupyter.widget-view+json": {
       "model_id": "3ad0502bc2304c06a02c40f940af3dfd",
       "version_major": 2,
       "version_minor": 0
      },
      "text/plain": [
       "Pandas Apply:   0%|          | 0/469 [00:00<?, ?it/s]"
      ]
     },
     "metadata": {},
     "output_type": "display_data"
    },
    {
     "data": {
      "application/vnd.jupyter.widget-view+json": {
       "model_id": "f1f900c4ff5a4854b8166161990d0efb",
       "version_major": 2,
       "version_minor": 0
      },
      "text/plain": [
       "Pandas Apply:   0%|          | 0/469 [00:00<?, ?it/s]"
      ]
     },
     "metadata": {},
     "output_type": "display_data"
    },
    {
     "name": "stderr",
     "output_type": "stream",
     "text": [
      "/tmp/ipykernel_8304/2036736335.py:17: SettingWithCopyWarning: \n",
      "A value is trying to be set on a copy of a slice from a DataFrame.\n",
      "Try using .loc[row_indexer,col_indexer] = value instead\n",
      "\n",
      "See the caveats in the documentation: https://pandas.pydata.org/pandas-docs/stable/user_guide/indexing.html#returning-a-view-versus-a-copy\n",
      "  df['RS'] = df['Percent'] - dfCompare['Percent']\n"
     ]
    },
    {
     "data": {
      "application/vnd.jupyter.widget-view+json": {
       "model_id": "3a3522d1fd804d0ea8f153b0ca50ab18",
       "version_major": 2,
       "version_minor": 0
      },
      "text/plain": [
       "Pandas Apply:   0%|          | 0/418 [00:00<?, ?it/s]"
      ]
     },
     "metadata": {},
     "output_type": "display_data"
    },
    {
     "data": {
      "application/vnd.jupyter.widget-view+json": {
       "model_id": "3cc7d99a913947bd9ebed3951a6d90ea",
       "version_major": 2,
       "version_minor": 0
      },
      "text/plain": [
       "Pandas Apply:   0%|          | 0/418 [00:00<?, ?it/s]"
      ]
     },
     "metadata": {},
     "output_type": "display_data"
    },
    {
     "name": "stderr",
     "output_type": "stream",
     "text": [
      "/tmp/ipykernel_8304/2036736335.py:17: SettingWithCopyWarning: \n",
      "A value is trying to be set on a copy of a slice from a DataFrame.\n",
      "Try using .loc[row_indexer,col_indexer] = value instead\n",
      "\n",
      "See the caveats in the documentation: https://pandas.pydata.org/pandas-docs/stable/user_guide/indexing.html#returning-a-view-versus-a-copy\n",
      "  df['RS'] = df['Percent'] - dfCompare['Percent']\n"
     ]
    },
    {
     "data": {
      "application/vnd.jupyter.widget-view+json": {
       "model_id": "9f6fc82e49304447a439ca025df37fa0",
       "version_major": 2,
       "version_minor": 0
      },
      "text/plain": [
       "Pandas Apply:   0%|          | 0/605 [00:00<?, ?it/s]"
      ]
     },
     "metadata": {},
     "output_type": "display_data"
    },
    {
     "data": {
      "application/vnd.jupyter.widget-view+json": {
       "model_id": "8836016c13d64bd09794c02686e64a0c",
       "version_major": 2,
       "version_minor": 0
      },
      "text/plain": [
       "Pandas Apply:   0%|          | 0/605 [00:00<?, ?it/s]"
      ]
     },
     "metadata": {},
     "output_type": "display_data"
    },
    {
     "name": "stderr",
     "output_type": "stream",
     "text": [
      "/tmp/ipykernel_8304/2036736335.py:17: SettingWithCopyWarning: \n",
      "A value is trying to be set on a copy of a slice from a DataFrame.\n",
      "Try using .loc[row_indexer,col_indexer] = value instead\n",
      "\n",
      "See the caveats in the documentation: https://pandas.pydata.org/pandas-docs/stable/user_guide/indexing.html#returning-a-view-versus-a-copy\n",
      "  df['RS'] = df['Percent'] - dfCompare['Percent']\n"
     ]
    },
    {
     "data": {
      "application/vnd.jupyter.widget-view+json": {
       "model_id": "feb09e20ed3d4d3f98c98a26c9f48648",
       "version_major": 2,
       "version_minor": 0
      },
      "text/plain": [
       "Pandas Apply:   0%|          | 0/679 [00:00<?, ?it/s]"
      ]
     },
     "metadata": {},
     "output_type": "display_data"
    },
    {
     "data": {
      "application/vnd.jupyter.widget-view+json": {
       "model_id": "8aeb43e1cb99489f82fc6ba220c265d3",
       "version_major": 2,
       "version_minor": 0
      },
      "text/plain": [
       "Pandas Apply:   0%|          | 0/679 [00:00<?, ?it/s]"
      ]
     },
     "metadata": {},
     "output_type": "display_data"
    },
    {
     "name": "stderr",
     "output_type": "stream",
     "text": [
      "/tmp/ipykernel_8304/2036736335.py:17: SettingWithCopyWarning: \n",
      "A value is trying to be set on a copy of a slice from a DataFrame.\n",
      "Try using .loc[row_indexer,col_indexer] = value instead\n",
      "\n",
      "See the caveats in the documentation: https://pandas.pydata.org/pandas-docs/stable/user_guide/indexing.html#returning-a-view-versus-a-copy\n",
      "  df['RS'] = df['Percent'] - dfCompare['Percent']\n"
     ]
    },
    {
     "data": {
      "application/vnd.jupyter.widget-view+json": {
       "model_id": "20f27e4dc13c40d487da27b27009ea03",
       "version_major": 2,
       "version_minor": 0
      },
      "text/plain": [
       "Pandas Apply:   0%|          | 0/529 [00:00<?, ?it/s]"
      ]
     },
     "metadata": {},
     "output_type": "display_data"
    },
    {
     "data": {
      "application/vnd.jupyter.widget-view+json": {
       "model_id": "226e79bceb3f4f07bc08d1162fc08ca3",
       "version_major": 2,
       "version_minor": 0
      },
      "text/plain": [
       "Pandas Apply:   0%|          | 0/529 [00:00<?, ?it/s]"
      ]
     },
     "metadata": {},
     "output_type": "display_data"
    },
    {
     "name": "stderr",
     "output_type": "stream",
     "text": [
      "/tmp/ipykernel_8304/2036736335.py:17: SettingWithCopyWarning: \n",
      "A value is trying to be set on a copy of a slice from a DataFrame.\n",
      "Try using .loc[row_indexer,col_indexer] = value instead\n",
      "\n",
      "See the caveats in the documentation: https://pandas.pydata.org/pandas-docs/stable/user_guide/indexing.html#returning-a-view-versus-a-copy\n",
      "  df['RS'] = df['Percent'] - dfCompare['Percent']\n"
     ]
    },
    {
     "data": {
      "application/vnd.jupyter.widget-view+json": {
       "model_id": "db911c03e3834c5eb59153ed94f89699",
       "version_major": 2,
       "version_minor": 0
      },
      "text/plain": [
       "Pandas Apply:   0%|          | 0/172 [00:00<?, ?it/s]"
      ]
     },
     "metadata": {},
     "output_type": "display_data"
    },
    {
     "data": {
      "application/vnd.jupyter.widget-view+json": {
       "model_id": "a6b095d1f0a4436c86e7d4ce13fdc8ab",
       "version_major": 2,
       "version_minor": 0
      },
      "text/plain": [
       "Pandas Apply:   0%|          | 0/172 [00:00<?, ?it/s]"
      ]
     },
     "metadata": {},
     "output_type": "display_data"
    },
    {
     "name": "stderr",
     "output_type": "stream",
     "text": [
      "/tmp/ipykernel_8304/2036736335.py:17: SettingWithCopyWarning: \n",
      "A value is trying to be set on a copy of a slice from a DataFrame.\n",
      "Try using .loc[row_indexer,col_indexer] = value instead\n",
      "\n",
      "See the caveats in the documentation: https://pandas.pydata.org/pandas-docs/stable/user_guide/indexing.html#returning-a-view-versus-a-copy\n",
      "  df['RS'] = df['Percent'] - dfCompare['Percent']\n"
     ]
    },
    {
     "data": {
      "application/vnd.jupyter.widget-view+json": {
       "model_id": "3f5a69145dbb42268e93310de4bf42d2",
       "version_major": 2,
       "version_minor": 0
      },
      "text/plain": [
       "Pandas Apply:   0%|          | 0/196 [00:00<?, ?it/s]"
      ]
     },
     "metadata": {},
     "output_type": "display_data"
    },
    {
     "data": {
      "application/vnd.jupyter.widget-view+json": {
       "model_id": "e75c9504ed4c4287a3194a2ef900bcd2",
       "version_major": 2,
       "version_minor": 0
      },
      "text/plain": [
       "Pandas Apply:   0%|          | 0/196 [00:00<?, ?it/s]"
      ]
     },
     "metadata": {},
     "output_type": "display_data"
    },
    {
     "name": "stderr",
     "output_type": "stream",
     "text": [
      "/tmp/ipykernel_8304/2036736335.py:17: SettingWithCopyWarning: \n",
      "A value is trying to be set on a copy of a slice from a DataFrame.\n",
      "Try using .loc[row_indexer,col_indexer] = value instead\n",
      "\n",
      "See the caveats in the documentation: https://pandas.pydata.org/pandas-docs/stable/user_guide/indexing.html#returning-a-view-versus-a-copy\n",
      "  df['RS'] = df['Percent'] - dfCompare['Percent']\n"
     ]
    },
    {
     "data": {
      "application/vnd.jupyter.widget-view+json": {
       "model_id": "559ba2c85fba4a6b994aa9032203c1c6",
       "version_major": 2,
       "version_minor": 0
      },
      "text/plain": [
       "Pandas Apply:   0%|          | 0/218 [00:00<?, ?it/s]"
      ]
     },
     "metadata": {},
     "output_type": "display_data"
    },
    {
     "data": {
      "application/vnd.jupyter.widget-view+json": {
       "model_id": "523decee98c84830bd7963d4dcfcd87f",
       "version_major": 2,
       "version_minor": 0
      },
      "text/plain": [
       "Pandas Apply:   0%|          | 0/218 [00:00<?, ?it/s]"
      ]
     },
     "metadata": {},
     "output_type": "display_data"
    },
    {
     "name": "stderr",
     "output_type": "stream",
     "text": [
      "/tmp/ipykernel_8304/2036736335.py:17: SettingWithCopyWarning: \n",
      "A value is trying to be set on a copy of a slice from a DataFrame.\n",
      "Try using .loc[row_indexer,col_indexer] = value instead\n",
      "\n",
      "See the caveats in the documentation: https://pandas.pydata.org/pandas-docs/stable/user_guide/indexing.html#returning-a-view-versus-a-copy\n",
      "  df['RS'] = df['Percent'] - dfCompare['Percent']\n"
     ]
    },
    {
     "data": {
      "application/vnd.jupyter.widget-view+json": {
       "model_id": "2fa76863c4ab43cdad2bc8a919228737",
       "version_major": 2,
       "version_minor": 0
      },
      "text/plain": [
       "Pandas Apply:   0%|          | 0/242 [00:00<?, ?it/s]"
      ]
     },
     "metadata": {},
     "output_type": "display_data"
    },
    {
     "data": {
      "application/vnd.jupyter.widget-view+json": {
       "model_id": "13e7e335955040ecb7a36fc6684e4798",
       "version_major": 2,
       "version_minor": 0
      },
      "text/plain": [
       "Pandas Apply:   0%|          | 0/242 [00:00<?, ?it/s]"
      ]
     },
     "metadata": {},
     "output_type": "display_data"
    },
    {
     "name": "stderr",
     "output_type": "stream",
     "text": [
      "/tmp/ipykernel_8304/2036736335.py:17: SettingWithCopyWarning: \n",
      "A value is trying to be set on a copy of a slice from a DataFrame.\n",
      "Try using .loc[row_indexer,col_indexer] = value instead\n",
      "\n",
      "See the caveats in the documentation: https://pandas.pydata.org/pandas-docs/stable/user_guide/indexing.html#returning-a-view-versus-a-copy\n",
      "  df['RS'] = df['Percent'] - dfCompare['Percent']\n"
     ]
    },
    {
     "data": {
      "application/vnd.jupyter.widget-view+json": {
       "model_id": "640f5ecc9f5448c89896f25e9fe12466",
       "version_major": 2,
       "version_minor": 0
      },
      "text/plain": [
       "Pandas Apply:   0%|          | 0/507 [00:00<?, ?it/s]"
      ]
     },
     "metadata": {},
     "output_type": "display_data"
    },
    {
     "data": {
      "application/vnd.jupyter.widget-view+json": {
       "model_id": "fc3b299b22754708b4698a64141cd7c5",
       "version_major": 2,
       "version_minor": 0
      },
      "text/plain": [
       "Pandas Apply:   0%|          | 0/507 [00:00<?, ?it/s]"
      ]
     },
     "metadata": {},
     "output_type": "display_data"
    },
    {
     "name": "stderr",
     "output_type": "stream",
     "text": [
      "/tmp/ipykernel_8304/2036736335.py:17: SettingWithCopyWarning: \n",
      "A value is trying to be set on a copy of a slice from a DataFrame.\n",
      "Try using .loc[row_indexer,col_indexer] = value instead\n",
      "\n",
      "See the caveats in the documentation: https://pandas.pydata.org/pandas-docs/stable/user_guide/indexing.html#returning-a-view-versus-a-copy\n",
      "  df['RS'] = df['Percent'] - dfCompare['Percent']\n"
     ]
    },
    {
     "data": {
      "application/vnd.jupyter.widget-view+json": {
       "model_id": "ef895f2bfd6042e289da5249dfa32127",
       "version_major": 2,
       "version_minor": 0
      },
      "text/plain": [
       "Pandas Apply:   0%|          | 0/679 [00:00<?, ?it/s]"
      ]
     },
     "metadata": {},
     "output_type": "display_data"
    },
    {
     "data": {
      "application/vnd.jupyter.widget-view+json": {
       "model_id": "358aa3c04f194960a6cf27f73ecd55f0",
       "version_major": 2,
       "version_minor": 0
      },
      "text/plain": [
       "Pandas Apply:   0%|          | 0/679 [00:00<?, ?it/s]"
      ]
     },
     "metadata": {},
     "output_type": "display_data"
    },
    {
     "name": "stderr",
     "output_type": "stream",
     "text": [
      "/tmp/ipykernel_8304/2036736335.py:17: SettingWithCopyWarning: \n",
      "A value is trying to be set on a copy of a slice from a DataFrame.\n",
      "Try using .loc[row_indexer,col_indexer] = value instead\n",
      "\n",
      "See the caveats in the documentation: https://pandas.pydata.org/pandas-docs/stable/user_guide/indexing.html#returning-a-view-versus-a-copy\n",
      "  df['RS'] = df['Percent'] - dfCompare['Percent']\n"
     ]
    },
    {
     "data": {
      "application/vnd.jupyter.widget-view+json": {
       "model_id": "69fe1f281ffd465e8d3c5ff649e1a356",
       "version_major": 2,
       "version_minor": 0
      },
      "text/plain": [
       "Pandas Apply:   0%|          | 0/679 [00:00<?, ?it/s]"
      ]
     },
     "metadata": {},
     "output_type": "display_data"
    },
    {
     "data": {
      "application/vnd.jupyter.widget-view+json": {
       "model_id": "6374be0b3d3742bd82905f674a755566",
       "version_major": 2,
       "version_minor": 0
      },
      "text/plain": [
       "Pandas Apply:   0%|          | 0/679 [00:00<?, ?it/s]"
      ]
     },
     "metadata": {},
     "output_type": "display_data"
    },
    {
     "name": "stderr",
     "output_type": "stream",
     "text": [
      "/tmp/ipykernel_8304/2036736335.py:17: SettingWithCopyWarning: \n",
      "A value is trying to be set on a copy of a slice from a DataFrame.\n",
      "Try using .loc[row_indexer,col_indexer] = value instead\n",
      "\n",
      "See the caveats in the documentation: https://pandas.pydata.org/pandas-docs/stable/user_guide/indexing.html#returning-a-view-versus-a-copy\n",
      "  df['RS'] = df['Percent'] - dfCompare['Percent']\n"
     ]
    },
    {
     "data": {
      "application/vnd.jupyter.widget-view+json": {
       "model_id": "fe6d638ef7054b49ae603ff198474683",
       "version_major": 2,
       "version_minor": 0
      },
      "text/plain": [
       "Pandas Apply:   0%|          | 0/679 [00:00<?, ?it/s]"
      ]
     },
     "metadata": {},
     "output_type": "display_data"
    },
    {
     "data": {
      "application/vnd.jupyter.widget-view+json": {
       "model_id": "a716b433471e4b569bc8de3d97bfd956",
       "version_major": 2,
       "version_minor": 0
      },
      "text/plain": [
       "Pandas Apply:   0%|          | 0/679 [00:00<?, ?it/s]"
      ]
     },
     "metadata": {},
     "output_type": "display_data"
    },
    {
     "name": "stderr",
     "output_type": "stream",
     "text": [
      "/tmp/ipykernel_8304/2036736335.py:17: SettingWithCopyWarning: \n",
      "A value is trying to be set on a copy of a slice from a DataFrame.\n",
      "Try using .loc[row_indexer,col_indexer] = value instead\n",
      "\n",
      "See the caveats in the documentation: https://pandas.pydata.org/pandas-docs/stable/user_guide/indexing.html#returning-a-view-versus-a-copy\n",
      "  df['RS'] = df['Percent'] - dfCompare['Percent']\n"
     ]
    },
    {
     "data": {
      "application/vnd.jupyter.widget-view+json": {
       "model_id": "9d49280092b74c7980e1df17830392d3",
       "version_major": 2,
       "version_minor": 0
      },
      "text/plain": [
       "Pandas Apply:   0%|          | 0/679 [00:00<?, ?it/s]"
      ]
     },
     "metadata": {},
     "output_type": "display_data"
    },
    {
     "data": {
      "application/vnd.jupyter.widget-view+json": {
       "model_id": "3c9fffedb9c64fcf837e697112b839c0",
       "version_major": 2,
       "version_minor": 0
      },
      "text/plain": [
       "Pandas Apply:   0%|          | 0/679 [00:00<?, ?it/s]"
      ]
     },
     "metadata": {},
     "output_type": "display_data"
    },
    {
     "name": "stderr",
     "output_type": "stream",
     "text": [
      "/tmp/ipykernel_8304/2036736335.py:17: SettingWithCopyWarning: \n",
      "A value is trying to be set on a copy of a slice from a DataFrame.\n",
      "Try using .loc[row_indexer,col_indexer] = value instead\n",
      "\n",
      "See the caveats in the documentation: https://pandas.pydata.org/pandas-docs/stable/user_guide/indexing.html#returning-a-view-versus-a-copy\n",
      "  df['RS'] = df['Percent'] - dfCompare['Percent']\n"
     ]
    },
    {
     "data": {
      "application/vnd.jupyter.widget-view+json": {
       "model_id": "d3fb5334116f481e9ca58dafc50a685f",
       "version_major": 2,
       "version_minor": 0
      },
      "text/plain": [
       "Pandas Apply:   0%|          | 0/679 [00:00<?, ?it/s]"
      ]
     },
     "metadata": {},
     "output_type": "display_data"
    },
    {
     "data": {
      "application/vnd.jupyter.widget-view+json": {
       "model_id": "54d9813ed4cf42b684999ed94681d24d",
       "version_major": 2,
       "version_minor": 0
      },
      "text/plain": [
       "Pandas Apply:   0%|          | 0/679 [00:00<?, ?it/s]"
      ]
     },
     "metadata": {},
     "output_type": "display_data"
    },
    {
     "name": "stderr",
     "output_type": "stream",
     "text": [
      "/tmp/ipykernel_8304/2036736335.py:17: SettingWithCopyWarning: \n",
      "A value is trying to be set on a copy of a slice from a DataFrame.\n",
      "Try using .loc[row_indexer,col_indexer] = value instead\n",
      "\n",
      "See the caveats in the documentation: https://pandas.pydata.org/pandas-docs/stable/user_guide/indexing.html#returning-a-view-versus-a-copy\n",
      "  df['RS'] = df['Percent'] - dfCompare['Percent']\n"
     ]
    },
    {
     "data": {
      "application/vnd.jupyter.widget-view+json": {
       "model_id": "d9dfc667048f4a729fd18779f24b26ca",
       "version_major": 2,
       "version_minor": 0
      },
      "text/plain": [
       "Pandas Apply:   0%|          | 0/610 [00:00<?, ?it/s]"
      ]
     },
     "metadata": {},
     "output_type": "display_data"
    },
    {
     "data": {
      "application/vnd.jupyter.widget-view+json": {
       "model_id": "4572a7ea3d27487592157fd2e0f5be6d",
       "version_major": 2,
       "version_minor": 0
      },
      "text/plain": [
       "Pandas Apply:   0%|          | 0/610 [00:00<?, ?it/s]"
      ]
     },
     "metadata": {},
     "output_type": "display_data"
    },
    {
     "name": "stderr",
     "output_type": "stream",
     "text": [
      "/tmp/ipykernel_8304/2036736335.py:17: SettingWithCopyWarning: \n",
      "A value is trying to be set on a copy of a slice from a DataFrame.\n",
      "Try using .loc[row_indexer,col_indexer] = value instead\n",
      "\n",
      "See the caveats in the documentation: https://pandas.pydata.org/pandas-docs/stable/user_guide/indexing.html#returning-a-view-versus-a-copy\n",
      "  df['RS'] = df['Percent'] - dfCompare['Percent']\n"
     ]
    },
    {
     "data": {
      "application/vnd.jupyter.widget-view+json": {
       "model_id": "2816e3e48cf645889889d3fed7db7343",
       "version_major": 2,
       "version_minor": 0
      },
      "text/plain": [
       "Pandas Apply:   0%|          | 0/679 [00:00<?, ?it/s]"
      ]
     },
     "metadata": {},
     "output_type": "display_data"
    },
    {
     "data": {
      "application/vnd.jupyter.widget-view+json": {
       "model_id": "b3c3244218cc40459bdbd12f099d8b8e",
       "version_major": 2,
       "version_minor": 0
      },
      "text/plain": [
       "Pandas Apply:   0%|          | 0/679 [00:00<?, ?it/s]"
      ]
     },
     "metadata": {},
     "output_type": "display_data"
    },
    {
     "name": "stderr",
     "output_type": "stream",
     "text": [
      "/tmp/ipykernel_8304/2036736335.py:17: SettingWithCopyWarning: \n",
      "A value is trying to be set on a copy of a slice from a DataFrame.\n",
      "Try using .loc[row_indexer,col_indexer] = value instead\n",
      "\n",
      "See the caveats in the documentation: https://pandas.pydata.org/pandas-docs/stable/user_guide/indexing.html#returning-a-view-versus-a-copy\n",
      "  df['RS'] = df['Percent'] - dfCompare['Percent']\n"
     ]
    },
    {
     "data": {
      "application/vnd.jupyter.widget-view+json": {
       "model_id": "ae22323ddf834c0a9b66750e6d9cfa45",
       "version_major": 2,
       "version_minor": 0
      },
      "text/plain": [
       "Pandas Apply:   0%|          | 0/450 [00:00<?, ?it/s]"
      ]
     },
     "metadata": {},
     "output_type": "display_data"
    },
    {
     "data": {
      "application/vnd.jupyter.widget-view+json": {
       "model_id": "8c2d7f7f102146f2ac0da3ed7c1933fb",
       "version_major": 2,
       "version_minor": 0
      },
      "text/plain": [
       "Pandas Apply:   0%|          | 0/450 [00:00<?, ?it/s]"
      ]
     },
     "metadata": {},
     "output_type": "display_data"
    },
    {
     "name": "stderr",
     "output_type": "stream",
     "text": [
      "/tmp/ipykernel_8304/2036736335.py:17: SettingWithCopyWarning: \n",
      "A value is trying to be set on a copy of a slice from a DataFrame.\n",
      "Try using .loc[row_indexer,col_indexer] = value instead\n",
      "\n",
      "See the caveats in the documentation: https://pandas.pydata.org/pandas-docs/stable/user_guide/indexing.html#returning-a-view-versus-a-copy\n",
      "  df['RS'] = df['Percent'] - dfCompare['Percent']\n"
     ]
    },
    {
     "data": {
      "application/vnd.jupyter.widget-view+json": {
       "model_id": "db3ae69b312241d68028c0b135689e9e",
       "version_major": 2,
       "version_minor": 0
      },
      "text/plain": [
       "Pandas Apply:   0%|          | 0/289 [00:00<?, ?it/s]"
      ]
     },
     "metadata": {},
     "output_type": "display_data"
    },
    {
     "data": {
      "application/vnd.jupyter.widget-view+json": {
       "model_id": "3ab5e09199ef4430a4ea4179bd8b61fe",
       "version_major": 2,
       "version_minor": 0
      },
      "text/plain": [
       "Pandas Apply:   0%|          | 0/289 [00:00<?, ?it/s]"
      ]
     },
     "metadata": {},
     "output_type": "display_data"
    },
    {
     "name": "stderr",
     "output_type": "stream",
     "text": [
      "/tmp/ipykernel_8304/2036736335.py:17: SettingWithCopyWarning: \n",
      "A value is trying to be set on a copy of a slice from a DataFrame.\n",
      "Try using .loc[row_indexer,col_indexer] = value instead\n",
      "\n",
      "See the caveats in the documentation: https://pandas.pydata.org/pandas-docs/stable/user_guide/indexing.html#returning-a-view-versus-a-copy\n",
      "  df['RS'] = df['Percent'] - dfCompare['Percent']\n"
     ]
    },
    {
     "data": {
      "application/vnd.jupyter.widget-view+json": {
       "model_id": "3608272f4ef741b69f4b995161595966",
       "version_major": 2,
       "version_minor": 0
      },
      "text/plain": [
       "Pandas Apply:   0%|          | 0/359 [00:00<?, ?it/s]"
      ]
     },
     "metadata": {},
     "output_type": "display_data"
    },
    {
     "data": {
      "application/vnd.jupyter.widget-view+json": {
       "model_id": "8dfbeb9eff154159ac7b360515c8b3da",
       "version_major": 2,
       "version_minor": 0
      },
      "text/plain": [
       "Pandas Apply:   0%|          | 0/359 [00:00<?, ?it/s]"
      ]
     },
     "metadata": {},
     "output_type": "display_data"
    },
    {
     "name": "stderr",
     "output_type": "stream",
     "text": [
      "/tmp/ipykernel_8304/2036736335.py:17: SettingWithCopyWarning: \n",
      "A value is trying to be set on a copy of a slice from a DataFrame.\n",
      "Try using .loc[row_indexer,col_indexer] = value instead\n",
      "\n",
      "See the caveats in the documentation: https://pandas.pydata.org/pandas-docs/stable/user_guide/indexing.html#returning-a-view-versus-a-copy\n",
      "  df['RS'] = df['Percent'] - dfCompare['Percent']\n"
     ]
    },
    {
     "data": {
      "application/vnd.jupyter.widget-view+json": {
       "model_id": "50e7279d2fb64f0f8f554895a44a48d2",
       "version_major": 2,
       "version_minor": 0
      },
      "text/plain": [
       "Pandas Apply:   0%|          | 0/141 [00:00<?, ?it/s]"
      ]
     },
     "metadata": {},
     "output_type": "display_data"
    },
    {
     "data": {
      "application/vnd.jupyter.widget-view+json": {
       "model_id": "d8e19c90b1914d099e76256a3774c5fd",
       "version_major": 2,
       "version_minor": 0
      },
      "text/plain": [
       "Pandas Apply:   0%|          | 0/141 [00:00<?, ?it/s]"
      ]
     },
     "metadata": {},
     "output_type": "display_data"
    },
    {
     "name": "stderr",
     "output_type": "stream",
     "text": [
      "/tmp/ipykernel_8304/2036736335.py:17: SettingWithCopyWarning: \n",
      "A value is trying to be set on a copy of a slice from a DataFrame.\n",
      "Try using .loc[row_indexer,col_indexer] = value instead\n",
      "\n",
      "See the caveats in the documentation: https://pandas.pydata.org/pandas-docs/stable/user_guide/indexing.html#returning-a-view-versus-a-copy\n",
      "  df['RS'] = df['Percent'] - dfCompare['Percent']\n"
     ]
    },
    {
     "data": {
      "application/vnd.jupyter.widget-view+json": {
       "model_id": "ae4523a2466c4830be46c67025a7ac53",
       "version_major": 2,
       "version_minor": 0
      },
      "text/plain": [
       "Pandas Apply:   0%|          | 0/296 [00:00<?, ?it/s]"
      ]
     },
     "metadata": {},
     "output_type": "display_data"
    },
    {
     "data": {
      "application/vnd.jupyter.widget-view+json": {
       "model_id": "d04d0661778240e79cd532b634909465",
       "version_major": 2,
       "version_minor": 0
      },
      "text/plain": [
       "Pandas Apply:   0%|          | 0/296 [00:00<?, ?it/s]"
      ]
     },
     "metadata": {},
     "output_type": "display_data"
    },
    {
     "name": "stderr",
     "output_type": "stream",
     "text": [
      "/tmp/ipykernel_8304/2036736335.py:17: SettingWithCopyWarning: \n",
      "A value is trying to be set on a copy of a slice from a DataFrame.\n",
      "Try using .loc[row_indexer,col_indexer] = value instead\n",
      "\n",
      "See the caveats in the documentation: https://pandas.pydata.org/pandas-docs/stable/user_guide/indexing.html#returning-a-view-versus-a-copy\n",
      "  df['RS'] = df['Percent'] - dfCompare['Percent']\n"
     ]
    },
    {
     "data": {
      "application/vnd.jupyter.widget-view+json": {
       "model_id": "49224862c23e412e8d26c21751f0e107",
       "version_major": 2,
       "version_minor": 0
      },
      "text/plain": [
       "Pandas Apply:   0%|          | 0/361 [00:00<?, ?it/s]"
      ]
     },
     "metadata": {},
     "output_type": "display_data"
    },
    {
     "data": {
      "application/vnd.jupyter.widget-view+json": {
       "model_id": "a3897c2cd28b43ce98ac6a9f9d596523",
       "version_major": 2,
       "version_minor": 0
      },
      "text/plain": [
       "Pandas Apply:   0%|          | 0/361 [00:00<?, ?it/s]"
      ]
     },
     "metadata": {},
     "output_type": "display_data"
    },
    {
     "name": "stderr",
     "output_type": "stream",
     "text": [
      "/tmp/ipykernel_8304/2036736335.py:17: SettingWithCopyWarning: \n",
      "A value is trying to be set on a copy of a slice from a DataFrame.\n",
      "Try using .loc[row_indexer,col_indexer] = value instead\n",
      "\n",
      "See the caveats in the documentation: https://pandas.pydata.org/pandas-docs/stable/user_guide/indexing.html#returning-a-view-versus-a-copy\n",
      "  df['RS'] = df['Percent'] - dfCompare['Percent']\n"
     ]
    },
    {
     "data": {
      "application/vnd.jupyter.widget-view+json": {
       "model_id": "63e3b6cd38ca4846978423389d49b447",
       "version_major": 2,
       "version_minor": 0
      },
      "text/plain": [
       "Pandas Apply:   0%|          | 0/208 [00:00<?, ?it/s]"
      ]
     },
     "metadata": {},
     "output_type": "display_data"
    },
    {
     "data": {
      "application/vnd.jupyter.widget-view+json": {
       "model_id": "b3defb90907042bab100bad96517c31a",
       "version_major": 2,
       "version_minor": 0
      },
      "text/plain": [
       "Pandas Apply:   0%|          | 0/208 [00:00<?, ?it/s]"
      ]
     },
     "metadata": {},
     "output_type": "display_data"
    },
    {
     "name": "stderr",
     "output_type": "stream",
     "text": [
      "/tmp/ipykernel_8304/2036736335.py:17: SettingWithCopyWarning: \n",
      "A value is trying to be set on a copy of a slice from a DataFrame.\n",
      "Try using .loc[row_indexer,col_indexer] = value instead\n",
      "\n",
      "See the caveats in the documentation: https://pandas.pydata.org/pandas-docs/stable/user_guide/indexing.html#returning-a-view-versus-a-copy\n",
      "  df['RS'] = df['Percent'] - dfCompare['Percent']\n"
     ]
    },
    {
     "data": {
      "application/vnd.jupyter.widget-view+json": {
       "model_id": "a16074f6a47046adb5df3054d4720c3f",
       "version_major": 2,
       "version_minor": 0
      },
      "text/plain": [
       "Pandas Apply:   0%|          | 0/679 [00:00<?, ?it/s]"
      ]
     },
     "metadata": {},
     "output_type": "display_data"
    },
    {
     "data": {
      "application/vnd.jupyter.widget-view+json": {
       "model_id": "2e093065b2b945e085bc71bbb1f3cdd0",
       "version_major": 2,
       "version_minor": 0
      },
      "text/plain": [
       "Pandas Apply:   0%|          | 0/679 [00:00<?, ?it/s]"
      ]
     },
     "metadata": {},
     "output_type": "display_data"
    },
    {
     "name": "stderr",
     "output_type": "stream",
     "text": [
      "/tmp/ipykernel_8304/2036736335.py:17: SettingWithCopyWarning: \n",
      "A value is trying to be set on a copy of a slice from a DataFrame.\n",
      "Try using .loc[row_indexer,col_indexer] = value instead\n",
      "\n",
      "See the caveats in the documentation: https://pandas.pydata.org/pandas-docs/stable/user_guide/indexing.html#returning-a-view-versus-a-copy\n",
      "  df['RS'] = df['Percent'] - dfCompare['Percent']\n"
     ]
    },
    {
     "data": {
      "application/vnd.jupyter.widget-view+json": {
       "model_id": "cd2a0843e0a54fb3abe3490eecc39540",
       "version_major": 2,
       "version_minor": 0
      },
      "text/plain": [
       "Pandas Apply:   0%|          | 0/204 [00:00<?, ?it/s]"
      ]
     },
     "metadata": {},
     "output_type": "display_data"
    },
    {
     "data": {
      "application/vnd.jupyter.widget-view+json": {
       "model_id": "3cb176188ec540e3ae7280d31daf64d9",
       "version_major": 2,
       "version_minor": 0
      },
      "text/plain": [
       "Pandas Apply:   0%|          | 0/204 [00:00<?, ?it/s]"
      ]
     },
     "metadata": {},
     "output_type": "display_data"
    },
    {
     "name": "stderr",
     "output_type": "stream",
     "text": [
      "/tmp/ipykernel_8304/2036736335.py:17: SettingWithCopyWarning: \n",
      "A value is trying to be set on a copy of a slice from a DataFrame.\n",
      "Try using .loc[row_indexer,col_indexer] = value instead\n",
      "\n",
      "See the caveats in the documentation: https://pandas.pydata.org/pandas-docs/stable/user_guide/indexing.html#returning-a-view-versus-a-copy\n",
      "  df['RS'] = df['Percent'] - dfCompare['Percent']\n"
     ]
    },
    {
     "data": {
      "application/vnd.jupyter.widget-view+json": {
       "model_id": "b5f0bfd998ee4b0da96a43d8d6425926",
       "version_major": 2,
       "version_minor": 0
      },
      "text/plain": [
       "Pandas Apply:   0%|          | 0/679 [00:00<?, ?it/s]"
      ]
     },
     "metadata": {},
     "output_type": "display_data"
    },
    {
     "data": {
      "application/vnd.jupyter.widget-view+json": {
       "model_id": "d68bc8ca3acf474c93b2284b2d1a45f5",
       "version_major": 2,
       "version_minor": 0
      },
      "text/plain": [
       "Pandas Apply:   0%|          | 0/679 [00:00<?, ?it/s]"
      ]
     },
     "metadata": {},
     "output_type": "display_data"
    },
    {
     "name": "stderr",
     "output_type": "stream",
     "text": [
      "/tmp/ipykernel_8304/2036736335.py:17: SettingWithCopyWarning: \n",
      "A value is trying to be set on a copy of a slice from a DataFrame.\n",
      "Try using .loc[row_indexer,col_indexer] = value instead\n",
      "\n",
      "See the caveats in the documentation: https://pandas.pydata.org/pandas-docs/stable/user_guide/indexing.html#returning-a-view-versus-a-copy\n",
      "  df['RS'] = df['Percent'] - dfCompare['Percent']\n"
     ]
    },
    {
     "data": {
      "application/vnd.jupyter.widget-view+json": {
       "model_id": "c6b5db31a1d941d18fbf11f7d4e00062",
       "version_major": 2,
       "version_minor": 0
      },
      "text/plain": [
       "Pandas Apply:   0%|          | 0/679 [00:00<?, ?it/s]"
      ]
     },
     "metadata": {},
     "output_type": "display_data"
    },
    {
     "data": {
      "application/vnd.jupyter.widget-view+json": {
       "model_id": "63d14d62ab94484a92386c6f427d226b",
       "version_major": 2,
       "version_minor": 0
      },
      "text/plain": [
       "Pandas Apply:   0%|          | 0/679 [00:00<?, ?it/s]"
      ]
     },
     "metadata": {},
     "output_type": "display_data"
    },
    {
     "name": "stderr",
     "output_type": "stream",
     "text": [
      "/tmp/ipykernel_8304/2036736335.py:17: SettingWithCopyWarning: \n",
      "A value is trying to be set on a copy of a slice from a DataFrame.\n",
      "Try using .loc[row_indexer,col_indexer] = value instead\n",
      "\n",
      "See the caveats in the documentation: https://pandas.pydata.org/pandas-docs/stable/user_guide/indexing.html#returning-a-view-versus-a-copy\n",
      "  df['RS'] = df['Percent'] - dfCompare['Percent']\n"
     ]
    },
    {
     "data": {
      "application/vnd.jupyter.widget-view+json": {
       "model_id": "95180bc2177d4bcda4f941cb6e8febef",
       "version_major": 2,
       "version_minor": 0
      },
      "text/plain": [
       "Pandas Apply:   0%|          | 0/679 [00:00<?, ?it/s]"
      ]
     },
     "metadata": {},
     "output_type": "display_data"
    },
    {
     "data": {
      "application/vnd.jupyter.widget-view+json": {
       "model_id": "5ea9a3936a214c66ac59ad9da01015e9",
       "version_major": 2,
       "version_minor": 0
      },
      "text/plain": [
       "Pandas Apply:   0%|          | 0/679 [00:00<?, ?it/s]"
      ]
     },
     "metadata": {},
     "output_type": "display_data"
    },
    {
     "name": "stderr",
     "output_type": "stream",
     "text": [
      "/tmp/ipykernel_8304/2036736335.py:17: SettingWithCopyWarning: \n",
      "A value is trying to be set on a copy of a slice from a DataFrame.\n",
      "Try using .loc[row_indexer,col_indexer] = value instead\n",
      "\n",
      "See the caveats in the documentation: https://pandas.pydata.org/pandas-docs/stable/user_guide/indexing.html#returning-a-view-versus-a-copy\n",
      "  df['RS'] = df['Percent'] - dfCompare['Percent']\n"
     ]
    },
    {
     "data": {
      "application/vnd.jupyter.widget-view+json": {
       "model_id": "8886d58cc2c843bcbdc42665068800bb",
       "version_major": 2,
       "version_minor": 0
      },
      "text/plain": [
       "Pandas Apply:   0%|          | 0/294 [00:00<?, ?it/s]"
      ]
     },
     "metadata": {},
     "output_type": "display_data"
    },
    {
     "data": {
      "application/vnd.jupyter.widget-view+json": {
       "model_id": "b73f08058b7d4c138e1cb40398e4b41e",
       "version_major": 2,
       "version_minor": 0
      },
      "text/plain": [
       "Pandas Apply:   0%|          | 0/294 [00:00<?, ?it/s]"
      ]
     },
     "metadata": {},
     "output_type": "display_data"
    },
    {
     "name": "stderr",
     "output_type": "stream",
     "text": [
      "/tmp/ipykernel_8304/2036736335.py:17: SettingWithCopyWarning: \n",
      "A value is trying to be set on a copy of a slice from a DataFrame.\n",
      "Try using .loc[row_indexer,col_indexer] = value instead\n",
      "\n",
      "See the caveats in the documentation: https://pandas.pydata.org/pandas-docs/stable/user_guide/indexing.html#returning-a-view-versus-a-copy\n",
      "  df['RS'] = df['Percent'] - dfCompare['Percent']\n"
     ]
    },
    {
     "data": {
      "application/vnd.jupyter.widget-view+json": {
       "model_id": "15296da0f10f497c965af312af342e9d",
       "version_major": 2,
       "version_minor": 0
      },
      "text/plain": [
       "Pandas Apply:   0%|          | 0/264 [00:00<?, ?it/s]"
      ]
     },
     "metadata": {},
     "output_type": "display_data"
    },
    {
     "data": {
      "application/vnd.jupyter.widget-view+json": {
       "model_id": "6ea38df575b94ac1a193dd3b6ee2527b",
       "version_major": 2,
       "version_minor": 0
      },
      "text/plain": [
       "Pandas Apply:   0%|          | 0/264 [00:00<?, ?it/s]"
      ]
     },
     "metadata": {},
     "output_type": "display_data"
    },
    {
     "name": "stderr",
     "output_type": "stream",
     "text": [
      "/tmp/ipykernel_8304/2036736335.py:17: SettingWithCopyWarning: \n",
      "A value is trying to be set on a copy of a slice from a DataFrame.\n",
      "Try using .loc[row_indexer,col_indexer] = value instead\n",
      "\n",
      "See the caveats in the documentation: https://pandas.pydata.org/pandas-docs/stable/user_guide/indexing.html#returning-a-view-versus-a-copy\n",
      "  df['RS'] = df['Percent'] - dfCompare['Percent']\n"
     ]
    },
    {
     "data": {
      "application/vnd.jupyter.widget-view+json": {
       "model_id": "97487919b37c4d6c930f0e0e73006956",
       "version_major": 2,
       "version_minor": 0
      },
      "text/plain": [
       "Pandas Apply:   0%|          | 0/575 [00:00<?, ?it/s]"
      ]
     },
     "metadata": {},
     "output_type": "display_data"
    },
    {
     "data": {
      "application/vnd.jupyter.widget-view+json": {
       "model_id": "4954fdf91b0f498babac86d9694575bd",
       "version_major": 2,
       "version_minor": 0
      },
      "text/plain": [
       "Pandas Apply:   0%|          | 0/575 [00:00<?, ?it/s]"
      ]
     },
     "metadata": {},
     "output_type": "display_data"
    },
    {
     "name": "stderr",
     "output_type": "stream",
     "text": [
      "/tmp/ipykernel_8304/2036736335.py:17: SettingWithCopyWarning: \n",
      "A value is trying to be set on a copy of a slice from a DataFrame.\n",
      "Try using .loc[row_indexer,col_indexer] = value instead\n",
      "\n",
      "See the caveats in the documentation: https://pandas.pydata.org/pandas-docs/stable/user_guide/indexing.html#returning-a-view-versus-a-copy\n",
      "  df['RS'] = df['Percent'] - dfCompare['Percent']\n"
     ]
    },
    {
     "data": {
      "application/vnd.jupyter.widget-view+json": {
       "model_id": "423fb0fc82a0417fa5f5098805059cfa",
       "version_major": 2,
       "version_minor": 0
      },
      "text/plain": [
       "Pandas Apply:   0%|          | 0/405 [00:00<?, ?it/s]"
      ]
     },
     "metadata": {},
     "output_type": "display_data"
    },
    {
     "data": {
      "application/vnd.jupyter.widget-view+json": {
       "model_id": "fe8a5369e42e49d5a0916d7237e1e6c4",
       "version_major": 2,
       "version_minor": 0
      },
      "text/plain": [
       "Pandas Apply:   0%|          | 0/405 [00:00<?, ?it/s]"
      ]
     },
     "metadata": {},
     "output_type": "display_data"
    },
    {
     "name": "stderr",
     "output_type": "stream",
     "text": [
      "/tmp/ipykernel_8304/2036736335.py:17: SettingWithCopyWarning: \n",
      "A value is trying to be set on a copy of a slice from a DataFrame.\n",
      "Try using .loc[row_indexer,col_indexer] = value instead\n",
      "\n",
      "See the caveats in the documentation: https://pandas.pydata.org/pandas-docs/stable/user_guide/indexing.html#returning-a-view-versus-a-copy\n",
      "  df['RS'] = df['Percent'] - dfCompare['Percent']\n"
     ]
    },
    {
     "data": {
      "application/vnd.jupyter.widget-view+json": {
       "model_id": "74fe46bd41ef4e3a84c49d5f7193d389",
       "version_major": 2,
       "version_minor": 0
      },
      "text/plain": [
       "Pandas Apply:   0%|          | 0/194 [00:00<?, ?it/s]"
      ]
     },
     "metadata": {},
     "output_type": "display_data"
    },
    {
     "data": {
      "application/vnd.jupyter.widget-view+json": {
       "model_id": "4d57bcd7bb804c8b85a019cffa9907d5",
       "version_major": 2,
       "version_minor": 0
      },
      "text/plain": [
       "Pandas Apply:   0%|          | 0/194 [00:00<?, ?it/s]"
      ]
     },
     "metadata": {},
     "output_type": "display_data"
    },
    {
     "name": "stderr",
     "output_type": "stream",
     "text": [
      "/tmp/ipykernel_8304/2036736335.py:17: SettingWithCopyWarning: \n",
      "A value is trying to be set on a copy of a slice from a DataFrame.\n",
      "Try using .loc[row_indexer,col_indexer] = value instead\n",
      "\n",
      "See the caveats in the documentation: https://pandas.pydata.org/pandas-docs/stable/user_guide/indexing.html#returning-a-view-versus-a-copy\n",
      "  df['RS'] = df['Percent'] - dfCompare['Percent']\n"
     ]
    },
    {
     "data": {
      "application/vnd.jupyter.widget-view+json": {
       "model_id": "627c78accdb542e0a9e42c115c4cd328",
       "version_major": 2,
       "version_minor": 0
      },
      "text/plain": [
       "Pandas Apply:   0%|          | 0/657 [00:00<?, ?it/s]"
      ]
     },
     "metadata": {},
     "output_type": "display_data"
    },
    {
     "data": {
      "application/vnd.jupyter.widget-view+json": {
       "model_id": "944e942de7ef404c97dfa411cb278c3f",
       "version_major": 2,
       "version_minor": 0
      },
      "text/plain": [
       "Pandas Apply:   0%|          | 0/657 [00:00<?, ?it/s]"
      ]
     },
     "metadata": {},
     "output_type": "display_data"
    },
    {
     "name": "stderr",
     "output_type": "stream",
     "text": [
      "/tmp/ipykernel_8304/2036736335.py:17: SettingWithCopyWarning: \n",
      "A value is trying to be set on a copy of a slice from a DataFrame.\n",
      "Try using .loc[row_indexer,col_indexer] = value instead\n",
      "\n",
      "See the caveats in the documentation: https://pandas.pydata.org/pandas-docs/stable/user_guide/indexing.html#returning-a-view-versus-a-copy\n",
      "  df['RS'] = df['Percent'] - dfCompare['Percent']\n"
     ]
    },
    {
     "data": {
      "application/vnd.jupyter.widget-view+json": {
       "model_id": "05c4b4bf27924a50a7ac44284df918e7",
       "version_major": 2,
       "version_minor": 0
      },
      "text/plain": [
       "Pandas Apply:   0%|          | 0/235 [00:00<?, ?it/s]"
      ]
     },
     "metadata": {},
     "output_type": "display_data"
    },
    {
     "data": {
      "application/vnd.jupyter.widget-view+json": {
       "model_id": "6937e5ccfe394755bda6193001110eaf",
       "version_major": 2,
       "version_minor": 0
      },
      "text/plain": [
       "Pandas Apply:   0%|          | 0/235 [00:00<?, ?it/s]"
      ]
     },
     "metadata": {},
     "output_type": "display_data"
    },
    {
     "name": "stderr",
     "output_type": "stream",
     "text": [
      "/tmp/ipykernel_8304/2036736335.py:17: SettingWithCopyWarning: \n",
      "A value is trying to be set on a copy of a slice from a DataFrame.\n",
      "Try using .loc[row_indexer,col_indexer] = value instead\n",
      "\n",
      "See the caveats in the documentation: https://pandas.pydata.org/pandas-docs/stable/user_guide/indexing.html#returning-a-view-versus-a-copy\n",
      "  df['RS'] = df['Percent'] - dfCompare['Percent']\n"
     ]
    },
    {
     "data": {
      "application/vnd.jupyter.widget-view+json": {
       "model_id": "4be17d589b9d421193539d5ee9a1889e",
       "version_major": 2,
       "version_minor": 0
      },
      "text/plain": [
       "Pandas Apply:   0%|          | 0/679 [00:00<?, ?it/s]"
      ]
     },
     "metadata": {},
     "output_type": "display_data"
    },
    {
     "data": {
      "application/vnd.jupyter.widget-view+json": {
       "model_id": "43b5d61a8d334904ada094c32133bca4",
       "version_major": 2,
       "version_minor": 0
      },
      "text/plain": [
       "Pandas Apply:   0%|          | 0/679 [00:00<?, ?it/s]"
      ]
     },
     "metadata": {},
     "output_type": "display_data"
    },
    {
     "name": "stderr",
     "output_type": "stream",
     "text": [
      "/tmp/ipykernel_8304/2036736335.py:17: SettingWithCopyWarning: \n",
      "A value is trying to be set on a copy of a slice from a DataFrame.\n",
      "Try using .loc[row_indexer,col_indexer] = value instead\n",
      "\n",
      "See the caveats in the documentation: https://pandas.pydata.org/pandas-docs/stable/user_guide/indexing.html#returning-a-view-versus-a-copy\n",
      "  df['RS'] = df['Percent'] - dfCompare['Percent']\n"
     ]
    },
    {
     "data": {
      "application/vnd.jupyter.widget-view+json": {
       "model_id": "721f3da493624ecbab165bc097116c3d",
       "version_major": 2,
       "version_minor": 0
      },
      "text/plain": [
       "Pandas Apply:   0%|          | 0/679 [00:00<?, ?it/s]"
      ]
     },
     "metadata": {},
     "output_type": "display_data"
    },
    {
     "data": {
      "application/vnd.jupyter.widget-view+json": {
       "model_id": "8addf49fb628430581e01d89673b9e3e",
       "version_major": 2,
       "version_minor": 0
      },
      "text/plain": [
       "Pandas Apply:   0%|          | 0/679 [00:00<?, ?it/s]"
      ]
     },
     "metadata": {},
     "output_type": "display_data"
    },
    {
     "name": "stderr",
     "output_type": "stream",
     "text": [
      "/tmp/ipykernel_8304/2036736335.py:17: SettingWithCopyWarning: \n",
      "A value is trying to be set on a copy of a slice from a DataFrame.\n",
      "Try using .loc[row_indexer,col_indexer] = value instead\n",
      "\n",
      "See the caveats in the documentation: https://pandas.pydata.org/pandas-docs/stable/user_guide/indexing.html#returning-a-view-versus-a-copy\n",
      "  df['RS'] = df['Percent'] - dfCompare['Percent']\n"
     ]
    },
    {
     "data": {
      "application/vnd.jupyter.widget-view+json": {
       "model_id": "046ed4fa36d84e8c8235aff6460047e4",
       "version_major": 2,
       "version_minor": 0
      },
      "text/plain": [
       "Pandas Apply:   0%|          | 0/679 [00:00<?, ?it/s]"
      ]
     },
     "metadata": {},
     "output_type": "display_data"
    },
    {
     "data": {
      "application/vnd.jupyter.widget-view+json": {
       "model_id": "fffd3ae11a194150a0b3fa0922ac8896",
       "version_major": 2,
       "version_minor": 0
      },
      "text/plain": [
       "Pandas Apply:   0%|          | 0/679 [00:00<?, ?it/s]"
      ]
     },
     "metadata": {},
     "output_type": "display_data"
    },
    {
     "name": "stderr",
     "output_type": "stream",
     "text": [
      "/tmp/ipykernel_8304/2036736335.py:17: SettingWithCopyWarning: \n",
      "A value is trying to be set on a copy of a slice from a DataFrame.\n",
      "Try using .loc[row_indexer,col_indexer] = value instead\n",
      "\n",
      "See the caveats in the documentation: https://pandas.pydata.org/pandas-docs/stable/user_guide/indexing.html#returning-a-view-versus-a-copy\n",
      "  df['RS'] = df['Percent'] - dfCompare['Percent']\n"
     ]
    },
    {
     "data": {
      "application/vnd.jupyter.widget-view+json": {
       "model_id": "eb093a901e24445d9beac6982ca944d4",
       "version_major": 2,
       "version_minor": 0
      },
      "text/plain": [
       "Pandas Apply:   0%|          | 0/520 [00:00<?, ?it/s]"
      ]
     },
     "metadata": {},
     "output_type": "display_data"
    },
    {
     "data": {
      "application/vnd.jupyter.widget-view+json": {
       "model_id": "c9b41723f1c34db7beb6bace6fb940a0",
       "version_major": 2,
       "version_minor": 0
      },
      "text/plain": [
       "Pandas Apply:   0%|          | 0/520 [00:00<?, ?it/s]"
      ]
     },
     "metadata": {},
     "output_type": "display_data"
    },
    {
     "name": "stderr",
     "output_type": "stream",
     "text": [
      "/tmp/ipykernel_8304/2036736335.py:17: SettingWithCopyWarning: \n",
      "A value is trying to be set on a copy of a slice from a DataFrame.\n",
      "Try using .loc[row_indexer,col_indexer] = value instead\n",
      "\n",
      "See the caveats in the documentation: https://pandas.pydata.org/pandas-docs/stable/user_guide/indexing.html#returning-a-view-versus-a-copy\n",
      "  df['RS'] = df['Percent'] - dfCompare['Percent']\n"
     ]
    },
    {
     "data": {
      "application/vnd.jupyter.widget-view+json": {
       "model_id": "167e07a9d074400a86c762f80693aaaa",
       "version_major": 2,
       "version_minor": 0
      },
      "text/plain": [
       "Pandas Apply:   0%|          | 0/677 [00:00<?, ?it/s]"
      ]
     },
     "metadata": {},
     "output_type": "display_data"
    },
    {
     "data": {
      "application/vnd.jupyter.widget-view+json": {
       "model_id": "6b3ba700279f4966bbdb961a496fcb5b",
       "version_major": 2,
       "version_minor": 0
      },
      "text/plain": [
       "Pandas Apply:   0%|          | 0/677 [00:00<?, ?it/s]"
      ]
     },
     "metadata": {},
     "output_type": "display_data"
    },
    {
     "name": "stderr",
     "output_type": "stream",
     "text": [
      "/tmp/ipykernel_8304/2036736335.py:17: SettingWithCopyWarning: \n",
      "A value is trying to be set on a copy of a slice from a DataFrame.\n",
      "Try using .loc[row_indexer,col_indexer] = value instead\n",
      "\n",
      "See the caveats in the documentation: https://pandas.pydata.org/pandas-docs/stable/user_guide/indexing.html#returning-a-view-versus-a-copy\n",
      "  df['RS'] = df['Percent'] - dfCompare['Percent']\n"
     ]
    },
    {
     "data": {
      "application/vnd.jupyter.widget-view+json": {
       "model_id": "3af7d9dea562462eacd62c9b4cc501a2",
       "version_major": 2,
       "version_minor": 0
      },
      "text/plain": [
       "Pandas Apply:   0%|          | 0/673 [00:00<?, ?it/s]"
      ]
     },
     "metadata": {},
     "output_type": "display_data"
    },
    {
     "data": {
      "application/vnd.jupyter.widget-view+json": {
       "model_id": "6b45afba036f47068b3da02a2034c059",
       "version_major": 2,
       "version_minor": 0
      },
      "text/plain": [
       "Pandas Apply:   0%|          | 0/673 [00:00<?, ?it/s]"
      ]
     },
     "metadata": {},
     "output_type": "display_data"
    },
    {
     "name": "stderr",
     "output_type": "stream",
     "text": [
      "/tmp/ipykernel_8304/2036736335.py:17: SettingWithCopyWarning: \n",
      "A value is trying to be set on a copy of a slice from a DataFrame.\n",
      "Try using .loc[row_indexer,col_indexer] = value instead\n",
      "\n",
      "See the caveats in the documentation: https://pandas.pydata.org/pandas-docs/stable/user_guide/indexing.html#returning-a-view-versus-a-copy\n",
      "  df['RS'] = df['Percent'] - dfCompare['Percent']\n"
     ]
    },
    {
     "data": {
      "application/vnd.jupyter.widget-view+json": {
       "model_id": "29396b258cf3421c9097975510602d32",
       "version_major": 2,
       "version_minor": 0
      },
      "text/plain": [
       "Pandas Apply:   0%|          | 0/679 [00:00<?, ?it/s]"
      ]
     },
     "metadata": {},
     "output_type": "display_data"
    },
    {
     "data": {
      "application/vnd.jupyter.widget-view+json": {
       "model_id": "f3eec695c3ae4e739d3990bed7e94675",
       "version_major": 2,
       "version_minor": 0
      },
      "text/plain": [
       "Pandas Apply:   0%|          | 0/679 [00:00<?, ?it/s]"
      ]
     },
     "metadata": {},
     "output_type": "display_data"
    },
    {
     "name": "stderr",
     "output_type": "stream",
     "text": [
      "/tmp/ipykernel_8304/2036736335.py:17: SettingWithCopyWarning: \n",
      "A value is trying to be set on a copy of a slice from a DataFrame.\n",
      "Try using .loc[row_indexer,col_indexer] = value instead\n",
      "\n",
      "See the caveats in the documentation: https://pandas.pydata.org/pandas-docs/stable/user_guide/indexing.html#returning-a-view-versus-a-copy\n",
      "  df['RS'] = df['Percent'] - dfCompare['Percent']\n"
     ]
    },
    {
     "data": {
      "application/vnd.jupyter.widget-view+json": {
       "model_id": "a541a3c17daa412c8b2d6020ba8f914f",
       "version_major": 2,
       "version_minor": 0
      },
      "text/plain": [
       "Pandas Apply:   0%|          | 0/679 [00:00<?, ?it/s]"
      ]
     },
     "metadata": {},
     "output_type": "display_data"
    },
    {
     "data": {
      "application/vnd.jupyter.widget-view+json": {
       "model_id": "5876cf13817a4f35b6dca3964890179c",
       "version_major": 2,
       "version_minor": 0
      },
      "text/plain": [
       "Pandas Apply:   0%|          | 0/679 [00:00<?, ?it/s]"
      ]
     },
     "metadata": {},
     "output_type": "display_data"
    },
    {
     "name": "stderr",
     "output_type": "stream",
     "text": [
      "/tmp/ipykernel_8304/2036736335.py:17: SettingWithCopyWarning: \n",
      "A value is trying to be set on a copy of a slice from a DataFrame.\n",
      "Try using .loc[row_indexer,col_indexer] = value instead\n",
      "\n",
      "See the caveats in the documentation: https://pandas.pydata.org/pandas-docs/stable/user_guide/indexing.html#returning-a-view-versus-a-copy\n",
      "  df['RS'] = df['Percent'] - dfCompare['Percent']\n"
     ]
    },
    {
     "data": {
      "application/vnd.jupyter.widget-view+json": {
       "model_id": "24c2067307674b86bb7d7c47af45d9a4",
       "version_major": 2,
       "version_minor": 0
      },
      "text/plain": [
       "Pandas Apply:   0%|          | 0/427 [00:00<?, ?it/s]"
      ]
     },
     "metadata": {},
     "output_type": "display_data"
    },
    {
     "data": {
      "application/vnd.jupyter.widget-view+json": {
       "model_id": "90d56838d14b441e86a0ba1169c54544",
       "version_major": 2,
       "version_minor": 0
      },
      "text/plain": [
       "Pandas Apply:   0%|          | 0/427 [00:00<?, ?it/s]"
      ]
     },
     "metadata": {},
     "output_type": "display_data"
    },
    {
     "name": "stderr",
     "output_type": "stream",
     "text": [
      "/tmp/ipykernel_8304/2036736335.py:17: SettingWithCopyWarning: \n",
      "A value is trying to be set on a copy of a slice from a DataFrame.\n",
      "Try using .loc[row_indexer,col_indexer] = value instead\n",
      "\n",
      "See the caveats in the documentation: https://pandas.pydata.org/pandas-docs/stable/user_guide/indexing.html#returning-a-view-versus-a-copy\n",
      "  df['RS'] = df['Percent'] - dfCompare['Percent']\n"
     ]
    },
    {
     "data": {
      "application/vnd.jupyter.widget-view+json": {
       "model_id": "b9c4b678736f4532b6452823b0258d4b",
       "version_major": 2,
       "version_minor": 0
      },
      "text/plain": [
       "Pandas Apply:   0%|          | 0/679 [00:00<?, ?it/s]"
      ]
     },
     "metadata": {},
     "output_type": "display_data"
    },
    {
     "data": {
      "application/vnd.jupyter.widget-view+json": {
       "model_id": "10f08dd9099f45c8a055b8f0ab3d96d3",
       "version_major": 2,
       "version_minor": 0
      },
      "text/plain": [
       "Pandas Apply:   0%|          | 0/679 [00:00<?, ?it/s]"
      ]
     },
     "metadata": {},
     "output_type": "display_data"
    },
    {
     "name": "stderr",
     "output_type": "stream",
     "text": [
      "/tmp/ipykernel_8304/2036736335.py:17: SettingWithCopyWarning: \n",
      "A value is trying to be set on a copy of a slice from a DataFrame.\n",
      "Try using .loc[row_indexer,col_indexer] = value instead\n",
      "\n",
      "See the caveats in the documentation: https://pandas.pydata.org/pandas-docs/stable/user_guide/indexing.html#returning-a-view-versus-a-copy\n",
      "  df['RS'] = df['Percent'] - dfCompare['Percent']\n"
     ]
    },
    {
     "data": {
      "application/vnd.jupyter.widget-view+json": {
       "model_id": "5331d03b92494445bae5ce76cf2a9d0a",
       "version_major": 2,
       "version_minor": 0
      },
      "text/plain": [
       "Pandas Apply:   0%|          | 0/679 [00:00<?, ?it/s]"
      ]
     },
     "metadata": {},
     "output_type": "display_data"
    },
    {
     "data": {
      "application/vnd.jupyter.widget-view+json": {
       "model_id": "1be55b0c369f49ba89640a9b8334a086",
       "version_major": 2,
       "version_minor": 0
      },
      "text/plain": [
       "Pandas Apply:   0%|          | 0/679 [00:00<?, ?it/s]"
      ]
     },
     "metadata": {},
     "output_type": "display_data"
    },
    {
     "name": "stderr",
     "output_type": "stream",
     "text": [
      "/tmp/ipykernel_8304/2036736335.py:17: SettingWithCopyWarning: \n",
      "A value is trying to be set on a copy of a slice from a DataFrame.\n",
      "Try using .loc[row_indexer,col_indexer] = value instead\n",
      "\n",
      "See the caveats in the documentation: https://pandas.pydata.org/pandas-docs/stable/user_guide/indexing.html#returning-a-view-versus-a-copy\n",
      "  df['RS'] = df['Percent'] - dfCompare['Percent']\n"
     ]
    },
    {
     "data": {
      "application/vnd.jupyter.widget-view+json": {
       "model_id": "e9477d4a31a9492a9ad4119e13ef503b",
       "version_major": 2,
       "version_minor": 0
      },
      "text/plain": [
       "Pandas Apply:   0%|          | 0/281 [00:00<?, ?it/s]"
      ]
     },
     "metadata": {},
     "output_type": "display_data"
    },
    {
     "data": {
      "application/vnd.jupyter.widget-view+json": {
       "model_id": "c75d454815e74004b274a2581d1a29be",
       "version_major": 2,
       "version_minor": 0
      },
      "text/plain": [
       "Pandas Apply:   0%|          | 0/281 [00:00<?, ?it/s]"
      ]
     },
     "metadata": {},
     "output_type": "display_data"
    },
    {
     "name": "stderr",
     "output_type": "stream",
     "text": [
      "/tmp/ipykernel_8304/2036736335.py:17: SettingWithCopyWarning: \n",
      "A value is trying to be set on a copy of a slice from a DataFrame.\n",
      "Try using .loc[row_indexer,col_indexer] = value instead\n",
      "\n",
      "See the caveats in the documentation: https://pandas.pydata.org/pandas-docs/stable/user_guide/indexing.html#returning-a-view-versus-a-copy\n",
      "  df['RS'] = df['Percent'] - dfCompare['Percent']\n"
     ]
    },
    {
     "data": {
      "application/vnd.jupyter.widget-view+json": {
       "model_id": "39785ec638964f889639494fc8e85adf",
       "version_major": 2,
       "version_minor": 0
      },
      "text/plain": [
       "Pandas Apply:   0%|          | 0/193 [00:00<?, ?it/s]"
      ]
     },
     "metadata": {},
     "output_type": "display_data"
    },
    {
     "data": {
      "application/vnd.jupyter.widget-view+json": {
       "model_id": "ac46958c8f684c29bb3c79f56432b64b",
       "version_major": 2,
       "version_minor": 0
      },
      "text/plain": [
       "Pandas Apply:   0%|          | 0/193 [00:00<?, ?it/s]"
      ]
     },
     "metadata": {},
     "output_type": "display_data"
    },
    {
     "name": "stderr",
     "output_type": "stream",
     "text": [
      "/tmp/ipykernel_8304/2036736335.py:17: SettingWithCopyWarning: \n",
      "A value is trying to be set on a copy of a slice from a DataFrame.\n",
      "Try using .loc[row_indexer,col_indexer] = value instead\n",
      "\n",
      "See the caveats in the documentation: https://pandas.pydata.org/pandas-docs/stable/user_guide/indexing.html#returning-a-view-versus-a-copy\n",
      "  df['RS'] = df['Percent'] - dfCompare['Percent']\n"
     ]
    },
    {
     "data": {
      "application/vnd.jupyter.widget-view+json": {
       "model_id": "830f2825b1d742b9b8c420c2cfbc9c5d",
       "version_major": 2,
       "version_minor": 0
      },
      "text/plain": [
       "Pandas Apply:   0%|          | 0/678 [00:00<?, ?it/s]"
      ]
     },
     "metadata": {},
     "output_type": "display_data"
    },
    {
     "data": {
      "application/vnd.jupyter.widget-view+json": {
       "model_id": "9c0ed61e420e49b99757d57e965c0d97",
       "version_major": 2,
       "version_minor": 0
      },
      "text/plain": [
       "Pandas Apply:   0%|          | 0/678 [00:00<?, ?it/s]"
      ]
     },
     "metadata": {},
     "output_type": "display_data"
    },
    {
     "name": "stderr",
     "output_type": "stream",
     "text": [
      "/tmp/ipykernel_8304/2036736335.py:17: SettingWithCopyWarning: \n",
      "A value is trying to be set on a copy of a slice from a DataFrame.\n",
      "Try using .loc[row_indexer,col_indexer] = value instead\n",
      "\n",
      "See the caveats in the documentation: https://pandas.pydata.org/pandas-docs/stable/user_guide/indexing.html#returning-a-view-versus-a-copy\n",
      "  df['RS'] = df['Percent'] - dfCompare['Percent']\n"
     ]
    },
    {
     "data": {
      "application/vnd.jupyter.widget-view+json": {
       "model_id": "9e2bb7f5c7b24b8db351959fb2622254",
       "version_major": 2,
       "version_minor": 0
      },
      "text/plain": [
       "Pandas Apply:   0%|          | 0/289 [00:00<?, ?it/s]"
      ]
     },
     "metadata": {},
     "output_type": "display_data"
    },
    {
     "data": {
      "application/vnd.jupyter.widget-view+json": {
       "model_id": "cb90fc77c99748a5b6b0acbdde50f1d6",
       "version_major": 2,
       "version_minor": 0
      },
      "text/plain": [
       "Pandas Apply:   0%|          | 0/289 [00:00<?, ?it/s]"
      ]
     },
     "metadata": {},
     "output_type": "display_data"
    },
    {
     "name": "stderr",
     "output_type": "stream",
     "text": [
      "/tmp/ipykernel_8304/2036736335.py:17: SettingWithCopyWarning: \n",
      "A value is trying to be set on a copy of a slice from a DataFrame.\n",
      "Try using .loc[row_indexer,col_indexer] = value instead\n",
      "\n",
      "See the caveats in the documentation: https://pandas.pydata.org/pandas-docs/stable/user_guide/indexing.html#returning-a-view-versus-a-copy\n",
      "  df['RS'] = df['Percent'] - dfCompare['Percent']\n"
     ]
    },
    {
     "data": {
      "application/vnd.jupyter.widget-view+json": {
       "model_id": "b933eca14c0f47ff8b6afbbe504e900d",
       "version_major": 2,
       "version_minor": 0
      },
      "text/plain": [
       "Pandas Apply:   0%|          | 0/297 [00:00<?, ?it/s]"
      ]
     },
     "metadata": {},
     "output_type": "display_data"
    },
    {
     "data": {
      "application/vnd.jupyter.widget-view+json": {
       "model_id": "3aafec6d6fd84f90b080cf13e654881b",
       "version_major": 2,
       "version_minor": 0
      },
      "text/plain": [
       "Pandas Apply:   0%|          | 0/297 [00:00<?, ?it/s]"
      ]
     },
     "metadata": {},
     "output_type": "display_data"
    },
    {
     "name": "stderr",
     "output_type": "stream",
     "text": [
      "/tmp/ipykernel_8304/2036736335.py:17: SettingWithCopyWarning: \n",
      "A value is trying to be set on a copy of a slice from a DataFrame.\n",
      "Try using .loc[row_indexer,col_indexer] = value instead\n",
      "\n",
      "See the caveats in the documentation: https://pandas.pydata.org/pandas-docs/stable/user_guide/indexing.html#returning-a-view-versus-a-copy\n",
      "  df['RS'] = df['Percent'] - dfCompare['Percent']\n"
     ]
    },
    {
     "data": {
      "application/vnd.jupyter.widget-view+json": {
       "model_id": "92619e65a98e49108ab8af4e9e6b9991",
       "version_major": 2,
       "version_minor": 0
      },
      "text/plain": [
       "Pandas Apply:   0%|          | 0/483 [00:00<?, ?it/s]"
      ]
     },
     "metadata": {},
     "output_type": "display_data"
    },
    {
     "data": {
      "application/vnd.jupyter.widget-view+json": {
       "model_id": "3f407b0e0d624d929b10fca93adaeb99",
       "version_major": 2,
       "version_minor": 0
      },
      "text/plain": [
       "Pandas Apply:   0%|          | 0/483 [00:00<?, ?it/s]"
      ]
     },
     "metadata": {},
     "output_type": "display_data"
    },
    {
     "name": "stderr",
     "output_type": "stream",
     "text": [
      "/tmp/ipykernel_8304/2036736335.py:17: SettingWithCopyWarning: \n",
      "A value is trying to be set on a copy of a slice from a DataFrame.\n",
      "Try using .loc[row_indexer,col_indexer] = value instead\n",
      "\n",
      "See the caveats in the documentation: https://pandas.pydata.org/pandas-docs/stable/user_guide/indexing.html#returning-a-view-versus-a-copy\n",
      "  df['RS'] = df['Percent'] - dfCompare['Percent']\n"
     ]
    },
    {
     "data": {
      "application/vnd.jupyter.widget-view+json": {
       "model_id": "7d487411a5944b46a31b932e678af8b0",
       "version_major": 2,
       "version_minor": 0
      },
      "text/plain": [
       "Pandas Apply:   0%|          | 0/679 [00:00<?, ?it/s]"
      ]
     },
     "metadata": {},
     "output_type": "display_data"
    },
    {
     "data": {
      "application/vnd.jupyter.widget-view+json": {
       "model_id": "daad57d8476d4c5384c048524cd3edd2",
       "version_major": 2,
       "version_minor": 0
      },
      "text/plain": [
       "Pandas Apply:   0%|          | 0/679 [00:00<?, ?it/s]"
      ]
     },
     "metadata": {},
     "output_type": "display_data"
    },
    {
     "name": "stderr",
     "output_type": "stream",
     "text": [
      "/tmp/ipykernel_8304/2036736335.py:17: SettingWithCopyWarning: \n",
      "A value is trying to be set on a copy of a slice from a DataFrame.\n",
      "Try using .loc[row_indexer,col_indexer] = value instead\n",
      "\n",
      "See the caveats in the documentation: https://pandas.pydata.org/pandas-docs/stable/user_guide/indexing.html#returning-a-view-versus-a-copy\n",
      "  df['RS'] = df['Percent'] - dfCompare['Percent']\n"
     ]
    },
    {
     "data": {
      "application/vnd.jupyter.widget-view+json": {
       "model_id": "3bc464ad28e94f7a942a7d569f5c4746",
       "version_major": 2,
       "version_minor": 0
      },
      "text/plain": [
       "Pandas Apply:   0%|          | 0/417 [00:00<?, ?it/s]"
      ]
     },
     "metadata": {},
     "output_type": "display_data"
    },
    {
     "data": {
      "application/vnd.jupyter.widget-view+json": {
       "model_id": "8128dce90e5a4431859019df794682f0",
       "version_major": 2,
       "version_minor": 0
      },
      "text/plain": [
       "Pandas Apply:   0%|          | 0/417 [00:00<?, ?it/s]"
      ]
     },
     "metadata": {},
     "output_type": "display_data"
    },
    {
     "name": "stderr",
     "output_type": "stream",
     "text": [
      "/tmp/ipykernel_8304/2036736335.py:17: SettingWithCopyWarning: \n",
      "A value is trying to be set on a copy of a slice from a DataFrame.\n",
      "Try using .loc[row_indexer,col_indexer] = value instead\n",
      "\n",
      "See the caveats in the documentation: https://pandas.pydata.org/pandas-docs/stable/user_guide/indexing.html#returning-a-view-versus-a-copy\n",
      "  df['RS'] = df['Percent'] - dfCompare['Percent']\n"
     ]
    },
    {
     "data": {
      "application/vnd.jupyter.widget-view+json": {
       "model_id": "78c67719e3434a1ebc8cc249611c3963",
       "version_major": 2,
       "version_minor": 0
      },
      "text/plain": [
       "Pandas Apply:   0%|          | 0/217 [00:00<?, ?it/s]"
      ]
     },
     "metadata": {},
     "output_type": "display_data"
    },
    {
     "data": {
      "application/vnd.jupyter.widget-view+json": {
       "model_id": "58ff57a1b1ad40688b7a5de1153991c2",
       "version_major": 2,
       "version_minor": 0
      },
      "text/plain": [
       "Pandas Apply:   0%|          | 0/217 [00:00<?, ?it/s]"
      ]
     },
     "metadata": {},
     "output_type": "display_data"
    },
    {
     "name": "stderr",
     "output_type": "stream",
     "text": [
      "/tmp/ipykernel_8304/2036736335.py:17: SettingWithCopyWarning: \n",
      "A value is trying to be set on a copy of a slice from a DataFrame.\n",
      "Try using .loc[row_indexer,col_indexer] = value instead\n",
      "\n",
      "See the caveats in the documentation: https://pandas.pydata.org/pandas-docs/stable/user_guide/indexing.html#returning-a-view-versus-a-copy\n",
      "  df['RS'] = df['Percent'] - dfCompare['Percent']\n"
     ]
    },
    {
     "data": {
      "application/vnd.jupyter.widget-view+json": {
       "model_id": "f5449c51b4434a13859f39a326c2d8c1",
       "version_major": 2,
       "version_minor": 0
      },
      "text/plain": [
       "Pandas Apply:   0%|          | 0/679 [00:00<?, ?it/s]"
      ]
     },
     "metadata": {},
     "output_type": "display_data"
    },
    {
     "data": {
      "application/vnd.jupyter.widget-view+json": {
       "model_id": "e6942542653b488c92680b4f7f5be75d",
       "version_major": 2,
       "version_minor": 0
      },
      "text/plain": [
       "Pandas Apply:   0%|          | 0/679 [00:00<?, ?it/s]"
      ]
     },
     "metadata": {},
     "output_type": "display_data"
    },
    {
     "name": "stderr",
     "output_type": "stream",
     "text": [
      "/tmp/ipykernel_8304/2036736335.py:17: SettingWithCopyWarning: \n",
      "A value is trying to be set on a copy of a slice from a DataFrame.\n",
      "Try using .loc[row_indexer,col_indexer] = value instead\n",
      "\n",
      "See the caveats in the documentation: https://pandas.pydata.org/pandas-docs/stable/user_guide/indexing.html#returning-a-view-versus-a-copy\n",
      "  df['RS'] = df['Percent'] - dfCompare['Percent']\n"
     ]
    },
    {
     "data": {
      "application/vnd.jupyter.widget-view+json": {
       "model_id": "1bdc8bcbef8b40369acd2f109011f996",
       "version_major": 2,
       "version_minor": 0
      },
      "text/plain": [
       "Pandas Apply:   0%|          | 0/679 [00:00<?, ?it/s]"
      ]
     },
     "metadata": {},
     "output_type": "display_data"
    },
    {
     "data": {
      "application/vnd.jupyter.widget-view+json": {
       "model_id": "5e6eea0295e8465b8159a51f30606305",
       "version_major": 2,
       "version_minor": 0
      },
      "text/plain": [
       "Pandas Apply:   0%|          | 0/679 [00:00<?, ?it/s]"
      ]
     },
     "metadata": {},
     "output_type": "display_data"
    },
    {
     "name": "stderr",
     "output_type": "stream",
     "text": [
      "/tmp/ipykernel_8304/2036736335.py:17: SettingWithCopyWarning: \n",
      "A value is trying to be set on a copy of a slice from a DataFrame.\n",
      "Try using .loc[row_indexer,col_indexer] = value instead\n",
      "\n",
      "See the caveats in the documentation: https://pandas.pydata.org/pandas-docs/stable/user_guide/indexing.html#returning-a-view-versus-a-copy\n",
      "  df['RS'] = df['Percent'] - dfCompare['Percent']\n"
     ]
    },
    {
     "data": {
      "application/vnd.jupyter.widget-view+json": {
       "model_id": "0f7d39edffde4d74a08b9d4bce854dd9",
       "version_major": 2,
       "version_minor": 0
      },
      "text/plain": [
       "Pandas Apply:   0%|          | 0/351 [00:00<?, ?it/s]"
      ]
     },
     "metadata": {},
     "output_type": "display_data"
    },
    {
     "data": {
      "application/vnd.jupyter.widget-view+json": {
       "model_id": "0e3fd6bcc210429489eca2ff53acab11",
       "version_major": 2,
       "version_minor": 0
      },
      "text/plain": [
       "Pandas Apply:   0%|          | 0/351 [00:00<?, ?it/s]"
      ]
     },
     "metadata": {},
     "output_type": "display_data"
    },
    {
     "name": "stderr",
     "output_type": "stream",
     "text": [
      "/tmp/ipykernel_8304/2036736335.py:17: SettingWithCopyWarning: \n",
      "A value is trying to be set on a copy of a slice from a DataFrame.\n",
      "Try using .loc[row_indexer,col_indexer] = value instead\n",
      "\n",
      "See the caveats in the documentation: https://pandas.pydata.org/pandas-docs/stable/user_guide/indexing.html#returning-a-view-versus-a-copy\n",
      "  df['RS'] = df['Percent'] - dfCompare['Percent']\n"
     ]
    },
    {
     "data": {
      "application/vnd.jupyter.widget-view+json": {
       "model_id": "333e6e26a50346d5b1c2f3923bd88df0",
       "version_major": 2,
       "version_minor": 0
      },
      "text/plain": [
       "Pandas Apply:   0%|          | 0/679 [00:00<?, ?it/s]"
      ]
     },
     "metadata": {},
     "output_type": "display_data"
    },
    {
     "data": {
      "application/vnd.jupyter.widget-view+json": {
       "model_id": "c3dfb452f4f94db0bb14e8f44b7a70a3",
       "version_major": 2,
       "version_minor": 0
      },
      "text/plain": [
       "Pandas Apply:   0%|          | 0/679 [00:00<?, ?it/s]"
      ]
     },
     "metadata": {},
     "output_type": "display_data"
    },
    {
     "name": "stderr",
     "output_type": "stream",
     "text": [
      "/tmp/ipykernel_8304/2036736335.py:17: SettingWithCopyWarning: \n",
      "A value is trying to be set on a copy of a slice from a DataFrame.\n",
      "Try using .loc[row_indexer,col_indexer] = value instead\n",
      "\n",
      "See the caveats in the documentation: https://pandas.pydata.org/pandas-docs/stable/user_guide/indexing.html#returning-a-view-versus-a-copy\n",
      "  df['RS'] = df['Percent'] - dfCompare['Percent']\n"
     ]
    },
    {
     "data": {
      "application/vnd.jupyter.widget-view+json": {
       "model_id": "92097798bb8341c18b892aee159a17a3",
       "version_major": 2,
       "version_minor": 0
      },
      "text/plain": [
       "Pandas Apply:   0%|          | 0/679 [00:00<?, ?it/s]"
      ]
     },
     "metadata": {},
     "output_type": "display_data"
    },
    {
     "data": {
      "application/vnd.jupyter.widget-view+json": {
       "model_id": "61e80833dbbf4fceaf6253e48cf75378",
       "version_major": 2,
       "version_minor": 0
      },
      "text/plain": [
       "Pandas Apply:   0%|          | 0/679 [00:00<?, ?it/s]"
      ]
     },
     "metadata": {},
     "output_type": "display_data"
    },
    {
     "name": "stderr",
     "output_type": "stream",
     "text": [
      "/tmp/ipykernel_8304/2036736335.py:17: SettingWithCopyWarning: \n",
      "A value is trying to be set on a copy of a slice from a DataFrame.\n",
      "Try using .loc[row_indexer,col_indexer] = value instead\n",
      "\n",
      "See the caveats in the documentation: https://pandas.pydata.org/pandas-docs/stable/user_guide/indexing.html#returning-a-view-versus-a-copy\n",
      "  df['RS'] = df['Percent'] - dfCompare['Percent']\n"
     ]
    },
    {
     "data": {
      "application/vnd.jupyter.widget-view+json": {
       "model_id": "3cfbe09fcfd94c828b4a4735075eac56",
       "version_major": 2,
       "version_minor": 0
      },
      "text/plain": [
       "Pandas Apply:   0%|          | 0/679 [00:00<?, ?it/s]"
      ]
     },
     "metadata": {},
     "output_type": "display_data"
    },
    {
     "data": {
      "application/vnd.jupyter.widget-view+json": {
       "model_id": "f9df26a6b3a74c6892a2ce22c15247d6",
       "version_major": 2,
       "version_minor": 0
      },
      "text/plain": [
       "Pandas Apply:   0%|          | 0/679 [00:00<?, ?it/s]"
      ]
     },
     "metadata": {},
     "output_type": "display_data"
    },
    {
     "name": "stderr",
     "output_type": "stream",
     "text": [
      "/tmp/ipykernel_8304/2036736335.py:17: SettingWithCopyWarning: \n",
      "A value is trying to be set on a copy of a slice from a DataFrame.\n",
      "Try using .loc[row_indexer,col_indexer] = value instead\n",
      "\n",
      "See the caveats in the documentation: https://pandas.pydata.org/pandas-docs/stable/user_guide/indexing.html#returning-a-view-versus-a-copy\n",
      "  df['RS'] = df['Percent'] - dfCompare['Percent']\n"
     ]
    },
    {
     "data": {
      "application/vnd.jupyter.widget-view+json": {
       "model_id": "423149d898754e8489d8ea0f3e1e6008",
       "version_major": 2,
       "version_minor": 0
      },
      "text/plain": [
       "Pandas Apply:   0%|          | 0/242 [00:00<?, ?it/s]"
      ]
     },
     "metadata": {},
     "output_type": "display_data"
    },
    {
     "data": {
      "application/vnd.jupyter.widget-view+json": {
       "model_id": "d931a51bdd574c57bb324993dd907ffb",
       "version_major": 2,
       "version_minor": 0
      },
      "text/plain": [
       "Pandas Apply:   0%|          | 0/242 [00:00<?, ?it/s]"
      ]
     },
     "metadata": {},
     "output_type": "display_data"
    },
    {
     "name": "stderr",
     "output_type": "stream",
     "text": [
      "/tmp/ipykernel_8304/2036736335.py:17: SettingWithCopyWarning: \n",
      "A value is trying to be set on a copy of a slice from a DataFrame.\n",
      "Try using .loc[row_indexer,col_indexer] = value instead\n",
      "\n",
      "See the caveats in the documentation: https://pandas.pydata.org/pandas-docs/stable/user_guide/indexing.html#returning-a-view-versus-a-copy\n",
      "  df['RS'] = df['Percent'] - dfCompare['Percent']\n"
     ]
    },
    {
     "data": {
      "application/vnd.jupyter.widget-view+json": {
       "model_id": "bf427310ffc6424199b685a863c8bc63",
       "version_major": 2,
       "version_minor": 0
      },
      "text/plain": [
       "Pandas Apply:   0%|          | 0/679 [00:00<?, ?it/s]"
      ]
     },
     "metadata": {},
     "output_type": "display_data"
    },
    {
     "data": {
      "application/vnd.jupyter.widget-view+json": {
       "model_id": "102213cf30cb44f0ac7e0a48417892af",
       "version_major": 2,
       "version_minor": 0
      },
      "text/plain": [
       "Pandas Apply:   0%|          | 0/679 [00:00<?, ?it/s]"
      ]
     },
     "metadata": {},
     "output_type": "display_data"
    },
    {
     "name": "stderr",
     "output_type": "stream",
     "text": [
      "/tmp/ipykernel_8304/2036736335.py:17: SettingWithCopyWarning: \n",
      "A value is trying to be set on a copy of a slice from a DataFrame.\n",
      "Try using .loc[row_indexer,col_indexer] = value instead\n",
      "\n",
      "See the caveats in the documentation: https://pandas.pydata.org/pandas-docs/stable/user_guide/indexing.html#returning-a-view-versus-a-copy\n",
      "  df['RS'] = df['Percent'] - dfCompare['Percent']\n"
     ]
    },
    {
     "data": {
      "application/vnd.jupyter.widget-view+json": {
       "model_id": "1cc7d9eb7f144d19954ef6fcc356bcd5",
       "version_major": 2,
       "version_minor": 0
      },
      "text/plain": [
       "Pandas Apply:   0%|          | 0/679 [00:00<?, ?it/s]"
      ]
     },
     "metadata": {},
     "output_type": "display_data"
    },
    {
     "data": {
      "application/vnd.jupyter.widget-view+json": {
       "model_id": "7c582ee34f95475aa5dcfd2cd293569d",
       "version_major": 2,
       "version_minor": 0
      },
      "text/plain": [
       "Pandas Apply:   0%|          | 0/679 [00:00<?, ?it/s]"
      ]
     },
     "metadata": {},
     "output_type": "display_data"
    },
    {
     "name": "stderr",
     "output_type": "stream",
     "text": [
      "/tmp/ipykernel_8304/2036736335.py:17: SettingWithCopyWarning: \n",
      "A value is trying to be set on a copy of a slice from a DataFrame.\n",
      "Try using .loc[row_indexer,col_indexer] = value instead\n",
      "\n",
      "See the caveats in the documentation: https://pandas.pydata.org/pandas-docs/stable/user_guide/indexing.html#returning-a-view-versus-a-copy\n",
      "  df['RS'] = df['Percent'] - dfCompare['Percent']\n"
     ]
    },
    {
     "data": {
      "application/vnd.jupyter.widget-view+json": {
       "model_id": "d1f29938491545d4b32861377e820aef",
       "version_major": 2,
       "version_minor": 0
      },
      "text/plain": [
       "Pandas Apply:   0%|          | 0/349 [00:00<?, ?it/s]"
      ]
     },
     "metadata": {},
     "output_type": "display_data"
    },
    {
     "data": {
      "application/vnd.jupyter.widget-view+json": {
       "model_id": "7934f486998645e1bd72f364647af977",
       "version_major": 2,
       "version_minor": 0
      },
      "text/plain": [
       "Pandas Apply:   0%|          | 0/349 [00:00<?, ?it/s]"
      ]
     },
     "metadata": {},
     "output_type": "display_data"
    },
    {
     "name": "stderr",
     "output_type": "stream",
     "text": [
      "/tmp/ipykernel_8304/2036736335.py:17: SettingWithCopyWarning: \n",
      "A value is trying to be set on a copy of a slice from a DataFrame.\n",
      "Try using .loc[row_indexer,col_indexer] = value instead\n",
      "\n",
      "See the caveats in the documentation: https://pandas.pydata.org/pandas-docs/stable/user_guide/indexing.html#returning-a-view-versus-a-copy\n",
      "  df['RS'] = df['Percent'] - dfCompare['Percent']\n"
     ]
    }
   ],
   "source": [
    "from turtle import st\n",
    "\n",
    "\n",
    "stockList = pd.read_pickle(\"datasets/tickerList.pkl\")\n",
    "industryList = pd.read_pickle(\"datasets/industryList.pkl\")\n",
    "sectorList = pd.read_pickle(\"datasets/sectorList.pkl\")\n",
    "stockToSectorIndustryDict = pd.read_pickle('datasets/stockToSectorIndustry.pkl')\n",
    "\n",
    "# getData(\"datasets/GSPC.feather\")\n",
    "for sector in sectorList:\n",
    "    getData(\"datasets/sectorData/\"+sector+\".feather\", \"datasets/GSPC.feather\")\n",
    "for industry in industryList:\n",
    "    getData(\"datasets/industriesData/\"+industry[0]+\"/\"+industry[1]+\".feather\", \"datasets/sectorData/\"+sector+\".feather\")\n",
    "for stock in set(stockList[0][2787:]):\n",
    "    if stock not in stockToSectorIndustryDict.keys():\n",
    "        continue\n",
    "    getData(\"datasets/stockData/\"+stock+\".feather\",\"datasets/industriesData/\"+stockToSectorIndustryDict[stock][0]+\"/\"+stockToSectorIndustryDict[stock][1]+\".feather\")\n"
   ]
  },
  {
   "cell_type": "code",
   "execution_count": 48,
   "metadata": {},
   "outputs": [
    {
     "name": "stdout",
     "output_type": "stream",
     "text": [
      "MDB\n",
      "IMOS\n",
      "DGX\n",
      "RADA\n",
      "UVE\n",
      "PDS\n",
      "GGDVY\n",
      "CBOE\n",
      "IDN\n",
      "KKPNY\n",
      "MED\n",
      "GEVO\n",
      "WSO\n",
      "EE\n",
      "AM\n",
      "GPN\n",
      "AMPE\n",
      "LTRPB\n",
      "QRVO\n",
      "TMICY\n",
      "IT\n",
      "VNRX\n",
      "GDDY\n",
      "VIPS\n",
      "MRTX\n",
      "BELFB\n",
      "UHAL\n",
      "HBT\n",
      "PETQ\n",
      "WRE\n",
      "ANIK\n",
      "AIRYY\n",
      "LSI\n",
      "APH\n",
      "TISI\n",
      "PSMMY\n",
      "KNYJY\n",
      "NHYDY\n",
      "VSTM\n",
      "SNCR\n",
      "WCC\n",
      "MHLD\n",
      "PW\n",
      "WAT\n",
      "EXPR\n",
      "FORTY\n",
      "TTDKY\n",
      "PEI\n",
      "MBCN\n",
      "ADES\n",
      "KOSS\n",
      "CREX\n",
      "NOC\n",
      "WIRE\n",
      "CRVL\n",
      "WFAFY\n",
      "HALO\n",
      "WBRBY\n",
      "ROKU\n",
      "BCOR\n",
      "DSS\n",
      "SMCAY\n",
      "MRBK\n",
      "TIPT\n",
      "ALSMY\n",
      "PMMAF\n",
      "EL\n",
      "BH\n",
      "DNKEY\n",
      "CENT\n",
      "RFP\n",
      "DLTH\n",
      "HLIT\n",
      "TRX\n",
      "RGS\n",
      "JSAIY\n",
      "IQ\n",
      "NFBK\n",
      "ISRG\n",
      "AUTL\n",
      "AEZS\n",
      "AAWW\n",
      "MTL\n",
      "LKCO\n",
      "CTRE\n",
      "STRT\n",
      "TS\n",
      "DHI\n",
      "MFG\n",
      "SCS\n",
      "WKHS\n",
      "ESCA\n",
      "GAIA\n",
      "RYKKY\n",
      "DB\n",
      "KRO\n",
      "SONVY\n",
      "TCDA\n",
      "TRMD\n",
      "MHH\n",
      "SWKS\n",
      "JBHT\n",
      "GOGL\n",
      "SUPN\n",
      "BKI\n",
      "LPI\n",
      "ALL\n",
      "CACI\n",
      "LCII\n",
      "TPH\n",
      "MMS\n",
      "BLDR\n",
      "EHTH\n",
      "SWRAY\n",
      "UG\n",
      "CLDX\n",
      "INTC\n",
      "CCLP\n",
      "SA\n",
      "SPPJY\n",
      "EPSN\n",
      "AON\n",
      "CXDC\n",
      "FNV\n",
      "ESGR\n",
      "ATHX\n",
      "BHF\n",
      "UBCP\n",
      "CX\n",
      "IPDN\n",
      "HRZN\n",
      "GTMAY\n",
      "DJCO\n",
      "VCEL\n",
      "FRHC\n",
      "EYPT\n",
      "PKCOY\n",
      "UMBF\n",
      "VIVHY\n",
      "FLNT\n",
      "TLRY\n",
      "HELE\n",
      "CNQ\n",
      "O\n",
      "ITCI\n",
      "HTHT\n",
      "ASMLF\n",
      "ECL\n",
      "CRBP\n",
      "AIG\n",
      "DTE\n",
      "ISMAY\n",
      "NVEE\n",
      "ALPN\n",
      "MTB\n",
      "VGR\n",
      "RCI\n",
      "IVAC\n",
      "BOOT\n",
      "CGA\n",
      "AMRX\n",
      "PTAIY\n",
      "EGHT\n",
      "LKQ\n",
      "FSV\n",
      "HPE\n",
      "PXS\n",
      "ANGPY\n",
      "AMS\n",
      "TPIC\n",
      "TTC\n",
      "FRSX\n",
      "TNABY\n",
      "BIG\n",
      "RNDB\n",
      "NUE\n",
      "PLL\n",
      "ICUI\n",
      "TBK\n",
      "AMBA\n",
      "OLED\n",
      "ASML\n",
      "MAG\n",
      "SAM\n",
      "AAT\n",
      "AQST\n",
      "TTEK\n",
      "LLY\n",
      "NUS\n",
      "STN\n",
      "DOGZ\n",
      "CINF\n",
      "TGNA\n",
      "CIOXY\n",
      "BMY\n",
      "AMT\n",
      "NC\n",
      "PRIM\n",
      "PAAS\n",
      "WHR\n",
      "KYOCY\n",
      "SRCE\n",
      "CHEF\n",
      "CCU\n",
      "LOAN\n",
      "RMD\n",
      "PSX\n",
      "PRQR\n",
      "FUTU\n",
      "CPSH\n",
      "IBM\n",
      "EMN\n",
      "GBR\n",
      "SO\n",
      "BOSSY\n",
      "GSS\n",
      "EMAN\n",
      "ROAD\n",
      "ONCY\n",
      "MDRX\n",
      "NEOG\n",
      "MSM\n",
      "MTH\n",
      "LILAK\n",
      "TKR\n",
      "DRRX\n",
      "HENOY\n",
      "POST\n",
      "EYE\n",
      "BBY\n",
      "GIB\n",
      "INGN\n",
      "LAKE\n",
      "CMBM\n",
      "PFIE\n",
      "PDD\n",
      "MNSB\n",
      "BCC\n",
      "BMRC\n",
      "DOV\n",
      "OC\n",
      "VEOEY\n",
      "EC\n",
      "SKY\n",
      "ARWR\n",
      "EXR\n",
      "PPCLY\n",
      "NEPT\n",
      "SCVL\n",
      "NTTYY\n",
      "HUN\n",
      "AKTS\n",
      "RILY\n",
      "NUAN\n",
      "TAP\n",
      "GRIN\n",
      "AKR\n",
      "GATX\n",
      "KRUS\n",
      "DCOM\n",
      "AEY\n",
      "BATRA\n",
      "AUTO\n",
      "HVRRY\n",
      "LGND\n",
      "HL\n",
      "MYFW\n",
      "JAPSY\n",
      "DSNKY\n",
      "OPRX\n",
      "RBCAA\n",
      "GGG\n",
      "QUAD\n",
      "SHG\n",
      "SMMYY\n",
      "SANM\n",
      "ZM\n",
      "GSKY\n",
      "CTAS\n",
      "FRME\n",
      "TIGO\n",
      "CLIR\n",
      "BRC\n",
      "BKR\n",
      "OZK\n",
      "CSTE\n",
      "ENGGY\n",
      "ABC\n",
      "KNSA\n",
      "BAX\n",
      "KHOLY\n",
      "TCI\n",
      "TRNS\n",
      "GNL\n",
      "HTLD\n",
      "CHMG\n",
      "SUI\n",
      "ENX\n",
      "BPOP\n",
      "SBCF\n",
      "PBR\n",
      "ACER\n",
      "BG\n",
      "RDSMY\n",
      "SAIC\n",
      "ITW\n",
      "LIVE\n",
      "ESP\n",
      "PTE\n",
      "GLDD\n",
      "PUK\n",
      "TCOM\n",
      "JBL\n",
      "AGYS\n",
      "SMTC\n",
      "MUR\n",
      "OFED\n",
      "TTSH\n",
      "FPLPY\n",
      "IPSEY\n",
      "PUTKY\n",
      "TKGBY\n",
      "MNTX\n",
      "MET\n",
      "ANSLY\n",
      "DOC\n",
      "ROL\n",
      "TBLT\n",
      "BNCDY\n",
      "PMTS\n",
      "RLGT\n",
      "ASHTY\n",
      "HDSN\n",
      "CBNK\n",
      "ARCB\n",
      "ATRO\n",
      "ARE\n",
      "HDB\n",
      "SLM\n",
      "ELMD\n",
      "CRWS\n",
      "SWCH\n",
      "SBAC\n",
      "EVV\n",
      "CCRN\n",
      "INFU\n",
      "SSD\n",
      "VLO\n",
      "MSA\n",
      "CVV\n",
      "RHE\n",
      "GOOGL\n",
      "SOUHY\n",
      "PKBK\n",
      "HVBC\n",
      "JCTCF\n",
      "NVDA\n",
      "DDD\n",
      "TRP\n",
      "FUL\n",
      "CDZI\n",
      "CBRI\n",
      "CPHI\n",
      "AJRD\n",
      "CVLT\n",
      "CI\n",
      "USB\n",
      "LTRX\n",
      "MCD\n",
      "XPL\n",
      "IIIN\n",
      "ENLAY\n",
      "WTM\n",
      "CCJ\n",
      "HCCI\n",
      "VFC\n",
      "FFWM\n",
      "ILPT\n",
      "VVV\n",
      "UOVEY\n",
      "THG\n",
      "EPAM\n",
      "HSII\n",
      "ATR\n",
      "LPSN\n",
      "CYRBY\n",
      "CNFR\n",
      "KWR\n",
      "SIETY\n",
      "DHX\n",
      "IRWD\n",
      "FLS\n",
      "SPGI\n",
      "FXTGY\n",
      "NAVI\n",
      "OLN\n",
      "RUBY\n",
      "TFX\n",
      "TBI\n",
      "DAN\n",
      "SWGAY\n",
      "CIBEY\n",
      "KURA\n",
      "AP\n",
      "CLX\n",
      "WBS\n",
      "KO\n",
      "PFIN\n",
      "RRR\n",
      "SIF\n",
      "RETO\n",
      "CHT\n",
      "FITB\n",
      "AOS\n",
      "MWA\n",
      "TRQ\n",
      "QUMU\n",
      "BGFV\n",
      "NLSN\n",
      "MNKD\n",
      "NPSCY\n",
      "SEDG\n",
      "HHR\n",
      "WTBA\n",
      "MUSA\n",
      "WSBF\n",
      "MSFT\n",
      "TAYD\n",
      "TGA\n",
      "UAMY\n",
      "KINS\n",
      "LMST\n",
      "JOE\n",
      "USPH\n",
      "MTD\n",
      "CNOB\n",
      "TAIT\n",
      "LCI\n",
      "CRESY\n",
      "CDNS\n",
      "GBCI\n",
      "SECO\n",
      "GNK\n",
      "ADM\n",
      "BRKL\n",
      "CCUR\n",
      "DFIN\n",
      "HE\n",
      "LZAGY\n",
      "LINUF\n",
      "AXTA\n",
      "FANG\n",
      "ATRI\n",
      "IGT\n",
      "TWOU\n",
      "CRL\n",
      "SMIT\n",
      "INVA\n",
      "SGTZY\n",
      "EVK\n",
      "DFS\n",
      "REGN\n",
      "NTIC\n",
      "CTXS\n",
      "CAKE\n",
      "FAF\n",
      "CONN\n",
      "KW\n",
      "ECF\n",
      "RDIB\n",
      "PBI\n",
      "AMED\n",
      "FCREY\n",
      "ITRN\n",
      "VIRT\n",
      "PWFL\n",
      "MLCO\n",
      "CENX\n",
      "HLX\n",
      "KOP\n",
      "CRK\n",
      "BYND\n",
      "EOG\n",
      "RMCF\n",
      "VOYA\n",
      "SXI\n",
      "CCHGY\n",
      "ROST\n",
      "KEP\n",
      "OXM\n",
      "FAMI\n",
      "KLAC\n",
      "JBT\n",
      "AZZ\n",
      "VNOM\n",
      "ALGN\n",
      "RDUS\n",
      "EFOI\n",
      "UBSI\n",
      "QUIK\n",
      "ADSK\n",
      "ALB\n",
      "CGEMY\n",
      "GRNQ\n",
      "CIR\n",
      "NGLOY\n",
      "BKE\n",
      "LAZY\n",
      "SUBCY\n",
      "NTRS\n",
      "BR\n",
      "PWR\n",
      "EONGY\n",
      "LXRX\n",
      "NBHC\n",
      "TOL\n",
      "DMRC\n",
      "EXPD\n",
      "EZPW\n",
      "EVM\n",
      "EDU\n",
      "EVC\n",
      "AMCX\n",
      "HCI\n",
      "USAP\n",
      "CYH\n",
      "LC\n",
      "VBTX\n",
      "ENPH\n",
      "NDVLY\n",
      "GENE\n",
      "APEMY\n",
      "SITC\n",
      "STKS\n",
      "NBTB\n",
      "LZRFY\n",
      "IHRT\n",
      "HMNF\n",
      "GWRS\n",
      "PB\n",
      "DO\n",
      "MTLS\n",
      "OXY\n",
      "SFL\n",
      "DXPE\n",
      "TSGTY\n",
      "SNV\n",
      "ICCC\n",
      "CGEN\n",
      "STIM\n",
      "PUMP\n",
      "OGI\n",
      "OCUL\n",
      "BOOM\n",
      "LHX\n",
      "RCG\n",
      "RIBT\n",
      "BVN\n",
      "HT\n",
      "TAVHY\n",
      "GLPI\n",
      "FENG\n",
      "ICE\n",
      "CHK\n",
      "BELFA\n",
      "GSV\n",
      "SMFG\n",
      "DMLRY\n",
      "GME\n",
      "ITEGY\n",
      "IHG\n",
      "PCSB\n",
      "SGC\n",
      "AGMH\n",
      "HENKY\n",
      "AWK\n",
      "MQBKY\n",
      "ACCO\n",
      "GASNY\n",
      "HR\n",
      "JBAXY\n",
      "XAIR\n",
      "LOVE\n",
      "MITFY\n",
      "MERR\n",
      "SP\n",
      "IEX\n",
      "AGRPY\n",
      "CDEVY\n",
      "BBVA\n",
      "NNGRY\n",
      "CHH\n",
      "AI\n",
      "EIM\n",
      "AHT\n",
      "BIOC\n",
      "WJRYY\n",
      "KOPN\n",
      "IMXI\n",
      "PNBK\n",
      "MHK\n",
      "GLBS\n",
      "NOA\n",
      "EBR\n",
      "SKT\n",
      "BSPM\n",
      "BOSC\n",
      "SYBT\n",
      "PDCE\n",
      "TTWO\n",
      "DISH\n",
      "CMPGY\n",
      "LE\n",
      "LGL\n",
      "OIS\n",
      "ITI\n",
      "COLB\n",
      "RIO\n",
      "CMS\n",
      "BRT\n",
      "UBS\n",
      "PRGS\n",
      "MARA\n",
      "VRA\n",
      "NEWR\n",
      "CUK\n",
      "HBAN\n",
      "WBT\n",
      "MICR\n",
      "WLMIY\n",
      "GLPG\n",
      "MYSZ\n",
      "CDTI\n",
      "SGH\n",
      "RPAY\n",
      "TBNK\n",
      "RMR\n",
      "AVD\n",
      "MGIC\n",
      "LANC\n",
      "VIVO\n",
      "HUBB\n",
      "FNKO\n",
      "NAK\n",
      "TCBK\n",
      "DD\n",
      "VCYT\n",
      "CW\n",
      "KAR\n",
      "WYNMY\n",
      "TEZNY\n",
      "BRQS\n",
      "LNN\n",
      "PRAA\n",
      "ETRN\n",
      "SIGA\n",
      "FOJCY\n",
      "BNSO\n",
      "MITSY\n",
      "FIVE\n",
      "KLYCY\n",
      "SSNC\n",
      "NWS\n",
      "EDAP\n",
      "VFL\n",
      "CALI\n",
      "FMBH\n",
      "MRIN\n",
      "SBNY\n",
      "EMR\n",
      "CSL\n",
      "ENB\n",
      "HAIN\n",
      "MANH\n",
      "NOW\n",
      "SBSI\n",
      "TC\n",
      "BSX\n",
      "CTRN\n",
      "MYE\n",
      "GNGBY\n",
      "CGUSY\n",
      "KMTUY\n",
      "CAT\n",
      "PFIS\n",
      "EXTN\n",
      "SPG\n",
      "GRMN\n",
      "WYNN\n",
      "REPYY\n",
      "WB\n",
      "BOXL\n",
      "IPG\n",
      "MTG\n",
      "ENGQF\n",
      "OSUR\n",
      "IPGP\n",
      "BDSI\n",
      "ISNPY\n",
      "WPP\n",
      "CIVB\n",
      "III\n",
      "PDLB\n",
      "PCRFY\n",
      "OUT\n",
      "HSTM\n",
      "VRSN\n",
      "SSUMY\n",
      "LSXMA\n",
      "MGI\n",
      "MORN\n",
      "HOG\n",
      "BBSI\n",
      "MPAA\n",
      "GPRO\n",
      "TRT\n",
      "MTEX\n",
      "RJF\n",
      "AUMN\n",
      "NGG\n",
      "SFM\n",
      "RBCN\n",
      "FNWB\n",
      "MITK\n",
      "ARTW\n",
      "BKEP\n",
      "FR\n",
      "IRIX\n",
      "AEL\n",
      "EXK\n",
      "ESLOY\n",
      "NABZY\n",
      "LRLCY\n",
      "ZTO\n",
      "AMTCQ\n",
      "NWSA\n",
      "CBRL\n",
      "MSVB\n",
      "LULU\n",
      "HAS\n",
      "CASA\n",
      "LZB\n",
      "CTHR\n",
      "ESI\n",
      "PBTS\n",
      "LH\n",
      "MBWM\n",
      "TBLMY\n",
      "GNLN\n",
      "JSCPY\n",
      "CFNB\n",
      "EDNMY\n",
      "DGICA\n",
      "FRBA\n",
      "CMSQY\n",
      "GRF\n",
      "SYNA\n",
      "WMMVY\n",
      "MKTX\n",
      "GLV\n",
      "ARGO\n",
      "RGRNF\n",
      "DIN\n",
      "DVN\n",
      "SLB\n",
      "QIWI\n",
      "MGPI\n",
      "TER\n",
      "AACG\n",
      "MLM\n",
      "TESS\n",
      "EQIX\n",
      "AMWD\n",
      "PESI\n",
      "EFBI\n",
      "STBFY\n",
      "USLM\n",
      "HMN\n",
      "MRPLY\n",
      "RAIL\n",
      "JMHLY\n",
      "MMM\n",
      "CIGI\n",
      "HP\n",
      "HNNMY\n",
      "SCHW\n",
      "MFA\n",
      "VTIQ\n",
      "NPO\n",
      "AVID\n",
      "IBOC\n",
      "CNVVY\n",
      "TOWN\n",
      "FFIC\n",
      "NWPX\n",
      "JKS\n",
      "PCG\n",
      "GTN\n",
      "TRVG\n",
      "IIPR\n",
      "ARTNA\n",
      "REFR\n",
      "MEGGY\n",
      "SNES\n",
      "KPLUY\n",
      "UVSP\n",
      "ROP\n",
      "IOR\n",
      "FLL\n",
      "GDOT\n",
      "COLL\n",
      "SCHN\n",
      "TWNK\n",
      "PEAK\n",
      "HES\n",
      "IPWR\n",
      "SAH\n",
      "HUSA\n",
      "DLNDY\n",
      "CGIP\n",
      "KPTI\n",
      "ADUS\n",
      "CYTR\n",
      "AIV\n",
      "BKD\n",
      "CSSE\n",
      "SSBI\n",
      "UI\n",
      "NTCT\n",
      "IPI\n",
      "BBQ\n",
      "THC\n",
      "PACW\n",
      "RMBL\n",
      "SREV\n",
      "RGR\n",
      "FDBC\n",
      "CETX\n",
      "HESAY\n",
      "GILT\n",
      "TECH\n",
      "CMCT\n",
      "ESS\n",
      "AIQUY\n",
      "ERC\n",
      "HCAT\n",
      "DHR\n",
      "CDXS\n",
      "SLLDY\n",
      "UNM\n",
      "CYBE\n",
      "AAOI\n",
      "VOD\n",
      "HAYN\n",
      "VXRT\n",
      "PRTH\n",
      "GTIM\n",
      "NRG\n",
      "ASOMY\n",
      "PRTA\n",
      "APPF\n",
      "EGP\n",
      "ORA\n",
      "EXPGY\n",
      "MBIN\n",
      "SGAMY\n",
      "PRLB\n",
      "DOOO\n",
      "WWR\n",
      "GBLI\n",
      "VUZI\n",
      "VTSI\n",
      "EGO\n",
      "ALGT\n",
      "BRID\n",
      "ANDE\n",
      "PRI\n",
      "LYSDY\n",
      "ARL\n",
      "AESE\n",
      "CPIX\n",
      "FLT\n",
      "SOMMY\n",
      "CO\n",
      "SD\n",
      "FCAP\n",
      "DOMO\n",
      "DCI\n",
      "OMC\n",
      "GHL\n",
      "HWC\n",
      "PHM\n",
      "KXIN\n",
      "ASRT\n",
      "RHP\n",
      "WTER\n",
      "ENS\n",
      "VIA\n",
      "APT\n",
      "SSNT\n",
      "HCSG\n",
      "NBY\n",
      "BSRR\n",
      "IKTSY\n",
      "NTAP\n",
      "AIR\n",
      "RBBN\n",
      "WTS\n",
      "WYGPY\n",
      "SOL\n",
      "LLNW\n",
      "CARV\n",
      "NKSH\n",
      "ORAN\n",
      "MIELY\n",
      "CNP\n",
      "MKC\n",
      "LNDC\n",
      "CNC\n",
      "KIQ\n",
      "AMH\n",
      "AVNW\n",
      "BIOS\n",
      "CNTY\n",
      "IDA\n",
      "POWL\n",
      "SRL\n",
      "COHN\n",
      "ABBV\n",
      "AINC\n",
      "MERC\n",
      "ADC\n",
      "KCDMY\n",
      "GPI\n",
      "PKOH\n",
      "DSGX\n",
      "TOUR\n",
      "CCBG\n",
      "FRT\n",
      "RS\n",
      "NODK\n",
      "KERN\n",
      "AKAM\n",
      "ALBO\n",
      "MOR\n",
      "BWFG\n",
      "ELSE\n",
      "UUU\n",
      "GPK\n",
      "AXAS\n",
      "ATNX\n",
      "JRSH\n",
      "FPAY\n",
      "GTEC\n",
      "SLNG\n",
      "DRQ\n",
      "BTLCY\n",
      "SCHYY\n",
      "HSKA\n",
      "STX\n",
      "BK\n",
      "DAC\n",
      "CYTK\n",
      "GWRE\n",
      "SAMG\n",
      "DEI\n",
      "NTUS\n",
      "CPHC\n",
      "UNB\n",
      "SAGE\n",
      "NNVC\n",
      "KB\n",
      "ELS\n",
      "UNTY\n",
      "FOR\n",
      "CHD\n",
      "AWRE\n",
      "CLPBY\n",
      "WY\n",
      "VRTX\n",
      "ATI\n",
      "MOHO\n",
      "CLPS\n",
      "GYRO\n",
      "RRC\n",
      "KELYB\n",
      "HIHO\n",
      "WMT\n",
      "ASH\n",
      "HST\n",
      "AROC\n",
      "C\n",
      "SEED\n",
      "VLRS\n",
      "FUJHY\n",
      "ASTE\n",
      "DAL\n",
      "FFBC\n",
      "CRNT\n",
      "ACHC\n",
      "SPWR\n",
      "TSYHY\n",
      "ASRV\n",
      "RKUNY\n",
      "CAMT\n",
      "HTLF\n",
      "SGA\n",
      "SBLK\n",
      "CSGS\n",
      "BBBY\n",
      "GTX\n",
      "SEAC\n",
      "PTC\n",
      "EDIT\n",
      "CPYYY\n",
      "MVBF\n",
      "NFE\n",
      "DUK\n",
      "PAYS\n",
      "ASTC\n",
      "FWRD\n",
      "AFG\n",
      "MIDD\n",
      "HBP\n",
      "AEE\n",
      "ULTA\n",
      "MVIS\n",
      "SBRCY\n",
      "GLPEY\n",
      "ATNM\n",
      "TMP\n",
      "AN\n",
      "GFI\n",
      "ATNI\n",
      "CASS\n",
      "MOFG\n",
      "KR\n",
      "STAG\n",
      "EBIX\n",
      "NTWK\n",
      "FCCO\n",
      "QK\n",
      "WD\n",
      "YORW\n",
      "RY\n",
      "WACLY\n",
      "BBGI\n",
      "BAM\n",
      "MTNOY\n",
      "ENTA\n",
      "CMC\n",
      "FRAF\n",
      "DXC\n",
      "CTVA\n",
      "SGMO\n",
      "ANIP\n",
      "AUPH\n",
      "NYT\n",
      "JJSF\n",
      "CLDT\n",
      "CHS\n",
      "EXAS\n",
      "HPP\n",
      "AY\n",
      "ALYA\n",
      "AMTD\n",
      "CAOVY\n",
      "FDX\n",
      "TGEN\n",
      "ROSE\n",
      "VRSK\n",
      "RCL\n",
      "GSL\n",
      "TYL\n",
      "AVDL\n",
      "NWN\n",
      "GNE\n",
      "BLDP\n",
      "CSIQ\n",
      "ARLO\n",
      "BKTI\n",
      "WELL\n",
      "ITP\n",
      "MAR\n",
      "UNP\n",
      "AA\n",
      "SNMP\n",
      "OPTT\n",
      "DGII\n",
      "AIN\n",
      "MAT\n",
      "WMB\n",
      "SCL\n",
      "TLSYY\n",
      "CLWT\n",
      "ABIO\n",
      "GDS\n",
      "CFRUY\n",
      "AIRG\n",
      "TUP\n",
      "CSLLY\n",
      "FIXX\n",
      "SGMA\n",
      "MYGN\n",
      "MPX\n",
      "ECIFY\n",
      "BRN\n",
      "HQY\n",
      "GILD\n",
      "ASGN\n",
      "PDEX\n",
      "SHAK\n",
      "SSREY\n",
      "SRPT\n",
      "GASS\n",
      "OMCL\n",
      "ANZBY\n",
      "MKKGY\n",
      "TATT\n",
      "FUPBY\n",
      "GELYY\n",
      "AEHR\n",
      "EADSY\n",
      "IBCP\n",
      "KMPR\n",
      "IBDRY\n",
      "MCRB\n",
      "RGNX\n",
      "ESALY\n",
      "VYGR\n",
      "MTBC\n",
      "OPRT\n",
      "EA\n",
      "ATEX\n",
      "UBOH\n",
      "PTNR\n",
      "MTRN\n",
      "FRCOY\n",
      "XPER\n",
      "GLYC\n",
      "MKSI\n",
      "SMBC\n",
      "SND\n",
      "TDY\n",
      "KMB\n",
      "CC\n",
      "CSV\n",
      "EXPI\n",
      "TOTDY\n",
      "USNZY\n",
      "ATHM\n",
      "AHCHY\n",
      "SPNS\n",
      "BCML\n",
      "RF\n",
      "IMO\n",
      "LBRDK\n",
      "CLNE\n",
      "EXLS\n",
      "UIHC\n",
      "CTO\n",
      "ISTR\n",
      "SKFRY\n",
      "WWW\n",
      "SCWX\n",
      "SSKN\n",
      "PRK\n",
      "ODC\n",
      "PKE\n",
      "ASAZY\n",
      "DLR\n",
      "AMG\n",
      "VKI\n",
      "MICT\n",
      "SIEB\n",
      "LIND\n",
      "APOG\n",
      "ITIC\n",
      "BAC\n",
      "PTON\n",
      "LOB\n",
      "VC\n",
      "DK\n",
      "PMT\n",
      "MSCI\n",
      "HOMB\n",
      "IIJIY\n",
      "AFL\n",
      "SID\n",
      "KEQU\n",
      "ANAB\n",
      "VERB\n",
      "LBTYK\n",
      "TECK\n",
      "AVVIY\n",
      "UE\n",
      "KELYA\n",
      "SSP\n",
      "SGBLY\n",
      "NXGN\n",
      "ACMR\n",
      "TM\n",
      "GCBC\n",
      "SNOA\n",
      "LEU\n",
      "YDUQY\n",
      "BFAM\n",
      "ATASY\n",
      "SSEZY\n",
      "WGO\n",
      "SHW\n",
      "CNX\n",
      "HDELY\n",
      "SCX\n",
      "ALCO\n",
      "GES\n",
      "PKG\n",
      "PTKFY\n",
      "HTH\n",
      "OCPNY\n",
      "VTKLY\n",
      "PBSFY\n",
      "AVRO\n",
      "CVCO\n",
      "PSTV\n",
      "GIFI\n",
      "USAK\n",
      "T\n",
      "NTES\n",
      "INPX\n",
      "TLK\n",
      "EQC\n",
      "HLUYY\n",
      "UBA\n",
      "TCEHY\n",
      "DTSS\n",
      "HNGR\n",
      "DX\n",
      "HAPP\n",
      "ESLT\n",
      "LFC\n",
      "CPRT\n",
      "ABMD\n",
      "ANTE\n",
      "BANR\n",
      "XRX\n",
      "ENDP\n",
      "AMRC\n",
      "TCFC\n",
      "NYCB\n",
      "PSGTY\n",
      "AXS\n",
      "SPI\n",
      "HFFG\n",
      "ALAC\n",
      "PNR\n",
      "GLQ\n",
      "PBPB\n",
      "DNOW\n",
      "DVA\n",
      "RWT\n",
      "SLDB\n",
      "TAL\n",
      "IEA\n",
      "JNPR\n",
      "VMW\n",
      "EGY\n",
      "RIG\n",
      "ISIG\n",
      "ACBI\n",
      "RCII\n",
      "LMNR\n",
      "CAG\n",
      "GPL\n",
      "DCPH\n",
      "BHKLY\n",
      "EME\n",
      "SBT\n",
      "USIO\n",
      "FCEL\n",
      "EAD\n",
      "HOFT\n",
      "THO\n",
      "AKBTY\n",
      "HNW\n",
      "QCRH\n",
      "INFY\n",
      "MPB\n",
      "YZCAY\n",
      "HIW\n",
      "CHNR\n",
      "FLWS\n",
      "TMUS\n",
      "TOELY\n",
      "OMVKY\n",
      "NNN\n",
      "LOW\n",
      "CALM\n",
      "BUD\n",
      "MTDR\n",
      "PETS\n",
      "INSM\n",
      "SB\n",
      "BWA\n",
      "BAESY\n",
      "F\n",
      "DEA\n",
      "XNET\n",
      "CEO\n",
      "WOPEY\n",
      "CMP\n",
      "BURBY\n",
      "NOAH\n",
      "QRHC\n",
      "SYK\n",
      "GPC\n",
      "KFY\n",
      "SHIP\n",
      "RFIL\n",
      "SYY\n",
      "CKHUY\n",
      "RAD\n",
      "ONB\n",
      "GSK\n",
      "MHO\n",
      "RL\n",
      "CUTR\n",
      "CMCSA\n",
      "PCOM\n",
      "LNTH\n",
      "CVET\n",
      "STT\n",
      "ONTO\n",
      "UIS\n",
      "ACCYY\n",
      "KDDIY\n",
      "SNY\n",
      "BKH\n",
      "DORM\n",
      "OCN\n",
      "WIX\n",
      "CCF\n",
      "TMQ\n",
      "HNNA\n",
      "TJX\n",
      "BWEN\n",
      "DSX\n",
      "NSP\n",
      "ALRM\n",
      "RYTM\n",
      "BFST\n",
      "RES\n",
      "CHRS\n",
      "FTNT\n",
      "FEN\n",
      "GS\n",
      "AMGN\n",
      "IMKTA\n",
      "HMST\n",
      "LNG\n",
      "PLG\n",
      "MMC\n",
      "MA\n",
      "PGTI\n",
      "OPHLY\n",
      "JWN\n",
      "ALRS\n",
      "FOVSY\n",
      "IEP\n",
      "FFIN\n",
      "SEM\n",
      "FTK\n",
      "CSIOY\n",
      "CJJD\n",
      "CLLS\n",
      "YUEIY\n",
      "CPS\n",
      "RAMP\n",
      "DBD\n",
      "BCS\n",
      "GLBZ\n",
      "SCCO\n",
      "HAFC\n",
      "AXU\n",
      "NMR\n",
      "LEG\n",
      "DBVT\n",
      "WVE\n",
      "AGCO\n",
      "BKNG\n",
      "MCY\n",
      "TV\n",
      "SPFI\n",
      "DNLI\n",
      "NSYS\n",
      "NCMI\n",
      "A\n",
      "OKE\n",
      "WTKWY\n",
      "CGNX\n",
      "NGVT\n",
      "AMSF\n",
      "FMS\n",
      "EQBK\n",
      "EGLE\n",
      "METC\n",
      "SCPL\n",
      "DZSI\n",
      "YJ\n",
      "APLO\n",
      "JSGRY\n",
      "MRK\n",
      "LUV\n",
      "CBBI\n",
      "QRTEB\n",
      "REKR\n",
      "SEE\n",
      "ANSS\n",
      "CERN\n",
      "WPC\n",
      "EQR\n",
      "FBNC\n",
      "BP\n",
      "CMG\n",
      "YUM\n",
      "NSRGY\n",
      "NKRKY\n",
      "TSRI\n",
      "NATH\n",
      "WSC\n",
      "CBSH\n",
      "GNUS\n",
      "DOX\n",
      "FTI\n",
      "ICLR\n",
      "ANF\n",
      "GPS\n",
      "LOCO\n",
      "ACAD\n",
      "CEVA\n",
      "HLPPY\n",
      "BDX\n",
      "MLI\n",
      "AROW\n",
      "CFBK\n",
      "AUY\n",
      "H\n",
      "FGBI\n",
      "NTGR\n",
      "ASMIY\n",
      "TEVA\n",
      "ASGLY\n",
      "GEBHY\n",
      "PCYG\n",
      "XOM\n",
      "WEN\n",
      "NWE\n",
      "IDCBY\n",
      "GRPN\n",
      "XNCR\n",
      "NPTN\n",
      "ISBC\n",
      "APA\n",
      "HEES\n",
      "TILE\n",
      "NYMT\n",
      "SAVE\n",
      "PGC\n",
      "BCTF\n",
      "CBMB\n",
      "VTGN\n",
      "GO\n",
      "FHB\n",
      "CPK\n",
      "FOLD\n",
      "UNIT\n",
      "CRTO\n",
      "GSM\n",
      "LEA\n",
      "ROIC\n",
      "USEG\n",
      "BRO\n",
      "CTTAY\n",
      "BSVN\n",
      "ACSAY\n",
      "ARW\n",
      "PDFS\n",
      "UXIN\n",
      "KDP\n",
      "ICCH\n",
      "ATSG\n",
      "SSRM\n",
      "HOPE\n",
      "NFLX\n",
      "DPSGY\n",
      "KGC\n",
      "DAKT\n",
      "ARCH\n",
      "ELUXY\n",
      "SBGSY\n",
      "PAYX\n",
      "PFE\n",
      "CHCO\n",
      "SHLDQ\n",
      "TANH\n",
      "MKTAY\n",
      "WSTL\n",
      "NRIM\n",
      "DYNT\n",
      "OESX\n",
      "PUYI\n",
      "EXPE\n",
      "COGNY\n",
      "NSEC\n",
      "ENSV\n",
      "NCTY\n",
      "SCGLY\n",
      "ABT\n",
      "ZG\n",
      "POFCY\n",
      "RGCO\n",
      "MOXC\n",
      "ZS\n",
      "KEX\n",
      "R\n",
      "EML\n",
      "ARCW\n",
      "KNDI\n",
      "DRE\n",
      "REI\n",
      "MTW\n",
      "ATO\n",
      "HON\n",
      "BIDU\n",
      "HWKN\n",
      "NEWT\n",
      "CABGY\n",
      "RICOY\n",
      "SGAPY\n",
      "TAK\n",
      "FIVN\n",
      "EDN\n",
      "AMX\n",
      "ASXFY\n",
      "LKFN\n",
      "HAL\n",
      "SMUUY\n",
      "MEOH\n",
      "AHEXY\n",
      "GIGM\n",
      "AYI\n",
      "OMRNY\n",
      "ALTR\n",
      "MIC\n",
      "AAMC\n",
      "BXC\n",
      "QTT\n",
      "CLRO\n",
      "OVLY\n",
      "WEGRY\n",
      "HCA\n",
      "OLP\n",
      "AGLE\n",
      "STCN\n",
      "ACTG\n",
      "PXD\n",
      "LGGNY\n",
      "CRWD\n",
      "ATRC\n",
      "PROV\n",
      "HIBB\n",
      "HLT\n",
      "RCEL\n",
      "B\n",
      "UTSI\n",
      "APTV\n",
      "BLUE\n",
      "ACM\n",
      "VSTO\n",
      "AXTI\n",
      "WHGLY\n",
      "RELV\n",
      "JPM\n",
      "DWAHY\n",
      "OPTN\n",
      "UNAM\n",
      "NVS\n",
      "BEAT\n",
      "AKBA\n",
      "CROX\n",
      "LARK\n",
      "CLB\n",
      "TXMD\n",
      "MYRG\n",
      "RPD\n",
      "SPLK\n",
      "EVR\n",
      "ABUS\n",
      "PXLW\n",
      "POL\n",
      "DXLG\n",
      "EFSC\n",
      "PRPL\n",
      "TZOO\n",
      "PCTY\n",
      "BRY\n",
      "SIM\n",
      "BXBLY\n",
      "AIRI\n",
      "LBC\n",
      "VLGEA\n",
      "SEOAY\n",
      "ESSA\n",
      "AAN\n",
      "GNW\n",
      "INFI\n",
      "IVC\n",
      "UBSFY\n",
      "CMLS\n",
      "ILMN\n",
      "DLX\n",
      "MOH\n",
      "MYTAY\n",
      "INT\n",
      "ZKIN\n",
      "USAU\n",
      "PEG\n",
      "SMTOY\n",
      "BNTGY\n",
      "DOCU\n",
      "BPIRY\n",
      "FLEX\n",
      "OCLDY\n",
      "BLMN\n",
      "ATVI\n",
      "WTFC\n",
      "RHI\n",
      "ZBH\n",
      "ES\n",
      "MEI\n",
      "HNRG\n",
      "CUYTY\n",
      "DESTQ\n",
      "COF\n",
      "ALE\n",
      "FTEK\n",
      "SXT\n",
      "OFC\n",
      "LNC\n",
      "XEL\n",
      "OVBC\n",
      "ABR\n",
      "CNA\n",
      "KOF\n",
      "MRTN\n",
      "CE\n",
      "IOVA\n",
      "FANUY\n",
      "LGIH\n",
      "TRN\n",
      "PLAN\n",
      "ABEV\n",
      "MLP\n",
      "OCC\n",
      "SPR\n",
      "SSTI\n",
      "MEDP\n",
      "CYD\n",
      "ING\n",
      "ALNPY\n",
      "MSADY\n",
      "TTEC\n",
      "BAND\n",
      "PEBK\n",
      "SCMWY\n",
      "HMY\n",
      "GIII\n",
      "KLIC\n",
      "GVA\n",
      "LBTYB\n",
      "MPW\n",
      "VBFC\n",
      "PATI\n",
      "DY\n",
      "OLLI\n",
      "CPSS\n",
      "EAST\n",
      "SE\n",
      "WRLD\n",
      "PEBO\n",
      "ROCK\n",
      "KNSL\n",
      "CAMP\n",
      "AEP\n",
      "ARC\n",
      "FRO\n",
      "CSTR\n",
      "PLYA\n",
      "QCOM\n",
      "HIL\n",
      "CMT\n",
      "GFF\n",
      "RVNC\n",
      "LIQT\n",
      "NBR\n",
      "TROW\n",
      "SWK\n",
      "LPX\n",
      "TIGR\n",
      "LX\n",
      "HALL\n",
      "SSTK\n",
      "MNDO\n",
      "SLGG\n",
      "GSHD\n",
      "NHS\n",
      "OVCHY\n",
      "WWE\n",
      "ALIM\n",
      "DSDVY\n",
      "ADRNY\n",
      "CNSL\n",
      "BGMD\n",
      "KRNT\n",
      "SCRYY\n",
      "SAFM\n",
      "WM\n",
      "CLPHY\n",
      "POAHY\n",
      "AHKSY\n",
      "MNRO\n",
      "MTC\n",
      "SSB\n",
      "JRVR\n",
      "BECN\n",
      "FEIM\n",
      "BBW\n",
      "LWAY\n",
      "AMSWA\n",
      "MNST\n",
      "BFIN\n",
      "GJNSY\n",
      "VVI\n",
      "OGEN\n",
      "PETZ\n",
      "ETN\n",
      "ITOCY\n",
      "FWONK\n",
      "SIEGY\n",
      "ABG\n",
      "PPC\n",
      "TDHOY\n",
      "KGFHY\n",
      "VTR\n",
      "BEBE\n",
      "DANOY\n",
      "HEI\n",
      "CRH\n",
      "CEF\n",
      "COWN\n",
      "IRBT\n",
      "MTENY\n",
      "FMC\n",
      "DPZ\n",
      "APLE\n",
      "PRTK\n",
      "QNST\n",
      "CWT\n",
      "BHP\n",
      "PTSI\n",
      "KRG\n",
      "TELNY\n",
      "AWX\n",
      "UA\n",
      "OPBK\n",
      "JCI\n",
      "PKI\n",
      "GM\n",
      "SSY\n",
      "SUTNY\n",
      "SRAX\n",
      "RGEN\n",
      "OFIX\n",
      "NEN\n",
      "ATRA\n",
      "CVBF\n",
      "TWO\n",
      "EVOP\n",
      "BCV\n",
      "IRT\n",
      "ASBFY\n",
      "LTRPA\n",
      "SRGHY\n",
      "ED\n",
      "FCN\n",
      "KRKR\n",
      "TRUE\n",
      "RARE\n",
      "ENV\n",
      "KHNGY\n",
      "NEO\n",
      "FTDR\n",
      "PNW\n",
      "SAN\n",
      "VALE\n",
      "BEN\n",
      "PCCWY\n",
      "SLP\n",
      "VNET\n",
      "HSIC\n",
      "MDLZ\n",
      "FCFS\n",
      "NX\n",
      "SAXPY\n",
      "NCSM\n",
      "ULH\n",
      "EIX\n",
      "CIK\n",
      "THM\n",
      "BYDDY\n",
      "ATLCY\n",
      "SBGI\n",
      "IBGR\n",
      "WRN\n",
      "WRK\n",
      "SABR\n",
      "DNPLY\n",
      "MITT\n",
      "PEP\n",
      "LAMR\n",
      "ALLK\n",
      "BLD\n",
      "JBLU\n",
      "GL\n",
      "AXR\n",
      "WAL\n",
      "QRTEA\n",
      "DELL\n",
      "VNO\n",
      "AME\n",
      "XNGSY\n",
      "QFIN\n",
      "WTT\n",
      "SNN\n",
      "FUSB\n",
      "GIS\n",
      "CR\n",
      "VRNS\n",
      "AZPN\n",
      "PPRUY\n",
      "ABM\n",
      "WTRH\n",
      "DHIL\n",
      "FNHC\n",
      "PFMT\n",
      "ACUR\n",
      "DCO\n",
      "NS\n",
      "CSWI\n",
      "PM\n",
      "CHYHY\n",
      "KAMN\n",
      "NPNYY\n",
      "BFS\n",
      "ENTG\n",
      "POYYF\n",
      "ALGGY\n",
      "HUM\n",
      "PNGAY\n",
      "IDXX\n",
      "CREG\n",
      "IBKR\n",
      "ORRF\n",
      "EW\n",
      "MTX\n",
      "FISV\n",
      "HHC\n",
      "MGTA\n",
      "SMBK\n",
      "ESQ\n",
      "BATRK\n",
      "LILA\n",
      "BASFY\n",
      "CVR\n",
      "PNFP\n",
      "SNFCA\n",
      "CCB\n",
      "AEIS\n",
      "GE\n",
      "HPQ\n",
      "ENG\n",
      "EBKDY\n",
      "GNRC\n",
      "PARR\n",
      "CCO\n",
      "KBCSY\n",
      "LAD\n",
      "EPR\n",
      "PPG\n",
      "NSC\n",
      "FRPH\n",
      "LSTR\n",
      "PLAY\n",
      "FCO\n",
      "DENN\n",
      "EVRG\n",
      "SONO\n",
      "RNST\n",
      "ESE\n",
      "COST\n",
      "SYN\n",
      "BRX\n",
      "NIU\n",
      "CFR\n",
      "UEC\n",
      "ACC\n",
      "ORCL\n",
      "IDCC\n",
      "DRD\n",
      "TGB\n",
      "UMPQ\n",
      "COHU\n",
      "NNBR\n",
      "IZEA\n",
      "FRC\n",
      "NRC\n",
      "ACHN\n",
      "RETA\n",
      "DXR\n",
      "TOPS\n",
      "SGEN\n",
      "OAS\n",
      "SMRT\n",
      "CVS\n",
      "KWHIY\n",
      "CLAR\n",
      "SRT\n",
      "CVLY\n",
      "SSDOY\n",
      "SVRA\n",
      "WU\n",
      "DHT\n",
      "PDM\n",
      "ADDYY\n",
      "AE\n",
      "RPM\n",
      "GNOW\n",
      "LODE\n",
      "JLL\n",
      "IBA\n",
      "NERV\n",
      "SIRI\n",
      "TRIP\n",
      "FICO\n",
      "DNZOY\n",
      "KRC\n",
      "DERM\n",
      "REDFY\n",
      "HRB\n",
      "LRCX\n",
      "GT\n",
      "LCUT\n",
      "MSEX\n",
      "SFTBY\n",
      "EXEL\n",
      "AMBC\n",
      "MGYR\n",
      "GNTY\n",
      "DNFGY\n",
      "RDEIY\n",
      "DUO\n",
      "SLS\n",
      "AGIO\n",
      "DLA\n",
      "REGI\n",
      "ASND\n",
      "LII\n",
      "CLS\n",
      "ETCMY\n",
      "SMSI\n",
      "ASPU\n",
      "LVMUY\n",
      "ATLKY\n",
      "VFF\n",
      "FVCB\n",
      "SKX\n",
      "LINC\n",
      "CPSI\n",
      "TDG\n",
      "INGR\n",
      "FANH\n",
      "TRST\n",
      "CNR\n",
      "JBSS\n",
      "WHLR\n",
      "SFNC\n",
      "ODFL\n",
      "AG\n",
      "RCMT\n",
      "STZ\n",
      "MCBS\n",
      "FORR\n",
      "GBOOY\n",
      "PHI\n",
      "AMD\n",
      "KMX\n",
      "PRISY\n",
      "RBB\n",
      "BURL\n",
      "YNDX\n",
      "POR\n",
      "CTG\n",
      "NYMX\n",
      "RWEOY\n",
      "TGLS\n",
      "OPRA\n",
      "BCPC\n",
      "LPLA\n",
      "NESR\n",
      "MGEE\n",
      "NSIT\n",
      "VALU\n",
      "NDLS\n",
      "SYIEY\n",
      "CPRI\n",
      "SANW\n",
      "CLR\n",
      "ACOR\n",
      "FSBW\n",
      "DXCM\n",
      "LTBR\n",
      "TEL\n",
      "VCISY\n",
      "ERII\n",
      "ZTS\n",
      "RDCM\n",
      "ALPMY\n",
      "TOSYY\n",
      "CHUY\n",
      "TKGSY\n",
      "VEON\n",
      "WH\n",
      "PED\n",
      "SJI\n",
      "Z\n",
      "CDK\n",
      "AMRN\n",
      "BKHYY\n",
      "XXII\n",
      "AX\n",
      "NCLH\n",
      "DECK\n",
      "TMO\n",
      "NXST\n",
      "BDR\n",
      "RUSHA\n",
      "HZNP\n",
      "CLF\n",
      "LCNB\n",
      "KKR\n",
      "CAJ\n",
      "NXPI\n",
      "NG\n",
      "NVR\n",
      "EGAN\n",
      "ICLK\n",
      "THS\n",
      "TNK\n",
      "BUSE\n",
      "DIOD\n",
      "SHOO\n",
      "ECOL\n",
      "IOSP\n",
      "FFHL\n",
      "FAT\n",
      "SAFRY\n",
      "GTYH\n",
      "VOXX\n",
      "PGR\n",
      "CHEOY\n",
      "SHCAY\n",
      "SMSMY\n",
      "BMA\n",
      "KVHI\n",
      "DE\n",
      "UHS\n",
      "YELP\n",
      "BCBP\n",
      "SLCA\n",
      "LFAC\n",
      "SBH\n",
      "STLD\n",
      "DNN\n",
      "LCTX\n",
      "IMPUY\n",
      "AAU\n",
      "OAOFY\n",
      "ESPR\n",
      "PHG\n",
      "PLOW\n",
      "OMER\n",
      "RDVT\n",
      "FSSLY\n",
      "D\n",
      "EDUC\n",
      "EWBC\n",
      "FLXS\n",
      "SRI\n",
      "NZEOF\n",
      "AMCR\n",
      "RBGLY\n",
      "FORD\n",
      "AGM\n",
      "LIVN\n",
      "ADVM\n",
      "ISUZY\n",
      "CIEN\n",
      "IP\n",
      "EDPFY\n",
      "TCBI\n",
      "AMZN\n",
      "ADI\n",
      "PNC\n",
      "HTBK\n",
      "PLX\n",
      "ETR\n",
      "G\n",
      "TLPFY\n",
      "VCTR\n",
      "AGNC\n",
      "TR\n",
      "LUKOY\n",
      "BXP\n",
      "AQMS\n",
      "CAKFF\n",
      "WAFU\n",
      "OFG\n",
      "VISL\n",
      "PIXY\n",
      "SWDBY\n",
      "KHC\n",
      "SDXAY\n",
      "REPL\n",
      "WPM\n",
      "SUP\n",
      "PTEN\n",
      "RYAM\n",
      "BLRX\n",
      "TAC\n",
      "ICFI\n",
      "FRGI\n",
      "ALG\n",
      "GTE\n",
      "TTD\n",
      "DLPN\n",
      "BOTJ\n",
      "GPAGF\n",
      "PLD\n",
      "ERIE\n",
      "STRA\n",
      "JACK\n",
      "AMPH\n",
      "APTX\n",
      "NGS\n",
      "TTNDY\n",
      "ARRY\n",
      "INFN\n",
      "KMI\n",
      "FSM\n",
      "WDC\n",
      "STOR\n",
      "TENB\n",
      "CPB\n",
      "VMC\n",
      "AKZOY\n",
      "SASR\n",
      "BIOL\n",
      "FE\n",
      "CANF\n",
      "SPKKY\n",
      "THKLY\n",
      "BKSC\n",
      "L\n",
      "RSG\n",
      "ABB\n",
      "NTNX\n",
      "GBX\n",
      "NEM\n",
      "BZH\n",
      "TCLRY\n",
      "SEII\n",
      "PCYO\n",
      "LOPE\n",
      "SHO\n",
      "SRCL\n",
      "LASR\n",
      "APPN\n",
      "VTNR\n",
      "STC\n",
      "NTP\n",
      "RDY\n",
      "AMOV\n",
      "RGA\n",
      "YVR\n",
      "INVVY\n",
      "KUBTY\n",
      "HLF\n",
      "NVT\n",
      "EDTX\n",
      "SSYS\n",
      "IBP\n",
      "EDRY\n",
      "JPXGY\n",
      "MELI\n",
      "EGBN\n",
      "FMAO\n",
      "BERY\n",
      "FN\n",
      "GOOG\n",
      "BRG\n",
      "ESYJY\n",
      "IPAR\n",
      "CTMX\n",
      "MCBC\n",
      "TDC\n",
      "NJDCY\n",
      "YTEN\n",
      "BIIB\n",
      "NGD\n",
      "LYTS\n",
      "SAND\n",
      "EBTC\n",
      "LPTH\n",
      "RDN\n",
      "RCON\n",
      "OTTR\n",
      "AMIGY\n",
      "URG\n",
      "GLNCY\n",
      "HYPMY\n",
      "CIHKY\n",
      "MTUAY\n",
      "PFG\n",
      "LOOP\n",
      "UONE\n",
      "CBFV\n",
      "FAST\n",
      "CUBE\n",
      "AZN\n",
      "HKTVY\n",
      "MPC\n",
      "TRTN\n",
      "SIVB\n",
      "IMMR\n",
      "CCI\n",
      "ALK\n",
      "WASH\n",
      "RDI\n",
      "TSEM\n",
      "MATW\n",
      "HOCPY\n",
      "RMBS\n",
      "IFNNY\n",
      "ORKLY\n",
      "SHECY\n",
      "VWDRY\n",
      "TAST\n",
      "ERIC\n",
      "ACRX\n",
      "VIEWF\n",
      "MHGVY\n",
      "AMCI\n",
      "EQNR\n",
      "JRONY\n",
      "PSO\n",
      "COP\n",
      "SPXC\n",
      "RCKY\n",
      "BABA\n",
      "BKOR\n",
      "WBA\n",
      "CMWAY\n",
      "GVDNY\n",
      "PRGO\n",
      "BLKB\n",
      "CEV\n",
      "AU\n",
      "SON\n",
      "CLZNY\n",
      "PRTS\n",
      "CEIX\n",
      "TXRH\n",
      "CPF\n",
      "NLOK\n",
      "APDN\n",
      "AVY\n",
      "PHCF\n",
      "MRCY\n",
      "WEYS\n",
      "SWX\n",
      "PGRE\n",
      "JAZZ\n",
      "BHC\n",
      "MPWR\n",
      "MSTR\n",
      "DMF\n",
      "BAH\n",
      "ON\n",
      "NBN\n",
      "YAHOY\n",
      "TREE\n",
      "BTI\n",
      "RICK\n",
      "AMCF\n",
      "INDB\n",
      "CSII\n",
      "WPRT\n",
      "OXBR\n",
      "PG\n",
      "SGSOY\n",
      "CHDN\n",
      "MDRR\n",
      "IART\n",
      "ULBI\n",
      "QTRX\n",
      "DXYN\n",
      "WDAY\n",
      "BLIN\n",
      "FSTR\n",
      "CAR\n",
      "BHE\n",
      "WST\n",
      "NPK\n",
      "PAHC\n",
      "EGRX\n",
      "WATT\n",
      "COMM\n",
      "EJPRY\n",
      "COLM\n",
      "LW\n",
      "TTMI\n",
      "CICHY\n",
      "SENEA\n",
      "ANGO\n",
      "MTTRY\n",
      "BGS\n",
      "WINA\n",
      "CRMD\n",
      "SJM\n",
      "RNR\n",
      "ITRI\n",
      "AMN\n",
      "KBH\n",
      "AFSIM\n",
      "DBSDY\n",
      "OBCI\n",
      "MAKSY\n",
      "BHAT\n",
      "WHLM\n",
      "AVB\n",
      "JFIN\n",
      "WFC\n",
      "MDC\n",
      "IDEX\n",
      "HRL\n",
      "HBNC\n",
      "EAT\n",
      "BIO\n",
      "ALJJ\n",
      "EXPO\n",
      "DSKE\n",
      "ACKAY\n",
      "EVOL\n",
      "TSN\n",
      "TEDU\n",
      "NBEV\n",
      "LAND\n",
      "WSM\n",
      "CMPR\n",
      "HBI\n",
      "CWCO\n",
      "TSBK\n",
      "DOYU\n",
      "AJG\n",
      "MU\n",
      "LBRDA\n",
      "XSPA\n",
      "STWD\n",
      "SBRA\n",
      "ALLY\n",
      "CDXC\n",
      "OPY\n",
      "HCM\n",
      "FTF\n",
      "STAF\n",
      "AMRS\n",
      "WLWHY\n",
      "FSUGY\n",
      "MASI\n",
      "GEOS\n",
      "LSXMB\n",
      "HTHIY\n",
      "TSCDY\n",
      "CUZ\n",
      "PDCO\n",
      "PCAR\n",
      "ICPT\n",
      "OSK\n",
      "DTEA\n",
      "AMKBY\n",
      "GPMT\n",
      "SFST\n",
      "ALLT\n",
      "MAN\n",
      "BC\n",
      "NVEC\n",
      "SPCB\n",
      "NVO\n",
      "OSPN\n",
      "BSET\n",
      "HII\n",
      "CTIB\n",
      "VGZ\n",
      "UUGRY\n",
      "FCBC\n",
      "PPERY\n",
      "PT\n",
      "DG\n",
      "K\n",
      "ALLE\n",
      "EEFT\n",
      "LYV\n",
      "ZION\n",
      "NRDBY\n",
      "TREX\n",
      "WNEB\n",
      "CHN\n",
      "MCFT\n",
      "TTI\n",
      "W\n",
      "BWXT\n",
      "IDEXY\n",
      "TMST\n",
      "AMRK\n",
      "WING\n",
      "FRD\n",
      "PAC\n",
      "SNX\n",
      "VEC\n",
      "SMP\n",
      "KNBWY\n",
      "EVBG\n",
      "LEGH\n",
      "CSWC\n",
      "CWBC\n",
      "IMGN\n",
      "CMRE\n",
      "GWLLY\n",
      "SAFT\n",
      "PBH\n",
      "CHCT\n",
      "BTG\n",
      "TBPH\n",
      "VAC\n",
      "SMFKY\n",
      "CATC\n",
      "XRAY\n",
      "HUYA\n",
      "TME\n",
      "CATO\n",
      "REAL\n",
      "SBFG\n",
      "CLH\n",
      "HZO\n",
      "MRAAY\n",
      "PDYPY\n",
      "PPIH\n",
      "CBL\n",
      "EPAC\n",
      "BSQR\n",
      "NOV\n",
      "FNLC\n",
      "BHB\n",
      "AMOT\n",
      "CIDM\n",
      "GEF\n",
      "VLY\n",
      "PLBC\n",
      "TEUM\n",
      "BLK\n",
      "DDS\n",
      "HTZ\n",
      "IBIO\n",
      "FELE\n",
      "VIRC\n",
      "IHT\n",
      "CNCE\n",
      "BILI\n",
      "SHBI\n",
      "TXN\n",
      "CRS\n",
      "QLYS\n",
      "MBUU\n",
      "IONS\n",
      "PLPC\n",
      "NOBGY\n",
      "FSLR\n",
      "CYRX\n",
      "CM\n",
      "RYAAY\n",
      "SNMCY\n",
      "CRAI\n",
      "LPL\n",
      "PCB\n",
      "PTCT\n",
      "SELF\n",
      "ANET\n",
      "INSG\n",
      "OCFC\n",
      "PH\n",
      "RAVE\n",
      "BL\n",
      "IRDM\n",
      "YGYI\n",
      "CIA\n",
      "CTSH\n",
      "PCRX\n",
      "MRAM\n",
      "ATLC\n",
      "SIMO\n",
      "FSFG\n",
      "AIM\n",
      "MLYBY\n",
      "ATIF\n",
      "KTB\n",
      "HYRE\n",
      "FUV\n",
      "CVE\n",
      "ASEKY\n",
      "ANY\n",
      "CHCI\n",
      "RXEEY\n",
      "BB\n",
      "YARIY\n",
      "OI\n",
      "BBSEY\n",
      "CYCC\n",
      "OMI\n",
      "MTCH\n",
      "TPX\n",
      "KEY\n",
      "NJR\n",
      "MUDS\n",
      "WDFC\n",
      "SYF\n",
      "ATGE\n",
      "OSIS\n",
      "PNRG\n",
      "PATK\n",
      "RRTS\n",
      "FGEN\n",
      "FONR\n",
      "SOHU\n",
      "BLX\n",
      "CF\n",
      "MRO\n",
      "PSA\n",
      "EFX\n",
      "FOXA\n",
      "ROG\n",
      "SVNDY\n",
      "OGE\n",
      "ZLNDY\n",
      "MLR\n",
      "PRRFY\n",
      "VRRM\n",
      "AHPI\n",
      "QBIEY\n",
      "CRMT\n",
      "ASPS\n",
      "SCSC\n",
      "PNM\n",
      "CSCO\n",
      "CIM\n",
      "ROHCY\n",
      "NWLI\n",
      "OSS\n",
      "MUX\n",
      "BGCP\n",
      "MTOR\n",
      "BDN\n",
      "WEC\n",
      "HCMLY\n",
      "AMNB\n",
      "PRO\n",
      "AEM\n",
      "LMB\n",
      "IRS\n",
      "LNVGY\n",
      "IIVI\n",
      "MG\n",
      "CALX\n",
      "FOX\n",
      "TEAM\n",
      "NOK\n",
      "CVGW\n",
      "GOLD\n",
      "XELA\n",
      "NCMGY\n",
      "VIOT\n",
      "ENSG\n",
      "TXT\n",
      "CXW\n",
      "AES\n",
      "BDVSY\n",
      "AXL\n",
      "ARLP\n",
      "ASTI\n",
      "ECPG\n",
      "RLI\n",
      "TGI\n",
      "LLESY\n",
      "UFPT\n",
      "LMT\n",
      "NHTC\n",
      "ARNA\n",
      "WLK\n",
      "KLBAY\n",
      "LBAI\n",
      "PBF\n",
      "VRTV\n",
      "DRI\n",
      "RDWR\n",
      "ACHV\n",
      "MAS\n",
      "STNG\n",
      "PTXKY\n",
      "JD\n",
      "SHEN\n",
      "ENVA\n",
      "MZDAY\n",
      "DBOEY\n",
      "JFU\n",
      "ISR\n",
      "SVC\n",
      "WPFH\n",
      "ACGBY\n",
      "KAOOY\n",
      "CODYY\n",
      "GBT\n",
      "PANW\n",
      "FWONA\n",
      "HA\n",
      "UONEK\n",
      "MMI\n",
      "VMI\n",
      "SPHRY\n",
      "NPSKY\n",
      "HBCP\n",
      "GERN\n",
      "TLSNY\n",
      "TCMD\n",
      "IBTX\n",
      "UNFI\n",
      "CRUS\n",
      "BKRKY\n",
      "EVER\n",
      "LPCN\n",
      "UHT\n",
      "TAOP\n",
      "CPT\n",
      "WVVI\n",
      "GLNG\n",
      "INBK\n",
      "BRFS\n",
      "BMO\n",
      "EXTR\n",
      "MARK\n",
      "USWS\n",
      "UTG\n",
      "SNPHY\n",
      "CVX\n",
      "NWFL\n",
      "TDS\n",
      "FNCB\n",
      "NVCR\n",
      "SMCI\n",
      "AIZ\n",
      "NUVA\n",
      "DRIO\n",
      "CNXN\n",
      "AONNY\n",
      "ARNC\n",
      "BKYI\n",
      "WAFD\n",
      "HURN\n",
      "FL\n",
      "KPCPY\n",
      "UFI\n",
      "NEE\n",
      "SFIX\n",
      "WLDN\n",
      "TA\n",
      "CRI\n",
      "DOW\n",
      "VWAPY\n",
      "AEXAY\n",
      "ARKAY\n",
      "TD\n",
      "UPLD\n",
      "PLM\n",
      "FTFT\n",
      "FCPT\n",
      "GPRE\n",
      "DQ\n",
      "ACGL\n",
      "GIL\n",
      "HBM\n",
      "SF\n",
      "NOVT\n",
      "FATE\n",
      "AAGIY\n",
      "CMA\n",
      "BWB\n",
      "NSA\n",
      "INTG\n",
      "GLO\n",
      "CAL\n",
      "CS\n",
      "AMADY\n",
      "MSN\n",
      "BRDCY\n",
      "MCS\n",
      "TITN\n",
      "EVBN\n",
      "DBX\n",
      "ATOM\n",
      "IFJPY\n",
      "KALU\n",
      "PCTI\n",
      "SYRS\n",
      "RTOKY\n",
      "ELTK\n",
      "COOP\n",
      "YPF\n",
      "CNAF\n",
      "SAP\n",
      "CSPI\n",
      "UPS\n",
      "LECO\n",
      "ARMK\n",
      "WOR\n",
      "QBAK\n",
      "APD\n",
      "AAP\n",
      "SAMA\n",
      "WLFC\n",
      "RHHBY\n",
      "SCI\n",
      "FIBK\n",
      "AXP\n",
      "ARAY\n",
      "HLIO\n",
      "CLMT\n",
      "MTSI\n",
      "RRETY\n",
      "ARCE\n",
      "GD\n",
      "CB\n",
      "VLEEY\n",
      "JBSAY\n",
      "WEICY\n",
      "PRDSY\n",
      "FNB\n",
      "OIBRQ\n",
      "UNH\n",
      "MOMO\n",
      "OR\n",
      "MSI\n",
      "INVE\n",
      "INN\n",
      "AREC\n",
      "CNET\n",
      "ENR\n",
      "AAL\n",
      "CACH\n",
      "PEB\n",
      "BAYRY\n",
      "FSI\n",
      "JTTRY\n",
      "BERK\n",
      "MCRI\n",
      "CFG\n",
      "DIS\n",
      "HLTOY\n",
      "FCX\n",
      "OTTW\n",
      "PBYI\n",
      "TRNX\n",
      "HOLI\n",
      "BMWYY\n",
      "MO\n",
      "CTLT\n",
      "VERU\n",
      "PBIP\n",
      "LITE\n",
      "KIM\n",
      "ALKS\n",
      "AUB\n",
      "NPKLY\n",
      "NWL\n",
      "AGFS\n",
      "CDE\n",
      "EBF\n",
      "TRGP\n",
      "NAII\n",
      "CCM\n",
      "XELB\n",
      "LNT\n",
      "FRRVY\n",
      "OPHC\n",
      "LFVN\n",
      "LYG\n",
      "KN\n",
      "GLU\n",
      "AAME\n",
      "TREC\n",
      "DCTH\n",
      "NSPR\n",
      "GCP\n",
      "AMAL\n",
      "CVCY\n",
      "DWSN\n",
      "FB\n",
      "EVI\n",
      "UNICY\n",
      "DBI\n",
      "ALNY\n",
      "BZUN\n",
      "EUSHY\n",
      "HI\n",
      "JBGS\n",
      "REZI\n",
      "SFBS\n",
      "CPCAY\n",
      "LAZ\n",
      "RH\n",
      "CVI\n",
      "CBTX\n",
      "FLR\n",
      "ALFVY\n",
      "SR\n",
      "MNOV\n",
      "GROW\n",
      "AMTB\n",
      "MTRX\n",
      "CERS\n",
      "VRNT\n",
      "NLY\n",
      "VDMCY\n",
      "GLRE\n",
      "EPC\n",
      "AIMC\n",
      "MD\n",
      "VNDA\n",
      "FSS\n",
      "XENE\n",
      "OPYGY\n",
      "VIAV\n",
      "BROG\n",
      "DHY\n",
      "CLVS\n",
      "TWTR\n",
      "SPWH\n",
      "CKX\n",
      "FPAFY\n",
      "CDW\n",
      "IRM\n",
      "URBN\n",
      "PII\n",
      "CDLX\n",
      "RRGB\n",
      "BOX\n",
      "CWST\n",
      "CELH\n",
      "JVA\n",
      "PRU\n",
      "BA\n",
      "WRB\n",
      "STRM\n",
      "THMO\n",
      "CVM\n",
      "DAIO\n",
      "NRZ\n",
      "CLCGY\n",
      "QURE\n",
      "GORO\n",
      "IR\n",
      "ASYS\n",
      "CZWI\n",
      "BXMT\n",
      "CDR\n",
      "KURRY\n",
      "GMAB\n",
      "CHRYY\n",
      "HOV\n",
      "NURO\n",
      "ODP\n",
      "PCH\n",
      "ATEC\n",
      "NVFY\n",
      "CJPRY\n",
      "NICE\n",
      "SBUX\n",
      "OGS\n",
      "SFBC\n",
      "PLUS\n",
      "ROYMY\n",
      "ASIX\n",
      "GEO\n",
      "FULT\n",
      "HSBC\n",
      "DIISY\n",
      "DSWL\n",
      "BRP\n",
      "LEDS\n",
      "GNSS\n",
      "BX\n",
      "SLF\n",
      "NM\n",
      "AHH\n",
      "JGCCY\n",
      "VHC\n",
      "NVZMY\n",
      "S\n",
      "HOKCY\n",
      "SU\n",
      "UEIC\n",
      "CBAT\n",
      "OMAB\n",
      "SDVKY\n",
      "ALBKY\n",
      "CTBI\n",
      "WEX\n",
      "SKBSY\n",
      "LIFE\n",
      "THFF\n",
      "SURF\n",
      "ENZ\n",
      "AGI\n",
      "APPS\n",
      "UL\n",
      "RBKB\n",
      "SFET\n",
      "MMSI\n",
      "RUTH\n",
      "TG\n",
      "CRIS\n",
      "ACIW\n",
      "AGO\n",
      "XHR\n",
      "NEXT\n",
      "TH\n",
      "SRDX\n",
      "AWCMY\n",
      "NBIX\n",
      "JG\n",
      "NTDOY\n",
      "RRBI\n",
      "ATEYY\n",
      "PACB\n",
      "SEB\n",
      "AXAHY\n",
      "WILC\n",
      "ENGIY\n",
      "AMTX\n",
      "WAB\n",
      "KLXE\n",
      "CYAN\n",
      "NCR\n",
      "NKE\n",
      "DAR\n",
      "MTN\n",
      "SVT\n",
      "ALX\n",
      "ACRS\n",
      "RUSHB\n",
      "STKL\n",
      "MCHX\n",
      "HSY\n",
      "PFS\n",
      "COUP\n",
      "AUDC\n",
      "FFNW\n",
      "GURE\n",
      "OKTA\n",
      "VSH\n",
      "MCO\n",
      "BCO\n",
      "SSL\n",
      "MBI\n",
      "SOLO\n",
      "SWMAY\n",
      "CORT\n",
      "URI\n",
      "WIT\n",
      "TRHC\n",
      "TACO\n",
      "IVZ\n",
      "E\n",
      "ITT\n",
      "HTBI\n",
      "VLOWY\n",
      "BPRN\n",
      "IIIV\n",
      "Y\n",
      "CYRN\n",
      "ASX\n",
      "STNE\n",
      "SNP\n",
      "HHS\n",
      "EVTC\n",
      "LSBK\n",
      "AGESY\n",
      "DIFTY\n",
      "GPOR\n",
      "HWBK\n",
      "KEYS\n",
      "CZNC\n",
      "JOUT\n",
      "MSBI\n",
      "RTLR\n",
      "OTEX\n",
      "HSON\n",
      "LEN\n",
      "OIIM\n",
      "BNPQY\n",
      "HCKT\n",
      "TPR\n",
      "TNC\n",
      "IDRA\n",
      "VSAT\n",
      "CBRE\n",
      "TATYY\n",
      "INCZY\n",
      "BPOSY\n",
      "PFSW\n",
      "NATI\n",
      "SMMF\n",
      "UCBJY\n",
      "MCHP\n",
      "CRM\n",
      "CCK\n",
      "KTCC\n",
      "OBE\n",
      "IX\n",
      "TRMK\n",
      "PAR\n",
      "HEINY\n",
      "ESEA\n",
      "RLJ\n",
      "SUNW\n",
      "ADNT\n",
      "FCF\n",
      "PME\n",
      "IQV\n",
      "DDOG\n",
      "SENEB\n",
      "CTS\n",
      "NHI\n",
      "NTZ\n",
      "SCOR\n",
      "YY\n",
      "SNPS\n",
      "COTY\n",
      "CIZN\n",
      "SALM\n",
      "POLA\n",
      "CVGI\n",
      "LMAT\n",
      "TEX\n",
      "NBH\n",
      "PAM\n",
      "SEEL\n",
      "MCK\n",
      "SES\n",
      "COKE\n",
      "GCO\n",
      "ROK\n",
      "NKTR\n",
      "HOLX\n",
      "LYB\n",
      "AR\n",
      "AMKR\n",
      "IESC\n",
      "UCTT\n",
      "SXC\n",
      "ROLL\n",
      "GSIT\n",
      "TRV\n",
      "SOHO\n",
      "KSS\n",
      "LVS\n",
      "ACU\n",
      "NBO\n",
      "CPRX\n",
      "CNS\n",
      "MLVF\n",
      "BGNE\n",
      "UPWK\n",
      "MOS\n",
      "SUHJY\n",
      "ISSC\n",
      "LYFT\n",
      "JKHY\n",
      "SIX\n",
      "ANTM\n",
      "KOS\n",
      "ZVO\n",
      "FOXF\n",
      "ASUR\n",
      "ST\n",
      "ATLO\n",
      "NRO\n",
      "CME\n",
      "X\n",
      "FSP\n",
      "SG\n",
      "POWI\n",
      "DKILY\n",
      "RYCEY\n",
      "KFFB\n",
      "IAG\n",
      "ADAP\n",
      "FARO\n",
      "PLCE\n",
      "LSXMK\n",
      "BYFC\n",
      "SWM\n",
      "MAA\n",
      "SWN\n",
      "HLG\n",
      "CENTA\n",
      "NL\n",
      "TPB\n",
      "RMNI\n",
      "NINOY\n",
      "EBS\n",
      "CHTR\n",
      "BRKR\n",
      "RDFN\n",
      "PYPL\n",
      "PPHI\n",
      "V\n",
      "ICHR\n",
      "VVPR\n",
      "TPDKY\n",
      "RMAX\n",
      "CAH\n",
      "ASB\n",
      "BANF\n",
      "GTY\n",
      "ALV\n",
      "IRCP\n",
      "EBAY\n",
      "RELL\n",
      "DLTR\n",
      "KMT\n",
      "CCOI\n",
      "NMIH\n",
      "SKHSY\n",
      "SMED\n",
      "NEU\n",
      "AAON\n",
      "LNSTY\n",
      "AVIFY\n",
      "BOH\n",
      "STBA\n",
      "ARR\n",
      "KNCAY\n",
      "HD\n",
      "EIGR\n",
      "SYBX\n",
      "TRS\n",
      "NHC\n",
      "EKTAY\n",
      "INSE\n",
      "ITVPY\n",
      "AMSC\n",
      "SRC\n",
      "CUBI\n",
      "VREX\n",
      "PENN\n",
      "CEI\n",
      "DSEEY\n",
      "NWBI\n",
      "BCE\n",
      "OHI\n",
      "TWI\n",
      "OSBC\n",
      "ANGI\n",
      "RUN\n",
      "AFLYY\n",
      "CLW\n",
      "FHN\n",
      "CMTL\n",
      "FFBW\n",
      "SILC\n",
      "LOGI\n",
      "EXP\n",
      "WSR\n",
      "GMED\n",
      "MRC\n",
      "HSQVY\n",
      "HXGBY\n",
      "NVAX\n",
      "RELX\n",
      "ROSYY\n",
      "FDP\n",
      "ADP\n",
      "HVT\n",
      "PEGA\n",
      "LXP\n",
      "URGN\n",
      "PLAG\n",
      "MKL\n",
      "ETSY\n",
      "COHR\n",
      "CCL\n",
      "BPMC\n",
      "MFC\n",
      "SNBR\n",
      "CLBK\n",
      "AVAV\n",
      "EVRI\n",
      "ORI\n",
      "FBHS\n",
      "HIG\n",
      "CCEP\n",
      "AZO\n",
      "RNWK\n",
      "EIG\n",
      "AACAY\n",
      "WABC\n",
      "LYL\n",
      "ELY\n",
      "AGEN\n",
      "SJR\n",
      "ESINQ\n",
      "UGI\n",
      "SCHL\n",
      "TSCO\n",
      "MN\n",
      "FRBK\n",
      "PPL\n",
      "CECE\n",
      "GTLS\n",
      "TELL\n",
      "BKQNY\n",
      "LXU\n",
      "SMPL\n",
      "NICK\n",
      "STM\n",
      "GLT\n",
      "WERN\n",
      "SAIA\n",
      "ABTX\n",
      "CRMBQ\n",
      "YTRA\n",
      "IMBBY\n",
      "MLAB\n",
      "EXC\n",
      "FARM\n",
      "OGZPY\n",
      "TRUP\n",
      "CARS\n",
      "CHKP\n",
      "BDL\n",
      "MTZ\n",
      "SGBX\n",
      "LION\n",
      "HFWA\n",
      "FLIC\n",
      "PAG\n",
      "YI\n",
      "OSTK\n",
      "HXL\n",
      "TSLA\n",
      "GRBK\n",
      "ARZTY\n",
      "BDORY\n",
      "NR\n",
      "REED\n",
      "HLNE\n",
      "GNTX\n",
      "EGFEY\n",
      "HOTH\n",
      "PINC\n",
      "TOPPY\n",
      "CSX\n",
      "HINOY\n",
      "GVP\n",
      "FOCS\n",
      "SKYW\n",
      "NPSNY\n",
      "CBAN\n",
      "PSB\n",
      "POOL\n",
      "OPI\n",
      "GGAL\n",
      "CEA\n",
      "ORN\n",
      "DLAKY\n",
      "SEKEY\n",
      "AER\n",
      "PVBC\n",
      "RIGL\n",
      "HSNGY\n",
      "SONM\n",
      "SLG\n",
      "CSUAY\n",
      "ABCB\n",
      "CBU\n",
      "ACFN\n",
      "JAKK\n",
      "ACNB\n",
      "XPO\n",
      "BNFT\n",
      "FBIZ\n",
      "NDAQ\n",
      "GRVY\n",
      "GRFS\n",
      "HURC\n",
      "NNI\n",
      "APLS\n",
      "RSHYY\n",
      "HNI\n",
      "UCBI\n",
      "MDU\n",
      "NLS\n",
      "MESA\n",
      "MOV\n",
      "FNF\n",
      "VZ\n",
      "GTHX\n",
      "AOSL\n",
      "CJEWY\n",
      "PRFT\n",
      "TEF\n",
      "WWD\n",
      "RANJY\n",
      "LSCC\n",
      "MOGO\n",
      "INO\n",
      "PTR\n",
      "CTIC\n",
      "AUBN\n",
      "FLO\n",
      "MRRTY\n",
      "RIOT\n",
      "GENC\n",
      "BZQIY\n",
      "EMMS\n",
      "CAIXY\n",
      "BNS\n",
      "DVAX\n",
      "TINLY\n",
      "ARGX\n",
      "PZZA\n",
      "WNC\n",
      "NP\n",
      "TSM\n",
      "TW\n",
      "ARKR\n",
      "BANC\n",
      "FBC\n",
      "ITGR\n",
      "GMS\n",
      "ICMB\n",
      "SMGZY\n",
      "ADTN\n",
      "DKS\n",
      "ALOT\n",
      "WSFS\n",
      "MAYS\n",
      "BTN\n",
      "SPB\n",
      "OII\n",
      "OTSKY\n",
      "CLFD\n",
      "GGN\n",
      "PRA\n",
      "FBP\n",
      "CFFN\n",
      "TTGT\n",
      "CMI\n",
      "NBW\n",
      "ZUMZ\n",
      "FTV\n",
      "SNDL\n",
      "MGA\n",
      "UFCS\n",
      "HFBL\n",
      "INCY\n",
      "PZN\n",
      "JAPAY\n",
      "TUSK\n",
      "CPLP\n",
      "CET\n",
      "KZIA\n",
      "CCXI\n",
      "BHLB\n",
      "BONTQ\n",
      "BYD\n",
      "FIX\n",
      "VEEV\n",
      "MGM\n",
      "CLSN\n",
      "RE\n",
      "ORLY\n",
      "BLBD\n",
      "ACN\n",
      "MANT\n",
      "SYNH\n",
      "FFIV\n",
      "CNTFY\n",
      "UTHR\n",
      "LTHM\n",
      "AWI\n",
      "IVR\n",
      "TRMB\n",
      "MGDDY\n",
      "PANDY\n",
      "SLAB\n",
      "CFFI\n",
      "PVH\n",
      "ATAX\n",
      "LHCG\n",
      "GLG\n",
      "SMG\n",
      "INOD\n",
      "MONOY\n",
      "BFC\n",
      "PLAB\n",
      "IMBI\n",
      "UNF\n",
      "EPZM\n",
      "HMTV\n",
      "FCNCA\n",
      "NEON\n",
      "ALEX\n",
      "CRNX\n",
      "WORX\n",
      "UAA\n",
      "M\n",
      "AWR\n",
      "TBBK\n",
      "SPTN\n",
      "ICAGY\n",
      "VERI\n",
      "GLW\n",
      "USNA\n",
      "REV\n",
      "CARE\n",
      "BCOV\n",
      "DGICB\n",
      "IAC\n",
      "MS\n",
      "ACIU\n",
      "CG\n",
      "HACBY\n",
      "PLUG\n",
      "ARI\n",
      "ANTH\n",
      "MBII\n",
      "LVCLY\n",
      "ADBE\n",
      "MARPS\n",
      "AVA\n",
      "VG\n",
      "HUBG\n",
      "JMPLY\n",
      "NSSC\n",
      "CLM\n",
      "BAFYY\n",
      "PPSI\n",
      "MXL\n",
      "PUBGY\n",
      "SIGI\n",
      "BAP\n",
      "TUWOY\n",
      "UBX\n",
      "MMYT\n",
      "LAUR\n",
      "AVEO\n",
      "CHE\n",
      "JEF\n",
      "CSGP\n",
      "HKXCY\n",
      "ELOX\n",
      "UFPI\n",
      "FSNUY\n",
      "RLGY\n",
      "ELLO\n",
      "INTT\n",
      "APWC\n",
      "SPPI\n",
      "ARCAY\n",
      "GOOD\n",
      "LQDT\n",
      "GOFPY\n",
      "MGRC\n",
      "RGLD\n",
      "CPE\n",
      "CRARY\n",
      "TTM\n",
      "CABO\n",
      "SGPYY\n",
      "EMX\n",
      "AJINY\n",
      "FRPT\n",
      "MMLP\n",
      "SNAP\n",
      "NILSY\n",
      "EHC\n",
      "BMI\n",
      "STE\n",
      "FOSL\n",
      "MARUY\n",
      "FF\n",
      "LMFA\n",
      "DLHC\n",
      "WLL\n",
      "GABC\n",
      "MDJH\n",
      "JAN\n",
      "SFE\n",
      "ARCO\n",
      "SEIC\n",
      "QGEN\n",
      "COO\n",
      "GSBC\n",
      "HSC\n",
      "DTEGY\n",
      "RYN\n",
      "HIMX\n",
      "NAT\n",
      "HQI\n",
      "PKX\n",
      "EQT\n",
      "GDEN\n",
      "CCNE\n",
      "SPOK\n",
      "HMC\n",
      "OMEX\n",
      "FINMY\n",
      "RCKT\n",
      "BOKF\n",
      "SVNLY\n",
      "OBNK\n",
      "BDC\n",
      "TACT\n",
      "IBN\n",
      "AIRT\n",
      "AEYE\n",
      "TSRYY\n",
      "DRH\n",
      "CNO\n",
      "LIN\n",
      "VWAGY\n",
      "NE\n",
      "IPXHY\n",
      "FIS\n",
      "NATR\n",
      "CIX\n",
      "DQJCY\n",
      "WSBC\n",
      "IAF\n",
      "CMCO\n",
      "SKHHY\n",
      "DASTY\n",
      "KBR\n",
      "CHRW\n",
      "STAR\n",
      "MURGY\n",
      "CYBR\n",
      "EB\n",
      "BBCP\n",
      "HLDCY\n",
      "CARG\n",
      "JHG\n",
      "MDXG\n",
      "AAPL\n",
      "BKEAY\n",
      "WETF\n",
      "DLB\n",
      "MITEY\n",
      "GHC\n",
      "NDEKY\n",
      "EMKR\n",
      "MRVL\n",
      "BIMI\n",
      "KIRK\n",
      "WISA\n",
      "SATS\n",
      "DIDAY\n",
      "VICR\n",
      "JNJ\n",
      "GOGO\n",
      "NI\n",
      "SIG\n",
      "TEN\n",
      "PERI\n",
      "PWOD\n",
      "AHCO\n",
      "VSEC\n",
      "ZLAB\n",
      "VRTS\n",
      "RNMBY\n",
      "AMP\n",
      "STRNY\n",
      "FUJIY\n",
      "STRL\n",
      "NOG\n",
      "ERJ\n",
      "RVP\n",
      "XPEL\n",
      "USM\n",
      "CRPJY\n",
      "UDR\n",
      "LUNA\n",
      "AEO\n",
      "GCI\n",
      "WVFC\n",
      "TCX\n",
      "IFF\n",
      "ASR\n",
      "EMCF\n",
      "ISDR\n",
      "MAC\n",
      "CATY\n",
      "UUUU\n",
      "NFG\n",
      "YAMCY\n",
      "WSTG\n",
      "EOLS\n",
      "BMRN\n",
      "TYIDY\n",
      "REG\n",
      "CRZBY\n",
      "VAL\n",
      "CBAY\n",
      "OPK\n",
      "CAAS\n",
      "RNLSY\n",
      "SPSC\n",
      "KBAL\n",
      "KPELY\n",
      "XYL\n",
      "IMH\n",
      "KE\n",
      "MXC\n",
      "TWIN\n",
      "CNK\n",
      "CPA\n",
      "OSW\n",
      "OFLX\n",
      "KALA\n",
      "HONE\n",
      "SNMRY\n",
      "AIT\n",
      "FISI\n",
      "LTC\n",
      "UBFO\n",
      "TU\n",
      "TFSL\n",
      "CCMP\n",
      "XERS\n",
      "CBT\n",
      "AGLXY\n",
      "ZEUS\n",
      "NAVB\n",
      "PZG\n",
      "SSMXY\n",
      "TDW\n",
      "RPT\n",
      "FBIO\n",
      "CAC\n",
      "IDXG\n",
      "SDPI\n",
      "FSBC\n",
      "SWIR\n",
      "EPM\n",
      "INTU\n",
      "PTN\n",
      "SINGY\n",
      "BNED\n",
      "TCCO\n",
      "FAX\n",
      "MIND\n",
      "SIFY\n",
      "MX\n",
      "FXNC\n",
      "NMRK\n",
      "IFMK\n",
      "FMNB\n",
      "ALSN\n",
      "FUNC\n",
      "AERI\n",
      "STRS\n",
      "FBMS\n",
      "OPOF\n",
      "SYPR\n",
      "IROQ\n",
      "CODA\n",
      "REX\n",
      "AIHS\n",
      "NSTG\n",
      "PI\n",
      "BJRI\n",
      "KTOS\n",
      "ZURVY\n",
      "KNX\n",
      "DIT\n",
      "TKYVY\n",
      "FDS\n",
      "MATX\n",
      "BZLFY\n",
      "BKU\n",
      "SCKT\n",
      "GPP\n",
      "CCS\n",
      "NVMI\n",
      "CARA\n",
      "HTA\n",
      "PBHC\n",
      "ZBRA\n",
      "TRYIY\n",
      "CTRM\n",
      "ACA\n",
      "CRRFY\n",
      "TRI\n",
      "BCOW\n",
      "UAL\n",
      "ACLS\n",
      "MDT\n",
      "PLXS\n",
      "PRMW\n",
      "AGRO\n",
      "EBMT\n",
      "DEO\n",
      "SPXCY\n",
      "CL\n",
      "CASY\n",
      "CACC\n",
      "SRE\n",
      "BCRX\n",
      "NSANY\n",
      "RVSB\n",
      "LFUS\n",
      "PHX\n",
      "MUFG\n",
      "SNA\n",
      "FIZZ\n",
      "CRF\n",
      "BLNK\n",
      "NDBKY\n",
      "CLVLY\n",
      "ONCT\n",
      "KIROY\n",
      "NDSN\n",
      "DGLY\n",
      "AVGO\n",
      "MGNX\n",
      "SGRP\n",
      "MT\n",
      "GBL\n",
      "WARFY\n",
      "KFS\n",
      "CRSP\n",
      "THRM\n",
      "APEI\n",
      "FORM\n",
      "GWW\n",
      "CDEV\n",
      "CASH\n",
      "SM\n",
      "ERH\n",
      "SQNS\n",
      "LDOS\n",
      "HAE\n",
      "TGT\n",
      "LL\n",
      "KRNY\n",
      "HEAR\n",
      "ICAD\n",
      "BACHY\n",
      "SYNL\n",
      "SSLZY\n",
      "PHUN\n",
      "VECO\n",
      "HGKGY\n",
      "WW\n",
      "UVV\n",
      "AVT\n",
      "DMLP\n",
      "TKOMY\n",
      "SLGN\n",
      "PPBI\n",
      "SAL\n",
      "PFBC\n",
      "GSAT\n",
      "NNDM\n",
      "AMAT\n",
      "HIFS\n",
      "CNMD\n",
      "YUMC\n",
      "KFRC\n",
      "SOMLY\n",
      "AL\n",
      "PSTG\n",
      "BGI\n",
      "MOD\n",
      "HBIO\n",
      "CRON\n",
      "PLMR\n",
      "CZR\n",
      "TENX\n",
      "NTLA\n",
      "ASM\n",
      "LBTYA\n",
      "OSG\n",
      "FJTSY\n",
      "JOB\n",
      "AVNS\n",
      "KAI\n",
      "SUMR\n",
      "PSMT\n",
      "         0\n",
      "0       BA\n",
      "1       GM\n",
      "2      CVX\n",
      "3        C\n",
      "4      BAC\n",
      "...    ...\n",
      "3836  CARS\n",
      "3837  JBGS\n",
      "3838   NVT\n",
      "3839  REZI\n",
      "3840  ETRN\n",
      "\n",
      "[3841 rows x 1 columns]\n"
     ]
    }
   ],
   "source": [
    "for stock in set(stockList[0]):\n",
    "    print(stock)"
   ]
  },
  {
   "cell_type": "code",
   "execution_count": 6,
   "metadata": {},
   "outputs": [
    {
     "data": {
      "text/html": [
       "<div>\n",
       "<style scoped>\n",
       "    .dataframe tbody tr th:only-of-type {\n",
       "        vertical-align: middle;\n",
       "    }\n",
       "\n",
       "    .dataframe tbody tr th {\n",
       "        vertical-align: top;\n",
       "    }\n",
       "\n",
       "    .dataframe thead th {\n",
       "        text-align: right;\n",
       "    }\n",
       "</style>\n",
       "<table border=\"1\" class=\"dataframe\">\n",
       "  <thead>\n",
       "    <tr style=\"text-align: right;\">\n",
       "      <th></th>\n",
       "      <th>Date</th>\n",
       "      <th>Close</th>\n",
       "      <th>Volume</th>\n",
       "      <th>Date</th>\n",
       "      <th>Close</th>\n",
       "      <th>Volume</th>\n",
       "    </tr>\n",
       "  </thead>\n",
       "  <tbody>\n",
       "    <tr>\n",
       "      <th>0</th>\n",
       "      <td>2009-06-21</td>\n",
       "      <td>155.41</td>\n",
       "      <td>874936192</td>\n",
       "      <td>2009-06-21</td>\n",
       "      <td>14.57</td>\n",
       "      <td>17832328</td>\n",
       "    </tr>\n",
       "    <tr>\n",
       "      <th>1</th>\n",
       "      <td>2009-06-28</td>\n",
       "      <td>150.29</td>\n",
       "      <td>544204992</td>\n",
       "      <td>2009-06-28</td>\n",
       "      <td>14.10</td>\n",
       "      <td>13873219</td>\n",
       "    </tr>\n",
       "    <tr>\n",
       "      <th>2</th>\n",
       "      <td>2009-07-05</td>\n",
       "      <td>145.92</td>\n",
       "      <td>930449856</td>\n",
       "      <td>2009-07-05</td>\n",
       "      <td>13.56</td>\n",
       "      <td>13901513</td>\n",
       "    </tr>\n",
       "    <tr>\n",
       "      <th>3</th>\n",
       "      <td>2009-07-12</td>\n",
       "      <td>159.75</td>\n",
       "      <td>741251648</td>\n",
       "      <td>2009-07-12</td>\n",
       "      <td>14.99</td>\n",
       "      <td>12128403</td>\n",
       "    </tr>\n",
       "    <tr>\n",
       "      <th>4</th>\n",
       "      <td>2009-07-19</td>\n",
       "      <td>172.70</td>\n",
       "      <td>863186048</td>\n",
       "      <td>2009-07-19</td>\n",
       "      <td>15.92</td>\n",
       "      <td>17448644</td>\n",
       "    </tr>\n",
       "    <tr>\n",
       "      <th>...</th>\n",
       "      <td>...</td>\n",
       "      <td>...</td>\n",
       "      <td>...</td>\n",
       "      <td>...</td>\n",
       "      <td>...</td>\n",
       "      <td>...</td>\n",
       "    </tr>\n",
       "    <tr>\n",
       "      <th>674</th>\n",
       "      <td>2022-05-22</td>\n",
       "      <td>547.81</td>\n",
       "      <td>408080000</td>\n",
       "      <td>2022-05-22</td>\n",
       "      <td>130.55</td>\n",
       "      <td>12216336</td>\n",
       "    </tr>\n",
       "    <tr>\n",
       "      <th>675</th>\n",
       "      <td>2022-05-29</td>\n",
       "      <td>542.46</td>\n",
       "      <td>386160000</td>\n",
       "      <td>2022-05-29</td>\n",
       "      <td>128.49</td>\n",
       "      <td>8327875</td>\n",
       "    </tr>\n",
       "    <tr>\n",
       "      <th>676</th>\n",
       "      <td>2022-06-05</td>\n",
       "      <td>511.12</td>\n",
       "      <td>371600000</td>\n",
       "      <td>2022-06-05</td>\n",
       "      <td>120.57</td>\n",
       "      <td>5790357</td>\n",
       "    </tr>\n",
       "    <tr>\n",
       "      <th>677</th>\n",
       "      <td>2022-06-12</td>\n",
       "      <td>468.80</td>\n",
       "      <td>567129984</td>\n",
       "      <td>2022-06-12</td>\n",
       "      <td>112.71</td>\n",
       "      <td>8889196</td>\n",
       "    </tr>\n",
       "    <tr>\n",
       "      <th>678</th>\n",
       "      <td>2022-06-19</td>\n",
       "      <td>481.35</td>\n",
       "      <td>495060000</td>\n",
       "      <td>2022-06-19</td>\n",
       "      <td>121.29</td>\n",
       "      <td>9755477</td>\n",
       "    </tr>\n",
       "  </tbody>\n",
       "</table>\n",
       "<p>679 rows × 6 columns</p>\n",
       "</div>"
      ],
      "text/plain": [
       "          Date   Close     Volume       Date   Close    Volume\n",
       "0   2009-06-21  155.41  874936192 2009-06-21   14.57  17832328\n",
       "1   2009-06-28  150.29  544204992 2009-06-28   14.10  13873219\n",
       "2   2009-07-05  145.92  930449856 2009-07-05   13.56  13901513\n",
       "3   2009-07-12  159.75  741251648 2009-07-12   14.99  12128403\n",
       "4   2009-07-19  172.70  863186048 2009-07-19   15.92  17448644\n",
       "..         ...     ...        ...        ...     ...       ...\n",
       "674 2022-05-22  547.81  408080000 2022-05-22  130.55  12216336\n",
       "675 2022-05-29  542.46  386160000 2022-05-29  128.49   8327875\n",
       "676 2022-06-05  511.12  371600000 2022-06-05  120.57   5790357\n",
       "677 2022-06-12  468.80  567129984 2022-06-12  112.71   8889196\n",
       "678 2022-06-19  481.35  495060000 2022-06-19  121.29   9755477\n",
       "\n",
       "[679 rows x 6 columns]"
      ]
     },
     "execution_count": 6,
     "metadata": {},
     "output_type": "execute_result"
    }
   ],
   "source": [
    "stockToSectorIndustryDict = pd.read_feather('')\n",
    "for stock in stockList:\n",
    "    industry = "
   ]
  },
  {
   "cell_type": "code",
   "execution_count": null,
   "metadata": {},
   "outputs": [],
   "source": []
  }
 ],
 "metadata": {
  "kernelspec": {
   "display_name": "Python 3.9.12 ('bob')",
   "language": "python",
   "name": "python3"
  },
  "language_info": {
   "codemirror_mode": {
    "name": "ipython",
    "version": 3
   },
   "file_extension": ".py",
   "mimetype": "text/x-python",
   "name": "python",
   "nbconvert_exporter": "python",
   "pygments_lexer": "ipython3",
   "version": "3.9.12"
  },
  "orig_nbformat": 4,
  "vscode": {
   "interpreter": {
    "hash": "21b7bd1e2962aa9fdfcf38f5a68e339eb001c977a90403c917368d2e55c759d2"
   }
  }
 },
 "nbformat": 4,
 "nbformat_minor": 2
}
