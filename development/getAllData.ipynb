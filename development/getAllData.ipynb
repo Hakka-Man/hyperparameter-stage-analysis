{
 "cells": [
  {
   "cell_type": "code",
   "execution_count": 6,
   "metadata": {},
   "outputs": [],
   "source": [
    "import pandas as pd\n",
    "import numpy as np\n",
    "import swifter"
   ]
  },
  {
   "cell_type": "code",
   "execution_count": 12,
   "metadata": {},
   "outputs": [],
   "source": [
    "weights = np.arange(1,31)\n",
    "sumWeights = np.sum(weights)\n",
    "def calculateSlopeOfTicker(df,index):\n",
    "    if index < 31:\n",
    "        return 0\n",
    "    else:\n",
    "        return df.at[index, 'WMA30Slope']/df.at[index-1, 'WMA30Slope']\n",
    "\n",
    "def product(df,index):\n",
    "    if index < 30:\n",
    "        return 0\n",
    "    else:\n",
    "        return df.at[index,'Close']/df.at[index-30, 'Close']"
   ]
  },
  {
   "cell_type": "code",
   "execution_count": 13,
   "metadata": {},
   "outputs": [
    {
     "data": {
      "application/vnd.jupyter.widget-view+json": {
       "model_id": "922e180b571a4c23ac18d471710b5052",
       "version_major": 2,
       "version_minor": 0
      },
      "text/plain": [
       "Pandas Apply:   0%|          | 0/626 [00:00<?, ?it/s]"
      ]
     },
     "metadata": {},
     "output_type": "display_data"
    }
   ],
   "source": [
    "df = pd.read_feather(\"test.feather\")\n",
    "df['Percent'] = df.swifter.apply(lambda x: product(df,(x.name)),axis=1)"
   ]
  },
  {
   "cell_type": "code",
   "execution_count": null,
   "metadata": {},
   "outputs": [],
   "source": [
    "def getData(path, comparePath = \"\"):\n",
    "    try:\n",
    "        df = pd.read_feather(path)\n",
    "        dfCompare = [] if comparePath == \"\" else pd.read_feather(comparePath)\n",
    "        if df['Close'].isnull().values.any():\n",
    "            print(path + \" close contains null\")\n",
    "        df['FiveYearHigh'] = df['Close'].rolling(window=260).max().shift(1).fillna(0)\n",
    "        df['WMA30'] = df['Close'].rolling(window=30).apply(lambda x: np.sum(weights*x)/sumWeights)\n",
    "        df['WMA30Slope'] = df.swifter.apply(lambda x: calculateSlopeOfTicker(df,df.indexm.get_loc(x.name)),axis=1)\n",
    "        df['Volume'] = df['Volume'].replace(to_replace=0, method='ffill')\n",
    "        df['Percent'] = df.swifter.apply(lambda x: product(df,(x.name)),axis=1)\n",
    "        if dfCompare != []:\n",
    "            df['RS'] = df['Percent'] - dfCompare['Percent']\n",
    "            dfCompare = dfCompare.drop('Percent')\n",
    "            dfCompare\n",
    "        df = df.iloc[260:]\n",
    "        df.to_feather(path)\n",
    "    except:\n",
    "        print(path)"
   ]
  },
  {
   "cell_type": "code",
   "execution_count": null,
   "metadata": {},
   "outputs": [],
   "source": [
    "stockList = pd.read_feather(\"stockData/tickerList.feather\")\n",
    "industryList = pd.read_feather(\"stockData/industryList.feather\")\n",
    "sectorList = pd.read_feather(\"stockData/sectorList.feather\")\n",
    "\n",
    "for stock in stockList:\n",
    "    getData(\"datasets/stockData/\"+stock+\".feather\")\n",
    "for sector in sectorList:\n",
    "    getData(\"datasets/sectorData/\"+sector+\".feather\")\n",
    "for industry in industryList:\n",
    "    getData(\"stockData/industriesData/\"+industry[0]+\"/\"+industry[1]+\".feather\")\n"
   ]
  }
 ],
 "metadata": {
  "kernelspec": {
   "display_name": "Python 3.9.13",
   "language": "python",
   "name": "python3"
  },
  "language_info": {
   "codemirror_mode": {
    "name": "ipython",
    "version": 3
   },
   "file_extension": ".py",
   "mimetype": "text/x-python",
   "name": "python",
   "nbconvert_exporter": "python",
   "pygments_lexer": "ipython3",
   "version": "3.9.13"
  },
  "orig_nbformat": 4,
  "vscode": {
   "interpreter": {
    "hash": "cef17d8e0b693fce01e9f1f72b9414a3311abac1f5b34dcfc301a056a5e7bd77"
   }
  }
 },
 "nbformat": 4,
 "nbformat_minor": 2
}
