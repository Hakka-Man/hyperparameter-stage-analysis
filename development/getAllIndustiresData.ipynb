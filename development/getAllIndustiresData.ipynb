{
 "cells": [
  {
   "cell_type": "code",
   "execution_count": null,
   "metadata": {},
   "outputs": [],
   "source": [
    "import pandas as pd\n",
    "from stage import fullPrint, getIndustryStage\n",
    "from datetime import datetime, timedelta\n",
    "import numpy as np\n",
    "import pickle\n",
    "import os\n",
    "import investpy\n",
    "import swifter\n",
    "\n",
    "PEAK = 12\n",
    "allList = []\n",
    "industryList = pd.read_pickle(\"stockData/industryList.pkl\")\n",
    "\n",
    "SectorDict = {\n",
    "    \"Energy\":\"XLE\",\n",
    "    \"Technology\":\"XLK\",\n",
    "    \"Communication Services\":\"XLC\",\n",
    "    \"Consumer Defensive\":\"XLP\",\n",
    "    \"Healthcare\":\"XLV\",\n",
    "    \"Consumer Cyclical\":\"XLY\",\n",
    "    \"Industrials\":\"XLI\",\n",
    "    \"Utilities\":\"XLU\",\n",
    "    \"Basic Materials\":\"XLB\",\n",
    "    \"Financial Services\":\"XLF\",\n",
    "    \"Real Estate\":\"XLRE\"}\n",
    "\n",
    "i = 0\n",
    "now = datetime.now()"
   ]
  },
  {
   "cell_type": "code",
   "execution_count": null,
   "metadata": {},
   "outputs": [],
   "source": [
    "weights = np.arange(1,31)\n",
    "sumWeights = np.sum(weights)\n",
    "WMA30SLOPE = 7\n",
    "def calculateSlopeOfTicker(df,index):\n",
    "    if index < 31:\n",
    "        return 0\n",
    "    else:\n",
    "        return df.iat[index,WMA30SLOPE]/df.iat[index-1,WMA30SLOPE]\n",
    "\n",
    "def product(df,index):\n",
    "    if index < 30:\n",
    "        return 0\n",
    "    else:\n",
    "        return df.iat[index,0]/df.iat[index-30,0]\n",
    "        \n",
    "def calculatePeak(df,index, diff, col):\n",
    "    if index == 0:\n",
    "        return df.iat[index,0]\n",
    "    if index < diff:\n",
    "        return max(df.iat[index-1,col],df.iat[index,0])"
   ]
  },
  {
   "cell_type": "code",
   "execution_count": null,
   "metadata": {},
   "outputs": [],
   "source": [
    "spDf = investpy.get_index_historical_data(index='S&P 500', country='United States', from_date='01/01/2000', to_date='01/01/2020')\n",
    "spDf = spDf[~spDf.index.duplicated()]\n",
    "spDf['Close'] = spDf['Close'].rolling(window=5).apply(lambda x: np.average(x))\n",
    "spDf['Dates'] = pd.to_datetime(spDf.index)\n",
    "spDf = spDf[spDf['Dates'].dt.weekday == 4]\n",
    "spDf = spDf.drop('Dates', axis = 1)\n",
    "spDf['percent'] = spDf.swifter.apply(lambda x: product(spDf,spDf.index.get_loc(x.name)),axis=1)\n",
    "spDf['WMA30'] = spDf['Close'].rolling(window=30).apply(lambda x: np.sum(weights*x)/sumWeights)\n",
    "spDf['WMA30Slope'] = spDf.swifter.apply(lambda x: calculateSlopeOfTicker(spDf,spDf.index.get_loc(x.name)),axis=1)\n",
    "spDf.to_pickle(\"stockData/Spy.pkl\")"
   ]
  },
  {
   "cell_type": "code",
   "execution_count": null,
   "metadata": {},
   "outputs": [],
   "source": [
    "for industry in industryList:\n",
    "    print(industry)\n",
    "    try:\n",
    "        stockDf = pd.read_pickle('stockData/industriesData/'+str(industry[0])+'/'+str(industry[1])+'.pkl')\n",
    "        if stockDf['Close'].isnull().values.any():\n",
    "            os.remove('stockData/industriesData/'+str(industry[0])+'/'+str(industry[1])+'.pkl')\n",
    "        stockDf['fiveYearHigh'] = stockDf['Close'].rolling(window=260).max().shift(1).fillna(0)\n",
    "        stockDf['WMA30'] = stockDf['Close'].rolling(window=30).apply(lambda x: np.sum(weights*x)/sumWeights)\n",
    "        stockDf['WMA30Slope'] = stockDf.swifter.apply(lambda x: calculateSlopeOfTicker(stockDf,stockDf.index.get_loc(x.name)),axis=1)\n",
    "        stockDf['Volume'] = stockDf['Volume'].replace(to_replace=0, method='ffill')\n",
    "        stockDf['volumePerc'] = stockDf['Volume'].pct_change()\n",
    "        stockDf['percent'] = stockDf.swifter.apply(lambda x: product(stockDf,stockDf.index.get_loc(x.name)),axis=1)\n",
    "        stockDf['RS'] = stockDf['percent'] - spDf['percent']\n",
    "        #stockDf = stockDf.dropna()\n",
    "        stockDf['peak'] = 0\n",
    "        stockDf['trough'] = 0\n",
    "        stockDf['support'] = 0\n",
    "        stockDf['initialSupport'] = 0\n",
    "        for index, element in stockDf.iterrows():\n",
    "            numIndex =stockDf.index.get_loc(index)\n",
    "            if numIndex < 260:\n",
    "                stockDf.iat[numIndex, PEAK] = calculatePeak(stockDf, numIndex, 260, 3)\n",
    "        stockDf['Stage'] = \"\"\n",
    "        stockDf['secondBuy'] = False\n",
    "        stockDf['resistance'] = 0\n",
    "        stockDf['shortPeak'] = 0\n",
    "        stockDf['shortTrough'] = 0\n",
    "        stockDf.to_pickle('stockData/industriesData/'+str(industry[0])+'/'+str(industry[1])+'.pkl')\n",
    "    except:\n",
    "        pass"
   ]
  },
  {
   "cell_type": "code",
   "execution_count": null,
   "metadata": {},
   "outputs": [],
   "source": [
    "transactionTemplate = investpy.get_index_historical_data(index='DJ Commodity Chemicals',\n",
    "                                        country='United States',\n",
    "                                        from_date='01/01/2010',\n",
    "                                        to_date='01/01/2020').drop(['open','high','low','close','adjclose','volume','ticker'],axis=1)\n",
    "transactionTemplate = transactionTemplate[~transactionTemplate.index.duplicated()]\n",
    "transactionTemplate.to_pickle(\"transactionTemplate.pkl\")"
   ]
  },
  {
   "cell_type": "code",
   "execution_count": null,
   "metadata": {},
   "outputs": [],
   "source": [
    "for ticker in nasdaqList:\n",
    "    try:\n",
    "        stockDf = pd.read_pickle('stockData/nyseNasdaq/'+ticker+'.pkl')\n",
    "        stockDf = stockDf.drop(['open','high','low','adjclose'],axis=1)\n",
    "        stockDf.to_pickle('stockData/nyseNasdaq/'+ticker+'.pkl')\n",
    "    except:\n",
    "        pass"
   ]
  },
  {
   "cell_type": "code",
   "execution_count": null,
   "metadata": {},
   "outputs": [],
   "source": [
    "now = datetime.now()\n",
    "monday = now - timedelta(days = now.weekday())\n",
    "now = now.strftime('%Y-%m-%d')\n",
    "df = yf.get_data(ticker, start_date=\"1995-01-06\",end_date = now, index_as_date = True)\n",
    "df['Dates'] = pd.to_datetime(df.index)\n",
    "df = df[df['Dates'].dt.weekday == 4]\n",
    "df = df.drop('Dates', axis = 1)\n",
    "df"
   ]
  },
  {
   "cell_type": "code",
   "execution_count": null,
   "metadata": {},
   "outputs": [],
   "source": [
    "transactionTemplate = yf.get_data('AAPL', start_date=\"1995-01-06\",end_date= now, index_as_date = True).drop(['open','high','low','close','adjclose','volume','ticker'],axis=1)\n",
    "transactionTemplate['Dates'] = pd.to_datetime(transactionTemplate.index)\n",
    "transactionTemplate = transactionTemplate[transactionTemplate['Dates'].dt.weekday == 4]\n",
    "transactionTemplate = transactionTemplate.drop('Dates', axis = 1)\n",
    "transactionTemplate.to_pickle(\"transactionTemplate.pkl\")"
   ]
  },
  {
   "cell_type": "code",
   "execution_count": null,
   "metadata": {},
   "outputs": [],
   "source": [
    "SectorDict = {\n",
    "    \"Energy\":\"XLE\",\"Technology\":\"XLK\",\n",
    "    \"Communication Services\":\"XLC\",\n",
    "    \"Consumer Staples\":\"XLP\",\n",
    "    \"Health Care\":\"XLV\",\n",
    "    \"Consumer Cyclical\":\"XLY\",\n",
    "    \"Industrial\":\"XLI\",\n",
    "    \"Utilities\":\"XLU\",\n",
    "    \"Materials\":\"XLB\",\n",
    "    \"Financial\":\"XLF\",\n",
    "    \"Real Estate\":\"XLRE\"}\n",
    "sectorDfList = []\n",
    "for sector in SectorDict.values():\n",
    "    sectorDfList.append(pd.read_pickle(\"stockData/sectorCharts/\"+sector+\".pkl\"))\n",
    "goodSectorDf = sectorDfList[0].drop(['open','high','low','adjclose','close','ticker','volume','percent','MA30','MA30Slope','RS'],axis=1)\n",
    "goodSectorDf['Sectors'] = [[] for _ in range(len(goodSectorDf))]\n",
    "goodSectorDf.index = sectorDfList[0].index\n",
    "index = 0\n",
    "for date in sectorDfList[0].index:\n",
    "    listOfSector = []\n",
    "    for df in sectorDfList:\n",
    "        try:\n",
    "            if  df.at[date,'MA30Slope'] > 0.992549883242513 and df.loc[date,'RS'] > -0.3044455098712273:\n",
    "                if df.at[date,'close'] > df.at[date,'MA30']:\n",
    "                    #print(df.at[date,'ticker'])\n",
    "                    listOfSector.append(df.at[date,'ticker'])\n",
    "        except: \n",
    "            pass\n",
    "        # print(listOfSector)\n",
    "    goodSectorDf.iat[index,0] = set(listOfSector)\n",
    "    index = index + 1\n"
   ]
  },
  {
   "cell_type": "code",
   "execution_count": null,
   "metadata": {},
   "outputs": [],
   "source": [
    "removeList = []\n",
    "CLOSE = 0\n",
    "TICKER = 2\n",
    "for ticker in nasdaqList:\n",
    "    try:\n",
    "        df = pd.read_pickle(\"stockData/nyseNasdaq/\"+ticker+\".pkl\")\n",
    "        lastClose = df.iat[0,CLOSE]\n",
    "        isFirst = True\n",
    "        index = 0\n",
    "        for date in df.Stage:\n",
    "            if isFirst == True:\n",
    "                isFirst = False\n",
    "                continue\n",
    "            if (df.iat[index,CLOSE] >= lastClose * 5):\n",
    "                removeList.append(ticker)\n",
    "                break\n",
    "            lastClose = df.iat[index,CLOSE]\n",
    "            index += 1\n",
    "        stockDf = pd.read_pickle('stockData/nyseNasdaq/'+ticker+'.pkl')\n",
    "        buyDf = pd.read_pickle('stockData/nyseNasdaq/'+ticker+'Buy.pkl')\n",
    "        if stockDf['close'].isnull().values.any() or buyDf['open'].isnull().values.any():\n",
    "            print(ticker)\n",
    "            removeList.append(ticker)\n",
    "            os.remove('stockData/nyseNasdaq/'+ticker+'.pkl')\n",
    "            os.remove('stockData/nyseNasdaq/'+ticker+'Buy.pkl')\n",
    "        df = getStage(ticker,[0.03361077383204303, 1.7466372328111242, -0.08498841770875612, 0.926192276854965, 1.1764676012556523, 1.1405501342698643, 0.8517616225271734, 0.8691969716399011, 1.268490629719207, 1.0013386634337298, 0.07551020458494859, 0.9489349345040117, 0.996709764664632, 0.9485725801058837, 0.9857019510456804],goodSectorDf)\n",
    "        if df.empty:\n",
    "            removeList.append(ticker)\n",
    "    except:\n",
    "        removeList.append(ticker)\n",
    "print(removeList)"
   ]
  },
  {
   "cell_type": "code",
   "execution_count": null,
   "metadata": {},
   "outputs": [],
   "source": [
    "for ticker in removeList:\n",
    "    nasdaqList.remove(ticker)\n",
    "with open('stockData/tickerList.pkl', 'wb') as f:\n",
    "    pickle.dump(nasdaqList, f)"
   ]
  },
  {
   "cell_type": "code",
   "execution_count": null,
   "metadata": {},
   "outputs": [],
   "source": []
  }
 ],
 "metadata": {
  "kernelspec": {
   "display_name": "Python 3.9.12 ('titanicM')",
   "language": "python",
   "name": "python3"
  },
  "language_info": {
   "codemirror_mode": {
    "name": "ipython",
    "version": 3
   },
   "file_extension": ".py",
   "mimetype": "text/x-python",
   "name": "python",
   "nbconvert_exporter": "python",
   "pygments_lexer": "ipython3",
   "version": "3.9.12"
  },
  "orig_nbformat": 4,
  "vscode": {
   "interpreter": {
    "hash": "ea40916e32696a4422b33cc9ebf8f980cef431e5c5c30edbf18af9732d339d23"
   }
  }
 },
 "nbformat": 4,
 "nbformat_minor": 2
}
