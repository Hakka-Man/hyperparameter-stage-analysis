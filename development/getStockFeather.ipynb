{
 "cells": [
  {
   "cell_type": "code",
   "execution_count": 10,
   "metadata": {},
   "outputs": [],
   "source": [
    "import pandas as pd\n",
    "import numpy as np\n",
    "from datetime import datetime, timedelta\n",
    "import investpy\n",
    "import os\n",
    "import time\n",
    "import pickle"
   ]
  },
  {
   "cell_type": "code",
   "execution_count": 7,
   "metadata": {},
   "outputs": [],
   "source": [
    "stockList = investpy.stocks.get_stocks(country = 'United States')['symbol'].tolist()\n",
    "missingStocks = []"
   ]
  },
  {
   "cell_type": "code",
   "execution_count": null,
   "metadata": {},
   "outputs": [],
   "source": [
    "for symbol in stockList:\n",
    "    time.sleep(1)\n",
    "    df = pd.DataFrame()\n",
    "    try:\n",
    "        df = investpy.stocks.get_stock_historical_data(symbol, 'United States', '20/06/2009', '20/06/2022', as_json=False, order='ascending', interval='Weekly')\n",
    "        df = df.reset_index().drop(['Open', 'High', 'Low', 'Currency'], axis = 1)\n",
    "        df.to_feather(\"datasets/stockData/\"+symbol+\".feather\")\n",
    "    except:\n",
    "        missingStocks.append(symbol)\n",
    "        print(symbol)"
   ]
  },
  {
   "cell_type": "code",
   "execution_count": null,
   "metadata": {},
   "outputs": [],
   "source": [
    "for stock in missingStocks:\n",
    "    stockList = stockList.remove(stock)"
   ]
  },
  {
   "cell_type": "code",
   "execution_count": 11,
   "metadata": {},
   "outputs": [],
   "source": [
    "with open('datasets/tickerList.pkl', 'wb') as handle:\n",
    "    pickle.dump(stockList, handle, protocol=pickle.HIGHEST_PROTOCOL)"
   ]
  },
  {
   "cell_type": "code",
   "execution_count": null,
   "metadata": {},
   "outputs": [],
   "source": []
  }
 ],
 "metadata": {
  "kernelspec": {
   "display_name": "Python 3.9.13 ('bob')",
   "language": "python",
   "name": "python3"
  },
  "language_info": {
   "codemirror_mode": {
    "name": "ipython",
    "version": 3
   },
   "file_extension": ".py",
   "mimetype": "text/x-python",
   "name": "python",
   "nbconvert_exporter": "python",
   "pygments_lexer": "ipython3",
   "version": "3.9.13"
  },
  "orig_nbformat": 4,
  "vscode": {
   "interpreter": {
    "hash": "cef17d8e0b693fce01e9f1f72b9414a3311abac1f5b34dcfc301a056a5e7bd77"
   }
  }
 },
 "nbformat": 4,
 "nbformat_minor": 2
}
