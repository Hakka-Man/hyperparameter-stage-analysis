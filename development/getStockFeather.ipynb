{
 "cells": [
  {
   "cell_type": "code",
   "execution_count": null,
   "metadata": {},
   "outputs": [],
   "source": [
    "import pandas as pd\n",
    "import numpy as np\n",
    "from datetime import datetime, timedelta\n",
    "import investpy\n",
    "import os\n",
    "import time"
   ]
  },
  {
   "cell_type": "code",
   "execution_count": null,
   "metadata": {},
   "outputs": [],
   "source": [
    "stockList = investpy.stocks.get_stocks(country = 'United States')['symbol']\n",
    "missingStocks = []"
   ]
  },
  {
   "cell_type": "code",
   "execution_count": null,
   "metadata": {},
   "outputs": [],
   "source": [
    "for symbol in stockList:\n",
    "    time.sleep(1)\n",
    "    df = pd.DataFrame()\n",
    "    try:\n",
    "        df = investpy.stocks.get_stock_historical_data(symbol, 'United States', '20/06/2009', '20/06/2022', as_json=False, order='ascending', interval='Weekly')\n",
    "        df = df.reset_index().drop(['Open', 'High', 'Low', 'Currency'], axis = 1)\n",
    "        df.to_feather(\"datasets/stockData/\"+symbol+\".feather\")\n",
    "    except:\n",
    "        missingStocks.append(symbol)\n",
    "        print(symbol)"
   ]
  },
  {
   "cell_type": "code",
   "execution_count": null,
   "metadata": {},
   "outputs": [],
   "source": [
    "for stock in missingStocks:\n",
    "    stockList = stockList.drop(stockList[stockList == stock].index)"
   ]
  },
  {
   "cell_type": "code",
   "execution_count": null,
   "metadata": {},
   "outputs": [],
   "source": [
    "stockList.to_pickle(\"datasets/tickerList.pkl\")"
   ]
  },
  {
   "cell_type": "code",
   "execution_count": null,
   "metadata": {},
   "outputs": [],
   "source": []
  }
 ],
 "metadata": {
  "kernelspec": {
   "display_name": "Python 3.9.12 ('bob')",
   "language": "python",
   "name": "python3"
  },
  "language_info": {
   "codemirror_mode": {
    "name": "ipython",
    "version": 3
   },
   "file_extension": ".py",
   "mimetype": "text/x-python",
   "name": "python",
   "nbconvert_exporter": "python",
   "pygments_lexer": "ipython3",
   "version": "3.9.12"
  },
  "orig_nbformat": 4,
  "vscode": {
   "interpreter": {
    "hash": "21b7bd1e2962aa9fdfcf38f5a68e339eb001c977a90403c917368d2e55c759d2"
   }
  }
 },
 "nbformat": 4,
 "nbformat_minor": 2
}
