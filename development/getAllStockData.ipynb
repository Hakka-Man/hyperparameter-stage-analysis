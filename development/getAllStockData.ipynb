{
 "cells": [
  {
   "cell_type": "code",
   "execution_count": 1,
   "metadata": {},
   "outputs": [],
   "source": [
    "import pandas as pd\n",
    "from stage import fullPrint, getIndustryStage, getStage\n",
    "from datetime import datetime, timedelta\n",
    "import numpy as np\n",
    "import pickle\n",
    "import os\n",
    "import investpy\n",
    "import swifter\n",
    "\n",
    "PEAK = 12\n",
    "allList = []\n",
    "stockList = pd.read_pickle(\"stockData/tickerList.pkl\")\n",
    "\n",
    "SectorDict = {\n",
    "    \"Energy\":\"XLE\",\n",
    "    \"Technology\":\"XLK\",\n",
    "    \"Communication Services\":\"XLC\",\n",
    "    \"Consumer Defensive\":\"XLP\",\n",
    "    \"Healthcare\":\"XLV\",\n",
    "    \"Consumer Cyclical\":\"XLY\",\n",
    "    \"Industrials\":\"XLI\",\n",
    "    \"Utilities\":\"XLU\",\n",
    "    \"Basic Materials\":\"XLB\",\n",
    "    \"Financial Services\":\"XLF\",\n",
    "    \"Real Estate\":\"XLRE\"}\n",
    "\n",
    "i = 0\n",
    "now = datetime.now()"
   ]
  },
  {
   "cell_type": "code",
   "execution_count": null,
   "metadata": {},
   "outputs": [],
   "source": [
    "weights = np.arange(1,31)\n",
    "sumWeights = np.sum(weights)\n",
    "WMA30SLOPE = 7\n",
    "def calculateSlopeOfTicker(df,index):\n",
    "    if index < 31:\n",
    "        return 0\n",
    "    else:\n",
    "        return df.iat[index,WMA30SLOPE]/df.iat[index-1,WMA30SLOPE]\n",
    "\n",
    "def product(df,index):\n",
    "    if index < 30:\n",
    "        return 0\n",
    "    else:\n",
    "        return df.iat[index,0]/df.iat[index-30,0]\n",
    "        \n",
    "def calculatePeak(df,index, diff, col):\n",
    "    if index == 0:\n",
    "        return df.iat[index,0]\n",
    "    if index < diff:\n",
    "        return max(df.iat[index-1,col],df.iat[index,0])"
   ]
  },
  {
   "cell_type": "code",
   "execution_count": null,
   "metadata": {},
   "outputs": [],
   "source": [
    "spDf = investpy.get_index_historical_data(index='S&P 500', country='United States', from_date='01/01/2000', to_date='01/01/2022', as_json=False, order='ascending', interval='Weekly')\n",
    "spDf = spDf[~spDf.index.duplicated()]\n",
    "spDf['Volume'] = spDf['Volume'].replace(to_replace=0, method='ffill')\n",
    "spDf['percent'] = spDf.swifter.apply(lambda x: product(spDf,spDf.index.get_loc(x.name)),axis=1)\n",
    "spDf['WMA30'] = spDf['Close'].rolling(window=30).apply(lambda x: np.sum(weights*x)/sumWeights)\n",
    "spDf['WMA30Slope'] = spDf.swifter.apply(lambda x: calculateSlopeOfTicker(spDf,spDf.index.get_loc(x.name)),axis=1)\n",
    "spDf = spDf.drop(['Open','High','Low','Currency'],axis=1)\n",
    "spDf.to_pickle(\"stockData/Spy.pkl\")"
   ]
  },
  {
   "cell_type": "code",
   "execution_count": null,
   "metadata": {},
   "outputs": [],
   "source": [
    "for stock in stockList:\n",
    "    try:\n",
    "        stockDf = pd.read_pickle(\"stockData/stockPkl/\"+stock+\".pkl\")\n",
    "        if stockDf['Close'].isnull().values.any():\n",
    "            os.remove(\"stockData/stockPkl/\"+stock+\".pkl\")\n",
    "        stockDf['fiveYearHigh'] = stockDf['Close'].rolling(window=260).max().shift(1).fillna(0)\n",
    "        stockDf['WMA30'] = stockDf['Close'].rolling(window=30).apply(lambda x: np.sum(weights*x)/sumWeights)\n",
    "        stockDf['WMA30Slope'] = stockDf.swifter.apply(lambda x: calculateSlopeOfTicker(stockDf,stockDf.index.get_loc(x.name)),axis=1)\n",
    "        stockDf['Volume'] = stockDf['Volume'].replace(to_replace=0, method='ffill')\n",
    "        stockDf['volumePerc'] = stockDf['Volume'].pct_change()\n",
    "        stockDf['percent'] = stockDf.swifter.apply(lambda x: product(stockDf,stockDf.index.get_loc(x.name)),axis=1)\n",
    "        stockDf['RS'] = stockDf['percent'] - spDf['percent']\n",
    "        #stockDf = stockDf.dropna()\n",
    "        stockDf['peak'] = 0\n",
    "        stockDf['trough'] = 0\n",
    "        stockDf['support'] = 0\n",
    "        stockDf['initialSupport'] = 0\n",
    "        for index, element in stockDf.iterrows():\n",
    "            numIndex =stockDf.index.get_loc(index)\n",
    "            if numIndex < 260:\n",
    "                stockDf.iat[numIndex, PEAK] = calculatePeak(stockDf, numIndex, 260, 3)\n",
    "        stockDf['Stage'] = \"\"\n",
    "        stockDf['secondBuy'] = False\n",
    "        stockDf['resistance'] = 0\n",
    "        stockDf['shortPeak'] = 0\n",
    "        stockDf['shortTrough'] = 0\n",
    "        stockDf = stockDf.drop(['Open','High','Low','Currency'],axis=1)\n",
    "        stockDf.to_pickle(\"stockData/stockPkl/\"+stock+\".pkl\")\n",
    "    except:\n",
    "        pass"
   ]
  },
  {
   "cell_type": "code",
   "execution_count": null,
   "metadata": {},
   "outputs": [],
   "source": [
    "transactionTemplate = pd.read_pickle(\"stockData/stockPkl/BA.pkl\")\n",
    "transactionTemplate = transactionTemplate.drop(transactionTemplate.columns, axis = 1)\n",
    "transactionTemplate['Dates'] = pd.to_datetime(transactionTemplate.index)\n",
    "transactionTemplate = transactionTemplate.drop('Dates', axis = 1)\n",
    "transactionTemplate = transactionTemplate[~transactionTemplate.index.duplicated()]\n",
    "transactionTemplate.to_pickle(\"transactionTemplate.pkl\")"
   ]
  }
 ],
 "metadata": {
  "kernelspec": {
   "display_name": "Python 3.9.12 ('titanicM')",
   "language": "python",
   "name": "python3"
  },
  "language_info": {
   "codemirror_mode": {
    "name": "ipython",
    "version": 3
   },
   "file_extension": ".py",
   "mimetype": "text/x-python",
   "name": "python",
   "nbconvert_exporter": "python",
   "pygments_lexer": "ipython3",
   "version": "3.10.4"
  },
  "orig_nbformat": 4,
  "vscode": {
   "interpreter": {
    "hash": "ea40916e32696a4422b33cc9ebf8f980cef431e5c5c30edbf18af9732d339d23"
   }
  }
 },
 "nbformat": 4,
 "nbformat_minor": 2
}
