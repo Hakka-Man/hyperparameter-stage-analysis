{
 "cells": [
  {
   "cell_type": "code",
   "execution_count": 1,
   "metadata": {},
   "outputs": [],
   "source": [
    "from stage import getIndustryStage\n",
    "import pandas as pd\n",
    "import numpy as np\n",
    "from datetime import timedelta\n",
    "from StockStageEstimator import *\n",
    "import pickle\n",
    "from stage import fullPrint\n",
    "from datetime import date,datetime, timedelta\n",
    "import investpy\n",
    "import time\n",
    "import os\n"
   ]
  },
  {
   "cell_type": "code",
   "execution_count": 4,
   "metadata": {},
   "outputs": [
    {
     "name": "stdout",
     "output_type": "stream",
     "text": [
      "[0.2, 1.39, 0.35, 0.93, 1.09, 1.22, 0.98, 0.98, 1.38, 0.99, -0.01, 0.97, 0.99, 0.96, 0.98]\n",
      "1.4375\n",
      "94.72477431236479\n",
      "-0.008519161499945034\n",
      "-1\n"
     ]
    }
   ],
   "source": [
    "goodSectorDf = pd.read_pickle('stockData/goodSector.pkl')\n",
    "\n",
    "stockStageEstimator = StockStageEstimator([0.20, 1.39, 0.35, 0.93, 1.09, 1.22, 0.98, 0.98, 1.38, 0.99, -0.01, 0.97, 0.99, 0.96, 0.98], goodSectorDf)\n",
    "# print(goodSectorDf.loc['2021-11-28', 'Sectors'])\n",
    "score = stockStageEstimator.evalFit()\n",
    "print(score)\n",
    "\n",
    "\n",
    "# sectorCharts = \"stockData/sectorCharts\"\n",
    "# sectorDfList = []\n",
    "# for sector in os.listdir(sectorCharts):\n",
    "#     # print(sector)\n",
    "#     sector_dir = os.path.join(sectorCharts, sector)\n",
    "#     df = pd.read_pickle(sector_dir)\n",
    "#     sectorDfList.append(df)\n",
    "# stockStageEstimator.fit(goodSectorDf)\n"
   ]
  },
  {
   "cell_type": "code",
   "execution_count": null,
   "metadata": {},
   "outputs": [
    {
     "ename": "NameError",
     "evalue": "name 'sectorDfList' is not defined",
     "output_type": "error",
     "traceback": [
      "\u001b[0;31m---------------------------------------------------------------------------\u001b[0m",
      "\u001b[0;31mNameError\u001b[0m                                 Traceback (most recent call last)",
      "\u001b[1;32m/home/magician3124/Documents/stageAnalysis/development/testing_StockStageEstimator.ipynb Cell 3'\u001b[0m in \u001b[0;36m<cell line: 1>\u001b[0;34m()\u001b[0m\n\u001b[0;32m----> <a href='vscode-notebook-cell:/home/magician3124/Documents/stageAnalysis/development/testing_StockStageEstimator.ipynb#ch0000002?line=0'>1</a>\u001b[0m goodSectorDf \u001b[39m=\u001b[39m sectorDfList[\u001b[39m0\u001b[39m]\u001b[39m.\u001b[39mdrop([\u001b[39m'\u001b[39m\u001b[39mOpen\u001b[39m\u001b[39m'\u001b[39m,\u001b[39m'\u001b[39m\u001b[39mHigh\u001b[39m\u001b[39m'\u001b[39m,\u001b[39m'\u001b[39m\u001b[39mLow\u001b[39m\u001b[39m'\u001b[39m,\u001b[39m'\u001b[39m\u001b[39mClose\u001b[39m\u001b[39m'\u001b[39m,\u001b[39m'\u001b[39m\u001b[39mCurrency\u001b[39m\u001b[39m'\u001b[39m,\u001b[39m'\u001b[39m\u001b[39mMA30\u001b[39m\u001b[39m'\u001b[39m,\u001b[39m'\u001b[39m\u001b[39mMA30Slope\u001b[39m\u001b[39m'\u001b[39m,\u001b[39m'\u001b[39m\u001b[39mRS\u001b[39m\u001b[39m'\u001b[39m],axis\u001b[39m=\u001b[39m\u001b[39m1\u001b[39m)\n\u001b[1;32m      <a href='vscode-notebook-cell:/home/magician3124/Documents/stageAnalysis/development/testing_StockStageEstimator.ipynb#ch0000002?line=1'>2</a>\u001b[0m goodSectorDf\u001b[39m.\u001b[39mindex \u001b[39m=\u001b[39m sectorDfList[\u001b[39m0\u001b[39m]\u001b[39m.\u001b[39mindex\n\u001b[1;32m      <a href='vscode-notebook-cell:/home/magician3124/Documents/stageAnalysis/development/testing_StockStageEstimator.ipynb#ch0000002?line=2'>3</a>\u001b[0m \u001b[39m# fullPrint(sectorDfList[1][['MA30Slope','RS']])\u001b[39;00m\n",
      "\u001b[0;31mNameError\u001b[0m: name 'sectorDfList' is not defined"
     ]
    }
   ],
   "source": [
    "goodSectorDf = sectorDfList[0].drop(['Open','High','Low','Close','Currency','MA30','MA30Slope','RS'],axis=1)\n",
    "goodSectorDf.index = sectorDfList[0].index\n",
    "# fullPrint(sectorDfList[1][['MA30Slope','RS']])\n",
    "goodSectorDf['Sectors'] = [[] for _ in range(len(goodSectorDf))]\n",
    "for date in sectorDfList[0].index:\n",
    "    listOfSector = []\n",
    "    for df in sectorDfList:\n",
    "        print(df)\n",
    "        try:\n",
    "            if df.at[date,'MA30Slope'] > 1 or df.loc[date,'RS'] > 0.1:\n",
    "                if df.at[date,'Close'] > df.at[date,'MA30']:\n",
    "                    listOfSector.append(df.at[date,'sector'])\n",
    "        except: \n",
    "            print(df.iloc[-1]['ticker'])\n",
    "    goodSectorDf.at[date,'Sectors'] = set(listOfSector)\n"
   ]
  },
  {
   "cell_type": "code",
   "execution_count": null,
   "metadata": {},
   "outputs": [
    {
     "ename": "FileNotFoundError",
     "evalue": "[Errno 2] No such file or directory: 'stockData/industriesData/C/l.pkl'",
     "output_type": "error",
     "traceback": [
      "\u001b[0;31m---------------------------------------------------------------------------\u001b[0m",
      "\u001b[0;31mFileNotFoundError\u001b[0m                         Traceback (most recent call last)",
      "\u001b[1;32m/Users/magician3124/Documents/stageAnalysis/development/testing_StockStageEstimator.ipynb Cell 4'\u001b[0m in \u001b[0;36m<cell line: 1>\u001b[0;34m()\u001b[0m\n\u001b[0;32m----> <a href='vscode-notebook-cell:/Users/magician3124/Documents/stageAnalysis/development/testing_StockStageEstimator.ipynb#ch0000003?line=0'>1</a>\u001b[0m stockStageEstimator\u001b[39m.\u001b[39;49mevalFit(industry, goodSectorDf)\n",
      "File \u001b[0;32m~/Documents/stageAnalysis/development/StockStageEstimator.py:27\u001b[0m, in \u001b[0;36mStockStageEstimator.evalFit\u001b[0;34m(self, tickers, goodSectorDf)\u001b[0m\n\u001b[1;32m     25\u001b[0m df \u001b[39m=\u001b[39m  (industry,\u001b[39mself\u001b[39m\u001b[39m.\u001b[39mparamList,goodSectorDf)\n\u001b[1;32m     26\u001b[0m symbol \u001b[39m=\u001b[39m industry[\u001b[39m1\u001b[39m]\n\u001b[0;32m---> 27\u001b[0m buyDf \u001b[39m=\u001b[39m pd\u001b[39m.\u001b[39;49mread_pickle(\u001b[39m'\u001b[39;49m\u001b[39mstockData/industriesData/\u001b[39;49m\u001b[39m'\u001b[39;49m\u001b[39m+\u001b[39;49m\u001b[39mstr\u001b[39;49m(industry[\u001b[39m0\u001b[39;49m])\u001b[39m+\u001b[39;49m\u001b[39m'\u001b[39;49m\u001b[39m/\u001b[39;49m\u001b[39m'\u001b[39;49m\u001b[39m+\u001b[39;49msymbol\u001b[39m+\u001b[39;49m\u001b[39m'\u001b[39;49m\u001b[39m.pkl\u001b[39;49m\u001b[39m'\u001b[39;49m)\n\u001b[1;32m     28\u001b[0m inStage \u001b[39m=\u001b[39m \u001b[39mFalse\u001b[39;00m\n\u001b[1;32m     29\u001b[0m buyTwice \u001b[39m=\u001b[39m \u001b[39mFalse\u001b[39;00m\n",
      "File \u001b[0;32m~/opt/miniconda3/envs/titanic/lib/python3.10/site-packages/pandas/io/pickle.py:187\u001b[0m, in \u001b[0;36mread_pickle\u001b[0;34m(filepath_or_buffer, compression, storage_options)\u001b[0m\n\u001b[1;32m    124\u001b[0m \u001b[39m\"\"\"\u001b[39;00m\n\u001b[1;32m    125\u001b[0m \u001b[39mLoad pickled pandas object (or any object) from file.\u001b[39;00m\n\u001b[1;32m    126\u001b[0m \n\u001b[0;32m   (...)\u001b[0m\n\u001b[1;32m    184\u001b[0m \u001b[39m4    4    9\u001b[39;00m\n\u001b[1;32m    185\u001b[0m \u001b[39m\"\"\"\u001b[39;00m  \u001b[39m# noqa: E501\u001b[39;00m\n\u001b[1;32m    186\u001b[0m excs_to_catch \u001b[39m=\u001b[39m (\u001b[39mAttributeError\u001b[39;00m, \u001b[39mImportError\u001b[39;00m, \u001b[39mModuleNotFoundError\u001b[39;00m, \u001b[39mTypeError\u001b[39;00m)\n\u001b[0;32m--> 187\u001b[0m \u001b[39mwith\u001b[39;00m get_handle(\n\u001b[1;32m    188\u001b[0m     filepath_or_buffer,\n\u001b[1;32m    189\u001b[0m     \u001b[39m\"\u001b[39;49m\u001b[39mrb\u001b[39;49m\u001b[39m\"\u001b[39;49m,\n\u001b[1;32m    190\u001b[0m     compression\u001b[39m=\u001b[39;49mcompression,\n\u001b[1;32m    191\u001b[0m     is_text\u001b[39m=\u001b[39;49m\u001b[39mFalse\u001b[39;49;00m,\n\u001b[1;32m    192\u001b[0m     storage_options\u001b[39m=\u001b[39;49mstorage_options,\n\u001b[1;32m    193\u001b[0m ) \u001b[39mas\u001b[39;00m handles:\n\u001b[1;32m    194\u001b[0m \n\u001b[1;32m    195\u001b[0m     \u001b[39m# 1) try standard library Pickle\u001b[39;00m\n\u001b[1;32m    196\u001b[0m     \u001b[39m# 2) try pickle_compat (older pandas version) to handle subclass changes\u001b[39;00m\n\u001b[1;32m    197\u001b[0m     \u001b[39m# 3) try pickle_compat with latin-1 encoding upon a UnicodeDecodeError\u001b[39;00m\n\u001b[1;32m    199\u001b[0m     \u001b[39mtry\u001b[39;00m:\n\u001b[1;32m    200\u001b[0m         \u001b[39m# TypeError for Cython complaints about object.__new__ vs Tick.__new__\u001b[39;00m\n\u001b[1;32m    201\u001b[0m         \u001b[39mtry\u001b[39;00m:\n",
      "File \u001b[0;32m~/opt/miniconda3/envs/titanic/lib/python3.10/site-packages/pandas/io/common.py:798\u001b[0m, in \u001b[0;36mget_handle\u001b[0;34m(path_or_buf, mode, encoding, compression, memory_map, is_text, errors, storage_options)\u001b[0m\n\u001b[1;32m    789\u001b[0m         handle \u001b[39m=\u001b[39m \u001b[39mopen\u001b[39m(\n\u001b[1;32m    790\u001b[0m             handle,\n\u001b[1;32m    791\u001b[0m             ioargs\u001b[39m.\u001b[39mmode,\n\u001b[0;32m   (...)\u001b[0m\n\u001b[1;32m    794\u001b[0m             newline\u001b[39m=\u001b[39m\u001b[39m\"\u001b[39m\u001b[39m\"\u001b[39m,\n\u001b[1;32m    795\u001b[0m         )\n\u001b[1;32m    796\u001b[0m     \u001b[39melse\u001b[39;00m:\n\u001b[1;32m    797\u001b[0m         \u001b[39m# Binary mode\u001b[39;00m\n\u001b[0;32m--> 798\u001b[0m         handle \u001b[39m=\u001b[39m \u001b[39mopen\u001b[39;49m(handle, ioargs\u001b[39m.\u001b[39;49mmode)\n\u001b[1;32m    799\u001b[0m     handles\u001b[39m.\u001b[39mappend(handle)\n\u001b[1;32m    801\u001b[0m \u001b[39m# Convert BytesIO or file objects passed with an encoding\u001b[39;00m\n",
      "\u001b[0;31mFileNotFoundError\u001b[0m: [Errno 2] No such file or directory: 'stockData/industriesData/C/l.pkl'"
     ]
    }
   ],
   "source": [
    "stockStageEstimator.evalFit(industry, goodSectorDf)"
   ]
  },
  {
   "cell_type": "code",
   "execution_count": null,
   "metadata": {},
   "outputs": [],
   "source": []
  }
 ],
 "metadata": {
  "kernelspec": {
   "display_name": "Python 3.9.12 ('bob')",
   "language": "python",
   "name": "python3"
  },
  "language_info": {
   "codemirror_mode": {
    "name": "ipython",
    "version": 3
   },
   "file_extension": ".py",
   "mimetype": "text/x-python",
   "name": "python",
   "nbconvert_exporter": "python",
   "pygments_lexer": "ipython3",
   "version": "3.9.12"
  },
  "orig_nbformat": 4,
  "vscode": {
   "interpreter": {
    "hash": "6657940dfaab8f9d755edcd72311f816a4bc8ab5158c0ad6baa23c15368a8c1a"
   }
  }
 },
 "nbformat": 4,
 "nbformat_minor": 2
}
