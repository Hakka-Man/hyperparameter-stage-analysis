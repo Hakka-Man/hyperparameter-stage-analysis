{
 "cells": [
  {
   "cell_type": "code",
   "execution_count": 11,
   "metadata": {},
   "outputs": [],
   "source": [
    "import yfinance as yf\n",
    "import pandas as pd\n",
    "from difflib import SequenceMatcher\n",
    "stockList = pd.read_pickle(\"datasets/tickerList.pkl\")"
   ]
  },
  {
   "cell_type": "code",
   "execution_count": 14,
   "metadata": {},
   "outputs": [
    {
     "name": "stdout",
     "output_type": "stream",
     "text": [
      "PDLI\n",
      "SINA\n",
      "DISCA\n",
      "SPAR\n",
      "ETFC\n",
      "NIHD\n",
      "YRCW\n",
      "XLNX\n",
      "CELG\n",
      "AAXN\n",
      "CPST\n",
      "EUHMF\n",
      "AGN\n",
      "STI\n",
      "BMS\n",
      "PJC\n",
      "YGEHY\n",
      "BBT\n",
      "RTN\n",
      "CTL\n",
      "DCMYY\n",
      "KNMCY\n",
      "LB\n",
      "JCP\n",
      "STVVY\n",
      "EP_pc\n",
      "CBS\n",
      "BLL\n",
      "AKS\n",
      "BFb\n",
      "SNE\n",
      "WFTIQ\n",
      "JEC\n",
      "VAR\n",
      "VIAB\n",
      "MDP\n",
      "DF\n",
      "AVP\n",
      "UTX\n",
      "WYND\n",
      "NBL\n",
      "FTR\n",
      "FII\n",
      "TIF\n",
      "FLIR\n",
      "ICAYY\n",
      "LARRF\n",
      "DNR\n",
      "AMPLQ\n",
      "CPL\n",
      "CERN\n",
      "CCMP\n",
      "MXIM\n",
      "MYL\n",
      "ALXN\n",
      "BRKb\n",
      "COG\n",
      "QEP\n",
      "RRD\n",
      "CRR\n",
      "WTR\n",
      "CREE\n",
      "DNKN\n",
      "ESFOF\n",
      "ACETQ\n",
      "AGHC\n",
      "AEGN\n",
      "AKRX\n",
      "ALSK\n",
      "AMAG\n",
      "AMRB\n",
      "ANAT\n",
      "VER\n",
      "AREX\n",
      "ARQL\n",
      "TREC\n",
      "ARTX\n",
      "ASCMA\n",
      "ASFI\n",
      "ASNA\n",
      "ATEA\n",
      "ATRM\n",
      "DVCR\n",
      "BASI\n",
      "BCOM\n",
      "BCRX\n"
     ]
    }
   ],
   "source": [
    "stockIndustryDict = dict()\n",
    "yfIndustryList = []\n",
    "for stock in stockList:\n",
    "    try:\n",
    "        stockIndustryDict[stock] = yf.Ticker(stock).info['industry']\n",
    "        yfIndustryList.append(stockIndustryDict[stock])\n",
    "    except:\n",
    "        print(stock)"
   ]
  },
  {
   "cell_type": "code",
   "execution_count": null,
   "metadata": {},
   "outputs": [],
   "source": []
  }
 ],
 "metadata": {
  "kernelspec": {
   "display_name": "Python 3.9.13 ('bob')",
   "language": "python",
   "name": "python3"
  },
  "language_info": {
   "codemirror_mode": {
    "name": "ipython",
    "version": 3
   },
   "file_extension": ".py",
   "mimetype": "text/x-python",
   "name": "python",
   "nbconvert_exporter": "python",
   "pygments_lexer": "ipython3",
   "version": "3.9.13"
  },
  "orig_nbformat": 4,
  "vscode": {
   "interpreter": {
    "hash": "cef17d8e0b693fce01e9f1f72b9414a3311abac1f5b34dcfc301a056a5e7bd77"
   }
  }
 },
 "nbformat": 4,
 "nbformat_minor": 2
}
