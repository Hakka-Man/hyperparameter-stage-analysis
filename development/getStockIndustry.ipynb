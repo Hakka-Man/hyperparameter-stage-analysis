{
 "cells": [
  {
   "cell_type": "code",
   "execution_count": 1,
   "metadata": {},
   "outputs": [],
   "source": [
    "import yfinance as yf\n",
    "import pandas as pd\n",
    "import pickle\n",
    "from tqdm import tqdm_notebook\n",
    "import os\n",
    "stockList = pd.read_pickle(\"datasets/tickerList.pkl\")"
   ]
  },
  {
   "cell_type": "code",
   "execution_count": null,
   "metadata": {},
   "outputs": [],
   "source": [
    "stockIndustryDict = pd.read_pickle(\"datasets/stockIndustryDict.pkl\")\n",
    "yfIndustryList = pd.read_pickle(\"datasets/yfIndustryList.pkl\")"
   ]
  },
  {
   "cell_type": "code",
   "execution_count": null,
   "metadata": {},
   "outputs": [],
   "source": [
    "for i in tqdm_notebook(range(len(stockList))):\n",
    "    try:\n",
    "        stockIndustryDict[stockList[i]] = yf.Ticker(stockList[i]).info['industry']\n",
    "        yfIndustryList.append(stockIndustryDict[stockList[i]])\n",
    "    except:\n",
    "        print(stockList[i])"
   ]
  },
  {
   "cell_type": "code",
   "execution_count": null,
   "metadata": {},
   "outputs": [],
   "source": [
    "with open('datasets/stockIndustryDict.pkl', 'wb') as handle:\n",
    "    pickle.dump(stockIndustryDict, handle, protocol=pickle.HIGHEST_PROTOCOL)\n",
    "with open('datasets/yfIndustryList.pkl', 'wb') as handle:\n",
    "    pickle.dump(yfIndustryList, handle, protocol=pickle.HIGHEST_PROTOCOL)"
   ]
  },
  {
   "cell_type": "code",
   "execution_count": 2,
   "metadata": {},
   "outputs": [],
   "source": [
    "# opening the file in read mode\n",
    "my_file = open(\"datasets/badStock.txt\", \"r\")\n",
    "  \n",
    "# reading the file\n",
    "data = my_file.read()\n",
    "  \n",
    "# replacing end splitting the text \n",
    "# when newline ('\\n') is seen.\n",
    "data_into_list = data.split(\"\\n\")"
   ]
  },
  {
   "cell_type": "code",
   "execution_count": null,
   "metadata": {},
   "outputs": [],
   "source": [
    "stockList = list(stockList)"
   ]
  },
  {
   "cell_type": "code",
   "execution_count": 3,
   "metadata": {},
   "outputs": [],
   "source": [
    "for badStock in data_into_list:\n",
    "    stockList.remove(badStock)\n",
    "    os.remove('datasets/stockData/'+badStock+'.feather')"
   ]
  },
  {
   "cell_type": "code",
   "execution_count": null,
   "metadata": {},
   "outputs": [],
   "source": [
    "stockList = pd.DataFrame(stockList)"
   ]
  },
  {
   "cell_type": "code",
   "execution_count": null,
   "metadata": {},
   "outputs": [],
   "source": [
    "stockList.to_pickle(\"datasets/tickerList.pkl\")"
   ]
  },
  {
   "cell_type": "code",
   "execution_count": null,
   "metadata": {},
   "outputs": [],
   "source": []
  }
 ],
 "metadata": {
  "kernelspec": {
   "display_name": "Python 3.9.13 ('bob')",
   "language": "python",
   "name": "python3"
  },
  "language_info": {
   "codemirror_mode": {
    "name": "ipython",
    "version": 3
   },
   "file_extension": ".py",
   "mimetype": "text/x-python",
   "name": "python",
   "nbconvert_exporter": "python",
   "pygments_lexer": "ipython3",
   "version": "3.9.13"
  },
  "orig_nbformat": 4,
  "vscode": {
   "interpreter": {
    "hash": "cef17d8e0b693fce01e9f1f72b9414a3311abac1f5b34dcfc301a056a5e7bd77"
   }
  }
 },
 "nbformat": 4,
 "nbformat_minor": 2
}
