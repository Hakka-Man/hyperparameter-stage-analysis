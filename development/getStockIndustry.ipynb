{
 "cells": [
  {
   "cell_type": "code",
   "execution_count": 15,
   "metadata": {},
   "outputs": [],
   "source": [
    "import yfinance as yf\n",
    "import pandas as pd\n",
    "import pickle\n",
    "from tqdm import tqdm_notebook\n",
    "from difflib import SequenceMatcher\n",
    "stockList = pd.read_pickle(\"datasets/tickerList.pkl\")"
   ]
  },
  {
   "cell_type": "code",
   "execution_count": 17,
   "metadata": {},
   "outputs": [],
   "source": [
    "stockIndustryDict = pd.read_pickle(\"datasets/stockIndustryDict.pkl\")\n",
    "# yfIndustryList = pd.read_pickle(\"datasets/yfIndustryList.pkl\")"
   ]
  },
  {
   "cell_type": "code",
   "execution_count": 24,
   "metadata": {},
   "outputs": [],
   "source": [
    "abbreviationToInvestPYDict = {}\n",
    "with open('datasets/industryToIVP.txt') as f:\n",
    "    lines = f.readlines()\n",
    "for l in lines:\n",
    "    l = l.strip()\n",
    "    item = l.split(',')\n",
    "    abbreviationToInvestPYDict[item[0]] = item[1]\n",
    "abbreviationToInvestPYDict['$DJUSPL'] = 'DJPipelines'\n"
   ]
  },
  {
   "cell_type": "code",
   "execution_count": 27,
   "metadata": {},
   "outputs": [],
   "source": [
    "stockToInvestPYDict = {}\n",
    "for stock in stockIndustryDict.items():\n",
    "    investPYIndustry = abbreviationToInvestPYDict[stock[1]]\n",
    "    stockToInvestPYDict[stock[0]] = investPYIndustry"
   ]
  },
  {
   "cell_type": "code",
   "execution_count": 35,
   "metadata": {},
   "outputs": [],
   "source": [
    "from pickle import HIGHEST_PROTOCOL\n",
    "\n",
    "\n",
    "industryList = pd.read_pickle('datasets/industryList.pkl')\n",
    "uniqueIndustryList = list(set(stockToInvestPYDict.values()))\n",
    "industryToTupleDict = {}\n",
    "for uind in uniqueIndustryList:\n",
    "    for ind in industryList:\n",
    "        if ind[1] == uind:\n",
    "            industryToTupleDict[uind] = ind\n",
    "            break\n",
    "for stock in stockIndustryDict.keys():\n",
    "    stockIndustryDict[stock] = industryToTupleDict[stockToInvestPYDict[stock]]\n",
    "with open('datasets/stockToSectorIndustry.pkl', 'wb') as handle:\n",
    "    pickle.dump(stockIndustryDict, handle, protocol=pickle.HIGHEST_PROTOCOL)"
   ]
  },
  {
   "cell_type": "code",
   "execution_count": 44,
   "metadata": {},
   "outputs": [],
   "source": []
  }
 ],
 "metadata": {
  "kernelspec": {
   "display_name": "Python 3.9.13 ('bob')",
   "language": "python",
   "name": "python3"
  },
  "language_info": {
   "codemirror_mode": {
    "name": "ipython",
    "version": 3
   },
   "file_extension": ".py",
   "mimetype": "text/x-python",
   "name": "python",
   "nbconvert_exporter": "python",
   "pygments_lexer": "ipython3",
   "version": "3.9.13"
  },
  "orig_nbformat": 4,
  "vscode": {
   "interpreter": {
    "hash": "cef17d8e0b693fce01e9f1f72b9414a3311abac1f5b34dcfc301a056a5e7bd77"
   }
  }
 },
 "nbformat": 4,
 "nbformat_minor": 2
}
