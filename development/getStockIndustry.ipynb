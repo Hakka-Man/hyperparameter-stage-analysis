{
 "cells": [
  {
   "cell_type": "code",
   "execution_count": 15,
   "metadata": {},
   "outputs": [],
   "source": [
    "import yfinance as yf\n",
    "import pandas as pd\n",
    "import pickle\n",
    "from tqdm import tqdm_notebook\n",
    "from difflib import SequenceMatcher\n",
    "stockList = pd.read_pickle(\"datasets/tickerList.pkl\")"
   ]
  },
  {
   "cell_type": "code",
   "execution_count": 17,
   "metadata": {},
   "outputs": [],
   "source": [
    "stockIndustryDict = pd.read_pickle(\"datasets/stockIndustryDict.pkl\")\n",
    "# yfIndustryList = pd.read_pickle(\"datasets/yfIndustryList.pkl\")"
   ]
  },
  {
   "cell_type": "code",
   "execution_count": 21,
   "metadata": {},
   "outputs": [],
   "source": [
    "stockList.to_pickle(\"datasets/tickerList.pkl\")"
   ]
  },
  {
   "cell_type": "code",
   "execution_count": 24,
   "metadata": {},
   "outputs": [],
   "source": [
    "abbreviationToInvestPYDict = {}\n",
    "with open('datasets/industryToIVP.txt') as f:\n",
    "    lines = f.readlines()\n",
    "for l in lines:\n",
    "    l = l.strip()\n",
    "    item = l.split(',')\n",
    "    abbreviationToInvestPYDict[item[0]] = item[1]\n",
    "abbreviationToInvestPYDict['$DJUSPL'] = 'DJPipelines'\n"
   ]
  },
  {
   "cell_type": "code",
   "execution_count": 27,
   "metadata": {},
   "outputs": [],
   "source": [
    "stockToInvestPYDict = {}\n",
    "for stock in stockIndustryDict.items():\n",
    "    investPYIndustry = abbreviationToInvestPYDict[stock[1]]\n",
    "    stockToInvestPYDict[stock[0]] = investPYIndustry"
   ]
  },
  {
   "cell_type": "code",
   "execution_count": 35,
   "metadata": {},
   "outputs": [],
   "source": [
    "from pickle import HIGHEST_PROTOCOL\n",
    "\n",
    "\n",
    "industryList = pd.read_pickle('datasets/industryList.pkl')\n",
    "uniqueIndustryList = list(set(stockToInvestPYDict.values()))\n",
    "industryToTupleDict = {}\n",
    "for uind in uniqueIndustryList:\n",
    "    for ind in industryList:\n",
    "        if ind[1] == uind:\n",
    "            industryToTupleDict[uind] = ind\n",
    "            break\n",
    "for stock in stockIndustryDict.keys():\n",
    "    stockIndustryDict[stock] = industryToTupleDict[stockToInvestPYDict[stock]]\n",
    "with open('datasets/stockToSectorIndustry.pkl', 'wb') as handle:\n",
    "    pickle.dump(stockIndustryDict, handle, protocol=pickle.HIGHEST_PROTOCOL)"
   ]
  },
  {
   "cell_type": "code",
   "execution_count": 11,
   "metadata": {},
   "outputs": [
    {
     "name": "stdout",
     "output_type": "stream",
     "text": [
      "{'Drug Manufacturers—Specialty & Generic': ('XLY', 'DJSpecialtyRetailers'), 'Utilities—Regulated Water': ('XLI', 'DJCommercialVehicles&Trucks'), 'Textile Manufacturing': ('XLK', 'DJSemiconductors'), 'Real Estate—Development': ('XLI', 'DJCommercialVehicles&Trucks'), 'Business Equipment & Supplies': ('XLK', 'DJTechnologyHardware&Equipment'), 'Airlines': ('XLI', 'DJAirlines'), 'Infrastructure Operations': ('XLI', 'DJCommercialVehicles&Trucks'), 'Building Materials Wholesale': ('XLP', 'DJFoodRetail&Wholesale'), 'Gold': ('XLB', 'DJNonferrousMetals'), 'Internet Content & Information': ('XLI', 'DJBuildingMaterials&Fixtures'), 'Consulting Services': ('XLI', 'DJCommercialVehicles&Trucks'), 'Resorts & Casinos': ('XLY', 'DJRestaurants&Bars'), 'REIT—Office': ('XLRE', 'DJIndustrial&OfficeREITs'), 'Medical Care Facilities': ('XLV', 'DJHealthCareProviders'), 'Furnishings, Fixtures & Appliances': ('XLY', 'DJFurnishings'), 'Security & Protection Services': ('XLI', 'DJCommercialVehicles&Trucks'), 'Mortgage Finance': ('XLF', 'DJMortgageFinance'), 'Railroads': ('XLI', 'DJCommercialVehicles&Trucks'), 'Publishing': ('XLY', 'DJSpecialtyRetailers'), 'Trucking': ('XLI', 'DJTrucking'), 'Education & Training Services': ('XLI', 'DJSupportServices'), 'Auto Parts': ('XLK', 'DJSemiconductors'), 'Agricultural Inputs': ('XLI', 'DJBuildingMaterials&Fixtures'), 'Health Information Services': ('XLI', 'DJSupportServices'), 'Uranium': ('XLB', 'DJAluminum'), 'Beverages—Brewers': ('XLP', 'DJBrewers'), 'Utilities—Regulated Electric': ('XLB', 'DJCommodityChemicals'), 'REIT—Diversified': ('XLRE', 'DJDiversifiedREITs'), 'Other Industrial Metals & Mining': ('XLB', 'DJNonferrousMetals'), 'Utilities—Renewable': ('XLI', 'DJBuildingMaterials&Fixtures'), 'Footwear & Accessories': ('XLY', 'DJClothing&Accessories'), 'REIT—Specialty': ('XLRE', 'DJSpecialtyREITs'), 'Home Improvement Retail': ('XLY', 'DJHomeImprovementRetailers'), 'Rental & Leasing Services': ('XLI', 'DJCommercialVehicles&Trucks'), 'Grocery Stores': ('XLY', 'DJSpecialtyRetailers'), 'Conglomerates': ('XLI', 'DJIndustrialSuppliers'), 'Electrical Equipment & Parts': ('XLK', 'DJElectricalComponents&Equipment'), 'Specialty Business Services': ('XLY', 'DJSpecialtyRetailers'), 'Real Estate—Diversified': ('XLI', 'DJDiversifiedIndustrials'), 'Food Distribution': ('XLI', 'DJBuildingMaterials&Fixtures'), 'Other Precious Metals & Mining': ('XLB', 'DJNonferrousMetals'), 'Solar': ('XLB', 'DJAluminum'), 'Medical Distribution': ('XLK', 'DJSoftware'), 'Banks—Regional': ('XLI', 'DJCommercialVehicles&Trucks'), 'Semiconductor Equipment & Materials': ('XLK', 'DJSemiconductors'), 'Semiconductors': ('XLK', 'DJSemiconductors'), 'Biotechnology': ('XLV', 'DJBiotechnology'), 'Coking Coal': ('XLI', 'DJBuildingMaterials&Fixtures'), 'Leisure': ('XLI', 'DJCommercialVehicles&Trucks'), 'Farm & Heavy Construction Machinery': ('XLI', 'DJIndustrialMachinery'), 'REIT—Mortgage': ('XLF', 'DJMortgageFinance'), 'Department Stores': ('XLY', 'DJSpecialtyRetailers'), 'Broadcasting': ('XLC', 'DJBroadcasting&Entertainment'), 'Scientific & Technical Instruments': ('XLV', 'DJBiotechnology'), 'Industrial Distribution': ('XLI', 'DJIndustrialSuppliers'), 'REIT—Industrial': ('XLRE', 'DJIndustrial&OfficeREITs'), 'Software—Application': ('XLK', 'DJSoftware'), 'Auto & Truck Dealerships': ('XLI', 'DJCommercialVehicles&Trucks'), 'Banks—Diversified': ('XLI', 'DJDiversifiedIndustrials'), 'REIT—Hotel & Motel': ('XLRE', 'DJHotel&LodgingREITs'), 'Computer Hardware': ('XLK', 'DJSemiconductors'), 'REIT—Retail': ('XLRE', 'DJRetailREITs'), 'Information Technology Services': ('XLV', 'DJBiotechnology'), 'Travel Services': ('XLI', 'DJCommercialVehicles&Trucks'), 'Insurance—Property & Casualty': ('XLF', 'DJProperty&CasualtyInsurance'), 'Specialty Industrial Machinery': ('XLI', 'DJIndustrialMachinery'), 'Oil & Gas Drilling': ('XLE', 'DJIntegratedOil&Gas'), 'Healthcare Plans': ('XLV', 'DJHealthCareProviders'), 'Medical Devices': ('XLK', 'DJSemiconductors'), 'Chemicals': ('XLB', 'DJSpecialtyChemicals'), 'Metal Fabrication': ('XLI', 'DJBuildingMaterials&Fixtures'), 'Apparel Manufacturing': ('XLY', 'DJApparelRetailers'), 'Gambling': ('XLY', 'DJGambling'), 'Diagnostics & Research': ('XLI', 'DJBuildingMaterials&Fixtures'), 'Packaging & Containers': ('XLB', 'DJContainers&Packaging'), 'Financial Data & Stock Exchanges': ('XLRE', 'DJIndustrial&OfficeREITs'), 'Integrated Freight & Logistics': ('XLB', 'DJContainers&Packaging'), 'Restaurants': ('XLY', 'DJRestaurants&Bars'), 'Farm Products': ('XLI', 'DJBuildingMaterials&Fixtures'), 'Personal Services': ('XLI', 'DJSupportServices'), 'Real Estate Services': ('XLI', 'DJCommercialVehicles&Trucks'), 'Luxury Goods': ('XLI', 'DJCommercialVehicles&Trucks'), 'Beverages—Non-Alcoholic': ('XLB', 'DJNonferrousMetals'), 'Tools & Accessories': ('XLI', 'DJBuildingMaterials&Fixtures'), 'Auto Manufacturers': ('XLY', 'DJSpecialtyRetailers'), 'REIT—Healthcare Facilities': ('XLRE', 'DJHotel&LodgingREITs'), 'Residential Construction': ('XLI', 'DJCommercialVehicles&Trucks'), 'Copper': ('XLB', 'DJNonferrousMetals'), 'Paper & Paper Products': ('XLB', 'DJContainers&Packaging'), 'Utilities—Regulated Gas': ('XLU', 'DJGasDistribution'), 'Insurance Brokers': ('XLF', 'DJInsuranceBrokers'), 'Specialty Retail': ('XLY', 'DJSpecialtyRetailers'), 'Marine Shipping': ('XLI', 'DJMarineTransportation'), 'Silver': ('XLB', 'DJNonferrousMetals'), 'Entertainment': ('XLC', 'DJBroadcasting&Entertainment'), 'Electronics & Computer Distribution': ('XLB', 'DJContainers&Packaging'), 'Capital Markets': ('XLF', 'DJSpecialtyFinance'), 'Waste Management': ('XLI', 'DJWaste&DisposalServices'), 'Thermal Coal': ('XLB', 'DJNonferrousMetals'), 'Electronic Components': ('XLK', 'DJSemiconductors'), 'Tobacco': ('XLP', 'DJTobacco'), 'Financial Conglomerates': ('XLI', 'DJIndustrialSuppliers'), 'Communication Equipment': ('XLK', 'DJSemiconductors'), 'Packaged Foods': ('XLB', 'DJContainers&Packaging'), 'Utilities—Diversified': ('XLI', 'DJDiversifiedIndustrials'), 'Insurance—Life': ('XLF', 'DJProperty&CasualtyInsurance'), 'REIT—Residential': ('XLRE', 'DJRetailREITs'), 'Advertising Agencies': ('XLC', 'DJMediaAgencies'), 'Pharmaceutical Retailers': ('XLP', 'DJDrugRetailers'), 'Medical Instruments & Supplies': ('XLV', 'DJMedicalSupplies'), 'Beverages—Wineries & Distilleries': ('XLP', 'DJDistillers&Vintners'), 'Telecom Services': ('XLK', 'DJTelecomEquipment'), 'Building Products & Equipment': ('XLK', 'DJTechnologyHardware&Equipment'), 'Engineering & Construction': ('XLK', 'DJSemiconductors'), 'Recreational Vehicles': ('XLY', 'DJRecreationalProducts'), 'Asset Management': ('XLF', 'DJAssetManagers'), 'Steel': ('XLK', 'DJSemiconductors'), 'Credit Services': ('XLI', 'DJSupportServices'), 'Oil & Gas Equipment & Services': ('XLE', 'DJIntegratedOil&Gas'), 'Lodging': ('XLRE', 'DJHotel&LodgingREITs'), 'Drug Manufacturers—General': ('XLP', 'DJDrugRetailers'), 'Internet Retail': ('XLY', 'DJSpecialtyRetailers'), 'Discount Stores': ('XLY', 'DJSpecialtyRetailers'), 'Shell Companies': ('XLY', 'DJBroadlineRetailers'), 'Telecom Services - Foreign': ('XLK', 'DJTelecomEquipment'), 'Electronic Gaming & Multimedia': ('XLC', 'DJBroadcasting&Entertainment'), 'Pollution & Treatment Controls': ('XLB', 'DJContainers&Packaging'), 'Aerospace & Defense': ('XLI', 'DJAerospace'), 'Oil & Gas Midstream': ('XLE', 'DJIntegratedOil&Gas'), 'Insurance—Reinsurance': ('XLF', 'DJReinsurance'), 'Household & Personal Products': ('XLY', 'DJDurableHouseholdProducts'), 'Oil & Gas Integrated': ('XLE', 'DJIntegratedOil&Gas'), 'Apparel Retail': ('XLY', 'DJApparelRetailers'), 'Staffing & Employment Services': ('XLY', 'DJBusinessTraining&EmploymentAgencies'), 'Confectioners': ('XLY', 'DJSpecialtyRetailers'), 'Specialty Chemicals': ('XLB', 'DJSpecialtyChemicals'), 'Lumber & Wood Production': ('XLI', 'DJBuildingMaterials&Fixtures'), 'Consumer Electronics': ('XLK', 'DJSemiconductors'), 'Utilities—Independent Power Producers': ('XLV', 'DJHealthCareProviders'), 'Aluminum': ('XLB', 'DJAluminum'), 'Airports & Air Services': ('XLY', 'DJTravel&Tourism'), 'Building Materials': ('XLI', 'DJBuildingMaterials&Fixtures'), 'Oil & Gas Refining & Marketing': ('XLE', 'DJIntegratedOil&Gas'), 'Software—Infrastructure': ('XLI', 'DJBuildingMaterials&Fixtures'), 'Oil & Gas E&P': ('XLE', 'DJIntegratedOil&Gas'), 'Insurance—Diversified': ('XLI', 'DJDiversifiedIndustrials'), 'Insurance—Specialty': ('XLF', 'DJProperty&CasualtyInsurance')}\n"
     ]
    }
   ],
   "source": []
  },
  {
   "cell_type": "code",
   "execution_count": 16,
   "metadata": {},
   "outputs": [
    {
     "data": {
      "text/plain": [
       "0.8827581405639648"
      ]
     },
     "execution_count": 16,
     "metadata": {},
     "output_type": "execute_result"
    }
   ],
   "source": [
    "bertscore.compute(predictions=[\"Airplane\"], references=[\"DJAerospacePlanes\"], lang=\"en\")['precision'][0]"
   ]
  },
  {
   "cell_type": "code",
   "execution_count": 7,
   "metadata": {},
   "outputs": [
    {
     "name": "stdout",
     "output_type": "stream",
     "text": [
      "Thermal Coal\n",
      "Packaging & Containers\n",
      "Semiconductors\n",
      "Business Equipment & Supplies\n",
      "Beverages—Brewers\n",
      "Financial Data & Stock Exchanges\n",
      "Solar\n",
      "Scientific & Technical Instruments\n",
      "Specialty Industrial Machinery\n",
      "Luxury Goods\n",
      "Lumber & Wood Production\n",
      "Insurance—Specialty\n",
      "Furnishings, Fixtures & Appliances\n",
      "Restaurants\n",
      "Diagnostics & Research\n",
      "Tobacco\n",
      "Residential Construction\n",
      "Consumer Electronics\n",
      "Insurance—Property & Casualty\n",
      "Aluminum\n",
      "Integrated Freight & Logistics\n",
      "REIT—Retail\n",
      "Coking Coal\n",
      "Airlines\n",
      "Copper\n",
      "Electrical Equipment & Parts\n",
      "Lodging\n",
      "Mortgage Finance\n",
      "Footwear & Accessories\n",
      "Utilities—Regulated Gas\n",
      "Auto Manufacturers\n",
      "Household & Personal Products\n",
      "Telecom Services - Foreign\n",
      "Tools & Accessories\n",
      "Railroads\n",
      "REIT—Healthcare Facilities\n",
      "Travel Services\n",
      "Semiconductor Equipment & Materials\n",
      "REIT—Office\n",
      "Farm & Heavy Construction Machinery\n",
      "Internet Retail\n",
      "Utilities—Regulated Water\n",
      "Software—Infrastructure\n",
      "Utilities—Independent Power Producers\n",
      "Entertainment\n",
      "Banks—Regional\n",
      "Internet Content & Information\n",
      "Utilities—Diversified\n",
      "Banks—Diversified\n",
      "Oil & Gas Integrated\n",
      "Infrastructure Operations\n",
      "Drug Manufacturers—Specialty & Generic\n",
      "Medical Instruments & Supplies\n",
      "Beverages—Wineries & Distilleries\n",
      "Gambling\n",
      "Drug Manufacturers—General\n",
      "Food Distribution\n",
      "Medical Care Facilities\n",
      "Trucking\n",
      "Staffing & Employment Services\n",
      "Advertising Agencies\n",
      "Broadcasting\n",
      "Financial Conglomerates\n",
      "Confectioners\n",
      "Auto Parts\n",
      "Electronic Components\n",
      "Leisure\n",
      "Education & Training Services\n",
      "Medical Distribution\n",
      "Oil & Gas Equipment & Services\n",
      "Building Materials\n",
      "Department Stores\n",
      "REIT—Residential\n",
      "Asset Management\n",
      "Oil & Gas E&P\n",
      "Conglomerates\n",
      "REIT—Mortgage\n",
      "Steel\n",
      "Building Products & Equipment\n",
      "Consulting Services\n",
      "Shell Companies\n",
      "Marine Shipping\n",
      "Insurance—Life\n",
      "Textile Manufacturing\n",
      "Utilities—Regulated Electric\n",
      "Health Information Services\n",
      "Pharmaceutical Retailers\n",
      "Real Estate—Development\n",
      "Credit Services\n",
      "Discount Stores\n",
      "Apparel Manufacturing\n",
      "Oil & Gas Drilling\n",
      "Personal Services\n",
      "Oil & Gas Midstream\n",
      "Insurance Brokers\n",
      "REIT—Hotel & Motel\n",
      "Electronics & Computer Distribution\n",
      "Rental & Leasing Services\n",
      "Utilities—Renewable\n",
      "Engineering & Construction\n",
      "Uranium\n",
      "Chemicals\n",
      "Computer Hardware\n",
      "Insurance—Diversified\n",
      "Farm Products\n",
      "Airports & Air Services\n",
      "Packaged Foods\n",
      "Auto & Truck Dealerships\n",
      "Recreational Vehicles\n",
      "Communication Equipment\n",
      "Capital Markets\n",
      "Grocery Stores\n",
      "Waste Management\n",
      "REIT—Industrial\n",
      "Industrial Distribution\n",
      "REIT—Specialty\n",
      "Building Materials Wholesale\n",
      "Electronic Gaming & Multimedia\n",
      "Specialty Business Services\n",
      "Silver\n",
      "Specialty Retail\n",
      "Biotechnology\n",
      "Resorts & Casinos\n",
      "Real Estate Services\n",
      "Security & Protection Services\n",
      "Oil & Gas Refining & Marketing\n",
      "Healthcare Plans\n",
      "Metal Fabrication\n",
      "Medical Devices\n",
      "Agricultural Inputs\n",
      "Paper & Paper Products\n",
      "Telecom Services\n",
      "Other Industrial Metals & Mining\n",
      "Software—Application\n",
      "Information Technology Services\n",
      "Pollution & Treatment Controls\n",
      "Gold\n",
      "Other Precious Metals & Mining\n",
      "Home Improvement Retail\n",
      "Beverages—Non-Alcoholic\n",
      "Real Estate—Diversified\n",
      "Aerospace & Defense\n",
      "Publishing\n",
      "Apparel Retail\n",
      "REIT—Diversified\n",
      "Insurance—Reinsurance\n",
      "Specialty Chemicals\n"
     ]
    }
   ],
   "source": [
    "for yfInd in yfIndustryList:\n",
    "    print(yfInd)"
   ]
  },
  {
   "cell_type": "code",
   "execution_count": 44,
   "metadata": {},
   "outputs": [],
   "source": []
  }
 ],
 "metadata": {
  "kernelspec": {
   "display_name": "Python 3.9.13 ('bob')",
   "language": "python",
   "name": "python3"
  },
  "language_info": {
   "codemirror_mode": {
    "name": "ipython",
    "version": 3
   },
   "file_extension": ".py",
   "mimetype": "text/x-python",
   "name": "python",
   "nbconvert_exporter": "python",
   "pygments_lexer": "ipython3",
   "version": "3.9.13"
  },
  "orig_nbformat": 4,
  "vscode": {
   "interpreter": {
    "hash": "cef17d8e0b693fce01e9f1f72b9414a3311abac1f5b34dcfc301a056a5e7bd77"
   }
  }
 },
 "nbformat": 4,
 "nbformat_minor": 2
}
