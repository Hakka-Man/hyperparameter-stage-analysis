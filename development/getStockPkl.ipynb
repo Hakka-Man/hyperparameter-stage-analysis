{
 "cells": [
  {
   "cell_type": "code",
   "execution_count": 2,
   "metadata": {},
   "outputs": [],
   "source": [
    "import pandas as pd\n",
    "import numpy as np\n",
    "from stage import getStage, fullPrint\n",
    "import pickle\n",
    "from datetime import datetime, timedelta\n",
    "now = datetime.now()\n",
    "import investpy\n",
    "import os\n",
    "import time"
   ]
  },
  {
   "cell_type": "code",
   "execution_count": 10,
   "metadata": {},
   "outputs": [],
   "source": [
    "stockList = investpy.stocks.get_stocks(country = 'United States')['symbol']\n",
    "stockList.to_pickle(\"stockData/tickerList.pkl\")"
   ]
  },
  {
   "cell_type": "code",
   "execution_count": 15,
   "metadata": {},
   "outputs": [
    {
     "name": "stdout",
     "output_type": "stream",
     "text": [
      "SHLDQ\n",
      "SINA\n",
      "EUHMF\n",
      "HSY\n",
      "TDC\n",
      "UTX\n",
      "THC\n",
      "TIF\n",
      "LNN\n",
      "LARRF\n",
      "MDRX\n",
      "AMPLQ\n",
      "WACLY\n",
      "ESFOF\n",
      "APWC\n",
      "ASTI\n",
      "ATEC\n",
      "JD\n",
      "GLBZ\n",
      "HSII\n",
      "MCEP\n",
      "MDCO\n",
      "NURO\n",
      "ELMD\n",
      "DIT\n",
      "DSS\n",
      "RIF\n",
      "TMP\n",
      "ELLO\n"
     ]
    }
   ],
   "source": [
    "for symbol in stockList:\n",
    "  time.sleep(5)\n",
    "  df = pd.DataFrame()\n",
    "  try:\n",
    "    df = investpy.stocks.get_stock_historical_data(symbol, 'United States', '01/01/2000', '01/01/2022', as_json=False, order='ascending', interval='Weekly')\n",
    "    df.to_pickle(\"stockData/stockPkl/\"+symbol+\".pkl\")\n",
    "  except:\n",
    "    print(symbol)"
   ]
  },
  {
   "cell_type": "code",
   "execution_count": 10,
   "metadata": {},
   "outputs": [],
   "source": [
    "industries = dict()\n",
    "with open('stockData/industries.txt', 'r') as f:\n",
    "    currentSector = \"\"\n",
    "    for line in f:\n",
    "        if \"XL\" in line:\n",
    "            currentSector = line.strip()\n",
    "            industries[currentSector] = list()\n",
    "        elif line.strip() == \"\":\n",
    "            continue\n",
    "        else:\n",
    "            industries[currentSector].append(line.strip())\n",
    "            "
   ]
  },
  {
   "cell_type": "code",
   "execution_count": 11,
   "metadata": {},
   "outputs": [],
   "source": [
    "for key in industries.keys():\n",
    "    if not os.path.exists(\"stockData/industriesData/\"+key):\n",
    "        os.mkdir(\"stockData/industriesData/\"+key)\n",
    "    for industry in industries[key]:\n",
    "        time.sleep(3)\n",
    "        df = pd.DataFrame()\n",
    "        df = investpy.indices.get_index_historical_data(industry, 'United States', '01/01/2010', '01/01/2022', as_json=False, order='ascending', interval='Weekly')\n",
    "        industry = industry.replace(\" \", \"\")\n",
    "        df.to_pickle(\"stockData/industriesData/\"+key+\"/\"+industry+\".pkl\")"
   ]
  },
  {
   "cell_type": "code",
   "execution_count": 12,
   "metadata": {},
   "outputs": [
    {
     "name": "stdout",
     "output_type": "stream",
     "text": [
      "XLP DJTobacco\n",
      "XLP DJSoftDrinks\n",
      "XLP DJDrugRetailers\n",
      "XLP DJDistillers&Vintners\n",
      "XLP DJFoodProductMakers\n",
      "XLP DJFoodRetail&Wholesale\n",
      "XLP DJNondurableHousehold\n",
      "XLP DJBrewers\n",
      "XLP DJPersonalProducts\n",
      "XLU DJGasDistribution\n",
      "XLU DJMultiutilities\n",
      "XLU DJConventionalElectricity\n",
      "XLU DJWater\n",
      "XLV DJPharmaceuticals\n",
      "XLV DJMedicalSupplies\n",
      "XLV DJHealthCareProviders\n",
      "XLV DJMedicalEquipment\n",
      "XLV DJBiotechnology\n",
      "XLF DJFinancialAdministration\n",
      "XLF DJInsuranceBrokers\n",
      "XLF DJSpecialtyFinance\n",
      "XLF DJFullLineInsurance\n",
      "XLF DJConsumerFinance\n",
      "XLF DJAssetManagers\n",
      "XLF DJInvestmentServices\n",
      "XLF DJReinsurance\n",
      "XLF DJProperty&CasualtyInsurance\n",
      "XLF DJLifeInsurance\n",
      "XLF DJMortgageFinance\n",
      "XLF DJBanks\n",
      "XLE DJCoal\n",
      "XLE DJIntegratedOil&Gas\n",
      "XLE DJPipelines\n",
      "XLE DJExploration&Production\n",
      "XLE DJOilEquipment&Services\n",
      "XLI DJTrucking\n",
      "XLI DJRailroads\n",
      "XLI DJDefense\n",
      "XLI DJMarineTransportation\n",
      "XLI DJIndustrialMachinery\n",
      "XLI DJDiversifiedIndustrials\n",
      "XLI DJWaste&DisposalServices\n",
      "XLI DJHeavyConstruction\n",
      "XLI DJBuildingMaterials&Fixtures\n",
      "XLI DJTransportationServices\n",
      "XLI DJAerospace\n",
      "XLI DJDeliveryServices\n",
      "XLI DJCommercialVehicles&Trucks\n",
      "XLI DJIndustrialSuppliers\n",
      "XLI DJSupportServices\n",
      "XLI DJAirlines\n",
      "XLC DJMediaAgencies\n",
      "XLC DJInternet\n",
      "XLC DJPublishing\n",
      "XLC DJBroadcasting&Entertainment\n",
      "XLC DJMobileTelecom\n",
      "XLC DJFixedLineTelecom\n",
      "XLB DJIron&Steel\n",
      "XLB DJNonferrousMetals\n",
      "XLB DJCommodityChemicals\n",
      "XLB DJAluminum\n",
      "XLB DJContainers&Packaging\n",
      "XLB DJSpecialtyChemicals\n",
      "XLB DJPaper\n",
      "XLB DJMining\n",
      "XLB DJGoldMining\n",
      "XLRE DJREServices\n",
      "XLRE DJIndustrial&OfficeREITs\n",
      "XLRE DJSpecialtyREITs\n",
      "XLRE DJResidential\n",
      "XLRE DJRetailREITs\n",
      "XLRE DJDiversifiedREITs\n",
      "XLRE DJHotel&LodgingREITs\n",
      "XLRE DJMortgage\n",
      "XLRE DJRealEstateHolding&Development\n",
      "XLK DJSemiconductors\n",
      "XLK DJTechnologyHardware&Equipment\n",
      "XLK DJSoftware\n",
      "XLK DJElectronicEquipment\n",
      "XLK DJElectricalComponents&Equipment\n",
      "XLK DJComputerServices\n",
      "XLK DJTelecomEquipment\n",
      "XLY DJAutomobiles\n",
      "XLY DJRecreationalServices\n",
      "XLY DJBroadlineRetailers\n",
      "XLY DJTires\n",
      "XLY DJFootwear\n",
      "XLY DJTravel&Tourism\n",
      "XLY DJSpecialtyRetailers\n",
      "XLY DJHomeConstruction\n",
      "XLY DJAutoPartsMakers\n",
      "XLY DJBusinessTraining&EmploymentAgencies\n",
      "XLY DJClothing&Accessories\n",
      "XLY DJRestaurants&Bars\n",
      "XLY DJHomeImprovementRetailers\n",
      "XLY DJFurnishings\n",
      "XLY DJSpecializedConsumerServices\n",
      "XLY DJHotels\n",
      "XLY DJRecreationalProducts\n",
      "XLY DJGambling\n",
      "XLY DJDurableHouseholdProducts\n",
      "XLY DJToys\n",
      "XLY DJApparelRetailers\n",
      "{'DJTobacco': 'XLP', 'DJSoftDrinks': 'XLP', 'DJDrugRetailers': 'XLP', 'DJDistillers&Vintners': 'XLP', 'DJFoodProductMakers': 'XLP', 'DJFoodRetail&Wholesale': 'XLP', 'DJNondurableHousehold': 'XLP', 'DJBrewers': 'XLP', 'DJPersonalProducts': 'XLP', 'DJGasDistribution': 'XLU', 'DJMultiutilities': 'XLU', 'DJConventionalElectricity': 'XLU', 'DJWater': 'XLU', 'DJPharmaceuticals': 'XLV', 'DJMedicalSupplies': 'XLV', 'DJHealthCareProviders': 'XLV', 'DJMedicalEquipment': 'XLV', 'DJBiotechnology': 'XLV', 'DJFinancialAdministration': 'XLF', 'DJInsuranceBrokers': 'XLF', 'DJSpecialtyFinance': 'XLF', 'DJFullLineInsurance': 'XLF', 'DJConsumerFinance': 'XLF', 'DJAssetManagers': 'XLF', 'DJInvestmentServices': 'XLF', 'DJReinsurance': 'XLF', 'DJProperty&CasualtyInsurance': 'XLF', 'DJLifeInsurance': 'XLF', 'DJMortgageFinance': 'XLF', 'DJBanks': 'XLF', 'DJCoal': 'XLE', 'DJIntegratedOil&Gas': 'XLE', 'DJPipelines': 'XLE', 'DJExploration&Production': 'XLE', 'DJOilEquipment&Services': 'XLE', 'DJTrucking': 'XLI', 'DJRailroads': 'XLI', 'DJDefense': 'XLI', 'DJMarineTransportation': 'XLI', 'DJIndustrialMachinery': 'XLI', 'DJDiversifiedIndustrials': 'XLI', 'DJWaste&DisposalServices': 'XLI', 'DJHeavyConstruction': 'XLI', 'DJBuildingMaterials&Fixtures': 'XLI', 'DJTransportationServices': 'XLI', 'DJAerospace': 'XLI', 'DJDeliveryServices': 'XLI', 'DJCommercialVehicles&Trucks': 'XLI', 'DJIndustrialSuppliers': 'XLI', 'DJSupportServices': 'XLI', 'DJAirlines': 'XLI', 'DJMediaAgencies': 'XLC', 'DJInternet': 'XLC', 'DJPublishing': 'XLC', 'DJBroadcasting&Entertainment': 'XLC', 'DJMobileTelecom': 'XLC', 'DJFixedLineTelecom': 'XLC', 'DJIron&Steel': 'XLB', 'DJNonferrousMetals': 'XLB', 'DJCommodityChemicals': 'XLB', 'DJAluminum': 'XLB', 'DJContainers&Packaging': 'XLB', 'DJSpecialtyChemicals': 'XLB', 'DJPaper': 'XLB', 'DJMining': 'XLB', 'DJGoldMining': 'XLB', 'DJREServices': 'XLRE', 'DJIndustrial&OfficeREITs': 'XLRE', 'DJSpecialtyREITs': 'XLRE', 'DJResidential': 'XLRE', 'DJRetailREITs': 'XLRE', 'DJDiversifiedREITs': 'XLRE', 'DJHotel&LodgingREITs': 'XLRE', 'DJMortgage': 'XLRE', 'DJRealEstateHolding&Development': 'XLRE', 'DJSemiconductors': 'XLK', 'DJTechnologyHardware&Equipment': 'XLK', 'DJSoftware': 'XLK', 'DJElectronicEquipment': 'XLK', 'DJElectricalComponents&Equipment': 'XLK', 'DJComputerServices': 'XLK', 'DJTelecomEquipment': 'XLK', 'DJAutomobiles': 'XLY', 'DJRecreationalServices': 'XLY', 'DJBroadlineRetailers': 'XLY', 'DJTires': 'XLY', 'DJFootwear': 'XLY', 'DJTravel&Tourism': 'XLY', 'DJSpecialtyRetailers': 'XLY', 'DJHomeConstruction': 'XLY', 'DJAutoPartsMakers': 'XLY', 'DJBusinessTraining&EmploymentAgencies': 'XLY', 'DJClothing&Accessories': 'XLY', 'DJRestaurants&Bars': 'XLY', 'DJHomeImprovementRetailers': 'XLY', 'DJFurnishings': 'XLY', 'DJSpecializedConsumerServices': 'XLY', 'DJHotels': 'XLY', 'DJRecreationalProducts': 'XLY', 'DJGambling': 'XLY', 'DJDurableHouseholdProducts': 'XLY', 'DJToys': 'XLY', 'DJApparelRetailers': 'XLY'}\n"
     ]
    }
   ],
   "source": [
    "industryList = []\n",
    "sectorOfIndustry = {}\n",
    "for sector in industries.keys():\n",
    "    for industry in industries[sector]:\n",
    "        industryList.append((sector,industry.replace(\" \",\"\")))\n",
    "        sectorOfIndustry[industry.replace(\" \",\"\")] = sector\n",
    "for element in industryList:\n",
    "    print(element[0],element[1])\n",
    "print(sectorOfIndustry)"
   ]
  },
  {
   "cell_type": "code",
   "execution_count": 13,
   "metadata": {},
   "outputs": [],
   "source": [
    "with open('stockData/industryDict.pkl', 'wb') as handle:\n",
    "    pickle.dump(industries, handle, protocol=pickle.HIGHEST_PROTOCOL)\n",
    "with open('stockData/industryList.pkl', 'wb') as handle:\n",
    "    pickle.dump(industryList, handle, protocol=pickle.HIGHEST_PROTOCOL)\n",
    "with open('stockData/sectorOfIndustry.pkl', 'wb') as handle:\n",
    "    pickle.dump(industryList, handle, protocol=pickle.HIGHEST_PROTOCOL)"
   ]
  },
  {
   "cell_type": "code",
   "execution_count": 14,
   "metadata": {},
   "outputs": [
    {
     "data": {
      "text/plain": [
       "DatetimeIndex(['2010-01-03', '2010-01-10', '2010-01-17', '2010-01-24',\n",
       "               '2010-01-31', '2010-02-07', '2010-02-14', '2010-02-21',\n",
       "               '2010-02-28', '2010-03-07',\n",
       "               ...\n",
       "               '2021-10-24', '2021-10-31', '2021-11-07', '2021-11-14',\n",
       "               '2021-11-21', '2021-11-28', '2021-12-05', '2021-12-12',\n",
       "               '2021-12-19', '2021-12-26'],\n",
       "              dtype='datetime64[ns]', name='Date', length=626, freq=None)"
      ]
     },
     "execution_count": 14,
     "metadata": {},
     "output_type": "execute_result"
    }
   ],
   "source": [
    "df = pd.read_pickle('stockData/industriesData/XLB/DJMining.pkl')\n",
    "df.index"
   ]
  },
  {
   "cell_type": "code",
   "execution_count": null,
   "metadata": {},
   "outputs": [],
   "source": []
  }
 ],
 "metadata": {
  "kernelspec": {
   "display_name": "Python 3.9.13",
   "language": "python",
   "name": "python3"
  },
  "language_info": {
   "codemirror_mode": {
    "name": "ipython",
    "version": 3
   },
   "file_extension": ".py",
   "mimetype": "text/x-python",
   "name": "python",
   "nbconvert_exporter": "python",
   "pygments_lexer": "ipython3",
   "version": "3.9.13"
  },
  "orig_nbformat": 4,
  "vscode": {
   "interpreter": {
    "hash": "cef17d8e0b693fce01e9f1f72b9414a3311abac1f5b34dcfc301a056a5e7bd77"
   }
  }
 },
 "nbformat": 4,
 "nbformat_minor": 2
}
