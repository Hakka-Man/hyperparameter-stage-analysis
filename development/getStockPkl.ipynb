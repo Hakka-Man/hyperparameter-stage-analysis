{
 "cells": [
  {
   "cell_type": "code",
   "execution_count": 1,
   "metadata": {},
   "outputs": [],
   "source": [
    "import pandas as pd\n",
    "import numpy as np\n",
    "from stage import getStage, fullPrint\n",
    "import pickle\n",
    "from datetime import datetime, timedelta\n",
    "now = datetime.now()\n",
    "import investpy\n",
    "import os\n",
    "import time"
   ]
  },
  {
   "cell_type": "code",
   "execution_count": 2,
   "metadata": {},
   "outputs": [],
   "source": [
    "stockList = investpy.stocks.get_stocks(country = 'United States')['symbol']\n",
    "missingStocks = []"
   ]
  },
  {
   "cell_type": "code",
   "execution_count": 3,
   "metadata": {},
   "outputs": [],
   "source": [
    "for symbol in stockList:\n",
    "  time.sleep(3)\n",
    "  df = pd.DataFrame()\n",
    "  try:\n",
    "    df = investpy.stocks.get_stock_historical_data(symbol, 'United States', '01/01/2010', '01/01/2022', as_json=False, order='ascending', interval='Weekly')\n",
    "    df.to_pickle(\"stockData/stockPkl/\"+symbol+\".pkl\")\n",
    "  except:\n",
    "    missingStocks.append(symbol)\n",
    "    print(symbol)"
   ]
  },
  {
   "cell_type": "code",
   "execution_count": 4,
   "metadata": {},
   "outputs": [],
   "source": [
    "for stock in missingStocks:\n",
    "  stockList = stockList.drop(stockList[stockList == stock].index)"
   ]
  },
  {
   "cell_type": "code",
   "execution_count": 5,
   "metadata": {},
   "outputs": [],
   "source": [
    "stockList.to_pickle(\"stockData/tickerList.pkl\")"
   ]
  },
  {
   "cell_type": "code",
   "execution_count": 6,
   "metadata": {},
   "outputs": [
    {
     "data": {
      "text/plain": [
       "DatetimeIndex(['2010-01-03', '2010-01-10', '2010-01-17', '2010-01-24',\n",
       "               '2010-01-31', '2010-02-07', '2010-02-14', '2010-02-21',\n",
       "               '2010-02-28', '2010-03-07',\n",
       "               ...\n",
       "               '2021-10-24', '2021-10-31', '2021-11-07', '2021-11-14',\n",
       "               '2021-11-21', '2021-11-28', '2021-12-05', '2021-12-12',\n",
       "               '2021-12-19', '2021-12-26'],\n",
       "              dtype='datetime64[ns]', name='Date', length=626, freq=None)"
      ]
     },
     "execution_count": 6,
     "metadata": {},
     "output_type": "execute_result"
    }
   ],
   "source": [
    "df = pd.read_pickle('stockData/stockPkl/BA.pkl')\n",
    "df.index"
   ]
  },
  {
   "cell_type": "code",
   "execution_count": null,
   "metadata": {},
   "outputs": [],
   "source": []
  }
 ],
 "metadata": {
  "kernelspec": {
   "display_name": "Python 3.9.13",
   "language": "python",
   "name": "python3"
  },
  "language_info": {
   "codemirror_mode": {
    "name": "ipython",
    "version": 3
   },
   "file_extension": ".py",
   "mimetype": "text/x-python",
   "name": "python",
   "nbconvert_exporter": "python",
   "pygments_lexer": "ipython3",
   "version": "3.9.13"
  },
  "orig_nbformat": 4,
  "vscode": {
   "interpreter": {
    "hash": "cef17d8e0b693fce01e9f1f72b9414a3311abac1f5b34dcfc301a056a5e7bd77"
   }
  }
 },
 "nbformat": 4,
 "nbformat_minor": 2
}
