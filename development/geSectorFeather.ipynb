{
 "cells": [
  {
   "cell_type": "code",
   "execution_count": 1,
   "metadata": {},
   "outputs": [],
   "source": [
    "import pandas as pd\n",
    "import numpy as np\n",
    "import pickle\n",
    "from datetime import datetime, time\n",
    "now = datetime.now()\n",
    "import investpy\n",
    "import time"
   ]
  },
  {
   "cell_type": "code",
   "execution_count": 2,
   "metadata": {},
   "outputs": [],
   "source": [
    "SectorDict = {\n",
    "    \"S&P 500 Energy\":\"XLE\",\n",
    "    \"S&P 500 Information Technology\":\"XLK\",\n",
    "    \"S&P 500 Telecom Services\":\"XLC\",\n",
    "    \"S&P 500 Consumer Staples\":\"XLP\",\n",
    "    \"S&P 500 Health Care\":\"XLV\",\n",
    "    \"S&P 500 Consumer Discretionary\":\"XLY\",\n",
    "    \"S&P 500 Industrials\":\"XLI\",\n",
    "    \"S&P 500 Utilities\":\"XLU\",\n",
    "    \"S&P 500 Materials\":\"XLB\",\n",
    "    \"S&P 500 Financials\":\"XLF\",\n",
    "    \"S&P 500 Real Estate\":\"XLRE\"\n",
    "}\n",
    "sectorList = []"
   ]
  },
  {
   "cell_type": "code",
   "execution_count": 3,
   "metadata": {},
   "outputs": [],
   "source": [
    "for sector in SectorDict:\n",
    "    sectorList.append(SectorDict[sector])\n",
    "    time.sleep(3)\n",
    "    df = investpy.indices.get_index_historical_data(sector, 'United States', '20/06/2009', '20/06/2022', as_json=False, order='ascending', interval='Weekly')\n",
    "    df = df.reset_index().drop(['Open','High','Low','Currency'], axis = 1)\n",
    "    df.to_feather(\"datasets/sectorData/\"+SectorDict[sector]+\".feather\")"
   ]
  },
  {
   "cell_type": "code",
   "execution_count": null,
   "metadata": {},
   "outputs": [],
   "source": [
    "with open('datasets/sectorList.pkl', 'wb') as b:\n",
    "    pickle.dump(sectorList,b)"
   ]
  }
 ],
 "metadata": {
  "kernelspec": {
   "display_name": "Python 3.9.13",
   "language": "python",
   "name": "python3"
  },
  "language_info": {
   "codemirror_mode": {
    "name": "ipython",
    "version": 3
   },
   "file_extension": ".py",
   "mimetype": "text/x-python",
   "name": "python",
   "nbconvert_exporter": "python",
   "pygments_lexer": "ipython3",
   "version": "3.9.13"
  },
  "orig_nbformat": 4,
  "vscode": {
   "interpreter": {
    "hash": "cef17d8e0b693fce01e9f1f72b9414a3311abac1f5b34dcfc301a056a5e7bd77"
   }
  }
 },
 "nbformat": 4,
 "nbformat_minor": 2
}
