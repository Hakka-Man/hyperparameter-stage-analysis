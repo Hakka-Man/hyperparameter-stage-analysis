{
 "cells": [
  {
   "cell_type": "code",
   "execution_count": 1,
   "metadata": {},
   "outputs": [],
   "source": [
    "import pandas as pd\n",
    "import yahoo_fin.stock_info as yf\n",
    "import numpy as np\n",
    "from stage import getStage, fullPrint\n",
    "import pickle\n",
    "from datetime import datetime, timedelta\n",
    "now = datetime.now()\n",
    "import matplotlib.pyplot as plt\n",
    "import investpy\n",
    "import os\n",
    "import time"
   ]
  },
  {
   "cell_type": "code",
   "execution_count": null,
   "metadata": {},
   "outputs": [],
   "source": [
    "# nasdaqList = pd.read_pickle(\"stockData/tickerList.pkl\")\n",
    "# nasdaqListSet = set(nasdaqList)\n",
    "# sectors = [\"XLE\",\"XLK\",\"XLC\",\"XLP\",\"XLV\",\"XLY\",\"XLI\",\"XLU\",\"XLB\",\"XLF\",\"XLRE\"]\n",
    "# sectorDict = dict()\n",
    "# industryDict = dict()\n",
    "# for sector in sectors:\n",
    "#     file = open('../stockData/sectors/'+sector+'.txt')\n",
    "#     industryList = []\n",
    "#     tickerList = []\n",
    "#     industry = ''\n",
    "#     for line in file:\n",
    "#         if(line.find(\"DJUS\") != -1):\n",
    "#             if(industry != ''):\n",
    "#                 industryDict[industry] = tickerList\n",
    "#                 tickerList = []\n",
    "#             if line.find(\"$\") != -1:\n",
    "#                 industry = line.split('$')[1]\n",
    "#             else:\n",
    "#                 industry = line.split()[0]\n",
    "#             industry = industry.split('\\n')[0]\n",
    "#             industryList.append(industry)\n",
    "#         elif line != '\\n':\n",
    "#             ticker = line.split('\\n')[0]\n",
    "#             if(ticker in nasdaqListSet):\n",
    "#                 tickerList.append(ticker)\n",
    "#     industryDict[industry] = tickerList\n",
    "#     sectorDict[sector] = industryList"
   ]
  },
  {
   "cell_type": "code",
   "execution_count": 2,
   "metadata": {},
   "outputs": [],
   "source": [
    "industries = dict()\n",
    "with open('stockData/industries.txt', 'r') as f:\n",
    "    currentSector = \"\"\n",
    "    for line in f:\n",
    "        if \"XL\" in line:\n",
    "            currentSector = line.strip()\n",
    "            industries[currentSector] = list()\n",
    "        elif line.strip() == \"\":\n",
    "            continue\n",
    "        else:\n",
    "            industries[currentSector].append(line.strip())\n",
    "            "
   ]
  },
  {
   "cell_type": "code",
   "execution_count": 3,
   "metadata": {},
   "outputs": [],
   "source": [
    "for key in industries.keys():\n",
    "    if not os.path.exists(\"stockData/industriesData/\"+key):\n",
    "        os.mkdir(\"stockData/industriesData/\"+key)\n",
    "    for industry in industries[key]:\n",
    "        time.sleep(1)\n",
    "        df = pd.DataFrame()\n",
    "        df = investpy.indices.get_index_historical_data(industry, 'United States', '23/05/2010', '23/05/2020', as_json=False, order='ascending', interval='Weekly')\n",
    "        industry = industry.replace(\" \", \"\")\n",
    "        df.to_pickle(\"stockData/industriesData/\"+key+\"/\"+industry+\".pkl\")"
   ]
  },
  {
   "cell_type": "code",
   "execution_count": null,
   "metadata": {},
   "outputs": [],
   "source": []
  }
 ],
 "metadata": {
  "interpreter": {
   "hash": "2dfbae9a87db7b2dc2578fe0d33f792a230924ef51e8a44dcc5b66c5d8b5b67e"
  },
  "kernelspec": {
   "display_name": "Python 3.9.7 ('titanic')",
   "language": "python",
   "name": "python3"
  },
  "language_info": {
   "codemirror_mode": {
    "name": "ipython",
    "version": 3
   },
   "file_extension": ".py",
   "mimetype": "text/x-python",
   "name": "python",
   "nbconvert_exporter": "python",
   "pygments_lexer": "ipython3",
   "version": "3.9.7"
  },
  "orig_nbformat": 4
 },
 "nbformat": 4,
 "nbformat_minor": 2
}
