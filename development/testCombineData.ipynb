{
 "cells": [
  {
   "cell_type": "code",
   "execution_count": 17,
   "metadata": {},
   "outputs": [],
   "source": [
    "import pandas as pd\n",
    "import yahoo_fin.stock_info as yf\n",
    "import numpy as np\n",
    "from stage import getStage, fullPrint\n",
    "import pickle\n",
    "from datetime import datetime, timedelta\n",
    "now = datetime.now()\n",
    "import matplotlib.pyplot as plt"
   ]
  },
  {
   "cell_type": "code",
   "execution_count": 71,
   "metadata": {},
   "outputs": [],
   "source": [
    "sectors = [\"XLE\",\"XLK\",\"XLC\",\"XLP\",\"XLV\",\"XLY\",\"XLI\",\"XLU\",\"XLB\",\"XLF\",\"XLRE\"]\n",
    "sectorDict = dict()\n",
    "industryDict = dict()\n",
    "for sector in sectors:\n",
    "    file = open('../stockData/sectors/'+sector+'.txt')\n",
    "    industryList = []\n",
    "    tickerList = []\n",
    "    for line in file:\n",
    "        if(line.find(\"DJUS\") != -1):\n",
    "            if(industry != ''):\n",
    "                industryDict[industry] = tickerList\n",
    "                tickerList = []\n",
    "            if line.find(\"$\") != -1:\n",
    "                industry = line.split('$')[1]\n",
    "            else:\n",
    "                industry = line.split()[0]\n",
    "            industry = industry.split('\\n')[0]\n",
    "            industryList.append(industry)\n",
    "        elif line != '\\n':\n",
    "            tickerList.append(line.split('\\n')[0])\n",
    "    industryDict[industry] = tickerList\n",
    "    sectorDict[sector] = industryList"
   ]
  },
  {
   "cell_type": "code",
   "execution_count": null,
   "metadata": {},
   "outputs": [],
   "source": []
  }
 ],
 "metadata": {
  "interpreter": {
   "hash": "9b909473a2ac8a01f4c1acf0a2fbc0992511891620a2b1ce77dfcb5a1893eb99"
  },
  "kernelspec": {
   "display_name": "Python 3.9.7 ('titanic')",
   "language": "python",
   "name": "python3"
  },
  "language_info": {
   "codemirror_mode": {
    "name": "ipython",
    "version": 3
   },
   "file_extension": ".py",
   "mimetype": "text/x-python",
   "name": "python",
   "nbconvert_exporter": "python",
   "pygments_lexer": "ipython3",
   "version": "3.9.7"
  },
  "orig_nbformat": 4
 },
 "nbformat": 4,
 "nbformat_minor": 2
}
