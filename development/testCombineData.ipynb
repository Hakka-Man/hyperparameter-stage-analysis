{
 "cells": [
  {
   "cell_type": "code",
   "execution_count": 7,
   "metadata": {},
   "outputs": [],
   "source": [
    "import pandas as pd\n",
    "import yahoo_fin.stock_info as yf\n",
    "import numpy as np\n",
    "from stage import getStage, fullPrint\n",
    "import pickle\n",
    "from datetime import datetime, timedelta\n",
    "now = datetime.now()\n",
    "import matplotlib.pyplot as plt\n",
    "import investpy\n",
    "import os\n",
    "import time"
   ]
  },
  {
   "cell_type": "code",
   "execution_count": null,
   "metadata": {},
   "outputs": [],
   "source": [
    "# nasdaqList = pd.read_pickle(\"stockData/tickerList.pkl\")\n",
    "# nasdaqListSet = set(nasdaqList)\n",
    "# sectors = [\"XLE\",\"XLK\",\"XLC\",\"XLP\",\"XLV\",\"XLY\",\"XLI\",\"XLU\",\"XLB\",\"XLF\",\"XLRE\"]\n",
    "# sectorDict = dict()\n",
    "# industryDict = dict()\n",
    "# for sector in sectors:\n",
    "#     file = open('../stockData/sectors/'+sector+'.txt')\n",
    "#     industryList = []\n",
    "#     tickerList = []\n",
    "#     industry = ''\n",
    "#     for line in file:\n",
    "#         if(line.find(\"DJUS\") != -1):\n",
    "#             if(industry != ''):\n",
    "#                 industryDict[industry] = tickerList\n",
    "#                 tickerList = []\n",
    "#             if line.find(\"$\") != -1:\n",
    "#                 industry = line.split('$')[1]\n",
    "#             else:\n",
    "#                 industry = line.split()[0]\n",
    "#             industry = industry.split('\\n')[0]\n",
    "#             industryList.append(industry)\n",
    "#         elif line != '\\n':\n",
    "#             ticker = line.split('\\n')[0]\n",
    "#             if(ticker in nasdaqListSet):\n",
    "#                 tickerList.append(ticker)\n",
    "#     industryDict[industry] = tickerList\n",
    "#     sectorDict[sector] = industryList"
   ]
  },
  {
   "cell_type": "code",
   "execution_count": 5,
   "metadata": {},
   "outputs": [],
   "source": [
    "industries = dict()\n",
    "with open('stockData/industries.txt', 'r') as f:\n",
    "    currentSector = \"\"\n",
    "    for line in f:\n",
    "        if \"XL\" in line:\n",
    "            currentSector = line.strip()\n",
    "            industries[currentSector] = list()\n",
    "        elif line.strip() == \"\":\n",
    "            continue\n",
    "        else:\n",
    "            industries[currentSector].append(line.strip())\n",
    "            "
   ]
  },
  {
   "cell_type": "code",
   "execution_count": 8,
   "metadata": {},
   "outputs": [
    {
     "ename": "ConnectionError",
     "evalue": "ERR#0015: error 429, try again later.",
     "output_type": "error",
     "traceback": [
      "\u001b[0;31m---------------------------------------------------------------------------\u001b[0m",
      "\u001b[0;31mConnectionError\u001b[0m                           Traceback (most recent call last)",
      "\u001b[0;32m/var/folders/1q/w3g5nkks29g3kjdwmq1lssj00000gn/T/ipykernel_99593/3055954341.py\u001b[0m in \u001b[0;36m<module>\u001b[0;34m\u001b[0m\n\u001b[1;32m      5\u001b[0m         \u001b[0mtime\u001b[0m\u001b[0;34m.\u001b[0m\u001b[0msleep\u001b[0m\u001b[0;34m(\u001b[0m\u001b[0;36m1\u001b[0m\u001b[0;34m)\u001b[0m\u001b[0;34m\u001b[0m\u001b[0;34m\u001b[0m\u001b[0m\n\u001b[1;32m      6\u001b[0m         \u001b[0mdf\u001b[0m \u001b[0;34m=\u001b[0m \u001b[0mpd\u001b[0m\u001b[0;34m.\u001b[0m\u001b[0mDataFrame\u001b[0m\u001b[0;34m(\u001b[0m\u001b[0;34m)\u001b[0m\u001b[0;34m\u001b[0m\u001b[0;34m\u001b[0m\u001b[0m\n\u001b[0;32m----> 7\u001b[0;31m         \u001b[0mdf\u001b[0m \u001b[0;34m=\u001b[0m \u001b[0minvestpy\u001b[0m\u001b[0;34m.\u001b[0m\u001b[0mindices\u001b[0m\u001b[0;34m.\u001b[0m\u001b[0mget_index_historical_data\u001b[0m\u001b[0;34m(\u001b[0m\u001b[0mindustry\u001b[0m\u001b[0;34m,\u001b[0m \u001b[0;34m'United States'\u001b[0m\u001b[0;34m,\u001b[0m \u001b[0;34m'23/05/2010'\u001b[0m\u001b[0;34m,\u001b[0m \u001b[0;34m'23/05/2020'\u001b[0m\u001b[0;34m,\u001b[0m \u001b[0mas_json\u001b[0m\u001b[0;34m=\u001b[0m\u001b[0;32mFalse\u001b[0m\u001b[0;34m,\u001b[0m \u001b[0morder\u001b[0m\u001b[0;34m=\u001b[0m\u001b[0;34m'ascending'\u001b[0m\u001b[0;34m,\u001b[0m \u001b[0minterval\u001b[0m\u001b[0;34m=\u001b[0m\u001b[0;34m'Weekly'\u001b[0m\u001b[0;34m)\u001b[0m\u001b[0;34m\u001b[0m\u001b[0;34m\u001b[0m\u001b[0m\n\u001b[0m\u001b[1;32m      8\u001b[0m         \u001b[0mindustry\u001b[0m \u001b[0;34m=\u001b[0m \u001b[0mindustry\u001b[0m\u001b[0;34m.\u001b[0m\u001b[0mreplace\u001b[0m\u001b[0;34m(\u001b[0m\u001b[0;34m\" \"\u001b[0m\u001b[0;34m,\u001b[0m \u001b[0;34m\"\"\u001b[0m\u001b[0;34m)\u001b[0m\u001b[0;34m\u001b[0m\u001b[0;34m\u001b[0m\u001b[0m\n\u001b[1;32m      9\u001b[0m         \u001b[0mdf\u001b[0m\u001b[0;34m.\u001b[0m\u001b[0mto_pickle\u001b[0m\u001b[0;34m(\u001b[0m\u001b[0;34m\"stockData/industriesData/\"\u001b[0m\u001b[0;34m+\u001b[0m\u001b[0mkey\u001b[0m\u001b[0;34m+\u001b[0m\u001b[0;34m\"/\"\u001b[0m\u001b[0;34m+\u001b[0m\u001b[0mindustry\u001b[0m\u001b[0;34m+\u001b[0m\u001b[0;34m\".pkl\"\u001b[0m\u001b[0;34m)\u001b[0m\u001b[0;34m\u001b[0m\u001b[0;34m\u001b[0m\u001b[0m\n",
      "\u001b[0;32m~/opt/anaconda3/envs/titanic/lib/python3.9/site-packages/investpy/indices.py\u001b[0m in \u001b[0;36mget_index_historical_data\u001b[0;34m(index, country, from_date, to_date, as_json, order, interval)\u001b[0m\n\u001b[1;32m    647\u001b[0m \u001b[0;34m\u001b[0m\u001b[0m\n\u001b[1;32m    648\u001b[0m         \u001b[0;32mif\u001b[0m \u001b[0mreq\u001b[0m\u001b[0;34m.\u001b[0m\u001b[0mstatus_code\u001b[0m \u001b[0;34m!=\u001b[0m \u001b[0;36m200\u001b[0m\u001b[0;34m:\u001b[0m\u001b[0;34m\u001b[0m\u001b[0;34m\u001b[0m\u001b[0m\n\u001b[0;32m--> 649\u001b[0;31m             raise ConnectionError(\n\u001b[0m\u001b[1;32m    650\u001b[0m                 \u001b[0;34m\"ERR#0015: error \"\u001b[0m \u001b[0;34m+\u001b[0m \u001b[0mstr\u001b[0m\u001b[0;34m(\u001b[0m\u001b[0mreq\u001b[0m\u001b[0;34m.\u001b[0m\u001b[0mstatus_code\u001b[0m\u001b[0;34m)\u001b[0m \u001b[0;34m+\u001b[0m \u001b[0;34m\", try again later.\"\u001b[0m\u001b[0;34m\u001b[0m\u001b[0;34m\u001b[0m\u001b[0m\n\u001b[1;32m    651\u001b[0m             )\n",
      "\u001b[0;31mConnectionError\u001b[0m: ERR#0015: error 429, try again later."
     ]
    }
   ],
   "source": [
    "for key in industries.keys():\n",
    "    if not os.path.exists(\"stockData/industriesData/\"+key):\n",
    "        os.mkdir(\"stockData/industriesData/\"+key)\n",
    "    for industry in industries[key]:\n",
    "        time.sleep(1)\n",
    "        df = pd.DataFrame()\n",
    "        df = investpy.indices.get_index_historical_data(industry, 'United States', '23/05/2010', '23/05/2020', as_json=False, order='ascending', interval='Weekly')\n",
    "        industry = industry.replace(\" \", \"\")\n",
    "        df.to_pickle(\"stockData/industriesData/\"+key+\"/\"+industry+\".pkl\")"
   ]
  },
  {
   "cell_type": "code",
   "execution_count": null,
   "metadata": {},
   "outputs": [],
   "source": []
  }
 ],
 "metadata": {
  "interpreter": {
   "hash": "9b909473a2ac8a01f4c1acf0a2fbc0992511891620a2b1ce77dfcb5a1893eb99"
  },
  "kernelspec": {
   "display_name": "Python 3.9.7 ('titanic')",
   "language": "python",
   "name": "python3"
  },
  "language_info": {
   "codemirror_mode": {
    "name": "ipython",
    "version": 3
   },
   "file_extension": ".py",
   "mimetype": "text/x-python",
   "name": "python",
   "nbconvert_exporter": "python",
   "pygments_lexer": "ipython3",
   "version": "3.9.7"
  },
  "orig_nbformat": 4
 },
 "nbformat": 4,
 "nbformat_minor": 2
}
