{
 "cells": [
  {
   "cell_type": "code",
   "execution_count": 1,
   "metadata": {},
   "outputs": [],
   "source": [
    "import pandas as pd\n",
    "import yahoo_fin.stock_info as yf\n",
    "import numpy as np\n",
    "from stage import getStage, fullPrint\n",
    "import pickle\n",
    "from datetime import datetime, timedelta\n",
    "now = datetime.now()\n",
    "import matplotlib.pyplot as plt\n",
    "import investpy\n",
    "import os\n",
    "import time"
   ]
  },
  {
   "cell_type": "code",
   "execution_count": null,
   "metadata": {},
   "outputs": [],
   "source": [
    "# nasdaqList = pd.read_pickle(\"stockData/tickerList.pkl\")\n",
    "# nasdaqListSet = set(nasdaqList)\n",
    "# sectors = [\"XLE\",\"XLK\",\"XLC\",\"XLP\",\"XLV\",\"XLY\",\"XLI\",\"XLU\",\"XLB\",\"XLF\",\"XLRE\"]\n",
    "# sectorDict = dict()\n",
    "# industryDict = dict()\n",
    "# for sector in sectors:\n",
    "#     file = open('../stockData/sectors/'+sector+'.txt')\n",
    "#     industryList = []\n",
    "#     tickerList = []\n",
    "#     industry = ''\n",
    "#     for line in file:\n",
    "#         if(line.find(\"DJUS\") != -1):\n",
    "#             if(industry != ''):\n",
    "#                 industryDict[industry] = tickerList\n",
    "#                 tickerList = []\n",
    "#             if line.find(\"$\") != -1:\n",
    "#                 industry = line.split('$')[1]\n",
    "#             else:\n",
    "#                 industry = line.split()[0]\n",
    "#             industry = industry.split('\\n')[0]\n",
    "#             industryList.append(industry)\n",
    "#         elif line != '\\n':\n",
    "#             ticker = line.split('\\n')[0]\n",
    "#             if(ticker in nasdaqListSet):\n",
    "#                 tickerList.append(ticker)\n",
    "#     industryDict[industry] = tickerList\n",
    "#     sectorDict[sector] = industryList"
   ]
  },
  {
   "cell_type": "code",
   "execution_count": 2,
   "metadata": {},
   "outputs": [],
   "source": [
    "industries = dict()\n",
    "with open('stockData/industries.txt', 'r') as f:\n",
    "    currentSector = \"\"\n",
    "    for line in f:\n",
    "        if \"XL\" in line:\n",
    "            currentSector = line.strip()\n",
    "            industries[currentSector] = list()\n",
    "        elif line.strip() == \"\":\n",
    "            continue\n",
    "        else:\n",
    "            industries[currentSector].append(line.strip())\n",
    "            "
   ]
  },
  {
   "cell_type": "code",
   "execution_count": 3,
   "metadata": {},
   "outputs": [],
   "source": [
    "for key in industries.keys():\n",
    "    if not os.path.exists(\"stockData/industriesData/\"+key):\n",
    "        os.mkdir(\"stockData/industriesData/\"+key)\n",
    "    for industry in industries[key]:\n",
    "        time.sleep(1)\n",
    "        df = pd.DataFrame()\n",
    "        df = investpy.indices.get_index_historical_data(industry, 'United States', '23/05/2010', '23/05/2020', as_json=False, order='ascending', interval='Weekly')\n",
    "        industry = industry.replace(\" \", \"\")\n",
    "        df.to_pickle(\"stockData/industriesData/\"+key+\"/\"+industry+\".pkl\")"
   ]
  },
  {
   "cell_type": "code",
   "execution_count": 27,
   "metadata": {},
   "outputs": [
    {
     "name": "stdout",
     "output_type": "stream",
     "text": [
      "XLP DJTobacco\n",
      "XLP DJSoftDrinks\n",
      "XLP DJDrugRetailers\n",
      "XLP DJDistillers&Vintners\n",
      "XLP DJFoodProductMakers\n",
      "XLP DJFoodRetail&Wholesale\n",
      "XLP DJNondurableHousehold\n",
      "XLP DJBrewers\n",
      "XLP DJPersonalProducts\n",
      "XLU DJGasDistribution\n",
      "XLU DJMultiutilities\n",
      "XLU DJConventionalElectricity\n",
      "XLU DJWater\n",
      "XLV DJPharmaceuticals\n",
      "XLV DJMedicalSupplies\n",
      "XLV DJHealthCareProviders\n",
      "XLV DJMedicalEquipment\n",
      "XLV DJBiotechnology\n",
      "XLF DJFinancialAdministration\n",
      "XLF DJInsuranceBrokers\n",
      "XLF DJSpecialtyFinance\n",
      "XLF DJFullLineInsurance\n",
      "XLF DJConsumerFinance\n",
      "XLF DJAssetManagers\n",
      "XLF DJInvestmentServices\n",
      "XLF DJReinsurance\n",
      "XLF DJProperty&CasualtyInsurance\n",
      "XLF DJLifeInsurance\n",
      "XLF DJMortgageFinance\n",
      "XLF DJBanks\n",
      "XLE DJCoal\n",
      "XLE DJIntegratedOil&Gas\n",
      "XLE DJPipelines\n",
      "XLE DJExploration&Production\n",
      "XLE DJOilEquipment&Services\n",
      "XLI DJTrucking\n",
      "XLI DJRailroads\n",
      "XLI DJDefense\n",
      "XLI DJMarineTransportation\n",
      "XLI DJIndustrialMachinery\n",
      "XLI DJDiversifiedIndustrials\n",
      "XLI DJWaste&DisposalServices\n",
      "XLI DJHeavyConstruction\n",
      "XLI DJBuildingMaterials&Fixtures\n",
      "XLI DJTransportationServices\n",
      "XLI DJAerospace\n",
      "XLI DJDeliveryServices\n",
      "XLI DJCommercialVehicles&Trucks\n",
      "XLI DJIndustrialSuppliers\n",
      "XLI DJSupportServices\n",
      "XLI DJAirlines\n",
      "XLC DJMediaAgencies\n",
      "XLC DJInternet\n",
      "XLC DJPublishing\n",
      "XLC DJBroadcasting&Entertainment\n",
      "XLC DJMobileTelecom\n",
      "XLC DJFixedLineTelecom\n",
      "XLB DJIron&Steel\n",
      "XLB DJNonferrousMetals\n",
      "XLB DJCommodityChemicals\n",
      "XLB DJAluminum\n",
      "XLB DJContainers&Packaging\n",
      "XLB DJSpecialtyChemicals\n",
      "XLB DJPaper\n",
      "XLB DJMining\n",
      "XLB DJGoldMining\n",
      "XLRE DJREServices\n",
      "XLRE DJIndustrial&OfficeREITs\n",
      "XLRE DJSpecialtyREITs\n",
      "XLRE DJResidential\n",
      "XLRE DJRetailREITs\n",
      "XLRE DJDiversifiedREITs\n",
      "XLRE DJHotel&LodgingREITs\n",
      "XLRE DJMortgage\n",
      "XLRE DJRealEstateHolding&Development\n",
      "XLK DJSemiconductors\n",
      "XLK DJTechnologyHardware&Equipment\n",
      "XLK DJSoftware\n",
      "XLK DJElectronicEquipment\n",
      "XLK DJElectricalComponents&Equipment\n",
      "XLK DJComputerServices\n",
      "XLK DJTelecomEquipment\n",
      "XLY DJAutomobiles\n",
      "XLY DJRecreationalServices\n",
      "XLY DJBroadlineRetailers\n",
      "XLY DJTires\n",
      "XLY DJFootwear\n",
      "XLY DJTravel&Tourism\n",
      "XLY DJSpecialtyRetailers\n",
      "XLY DJHomeConstruction\n",
      "XLY DJAutoPartsMakers\n",
      "XLY DJBusinessTraining&EmploymentAgencies\n",
      "XLY DJClothing&Accessories\n",
      "XLY DJRestaurants&Bars\n",
      "XLY DJHomeImprovementRetailers\n",
      "XLY DJFurnishings\n",
      "XLY DJSpecializedConsumerServices\n",
      "XLY DJHotels\n",
      "XLY DJRecreationalProducts\n",
      "XLY DJGambling\n",
      "XLY DJDurableHouseholdProducts\n",
      "XLY DJToys\n",
      "XLY DJApparelRetailers\n",
      "{'DJTobacco': 'XLP', 'DJSoftDrinks': 'XLP', 'DJDrugRetailers': 'XLP', 'DJDistillers&Vintners': 'XLP', 'DJFoodProductMakers': 'XLP', 'DJFoodRetail&Wholesale': 'XLP', 'DJNondurableHousehold': 'XLP', 'DJBrewers': 'XLP', 'DJPersonalProducts': 'XLP', 'DJGasDistribution': 'XLU', 'DJMultiutilities': 'XLU', 'DJConventionalElectricity': 'XLU', 'DJWater': 'XLU', 'DJPharmaceuticals': 'XLV', 'DJMedicalSupplies': 'XLV', 'DJHealthCareProviders': 'XLV', 'DJMedicalEquipment': 'XLV', 'DJBiotechnology': 'XLV', 'DJFinancialAdministration': 'XLF', 'DJInsuranceBrokers': 'XLF', 'DJSpecialtyFinance': 'XLF', 'DJFullLineInsurance': 'XLF', 'DJConsumerFinance': 'XLF', 'DJAssetManagers': 'XLF', 'DJInvestmentServices': 'XLF', 'DJReinsurance': 'XLF', 'DJProperty&CasualtyInsurance': 'XLF', 'DJLifeInsurance': 'XLF', 'DJMortgageFinance': 'XLF', 'DJBanks': 'XLF', 'DJCoal': 'XLE', 'DJIntegratedOil&Gas': 'XLE', 'DJPipelines': 'XLE', 'DJExploration&Production': 'XLE', 'DJOilEquipment&Services': 'XLE', 'DJTrucking': 'XLI', 'DJRailroads': 'XLI', 'DJDefense': 'XLI', 'DJMarineTransportation': 'XLI', 'DJIndustrialMachinery': 'XLI', 'DJDiversifiedIndustrials': 'XLI', 'DJWaste&DisposalServices': 'XLI', 'DJHeavyConstruction': 'XLI', 'DJBuildingMaterials&Fixtures': 'XLI', 'DJTransportationServices': 'XLI', 'DJAerospace': 'XLI', 'DJDeliveryServices': 'XLI', 'DJCommercialVehicles&Trucks': 'XLI', 'DJIndustrialSuppliers': 'XLI', 'DJSupportServices': 'XLI', 'DJAirlines': 'XLI', 'DJMediaAgencies': 'XLC', 'DJInternet': 'XLC', 'DJPublishing': 'XLC', 'DJBroadcasting&Entertainment': 'XLC', 'DJMobileTelecom': 'XLC', 'DJFixedLineTelecom': 'XLC', 'DJIron&Steel': 'XLB', 'DJNonferrousMetals': 'XLB', 'DJCommodityChemicals': 'XLB', 'DJAluminum': 'XLB', 'DJContainers&Packaging': 'XLB', 'DJSpecialtyChemicals': 'XLB', 'DJPaper': 'XLB', 'DJMining': 'XLB', 'DJGoldMining': 'XLB', 'DJREServices': 'XLRE', 'DJIndustrial&OfficeREITs': 'XLRE', 'DJSpecialtyREITs': 'XLRE', 'DJResidential': 'XLRE', 'DJRetailREITs': 'XLRE', 'DJDiversifiedREITs': 'XLRE', 'DJHotel&LodgingREITs': 'XLRE', 'DJMortgage': 'XLRE', 'DJRealEstateHolding&Development': 'XLRE', 'DJSemiconductors': 'XLK', 'DJTechnologyHardware&Equipment': 'XLK', 'DJSoftware': 'XLK', 'DJElectronicEquipment': 'XLK', 'DJElectricalComponents&Equipment': 'XLK', 'DJComputerServices': 'XLK', 'DJTelecomEquipment': 'XLK', 'DJAutomobiles': 'XLY', 'DJRecreationalServices': 'XLY', 'DJBroadlineRetailers': 'XLY', 'DJTires': 'XLY', 'DJFootwear': 'XLY', 'DJTravel&Tourism': 'XLY', 'DJSpecialtyRetailers': 'XLY', 'DJHomeConstruction': 'XLY', 'DJAutoPartsMakers': 'XLY', 'DJBusinessTraining&EmploymentAgencies': 'XLY', 'DJClothing&Accessories': 'XLY', 'DJRestaurants&Bars': 'XLY', 'DJHomeImprovementRetailers': 'XLY', 'DJFurnishings': 'XLY', 'DJSpecializedConsumerServices': 'XLY', 'DJHotels': 'XLY', 'DJRecreationalProducts': 'XLY', 'DJGambling': 'XLY', 'DJDurableHouseholdProducts': 'XLY', 'DJToys': 'XLY', 'DJApparelRetailers': 'XLY'}\n"
     ]
    }
   ],
   "source": [
    "industryList = []\n",
    "sectorOfIndustry = {}\n",
    "for sector in industries.keys():\n",
    "    for industry in industries[sector]:\n",
    "        industryList.append((sector,industry.replace(\" \",\"\")))\n",
    "        sectorOfIndustry[industry.replace(\" \",\"\")] = sector\n",
    "for element in industryList:\n",
    "    print(element[0],element[1])\n",
    "print(sectorOfIndustry)"
   ]
  },
  {
   "cell_type": "code",
   "execution_count": 22,
   "metadata": {},
   "outputs": [],
   "source": [
    "with open('stockData/industryDict.pkl', 'wb') as handle:\n",
    "    pickle.dump(industries, handle, protocol=pickle.HIGHEST_PROTOCOL)\n",
    "with open('stockData/industryList.pkl', 'wb') as handle:\n",
    "    pickle.dump(industryList, handle, protocol=pickle.HIGHEST_PROTOCOL)\n",
    "with open('stockData/sectorOfIndustry.pkl', 'wb') as handle:\n",
    "    pickle.dump(industryList, handle, protocol=pickle.HIGHEST_PROTOCOL)"
   ]
  },
  {
   "cell_type": "code",
   "execution_count": 24,
   "metadata": {},
   "outputs": [
    {
     "data": {
      "text/plain": [
       "DatetimeIndex(['2010-05-23', '2010-05-30', '2010-06-06', '2010-06-13',\n",
       "               '2010-06-20', '2010-06-27', '2010-07-04', '2010-07-11',\n",
       "               '2010-07-18', '2010-07-25',\n",
       "               ...\n",
       "               '2020-03-15', '2020-03-22', '2020-03-29', '2020-04-05',\n",
       "               '2020-04-12', '2020-04-19', '2020-04-26', '2020-05-03',\n",
       "               '2020-05-10', '2020-05-17'],\n",
       "              dtype='datetime64[ns]', name='Date', length=522, freq=None)"
      ]
     },
     "execution_count": 24,
     "metadata": {},
     "output_type": "execute_result"
    }
   ],
   "source": [
    "df = pd.read_pickle('stockData/industriesData/XLB/DJMining.pkl')\n",
    "df.index"
   ]
  },
  {
   "cell_type": "code",
   "execution_count": null,
   "metadata": {},
   "outputs": [],
   "source": []
  }
 ],
 "metadata": {
  "interpreter": {
   "hash": "2dfbae9a87db7b2dc2578fe0d33f792a230924ef51e8a44dcc5b66c5d8b5b67e"
  },
  "kernelspec": {
   "display_name": "Python 3.9.7 ('titanic')",
   "language": "python",
   "name": "python3"
  },
  "language_info": {
   "codemirror_mode": {
    "name": "ipython",
    "version": 3
   },
   "file_extension": ".py",
   "mimetype": "text/x-python",
   "name": "python",
   "nbconvert_exporter": "python",
   "pygments_lexer": "ipython3",
   "version": "3.9.7"
  },
  "orig_nbformat": 4
 },
 "nbformat": 4,
 "nbformat_minor": 2
}
