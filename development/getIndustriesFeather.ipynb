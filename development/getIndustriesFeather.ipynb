{
 "cells": [
  {
   "cell_type": "code",
   "execution_count": 2,
   "metadata": {},
   "outputs": [],
   "source": [
    "import pandas as pd\n",
    "import numpy as np\n",
    "import pickle\n",
    "from datetime import datetime, timedelta\n",
    "now = datetime.now()\n",
    "import investpy\n",
    "import os\n",
    "import time"
   ]
  },
  {
   "cell_type": "code",
   "execution_count": 7,
   "metadata": {},
   "outputs": [],
   "source": [
    "industries = dict()\n",
    "with open('datasets/industries.txt', 'r') as f:\n",
    "    currentSector = \"\"\n",
    "    for line in f:\n",
    "        if \"XL\" in line:\n",
    "            currentSector = line.strip()\n",
    "            industries[currentSector] = list()\n",
    "        elif line.strip() == \"\":\n",
    "            continue\n",
    "        else:\n",
    "            industries[currentSector].append(line.strip())\n",
    "            "
   ]
  },
  {
   "cell_type": "code",
   "execution_count": 8,
   "metadata": {},
   "outputs": [],
   "source": [
    "for key in industries.keys():\n",
    "    if not os.path.exists(\"datasets/industriesData/\"+key):\n",
    "        os.mkdir(\"datasets/industriesData/\"+key)\n",
    "    for industry in industries[key]:\n",
    "        time.sleep(3)\n",
    "        df = pd.DataFrame()\n",
    "        df = investpy.indices.get_index_historical_data(industry, 'United States', '01/01/2010', '01/01/2022', as_json=False, order='ascending', interval='Weekly')\n",
    "        industry = industry.replace(\" \", \"\")\n",
    "        df = df.reset_index().drop(['Open','High','Low','Currency'], axis = 1)\n",
    "        df.to_feather(\"datasets/industriesData/\"+key+\"/\"+industry+\".feather\")"
   ]
  },
  {
   "cell_type": "code",
   "execution_count": 9,
   "metadata": {},
   "outputs": [],
   "source": [
    "industryList = []\n",
    "sectorOfIndustry = {}\n",
    "for sector in industries.keys():\n",
    "    for industry in industries[sector]:\n",
    "        industryList.append((sector,industry.replace(\" \",\"\")))\n",
    "        sectorOfIndustry[industry.replace(\" \",\"\")] = sector"
   ]
  },
  {
   "cell_type": "code",
   "execution_count": 10,
   "metadata": {},
   "outputs": [],
   "source": [
    "with open('datasets/industryDict.pkl', 'wb') as handle:\n",
    "    pickle.dump(industries, handle, protocol=pickle.HIGHEST_PROTOCOL)\n",
    "with open('datasets/industryList.pkl', 'wb') as handle:\n",
    "    pickle.dump(industryList, handle, protocol=pickle.HIGHEST_PROTOCOL)\n",
    "with open('datasets/sectorOfIndustry.pkl', 'wb') as handle:\n",
    "    pickle.dump(sectorOfIndustry, handle, protocol=pickle.HIGHEST_PROTOCOL)"
   ]
  },
  {
   "cell_type": "code",
   "execution_count": null,
   "metadata": {},
   "outputs": [],
   "source": []
  }
 ],
 "metadata": {
  "kernelspec": {
   "display_name": "Python 3.9.13 ('bob')",
   "language": "python",
   "name": "python3"
  },
  "language_info": {
   "codemirror_mode": {
    "name": "ipython",
    "version": 3
   },
   "file_extension": ".py",
   "mimetype": "text/x-python",
   "name": "python",
   "nbconvert_exporter": "python",
   "pygments_lexer": "ipython3",
   "version": "3.9.13"
  },
  "orig_nbformat": 4,
  "vscode": {
   "interpreter": {
    "hash": "cef17d8e0b693fce01e9f1f72b9414a3311abac1f5b34dcfc301a056a5e7bd77"
   }
  }
 },
 "nbformat": 4,
 "nbformat_minor": 2
}
