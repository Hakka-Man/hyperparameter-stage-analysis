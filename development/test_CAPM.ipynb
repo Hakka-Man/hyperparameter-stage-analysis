{
 "cells": [
  {
   "cell_type": "code",
   "execution_count": 5,
   "metadata": {},
   "outputs": [],
   "source": [
    "import investpy\n",
    "from stage import fullPrint\n",
    "import pandas as pd\n",
    "import numpy as np\n",
    "from sklearn.linear_model import LinearRegression\n",
    "\n",
    "# investpy.get_indices_list(country='united states')\n"
   ]
  },
  {
   "cell_type": "code",
   "execution_count": 6,
   "metadata": {},
   "outputs": [],
   "source": [
    "CLOSE = 3\n",
    "DAILY_RETURN = 6\n",
    "\n",
    "def calculate_daily_return(df):\n",
    "  x = df.copy()\n",
    "  i = 0\n",
    "  x[\"DailyReturn\"] = \"\"\n",
    "  for index, element in x.iterrows():\n",
    "    if i == 0:\n",
    "      x.iat[0, DAILY_RETURN] = 0\n",
    "      i += 1\n",
    "      continue\n",
    "    x.iat[i, DAILY_RETURN] = x.iat[i, CLOSE] / x.iat[i - 1, CLOSE] \n",
    "    i += 1\n",
    "  return x\n"
   ]
  },
  {
   "cell_type": "code",
   "execution_count": 7,
   "metadata": {},
   "outputs": [],
   "source": [
    "SPY_index = investpy.get_index_historical_data(index='S&P 500',\n",
    "                                         country='united states',\n",
    "                                         from_date='22/02/2020',\n",
    "                                         to_date='01/01/2022')\n",
    "stock_df = investpy.get_stock_historical_data(stock='AXP',\n",
    "                                          country='United States',\n",
    "                                          from_date='01/01/1900',\n",
    "                                          to_date='14/06/2022')"
   ]
  },
  {
   "cell_type": "code",
   "execution_count": 11,
   "metadata": {},
   "outputs": [
    {
     "name": "stdout",
     "output_type": "stream",
     "text": [
      "0.9999999999999847\n",
      "1.6211191585765927e-14\n"
     ]
    }
   ],
   "source": [
    "stock_df = calculate_daily_return(stock_df)\n",
    "SPY_index = calculate_daily_return(stock_df)\n",
    "SPY_index_DailyReturn = SPY_index['DailyReturn'].astype(str).astype(float)\n",
    "stock_df_DailyReturn = stock_df['DailyReturn'].astype(str).astype(float)\n",
    "\n",
    "beta, alpha = np.polyfit(SPY_index_DailyReturn, stock_df_DailyReturn, 1)\n",
    "\n",
    "rm = SPY_index_DailyReturn.mean() * 252\n",
    "rf = 0 \n",
    "stock_CAPM = rf + (beta * (rm-rf)) \n",
    "\n"
   ]
  },
  {
   "cell_type": "code",
   "execution_count": 58,
   "metadata": {},
   "outputs": [],
   "source": [
    "# price_change_SPY_index = SPY_index['Close'].pct_change(1)\n",
    "# price_change_stock_df = stock_df['Close'].pct_change(1)\n",
    "# price_change_SPY_index = price_change_SPY_index.drop(price_change_SPY_index.index[0])\n",
    "# price_change_stock_df = price_change_stock_df.drop(price_change_stock_df.index[0])\n"
   ]
  },
  {
   "cell_type": "code",
   "execution_count": 60,
   "metadata": {},
   "outputs": [
    {
     "name": "stdout",
     "output_type": "stream",
     "text": [
      "Beta:  [0.39365806]\n"
     ]
    }
   ],
   "source": [
    "# x = np.array(price_change_stock_df).reshape((-1,1))\n",
    "# y = np.array(price_change_SPY_index)\n",
    "# model = LinearRegression().fit(x, y)\n",
    "# print('Beta: ', model.coef_)"
   ]
  }
 ],
 "metadata": {
  "interpreter": {
   "hash": "6482a61bd65142dfd08aacddc6d509313aa2a592aede050a356a471649f69690"
  },
  "kernelspec": {
   "display_name": "Python 3.9.10 ('titanic')",
   "language": "python",
   "name": "python3"
  },
  "language_info": {
   "codemirror_mode": {
    "name": "ipython",
    "version": 3
   },
   "file_extension": ".py",
   "mimetype": "text/x-python",
   "name": "python",
   "nbconvert_exporter": "python",
   "pygments_lexer": "ipython3",
   "version": "3.9.10"
  },
  "orig_nbformat": 4
 },
 "nbformat": 4,
 "nbformat_minor": 2
}
