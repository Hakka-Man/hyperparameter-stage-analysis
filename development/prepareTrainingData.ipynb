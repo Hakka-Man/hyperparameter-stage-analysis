{
 "cells": [
  {
   "cell_type": "code",
   "execution_count": 2,
   "metadata": {},
   "outputs": [],
   "source": [
    "import pandas as pd\n",
    "stockList = pd.read_pickle(\"datasets/tickerList.pkl\")\n",
    "industryList = pd.read_pickle(\"datasets/industryList.pkl\")\n",
    "sectorList = pd.read_pickle(\"datasets/sectorList.pkl\")\n",
    "stockToSectorIndustryDict = pd.read_pickle('datasets/stockToSectorIndustry.pkl')"
   ]
  },
  {
   "cell_type": "code",
   "execution_count": 21,
   "metadata": {},
   "outputs": [],
   "source": [
    "from matplotlib.pyplot import axis\n",
    "\n",
    "\n",
    "gspc = pd.read_feather('datasets/GSPC.feather').drop(['index','Date','Percent', 'Volume'], axis = 1)\n",
    "for stock in stockList:\n",
    "    sector =  pd.read_feather('datasets/sectorData/' + stockToSectorIndustryDict[stock][0] + \".feather\").drop(['index','Date','Percent'], axis = 1)\n",
    "    industry = pd.read_feather('datasets/industriesData/' + stockToSectorIndustryDict[stock][0] + \"/\" + stockToSectorIndustryDict[stock][1] + \".feather\").drop(['index','Date','Percent'], axis = 1)\n",
    "    stockDf = pd.read_feather('datasets/stockData/' + stock + \".feather\").drop(['index','Date','Percent'], axis = 1)\n",
    "    trainDf = pd.concat([stockDf, industry, sector, gspc], axis = 1)\n",
    "    route = \"datasets/trainingDataset/\" + stock + \".txt\"\n",
    "    trainDf.to_csv(route, header=False, index = False)"
   ]
  },
  {
   "cell_type": "code",
   "execution_count": null,
   "metadata": {},
   "outputs": [],
   "source": []
  }
 ],
 "metadata": {
  "kernelspec": {
   "display_name": "Python 3.9.12 ('bob')",
   "language": "python",
   "name": "python3"
  },
  "language_info": {
   "codemirror_mode": {
    "name": "ipython",
    "version": 3
   },
   "file_extension": ".py",
   "mimetype": "text/x-python",
   "name": "python",
   "nbconvert_exporter": "python",
   "pygments_lexer": "ipython3",
   "version": "3.9.12"
  },
  "orig_nbformat": 4,
  "vscode": {
   "interpreter": {
    "hash": "21b7bd1e2962aa9fdfcf38f5a68e339eb001c977a90403c917368d2e55c759d2"
   }
  }
 },
 "nbformat": 4,
 "nbformat_minor": 2
}
