{
 "cells": [
  {
   "cell_type": "code",
   "execution_count": 22,
   "metadata": {},
   "outputs": [],
   "source": [
    "import pandas as pd\n",
    "stockList = pd.read_pickle(\"datasets/tickerList.pkl\")\n",
    "industryList = pd.read_pickle(\"datasets/industryList.pkl\")\n",
    "sectorList = pd.read_pickle(\"datasets/sectorList.pkl\")\n",
    "stockToSectorIndustryDict = pd.read_pickle('datasets/stockToSectorIndustry.pkl')"
   ]
  },
  {
   "cell_type": "code",
   "execution_count": 23,
   "metadata": {},
   "outputs": [
    {
     "name": "stdout",
     "output_type": "stream",
     "text": [
      "     Close_x   Volume_x  FiveYearHigh_x    WMA30_x  WMA30Slope_x      RS_x  \\\n",
      "0      36.34   61767704           40.99  32.774710      1.006511 -0.020657   \n",
      "1      36.37   30388252           40.99  32.987054      1.006479 -0.023757   \n",
      "2      36.25   58689384           40.99  33.189613      1.006141 -0.020226   \n",
      "3      34.55   59999144           40.99  33.280495      1.002738 -0.055853   \n",
      "4      33.67   76356880           40.99  33.315376      1.001048 -0.136536   \n",
      "..       ...        ...             ...        ...           ...       ...   \n",
      "340    38.57   82338760           63.40  44.649699      0.983718 -2.488844   \n",
      "341    37.61   54454696           63.40  43.882860      0.982825 -2.387571   \n",
      "342    35.01   60949220           63.40  42.993247      0.979728 -3.125761   \n",
      "343    31.88  106641976           63.40  41.962753      0.976031 -2.908218   \n",
      "344    34.82   64416136           63.40  41.186280      0.981496 -3.165970   \n",
      "\n",
      "     Close_y   Volume_y  FiveYearHigh_y      WMA30_y  ...  Close_x  \\\n",
      "0     205.24   54528240          231.05   200.990129  ...   644.03   \n",
      "1     206.11   29123874          231.05   201.145828  ...   645.46   \n",
      "2     203.50   60032408          231.05   201.147075  ...   643.44   \n",
      "3     194.26   57059984          231.05   200.573247  ...   617.47   \n",
      "4     195.09   77911656          231.05   200.092473  ...   615.07   \n",
      "..       ...        ...             ...          ...  ...      ...   \n",
      "340   918.15  667251968         1482.80  1093.010688  ...  1200.50   \n",
      "341   858.50  538121984         1482.80  1073.467312  ...  1200.56   \n",
      "342   842.36  551544000         1482.80  1054.225226  ...  1127.72   \n",
      "343   781.60  863899008         1482.80  1032.040796  ...  1065.21   \n",
      "344   880.12  609443008         1482.80  1017.545011  ...  1153.04   \n",
      "\n",
      "         Volume  FiveYearHigh_x      WMA30_x  WMA30Slope_x        RS  Close_y  \\\n",
      "0      16521938          645.84   616.931032      1.003247  0.059684  2089.17   \n",
      "1      16521938          645.84   618.958667      1.003287  0.074337  2090.11   \n",
      "2      16521938          645.84   620.770387      1.002927  0.070748  2091.69   \n",
      "3      16521938          645.84   620.829269      1.000095  0.069121  2012.37   \n",
      "4      16521938          645.84   620.710946      0.999809  0.065424  2005.55   \n",
      "..          ...             ...          ...           ...       ...      ...   \n",
      "340  1755660032         1673.27  1370.004946      0.988037 -0.145840  4158.24   \n",
      "341  1249660032         1673.27  1354.249785      0.988500 -0.153512  4108.54   \n",
      "342  1849910016         1673.27  1334.793828      0.985633 -0.133354  3900.86   \n",
      "343  2729169920         1673.27  1312.346043      0.983183 -0.145617  3674.84   \n",
      "344  1700300032         1673.27  1296.872366      0.988209 -0.136474  3911.74   \n",
      "\n",
      "     FiveYearHigh_y      WMA30_y  WMA30Slope_y  \n",
      "0           2126.64  2038.553978      1.000991  \n",
      "1           2126.64  2040.693742      1.001050  \n",
      "2           2126.64  2042.974538      1.001118  \n",
      "3           2126.64  2040.190409      0.998637  \n",
      "4           2126.64  2037.203613      0.998536  \n",
      "..              ...          ...           ...  \n",
      "340         4766.18  4343.319806      0.995497  \n",
      "341         4766.18  4321.430108      0.994960  \n",
      "342         4766.18  4287.408344      0.992127  \n",
      "343         4766.18  4240.486344      0.989056  \n",
      "344         4766.18  4211.048473      0.993058  \n",
      "\n",
      "[345 rows x 22 columns]\n"
     ]
    },
    {
     "name": "stderr",
     "output_type": "stream",
     "text": [
      "/tmp/ipykernel_491/1706165713.py:12: FutureWarning: Passing 'suffixes' which cause duplicate columns {'Close_x', 'WMA30_x', 'FiveYearHigh_x', 'WMA30Slope_x'} in the result is deprecated and will raise a MergeError in a future version.\n",
      "  trainDf = pd.merge(trainDf, gspc, on = \"Date\")\n"
     ]
    }
   ],
   "source": [
    "from matplotlib.pyplot import axis\n",
    "gspc = pd.read_feather('datasets/GSPC.feather').drop(['index','Percent', 'Volume'], axis = 1)\n",
    "for stock in stockList:\n",
    "    sector =  pd.read_feather('datasets/sectorData/' + stockToSectorIndustryDict[stock][0] + \".feather\").drop(['index','Percent'], axis = 1)\n",
    "    industry = pd.read_feather('datasets/industriesData/' + stockToSectorIndustryDict[stock][0] + \"/\" + stockToSectorIndustryDict[stock][1] + \".feather\").drop(['index','Percent'], axis = 1)\n",
    "    stockDf = pd.read_feather('datasets/stockData/' + stock + \".feather\").drop(['index','Percent'], axis = 1)\n",
    "    trainDf = pd.merge(stockDf, industry,on = \"Date\")\n",
    "    trainDf = pd.merge(trainDf, sector,on = \"Date\")\n",
    "    trainDf = pd.merge(trainDf, gspc, on = \"Date\")\n",
    "    trainDf = trainDf.drop(['Date'], axis = 1)\n",
    "    print(trainDf)\n",
    "    route = \"datasets/trainingDataset/\" + stock + \".txt\"\n",
    "    trainDf.to_csv(route, header=False, index = False)"
   ]
  },
  {
   "cell_type": "code",
   "execution_count": 24,
   "metadata": {},
   "outputs": [],
   "source": [
    "stockDf = pd.read_feather('datasets/stockData/' + 'GM' + \".feather\").drop(['index','Percent'], axis = 1)"
   ]
  },
  {
   "cell_type": "code",
   "execution_count": 25,
   "metadata": {},
   "outputs": [
    {
     "name": "stdout",
     "output_type": "stream",
     "text": [
      "          Date  Close     Volume  FiveYearHigh      WMA30  WMA30Slope  \\\n",
      "0   2015-11-15  36.34   61767704         40.99  32.774710    1.006511   \n",
      "1   2015-11-22  36.37   30388252         40.99  32.987054    1.006479   \n",
      "2   2015-11-29  36.25   58689384         40.99  33.189613    1.006141   \n",
      "3   2015-12-06  34.55   59999144         40.99  33.280495    1.002738   \n",
      "4   2015-12-13  33.67   76356880         40.99  33.315376    1.001048   \n",
      "..         ...    ...        ...           ...        ...         ...   \n",
      "340 2022-05-22  38.57   82338760         63.40  44.649699    0.983718   \n",
      "341 2022-05-29  37.61   54454696         63.40  43.882860    0.982825   \n",
      "342 2022-06-05  35.01   60949220         63.40  42.993247    0.979728   \n",
      "343 2022-06-12  31.88  106641976         63.40  41.962753    0.976031   \n",
      "344 2022-06-19  34.82   64416136         63.40  41.186280    0.981496   \n",
      "\n",
      "           RS  \n",
      "0   -0.020657  \n",
      "1   -0.023757  \n",
      "2   -0.020226  \n",
      "3   -0.055853  \n",
      "4   -0.136536  \n",
      "..        ...  \n",
      "340 -2.488844  \n",
      "341 -2.387571  \n",
      "342 -3.125761  \n",
      "343 -2.908218  \n",
      "344 -3.165970  \n",
      "\n",
      "[345 rows x 7 columns]\n"
     ]
    }
   ],
   "source": [
    "print(stockDf)"
   ]
  },
  {
   "cell_type": "code",
   "execution_count": 5,
   "metadata": {},
   "outputs": [
    {
     "name": "stdout",
     "output_type": "stream",
     "text": [
      "          Date    Close  FiveYearHigh        WMA30  WMA30Slope\n",
      "0   2014-06-15  1962.87       1949.44  1876.255462    1.003934\n",
      "1   2014-06-22  1960.96       1962.87  1883.145355    1.003672\n",
      "2   2014-06-29  1985.44       1962.87  1891.280946    1.004320\n",
      "3   2014-07-06  1967.57       1985.44  1897.875785    1.003487\n",
      "4   2014-07-13  1978.22       1985.44  1904.744280    1.003619\n",
      "..         ...      ...           ...          ...         ...\n",
      "414 2022-05-22  4158.24       4766.18  4343.319806    0.995497\n",
      "415 2022-05-29  4108.54       4766.18  4321.430108    0.994960\n",
      "416 2022-06-05  3900.86       4766.18  4287.408344    0.992127\n",
      "417 2022-06-12  3674.84       4766.18  4240.486344    0.989056\n",
      "418 2022-06-19  3911.74       4766.18  4211.048473    0.993058\n",
      "\n",
      "[419 rows x 5 columns]\n"
     ]
    }
   ],
   "source": [
    "print(pd.read_feather('datasets/GSPC.feather').drop(['index','Percent', 'Volume'], axis = 1))"
   ]
  },
  {
   "cell_type": "code",
   "execution_count": null,
   "metadata": {},
   "outputs": [],
   "source": []
  }
 ],
 "metadata": {
  "kernelspec": {
   "display_name": "Python 3.9.12 ('bob')",
   "language": "python",
   "name": "python3"
  },
  "language_info": {
   "codemirror_mode": {
    "name": "ipython",
    "version": 3
   },
   "file_extension": ".py",
   "mimetype": "text/x-python",
   "name": "python",
   "nbconvert_exporter": "python",
   "pygments_lexer": "ipython3",
   "version": "3.9.12"
  },
  "orig_nbformat": 4,
  "vscode": {
   "interpreter": {
    "hash": "21b7bd1e2962aa9fdfcf38f5a68e339eb001c977a90403c917368d2e55c759d2"
   }
  }
 },
 "nbformat": 4,
 "nbformat_minor": 2
}
