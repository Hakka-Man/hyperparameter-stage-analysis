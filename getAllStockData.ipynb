{
 "cells": [
  {
   "cell_type": "code",
   "execution_count": null,
   "metadata": {},
   "outputs": [],
   "source": [
    "import pandas as pd\n",
    "from stage import fullPrint, getStage\n",
    "from datetime import datetime, timedelta\n",
    "import yahoo_fin.stock_info as yf\n",
    "import numpy as np\n",
    "import pickle\n",
    "import swifter\n",
    "import os\n",
    "\n",
    "nyseDf = pd.read_html('stockList.html')\n",
    "nyseDf = pd.DataFrame(nyseDf[0][0])\n",
    "nyseList = []\n",
    "for row in nyseDf.iterrows():\n",
    "    ticker = str(row[1]).split()[1]\n",
    "    if ticker == \"Symbol\":\n",
    "        continue\n",
    "    nyseList.append(ticker)\n",
    "\n",
    "PEAK = 13\n",
    "allList = []\n",
    "nasdaqList = pd.read_pickle(\"stockData/tickerList.pkl\")\n",
    "allList = (nasdaqList + nyseList)\n",
    "\n",
    "SectorDict = {\n",
    "    \"Energy\":\"XLE\",\n",
    "    \"Technology\":\"XLK\",\n",
    "    \"Communication Services\":\"XLC\",\n",
    "    \"Consumer Defensive\":\"XLP\",\n",
    "    \"Healthcare\":\"XLV\",\n",
    "    \"Consumer Cyclical\":\"XLY\",\n",
    "    \"Industrials\":\"XLI\",\n",
    "    \"Utilities\":\"XLU\",\n",
    "    \"Basic Materials\":\"XLB\",\n",
    "    \"Financial Services\":\"XLF\",\n",
    "    \"Real Estate\":\"XLRE\"}\n",
    "spList = yf.tickers_sp500()\n",
    "spList = set(spList)\n",
    "dictionary = {}\n",
    "i = 0\n",
    "allLen = str(len(nasdaqList))\n",
    "stockDataTickerList = []\n",
    "now = datetime.now()"
   ]
  },
  {
   "cell_type": "code",
   "execution_count": null,
   "metadata": {},
   "outputs": [],
   "source": [
    "for ticker in nasdaqList:\n",
    "    try:\n",
    "        df = yf.get_data(ticker, start_date=\"1995-01-06\",end_date = now, index_as_date = True)\n",
    "        dfBuy = df\n",
    "        df['Dates'] = pd.to_datetime(df.index)\n",
    "        df = df[df['Dates'].dt.weekday == 4]\n",
    "        df = df.drop('Dates', axis = 1)\n",
    "        df.to_pickle('stockData/nysenasdaq/'+ticker+'.pkl')\n",
    "        industry = yf.get_company_info(ticker).at['sector','Value']\n",
    "        dictionary[ticker] = SectorDict[industry]\n",
    "        dfBuy['Dates'] = pd.to_datetime(dfBuy.index)\n",
    "        dfBuy = dfBuy[dfBuy['Dates'].dt.weekday == 0]\n",
    "        dfBuy = dfBuy.drop('Dates', axis = 1)\n",
    "        dfBuy.to_pickle('stockData/nysenasdaq/'+ticker+'Buy.pkl')\n",
    "        stockDataTickerList.append(ticker)\n",
    "    except:\n",
    "        print(ticker+\" not found\")\n",
    "    i = i+1\n",
    "    print(str(i)+'/'+allLen)\n",
    "try:\n",
    "    sectorDict = open('stockData/nasdaq.pkl', 'wb')\n",
    "    pickle.dump(dictionary, sectorDict)\n",
    "    sectorDict.close()\n",
    "except:\n",
    "    print(\"Something went wrong\")"
   ]
  },
  {
   "cell_type": "code",
   "execution_count": null,
   "metadata": {},
   "outputs": [],
   "source": [
    "weights = np.arange(1,31)\n",
    "sumWeights = np.sum(weights)\n",
    "spList = yf.tickers_sp500()\n",
    "def calculateSlopeOfTicker(df,index):\n",
    "    if index < 31:\n",
    "        return 0\n",
    "    else:\n",
    "        return df.iat[index,4]/df.iat[index-1,4]\n",
    "\n",
    "def calculateSpyDfSlopeOfTicker(df,index):\n",
    "    if index < 31:\n",
    "        return 0\n",
    "    else:\n",
    "        return df.iat[index,4]/df.iat[index-1,8]\n",
    "\n",
    "def product(df,index):\n",
    "    if index < 30:\n",
    "        return 0\n",
    "    else:\n",
    "        return df.iat[index,0]/df.iat[index-30,0]\n",
    "def calculatePeak(df,index, diff, col):\n",
    "    if index == 0:\n",
    "        return df.iat[index,0]\n",
    "    if index < diff:\n",
    "        return max(df.iat[index-1,col],df.iat[index,0])\n"
   ]
  },
  {
   "cell_type": "code",
   "execution_count": null,
   "metadata": {},
   "outputs": [],
   "source": [
    "spDf = yf.get_data('^GSPC', start_date=\"1995-01-06\",end_date = now, index_as_date = True)\n",
    "spDf['close'] = spDf['close'].rolling(window=5).apply(lambda x: np.average(x))\n",
    "spDf['Dates'] = pd.to_datetime(spDf.index)\n",
    "spDf = spDf[spDf['Dates'].dt.weekday == 4]\n",
    "spDf = spDf.drop('Dates', axis = 1)\n",
    "spDf['percent'] = spDf.swifter.apply(lambda x: product(spDf,spDf.index.get_loc(x.name)),axis=1)\n",
    "spDf['WMA30'] = spDf['close'].rolling(window=30).apply(lambda x: np.sum(weights*x)/sumWeights)\n",
    "spDf['WMA30Slope'] = spDf.swifter.apply(lambda x: calculateSpyDfSlopeOfTicker(spDf,spDf.index.get_loc(x.name)),axis=1)\n",
    "spDf.to_pickle(\"stockData/Spy.pkl\")"
   ]
  },
  {
   "cell_type": "code",
   "execution_count": null,
   "metadata": {},
   "outputs": [],
   "source": [
    "for ticker in stockDataTickerList:\n",
    "    try:\n",
    "        stockDf = pd.read_pickle('stockData/nyseNasdaq/'+ticker+'.pkl')\n",
    "        if(stockDf['close'].isnull().values.any()):\n",
    "            os.remove('stockData/nyseNasdaq/'+ticker+'.pkl')\n",
    "            continue\n",
    "        stockDf['fiveYearHigh'] = stockDf['close'].rolling(window=260).max().shift(1).fillna(0)  \n",
    "        stockDf['WMA30'] = stockDf['close'].rolling(window=30).apply(lambda x: np.sum(weights*x)/sumWeights)\n",
    "        stockDf['WMA30Slope'] = stockDf.swifter.apply(lambda x: calculateSlopeOfTicker(stockDf,stockDf.index.get_loc(x.name)),axis=1)\n",
    "        stockDf['volumePerc'] = stockDf['volume'].pct_change()\n",
    "        stockDf['percent'] = stockDf.swifter.apply(lambda x: product(stockDf,stockDf.index.get_loc(x.name)),axis=1)\n",
    "        stockDf['RS'] = stockDf['percent'] - spDf['percent']\n",
    "        #stockDf = stockDf.dropna()\n",
    "        stockDf['peak'] = 0\n",
    "        stockDf['trough'] = 0\n",
    "        stockDf['support'] = 0\n",
    "        stockDf['initialSupport'] = 0\n",
    "        for index, element in stockDf.iterrows():\n",
    "            numIndex =stockDf.index.get_loc(index)\n",
    "            if numIndex < 260:\n",
    "                stockDf.iat[numIndex, PEAK] = calculatePeak(stockDf, numIndex, 260, 3)\n",
    "        stockDf['Stage'] = \"\"\n",
    "        stockDf['secondBuy'] = False\n",
    "        stockDf['resistance'] = 0\n",
    "        stockDf['shortPeak'] = 0\n",
    "        stockDf['shortTrough'] = 0\n",
    "        print(ticker)\n",
    "        stockDf.to_pickle('stockData/nyseNasdaq/'+ticker+'.pkl')\n",
    "    except:\n",
    "        pass"
   ]
  },
  {
   "cell_type": "code",
   "execution_count": null,
   "metadata": {},
   "outputs": [],
   "source": [
    "transactionTemplate = yf.get_data('AAPL', start_date=\"1995-01-02\",end_date= now, index_as_date = True, interval=\"1wk\").drop(['open','high','low','close','adjclose','volume','ticker'],axis=1)\n",
    "transactionTemplate.to_pickle(\"transactionTemplate.pkl\")"
   ]
  },
  {
   "cell_type": "code",
   "execution_count": null,
   "metadata": {},
   "outputs": [],
   "source": [
    "for ticker in allList:\n",
    "    try:\n",
    "        stockDf = pd.read_pickle('stockData/nyseNasdaq/'+ticker+'.pkl')\n",
    "        stockDf = stockDf.drop(['open','high','low','adjclose'],axis=1)\n",
    "        stockDf.to_pickle('stockData/nyseNasdaq/'+ticker+'.pkl')\n",
    "    except:\n",
    "        pass"
   ]
  },
  {
   "cell_type": "code",
   "execution_count": null,
   "metadata": {},
   "outputs": [],
   "source": [
    "now = datetime.now()\n",
    "monday = now - timedelta(days = now.weekday())\n",
    "now = now.strftime('%Y-%m-%d')\n",
    "df = yf.get_data(ticker, start_date=\"1995-01-06\",end_date = now, index_as_date = True)\n",
    "df['Dates'] = pd.to_datetime(df.index)\n",
    "df = df[df['Dates'].dt.weekday == 4]\n",
    "df = df.drop('Dates', axis = 1)\n",
    "df"
   ]
  },
  {
   "cell_type": "code",
   "execution_count": null,
   "metadata": {},
   "outputs": [],
   "source": [
    "with open('stockData/tickerList.pkl', 'wb') as f:\n",
    "    pickle.dump(stockDataTickerList, f)"
   ]
  },
  {
   "cell_type": "code",
   "execution_count": null,
   "metadata": {},
   "outputs": [],
   "source": [
    "transactionTemplate = yf.get_data('AAPL', start_date=\"1995-01-06\",end_date= now, index_as_date = True).drop(['open','high','low','close','adjclose','volume','ticker'],axis=1)\n",
    "transactionTemplate['Dates'] = pd.to_datetime(transactionTemplate.index)\n",
    "transactionTemplate = transactionTemplate[transactionTemplate['Dates'].dt.weekday == 4]\n",
    "transactionTemplate = transactionTemplate.drop('Dates', axis = 1)\n",
    "transactionTemplate.to_pickle(\"transactionTemplate.pkl\")"
   ]
  },
  {
   "cell_type": "code",
   "execution_count": 2,
   "metadata": {},
   "outputs": [
    {
     "name": "stdout",
     "output_type": "stream",
     "text": [
      "['ARCKW', 'AVHIW', 'BPACW', 'CINGW', 'DXR', 'EQRXW', 'ESACW', 'MCAAW', 'ONYXW', 'PCCTW', 'STFC', 'TOACW', 'WEN', 'WINA']\n"
     ]
    }
   ],
   "source": [
    "SectorDict = {\n",
    "    \"Energy\":\"XLE\",\"Technology\":\"XLK\",\n",
    "    \"Communication Services\":\"XLC\",\n",
    "    \"Consumer Staples\":\"XLP\",\n",
    "    \"Health Care\":\"XLV\",\n",
    "    \"Consumer Cyclical\":\"XLY\",\n",
    "    \"Industrial\":\"XLI\",\n",
    "    \"Utilities\":\"XLU\",\n",
    "    \"Materials\":\"XLB\",\n",
    "    \"Financial\":\"XLF\",\n",
    "    \"Real Estate\":\"XLRE\"}\n",
    "sectorDfList = []\n",
    "for sector in SectorDict.values():\n",
    "    sectorDfList.append(pd.read_pickle(\"stockData/sectorCharts/\"+sector+\".pkl\"))\n",
    "goodSectorDf = sectorDfList[0].drop(['open','high','low','adjclose','close','ticker','volume','percent','MA30','MA30Slope','RS'],axis=1)\n",
    "goodSectorDf['Sectors'] = [[] for _ in range(len(goodSectorDf))]\n",
    "goodSectorDf.index = sectorDfList[0].index\n",
    "index = 0\n",
    "for date in sectorDfList[0].index:\n",
    "    listOfSector = []\n",
    "    for df in sectorDfList:\n",
    "        try:\n",
    "            #print(df.at[date,'MA30Slope'],df.at[date,'RS'])\n",
    "            #!!!!!!!! or for new params\n",
    "            #!!!!!!!!\n",
    "            #!!!!!!!!\n",
    "            #!!!!!!!!\n",
    "            if  df.at[date,'MA30Slope'] > 1.0013386634337298 and df.loc[date,'RS'] > 0.07551020458494859:\n",
    "                if df.at[date,'close'] > df.at[date,'MA30']:\n",
    "                    #print(df.at[date,'ticker'])\n",
    "                    listOfSector.append(df.at[date,'ticker'])\n",
    "        except: \n",
    "            pass\n",
    "        # print(listOfSector)\n",
    "    goodSectorDf.iat[index,0] = set(listOfSector)\n",
    "    index = index + 1\n",
    "removeList = []\n",
    "for ticker in nasdaqList:\n",
    "    try:\n",
    "        df = getStage(ticker,[0.03361077383204303, 1.7466372328111242, -0.08498841770875612, 0.926192276854965, 1.1764676012556523, 1.1405501342698643, 0.8517616225271734, 0.8691969716399011, 1.268490629719207, 1.0013386634337298, 0.07551020458494859, 0.9489349345040117, 0.996709764664632, 0.9485725801058837, 0.9857019510456804],goodSectorDf)\n",
    "        if df.empty:\n",
    "            removeList.append(ticker)\n",
    "    except:\n",
    "        removeList.append(ticker)\n",
    "print(removeList)"
   ]
  },
  {
   "cell_type": "code",
   "execution_count": 3,
   "metadata": {},
   "outputs": [],
   "source": [
    "for ticker in removeList:\n",
    "    nasdaqList.remove(ticker)\n",
    "with open('stockData/tickerList.pkl', 'wb') as f:\n",
    "    pickle.dump(nasdaqList, f)"
   ]
  },
  {
   "cell_type": "code",
   "execution_count": 28,
   "metadata": {},
   "outputs": [
    {
     "name": "stdout",
     "output_type": "stream",
     "text": [
      "XLE\n"
     ]
    }
   ],
   "source": [
    "import pandas as pd\n",
    "df = pd.read_pickle(\"stockData/nasdaq.pkl\")\n",
    "print(df['USEG'])"
   ]
  },
  {
   "cell_type": "code",
   "execution_count": null,
   "metadata": {},
   "outputs": [],
   "source": []
  }
 ],
 "metadata": {
  "interpreter": {
   "hash": "f14466829233405ef138eacac9de1e0fbc1ad785984b10899d1f652aa0ec8865"
  },
  "kernelspec": {
   "display_name": "Python 3.9.5 64-bit ('base': conda)",
   "language": "python",
   "name": "python3"
  },
  "language_info": {
   "codemirror_mode": {
    "name": "ipython",
    "version": 3
   },
   "file_extension": ".py",
   "mimetype": "text/x-python",
   "name": "python",
   "nbconvert_exporter": "python",
   "pygments_lexer": "ipython3",
   "version": "3.9.7"
  },
  "orig_nbformat": 4
 },
 "nbformat": 4,
 "nbformat_minor": 2
}
