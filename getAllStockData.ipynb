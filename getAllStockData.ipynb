{
 "cells": [
  {
   "cell_type": "code",
   "execution_count": 9,
   "metadata": {},
   "outputs": [],
   "source": [
    "import pandas as pd\n",
    "from stage import fullPrint\n",
    "from datetime import datetime, timedelta\n",
    "import yahoo_fin.stock_info as yf\n",
    "nyseDf = pd.read_html('stockList.html')\n",
    "nyseDf = pd.DataFrame(nyseDf[0][0])\n",
    "nyseList = []\n",
    "for row in nyseDf.iterrows():\n",
    "    ticker = str(row[1]).split()[1]\n",
    "    if ticker == \"Symbol\":\n",
    "        continue\n",
    "    nyseList.append(ticker)"
   ]
  },
  {
   "cell_type": "code",
   "execution_count": null,
   "metadata": {},
   "outputs": [],
   "source": [
    "PEAK = 13"
   ]
  },
  {
   "cell_type": "code",
   "execution_count": 10,
   "metadata": {},
   "outputs": [],
   "source": [
    "allList = []\n",
    "nasdaqList = yf.tickers_nasdaq()\n",
    "allList = (nasdaqList + nyseList)"
   ]
  },
  {
   "cell_type": "code",
   "execution_count": 11,
   "metadata": {},
   "outputs": [
    {
     "name": "stdout",
     "output_type": "stream",
     "text": [
      "1/5586\n"
     ]
    }
   ],
   "source": [
    "SectorDict = {\n",
    "    \"Energy\":\"XLE\",\n",
    "    \"Technology\":\"XLK\",\n",
    "    \"Communication Services\":\"XLC\",\n",
    "    \"Consumer Defensive\":\"XLP\",\n",
    "    \"Healthcare\":\"XLV\",\n",
    "    \"Consumer Cyclical\":\"XLY\",\n",
    "    \"Industrials\":\"XLI\",\n",
    "    \"Utilities\":\"XLU\",\n",
    "    \"Basic Materials\":\"XLB\",\n",
    "    \"Financial Services\":\"XLF\",\n",
    "    \"Real Estate\":\"XLRE\"}\n",
    "spList = yf.tickers_sp500()\n",
    "spList = set(spList)\n",
    "dictionary = {}\n",
    "i = 0\n",
    "allLen = str(len(nasdaqList))\n",
    "\n",
    "now = datetime.now()\n",
    "monday = now - timedelta(days = now.weekday())\n",
    "monday = monday.strftime('%Y-%m-%d')\n",
    "\n",
    "for ticker in [\"MRNA\"]:\n",
    "    try:\n",
    "        df = yf.get_data(ticker, start_date=\"1995-01-02\",end_date = monday, index_as_date = True, interval=\"1wk\")\n",
    "        df.to_pickle('stockData/nysenasdaq/'+ticker+'.pkl')\n",
    "        industry = yf.get_company_info(ticker).at['sector','Value']\n",
    "        dictionary[ticker] = SectorDict[industry]\n",
    "    except:\n",
    "        print(ticker+\" not found\")\n",
    "    i = i+1\n",
    "    print(str(i)+'/'+allLen)\n",
    "import pickle\n",
    "try:\n",
    "    sectorDict = open('stockData/nasdaq.pkl', 'wb')\n",
    "    pickle.dump(dictionary, sectorDict)\n",
    "    sectorDict.close()\n",
    "  \n",
    "except:\n",
    "    print(\"Something went wrong\")"
   ]
  },
  {
   "cell_type": "code",
   "execution_count": 12,
   "metadata": {},
   "outputs": [],
   "source": [
    "import numpy as np\n",
    "import yahoo_fin.stock_info as yf\n",
    "weights = np.arange(1,31)\n",
    "sumWeights = np.sum(weights)\n",
    "spList = yf.tickers_sp500()\n",
    "def calculateSlopeOfTicker(df,index):\n",
    "    if index < 31:\n",
    "        return 0\n",
    "    else:\n",
    "        return df.iat[index,4]/df.iat[index-1,4]\n",
    "\n",
    "def product(df,index):\n",
    "    if index < 30:\n",
    "        return 0\n",
    "    else:\n",
    "        return df.iat[index,0]/df.iat[index-30,0]\n",
    "def calculatePeak(df,index, diff, col):\n",
    "    if index == 0:\n",
    "        return df.iat[index,0]\n",
    "    if index < diff:\n",
    "        return max(df.iat[index-1,col],df.iat[index,0])\n"
   ]
  },
  {
   "cell_type": "code",
   "execution_count": 13,
   "metadata": {},
   "outputs": [
    {
     "name": "stderr",
     "output_type": "stream",
     "text": [
      "Pandas Apply: 100%|██████████| 168/168 [00:00<00:00, 27518.67it/s]\n",
      "Pandas Apply: 100%|██████████| 168/168 [00:00<00:00, 27259.97it/s]\n",
      "Pandas Apply: 100%|██████████| 1416/1416 [00:00<00:00, 25342.79it/s]"
     ]
    },
    {
     "name": "stdout",
     "output_type": "stream",
     "text": [
      "MRNA\n"
     ]
    },
    {
     "name": "stderr",
     "output_type": "stream",
     "text": [
      "\n"
     ]
    }
   ],
   "source": [
    "from stage import fullPrint\n",
    "import swifter\n",
    "import yahoo_fin.stock_info as yf\n",
    "import pandas as pd\n",
    "import os\n",
    "spDf = yf.get_data('^GSPC', start_date=\"1995-01-02\",end_date = monday, index_as_date = True, interval=\"1wk\")\n",
    "for ticker in [\"MRNA\"]:\n",
    "    try:\n",
    "        stockDf = pd.read_pickle('stockData/nyseNasdaq/'+ticker+'.pkl')\n",
    "        if(stockDf['close'].isnull().values.any()):\n",
    "            os.remove('stockData/nyseNasdaq/'+ticker+'.pkl')\n",
    "            continue\n",
    "        stockDf['fiveYearHigh'] = stockDf['close'].rolling(window=260).max().shift(1).fillna(0)  \n",
    "        stockDf['WMA30'] = stockDf['close'].rolling(window=30).apply(lambda x: np.sum(weights*x)/sumWeights)\n",
    "        stockDf['WMA30Slope'] = stockDf.swifter.apply(lambda x: calculateSlopeOfTicker(stockDf,stockDf.index.get_loc(x.name)),axis=1)\n",
    "        stockDf['volumePerc'] = stockDf['volume'].pct_change()\n",
    "        stockDf['percent'] = stockDf.swifter.apply(lambda x: product(stockDf,stockDf.index.get_loc(x.name)),axis=1)\n",
    "        spDf['percent'] = spDf.swifter.apply(lambda x: product(spDf,spDf.index.get_loc(x.name)),axis=1)\n",
    "        stockDf['RS'] = stockDf['percent'] - spDf['percent']\n",
    "        #stockDf = stockDf.dropna()\n",
    "        stockDf['peak'] = 0\n",
    "        stockDf['trough'] = 0\n",
    "        stockDf['support'] = 0\n",
    "        stockDf['initialSupport'] = 0\n",
    "        for index, element in stockDf.iterrows():\n",
    "            numIndex =stockDf.index.get_loc(index)\n",
    "            if numIndex < 260:\n",
    "                stockDf.iat[numIndex, PEAK] = calculatePeak(stockDf, numIndex, 260, 3)\n",
    "        stockDf['Stage'] = \"\"\n",
    "        stockDf['secondBuy'] = False\n",
    "        stockDf['resistance'] = 0\n",
    "        stockDf['shortPeak'] = 0\n",
    "        stockDf['shortTrough'] = 0\n",
    "        print(ticker)\n",
    "        stockDf.to_pickle('stockData/nyseNasdaq/'+ticker+'.pkl')\n",
    "    except:\n",
    "        pass"
   ]
  },
  {
   "cell_type": "code",
   "execution_count": 14,
   "metadata": {},
   "outputs": [],
   "source": [
    "transactionTemplate = yf.get_data('AAPL', start_date=\"1995-01-02\",end_date= monday, index_as_date = True, interval=\"1wk\").drop(['open','high','low','close','adjclose','volume','ticker'],axis=1)\n",
    "transactionTemplate.to_pickle(\"transactionTemplate.pkl\")"
   ]
  },
  {
   "cell_type": "code",
   "execution_count": 15,
   "metadata": {},
   "outputs": [],
   "source": [
    "dfMRNA = pd.read_pickle(\"stockData/nyseNasdaq/MRNA.pkl\")\n",
    "dfMRNA.to_csv(\"MRNA.csv\")"
   ]
  },
  {
   "cell_type": "code",
   "execution_count": 8,
   "metadata": {},
   "outputs": [],
   "source": [
    "for ticker in allList:\n",
    "    try:\n",
    "        stockDf = pd.read_pickle('stockData/nyseNasdaq/'+ticker+'.pkl')\n",
    "        stockDf = stockDf.drop(['open','high','low','adjclose'],axis=1)\n",
    "        stockDf.to_pickle('stockData/nyseNasdaq/'+ticker+'.pkl')\n",
    "    except:\n",
    "        pass"
   ]
  },
  {
   "cell_type": "code",
   "execution_count": null,
   "metadata": {},
   "outputs": [],
   "source": []
  }
 ],
 "metadata": {
  "interpreter": {
   "hash": "f14466829233405ef138eacac9de1e0fbc1ad785984b10899d1f652aa0ec8865"
  },
  "kernelspec": {
   "display_name": "Python 3.9.5 64-bit ('base': conda)",
   "language": "python",
   "name": "python3"
  },
  "language_info": {
   "codemirror_mode": {
    "name": "ipython",
    "version": 3
   },
   "file_extension": ".py",
   "mimetype": "text/x-python",
   "name": "python",
   "nbconvert_exporter": "python",
   "pygments_lexer": "ipython3",
   "version": "3.9.7"
  },
  "orig_nbformat": 4
 },
 "nbformat": 4,
 "nbformat_minor": 2
}
