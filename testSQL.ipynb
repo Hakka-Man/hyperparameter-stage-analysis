{
 "cells": [
  {
   "cell_type": "code",
   "execution_count": 37,
   "metadata": {},
   "outputs": [],
   "source": [
    "import mysql.connector\n",
    "from mysql.connector import Error\n",
    "import pandas as pd"
   ]
  },
  {
   "cell_type": "code",
   "execution_count": 45,
   "metadata": {},
   "outputs": [],
   "source": [
    "def create_server_connection(host_name, user_name, user_password, db_name):\n",
    "    connection = None\n",
    "    try:\n",
    "        connection = mysql.connector.connect(\n",
    "            host=host_name,\n",
    "            user=user_name,\n",
    "            passwd=user_password,\n",
    "            database=db_name\n",
    "        )\n",
    "        print(\"MySQL Database connection successful\")\n",
    "    except Error as err:\n",
    "        print(f\"Error: '{err}'\")\n",
    "\n",
    "    return connection\n",
    "    \n",
    "def execute_query(connection, query):\n",
    "    cursor = connection.cursor()\n",
    "    try:\n",
    "        cursor.execute(query)\n",
    "        connection.commit()\n",
    "        print(\"Query successful\")\n",
    "    except Error as err:\n",
    "        print(f\"Error: '{err}'\")\n",
    "\n",
    "def clear_table(connection,tableName):\n",
    "    query = 'DELETE FROM ' + tableName + ';'\n",
    "    execute_query(connection=connection, query = query)\n",
    "\n",
    "def addIndividual(connection, tableName, params):\n",
    "    query = \"INSERT INTO \" + tableName + \" VALUES(\" + str(params) + \", FALSE,0,0);\"\n",
    "    print(query)\n",
    "    execute_query(connection=connection, query = query)\n",
    "\n",
    "    "
   ]
  },
  {
   "cell_type": "code",
   "execution_count": 39,
   "metadata": {},
   "outputs": [
    {
     "name": "stdout",
     "output_type": "stream",
     "text": [
      "MySQL Database connection successful\n"
     ]
    }
   ],
   "source": [
    "connection = create_server_connection('thirteen.myds.me', 'root', 'P@$$w0Rd87','stock')"
   ]
  },
  {
   "cell_type": "code",
   "execution_count": 42,
   "metadata": {},
   "outputs": [],
   "source": [
    "query = \"\"\"\n",
    "CREATE TABLE param (\n",
    "  param TEXT(500),\n",
    "  EVAL BOOL,\n",
    "  fitnessSharpe DOUBLE,\n",
    "  fitnessReturn DOUBLE\n",
    ");\n",
    " \"\"\""
   ]
  },
  {
   "cell_type": "code",
   "execution_count": 44,
   "metadata": {},
   "outputs": [
    {
     "name": "stdout",
     "output_type": "stream",
     "text": [
      "Query successful\n",
      "Query successful\n"
     ]
    }
   ],
   "source": [
    "execute_query(connection=connection, query=query)"
   ]
  },
  {
   "cell_type": "code",
   "execution_count": 46,
   "metadata": {},
   "outputs": [
    {
     "name": "stdout",
     "output_type": "stream",
     "text": [
      "INSERT INTO param VALUES('[0.3020997689803123, 2.0461596631517, 0.22121892606347174, 1.0666993301073004, 1.0353407373715584, 1.2710423737405985, 0.9860042149549277, 1.0123026019488939, 1.2102870005244621, 0.9919052053327096, -0.1336474907879132, 0.9182629595316929, 1.0046520129198244, 0.8435708226246854, 0.9825034234951291]', FALSE,0,0);\n",
      "Query successful\n"
     ]
    }
   ],
   "source": [
    "addIndividual(connection, 'param', '\\'[0.3020997689803123, 2.0461596631517, 0.22121892606347174, 1.0666993301073004, 1.0353407373715584, 1.2710423737405985, 0.9860042149549277, 1.0123026019488939, 1.2102870005244621, 0.9919052053327096, -0.1336474907879132, 0.9182629595316929, 1.0046520129198244, 0.8435708226246854, 0.9825034234951291]\\'')"
   ]
  },
  {
   "cell_type": "code",
   "execution_count": null,
   "metadata": {},
   "outputs": [],
   "source": []
  }
 ],
 "metadata": {
  "interpreter": {
   "hash": "2dfbae9a87db7b2dc2578fe0d33f792a230924ef51e8a44dcc5b66c5d8b5b67e"
  },
  "kernelspec": {
   "display_name": "Python 3.9.7 ('titanic')",
   "language": "python",
   "name": "python3"
  },
  "language_info": {
   "codemirror_mode": {
    "name": "ipython",
    "version": 3
   },
   "file_extension": ".py",
   "mimetype": "text/x-python",
   "name": "python",
   "nbconvert_exporter": "python",
   "pygments_lexer": "ipython3",
   "version": "3.9.7"
  },
  "orig_nbformat": 4
 },
 "nbformat": 4,
 "nbformat_minor": 2
}
