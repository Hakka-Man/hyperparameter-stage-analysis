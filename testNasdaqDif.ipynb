{
 "cells": [
  {
   "cell_type": "code",
   "execution_count": null,
   "metadata": {},
   "outputs": [
    {
     "ename": "",
     "evalue": "",
     "output_type": "error",
     "traceback": [
      "\u001b[1;31mFailed to start Jupyter in the environment 'Python 3.9.10 64-bit (/opt/homebrew/bin/python3)'. \n",
      "View Jupyter <a href='command:jupyter.viewOutput'>log</a> for further details."
     ]
    }
   ],
   "source": [
    "import yahoo_fin.stock_info as yf\n",
    "import pandas as pd\n",
    "from stage import fullPrint\n",
    "import random\n",
    "from datetime import datetime, timedelta\n",
    "import numpy as np\n",
    "nyseDf = pd.read_html('stockList.html')\n",
    "nyseDf = pd.DataFrame(nyseDf[0][0])\n",
    "nyseList = []\n",
    "for row in nyseDf.iterrows():\n",
    "    ticker = str(row[1]).split()[1]\n",
    "    if ticker == \"Symbol\":\n",
    "        continue\n",
    "    nyseList.append(ticker)\n",
    "allList = []\n",
    "nasdaqList = yf.tickers_nasdaq()\n",
    "allList = nasdaqList + nyseList\n",
    "tenYearSum = [0 for i in range(7)]\n",
    "curSum = [0 for i in range(7)]\n",
    "j = 0\n",
    "random.shuffle(allList)\n",
    "listOfStocks = [[] for i in range(4)]\n"
   ]
  },
  {
   "cell_type": "code",
   "execution_count": null,
   "metadata": {},
   "outputs": [],
   "source": [
    "from sklearn.model_selection import train_test_split\n",
    "nasdaqList = yf.tickers_nasdaq()\n",
    "train, test = train_test_split(nasdaqList, test_size=0.3, random_state=0, shuffle=True)\n",
    "# np.random.shuffle(train)\n",
    "trainSet1, trainSet2, trainSet3  = np.array_split(train,3)\n",
    "trainSets = [trainSet1, trainSet2, trainSet3]"
   ]
  },
  {
   "cell_type": "code",
   "execution_count": null,
   "metadata": {},
   "outputs": [],
   "source": [
    "# for i in range(len(allList)):\n",
    "#     listOfStocks[i%4].append(allList[i])\n",
    "#     # try:\n",
    "#     #     df = pd.read_pickle(\"stockData/nyseNasdaq/\"+allList[i]+\".pkl\")\n",
    "#     # except:\n",
    "#     #     pass\n",
    "#     # try:\n",
    "#     #     # drift = df.index[0].weekday()\n",
    "#     #     # start = pd.to_datetime('2018-02-12',format = '%Y-%m-%d')\n",
    "#     #     # end = pd.to_datetime('2022-01-10',format = '%Y-%m-%d')\n",
    "#     #     # start = start + timedelta(days= drift)\n",
    "#     #     # end = end + timedelta(days=drift)\n",
    "#     #     a = df.iat[0,0]\n",
    "#     #     b = df.iat[-1,0]\n",
    "#     #     length = len(df.index)/52\n",
    "#     #     # print(j%7,\": first:\",df.at[pd.to_datetime('2012-01-09',format = '%Y-%m-%d'),'close'],\"second:\",df.at[pd.to_datetime('2022-01-10',format = '%Y-%m-%d'),'close'])\n",
    "#     #     if a != 0 and length > 3:\n",
    "#     #         curSum[j%4] += (b/a)**(1/length)\n",
    "#     #         print((b/a)**(1/length))\n",
    "#     #         j = j + 1\n",
    "#     #     # print(j%7,curSum[j%7], tenYearSum[j%7])\n",
    "        \n",
    "#     # except:\n",
    "#     #     print(allList[i],\"did not exist then\")"
   ]
  },
  {
   "cell_type": "code",
   "execution_count": null,
   "metadata": {},
   "outputs": [],
   "source": [
    "def calculateGroupReturn(list):\n",
    "    monthlyReturn = pd.read_pickle(\"transactionTemplate.pkl\")\n",
    "    monthlyReturn = monthlyReturn.resample('M').mean()\n",
    "    monthlyReturn.index = monthlyReturn.index.strftime(\"%Y:%m\")\n",
    "    currentColumn = -1\n",
    "    for symbol in list:\n",
    "        if symbol in monthlyReturn.columns:\n",
    "            continue\n",
    "        try:\n",
    "            df = pd.read_pickle(\"stockData/nyseNasdaq/\"+symbol+\".pkl\")\n",
    "        except:\n",
    "            continue\n",
    "        if not (df['close'] != 0).all():\n",
    "            continue\n",
    "        monthlyReturn[symbol] = 1\n",
    "        currentColumn += 1\n",
    "        monthCheck = df.index[0].strftime(\"%Y:%m\")\n",
    "        maxPrice = df.iat[0,0]\n",
    "        initialPrice = df.iat[0,0]\n",
    "        for index, element in df.iterrows():\n",
    "            \n",
    "            if (index.strftime(\"%Y:%m\") != monthCheck):\n",
    "                if (maxPrice / initialPrice >= 1.03):\n",
    "                    rowNumber = monthlyReturn.index.get_loc(index.strftime(\"%Y:%m\"))\n",
    "                    monthlyReturn.iat[rowNumber, currentColumn] = (maxPrice / initialPrice)\n",
    "                initialPrice = element[0]\n",
    "                maxPrice = element[0]\n",
    "                monthCheck = index.strftime(\"%Y:%m\")\n",
    "            if (element[0] > maxPrice): maxPrice = element[0]\n",
    "    return monthlyReturn\n",
    "            \n",
    "            \n",
    "            "
   ]
  },
  {
   "cell_type": "code",
   "execution_count": null,
   "metadata": {},
   "outputs": [],
   "source": [
    "import warnings\n",
    "warnings.filterwarnings(\"ignore\", category=pd.errors.PerformanceWarning) \n",
    "i = 0\n",
    "listOfDf = []\n",
    "for l in trainSets:\n",
    "    listOfDf.append(calculateGroupReturn(l))\n",
    "print(listOfDf)\n"
   ]
  },
  {
   "cell_type": "code",
   "execution_count": null,
   "metadata": {},
   "outputs": [],
   "source": [
    "product = 1\n",
    "growthOfStock = {}\n",
    "index = 0\n",
    "for l in trainSets:\n",
    "    for ticker in l:\n",
    "        if ticker in listOfDf[index].columns:\n",
    "            growthOfStock[ticker] = listOfDf[index].product()\n",
    "    index += 1"
   ]
  },
  {
   "cell_type": "code",
   "execution_count": null,
   "metadata": {},
   "outputs": [],
   "source": [
    "from stage import fullPrint\n",
    "print(growthOfStock)"
   ]
  },
  {
   "cell_type": "code",
   "execution_count": null,
   "metadata": {},
   "outputs": [],
   "source": [
    "sum = [0,0,0]\n",
    "index = 0\n",
    "countOfFirst = 0\n",
    "countOfStocks = 0\n",
    "for l in trainSets:\n",
    "    print(sum[index])\n",
    "    for ticker in l:\n",
    "        if ticker in growthOfStock:\n",
    "            sum[index] += growthOfStock[ticker][1]\n",
    "            if index == 0:\n",
    "                countOfFirst += 1\n",
    "            countOfStocks += 1\n",
    "    print(sum[index])\n",
    "    sum[index] = sum[index] * (countOfFirst/countOfStocks)\n",
    "    print((countOfFirst/countOfStocks))\n",
    "    index += 1\n",
    "    countOfStocks = 0\n",
    "print(sum)\n",
    "            "
   ]
  },
  {
   "cell_type": "code",
   "execution_count": null,
   "metadata": {},
   "outputs": [],
   "source": [
    "fullPrint(listOfDf['AMOT'])"
   ]
  },
  {
   "cell_type": "code",
   "execution_count": null,
   "metadata": {},
   "outputs": [],
   "source": []
  }
 ],
 "metadata": {
  "interpreter": {
   "hash": "aab760fc5720a6d059fd127dc9224e1f2314b31723cbc6ec755d5e37067aa6cf"
  },
  "kernelspec": {
   "display_name": "Python 3.9.7 64-bit ('stage': conda)",
   "language": "python",
   "name": "python3"
  },
  "language_info": {
   "codemirror_mode": {
    "name": "ipython",
    "version": 3
   },
   "file_extension": ".py",
   "mimetype": "text/x-python",
   "name": "python",
   "nbconvert_exporter": "python",
   "pygments_lexer": "ipython3",
   "version": "3.9.7"
  },
  "orig_nbformat": 4
 },
 "nbformat": 4,
 "nbformat_minor": 2
}
