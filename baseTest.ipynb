{
 "cells": [
  {
   "cell_type": "code",
   "execution_count": 1,
   "metadata": {},
   "outputs": [],
   "source": [
    "import numpy as np\n",
    "import timeit\n",
    "start = timeit.default_timer()\n",
    "from datetime import datetime, date, timedelta\n",
    "import pandas as pd\n",
    "import yahoo_fin.stock_info as yf\n",
    "import random\n",
    "from sklearn.model_selection import train_test_split"
   ]
  },
  {
   "cell_type": "code",
   "execution_count": 2,
   "metadata": {},
   "outputs": [],
   "source": [
    "nasdaqList = yf.tickers_nasdaq()\n",
    "train, test = train_test_split(nasdaqList, test_size=0.3, random_state=0, shuffle=True)\n",
    "trainSet1, trainSet2, trainSet3  = np.array_split(train,3)\n",
    "trainSets = [trainSet1, trainSet2, trainSet3]"
   ]
  },
  {
   "cell_type": "code",
   "execution_count": 9,
   "metadata": {},
   "outputs": [],
   "source": [
    "nyseDf = pd.read_html('stockList.html')\n",
    "nyseDf = pd.DataFrame(nyseDf[0][0])\n",
    "nyseList = []\n",
    "for row in nyseDf.iterrows():\n",
    "    ticker = str(row[1]).split()[1]\n",
    "    if ticker == \"Symbol\":\n",
    "        continue\n",
    "    nyseList.append(ticker)\n",
    "allList = []\n",
    "nasdaqList = yf.tickers_nasdaq()\n",
    "allList = set(nasdaqList + nyseList)\n",
    "\n",
    "def baseTest(trainSet):\n",
    "    now = datetime.now()\n",
    "    now = now.strftime(\"%Y-%m-%d-%H:%M\")\n",
    "    transaction = pd.read_pickle(\"transactionTemplate.pkl\")\n",
    "    transaction['holding'] = np.empty((len(transaction), 0)).tolist()\n",
    "    for symbol in trainSet:\n",
    "        try:\n",
    "            df = pd.read_pickle(\"stockData/nyseNasdaq/\"+symbol+\".pkl\")\n",
    "            if df.empty:\n",
    "                continue\n",
    "        except:\n",
    "            continue\n",
    "        if not (df['close'] != 0).all():\n",
    "            continue\n",
    "        lastIndex = df.index[-1]\n",
    "        driftOfLast = lastIndex.weekday()\n",
    "        lastIndex = (lastIndex - timedelta(days=driftOfLast))\n",
    "        if lastIndex != transaction.index[-1]:\n",
    "            continue\n",
    "        drift = -1\n",
    "        for index, element in df.iterrows():\n",
    "            if drift == -1:\n",
    "                drift = index.weekday()\n",
    "            index = index - timedelta(days= drift)\n",
    "            index = index.strftime('%Y-%m-%d')\n",
    "            rowNumber = transaction.index.get_loc(index)\n",
    "            # 0 => 'holding'\n",
    "            transaction.iat[rowNumber, 0].append((symbol,element.close,0))\n",
    "    total = 100\n",
    "    transaction.to_pickle('transactionDebug.pkl')\n",
    "    prevIndex = ''\n",
    "    first = True\n",
    "    transactionCopy = transaction\n",
    "    transactionCopy['total'] = 0\n",
    "    for index, element in transactionCopy.iterrows():\n",
    "        index = index.strftime('%Y-%m-%d')\n",
    "        if len(element.holding) == 0:\n",
    "            transactionCopy['total'][index] = total\n",
    "            continue\n",
    "        if first:\n",
    "            first = False\n",
    "            transactionCopy['total'][index] = total\n",
    "        else:\n",
    "            prevData = transactionCopy.loc[prevIndex].holding\n",
    "            if len(prevData):\n",
    "                total = 0\n",
    "                close = 0\n",
    "                for i in range(len(prevData)):\n",
    "                    for j in range(len(element.holding)):\n",
    "                        if element.holding[j][0] == prevData[i][0]:\n",
    "                            close = element.holding[j][1]\n",
    "                            break\n",
    "                    total += close*prevData[i][2]\n",
    "                transactionCopy['total'][index] = total\n",
    "            else:\n",
    "                transactionCopy['total'][index] = transactionCopy.loc[prevIndex].total\n",
    "        if len(element.holding):\n",
    "            allocation = total/len(element.holding)\n",
    "        for i in range(len(element.holding)):\n",
    "            element.holding[i] = (element.holding[i][0],element.holding[i][1],allocation/element.holding[i][1])\n",
    "        prevIndex = index\n",
    "    stockHolding  = 0\n",
    "    for i in transactionCopy.iterrows():\n",
    "        stockHolding += len(i[1]['holding'])\n",
    "    print(stockHolding/(transactionCopy.shape[0]))\n",
    "    print(transactionCopy.iloc[-1]['total'])\n",
    "    resultFile = open(\"baseTest.txt\",\"a\")\n",
    "    resultFile.write(str(stockHolding/(transactionCopy.shape[0]))+\"\\n\")\n",
    "    resultFile.write(str(transactionCopy.iloc[-1]['total'])+\"\\n\")\n",
    "    resultFile.close()\n",
    "    return transactionCopy.iloc[-1]['total'],"
   ]
  },
  {
   "cell_type": "code",
   "execution_count": 10,
   "metadata": {},
   "outputs": [
    {
     "name": "stderr",
     "output_type": "stream",
     "text": [
      "/var/folders/n5/0wg686hs5jn0glfrk05fk_6r0000gn/T/ipykernel_5403/2316179473.py:54: SettingWithCopyWarning: \n",
      "A value is trying to be set on a copy of a slice from a DataFrame\n",
      "\n",
      "See the caveats in the documentation: https://pandas.pydata.org/pandas-docs/stable/user_guide/indexing.html#returning-a-view-versus-a-copy\n",
      "  transactionCopy['total'][index] = total\n",
      "/opt/anaconda3/envs/titanic/lib/python3.9/site-packages/pandas/core/indexing.py:1732: SettingWithCopyWarning: \n",
      "A value is trying to be set on a copy of a slice from a DataFrame\n",
      "\n",
      "See the caveats in the documentation: https://pandas.pydata.org/pandas-docs/stable/user_guide/indexing.html#returning-a-view-versus-a-copy\n",
      "  self._setitem_single_block(indexer, value, name)\n",
      "/var/folders/n5/0wg686hs5jn0glfrk05fk_6r0000gn/T/ipykernel_5403/2316179473.py:66: SettingWithCopyWarning: \n",
      "A value is trying to be set on a copy of a slice from a DataFrame\n",
      "\n",
      "See the caveats in the documentation: https://pandas.pydata.org/pandas-docs/stable/user_guide/indexing.html#returning-a-view-versus-a-copy\n",
      "  transactionCopy['total'][index] = total\n"
     ]
    },
    {
     "name": "stdout",
     "output_type": "stream",
     "text": [
      "357.165131112686\n",
      "429439.5574400954\n",
      "(429439.5574400954,)\n"
     ]
    }
   ],
   "source": [
    "print(baseTest(trainSets[1]))"
   ]
  },
  {
   "cell_type": "code",
   "execution_count": null,
   "metadata": {},
   "outputs": [],
   "source": []
  }
 ],
 "metadata": {
  "interpreter": {
   "hash": "6482a61bd65142dfd08aacddc6d509313aa2a592aede050a356a471649f69690"
  },
  "kernelspec": {
   "display_name": "Python 3.9.10 ('titanic')",
   "language": "python",
   "name": "python3"
  },
  "language_info": {
   "codemirror_mode": {
    "name": "ipython",
    "version": 3
   },
   "file_extension": ".py",
   "mimetype": "text/x-python",
   "name": "python",
   "nbconvert_exporter": "python",
   "pygments_lexer": "ipython3",
   "version": "3.9.7"
  },
  "orig_nbformat": 4
 },
 "nbformat": 4,
 "nbformat_minor": 2
}
