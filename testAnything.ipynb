{
 "cells": [
  {
   "cell_type": "code",
   "execution_count": 2,
   "metadata": {},
   "outputs": [],
   "source": [
    "#testGetFullDF\n",
    "from sklearn.model_selection import train_test_split\n",
    "from sklearn.model_selection import cross_val_score\n",
    "import pandas as pd\n",
    "import yahoo_fin.stock_info as yf\n",
    "import numpy as np\n",
    "from stage import getStage\n",
    "import pickle\n",
    "from datetime import datetime"
   ]
  },
  {
   "cell_type": "code",
   "execution_count": null,
   "metadata": {},
   "outputs": [],
   "source": [
    "#test_train_test_split\n",
    "nasdaqList = yf.tickers_nasdaq()\n",
    "train, test = train_test_split(nasdaqList, test_size=0.3, random_state=0, shuffle=True)\n",
    "print(train)\n",
    "print(test)\n"
   ]
  },
  {
   "cell_type": "code",
   "execution_count": 5,
   "metadata": {},
   "outputs": [],
   "source": [
    "dfSorted = pd.read_pickle(\"stockData/nyseNasdaq/AAPL.pkl\")\n",
    "dfSorted.to_csv(\"sampleDfSorted.csv\")"
   ]
  },
  {
   "cell_type": "code",
   "execution_count": 11,
   "metadata": {},
   "outputs": [],
   "source": [
    "transactionFit = pd.read_pickle(\"transactionTemplate.pkl\")\n",
    "transactionFit['holding'] = np.empty((len(transactionFit), 0)).tolist()\n",
    "transactionFitCopy = transactionFit\n",
    "transactionFitCopy['total'] = 0\n",
    "transactionFitCopy.to_csv(\"transactionTemplateCopy.csv\")"
   ]
  },
  {
   "cell_type": "code",
   "execution_count": 1,
   "metadata": {},
   "outputs": [
    {
     "name": "stdout",
     "output_type": "stream",
     "text": [
      "DAVE\n",
      "DPRO\n",
      "FICV\n",
      "GBNH\n",
      "HCVIW\n",
      "NHICW\n",
      "PBAXW\n",
      "PEGRW\n",
      "PRLHW\n",
      "RDIB\n",
      "SAMAW\n",
      "SANG\n",
      "SCMAW\n",
      "SMAPW\n",
      "USCTW\n",
      "VMGAW\n",
      "ZIONP\n"
     ]
    }
   ],
   "source": [
    "SectorDict = {\n",
    "    \"Energy\":\"XLE\",\"Technology\":\"XLK\",\n",
    "    \"Communication Services\":\"XLC\",\n",
    "    \"Consumer Staples\":\"XLP\",\n",
    "    \"Health Care\":\"XLV\",\n",
    "    \"Consumer Cyclical\":\"XLY\",\n",
    "    \"Industrial\":\"XLI\",\n",
    "    \"Utilities\":\"XLU\",\n",
    "    \"Materials\":\"XLB\",\n",
    "    \"Financial\":\"XLF\",\n",
    "    \"Real Estate\":\"XLRE\"}\n",
    "sectorDfList = []\n",
    "for sector in SectorDict.values():\n",
    "    sectorDfList.append(pd.read_pickle(\"stockData/sectorCharts/\"+sector+\".pkl\"))\n",
    "    goodSectorDf = sectorDfList[0].drop(['open','high','low','adjclose','close','ticker','volume','percent','MA30','MA30Slope','RS'],axis=1)\n",
    "    goodSectorDf['Sectors'] = [[] for _ in range(len(goodSectorDf))]\n",
    "    goodSectorDf.index = sectorDfList[0].index\n",
    "    index = 0\n",
    "    for date in sectorDfList[0].index:\n",
    "        listOfSector = []\n",
    "        for df in sectorDfList:\n",
    "            try:\n",
    "                # print(df.at[date,'MA30Slope'],df.at[date,'RS'])\n",
    "                # print(individual[0][9],individual[0][10])\n",
    "                if  df.at[date,'MA30Slope'] > 0 or df.at[date,'RS'] > 0.1:\n",
    "                    # if df.at[date,'close'] > df.at[date,'MA30']:\n",
    "                        # print(df.at[date,'ticker'])\n",
    "                    listOfSector.append(df.at[date,'ticker'])\n",
    "            except:\n",
    "                listOfSector.append(df.iat[-1,6]) \n",
    "                pass\n",
    "            # print(listOfSector)\n",
    "        goodSectorDf.iat[index,0] = set(listOfSector)\n",
    "        index = index + 1\n",
    "stockDataTickerList = pd.read_pickle(\"stockData/tickerList.pkl\")\n",
    "removeList = []\n",
    "from stage import getStage\n",
    "for ticker in stockDataTickerList:\n",
    "    try:\n",
    "        getStage(ticker,[0.9630183179676801, 1.3518854933368092, 0.16319993430933552, 1.0537971763840923, 1.006835620568861, 1.0103606174928899, 0.9033455933504492, 0.9731546594459972, 1.46426124905874, 0.9991612063815158, 0.09863994265206354, 0.9826811057391516, 0.9949684774619274, 0.8670538938494661, 0.9895837713208671],goodSectorDf)\n",
    "    except:\n",
    "        print(ticker)\n",
    "        removeList.append(ticker)"
   ]
  },
  {
   "cell_type": "code",
   "execution_count": 2,
   "metadata": {},
   "outputs": [],
   "source": [
    "for ticker in removeList:\n",
    "    stockDataTickerList.remove(ticker)\n",
    "for ticker in removeList:\n",
    "    if ticker in stockDataTickerList:\n",
    "        print(\"Broken\")"
   ]
  },
  {
   "cell_type": "code",
   "execution_count": 3,
   "metadata": {},
   "outputs": [],
   "source": [
    "with open('stockData/tickerList.pkl', 'wb') as f:\n",
    "    pickle.dump(stockDataTickerList, f)"
   ]
  },
  {
   "cell_type": "code",
   "execution_count": 2,
   "metadata": {},
   "outputs": [],
   "source": [
    "getStage(\"AFRM\",[0.03361077383204303, 1.7466372328111242, -0.08498841770875612, 0.926192276854965, 1.1764676012556523, 1.1405501342698643, 0.8517616225271734, 0.8691969716399011, 1.268490629719207, 1.0013386634337298, 0.07551020458494859, 0.9489349345040117, 0.996709764664632, 0.9485725801058837, 0.9857019510456804],goodSectorDf)"
   ]
  },
  {
   "cell_type": "code",
   "execution_count": 21,
   "metadata": {},
   "outputs": [],
   "source": [
    "df = pd.read_pickle(\"transactionTemplate.pkl\")\n",
    "df.to_csv(\"transactionTemplate.csv\")\n"
   ]
  },
  {
   "cell_type": "code",
   "execution_count": 6,
   "metadata": {},
   "outputs": [],
   "source": [
    "now = datetime.now()\n",
    "yf.get_data('AAPL', start_date=\"1995-01-06\",end_date= now, index_as_date = True).drop(['open','high','low','close','adjclose','volume','ticker'],axis=1).to_csv(\"AAPL.csv\")"
   ]
  },
  {
   "cell_type": "code",
   "execution_count": null,
   "metadata": {},
   "outputs": [],
   "source": []
  }
 ],
 "metadata": {
  "interpreter": {
   "hash": "9b909473a2ac8a01f4c1acf0a2fbc0992511891620a2b1ce77dfcb5a1893eb99"
  },
  "kernelspec": {
   "display_name": "Python 3.9.7 64-bit ('titanic': conda)",
   "language": "python",
   "name": "python3"
  },
  "language_info": {
   "codemirror_mode": {
    "name": "ipython",
    "version": 3
   },
   "file_extension": ".py",
   "mimetype": "text/x-python",
   "name": "python",
   "nbconvert_exporter": "python",
   "pygments_lexer": "ipython3",
   "version": "3.9.7"
  },
  "orig_nbformat": 4
 },
 "nbformat": 4,
 "nbformat_minor": 2
}
