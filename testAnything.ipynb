{
 "cells": [
  {
   "cell_type": "code",
   "execution_count": 1,
   "metadata": {},
   "outputs": [
    {
     "name": "stdout",
     "output_type": "stream",
     "text": [
      "369 7.3625 7.75\n",
      "370 7.3625 7.75\n",
      "Hi\n",
      "371 8.470000267028809 8.470000267028809\n",
      "372 8.729999542236328 8.729999542236328\n",
      "373 8.609999656677246 8.729999542236328\n",
      "374 9.899999618530273 9.899999618530273\n",
      "375 9.40999984741211 9.899999618530273\n",
      "Hi\n",
      "376 10.319999694824219 10.319999694824219\n",
      "377 11.300000190734863 11.300000190734863\n",
      "378 15.380000114440918 15.380000114440918\n",
      "379 14.90999984741211 15.380000114440918\n",
      "380 14.6899995803833 15.380000114440918\n",
      "381 13.460000038146973 15.380000114440918\n",
      "382 13.460000038146973 15.380000114440918\n",
      "Hi\n",
      "383 21.280000686645508 21.280000686645508\n",
      "384 19.489999771118164 21.280000686645508\n",
      "385 18.229999542236328 21.280000686645508\n",
      "386 16.579999923706055 21.280000686645508\n",
      "387 15.850000381469727 21.280000686645508\n",
      "388 15.760000228881836 21.280000686645508\n",
      "389 14.229999542236328 21.280000686645508\n",
      "390 14.229999542236328 21.280000686645508\n",
      "391 14.229999542236328 21.280000686645508\n",
      "392 14.229999542236328 21.280000686645508\n",
      "393 14.229999542236328 21.280000686645508\n",
      "394 14.229999542236328 21.280000686645508\n",
      "395 14.229999542236328 21.280000686645508\n",
      "396 14.229999542236328 21.280000686645508\n",
      "397 14.229999542236328 21.280000686645508\n",
      "398 14.229999542236328 21.280000686645508\n",
      "399 14.229999542236328 21.280000686645508\n",
      "Hi\n",
      "400 24.959999084472656 24.959999084472656\n",
      "401 26.200000762939453 26.200000762939453\n",
      "402 25.829999923706055 26.200000762939453\n",
      "403 25.0 26.200000762939453\n",
      "404 23.860000610351562 26.200000762939453\n",
      "405 23.860000610351562 26.200000762939453\n",
      "406 23.860000610351562 26.200000762939453\n",
      "Hi\n",
      "407 29.600000381469727 29.600000381469727\n",
      "408 42.25 42.25\n",
      "409 40.45000076293945 42.25\n",
      "410 31.559999465942383 42.25\n",
      "411 27.549999237060547 42.25\n",
      "412 27.549999237060547 42.25\n",
      "413 27.549999237060547 42.25\n",
      "414 26.360000610351562 42.25\n",
      "415 26.360000610351562 42.25\n",
      "416 26.360000610351562 42.25\n",
      "417 23.860000610351562 42.25\n",
      "418 23.860000610351562 42.25\n",
      "419 23.860000610351562 42.25\n",
      "6484\n"
     ]
    }
   ],
   "source": [
    "#testGetFullDF\n",
    "from stage import getFullDf\n",
    "aEYE = getFullDf(\"AEYE\",[0.3318662099030736, 1.7347893537959698, 0.1916285863344682, 0.9350007642794158, 1.3283762780182027, 1.0069983167660093, 0.9708546875087183, 0.8212695161601586, 1.4036713065821127])\n",
    "aEYE.to_csv(\"AEYE.csv\")"
   ]
  },
  {
   "cell_type": "code",
   "execution_count": 5,
   "metadata": {},
   "outputs": [],
   "source": [
    "#testCVImport\n",
    "from sklearn.model_selection import train_test_split\n",
    "from sklearn.model_selection import cross_val_score\n",
    "import pandas as pd\n",
    "import yahoo_fin.stock_info as yf\n",
    "import numpy as np"
   ]
  },
  {
   "cell_type": "code",
   "execution_count": null,
   "metadata": {},
   "outputs": [],
   "source": [
    "#test_train_test_split\n",
    "nasdaqList = yf.tickers_nasdaq()\n",
    "train, test = train_test_split(nasdaqList, test_size=0.3, random_state=0, shuffle=True)\n",
    "print(train)\n",
    "print(test)\n"
   ]
  },
  {
   "cell_type": "code",
   "execution_count": 7,
   "metadata": {},
   "outputs": [
    {
     "ename": "NameError",
     "evalue": "name 'estimator' is not defined",
     "output_type": "error",
     "traceback": [
      "\u001b[0;31m---------------------------------------------------------------------------\u001b[0m",
      "\u001b[0;31mNameError\u001b[0m                                 Traceback (most recent call last)",
      "\u001b[0;32m/var/folders/1q/w3g5nkks29g3kjdwmq1lssj00000gn/T/ipykernel_16402/2138932572.py\u001b[0m in \u001b[0;36m<module>\u001b[0;34m\u001b[0m\n\u001b[1;32m      1\u001b[0m \u001b[0;31m#test_cross_val_score\u001b[0m\u001b[0;34m\u001b[0m\u001b[0;34m\u001b[0m\u001b[0m\n\u001b[1;32m      2\u001b[0m \u001b[0mX\u001b[0m \u001b[0;34m=\u001b[0m \u001b[0;34m[\u001b[0m\u001b[0;36m1\u001b[0m\u001b[0;34m,\u001b[0m\u001b[0;36m2\u001b[0m\u001b[0;34m,\u001b[0m\u001b[0;36m3\u001b[0m\u001b[0;34m,\u001b[0m\u001b[0;36m4\u001b[0m\u001b[0;34m,\u001b[0m\u001b[0;36m5\u001b[0m\u001b[0;34m,\u001b[0m\u001b[0;36m6\u001b[0m\u001b[0;34m,\u001b[0m\u001b[0;36m7\u001b[0m\u001b[0;34m,\u001b[0m\u001b[0;36m8\u001b[0m\u001b[0;34m,\u001b[0m\u001b[0;36m9\u001b[0m\u001b[0;34m,\u001b[0m\u001b[0;36m10\u001b[0m\u001b[0;34m]\u001b[0m\u001b[0;34m\u001b[0m\u001b[0;34m\u001b[0m\u001b[0m\n\u001b[0;32m----> 3\u001b[0;31m \u001b[0mcross_val_score\u001b[0m\u001b[0;34m(\u001b[0m\u001b[0mestimator\u001b[0m\u001b[0;34m.\u001b[0m\u001b[0mfit\u001b[0m\u001b[0;34m(\u001b[0m\u001b[0mX\u001b[0m\u001b[0;34m,\u001b[0m \u001b[0;36m5\u001b[0m\u001b[0;34m)\u001b[0m\u001b[0;34m,\u001b[0m \u001b[0mX\u001b[0m\u001b[0;34m,\u001b[0m \u001b[0mcv\u001b[0m\u001b[0;34m=\u001b[0m\u001b[0;36m5\u001b[0m\u001b[0;34m)\u001b[0m\u001b[0;34m\u001b[0m\u001b[0;34m\u001b[0m\u001b[0m\n\u001b[0m",
      "\u001b[0;31mNameError\u001b[0m: name 'estimator' is not defined"
     ]
    }
   ],
   "source": [
    "#test_cross_val_score\n"
   ]
  },
  {
   "cell_type": "code",
   "execution_count": 5,
   "metadata": {},
   "outputs": [],
   "source": [
    "dfSorted = pd.read_pickle(\"stockData/nyseNasdaq/AAPL.pkl\")\n",
    "dfSorted.to_csv(\"sampleDfSorted.csv\")"
   ]
  },
  {
   "cell_type": "code",
   "execution_count": 11,
   "metadata": {},
   "outputs": [],
   "source": [
    "transactionFit = pd.read_pickle(\"transactionTemplate.pkl\")\n",
    "transactionFit['holding'] = np.empty((len(transactionFit), 0)).tolist()\n",
    "transactionFitCopy = transactionFit\n",
    "transactionFitCopy['total'] = 0\n",
    "transactionFitCopy.to_csv(\"transactionTemplateCopy.csv\")"
   ]
  },
  {
   "cell_type": "code",
   "execution_count": 1,
   "metadata": {},
   "outputs": [
    {
     "name": "stdout",
     "output_type": "stream",
     "text": [
      "DAVE\n",
      "DPRO\n",
      "FICV\n",
      "GBNH\n",
      "HCVIW\n",
      "NHICW\n",
      "PBAXW\n",
      "PEGRW\n",
      "PRLHW\n",
      "RDIB\n",
      "SAMAW\n",
      "SANG\n",
      "SCMAW\n",
      "SMAPW\n",
      "USCTW\n",
      "VMGAW\n",
      "ZIONP\n"
     ]
    }
   ],
   "source": [
    "import pandas as pd\n",
    "SectorDict = {\n",
    "    \"Energy\":\"XLE\",\"Technology\":\"XLK\",\n",
    "    \"Communication Services\":\"XLC\",\n",
    "    \"Consumer Staples\":\"XLP\",\n",
    "    \"Health Care\":\"XLV\",\n",
    "    \"Consumer Cyclical\":\"XLY\",\n",
    "    \"Industrial\":\"XLI\",\n",
    "    \"Utilities\":\"XLU\",\n",
    "    \"Materials\":\"XLB\",\n",
    "    \"Financial\":\"XLF\",\n",
    "    \"Real Estate\":\"XLRE\"}\n",
    "sectorDfList = []\n",
    "for sector in SectorDict.values():\n",
    "    sectorDfList.append(pd.read_pickle(\"stockData/sectorCharts/\"+sector+\".pkl\"))\n",
    "    goodSectorDf = sectorDfList[0].drop(['open','high','low','adjclose','close','ticker','volume','percent','MA30','MA30Slope','RS'],axis=1)\n",
    "    goodSectorDf['Sectors'] = [[] for _ in range(len(goodSectorDf))]\n",
    "    goodSectorDf.index = sectorDfList[0].index\n",
    "    index = 0\n",
    "    for date in sectorDfList[0].index:\n",
    "        listOfSector = []\n",
    "        for df in sectorDfList:\n",
    "            try:\n",
    "                # print(df.at[date,'MA30Slope'],df.at[date,'RS'])\n",
    "                # print(individual[0][9],individual[0][10])\n",
    "                if  df.at[date,'MA30Slope'] > 0 or df.at[date,'RS'] > 0.1:\n",
    "                    # if df.at[date,'close'] > df.at[date,'MA30']:\n",
    "                        # print(df.at[date,'ticker'])\n",
    "                    listOfSector.append(df.at[date,'ticker'])\n",
    "            except:\n",
    "                listOfSector.append(df.iat[-1,6]) \n",
    "                pass\n",
    "            # print(listOfSector)\n",
    "        goodSectorDf.iat[index,0] = set(listOfSector)\n",
    "        index = index + 1\n",
    "stockDataTickerList = pd.read_pickle(\"stockData/tickerList.pkl\")\n",
    "removeList = []\n",
    "from stage import getStage\n",
    "for ticker in stockDataTickerList:\n",
    "    try:\n",
    "        getStage(ticker,[0.9630183179676801, 1.3518854933368092, 0.16319993430933552, 1.0537971763840923, 1.006835620568861, 1.0103606174928899, 0.9033455933504492, 0.9731546594459972, 1.46426124905874, 0.9991612063815158, 0.09863994265206354, 0.9826811057391516, 0.9949684774619274, 0.8670538938494661, 0.9895837713208671],goodSectorDf)\n",
    "    except:\n",
    "        print(ticker)\n",
    "        removeList.append(ticker)"
   ]
  },
  {
   "cell_type": "code",
   "execution_count": 2,
   "metadata": {},
   "outputs": [],
   "source": [
    "for ticker in removeList:\n",
    "    stockDataTickerList.remove(ticker)\n",
    "for ticker in removeList:\n",
    "    if ticker in stockDataTickerList:\n",
    "        print(\"Broken\")"
   ]
  },
  {
   "cell_type": "code",
   "execution_count": 3,
   "metadata": {},
   "outputs": [],
   "source": [
    "import pickle\n",
    "with open('stockData/tickerList.pkl', 'wb') as f:\n",
    "    pickle.dump(stockDataTickerList, f)"
   ]
  },
  {
   "cell_type": "code",
   "execution_count": null,
   "metadata": {},
   "outputs": [],
   "source": []
  }
 ],
 "metadata": {
  "interpreter": {
   "hash": "9b909473a2ac8a01f4c1acf0a2fbc0992511891620a2b1ce77dfcb5a1893eb99"
  },
  "kernelspec": {
   "display_name": "Python 3.9.7 64-bit ('titanic': conda)",
   "language": "python",
   "name": "python3"
  },
  "language_info": {
   "codemirror_mode": {
    "name": "ipython",
    "version": 3
   },
   "file_extension": ".py",
   "mimetype": "text/x-python",
   "name": "python",
   "nbconvert_exporter": "python",
   "pygments_lexer": "ipython3",
   "version": "3.9.7"
  },
  "orig_nbformat": 4
 },
 "nbformat": 4,
 "nbformat_minor": 2
}
