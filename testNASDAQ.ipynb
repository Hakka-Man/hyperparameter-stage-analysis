{
 "cells": [
  {
   "cell_type": "code",
   "execution_count": 3,
   "metadata": {},
   "outputs": [
    {
     "name": "stdout",
     "output_type": "stream",
     "text": [
      "[0.0657188272423509, 2.498238289039671, 0.37709390631628703, 0.9045961833666701, 1.1888500273351494, 1.2760867811720553, 0.9051048571612113, 0.8519962174605497]\n",
      "100\n"
     ]
    },
    {
     "data": {
      "text/plain": [
       "100"
      ]
     },
     "execution_count": 3,
     "metadata": {},
     "output_type": "execute_result"
    }
   ],
   "source": [
    "## change to our functinon\n",
    "from stage import getStage, fullPrint\n",
    "import numpy as np\n",
    "import pandas as pd\n",
    "from datetime import date\n",
    "import yahoo_fin.stock_info as yf\n",
    "import random\n",
    "nyseDf = pd.read_html('stockList.html')\n",
    "nyseDf = pd.DataFrame(nyseDf[0][0])\n",
    "nyseList = []\n",
    "for row in nyseDf.iterrows():\n",
    "    ticker = str(row[1]).split()[1]\n",
    "    if ticker == \"Symbol\":\n",
    "        continue\n",
    "    nyseList.append(ticker)\n",
    "def evalOneMax(individual):\n",
    "    print(individual[0])\n",
    "    transaction = yf.get_data('AAPL', start_date=\"1995-01-02\",end_date=\"2022-01-17\", index_as_date = True, interval=\"1wk\").drop(['open','high','low','close','adjclose','volume','ticker'],axis=1)\n",
    "    transaction['holding'] = np.empty((len(transaction), 0)).tolist()\n",
    "    tickerIndex = random.randint(0,len(yf.tickers_nasdaq())-1)\n",
    "    for symbol in yf.tickers_nasdaq():\n",
    "        df = getStage(symbol,individual[0])\n",
    "        inStage = False\n",
    "        buyTwice = False\n",
    "        if df.empty:\n",
    "            continue\n",
    "        for index, element in df.iterrows():\n",
    "            index = index.strftime('%Y-%m-%d')\n",
    "            if element.Stage == \"Stage 2\" or element.Stage == \"Buy\":\n",
    "                transaction.loc[index]['holding'].append((symbol,element.close,0))\n",
    "                if buyTwice:\n",
    "                    transaction.loc[index]['holding'].append((symbol,element.close,0))\n",
    "                if element.Stage == \"Buy\" and inStage:\n",
    "                    transaction.loc[index]['holding'].append((symbol,element.close,0))\n",
    "                    buyTwice = True\n",
    "                inStage = True\n",
    "                continue\n",
    "            if element.Stage == \"Sell\":\n",
    "                transaction.loc[index]['holding'].append((symbol,element.close,-1))\n",
    "                if buyTwice:\n",
    "                    transaction.loc[index]['holding'].append((symbol,element.close,-1))\n",
    "                inStage = False\n",
    "                buyTwice = False\n",
    "    total = 100\n",
    "    prevIndex = ''\n",
    "    first = True\n",
    "    transactionCopy = transaction\n",
    "    transactionCopy['total'] = 0\n",
    "    for index, element in transactionCopy.iterrows():\n",
    "        index = index.strftime('%Y-%m-%d')\n",
    "        if len(element.holding) == 0:\n",
    "            transactionCopy['total'][index] = total\n",
    "            continue\n",
    "        if first:\n",
    "            first = False\n",
    "            transactionCopy['total'][index] = total\n",
    "        else:\n",
    "            prevData = transactionCopy.loc[prevIndex].holding\n",
    "            if len(prevData):\n",
    "                total = 0\n",
    "                removeList = []\n",
    "                close = 0\n",
    "                for i in range(len(prevData)):\n",
    "                    for j in range(len(element.holding)):\n",
    "                        if element.holding[j][0] == prevData[i][0]:\n",
    "                            close = element.holding[j][1]\n",
    "                            if element.holding[j][2] == -1:\n",
    "                                removeList.append(element.holding[j])\n",
    "                            break\n",
    "                    total += close*prevData[i][2]\n",
    "                transactionCopy['total'][index] = total\n",
    "                for delete in removeList:\n",
    "                    if delete in element.holding:\n",
    "                        element.holding.remove(delete)\n",
    "            else:\n",
    "                transactionCopy['total'][index] = transactionCopy.loc[prevIndex].total\n",
    "        if len(element.holding):\n",
    "            allocation = total/len(element.holding)\n",
    "        print(index, allocation, total, len(element.holding))\n",
    "        for i in range(len(element.holding)):\n",
    "            element.holding[i] = (element.holding[i][0],element.holding[i][1],allocation/element.holding[i][1])\n",
    "        prevIndex = index\n",
    "    print(transactionCopy.iloc[-1]['total'])\n",
    "    transactionCopy.to_csv(\"transaction/checkBug.csv\")\n",
    "    transactionCopy.to_pickle(\"transaction/checkBug.pkl\")\n",
    "    return transactionCopy.iloc[-1]['total']\n",
    "evalOneMax([[0.0657188272423509, 2.498238289039671, 0.37709390631628703, 0.9045961833666701, 1.1888500273351494, 1.2760867811720553, 0.9051048571612113, 0.8519962174605497]])"
   ]
  },
  {
   "cell_type": "code",
   "execution_count": 4,
   "metadata": {},
   "outputs": [
    {
     "name": "stdout",
     "output_type": "stream",
     "text": [
      "6484\n"
     ]
    },
    {
     "ename": "ModuleNotFoundError",
     "evalue": "No module named 'stageOld'",
     "output_type": "error",
     "traceback": [
      "\u001b[0;31m---------------------------------------------------------------------------\u001b[0m",
      "\u001b[0;31mModuleNotFoundError\u001b[0m                       Traceback (most recent call last)",
      "\u001b[0;32m/var/folders/1q/w3g5nkks29g3kjdwmq1lssj00000gn/T/ipykernel_14740/3212600426.py\u001b[0m in \u001b[0;36m<module>\u001b[0;34m\u001b[0m\n\u001b[1;32m      1\u001b[0m \u001b[0;32mfrom\u001b[0m \u001b[0mstage\u001b[0m \u001b[0;32mimport\u001b[0m \u001b[0mgetFullDf\u001b[0m\u001b[0;34m\u001b[0m\u001b[0;34m\u001b[0m\u001b[0m\n\u001b[1;32m      2\u001b[0m \u001b[0mgetFullDf\u001b[0m\u001b[0;34m(\u001b[0m\u001b[0;34m\"AAPL\"\u001b[0m\u001b[0;34m,\u001b[0m\u001b[0;34m[\u001b[0m\u001b[0;36m0.3866447912682057\u001b[0m\u001b[0;34m,\u001b[0m \u001b[0;36m1.554754873864911\u001b[0m\u001b[0;34m,\u001b[0m \u001b[0;36m0.11941121685460436\u001b[0m\u001b[0;34m,\u001b[0m \u001b[0;36m1.0326272714103917\u001b[0m\u001b[0;34m,\u001b[0m \u001b[0;36m1.0873323087402937\u001b[0m\u001b[0;34m,\u001b[0m \u001b[0;36m1.0382277515512988\u001b[0m\u001b[0;34m,\u001b[0m \u001b[0;36m0.9779939752154027\u001b[0m\u001b[0;34m,\u001b[0m \u001b[0;36m0.9698535499223544\u001b[0m\u001b[0;34m,\u001b[0m\u001b[0;36m1.5\u001b[0m\u001b[0;34m]\u001b[0m\u001b[0;34m)\u001b[0m\u001b[0;34m.\u001b[0m\u001b[0mto_csv\u001b[0m\u001b[0;34m(\u001b[0m\u001b[0;34m\"result.csv\"\u001b[0m\u001b[0;34m)\u001b[0m\u001b[0;34m\u001b[0m\u001b[0;34m\u001b[0m\u001b[0m\n\u001b[0;32m----> 3\u001b[0;31m \u001b[0;32mfrom\u001b[0m \u001b[0mstageOld\u001b[0m \u001b[0;32mimport\u001b[0m \u001b[0mgetFullDfOld\u001b[0m\u001b[0;34m\u001b[0m\u001b[0;34m\u001b[0m\u001b[0m\n\u001b[0m\u001b[1;32m      4\u001b[0m \u001b[0mgetFullDfOld\u001b[0m\u001b[0;34m(\u001b[0m\u001b[0;34m\"AAPL\"\u001b[0m\u001b[0;34m,\u001b[0m\u001b[0;34m[\u001b[0m\u001b[0;36m0.3866447912682057\u001b[0m\u001b[0;34m,\u001b[0m \u001b[0;36m1.554754873864911\u001b[0m\u001b[0;34m,\u001b[0m \u001b[0;36m0.11941121685460436\u001b[0m\u001b[0;34m,\u001b[0m \u001b[0;36m1.0326272714103917\u001b[0m\u001b[0;34m,\u001b[0m \u001b[0;36m1.0873323087402937\u001b[0m\u001b[0;34m,\u001b[0m \u001b[0;36m1.0382277515512988\u001b[0m\u001b[0;34m,\u001b[0m \u001b[0;36m0.9779939752154027\u001b[0m\u001b[0;34m,\u001b[0m \u001b[0;36m0.9698535499223544\u001b[0m\u001b[0;34m,\u001b[0m\u001b[0;36m1.5\u001b[0m\u001b[0;34m]\u001b[0m\u001b[0;34m)\u001b[0m\u001b[0;34m.\u001b[0m\u001b[0mto_csv\u001b[0m\u001b[0;34m(\u001b[0m\u001b[0;34m\"resultOld.csv\"\u001b[0m\u001b[0;34m)\u001b[0m\u001b[0;34m\u001b[0m\u001b[0;34m\u001b[0m\u001b[0m\n",
      "\u001b[0;31mModuleNotFoundError\u001b[0m: No module named 'stageOld'"
     ]
    }
   ],
   "source": [
    "from stage import getFullDf\n",
    "getFullDf(\"AAPL\",[0.3866447912682057, 1.554754873864911, 0.11941121685460436, 1.0326272714103917, 1.0873323087402937, 1.0382277515512988, 0.9779939752154027, 0.9698535499223544,1.5]).to_csv(\"result.csv\")\n",
    "from stageOld import getFullDfOld\n",
    "getFullDfOld(\"AAPL\",[0.3866447912682057, 1.554754873864911, 0.11941121685460436, 1.0326272714103917, 1.0873323087402937, 1.0382277515512988, 0.9779939752154027, 0.9698535499223544,1.5]).to_csv(\"resultOld.csv\")"
   ]
  },
  {
   "cell_type": "code",
   "execution_count": null,
   "metadata": {},
   "outputs": [
    {
     "name": "stdout",
     "output_type": "stream",
     "text": [
      "2000-02-28 00:00:00 0.888392984867096\n",
      "0.888392984867096\n",
      "2000-03-20 00:00:00 1.1160709857940674\n",
      "1.1160709857940674\n"
     ]
    }
   ],
   "source": [
    "# from stage import getStage\n",
    "# getStage(\"AAPL\",[0.3866447912682057, 1.554754873864911, 0.11941121685460436, 1.0326272714103917, 1.0873323087402937, 1.0382277515512988, 0.9779939752154027, 0.9698535499223544])\n",
    "from stage import getFullDf\n",
    "getFullDf(\"AAPL\",[0.3866447912682057, 1.554754873864911, 0.11941121685460436, 1.0326272714103917, 1.0873323087402937, 1.0382277515512988, 0.9779939752154027, 0.9698535499223544,1.5]).to_csv(\"result.csv\")"
   ]
  },
  {
   "cell_type": "code",
   "execution_count": null,
   "metadata": {},
   "outputs": [],
   "source": []
  }
 ],
 "metadata": {
  "interpreter": {
   "hash": "9b909473a2ac8a01f4c1acf0a2fbc0992511891620a2b1ce77dfcb5a1893eb99"
  },
  "kernelspec": {
   "display_name": "Python 3.9.7 64-bit ('titanic': conda)",
   "language": "python",
   "name": "python3"
  },
  "language_info": {
   "codemirror_mode": {
    "name": "ipython",
    "version": 3
   },
   "file_extension": ".py",
   "mimetype": "text/x-python",
   "name": "python",
   "nbconvert_exporter": "python",
   "pygments_lexer": "ipython3",
   "version": "3.9.7"
  },
  "orig_nbformat": 4
 },
 "nbformat": 4,
 "nbformat_minor": 2
}
