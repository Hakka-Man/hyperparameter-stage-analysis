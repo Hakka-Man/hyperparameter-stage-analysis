{
 "cells": [
  {
   "cell_type": "code",
   "execution_count": 1,
   "metadata": {},
   "outputs": [
    {
     "name": "stdout",
     "output_type": "stream",
     "text": [
      "[0.3318662099030736, 1.7347893537959698, 0.1916285863344682, 0.9350007642794158, 1.3283762780182027, 1.0069983167660093, 0.9708546875087183, 0.8212695161601586, 1.4036713065821127]\n",
      "19.740609496810773\n",
      "13591.246380139364\n",
      "187 530 0.35283018867924526\n"
     ]
    },
    {
     "data": {
      "text/plain": [
       "13591.246380139364"
      ]
     },
     "execution_count": 1,
     "metadata": {},
     "output_type": "execute_result"
    }
   ],
   "source": [
    "## change to our functinon\n",
    "from stage import getStage, fullPrint\n",
    "import numpy as np\n",
    "import pandas as pd\n",
    "from datetime import date, timedelta\n",
    "import yahoo_fin.stock_info as yf\n",
    "import random\n",
    "nyseDf = pd.read_html('stockList.html')\n",
    "nyseDf = pd.DataFrame(nyseDf[0][0])\n",
    "nyseList = []\n",
    "for row in nyseDf.iterrows():\n",
    "    ticker = str(row[1]).split()[1]\n",
    "    if ticker == \"Symbol\":\n",
    "        continue\n",
    "    nyseList.append(ticker)\n",
    "def evalOneMax(individual):\n",
    "    print(individual[0])\n",
    "    winningTrade = 0\n",
    "    totalTrade = 0\n",
    "    transaction = yf.get_data('AAPL', start_date=\"1995-01-02\",end_date=\"2022-01-17\", index_as_date = True, interval=\"1wk\").drop(['open','high','low','close','adjclose','volume','ticker'],axis=1)\n",
    "    transaction['holding'] = np.empty((len(transaction), 0)).tolist()\n",
    "    tickerIndex = random.randint(0,len(yf.tickers_nasdaq())-1)\n",
    "    for symbol in yf.tickers_nasdaq():\n",
    "        df = getStage(symbol,individual[0])\n",
    "        inStage = False\n",
    "        buyTwice = False\n",
    "        if df.empty:\n",
    "            continue\n",
    "        drift = -1\n",
    "        for index, element in df.iterrows():\n",
    "            if drift == -1:\n",
    "                drift = index.weekday()\n",
    "            index = index - timedelta(days= drift)\n",
    "            index = index.strftime('%Y-%m-%d')\n",
    "            if element.Stage == \"Stage 2\" or element.Stage == \"Buy\":\n",
    "                if element.Stage == \"Buy\" and not inStage:\n",
    "                    buyPrice = element.close\n",
    "                transaction.loc[index]['holding'].append((symbol,element.close,0))\n",
    "                if buyTwice:\n",
    "                    transaction.loc[index]['holding'].append((symbol,element.close,0))\n",
    "                if element.Stage == \"Buy\" and inStage:\n",
    "                    secondBuyPrice = element.close\n",
    "                    transaction.loc[index]['holding'].append((symbol,element.close,0))\n",
    "                    buyTwice = True\n",
    "                inStage = True\n",
    "                continue\n",
    "            if element.Stage == \"Sell\":\n",
    "                transaction.loc[index]['holding'].append((symbol,element.close,-1))\n",
    "                returnRate = element.close / buyPrice\n",
    "                if returnRate > 1:\n",
    "                    winningTrade += 1\n",
    "                    totalTrade += 1\n",
    "                else:\n",
    "                    totalTrade += 1\n",
    "                if buyTwice:\n",
    "                    transaction.loc[index]['holding'].append((symbol,element.close,-1))\n",
    "                    returnRate = element.close / secondBuyPrice\n",
    "                    if returnRate > 1:\n",
    "                        winningTrade += 1\n",
    "                        totalTrade += 1\n",
    "                    else:\n",
    "                        totalTrade += 1\n",
    "                buyPrice = 0\n",
    "                secondBuyPrice = 0\n",
    "                inStage = False\n",
    "                buyTwice = False\n",
    "    total = 100\n",
    "    prevIndex = ''\n",
    "    first = True\n",
    "    transactionCopy = transaction\n",
    "    transactionCopy['total'] = 0\n",
    "    for index, element in transactionCopy.iterrows():\n",
    "        index = index.strftime('%Y-%m-%d')\n",
    "        if len(element.holding) == 0:\n",
    "            transactionCopy['total'][index] = total\n",
    "            continue\n",
    "        if first:\n",
    "            first = False\n",
    "            transactionCopy['total'][index] = total\n",
    "        else:\n",
    "            prevData = transactionCopy.loc[prevIndex].holding\n",
    "            if len(prevData):\n",
    "                total = 0\n",
    "                removeList = []\n",
    "                close = 0\n",
    "                for i in range(len(prevData)):\n",
    "                    for j in range(len(element.holding)):\n",
    "                        if element.holding[j][0] == prevData[i][0]:\n",
    "                            close = element.holding[j][1]\n",
    "                            if element.holding[j][2] == -1:\n",
    "                                removeList.append(element.holding[j])\n",
    "                            break\n",
    "                    total += close*prevData[i][2]\n",
    "                transactionCopy['total'][index] = total\n",
    "                for delete in removeList:\n",
    "                    if delete in element.holding:\n",
    "                        element.holding.remove(delete)\n",
    "            else:\n",
    "                transactionCopy['total'][index] = transactionCopy.loc[prevIndex].total\n",
    "        if len(element.holding):\n",
    "            allocation = total/len(element.holding)\n",
    "        for i in range(len(element.holding)):\n",
    "            element.holding[i] = (element.holding[i][0],element.holding[i][1],allocation/element.holding[i][1])\n",
    "        prevIndex = index\n",
    "    stockHolding  = 0\n",
    "    for i in transactionCopy.iterrows():\n",
    "        stockHolding += len(i[1]['holding'])\n",
    "    print(stockHolding/(transactionCopy.shape[0]))\n",
    "    print(transactionCopy.iloc[-1]['total'])\n",
    "    if totalTrade==0:\n",
    "        print(winningTrade, totalTrade, 0)\n",
    "    else:\n",
    "        print(winningTrade, totalTrade, winningTrade/totalTrade)\n",
    "    transactionCopy.to_csv(\"transaction/checkBug.csv\")\n",
    "    transactionCopy.to_pickle(\"transaction/checkBug.pkl\")\n",
    "    return transactionCopy.iloc[-1]['total']\n",
    "evalOneMax([[0.3318662099030736, 1.7347893537959698, 0.1916285863344682, 0.9350007642794158, 1.3283762780182027, 1.0069983167660093, 0.9708546875087183, 0.8212695161601586, 1.4036713065821127]])"
   ]
  },
  {
   "cell_type": "code",
   "execution_count": 2,
   "metadata": {},
   "outputs": [
    {
     "name": "stdout",
     "output_type": "stream",
     "text": [
      "6484\n"
     ]
    }
   ],
   "source": [
    "from stage import getFullDf\n",
    "getFullDf(\"ABUS\",[0.3318662099030736, 1.7347893537959698, 0.1916285863344682, 0.9350007642794158, 1.3283762780182027, 1.0069983167660093, 0.9708546875087183, 0.8212695161601586, 1.4036713065821127]).to_csv(\"ABUS.csv\")"
   ]
  },
  {
   "cell_type": "code",
   "execution_count": 3,
   "metadata": {},
   "outputs": [
    {
     "name": "stdout",
     "output_type": "stream",
     "text": [
      "6484\n"
     ]
    }
   ],
   "source": [
    "# from stage import getStage\n",
    "# getStage(\"AAPL\",[0.3866447912682057, 1.554754873864911, 0.11941121685460436, 1.0326272714103917, 1.0873323087402937, 1.0382277515512988, 0.9779939752154027, 0.9698535499223544])\n",
    "from stage import getFullDf\n",
    "getFullDf(\"AAPL\",[0.3866447912682057, 1.554754873864911, 0.11941121685460436, 1.0326272714103917, 1.0873323087402937, 1.0382277515512988, 0.9779939752154027, 0.9698535499223544,1.5]).to_csv(\"result.csv\")"
   ]
  },
  {
   "cell_type": "code",
   "execution_count": null,
   "metadata": {},
   "outputs": [],
   "source": []
  }
 ],
 "metadata": {
  "interpreter": {
   "hash": "9b909473a2ac8a01f4c1acf0a2fbc0992511891620a2b1ce77dfcb5a1893eb99"
  },
  "kernelspec": {
   "display_name": "Python 3.9.7 64-bit ('titanic': conda)",
   "language": "python",
   "name": "python3"
  },
  "language_info": {
   "codemirror_mode": {
    "name": "ipython",
    "version": 3
   },
   "file_extension": ".py",
   "mimetype": "text/x-python",
   "name": "python",
   "nbconvert_exporter": "python",
   "pygments_lexer": "ipython3",
   "version": "3.9.5"
  },
  "orig_nbformat": 4
 },
 "nbformat": 4,
 "nbformat_minor": 2
}
