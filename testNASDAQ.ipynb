{
 "cells": [
  {
   "cell_type": "code",
   "execution_count": 1,
   "metadata": {},
   "outputs": [],
   "source": [
    "## change to our functinon\n",
    "from stage import getStage, fullPrint\n",
    "import numpy as np\n",
    "import pandas as pd\n",
    "from datetime import date, timedelta, datetime\n",
    "import yahoo_fin.stock_info as yf\n",
    "import random\n",
    "SectorDict = {\n",
    "    \"Energy\":\"XLE\",\"Technology\":\"XLK\",\n",
    "    \"Communication Services\":\"XLC\",\n",
    "    \"Consumer Staples\":\"XLP\",\n",
    "    \"Health Care\":\"XLV\",\n",
    "    \"Consumer Cyclical\":\"XLY\",\n",
    "    \"Industrial\":\"XLI\",\n",
    "    \"Utilities\":\"XLU\",\n",
    "    \"Materials\":\"XLB\",\n",
    "    \"Financial\":\"XLF\",\n",
    "    \"Real Estate\":\"XLRE\"}\n",
    "sectorDfList = []\n",
    "for sector in SectorDict.values():\n",
    "    sectorDfList.append(pd.read_pickle(\"stockData/sectorCharts/\"+sector+\".pkl\"))\n",
    "\n",
    "nyseDf = pd.read_html('stockList.html')\n",
    "nyseDf = pd.DataFrame(nyseDf[0][0])\n",
    "nyseList = []\n",
    "for row in nyseDf.iterrows():\n",
    "    ticker = str(row[1]).split()[1]\n",
    "    if ticker == \"Symbol\":\n",
    "        continue\n",
    "    nyseList.append(ticker)\n",
    "allList = []\n",
    "nasdaqList = yf.tickers_nasdaq()\n",
    "allList = set(nasdaqList + nyseList)\n",
    "def evalOneMax(individual):\n",
    "    now = datetime.now()\n",
    "    now = now.strftime(\"%Y-%m-%d-%H:%M\")\n",
    "    print(individual[0])\n",
    "    winningTrade = 0\n",
    "    totalTrade = 0\n",
    "    transaction = pd.read_pickle(\"transactionTemplate.pkl\")\n",
    "    transaction['holding'] = np.empty((len(transaction), 0)).tolist()\n",
    "    goodSectorDf = sectorDfList[0].drop(['close','ticker','MA30','MA30Slope','RS'],axis=1)\n",
    "    goodSectorDf['Sectors'] = [[] for _ in range(len(goodSectorDf))]\n",
    "    goodSectorDf.index = sectorDfList[0].index\n",
    "    for date in sectorDfList[0].index:\n",
    "        listOfSector = []\n",
    "        for df in sectorDfList:\n",
    "            try:\n",
    "                if df.at[date,'MA30Slope'] > individual[0][9] and df.loc[date,'RS'] > individual[0][10]:\n",
    "                    if df.at[date,'close'] > df.at[date,'MA30']:\n",
    "                        listOfSector.append(df.at[date,'ticker'])\n",
    "            except: \n",
    "                pass\n",
    "        goodSectorDf.at[date,'Sectors'] = set(listOfSector)\n",
    "    for symbol in nasdaqList:\n",
    "        df = getStage(symbol,individual[0],goodSectorDf)\n",
    "        inStage = False\n",
    "        buyTwice = False\n",
    "        if df.empty:\n",
    "            continue\n",
    "        buyPrice = 0\n",
    "        secondBuyPrice = 0\n",
    "        drift = -1\n",
    "        for index, element in df.iterrows():\n",
    "            if drift == -1:\n",
    "                drift = index.weekday()\n",
    "            index = index - timedelta(days= drift)\n",
    "            index = index.strftime('%Y-%m-%d')\n",
    "            if element.Stage == \"Stage 2\" or element.Stage == \"Buy\":\n",
    "                if element.Stage == \"Buy\" and not inStage:\n",
    "                    buyPrice = element.close\n",
    "                transaction.loc[index]['holding'].append((symbol,element.close,0))\n",
    "                if buyTwice:\n",
    "                    transaction.loc[index]['holding'].append((symbol,element.close,0))\n",
    "                if element.Stage == \"Buy\" and inStage:\n",
    "                    secondBuyPrice = element.close\n",
    "                    transaction.loc[index]['holding'].append((symbol,element.close,0))\n",
    "                    buyTwice = True\n",
    "                inStage = True\n",
    "                continue\n",
    "            if element.Stage == \"Sell\":\n",
    "                transaction.loc[index]['holding'].append((symbol,element.close,-1))\n",
    "                returnRate = element.close / buyPrice\n",
    "                if returnRate > 1:\n",
    "                    winningTrade += 1\n",
    "                    totalTrade += 1\n",
    "                else:\n",
    "                    totalTrade += 1\n",
    "                if buyTwice:\n",
    "                    transaction.loc[index]['holding'].append((symbol,element.close,-1))\n",
    "                    returnRate = element.close / secondBuyPrice\n",
    "                    if returnRate > 1:\n",
    "                        winningTrade += 1\n",
    "                        totalTrade += 1\n",
    "                    else:\n",
    "                        totalTrade += 1\n",
    "                buyPrice = 0\n",
    "                secondBuyPrice = 0\n",
    "                inStage = False\n",
    "                buyTwice = False\n",
    "    total = 100\n",
    "    prevIndex = ''\n",
    "    first = True\n",
    "    transactionCopy = transaction\n",
    "    transactionCopy['total'] = 0\n",
    "    for index, element in transactionCopy.iterrows():\n",
    "        index = index.strftime('%Y-%m-%d')\n",
    "        if len(element.holding) == 0:\n",
    "            transactionCopy['total'][index] = total\n",
    "            continue\n",
    "        if first:\n",
    "            first = False\n",
    "            transactionCopy['total'][index] = total\n",
    "        else:\n",
    "            prevData = transactionCopy.loc[prevIndex].holding\n",
    "            if len(prevData):\n",
    "                total = 0\n",
    "                removeList = []\n",
    "                close = 0\n",
    "                for i in range(len(prevData)):\n",
    "                    for j in range(len(element.holding)):\n",
    "                        if element.holding[j][0] == prevData[i][0]:\n",
    "                            close = element.holding[j][1]\n",
    "                            if element.holding[j][2] == -1:\n",
    "                                removeList.append(element.holding[j])\n",
    "                            break\n",
    "                    total += close*prevData[i][2]\n",
    "                transactionCopy['total'][index] = total\n",
    "                for delete in removeList:\n",
    "                    if delete in element.holding:\n",
    "                        element.holding.remove(delete)\n",
    "            else:\n",
    "                transactionCopy['total'][index] = transactionCopy.loc[prevIndex].total\n",
    "        if len(element.holding):\n",
    "            allocation = total/len(element.holding)\n",
    "        for i in range(len(element.holding)):\n",
    "            element.holding[i] = (element.holding[i][0],element.holding[i][1],allocation/element.holding[i][1])\n",
    "        prevIndex = index\n",
    "    stockHolding  = 0\n",
    "    for i in transactionCopy.iterrows():\n",
    "        stockHolding += len(i[1]['holding'])\n",
    "    print(stockHolding/(transactionCopy.shape[0]))\n",
    "    print(transactionCopy.iloc[-1]['total'])\n",
    "    if totalTrade==0:\n",
    "        print(winningTrade, totalTrade, 0)\n",
    "    else:\n",
    "        print(winningTrade, totalTrade, winningTrade/totalTrade)\n",
    "    if stockHolding/(transactionCopy.shape[0])<8:\n",
    "        return 0,\n",
    "    return transactionCopy.iloc[-1]['total']\n",
    "# evalOneMax([[0.2088062403011085, 1.3923948213253003, 0.35063207272053876, 0.9325315828692986, 1.0884748465365186, 1.2178645745962666, 0.976399694816296, 0.9766178952891444, 1.383289733820422, 0.9953218464817897, -0.014234317027519955, 0.9663375876834599, 0.9940289768224931, 0.9626303277850059, 0.9844597312889762]])"
   ]
  },
  {
   "cell_type": "code",
   "execution_count": 2,
   "metadata": {},
   "outputs": [
    {
     "name": "stdout",
     "output_type": "stream",
     "text": [
      "[[0.08377026152663691, 0.8369486592147836, 0.3216617105756667, 0.9846501272634265, 1.0760786970329437, 1.2156368313224644, 0.9160035446527982, 0.9875510696777539, 1.337495141974483, 0.9952010119205937, 0.039984229134584215, 0.9840462801650771, 0.9873513441459263, 0.948039045982513, 0.9847277794993363], [0.24741802376193045, 1.1969293168070645, 0.3919744546518519, 0.9212277434136174, 1.2447995291169438, 1.2400322562034027, 0.970549470415594, 0.8614402727446571, 1.353668816788288, 1.0020146700186787, 0.0329932613652328, 0.9822545771978067, 0.9898745397449472, 0.9496857678547218, 0.9844684744298214], [0.1455292612654837, 1.0657283976488348, 0.2599120891097705, 0.9368252123743406, 1.0343094168251652, 1.2059367621212709, 0.991722454551891, 0.8168152723361571, 1.2888835028347978, 0.9937256958102058, 0.014657575281017729, 0.9809445586120963, 0.9925082406439346, 0.9537582814003209, 0.9908883730284089], [0.0766279044925956, 0.6596961889877901, -0.07384632725402261, 0.983404769117893, 1.2436256677638717, 1.210393227828704, 0.9115554042540084, 0.8771103418793152, 1.3571615355742606, 0.9984147011196439, 0.05389818751397602, 0.9579856398361898, 0.9957146927996102, 0.9481120664312325, 0.9840917016799114], [0.17064319694687002, 0.17814428493678786, -0.04706831189567337, 0.9845595221436254, 1.2436256677638717, 1.2579418652133394, 0.9084217199255443, 0.8849661059949474, 1.3571615355742606, 0.9984147011196439, 0.048818928855350135, 0.9690740274290229, 0.9961968575826808, 0.9419103884023674, 0.9828011431253308], [0.02855434640062704, 0.5602397558801298, -0.04706831189567337, 0.9845595221436254, 1.2436256677638717, 1.1942557459034306, 0.9248071071750594, 0.8614402727446571, 1.353668816788288, 1.0020146700186787, 0.0329932613652328, 0.9579856398361898, 0.9962680110476665, 0.9419103884023674, 0.979800125723778], [0.702248346083708, 1.1799944507099511, 0.2901310030609501, 0.9396817687011345, 1.0106082653154587, 1.2636680068745507, 0.9831370112632607, 0.8784454945735607, 1.4434673941454603, 0.9966309181685932, 0.08880161756615718, 0.9404241365438174, 0.9939157138588018, 0.911627654256213, 0.9803739090498355], [0.0766279044925956, 0.6596961889877901, -0.07384632725402261, 0.983404769117893, 1.2436256677638717, 1.0104738235811408, 0.9404466477990945, 0.8159112638649569, 1.4908201730642807, 0.9890457332276925, 0.0334162633812682, 0.9822545771978067, 0.9898745397449472, 0.9501540420088214, 0.9840917016799114], [0.16372251266619153, 0.7959391220616984, 0.016636000189365077, 0.9891721641792551, 1.2447995291169438, 1.2400322562034027, 0.9007054007330741, 0.8614402727446571, 1.353668816788288, 1.0020146700186787, 0.0329932613652328, 0.9822545771978067, 0.9898745397449472, 0.9496857678547218, 0.9813312842617662], [0.02855434640062704, 0.5602397558801298, -0.04706831189567337, 0.9845595221436254, 1.2436256677638717, 1.2579418652133394, 0.9084217199255443, 0.8849661059949474, 1.3571615355742606, 0.9822280780277376, 0.09314800402003517, 0.9579856398361898, 0.9962680110476665, 0.9414421142482678, 0.979800125723778], [0.02855434640062704, 0.5602397558801298, -0.04706831189567337, 0.9845595221436254, 1.2447995291169438, 1.2400322562034027, 0.9021599395275733, 0.8463804433175733, 1.351431936701311, 1.0020146700186787, 0.05389818751397602, 0.9579856398361898, 0.9962680110476665, 0.9419103884023674, 0.979800125723778], [0.16372251266619153, 0.7959391220616984, 0.016636000189365077, 0.9891721641792551, 1.2436256677638717, 1.2579418652133394, 0.9248071071750594, 0.9267176671796029, 1.3593984156612375, 0.9984147011196439, 0.0329932613652328, 0.9822545771978067, 0.9898745397449472, 0.9496857678547218, 0.9813312842617662]]\n"
     ]
    }
   ],
   "source": [
    "import ast\n",
    "file = open('resultAlan.txt')\n",
    "i = 0\n",
    "coef = \"\"\n",
    "profit = 0\n",
    "listOfCoef = []\n",
    "for line in file:\n",
    "    if \"--\" in line:\n",
    "        continue\n",
    "    if i%4 == 0:\n",
    "        try:\n",
    "            coef = ast.literal_eval(line.strip('\\n'))\n",
    "        except:\n",
    "            pass\n",
    "        i = i + 1\n",
    "    elif i%4 == 2:\n",
    "        profit = float(line)\n",
    "        if profit > 30000 and profit < 32000:\n",
    "            listOfCoef.append(coef)\n",
    "        i = i + 1\n",
    "    else:\n",
    "        i = i + 1\n",
    "print(listOfCoef)"
   ]
  },
  {
   "cell_type": "code",
   "execution_count": 3,
   "metadata": {},
   "outputs": [
    {
     "name": "stdout",
     "output_type": "stream",
     "text": [
      "0.08377026152663691\n",
      "[0.08377026152663691, 0.8369486592147836, 0.3216617105756667, 0.9846501272634265, 1.0760786970329437, 1.2156368313224644, 0.9160035446527982, 0.9875510696777539, 1.337495141974483, 0.9952010119205937, 0.039984229134584215, 0.9840462801650771, 0.9873513441459263, 0.948039045982513, 0.9847277794993363]\n"
     ]
    }
   ],
   "source": [
    "for i in range(len(listOfCoef)):\n",
    "    print(listOfCoef[i][0])\n",
    "    evalOneMax([listOfCoef[i]])"
   ]
  },
  {
   "cell_type": "code",
   "execution_count": 2,
   "metadata": {},
   "outputs": [
    {
     "name": "stdout",
     "output_type": "stream",
     "text": [
      "6484\n"
     ]
    }
   ],
   "source": [
    "from stage import getFullDf\n",
    "getFullDf(\"ABUS\",[0.3318662099030736, 1.7347893537959698, 0.1916285863344682, 0.9350007642794158, 1.3283762780182027, 1.0069983167660093, 0.9708546875087183, 0.8212695161601586, 1.4036713065821127]).to_csv(\"ABUS.csv\")"
   ]
  },
  {
   "cell_type": "code",
   "execution_count": 3,
   "metadata": {},
   "outputs": [
    {
     "name": "stdout",
     "output_type": "stream",
     "text": [
      "6484\n"
     ]
    }
   ],
   "source": [
    "# from stage import getStage\n",
    "# getStage(\"AAPL\",[0.3866447912682057, 1.554754873864911, 0.11941121685460436, 1.0326272714103917, 1.0873323087402937, 1.0382277515512988, 0.9779939752154027, 0.9698535499223544])\n",
    "from stage import getFullDf\n",
    "getFullDf(\"AAPL\",[0.3866447912682057, 1.554754873864911, 0.11941121685460436, 1.0326272714103917, 1.0873323087402937, 1.0382277515512988, 0.9779939752154027, 0.9698535499223544,1.5]).to_csv(\"result.csv\")"
   ]
  },
  {
   "cell_type": "code",
   "execution_count": null,
   "metadata": {},
   "outputs": [],
   "source": []
  }
 ],
 "metadata": {
  "interpreter": {
   "hash": "9b909473a2ac8a01f4c1acf0a2fbc0992511891620a2b1ce77dfcb5a1893eb99"
  },
  "kernelspec": {
   "display_name": "Python 3.9.7 64-bit ('titanic': conda)",
   "language": "python",
   "name": "python3"
  },
  "language_info": {
   "codemirror_mode": {
    "name": "ipython",
    "version": 3
   },
   "file_extension": ".py",
   "mimetype": "text/x-python",
   "name": "python",
   "nbconvert_exporter": "python",
   "pygments_lexer": "ipython3",
   "version": "3.9.5"
  },
  "orig_nbformat": 4
 },
 "nbformat": 4,
 "nbformat_minor": 2
}
