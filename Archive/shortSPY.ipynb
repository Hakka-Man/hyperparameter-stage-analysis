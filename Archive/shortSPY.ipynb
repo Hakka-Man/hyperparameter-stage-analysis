{
 "cells": [
  {
   "cell_type": "code",
   "execution_count": 38,
   "metadata": {},
   "outputs": [],
   "source": [
    "import pandas as pd\n",
    "import yahoo_fin.stock_info as yf\n",
    "import numpy as np\n",
    "from datetime import timedelta, datetime\n",
    "import matplotlib.pyplot as plt\n",
    "now = datetime.now()"
   ]
  },
  {
   "cell_type": "code",
   "execution_count": 35,
   "metadata": {},
   "outputs": [
    {
     "name": "stdout",
     "output_type": "stream",
     "text": [
      "                   open         high          low        close     adjclose  \\\n",
      "1995-01-06   460.380005   462.489990   459.470001          NaN   460.679993   \n",
      "1995-01-13   461.640015   466.429993   461.640015   462.356000   465.970001   \n",
      "1995-01-20   466.950012   466.989990   463.989990   468.173999   464.779999   \n",
      "1995-01-27   468.320007   471.359985   468.320007   467.566003   470.390015   \n",
      "1995-02-03   472.779999   479.910004   472.779999   472.154004   478.649994   \n",
      "...                 ...          ...          ...          ...          ...   \n",
      "2022-03-11  4279.500000  4291.009766  4200.490234  4222.700000  4204.310059   \n",
      "2022-03-18  4407.339844  4465.399902  4390.569824  4333.641992  4463.120117   \n",
      "2022-03-25  4522.910156  4546.029785  4501.069824  4498.450098  4543.060059   \n",
      "2022-04-01  4540.319824  4548.700195  4507.569824  4577.168066  4545.859863   \n",
      "2022-04-08  4494.149902  4520.410156  4474.600098  4515.479980  4488.279785   \n",
      "\n",
      "                volume ticker      Dates  \n",
      "1995-01-06   308070000  ^GSPC 1995-01-06  \n",
      "1995-01-13   336740000  ^GSPC 1995-01-13  \n",
      "1995-01-20   378190000  ^GSPC 1995-01-20  \n",
      "1995-01-27   339510000  ^GSPC 1995-01-27  \n",
      "1995-02-03   441000000  ^GSPC 1995-02-03  \n",
      "...                ...    ...        ...  \n",
      "2022-03-11  3877430000  ^GSPC 2022-03-11  \n",
      "2022-03-18  6681510000  ^GSPC 2022-03-18  \n",
      "2022-03-25  3577520000  ^GSPC 2022-03-25  \n",
      "2022-04-01  3828290000  ^GSPC 2022-04-01  \n",
      "2022-04-08  3453040000  ^GSPC 2022-04-08  \n",
      "\n",
      "[1374 rows x 8 columns]\n"
     ]
    }
   ],
   "source": [
    "spDf = yf.get_data('^GSPC', start_date=\"1995-01-06\",end_date = '2022-04-09', index_as_date = True)\n",
    "spDf = spDf[~spDf.index.duplicated()]\n",
    "spDf['close'] = spDf['close'].rolling(window=5).apply(lambda x: np.average(x))\n",
    "spDf['Dates'] = pd.to_datetime(spDf.index)\n",
    "spFDf = spDf[spDf['Dates'].dt.weekday == 4]\n",
    "spMDf = spDf[spDf['Dates'].dt.weekday == 0]\n",
    "spDf = spDf.drop('Dates', axis = 1)\n",
    "# spDf.to_pickle(\"stockData/Spy.pkl\")\n",
    "print(spFDf)"
   ]
  },
  {
   "cell_type": "code",
   "execution_count": 26,
   "metadata": {},
   "outputs": [],
   "source": [
    "total = 100\n",
    "# spDf = pd.read_pickle('stockData/Spy.pkl')\n",
    "allocation = 0"
   ]
  },
  {
   "cell_type": "code",
   "execution_count": 27,
   "metadata": {},
   "outputs": [
    {
     "name": "stdout",
     "output_type": "stream",
     "text": [
      "-440856.9349387405\n"
     ]
    }
   ],
   "source": [
    "for index, element in spMDf.iterrows():\n",
    "    if allocation == 0:\n",
    "        allocation = total / element.open\n",
    "        # print(allocation)\n",
    "    if index + timedelta(days=4) in spFDf.index:\n",
    "        total = total - allocation * spFDf.loc[index + timedelta(days=4)].close   \n",
    "print(total)"
   ]
  },
  {
   "cell_type": "code",
   "execution_count": 48,
   "metadata": {},
   "outputs": [
    {
     "name": "stdout",
     "output_type": "stream",
     "text": [
      "100\n",
      "112.26604586983593\n",
      "119.80861754784922\n",
      "112.32129165477323\n",
      "132.6760663487068\n",
      "132.62955862375944\n",
      "133.8842342409719\n",
      "131.8014434919851\n",
      "130.74541951398086\n",
      "125.79861708400884\n",
      "123.06834219555924\n",
      "120.96891101042264\n",
      "119.17419442858296\n",
      "117.93738655779813\n",
      "117.03232437739136\n",
      "122.74216882258044\n",
      "169.27869957845678\n",
      "174.03545174569805\n",
      "170.40197931013833\n",
      "179.31101597813156\n",
      "173.05542617563302\n",
      "171.4054147598383\n",
      "166.76947265872326\n",
      "162.66981756582356\n",
      "160.92064441084312\n",
      "166.60951710341712\n",
      "162.5413135124048\n",
      "161.09027363791049\n",
      "164.72657110781407\n",
      "162.38285600460372\n",
      "166.03121788965825\n",
      "166.5881619182064\n"
     ]
    },
    {
     "data": {
      "text/plain": [
       "<AxesSubplot:>"
      ]
     },
     "execution_count": 48,
     "metadata": {},
     "output_type": "execute_result"
    },
    {
     "data": {
      "image/png": "[encoded data removed]",
      "text/plain": [
       "<Figure size 432x288 with 1 Axes>"
      ]
     },
     "metadata": {
      "needs_background": "light"
     },
     "output_type": "display_data"
    }
   ],
   "source": [
    "df = pd.read_pickle(\"0.12670742563044157.pkl\")\n",
    "df['shortSPYTotal'] = 100\n",
    "df = df[df.index - pd.to_datetime('2000-09-01') > timedelta(0)]\n",
    "newDf = pd.DataFrame()\n",
    "newDf['total'] = 0\n",
    "total = 100\n",
    "gold = yf.get_data(\"GC=F\", start_date=\"1995-01-06\",end_date = now, index_as_date = True)\n",
    "bearish = False\n",
    "allocation = 0\n",
    "originalTotal = 0\n",
    "for index, element in df.iterrows():\n",
    "    if len(element.holding) == 0:\n",
    "        if allocation == 0:\n",
    "            allocation = total / spFDf.loc[index].close\n",
    "            print(total)\n",
    "            originalTotal = total\n",
    "        else:\n",
    "            total = 2 * originalTotal - spFDf.loc[index].close * allocation\n",
    "        newDf = newDf.append({'total': total}, ignore_index = True)\n",
    "    elif allocation != 0:\n",
    "        total = 2 * originalTotal - spFDf.loc[index].close * allocation\n",
    "        allocation = 0\n",
    "        originalTotal = 0\n",
    "        newDf = newDf.append({'total': total}, ignore_index = True)\n",
    "    df.loc[index,'shortSPYTotal'] = total\n",
    "    \n",
    "print(total)\n",
    "\n",
    "            \n",
    "# df['shortSPYTotal'].plot()\n",
    "newDf.plot()"
   ]
  },
  {
   "cell_type": "code",
   "execution_count": 49,
   "metadata": {},
   "outputs": [],
   "source": [
    "newDf.to_pickle('shortSPY.pkl')"
   ]
  },
  {
   "cell_type": "code",
   "execution_count": null,
   "metadata": {},
   "outputs": [],
   "source": []
  }
 ],
 "metadata": {
  "interpreter": {
   "hash": "3659d74a03a076070b8ace084e8072f11a9e6ae6a55635e52cb34e524d167ff7"
  },
  "kernelspec": {
   "display_name": "Python 3.9.7 ('titanic')",
   "language": "python",
   "name": "python3"
  },
  "language_info": {
   "codemirror_mode": {
    "name": "ipython",
    "version": 3
   },
   "file_extension": ".py",
   "mimetype": "text/x-python",
   "name": "python",
   "nbconvert_exporter": "python",
   "pygments_lexer": "ipython3",
   "version": "3.9.7"
  },
  "orig_nbformat": 4
 },
 "nbformat": 4,
 "nbformat_minor": 2
}
