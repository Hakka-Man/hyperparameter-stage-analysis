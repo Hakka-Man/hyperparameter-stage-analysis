{
 "cells": [
  {
   "cell_type": "code",
   "execution_count": null,
   "metadata": {},
   "outputs": [],
   "source": [
    "from bs4 import BeautifulSoup\n",
    "\n",
    "with open('table.txt') as f:\n",
    "    result = f.readlines()\n",
    "resultString = \"\"\n",
    "for str in result:\n",
    "    resultString += str\n",
    "soup = BeautifulSoup(resultString, \"html.parser\")\n",
    "# print(soup)\n",
    "# Creating list with all tables\n",
    "table = soup.find('table', class_='table table-striped table-bordered table-hover table-condensed dataTable no-footer')\n",
    "# print(tables)\n",
    "for row in table.tbody.find_all('tr'):    \n",
    "    # Find all data for each column\n",
    "    columns = row.find_all('td')\n",
    "    # print(columns[0])\n",
    "    if(columns != []):\n",
    "        a = columns[0].text.strip()\n",
    "        b = columns[1].text.strip()\n",
    "        print(b)"
   ]
  }
 ],
 "metadata": {
  "language_info": {
   "name": "python"
  },
  "orig_nbformat": 4
 },
 "nbformat": 4,
 "nbformat_minor": 2
}
