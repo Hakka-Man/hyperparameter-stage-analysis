{
 "cells": [
  {
   "cell_type": "code",
   "execution_count": 4,
   "metadata": {},
   "outputs": [
    {
     "name": "stdout",
     "output_type": "stream",
     "text": [
      "TMST\n",
      "LIFZF\n",
      "SID\n",
      "PKX\n",
      "ASTL\n",
      "TS\n",
      "RYI\n",
      "GGB\n",
      "FSUMF\n",
      "ZKIN\n",
      "MT\n",
      "ZEUS\n",
      "SCHN\n",
      "CLF\n",
      "WOR\n",
      "VALE\n",
      "SIM\n",
      "SYNL\n",
      "CMC\n",
      "TX\n",
      "HUDI\n",
      "X\n",
      "USAP\n",
      "MTL\n",
      "FRD\n",
      "ATI\n",
      "CRS\n",
      "RS\n",
      "NUE\n",
      "STLD\n",
      "AP\n"
     ]
    }
   ],
   "source": [
    "from bs4 import BeautifulSoup\n",
    "\n",
    "with open('table.txt') as f:\n",
    "    result = f.readlines()\n",
    "resultString = \"\"\n",
    "for str in result:\n",
    "    resultString += str\n",
    "soup = BeautifulSoup(resultString, \"html.parser\")\n",
    "# print(soup)\n",
    "# Creating list with all tables\n",
    "table = soup.find('table', class_='table table-striped table-bordered table-hover table-condensed dataTable no-footer')\n",
    "# print(tables)\n",
    "for row in table.tbody.find_all('tr'):    \n",
    "    # Find all data for each column\n",
    "    columns = row.find_all('td')\n",
    "    # print(columns[0])\n",
    "    if(columns != []):\n",
    "        a = columns[0].text.strip()\n",
    "        b = columns[1].text.strip()\n",
    "        print(b)"
   ]
  },
  {
   "cell_type": "code",
   "execution_count": null,
   "metadata": {},
   "outputs": [],
   "source": []
  }
 ],
 "metadata": {
  "interpreter": {
   "hash": "2dfbae9a87db7b2dc2578fe0d33f792a230924ef51e8a44dcc5b66c5d8b5b67e"
  },
  "kernelspec": {
   "display_name": "Python 3.9.7 ('titanic')",
   "language": "python",
   "name": "python3"
  },
  "language_info": {
   "codemirror_mode": {
    "name": "ipython",
    "version": 3
   },
   "file_extension": ".py",
   "mimetype": "text/x-python",
   "name": "python",
   "nbconvert_exporter": "python",
   "pygments_lexer": "ipython3",
   "version": "3.9.7"
  },
  "orig_nbformat": 4
 },
 "nbformat": 4,
 "nbformat_minor": 2
}
