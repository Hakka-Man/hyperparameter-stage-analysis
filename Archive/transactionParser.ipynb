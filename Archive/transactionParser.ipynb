{
 "cells": [
  {
   "cell_type": "code",
   "execution_count": 2,
   "metadata": {},
   "outputs": [
    {
     "name": "stdout",
     "output_type": "stream",
     "text": [
      "26.265060240963855\n"
     ]
    }
   ],
   "source": [
    "import pandas as pd\n",
    "from stage import fullPrint\n",
    "import yahoo_fin.stock_info as yf\n",
    "transaction = pd.read_pickle('transaction/transaction167.pkl')\n",
    "pd.set_option('display.max_rows', None)\n",
    "pd.set_option('display.max_columns', None)\n",
    "pd.set_option('display.width', 1000)\n",
    "pd.set_option('display.colheader_justify', 'center')\n",
    "pd.set_option('display.precision', 3)\n",
    "stockHolding  = 0\n",
    "for i in transaction.iterrows():\n",
    "    stockHolding += len(i[1]['holding'])\n",
    "print(stockHolding/(transaction.shape[0]))"
   ]
  },
  {
   "cell_type": "code",
   "execution_count": null,
   "metadata": {},
   "outputs": [],
   "source": [
    "transaction.to_csv(\"\")"
   ]
  }
 ],
 "metadata": {
  "interpreter": {
   "hash": "f14466829233405ef138eacac9de1e0fbc1ad785984b10899d1f652aa0ec8865"
  },
  "kernelspec": {
   "display_name": "Python 3.9.5 64-bit ('base': conda)",
   "language": "python",
   "name": "python3"
  },
  "language_info": {
   "codemirror_mode": {
    "name": "ipython",
    "version": 3
   },
   "file_extension": ".py",
   "mimetype": "text/x-python",
   "name": "python",
   "nbconvert_exporter": "python",
   "pygments_lexer": "ipython3",
   "version": "3.9.5"
  },
  "orig_nbformat": 4
 },
 "nbformat": 4,
 "nbformat_minor": 2
}
