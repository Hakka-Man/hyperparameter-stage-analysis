{
 "cells": [
  {
   "cell_type": "code",
   "execution_count": null,
   "metadata": {},
   "outputs": [],
   "source": [
    "from StockStageEstimator import StockStageEstimator\n",
    "import pandas as pd\n",
    "import numpy as np\n",
    "import random\n",
    "from datetime import datetime"
   ]
  },
  {
   "cell_type": "code",
   "execution_count": null,
   "metadata": {},
   "outputs": [],
   "source": [
    "## Mutation Noise \n",
    "mutationNoises = []\n",
    "mutationNoises.append(np.random.normal(0, 0.0125)) # 0 - Price v WMA30 (in)\n",
    "mutationNoises.append(np.random.normal(0, 0.005)) # 1 - Slope\n",
    "mutationNoises.append(np.random.normal(0, 0.075)) # 2 - Volume Perc\n",
    "mutationNoises.append(np.random.normal(0, 0.015)) # 3 - RS\n",
    "mutationNoises.append(np.random.normal(0, 0.005)) # 4 - Prev Trough v Peak\n",
    "mutationNoises.append(np.random.normal(0, 0.01)) # 5 - Price v Prev Support\n",
    "mutationNoises.append(np.random.normal(0, 0.0125)) # 6 - Price v WMA30 (out)\n"
   ]
  },
  {
   "cell_type": "code",
   "execution_count": null,
   "metadata": {},
   "outputs": [],
   "source": [
    "# ## Get returns of a ticker list\n",
    "# def calculateGroupReturn(list):\n",
    "#     monthlyReturn = pd.read_pickle(\"transactionTemplate.pkl\")\n",
    "#     monthlyReturn = monthlyReturn.resample('M').mean()\n",
    "#     monthlyReturn.index = monthlyReturn.index.strftime(\"%Y:%m\")\n",
    "#     currentColumn = -1\n",
    "#     for symbol in list:\n",
    "#         if symbol in monthlyReturn.columns:\n",
    "#             continue\n",
    "#         try:\n",
    "#             df = pd.read_pickle(\"stockData/nyseNasdaq/\"+symbol+\".pkl\")\n",
    "#         except:\n",
    "#             print(symbol)\n",
    "#             continue\n",
    "#         if not (df['close'] != 0).all() or df.empty:\n",
    "#             if df.empty:\n",
    "#                 print(symbol)\n",
    "#             continue\n",
    "#         monthlyReturn[symbol] = 1\n",
    "#         currentColumn += 1\n",
    "#         monthCheck = df.index[0].strftime(\"%Y:%m\")\n",
    "#         lastPrice = df.iat[0,0]\n",
    "#         initialPrice = df.iat[0,0]\n",
    "#         for index, element in df.iterrows():\n",
    "#             if (index.strftime(\"%Y:%m\") != monthCheck):\n",
    "#                 if (initialPrice == 0): continue\n",
    "#                 if (lastPrice / initialPrice >= 1.01 and lastPrice / initialPrice < 2):\n",
    "#                     rowNumber = monthlyReturn.index.get_loc(index.strftime(\"%Y:%m\"))\n",
    "#                     monthlyReturn.iat[rowNumber, currentColumn] = (lastPrice / initialPrice)\n",
    "#                 initialPrice = element[0]\n",
    "#                 lastPrice = element[0]\n",
    "#                 monthCheck = index.strftime(\"%Y:%m\")\n",
    "#             lastPrice = element[0]\n",
    "#     return monthlyReturn"
   ]
  },
  {
   "cell_type": "code",
   "execution_count": null,
   "metadata": {},
   "outputs": [],
   "source": [
    "### DEAP Evolutionary Functions ###\n",
    "\n",
    "## Generating individuals\n",
    "def generate_random_num_attr():\n",
    "  original = np.array([0,  # 0 - Price v WMA30 (in)\n",
    "                        0, # 1 - Slope\n",
    "                        0, # 2 - Volume Perc\n",
    "                        0, # 3 - RS\n",
    "                        0, # 4 - Price v Prev Trough\n",
    "                        0, # 5 - Price v Prev Resistance\n",
    "                        0, # 6 - Price v WMA30 (out)\n",
    "                        ]) \n",
    "  noises = []\n",
    "  sum_list = []\n",
    "\n",
    "  noises.append(random.uniform(1,0.6))\n",
    "  noises.append(random.uniform(0.85,1.05))\n",
    "  noises.append(random.uniform(0.1,2.5))\n",
    "  noises.append(random.uniform(-0.4,0.1))\n",
    "  noises.append(random.uniform(1,1.4))\n",
    "  \n",
    "  noises.append(random.uniform(1, 1.2))\n",
    "  noises.append(random.uniform(0.8, 1.1))\n",
    "\n",
    "\n",
    "  for (item1, item2) in zip(original, noises):\n",
    "      sum_list.append(item1+item2)\n",
    "  \n",
    "  return sum_list"
   ]
  },
  {
   "cell_type": "code",
   "execution_count": null,
   "metadata": {},
   "outputs": [],
   "source": [
    "## Mutating Individuals\n",
    "def mutate(individual):\n",
    "    size = len(individual)\n",
    "    for i in range(0,size):\n",
    "        if random.random() > 0.9:\n",
    "            individual[i] = individual[i] + mutationNoises[i]\n",
    "    return individual,"
   ]
  }
 ],
 "metadata": {
  "language_info": {
   "name": "python"
  },
  "orig_nbformat": 4
 },
 "nbformat": 4,
 "nbformat_minor": 2
}
