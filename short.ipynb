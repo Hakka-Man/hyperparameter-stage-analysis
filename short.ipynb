{
 "cells": [
  {
   "cell_type": "code",
   "execution_count": 2,
   "metadata": {},
   "outputs": [],
   "source": [
    "## IMPORTS\n",
    "import pandas as pd\n",
    "pd.options.mode.chained_assignment = None  # default='warn'\n",
    "import numpy as np\n",
    "from datetime import date, timedelta\n",
    "from yahoo_fin.stock_info import get_data"
   ]
  },
  {
   "cell_type": "code",
   "execution_count": null,
   "metadata": {},
   "outputs": [],
   "source": [
    "## Constant\n",
    "SHORT_PEAK = 16\n",
    "SHORT_TROUGH = 17\n",
    "RESISTANCE = 15\n"
   ]
  },
  {
   "cell_type": "code",
   "execution_count": null,
   "metadata": {},
   "outputs": [],
   "source": [
    "goodSector = pd.DataFrame()\n",
    "spdf = pd.read_pickle(\"stockData/Spy.pkl\")\n",
    "sectorOfTicker = pd.read_pickle(\"stockData/nasdaq.pkl\")\n",
    "sectorOfNyse = pd.read_pickle(\"stockData/nyse.pkl\")\n",
    "sectorOfTicker.update(sectorOfNyse)\n",
    "\n",
    "## TOOL FUNCTIONS\n",
    "def fullPrint(df):\n",
    "    with pd.option_context('display.max_rows', None, 'display.max_columns', None):  # more options can be specified also\n",
    "        print(df)\n",
    "\n"
   ]
  },
  {
   "cell_type": "code",
   "execution_count": 2,
   "metadata": {},
   "outputs": [],
   "source": [
    "def checkIfStage4(\n",
    "    i,price,volumePerc, RS, slope, wMA30,prevStage,prevClose,prevResistance,peak,prevPeak,prevTrough,index,dfSorted,secondBought,initialSupport,fiveYearHigh,param,goodSectorDf):\n",
    "    if prevStage == \"Stage 4\" or prevStage == \"Sale Short\":\n",
    "        if price < prevPeak:\n",
    "            # update shortPeak and shortTrough\n",
    "            dfSorted.iat[i,SHORT_PEAK] = price\n",
    "            dfSorted.iat[i,SHORT_TROUGH] = price\n",
    "        else:\n",
    "            dfSorted.iat[i,SHORT_PEAK] = prevPeak\n",
    "            dfSorted.iat[i,SHORT_TROUGH] = min(prevTrough, price)\n",
    "        if price >= prevResistance*param[5] or price > wMA30*param[6]:\n",
    "            return \"Cover Buy\"\n",
    "\n",
    "        dfSorted.iat[i,RESISTANCE] = prevResistance\n",
    "\n",
    "        if price == dfSorted.iat[i,SHORT_TROUGH] and prevResistance < prevTrough*param[6]:\n",
    "            dfSorted.iat[i,RESISTANCE] = prevPeak\n",
    "        return \"Stage 4\"\n",
    "        \n",
    "    if price > wMA30*param[0]:\n",
    "        return \"Price\"\n",
    "    if slope > param[1]:\n",
    "        return \"Slope\"\n",
    "    if volumePerc < param[2]:\n",
    "        return \"volume\"\n",
    "    if RS > param[3]:\n",
    "        return \"RS\"\n",
    "    if price < prevClose:\n",
    "        dfSorted.iat[i,SHORT_PEAK] = price\n",
    "        dfSorted.iat[i,SHORT_TROUGH] = price\n",
    "    else:\n",
    "        dfSorted.iat[i,SHORT_PEAK] = price\n",
    "        dfSorted.iat[i,SHORT_TROUGH] = price*0.95\n",
    "    \n",
    "    return \"Sale Short\"\n",
    "  "
   ]
  },
  {
   "cell_type": "code",
   "execution_count": null,
   "metadata": {},
   "outputs": [],
   "source": []
  }
 ],
 "metadata": {
  "interpreter": {
   "hash": "9b909473a2ac8a01f4c1acf0a2fbc0992511891620a2b1ce77dfcb5a1893eb99"
  },
  "kernelspec": {
   "display_name": "Python 3.9.7 ('titanic')",
   "language": "python",
   "name": "python3"
  },
  "language_info": {
   "codemirror_mode": {
    "name": "ipython",
    "version": 3
   },
   "file_extension": ".py",
   "mimetype": "text/x-python",
   "name": "python",
   "nbconvert_exporter": "python",
   "pygments_lexer": "ipython3",
   "version": "3.9.7"
  },
  "orig_nbformat": 4
 },
 "nbformat": 4,
 "nbformat_minor": 2
}
