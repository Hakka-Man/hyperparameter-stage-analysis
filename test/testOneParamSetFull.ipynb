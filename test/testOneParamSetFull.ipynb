{
 "cells": [
  {
   "cell_type": "code",
   "execution_count": 1,
   "metadata": {},
   "outputs": [],
   "source": [
    "## IMPORTS\n",
    "import numpy as np\n",
    "import timeit\n",
    "start = timeit.default_timer()\n",
    "from stage import fullPrint\n",
    "from datetime import datetime, date\n",
    "from stage import getStage\n",
    "import pandas as pd\n",
    "import yahoo_fin.stock_info as yf\n",
    "import random\n",
    "from datetime import timedelta\n",
    "from sklearn.model_selection import train_test_split\n",
    "\n",
    "HOLDING = 0"
   ]
  },
  {
   "cell_type": "code",
   "execution_count": 2,
   "metadata": {},
   "outputs": [],
   "source": [
    "nasdaqList = pd.read_pickle(\"stockData/tickerList.pkl\")"
   ]
  },
  {
   "cell_type": "code",
   "execution_count": 3,
   "metadata": {},
   "outputs": [],
   "source": [
    "SectorDict = {\n",
    "    \"Energy\":\"XLE\",\"Technology\":\"XLK\",\n",
    "    \"Communication Services\":\"XLC\",\n",
    "    \"Consumer Staples\":\"XLP\",\n",
    "    \"Health Care\":\"XLV\",\n",
    "    \"Consumer Cyclical\":\"XLY\",\n",
    "    \"Industrial\":\"XLI\",\n",
    "    \"Utilities\":\"XLU\",\n",
    "    \"Materials\":\"XLB\",\n",
    "    \"Financial\":\"XLF\",\n",
    "    \"Real Estate\":\"XLRE\"}\n",
    "sectorDfList = []\n",
    "for sector in SectorDict.values():\n",
    "    sectorDfList.append(pd.read_pickle(\"stockData/sectorCharts/\"+sector+\".pkl\"))\n",
    "\n",
    "def evalOneMax(params):\n",
    "    now = datetime.now()\n",
    "    now = now.strftime(\"%Y-%m-%d-%H:%M\")\n",
    "    print(params)\n",
    "    transaction = pd.read_pickle(\"transactionTemplate.pkl\")\n",
    "    transaction['holding'] = np.empty((len(transaction), 0)).tolist()\n",
    "    goodSectorDf = sectorDfList[0].drop(['close','ticker','MA30','MA30Slope','RS'],axis=1)\n",
    "    goodSectorDf['Sectors'] = [[] for _ in range(len(goodSectorDf))]\n",
    "    goodSectorDf.index = sectorDfList[0].index\n",
    "    for date in sectorDfList[0].index:\n",
    "        listOfSector = []\n",
    "        for df in sectorDfList:\n",
    "            try:\n",
    "                if df.at[date,'MA30Slope'] > params[9] or df.at[date,'RS'] > params[10]:\n",
    "                    if df.at[date,'close'] > df.at[date,'MA30']:\n",
    "                        listOfSector.append(df.at[date,'ticker'])\n",
    "            except: \n",
    "                pass\n",
    "        goodSectorDf.at[date,'Sectors'] = set(listOfSector)\n",
    "    for symbol in nasdaqList:\n",
    "        df = getStage(symbol,params,goodSectorDf)\n",
    "        buyDf = pd.read_pickle('stockData/nysenasdaq/'+symbol+'Buy.pkl')\n",
    "        inStage = False\n",
    "        buyTwice = False\n",
    "        if df.empty:\n",
    "            continue\n",
    "\n",
    "        for index, element in df.iterrows():\n",
    "            open = 0\n",
    "            monday = index + timedelta(3)\n",
    "            i = transaction.index.get_loc(index)\n",
    "            if element.Stage == \"Stage 2\" or element.Stage == \"Buy\":\n",
    "                if monday in buyDf.index:\n",
    "                    open = buyDf.at[monday,'open']\n",
    "                else:\n",
    "                    open = element.close\n",
    "                transaction.iat[i,HOLDING].append((symbol,open,0))\n",
    "                if buyTwice:\n",
    "                    transaction.iat[i, HOLDING].append((symbol,open,0))\n",
    "                if element.Stage == \"Buy\" and inStage:\n",
    "                    transaction.iat[i, HOLDING].append((symbol,open,0))\n",
    "                    buyTwice = True\n",
    "                inStage = True\n",
    "                continue\n",
    "            if \"Sell\" == element.Stage[0:4]:\n",
    "                if monday in buyDf.index:\n",
    "                    open = buyDf.at[monday,'open']\n",
    "                else:\n",
    "                    open = element.close\n",
    "                transaction.iat[i, HOLDING].append((symbol,open,-1))\n",
    "                if buyTwice:\n",
    "                    transaction.iat[i, HOLDING].append((symbol,open,-1))\n",
    "                inStage = False\n",
    "                buyTwice = False\n",
    "    total = 100\n",
    "    prevIndex = ''\n",
    "    first = True\n",
    "    transactionCopy = transaction\n",
    "    transactionCopy['total'] = 0\n",
    "    for index, element in transactionCopy.iterrows():\n",
    "        index = index.strftime('%Y-%m-%d')\n",
    "        if len(element.holding) == 0:\n",
    "            transactionCopy['total'][index] = total\n",
    "            continue\n",
    "        if first:\n",
    "            first = False\n",
    "            transactionCopy['total'][index] = total\n",
    "        else:\n",
    "            prevData = transactionCopy.loc[prevIndex].holding\n",
    "            if len(prevData):\n",
    "                total = 0\n",
    "                removeList = []\n",
    "                close = 0\n",
    "                for i in range(len(prevData)):\n",
    "                    for j in range(len(element.holding)):\n",
    "                        if element.holding[j][0] == prevData[i][0]:\n",
    "                            close = element.holding[j][1]\n",
    "                            if element.holding[j][2] == -1:\n",
    "                                removeList.append(element.holding[j])\n",
    "                            break\n",
    "                    total += close*prevData[i][2]\n",
    "                transactionCopy['total'][index] = total\n",
    "                for delete in removeList:\n",
    "                    if delete in element.holding:\n",
    "                        element.holding.remove(delete)\n",
    "            else:\n",
    "                transactionCopy['total'][index] = transactionCopy.loc[prevIndex].total\n",
    "        if len(element.holding):\n",
    "            allocation = total/len(element.holding)\n",
    "        for i in range(len(element.holding)):\n",
    "            element.holding[i] = (element.holding[i][0],element.holding[i][1],allocation/element.holding[i][1])\n",
    "        prevIndex = index\n",
    "    stockHolding  = 0\n",
    "    for i in transactionCopy.iterrows():\n",
    "        stockHolding += len(i[1]['holding'])\n",
    "    print(stockHolding/(transactionCopy.shape[0]))\n",
    "    print(transactionCopy.iloc[-1]['total'])\n",
    "    transactionCopy.to_csv(\"transactionCopy.csv\")\n",
    "    return transactionCopy.iloc[-1]['total']"
   ]
  },
  {
   "cell_type": "code",
   "execution_count": 4,
   "metadata": {},
   "outputs": [
    {
     "name": "stdout",
     "output_type": "stream",
     "text": [
      "[0.03361077383204303, 1.7466372328111242, -0.08498841770875612, 0.926192276854965, 1.1764676012556523, 1.1405501342698643, 0.8517616225271734, 0.8691969716399011, 1.268490629719207, 1.0013386634337298, 0.07551020458494859, 0.9489349345040117, 0.996709764664632, 0.9485725801058837, 0.9857019510456804]\n",
      "247.05994152046785\n",
      "28546.746580072362\n"
     ]
    },
    {
     "data": {
      "text/plain": [
       "28546.746580072362"
      ]
     },
     "execution_count": 4,
     "metadata": {},
     "output_type": "execute_result"
    }
   ],
   "source": [
    "evalOneMax([0.03361077383204303, 1.7466372328111242, -0.08498841770875612, 0.926192276854965, 1.1764676012556523, 1.1405501342698643, 0.8517616225271734, 0.8691969716399011, 1.268490629719207, 1.0013386634337298, 0.07551020458494859, 0.9489349345040117, 0.996709764664632, 0.9485725801058837, 0.9857019510456804])"
   ]
  },
  {
   "cell_type": "code",
   "execution_count": null,
   "metadata": {},
   "outputs": [],
   "source": []
  }
 ],
 "metadata": {
  "interpreter": {
   "hash": "6482a61bd65142dfd08aacddc6d509313aa2a592aede050a356a471649f69690"
  },
  "kernelspec": {
   "display_name": "Python 3.9.7 64-bit ('titanic': conda)",
   "language": "python",
   "name": "python3"
  },
  "language_info": {
   "codemirror_mode": {
    "name": "ipython",
    "version": 3
   },
   "file_extension": ".py",
   "mimetype": "text/x-python",
   "name": "python",
   "nbconvert_exporter": "python",
   "pygments_lexer": "ipython3",
   "version": "3.9.7"
  },
  "orig_nbformat": 4
 },
 "nbformat": 4,
 "nbformat_minor": 2
}
