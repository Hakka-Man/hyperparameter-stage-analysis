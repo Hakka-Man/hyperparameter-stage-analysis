{
 "cells": [
  {
   "cell_type": "code",
   "execution_count": 1,
   "metadata": {},
   "outputs": [],
   "source": [
    "## IMPORTS\n",
    "import random\n",
    "from deap import base\n",
    "from deap import creator\n",
    "from deap import tools\n",
    "import numpy as np\n",
    "import timeit\n",
    "start = timeit.default_timer()\n",
    "from stage import fullPrint"
   ]
  },
  {
   "cell_type": "code",
   "execution_count": 2,
   "metadata": {},
   "outputs": [],
   "source": [
    "creator.create(\"FitnessMax\", base.Fitness, weights=(1.0,))\n",
    "creator.create(\"Individual\", list, fitness=creator.FitnessMax)\n"
   ]
  },
  {
   "cell_type": "code",
   "execution_count": 3,
   "metadata": {},
   "outputs": [],
   "source": [
    "def generate_random_num_attr():\n",
    "  original = np.array([0,0,0,0,0,0,0,0])\n",
    "  noises = []\n",
    "  sum_list = []\n",
    "\n",
    "  noises.append(random.uniform(0,1))\n",
    "  noises.append(random.uniform(0,3))\n",
    "  noises.append(random.uniform(-0.1,0.4))\n",
    "  noises.append(random.uniform(0.9,1.1))\n",
    "  noises.append(random.uniform(1,1.4))\n",
    "  noises.append(random.uniform(1, 1.3))\n",
    "  noises.append(random.uniform(0.8, 1))\n",
    "  noises.append(random.uniform(0.8, 1.2))\n",
    "\n",
    "  for (item1, item2) in zip(original, noises):\n",
    "      sum_list.append(item1+item2)\n",
    "  \n",
    "  return sum_list\n",
    "noises = []\n",
    "noises.append(np.random.normal(0, 0.025))\n",
    "noises.append(np.random.normal(0, 0.075))\n",
    "noises.append(np.random.normal(0, 0.015))\n",
    "noises.append(np.random.normal(0, 0.005))\n",
    "noises.append(np.random.normal(0, 0.0125))\n",
    "noises.append(np.random.normal(0, 0.015))\n",
    "noises.append(np.random.normal(0, 0.005))\n",
    "noises.append(np.random.normal(0, 0.01))\n",
    "def mutate(individual):\n",
    "  size = len(individual)\n",
    "  for i in range(0,size):\n",
    "    if random.random() > 0.9:\n",
    "      individual[i] = individual[i] + noises[i]\n",
    "  return individual,"
   ]
  },
  {
   "cell_type": "code",
   "execution_count": 4,
   "metadata": {},
   "outputs": [],
   "source": [
    "toolbox = base.Toolbox()\n",
    "# Attribute generator \n",
    "toolbox.register(\"attr_bool\", generate_random_num_attr)\n",
    "# Structure initializers\n",
    "toolbox.register(\"individual\", tools.initRepeat, creator.Individual, \n",
    "    toolbox.attr_bool, 1)\n",
    "toolbox.register(\"population\", tools.initRepeat, list, toolbox.individual)"
   ]
  },
  {
   "cell_type": "code",
   "execution_count": 5,
   "metadata": {},
   "outputs": [],
   "source": [
    "## change to our functinon\n",
    "from stage import getStage\n",
    "import numpy as np\n",
    "import pandas as pd\n",
    "from datetime import date\n",
    "import yahoo_fin.stock_info as yf\n",
    "import random\n",
    "nyseDf = pd.read_html('stockList.html')\n",
    "nyseDf = pd.DataFrame(nyseDf[0][0])\n",
    "nyseList = []\n",
    "for row in nyseDf.iterrows():\n",
    "    ticker = str(row[1]).split()[1]\n",
    "    if ticker == \"Symbol\":\n",
    "        continue\n",
    "    nyseList.append(ticker)\n",
    "allList = []\n",
    "nasdaqList = yf.tickers_nasdaq()\n",
    "allList = set(nasdaqList + nyseList)\n",
    "def evalOneMax(individual):\n",
    "    \n",
    "    print(individual[0])\n",
    "    \n",
    "    transaction = yf.get_data('AAPL', start_date=\"1995-01-02\",end_date=\"2022-01-17\", index_as_date = True, interval=\"1wk\").drop(['open','high','low','close','adjclose','volume','ticker'],axis=1)\n",
    "    transaction['holding'] = np.empty((len(transaction), 0)).tolist()\n",
    "    for symbol in random.sample(allList,1000):\n",
    "        df = getStage(symbol,individual[0])\n",
    "        inStage = False\n",
    "        buyTwice = False\n",
    "        if df.empty:\n",
    "            continue\n",
    "        for index, element in df.iterrows():\n",
    "            index = index.strftime('%Y-%m-%d')\n",
    "            if element.Stage == \"Stage 2\" or element.Stage == \"Buy\":\n",
    "                transaction.loc[index]['holding'].append((symbol,element.close,0))\n",
    "                if buyTwice:\n",
    "                    transaction.loc[index]['holding'].append((symbol,element.close,0))\n",
    "                if element.Stage == \"Buy\" and inStage:\n",
    "                    transaction.loc[index]['holding'].append((symbol,element.close,0))\n",
    "                    buyTwice = True\n",
    "                inStage = True\n",
    "                continue\n",
    "            if element.Stage == \"Sell\":\n",
    "                transaction.loc[index]['holding'].append((symbol,element.close,-1))\n",
    "                if buyTwice:\n",
    "                    transaction.loc[index]['holding'].append((symbol,element.close,-1))\n",
    "                inStage = False\n",
    "                buyTwice = False\n",
    "    total = 100\n",
    "    prevIndex = ''\n",
    "    first = True\n",
    "    transactionCopy = transaction\n",
    "    transactionCopy['total'] = 0\n",
    "    for index, element in transactionCopy.iterrows():\n",
    "        index = index.strftime('%Y-%m-%d')\n",
    "        if len(element.holding) == 0:\n",
    "            transactionCopy['total'][index] = total\n",
    "            continue\n",
    "        if first:\n",
    "            first = False\n",
    "            transactionCopy['total'][index] = total\n",
    "        else:\n",
    "            prevData = transactionCopy.loc[prevIndex].holding\n",
    "            if len(prevData):\n",
    "                total = 0\n",
    "                removeList = []\n",
    "                close = 0\n",
    "                for i in range(len(prevData)):\n",
    "                    for j in range(len(element.holding)):\n",
    "                        if element.holding[j][0] == prevData[i][0]:\n",
    "                            close = element.holding[j][1]\n",
    "                            if element.holding[j][2] == -1:\n",
    "                                removeList.append(element.holding[j])\n",
    "                            break\n",
    "                    total += close*prevData[i][2]\n",
    "                transactionCopy['total'][index] = total\n",
    "                for delete in removeList:\n",
    "                    if delete in element.holding:\n",
    "                        element.holding.remove(delete)\n",
    "            else:\n",
    "                transactionCopy['total'][index] = transactionCopy.loc[prevIndex].total\n",
    "        if len(element.holding):\n",
    "            allocation = total/len(element.holding)\n",
    "        for i in range(len(element.holding)):\n",
    "            element.holding[i] = (element.holding[i][0],element.holding[i][1],allocation/element.holding[i][1])\n",
    "        prevIndex = index\n",
    "    stockHolding  = 0\n",
    "    for i in transactionCopy.iterrows():\n",
    "        stockHolding += len(i[1]['holding'])\n",
    "    print(stockHolding/(transactionCopy.shape[0]))\n",
    "    print(transactionCopy.iloc[-1]['total'])\n",
    "    resultFile = open(\"resultML.txt\",\"a\")\n",
    "    resultFile.write(str(individual[0])+\"\\n\")\n",
    "    resultFile.write(str(stockHolding/(transactionCopy.shape[0]))+\"\\n\")\n",
    "    resultFile.write(str(transactionCopy.iloc[-1]['total'])+\"\\n\")\n",
    "    resultFile.close()\n",
    "    if stockHolding/(transactionCopy.shape[0])<8:\n",
    "        return 0,\n",
    "    return transactionCopy.iloc[-1]['total'],"
   ]
  },
  {
   "cell_type": "code",
   "execution_count": 6,
   "metadata": {},
   "outputs": [],
   "source": [
    "toolbox.register(\"evaluate\", evalOneMax)\n",
    "toolbox.register(\"mate\", tools.cxTwoPoint)\n",
    "toolbox.register(\"mutate\", mutate)\n",
    "toolbox.register(\"select\", tools.selTournament, tournsize=3)"
   ]
  },
  {
   "cell_type": "code",
   "execution_count": 7,
   "metadata": {},
   "outputs": [],
   "source": [
    "def main():\n",
    "\n",
    "\n",
    "    pop = toolbox.population(n=1024)\n",
    "    \n",
    "    # Evaluate the entire population\n",
    "    fitnesses = list(map(toolbox.evaluate, pop))\n",
    "    for ind, fit in zip(pop, fitnesses):\n",
    "        ind.fitness.values = fit\n",
    "        \n",
    "    # Begin the evolution\n",
    "    for g in range(10):\n",
    "        print(\"-- Generation %i --\" % g)\n",
    "        resultFile = open(\"resultML.txt\",\"a\")\n",
    "        resultFile.write(\"-- Generation %i --\" % g+\"\\n\")\n",
    "        resultFile.close()\n",
    "        \n",
    "        # Select the next generation individuals\n",
    "        offspring = toolbox.select(pop, len(pop))\n",
    "        # Clone the selected individuals\n",
    "        offspring = list(map(toolbox.clone, offspring))\n",
    "\n",
    "        # Apply crossover and mutation on the offspring\n",
    "        for child1, child2 in zip(offspring[::2], offspring[1::2]):\n",
    "            if random.random() < 0.5:\n",
    "                toolbox.mate(child1[0], child2[0])\n",
    "                del child1.fitness.values\n",
    "                del child2.fitness.values\n",
    "\n",
    "        for mutant in offspring:\n",
    "            if random.random() < 0.2:\n",
    "                toolbox.mutate(mutant[0])\n",
    "                del mutant.fitness.values        \n",
    "    \n",
    "        # Evaluate the individuals with an invalid fitness\n",
    "        invalid_ind = [ind for ind in offspring if not ind.fitness.valid]\n",
    "        fitnesses = map(toolbox.evaluate, invalid_ind)\n",
    "        for ind, fit in zip(invalid_ind, fitnesses):\n",
    "            ind.fitness.values = fit\n",
    "        \n",
    "        # Replace population\n",
    "        pop[:] = offspring\n",
    "    \n",
    "        # Gather all the fitnesses in one list and print the stats\n",
    "        fits = [ind.fitness.values[0] for ind in pop]\n",
    "        \n",
    "        length = len(pop)\n",
    "        mean = sum(fits) / length\n",
    "        sum2 = sum(x*x for x in fits)\n",
    "        std = abs(sum2 / length - mean**2)**0.5\n",
    "        \n",
    "        print(\"  Min %s\" % min(fits))\n",
    "        print(\"  Max %s\" % max(fits))\n",
    "        print(\"  Avg %s\" % mean)\n",
    "        print(\"  Std %s\" % std)\n",
    "        \n",
    "        \n",
    "    print(\"-- End of (successful) evolution --\")\n",
    "    \n",
    "    best_ind = tools.selBest(pop, 1)[0]\n",
    "    print(\"Best individual is %s, %s\" % (best_ind, best_ind.fitness.values))\n"
   ]
  },
  {
   "cell_type": "code",
   "execution_count": 8,
   "metadata": {},
   "outputs": [
    {
     "name": "stdout",
     "output_type": "stream",
     "text": [
      "[0.8313308620117684, 0.152318270197636, 0.2301716408311115, 0.9298534769552472, 1.3495445819675957, 1.231658496400248, 0.8427412418801956, 0.8847079934513152]\n"
     ]
    },
    {
     "name": "stderr",
     "output_type": "stream",
     "text": [
      "/var/folders/1q/w3g5nkks29g3kjdwmq1lssj00000gn/T/ipykernel_1714/1334583777.py:25: DeprecationWarning: Sampling from a set deprecated\n",
      "since Python 3.9 and will be removed in a subsequent version.\n",
      "  for symbol in random.sample(allList,1000):\n"
     ]
    },
    {
     "name": "stdout",
     "output_type": "stream",
     "text": [
      "4.875265768958186\n",
      "2692.136648141832\n",
      "[0.46068246406437996, 1.4504167421293177, -0.050459876209417914, 0.9692140749539048, 1.23554548261854, 1.1494129887900881, 0.8385345600492246, 1.0109265072098463]\n"
     ]
    },
    {
     "name": "stderr",
     "output_type": "stream",
     "text": [
      "/var/folders/1q/w3g5nkks29g3kjdwmq1lssj00000gn/T/ipykernel_1714/1334583777.py:25: DeprecationWarning: Sampling from a set deprecated\n",
      "since Python 3.9 and will be removed in a subsequent version.\n",
      "  for symbol in random.sample(allList,1000):\n"
     ]
    },
    {
     "name": "stdout",
     "output_type": "stream",
     "text": [
      "8.42239546420978\n",
      "2841.859727852318\n",
      "[0.4907451801963212, 2.3237040948720624, 0.052480065104430124, 1.066107480305571, 1.3406736924526705, 1.2575261855708877, 0.8669714531672253, 0.8872899947285513]\n"
     ]
    },
    {
     "name": "stderr",
     "output_type": "stream",
     "text": [
      "/var/folders/1q/w3g5nkks29g3kjdwmq1lssj00000gn/T/ipykernel_1714/1334583777.py:25: DeprecationWarning: Sampling from a set deprecated\n",
      "since Python 3.9 and will be removed in a subsequent version.\n",
      "  for symbol in random.sample(allList,1000):\n"
     ]
    },
    {
     "name": "stdout",
     "output_type": "stream",
     "text": [
      "0.0\n",
      "100\n",
      "[0.4815739885767625, 1.865821113699373, 0.27476171529766147, 0.9377836992421575, 1.0353104187402693, 1.2099135029209378, 0.9764380732646718, 1.0277168366409637]\n"
     ]
    },
    {
     "name": "stderr",
     "output_type": "stream",
     "text": [
      "/var/folders/1q/w3g5nkks29g3kjdwmq1lssj00000gn/T/ipykernel_1714/1334583777.py:25: DeprecationWarning: Sampling from a set deprecated\n",
      "since Python 3.9 and will be removed in a subsequent version.\n",
      "  for symbol in random.sample(allList,1000):\n"
     ]
    },
    {
     "name": "stdout",
     "output_type": "stream",
     "text": [
      "5.984408221119773\n",
      "1299.1295628648797\n",
      "[0.22608651990259754, 0.4228076108345873, 0.33294249788459596, 1.0022400593331646, 1.3952986641813334, 1.0154289608519491, 0.8856449742422137, 1.1573127223672666]\n"
     ]
    },
    {
     "name": "stderr",
     "output_type": "stream",
     "text": [
      "/var/folders/1q/w3g5nkks29g3kjdwmq1lssj00000gn/T/ipykernel_1714/1334583777.py:25: DeprecationWarning: Sampling from a set deprecated\n",
      "since Python 3.9 and will be removed in a subsequent version.\n",
      "  for symbol in random.sample(allList,1000):\n"
     ]
    },
    {
     "name": "stdout",
     "output_type": "stream",
     "text": [
      "0.7583274273564847\n",
      "1221.8837696750172\n",
      "[0.5611350267766486, 1.8018030190069356, 0.31805289205637266, 1.0938472929541914, 1.1549196066365124, 1.2798844625074333, 0.9598143511789483, 1.1116814380022213]\n"
     ]
    },
    {
     "name": "stderr",
     "output_type": "stream",
     "text": [
      "/var/folders/1q/w3g5nkks29g3kjdwmq1lssj00000gn/T/ipykernel_1714/1334583777.py:25: DeprecationWarning: Sampling from a set deprecated\n",
      "since Python 3.9 and will be removed in a subsequent version.\n",
      "  for symbol in random.sample(allList,1000):\n"
     ]
    },
    {
     "name": "stdout",
     "output_type": "stream",
     "text": [
      "0.0\n",
      "100\n",
      "[0.4676168214755344, 0.5128068216793972, -0.09856544925944602, 1.0392722255677378, 1.1782726481770203, 1.2093485575357112, 0.8401692190913508, 0.9404072946339942]\n"
     ]
    },
    {
     "name": "stderr",
     "output_type": "stream",
     "text": [
      "/var/folders/1q/w3g5nkks29g3kjdwmq1lssj00000gn/T/ipykernel_1714/1334583777.py:25: DeprecationWarning: Sampling from a set deprecated\n",
      "since Python 3.9 and will be removed in a subsequent version.\n",
      "  for symbol in random.sample(allList,1000):\n"
     ]
    },
    {
     "name": "stdout",
     "output_type": "stream",
     "text": [
      "0.8681785967399008\n",
      "160.49451395042573\n",
      "[0.4654019354108144, 1.6629140890799134, 0.2350257221483388, 0.9861007134222257, 1.0174909204609297, 1.0252716322968185, 0.8807119431972762, 0.9900770269138797]\n"
     ]
    },
    {
     "name": "stderr",
     "output_type": "stream",
     "text": [
      "/var/folders/1q/w3g5nkks29g3kjdwmq1lssj00000gn/T/ipykernel_1714/1334583777.py:25: DeprecationWarning: Sampling from a set deprecated\n",
      "since Python 3.9 and will be removed in a subsequent version.\n",
      "  for symbol in random.sample(allList,1000):\n"
     ]
    },
    {
     "name": "stdout",
     "output_type": "stream",
     "text": [
      "9.270021261516655\n",
      "3310.1864693110524\n",
      "[0.7045126448191397, 1.7480343431423273, -0.041011199179440766, 0.9767182841347943, 1.254023740113571, 1.179586416079175, 0.8368201467844133, 0.8764319645061257]\n"
     ]
    },
    {
     "name": "stderr",
     "output_type": "stream",
     "text": [
      "/var/folders/1q/w3g5nkks29g3kjdwmq1lssj00000gn/T/ipykernel_1714/1334583777.py:25: DeprecationWarning: Sampling from a set deprecated\n",
      "since Python 3.9 and will be removed in a subsequent version.\n",
      "  for symbol in random.sample(allList,1000):\n"
     ]
    },
    {
     "name": "stdout",
     "output_type": "stream",
     "text": [
      "4.515237420269313\n",
      "16334.128932643009\n",
      "[0.46454176527474167, 1.774195819206663, -0.042329882383644796, 0.9884852922643915, 1.3692174840525393, 1.0508036431625063, 0.9508230350697512, 1.017531808671365]\n"
     ]
    },
    {
     "name": "stderr",
     "output_type": "stream",
     "text": [
      "/var/folders/1q/w3g5nkks29g3kjdwmq1lssj00000gn/T/ipykernel_1714/1334583777.py:25: DeprecationWarning: Sampling from a set deprecated\n",
      "since Python 3.9 and will be removed in a subsequent version.\n",
      "  for symbol in random.sample(allList,1000):\n"
     ]
    },
    {
     "name": "stdout",
     "output_type": "stream",
     "text": [
      "2.41318214032601\n",
      "2420.6708381853405\n",
      "[0.8668007661121034, 1.413410870652985, 0.16348714443854992, 1.0763142486655137, 1.1307279375657098, 1.2838640830810646, 0.8818241407671962, 0.8395380275193862]\n"
     ]
    },
    {
     "name": "stderr",
     "output_type": "stream",
     "text": [
      "/var/folders/1q/w3g5nkks29g3kjdwmq1lssj00000gn/T/ipykernel_1714/1334583777.py:25: DeprecationWarning: Sampling from a set deprecated\n",
      "since Python 3.9 and will be removed in a subsequent version.\n",
      "  for symbol in random.sample(allList,1000):\n"
     ]
    },
    {
     "name": "stdout",
     "output_type": "stream",
     "text": [
      "0.0\n",
      "100\n",
      "[0.8338559632863728, 2.6890922260511267, 0.2884258540540283, 0.913652855231757, 1.1008796596346215, 1.2775909309226883, 0.9186507863444181, 1.06422374511413]\n"
     ]
    },
    {
     "name": "stderr",
     "output_type": "stream",
     "text": [
      "/var/folders/1q/w3g5nkks29g3kjdwmq1lssj00000gn/T/ipykernel_1714/1334583777.py:25: DeprecationWarning: Sampling from a set deprecated\n",
      "since Python 3.9 and will be removed in a subsequent version.\n",
      "  for symbol in random.sample(allList,1000):\n"
     ]
    },
    {
     "name": "stdout",
     "output_type": "stream",
     "text": [
      "3.3734939759036147\n",
      "27866.69959017857\n",
      "[0.41430410390988204, 2.664803838596442, 0.1724531454332224, 0.9460579919844763, 1.0821478363164188, 1.1890798653515977, 0.9054325917912077, 0.9608137976140608]\n"
     ]
    },
    {
     "name": "stderr",
     "output_type": "stream",
     "text": [
      "/var/folders/1q/w3g5nkks29g3kjdwmq1lssj00000gn/T/ipykernel_1714/1334583777.py:25: DeprecationWarning: Sampling from a set deprecated\n",
      "since Python 3.9 and will be removed in a subsequent version.\n",
      "  for symbol in random.sample(allList,1000):\n"
     ]
    },
    {
     "name": "stdout",
     "output_type": "stream",
     "text": [
      "11.600283486888731\n",
      "10455.756414605516\n",
      "[0.7689558558527695, 0.9160096563707101, 0.11274432173006113, 0.9915629371017709, 1.1423070885473132, 1.1952919396203983, 0.8268163798418758, 1.1592678946657116]\n"
     ]
    },
    {
     "name": "stderr",
     "output_type": "stream",
     "text": [
      "/var/folders/1q/w3g5nkks29g3kjdwmq1lssj00000gn/T/ipykernel_1714/1334583777.py:25: DeprecationWarning: Sampling from a set deprecated\n",
      "since Python 3.9 and will be removed in a subsequent version.\n",
      "  for symbol in random.sample(allList,1000):\n"
     ]
    },
    {
     "name": "stdout",
     "output_type": "stream",
     "text": [
      "1.0297661233167965\n",
      "538.6973345382655\n",
      "[0.17639784514979473, 1.5392076790948912, 0.18712586677842477, 0.996469807785468, 1.0172430095147422, 1.0469403333745322, 0.9162153456406451, 0.9722614107552836]\n"
     ]
    },
    {
     "name": "stderr",
     "output_type": "stream",
     "text": [
      "/var/folders/1q/w3g5nkks29g3kjdwmq1lssj00000gn/T/ipykernel_1714/1334583777.py:25: DeprecationWarning: Sampling from a set deprecated\n",
      "since Python 3.9 and will be removed in a subsequent version.\n",
      "  for symbol in random.sample(allList,1000):\n"
     ]
    },
    {
     "name": "stdout",
     "output_type": "stream",
     "text": [
      "19.183557760453578\n",
      "1981.781957374387\n",
      "[0.1256731097437005, 1.8682282904487812, 0.18260617695191125, 1.0977096150171834, 1.070144694301828, 1.244048062916463, 0.9503282138890369, 1.001119093196044]\n"
     ]
    },
    {
     "name": "stderr",
     "output_type": "stream",
     "text": [
      "/var/folders/1q/w3g5nkks29g3kjdwmq1lssj00000gn/T/ipykernel_1714/1334583777.py:25: DeprecationWarning: Sampling from a set deprecated\n",
      "since Python 3.9 and will be removed in a subsequent version.\n",
      "  for symbol in random.sample(allList,1000):\n"
     ]
    },
    {
     "name": "stdout",
     "output_type": "stream",
     "text": [
      "0.0\n",
      "100\n",
      "[0.48861989147023444, 0.10861246022909588, 0.054857366415514225, 1.042262934312604, 1.1366025185858613, 1.2639910172692184, 0.8959083499507382, 0.8543762305812925]\n"
     ]
    },
    {
     "name": "stderr",
     "output_type": "stream",
     "text": [
      "/var/folders/1q/w3g5nkks29g3kjdwmq1lssj00000gn/T/ipykernel_1714/1334583777.py:25: DeprecationWarning: Sampling from a set deprecated\n",
      "since Python 3.9 and will be removed in a subsequent version.\n",
      "  for symbol in random.sample(allList,1000):\n"
     ]
    },
    {
     "name": "stdout",
     "output_type": "stream",
     "text": [
      "3.2636428065201986\n",
      "5641.702031319628\n",
      "[0.42625134376763973, 1.3167720835089431, 0.29315949531526087, 1.0164518170381558, 1.372977444301296, 1.048615654873638, 0.9536654595226411, 0.8462163498224056]\n"
     ]
    },
    {
     "name": "stderr",
     "output_type": "stream",
     "text": [
      "/var/folders/1q/w3g5nkks29g3kjdwmq1lssj00000gn/T/ipykernel_1714/1334583777.py:25: DeprecationWarning: Sampling from a set deprecated\n",
      "since Python 3.9 and will be removed in a subsequent version.\n",
      "  for symbol in random.sample(allList,1000):\n"
     ]
    },
    {
     "name": "stdout",
     "output_type": "stream",
     "text": [
      "3.8951098511693836\n",
      "7579.245945400667\n",
      "[0.2581728066152247, 2.202689556276409, -0.09568581066219792, 0.9396895371214485, 1.1742098912704304, 1.2641864455399443, 0.9191392317251312, 0.8368192277374298]\n"
     ]
    },
    {
     "name": "stderr",
     "output_type": "stream",
     "text": [
      "/var/folders/1q/w3g5nkks29g3kjdwmq1lssj00000gn/T/ipykernel_1714/1334583777.py:25: DeprecationWarning: Sampling from a set deprecated\n",
      "since Python 3.9 and will be removed in a subsequent version.\n",
      "  for symbol in random.sample(allList,1000):\n"
     ]
    },
    {
     "name": "stdout",
     "output_type": "stream",
     "text": [
      "11.214741318214033\n",
      "3953.6561969418153\n",
      "[0.2516417473167295, 2.28957001836727, 0.14926064668845782, 1.0856122305109102, 1.0345507499607045, 1.1244777806117847, 0.8138212388762021, 1.0333407429833725]\n"
     ]
    },
    {
     "name": "stderr",
     "output_type": "stream",
     "text": [
      "/var/folders/1q/w3g5nkks29g3kjdwmq1lssj00000gn/T/ipykernel_1714/1334583777.py:25: DeprecationWarning: Sampling from a set deprecated\n",
      "since Python 3.9 and will be removed in a subsequent version.\n",
      "  for symbol in random.sample(allList,1000):\n"
     ]
    },
    {
     "name": "stdout",
     "output_type": "stream",
     "text": [
      "0.0\n",
      "100\n",
      "[0.6091157500796531, 2.7261653488713335, 0.34450753939790546, 1.0023966489741998, 1.0594702157804974, 1.0083652859221761, 0.8214553631172967, 0.8720034892172863]\n"
     ]
    },
    {
     "name": "stderr",
     "output_type": "stream",
     "text": [
      "/var/folders/1q/w3g5nkks29g3kjdwmq1lssj00000gn/T/ipykernel_1714/1334583777.py:25: DeprecationWarning: Sampling from a set deprecated\n",
      "since Python 3.9 and will be removed in a subsequent version.\n",
      "  for symbol in random.sample(allList,1000):\n"
     ]
    },
    {
     "name": "stdout",
     "output_type": "stream",
     "text": [
      "6.718639262934089\n",
      "2913.8489975143743\n",
      "[0.6486300500751504, 2.800190180355519, -0.026079946680688332, 0.9474368483096219, 1.3946243788695851, 1.0173648311284822, 0.9993567937772356, 0.814239089627525]\n"
     ]
    },
    {
     "name": "stderr",
     "output_type": "stream",
     "text": [
      "/var/folders/1q/w3g5nkks29g3kjdwmq1lssj00000gn/T/ipykernel_1714/1334583777.py:25: DeprecationWarning: Sampling from a set deprecated\n",
      "since Python 3.9 and will be removed in a subsequent version.\n",
      "  for symbol in random.sample(allList,1000):\n"
     ]
    },
    {
     "name": "stdout",
     "output_type": "stream",
     "text": [
      "0.05457122608079376\n",
      "135.0000023841858\n",
      "[0.5717952290599936, 0.9084515621217398, 0.1991637562362044, 1.0974726608706198, 1.2165170957444962, 1.1268490341588806, 0.8802947193098822, 1.1062665433706873]\n"
     ]
    },
    {
     "name": "stderr",
     "output_type": "stream",
     "text": [
      "/var/folders/1q/w3g5nkks29g3kjdwmq1lssj00000gn/T/ipykernel_1714/1334583777.py:25: DeprecationWarning: Sampling from a set deprecated\n",
      "since Python 3.9 and will be removed in a subsequent version.\n",
      "  for symbol in random.sample(allList,1000):\n"
     ]
    },
    {
     "name": "stdout",
     "output_type": "stream",
     "text": [
      "0.0\n",
      "100\n",
      "[0.270346091114109, 0.04284902316122041, -0.09960498518003427, 0.9268085443698743, 1.3376569233656121, 1.1738623340561056, 0.9407590888726529, 0.9915939629843259]\n"
     ]
    },
    {
     "name": "stderr",
     "output_type": "stream",
     "text": [
      "/var/folders/1q/w3g5nkks29g3kjdwmq1lssj00000gn/T/ipykernel_1714/1334583777.py:25: DeprecationWarning: Sampling from a set deprecated\n",
      "since Python 3.9 and will be removed in a subsequent version.\n",
      "  for symbol in random.sample(allList,1000):\n"
     ]
    },
    {
     "name": "stdout",
     "output_type": "stream",
     "text": [
      "8.690290574060949\n",
      "5778.527889084623\n",
      "[0.7694489324224533, 0.46546268792538503, 0.32182782677971256, 1.0160287868076665, 1.2233593359506194, 1.2112441289043938, 0.9003224766507362, 0.9479935792065131]\n"
     ]
    },
    {
     "name": "stderr",
     "output_type": "stream",
     "text": [
      "/var/folders/1q/w3g5nkks29g3kjdwmq1lssj00000gn/T/ipykernel_1714/1334583777.py:25: DeprecationWarning: Sampling from a set deprecated\n",
      "since Python 3.9 and will be removed in a subsequent version.\n",
      "  for symbol in random.sample(allList,1000):\n"
     ]
    },
    {
     "name": "stdout",
     "output_type": "stream",
     "text": [
      "11.866761162296244\n",
      "2964.2141098467246\n",
      "[0.5643895951993826, 0.43997608365416574, -0.01761663472640282, 0.91774334832267, 1.1139520055259602, 1.081740226634242, 0.8638575633296366, 1.048001079670382]\n"
     ]
    },
    {
     "name": "stderr",
     "output_type": "stream",
     "text": [
      "/var/folders/1q/w3g5nkks29g3kjdwmq1lssj00000gn/T/ipykernel_1714/1334583777.py:25: DeprecationWarning: Sampling from a set deprecated\n",
      "since Python 3.9 and will be removed in a subsequent version.\n",
      "  for symbol in random.sample(allList,1000):\n"
     ]
    },
    {
     "name": "stdout",
     "output_type": "stream",
     "text": [
      "20.413890857547837\n",
      "2270.2524860236217\n",
      "[0.5876488397573566, 2.1449710537287108, 0.013579598024100942, 0.9087463429406792, 1.102899883561192, 1.0348313717953903, 0.826297319955514, 0.8269955413633591]\n"
     ]
    },
    {
     "name": "stderr",
     "output_type": "stream",
     "text": [
      "/var/folders/1q/w3g5nkks29g3kjdwmq1lssj00000gn/T/ipykernel_1714/1334583777.py:25: DeprecationWarning: Sampling from a set deprecated\n",
      "since Python 3.9 and will be removed in a subsequent version.\n",
      "  for symbol in random.sample(allList,1000):\n"
     ]
    },
    {
     "name": "stdout",
     "output_type": "stream",
     "text": [
      "17.025513819985825\n",
      "3444.574230212829\n",
      "[0.35549543038160547, 2.1436203734423946, 0.3210015353683411, 1.0397182546806254, 1.357536142878697, 1.2098882944453448, 0.9024588137730287, 1.0790026564085677]\n"
     ]
    },
    {
     "name": "stderr",
     "output_type": "stream",
     "text": [
      "/var/folders/1q/w3g5nkks29g3kjdwmq1lssj00000gn/T/ipykernel_1714/1334583777.py:25: DeprecationWarning: Sampling from a set deprecated\n",
      "since Python 3.9 and will be removed in a subsequent version.\n",
      "  for symbol in random.sample(allList,1000):\n"
     ]
    },
    {
     "name": "stdout",
     "output_type": "stream",
     "text": [
      "0.0\n",
      "100\n",
      "[0.9869857094001228, 1.302392129514756, 0.25354126177428804, 0.9739859248499813, 1.3664262665659654, 1.1376535580423188, 0.8666110703834007, 0.9078279323976581]\n"
     ]
    },
    {
     "name": "stderr",
     "output_type": "stream",
     "text": [
      "/var/folders/1q/w3g5nkks29g3kjdwmq1lssj00000gn/T/ipykernel_1714/1334583777.py:25: DeprecationWarning: Sampling from a set deprecated\n",
      "since Python 3.9 and will be removed in a subsequent version.\n",
      "  for symbol in random.sample(allList,1000):\n"
     ]
    },
    {
     "name": "stdout",
     "output_type": "stream",
     "text": [
      "2.4202693125442947\n",
      "294.5201389385661\n",
      "[0.10013354279956999, 1.518242921734695, 0.25785736028989237, 0.978918490307109, 1.2720057121420771, 1.02628172490207, 0.8690342054976623, 1.1520023408062183]\n"
     ]
    },
    {
     "name": "stderr",
     "output_type": "stream",
     "text": [
      "/var/folders/1q/w3g5nkks29g3kjdwmq1lssj00000gn/T/ipykernel_1714/1334583777.py:25: DeprecationWarning: Sampling from a set deprecated\n",
      "since Python 3.9 and will be removed in a subsequent version.\n",
      "  for symbol in random.sample(allList,1000):\n"
     ]
    },
    {
     "name": "stdout",
     "output_type": "stream",
     "text": [
      "0.14528703047484054\n",
      "31.73781644479599\n",
      "[0.9981043182784435, 1.7888712954463664, 0.32581236115819534, 1.0662911663375874, 1.225979463113451, 1.1368636002039547, 0.9606323331822959, 1.05020786686746]\n"
     ]
    },
    {
     "name": "stderr",
     "output_type": "stream",
     "text": [
      "/var/folders/1q/w3g5nkks29g3kjdwmq1lssj00000gn/T/ipykernel_1714/1334583777.py:25: DeprecationWarning: Sampling from a set deprecated\n",
      "since Python 3.9 and will be removed in a subsequent version.\n",
      "  for symbol in random.sample(allList,1000):\n"
     ]
    },
    {
     "name": "stdout",
     "output_type": "stream",
     "text": [
      "0.0\n",
      "100\n",
      "[0.5178235437167384, 0.411806753828999, -0.07661435959407328, 1.039301335703269, 1.0665028513475898, 1.026758241923901, 0.8852571063348548, 1.0522920804017866]\n"
     ]
    },
    {
     "name": "stderr",
     "output_type": "stream",
     "text": [
      "/var/folders/1q/w3g5nkks29g3kjdwmq1lssj00000gn/T/ipykernel_1714/1334583777.py:25: DeprecationWarning: Sampling from a set deprecated\n",
      "since Python 3.9 and will be removed in a subsequent version.\n",
      "  for symbol in random.sample(allList,1000):\n"
     ]
    },
    {
     "name": "stdout",
     "output_type": "stream",
     "text": [
      "2.3855421686746987\n",
      "19863.149958142152\n",
      "[0.9723321355944041, 2.2539185849996604, 0.16967728713875166, 0.9376703960338103, 1.0248708759662308, 1.244774045418883, 0.8939440596986132, 1.0958874033173962]\n"
     ]
    },
    {
     "name": "stderr",
     "output_type": "stream",
     "text": [
      "/var/folders/1q/w3g5nkks29g3kjdwmq1lssj00000gn/T/ipykernel_1714/1334583777.py:25: DeprecationWarning: Sampling from a set deprecated\n",
      "since Python 3.9 and will be removed in a subsequent version.\n",
      "  for symbol in random.sample(allList,1000):\n"
     ]
    },
    {
     "name": "stdout",
     "output_type": "stream",
     "text": [
      "4.570517363571935\n",
      "442.8088127393527\n",
      "[0.8932503071896771, 2.4462773715776915, 0.05452081144540097, 1.0527327078934072, 1.171855118136099, 1.144561144614459, 0.8527808358494757, 1.0281700017604707]\n"
     ]
    },
    {
     "name": "stderr",
     "output_type": "stream",
     "text": [
      "/var/folders/1q/w3g5nkks29g3kjdwmq1lssj00000gn/T/ipykernel_1714/1334583777.py:25: DeprecationWarning: Sampling from a set deprecated\n",
      "since Python 3.9 and will be removed in a subsequent version.\n",
      "  for symbol in random.sample(allList,1000):\n"
     ]
    },
    {
     "name": "stdout",
     "output_type": "stream",
     "text": [
      "0.04748405386250886\n",
      "48.48484848484847\n",
      "[0.994334817952381, 0.7100493415327297, 0.16330669585861543, 1.0610747140189258, 1.28998015527384, 1.1769920872473674, 0.8310842878733972, 0.8439914226030479]\n"
     ]
    },
    {
     "name": "stderr",
     "output_type": "stream",
     "text": [
      "/var/folders/1q/w3g5nkks29g3kjdwmq1lssj00000gn/T/ipykernel_1714/1334583777.py:25: DeprecationWarning: Sampling from a set deprecated\n",
      "since Python 3.9 and will be removed in a subsequent version.\n",
      "  for symbol in random.sample(allList,1000):\n"
     ]
    },
    {
     "name": "stdout",
     "output_type": "stream",
     "text": [
      "0.2643515237420269\n",
      "227.74488778301068\n",
      "[0.24061336293586078, 1.1594564814208121, 0.15906207737469566, 1.0890044260417828, 1.3714823664901856, 1.2008604244167396, 0.9934828761268837, 0.9792924012860251]\n"
     ]
    },
    {
     "name": "stderr",
     "output_type": "stream",
     "text": [
      "/var/folders/1q/w3g5nkks29g3kjdwmq1lssj00000gn/T/ipykernel_1714/1334583777.py:25: DeprecationWarning: Sampling from a set deprecated\n",
      "since Python 3.9 and will be removed in a subsequent version.\n",
      "  for symbol in random.sample(allList,1000):\n"
     ]
    },
    {
     "name": "stdout",
     "output_type": "stream",
     "text": [
      "0.0\n",
      "100\n",
      "[0.9384467483646778, 1.7530984970869539, 0.38546723013573403, 1.0548443243570726, 1.1585962109776031, 1.2678366159187706, 0.9436147597364615, 0.9420549068376921]\n"
     ]
    },
    {
     "name": "stderr",
     "output_type": "stream",
     "text": [
      "/var/folders/1q/w3g5nkks29g3kjdwmq1lssj00000gn/T/ipykernel_1714/1334583777.py:25: DeprecationWarning: Sampling from a set deprecated\n",
      "since Python 3.9 and will be removed in a subsequent version.\n",
      "  for symbol in random.sample(allList,1000):\n"
     ]
    },
    {
     "name": "stdout",
     "output_type": "stream",
     "text": [
      "0.0\n",
      "100\n",
      "[0.6189998459158865, 2.6503423040937797, 0.19185615290805338, 1.0523845761555035, 1.0942429530418991, 1.2541834222965413, 0.931010103783085, 0.997908994104177]\n"
     ]
    },
    {
     "name": "stderr",
     "output_type": "stream",
     "text": [
      "/var/folders/1q/w3g5nkks29g3kjdwmq1lssj00000gn/T/ipykernel_1714/1334583777.py:25: DeprecationWarning: Sampling from a set deprecated\n",
      "since Python 3.9 and will be removed in a subsequent version.\n",
      "  for symbol in random.sample(allList,1000):\n"
     ]
    },
    {
     "name": "stdout",
     "output_type": "stream",
     "text": [
      "0.0\n",
      "100\n",
      "[0.8463334297488962, 2.3539381241317647, 0.23178171350059537, 1.0922829738601993, 1.2327826095986834, 1.009703893691304, 0.8354145829791592, 0.9322779574319351]\n"
     ]
    },
    {
     "name": "stderr",
     "output_type": "stream",
     "text": [
      "/var/folders/1q/w3g5nkks29g3kjdwmq1lssj00000gn/T/ipykernel_1714/1334583777.py:25: DeprecationWarning: Sampling from a set deprecated\n",
      "since Python 3.9 and will be removed in a subsequent version.\n",
      "  for symbol in random.sample(allList,1000):\n"
     ]
    },
    {
     "name": "stdout",
     "output_type": "stream",
     "text": [
      "0.0\n",
      "100\n",
      "[0.16755695658886893, 2.7447867243618975, -0.052189998691115874, 1.051802531432216, 1.397104437416909, 1.2876648853061425, 0.9796084894869258, 1.069818152121265]\n"
     ]
    },
    {
     "name": "stderr",
     "output_type": "stream",
     "text": [
      "/var/folders/1q/w3g5nkks29g3kjdwmq1lssj00000gn/T/ipykernel_1714/1334583777.py:25: DeprecationWarning: Sampling from a set deprecated\n",
      "since Python 3.9 and will be removed in a subsequent version.\n",
      "  for symbol in random.sample(allList,1000):\n"
     ]
    },
    {
     "name": "stdout",
     "output_type": "stream",
     "text": [
      "0.002834868887313962\n",
      "78.50467289719626\n",
      "[0.9637906621575255, 0.30756499065761267, 0.1227115856011943, 1.0191264097886696, 1.2169044523321577, 1.1353571015756936, 0.9455927195209015, 1.1239386735199985]\n"
     ]
    },
    {
     "name": "stderr",
     "output_type": "stream",
     "text": [
      "/var/folders/1q/w3g5nkks29g3kjdwmq1lssj00000gn/T/ipykernel_1714/1334583777.py:25: DeprecationWarning: Sampling from a set deprecated\n",
      "since Python 3.9 and will be removed in a subsequent version.\n",
      "  for symbol in random.sample(allList,1000):\n"
     ]
    },
    {
     "name": "stdout",
     "output_type": "stream",
     "text": [
      "3.0786676116229623\n",
      "7942.7176472448\n",
      "[0.6026008224089507, 0.12595668295056073, 0.08183313076542784, 0.9731884724638005, 1.2630819908644075, 1.2754551712740267, 0.9949511129996804, 1.0755280317421911]\n"
     ]
    },
    {
     "name": "stderr",
     "output_type": "stream",
     "text": [
      "/var/folders/1q/w3g5nkks29g3kjdwmq1lssj00000gn/T/ipykernel_1714/1334583777.py:25: DeprecationWarning: Sampling from a set deprecated\n",
      "since Python 3.9 and will be removed in a subsequent version.\n",
      "  for symbol in random.sample(allList,1000):\n"
     ]
    },
    {
     "name": "stdout",
     "output_type": "stream",
     "text": [
      "10.353649893692417\n",
      "5803.352065091962\n",
      "[0.6096451015858402, 1.9654239022211824, 0.26184930820250774, 1.0675898234110108, 1.2038306251248758, 1.2638530985477527, 0.9461319815450846, 0.8585697001349084]\n"
     ]
    },
    {
     "name": "stderr",
     "output_type": "stream",
     "text": [
      "/var/folders/1q/w3g5nkks29g3kjdwmq1lssj00000gn/T/ipykernel_1714/1334583777.py:25: DeprecationWarning: Sampling from a set deprecated\n",
      "since Python 3.9 and will be removed in a subsequent version.\n",
      "  for symbol in random.sample(allList,1000):\n"
     ]
    },
    {
     "name": "stdout",
     "output_type": "stream",
     "text": [
      "0.0\n",
      "100\n",
      "[0.39314058369773897, 1.4674585311624653, 0.024742505845564727, 1.0957680500495648, 1.1448247677291405, 1.1110026862162248, 0.9059474385801481, 1.070242517092243]\n"
     ]
    },
    {
     "name": "stderr",
     "output_type": "stream",
     "text": [
      "/var/folders/1q/w3g5nkks29g3kjdwmq1lssj00000gn/T/ipykernel_1714/1334583777.py:25: DeprecationWarning: Sampling from a set deprecated\n",
      "since Python 3.9 and will be removed in a subsequent version.\n",
      "  for symbol in random.sample(allList,1000):\n"
     ]
    },
    {
     "name": "stdout",
     "output_type": "stream",
     "text": [
      "0.0\n",
      "100\n",
      "[0.7153114491803322, 2.8346498892731447, 0.07009159734722312, 1.0861768609141031, 1.2857216401674434, 1.1708507152406256, 0.9651518202544457, 0.9633268305130835]\n"
     ]
    },
    {
     "name": "stderr",
     "output_type": "stream",
     "text": [
      "/var/folders/1q/w3g5nkks29g3kjdwmq1lssj00000gn/T/ipykernel_1714/1334583777.py:25: DeprecationWarning: Sampling from a set deprecated\n",
      "since Python 3.9 and will be removed in a subsequent version.\n",
      "  for symbol in random.sample(allList,1000):\n"
     ]
    },
    {
     "name": "stdout",
     "output_type": "stream",
     "text": [
      "0.0\n",
      "100\n",
      "[0.6522803858612757, 2.787977405527041, 0.3133097114408373, 0.9898989092013437, 1.3151235682859612, 1.1134834152345097, 0.9422215432910336, 1.034648911535813]\n"
     ]
    },
    {
     "name": "stderr",
     "output_type": "stream",
     "text": [
      "/var/folders/1q/w3g5nkks29g3kjdwmq1lssj00000gn/T/ipykernel_1714/1334583777.py:25: DeprecationWarning: Sampling from a set deprecated\n",
      "since Python 3.9 and will be removed in a subsequent version.\n",
      "  for symbol in random.sample(allList,1000):\n"
     ]
    },
    {
     "name": "stdout",
     "output_type": "stream",
     "text": [
      "1.3125442948263644\n",
      "30880.345892349713\n",
      "[0.7055128569809258, 0.4329867468877866, 0.2713844448498547, 0.9438829788387908, 1.2961263995443868, 1.2912107610337675, 0.8587940601183243, 1.0247059825959828]\n"
     ]
    },
    {
     "name": "stderr",
     "output_type": "stream",
     "text": [
      "/var/folders/1q/w3g5nkks29g3kjdwmq1lssj00000gn/T/ipykernel_1714/1334583777.py:25: DeprecationWarning: Sampling from a set deprecated\n",
      "since Python 3.9 and will be removed in a subsequent version.\n",
      "  for symbol in random.sample(allList,1000):\n"
     ]
    },
    {
     "name": "stdout",
     "output_type": "stream",
     "text": [
      "5.485471296952516\n",
      "3435.3836875116067\n",
      "[0.9726838647031315, 0.06168058760173334, -0.09474728457397816, 1.0738794095265245, 1.265567315596395, 1.1335347418393624, 0.9026719215324123, 0.9984993833989346]\n"
     ]
    },
    {
     "name": "stderr",
     "output_type": "stream",
     "text": [
      "/var/folders/1q/w3g5nkks29g3kjdwmq1lssj00000gn/T/ipykernel_1714/1334583777.py:25: DeprecationWarning: Sampling from a set deprecated\n",
      "since Python 3.9 and will be removed in a subsequent version.\n",
      "  for symbol in random.sample(allList,1000):\n"
     ]
    },
    {
     "name": "stdout",
     "output_type": "stream",
     "text": [
      "0.003543586109142452\n",
      "37.64910433461309\n",
      "[0.326381060497395, 0.8320752603385971, 0.14015512037078467, 0.9687735520228733, 1.0847483600120258, 1.1779004589943878, 0.8651512720415937, 1.157709892174302]\n"
     ]
    },
    {
     "name": "stderr",
     "output_type": "stream",
     "text": [
      "/var/folders/1q/w3g5nkks29g3kjdwmq1lssj00000gn/T/ipykernel_1714/1334583777.py:25: DeprecationWarning: Sampling from a set deprecated\n",
      "since Python 3.9 and will be removed in a subsequent version.\n",
      "  for symbol in random.sample(allList,1000):\n"
     ]
    },
    {
     "name": "stdout",
     "output_type": "stream",
     "text": [
      "5.374202693125443\n",
      "17034.571350302554\n",
      "[0.38276098883889653, 1.821600480226612, -0.011333710855711082, 1.0786831720967782, 1.0069169608128319, 1.0384798262565098, 0.8331115920327243, 0.8177365344513099]\n"
     ]
    },
    {
     "name": "stderr",
     "output_type": "stream",
     "text": [
      "/var/folders/1q/w3g5nkks29g3kjdwmq1lssj00000gn/T/ipykernel_1714/1334583777.py:25: DeprecationWarning: Sampling from a set deprecated\n",
      "since Python 3.9 and will be removed in a subsequent version.\n",
      "  for symbol in random.sample(allList,1000):\n"
     ]
    },
    {
     "name": "stdout",
     "output_type": "stream",
     "text": [
      "0.0\n",
      "100\n",
      "[0.9141998512488652, 2.180560161218874, 0.376336892620068, 1.0157759855253137, 1.3075034409817112, 1.1765852874152836, 0.8528631419558343, 0.8475692594841278]\n"
     ]
    },
    {
     "name": "stderr",
     "output_type": "stream",
     "text": [
      "/var/folders/1q/w3g5nkks29g3kjdwmq1lssj00000gn/T/ipykernel_1714/1334583777.py:25: DeprecationWarning: Sampling from a set deprecated\n",
      "since Python 3.9 and will be removed in a subsequent version.\n",
      "  for symbol in random.sample(allList,1000):\n"
     ]
    },
    {
     "name": "stdout",
     "output_type": "stream",
     "text": [
      "3.1013465627214742\n",
      "14565.576824186453\n",
      "[0.41188764920209786, 1.275277575768083, 0.0014643484590808609, 0.9284409747722422, 1.1054209604939373, 1.2312949948230665, 0.9167822536658661, 1.0543865595048445]\n"
     ]
    },
    {
     "name": "stderr",
     "output_type": "stream",
     "text": [
      "/var/folders/1q/w3g5nkks29g3kjdwmq1lssj00000gn/T/ipykernel_1714/1334583777.py:25: DeprecationWarning: Sampling from a set deprecated\n",
      "since Python 3.9 and will be removed in a subsequent version.\n",
      "  for symbol in random.sample(allList,1000):\n"
     ]
    },
    {
     "name": "stdout",
     "output_type": "stream",
     "text": [
      "22.734231041814315\n",
      "5756.166946608205\n",
      "[0.4830242262947826, 1.5935981572864395, 0.2818555653144177, 1.0762899832420114, 1.057110961675112, 1.176338168640698, 0.8995656529632188, 1.1451514924029613]\n"
     ]
    },
    {
     "name": "stderr",
     "output_type": "stream",
     "text": [
      "/var/folders/1q/w3g5nkks29g3kjdwmq1lssj00000gn/T/ipykernel_1714/1334583777.py:25: DeprecationWarning: Sampling from a set deprecated\n",
      "since Python 3.9 and will be removed in a subsequent version.\n",
      "  for symbol in random.sample(allList,1000):\n"
     ]
    },
    {
     "name": "stdout",
     "output_type": "stream",
     "text": [
      "0.0\n",
      "100\n",
      "[0.22386161378714842, 1.9877966699381053, -0.08183431543018108, 0.9029922571367943, 1.3075988187210328, 1.196047732015868, 0.8909145168863729, 1.0688995385817155]\n"
     ]
    },
    {
     "name": "stderr",
     "output_type": "stream",
     "text": [
      "/var/folders/1q/w3g5nkks29g3kjdwmq1lssj00000gn/T/ipykernel_1714/1334583777.py:25: DeprecationWarning: Sampling from a set deprecated\n",
      "since Python 3.9 and will be removed in a subsequent version.\n",
      "  for symbol in random.sample(allList,1000):\n"
     ]
    },
    {
     "name": "stdout",
     "output_type": "stream",
     "text": [
      "0.2678951098511694\n",
      "42.10507861816956\n",
      "[0.3802718241507749, 1.2083053311905396, 0.004044932112350935, 0.9246170806085289, 1.0295457793803906, 1.0965091557126605, 0.8367937001304593, 1.0561585909285547]\n"
     ]
    },
    {
     "name": "stderr",
     "output_type": "stream",
     "text": [
      "/var/folders/1q/w3g5nkks29g3kjdwmq1lssj00000gn/T/ipykernel_1714/1334583777.py:25: DeprecationWarning: Sampling from a set deprecated\n",
      "since Python 3.9 and will be removed in a subsequent version.\n",
      "  for symbol in random.sample(allList,1000):\n"
     ]
    },
    {
     "name": "stdout",
     "output_type": "stream",
     "text": [
      "14.900779588944012\n",
      "5484.7350202440075\n",
      "[0.30462663270729173, 2.913241268857045, 0.3656874215943926, 1.0013318949991816, 1.140960359643574, 1.0952372595951596, 0.8895791758595881, 1.064902980874118]\n"
     ]
    },
    {
     "name": "stderr",
     "output_type": "stream",
     "text": [
      "/var/folders/1q/w3g5nkks29g3kjdwmq1lssj00000gn/T/ipykernel_1714/1334583777.py:25: DeprecationWarning: Sampling from a set deprecated\n",
      "since Python 3.9 and will be removed in a subsequent version.\n",
      "  for symbol in random.sample(allList,1000):\n"
     ]
    },
    {
     "name": "stdout",
     "output_type": "stream",
     "text": [
      "1.3097094259390503\n",
      "202.48918945231298\n",
      "[0.14324714478159895, 1.5911204255430107, 0.2577260435609825, 0.9035744582098949, 1.3230485142026192, 1.0498641669560078, 0.8053595192333456, 1.1147616473897233]\n"
     ]
    },
    {
     "name": "stderr",
     "output_type": "stream",
     "text": [
      "/var/folders/1q/w3g5nkks29g3kjdwmq1lssj00000gn/T/ipykernel_1714/1334583777.py:25: DeprecationWarning: Sampling from a set deprecated\n",
      "since Python 3.9 and will be removed in a subsequent version.\n",
      "  for symbol in random.sample(allList,1000):\n"
     ]
    },
    {
     "name": "stdout",
     "output_type": "stream",
     "text": [
      "0.8313253012048193\n",
      "2904.7211965298425\n",
      "[0.3225969952619334, 1.8015218969702707, -0.07118180539757743, 0.9345408757652641, 1.298448074969946, 1.0298462765147423, 0.825795059249811, 0.8802567483675495]\n"
     ]
    },
    {
     "name": "stderr",
     "output_type": "stream",
     "text": [
      "/var/folders/1q/w3g5nkks29g3kjdwmq1lssj00000gn/T/ipykernel_1714/1334583777.py:25: DeprecationWarning: Sampling from a set deprecated\n",
      "since Python 3.9 and will be removed in a subsequent version.\n",
      "  for symbol in random.sample(allList,1000):\n"
     ]
    },
    {
     "name": "stdout",
     "output_type": "stream",
     "text": [
      "1.9021970233876684\n",
      "2701.0158268070463\n",
      "[0.28087573948380795, 0.6675214613189657, -0.09721135310817677, 1.0366439641591219, 1.2107748740469104, 1.2613993614492112, 0.8660222682156874, 1.0248757263936883]\n"
     ]
    },
    {
     "name": "stderr",
     "output_type": "stream",
     "text": [
      "/var/folders/1q/w3g5nkks29g3kjdwmq1lssj00000gn/T/ipykernel_1714/1334583777.py:25: DeprecationWarning: Sampling from a set deprecated\n",
      "since Python 3.9 and will be removed in a subsequent version.\n",
      "  for symbol in random.sample(allList,1000):\n"
     ]
    },
    {
     "name": "stdout",
     "output_type": "stream",
     "text": [
      "0.8866052445074415\n",
      "448.3866697874623\n",
      "[0.17313516316139077, 0.1630149665223375, 0.27203842028420044, 0.9065136380914397, 1.3608543150070145, 1.2550106882676366, 0.9734993396500039, 1.1172679218352664]\n"
     ]
    },
    {
     "name": "stderr",
     "output_type": "stream",
     "text": [
      "/var/folders/1q/w3g5nkks29g3kjdwmq1lssj00000gn/T/ipykernel_1714/1334583777.py:25: DeprecationWarning: Sampling from a set deprecated\n",
      "since Python 3.9 and will be removed in a subsequent version.\n",
      "  for symbol in random.sample(allList,1000):\n"
     ]
    },
    {
     "name": "stdout",
     "output_type": "stream",
     "text": [
      "4.184266477675408\n",
      "2189.9628649414753\n",
      "[0.6495106106583454, 0.9210853535609193, 0.3890314425925484, 0.9901151686667587, 1.3829233901400977, 1.014612472367256, 0.8648991901570613, 0.8567080341027546]\n"
     ]
    },
    {
     "name": "stderr",
     "output_type": "stream",
     "text": [
      "/var/folders/1q/w3g5nkks29g3kjdwmq1lssj00000gn/T/ipykernel_1714/1334583777.py:25: DeprecationWarning: Sampling from a set deprecated\n",
      "since Python 3.9 and will be removed in a subsequent version.\n",
      "  for symbol in random.sample(allList,1000):\n"
     ]
    },
    {
     "name": "stdout",
     "output_type": "stream",
     "text": [
      "2.776045357902197\n",
      "2573.666900088486\n",
      "[0.5729418772609265, 2.812664071548837, -0.09832605663196384, 0.9160542807951746, 1.1076229141697158, 1.1051228059832585, 0.8885893623502287, 1.1279573640205198]\n"
     ]
    },
    {
     "name": "stderr",
     "output_type": "stream",
     "text": [
      "/var/folders/1q/w3g5nkks29g3kjdwmq1lssj00000gn/T/ipykernel_1714/1334583777.py:25: DeprecationWarning: Sampling from a set deprecated\n",
      "since Python 3.9 and will be removed in a subsequent version.\n",
      "  for symbol in random.sample(allList,1000):\n"
     ]
    },
    {
     "name": "stdout",
     "output_type": "stream",
     "text": [
      "1.631467044649185\n",
      "3419.866447427827\n",
      "[0.551258899167298, 1.3432941239889522, -0.002442175395163032, 1.0114842637148325, 1.0317053192831867, 1.1984679686296194, 0.8654233724185305, 1.1844906141641804]\n"
     ]
    },
    {
     "name": "stderr",
     "output_type": "stream",
     "text": [
      "/var/folders/1q/w3g5nkks29g3kjdwmq1lssj00000gn/T/ipykernel_1714/1334583777.py:25: DeprecationWarning: Sampling from a set deprecated\n",
      "since Python 3.9 and will be removed in a subsequent version.\n",
      "  for symbol in random.sample(allList,1000):\n"
     ]
    },
    {
     "name": "stdout",
     "output_type": "stream",
     "text": [
      "1.3621545003543587\n",
      "1437.4029970094641\n",
      "[0.5078627299890696, 2.2873705675181775, 0.0531671599722813, 0.9464459728247941, 1.2555671270426179, 1.206046789693796, 0.8553017373957297, 1.011822861220202]\n"
     ]
    },
    {
     "name": "stderr",
     "output_type": "stream",
     "text": [
      "/var/folders/1q/w3g5nkks29g3kjdwmq1lssj00000gn/T/ipykernel_1714/1334583777.py:25: DeprecationWarning: Sampling from a set deprecated\n",
      "since Python 3.9 and will be removed in a subsequent version.\n",
      "  for symbol in random.sample(allList,1000):\n"
     ]
    },
    {
     "name": "stdout",
     "output_type": "stream",
     "text": [
      "6.115520907158044\n",
      "7985.528270011045\n",
      "[0.975439366118712, 2.7206651529777397, 0.2544006886593333, 1.05977533544117, 1.3231086911273076, 1.288158478922419, 0.8350702678527709, 0.8836000811664202]\n"
     ]
    },
    {
     "name": "stderr",
     "output_type": "stream",
     "text": [
      "/var/folders/1q/w3g5nkks29g3kjdwmq1lssj00000gn/T/ipykernel_1714/1334583777.py:25: DeprecationWarning: Sampling from a set deprecated\n",
      "since Python 3.9 and will be removed in a subsequent version.\n",
      "  for symbol in random.sample(allList,1000):\n"
     ]
    },
    {
     "name": "stdout",
     "output_type": "stream",
     "text": [
      "0.0\n",
      "100\n",
      "[0.8005846068796758, 1.488543190056178, -0.07684750708964669, 1.0978193986330755, 1.1317012963431912, 1.250006212871792, 0.8084924456946014, 1.0412825000008235]\n"
     ]
    },
    {
     "name": "stderr",
     "output_type": "stream",
     "text": [
      "/var/folders/1q/w3g5nkks29g3kjdwmq1lssj00000gn/T/ipykernel_1714/1334583777.py:25: DeprecationWarning: Sampling from a set deprecated\n",
      "since Python 3.9 and will be removed in a subsequent version.\n",
      "  for symbol in random.sample(allList,1000):\n"
     ]
    },
    {
     "name": "stdout",
     "output_type": "stream",
     "text": [
      "0.0\n",
      "100\n",
      "[0.16893154634476482, 2.6805740342826727, 0.39616700455078047, 0.9991803290886645, 1.3221198186446235, 1.1394193375885635, 0.8773062463006481, 1.1943933825258948]\n"
     ]
    },
    {
     "name": "stderr",
     "output_type": "stream",
     "text": [
      "/var/folders/1q/w3g5nkks29g3kjdwmq1lssj00000gn/T/ipykernel_1714/1334583777.py:25: DeprecationWarning: Sampling from a set deprecated\n",
      "since Python 3.9 and will be removed in a subsequent version.\n",
      "  for symbol in random.sample(allList,1000):\n"
     ]
    },
    {
     "name": "stdout",
     "output_type": "stream",
     "text": [
      "0.026931254429482635\n",
      "47.11481504942476\n",
      "[0.07804027534913038, 1.6438031067084742, -0.011018497860316695, 0.9253491655387694, 1.2848979309403417, 1.119539567872121, 0.8072601865839942, 1.1930506247276758]\n"
     ]
    },
    {
     "name": "stderr",
     "output_type": "stream",
     "text": [
      "/var/folders/1q/w3g5nkks29g3kjdwmq1lssj00000gn/T/ipykernel_1714/1334583777.py:25: DeprecationWarning: Sampling from a set deprecated\n",
      "since Python 3.9 and will be removed in a subsequent version.\n",
      "  for symbol in random.sample(allList,1000):\n"
     ]
    },
    {
     "name": "stdout",
     "output_type": "stream",
     "text": [
      "0.4649184975194897\n",
      "999.5729067370979\n",
      "[0.07723728313037759, 2.154889740659174, 0.09424837786769982, 1.0222320456535847, 1.2216987439716687, 1.1542604029743955, 0.8002259422454325, 0.8671993948281256]\n"
     ]
    },
    {
     "name": "stderr",
     "output_type": "stream",
     "text": [
      "/var/folders/1q/w3g5nkks29g3kjdwmq1lssj00000gn/T/ipykernel_1714/1334583777.py:25: DeprecationWarning: Sampling from a set deprecated\n",
      "since Python 3.9 and will be removed in a subsequent version.\n",
      "  for symbol in random.sample(allList,1000):\n"
     ]
    },
    {
     "name": "stdout",
     "output_type": "stream",
     "text": [
      "3.836995038979447\n",
      "3276.9794316575426\n",
      "[0.44737577674509554, 0.5026694949481724, -0.04151977548336508, 1.04591731431494, 1.0168190808482749, 1.261489797982607, 0.8779628223009026, 0.9138456241945975]\n"
     ]
    },
    {
     "name": "stderr",
     "output_type": "stream",
     "text": [
      "/var/folders/1q/w3g5nkks29g3kjdwmq1lssj00000gn/T/ipykernel_1714/1334583777.py:25: DeprecationWarning: Sampling from a set deprecated\n",
      "since Python 3.9 and will be removed in a subsequent version.\n",
      "  for symbol in random.sample(allList,1000):\n"
     ]
    },
    {
     "name": "stdout",
     "output_type": "stream",
     "text": [
      "0.11622962437987243\n",
      "87.11959222479993\n",
      "[0.4738994116769931, 2.3864393373088575, 0.016310428387140613, 1.0837220816000057, 1.1245095145452073, 1.2602318198076536, 0.8379150726389031, 0.955604165056892]\n"
     ]
    },
    {
     "name": "stderr",
     "output_type": "stream",
     "text": [
      "/var/folders/1q/w3g5nkks29g3kjdwmq1lssj00000gn/T/ipykernel_1714/1334583777.py:25: DeprecationWarning: Sampling from a set deprecated\n",
      "since Python 3.9 and will be removed in a subsequent version.\n",
      "  for symbol in random.sample(allList,1000):\n"
     ]
    },
    {
     "name": "stdout",
     "output_type": "stream",
     "text": [
      "0.0\n",
      "100\n",
      "[0.46974584626735305, 1.6387150217669244, 0.3420101506096622, 1.0325795476230408, 1.1934747396418688, 1.2152142864084916, 0.9399484290207248, 1.087934518830644]\n"
     ]
    },
    {
     "name": "stderr",
     "output_type": "stream",
     "text": [
      "/var/folders/1q/w3g5nkks29g3kjdwmq1lssj00000gn/T/ipykernel_1714/1334583777.py:25: DeprecationWarning: Sampling from a set deprecated\n",
      "since Python 3.9 and will be removed in a subsequent version.\n",
      "  for symbol in random.sample(allList,1000):\n"
     ]
    },
    {
     "name": "stdout",
     "output_type": "stream",
     "text": [
      "0.46562721474131824\n",
      "123.29976003719966\n",
      "[0.9214088857137704, 1.7069097097151067, 0.2711926118253747, 1.0380497634376615, 1.3207072901192127, 1.0632307257983282, 0.9732818142935136, 1.1644212815737869]\n"
     ]
    },
    {
     "name": "stderr",
     "output_type": "stream",
     "text": [
      "/var/folders/1q/w3g5nkks29g3kjdwmq1lssj00000gn/T/ipykernel_1714/1334583777.py:25: DeprecationWarning: Sampling from a set deprecated\n",
      "since Python 3.9 and will be removed in a subsequent version.\n",
      "  for symbol in random.sample(allList,1000):\n"
     ]
    },
    {
     "name": "stdout",
     "output_type": "stream",
     "text": [
      "0.09071580439404678\n",
      "74.58643900846721\n",
      "[0.6846378991989551, 1.0134791837680395, 0.17816006923439773, 0.989439026431789, 1.0819741008302688, 1.2288461372839792, 0.8906457130527586, 1.0370338038829066]\n"
     ]
    },
    {
     "name": "stderr",
     "output_type": "stream",
     "text": [
      "/var/folders/1q/w3g5nkks29g3kjdwmq1lssj00000gn/T/ipykernel_1714/1334583777.py:25: DeprecationWarning: Sampling from a set deprecated\n",
      "since Python 3.9 and will be removed in a subsequent version.\n",
      "  for symbol in random.sample(allList,1000):\n"
     ]
    },
    {
     "name": "stdout",
     "output_type": "stream",
     "text": [
      "16.677533664068037\n",
      "3733.6709903928136\n",
      "[0.518444518350936, 2.3463162599508127, 0.17406416073853329, 0.9677416367061733, 1.340904361657295, 1.1551386008923237, 0.9739999849758378, 0.9587767925975068]\n"
     ]
    },
    {
     "name": "stderr",
     "output_type": "stream",
     "text": [
      "/var/folders/1q/w3g5nkks29g3kjdwmq1lssj00000gn/T/ipykernel_1714/1334583777.py:25: DeprecationWarning: Sampling from a set deprecated\n",
      "since Python 3.9 and will be removed in a subsequent version.\n",
      "  for symbol in random.sample(allList,1000):\n"
     ]
    },
    {
     "name": "stdout",
     "output_type": "stream",
     "text": [
      "0.5478384124734231\n",
      "11.516592996306082\n",
      "[0.7612095204823894, 2.4703418007529803, 0.024292142330933714, 1.0142229670591338, 1.1598054312453578, 1.0315367428710103, 0.8849903768876501, 1.0984249994720299]\n"
     ]
    },
    {
     "name": "stderr",
     "output_type": "stream",
     "text": [
      "/var/folders/1q/w3g5nkks29g3kjdwmq1lssj00000gn/T/ipykernel_1714/1334583777.py:25: DeprecationWarning: Sampling from a set deprecated\n",
      "since Python 3.9 and will be removed in a subsequent version.\n",
      "  for symbol in random.sample(allList,1000):\n"
     ]
    },
    {
     "name": "stdout",
     "output_type": "stream",
     "text": [
      "2.105598866052445\n",
      "2390.3282846562665\n",
      "[0.19078223936143746, 0.986675953424998, 0.07057270627935228, 0.9528588558753942, 1.0282875027195482, 1.251806657541451, 0.823960510068463, 1.1414927855254375]\n"
     ]
    },
    {
     "name": "stderr",
     "output_type": "stream",
     "text": [
      "/var/folders/1q/w3g5nkks29g3kjdwmq1lssj00000gn/T/ipykernel_1714/1334583777.py:25: DeprecationWarning: Sampling from a set deprecated\n",
      "since Python 3.9 and will be removed in a subsequent version.\n",
      "  for symbol in random.sample(allList,1000):\n"
     ]
    },
    {
     "name": "stdout",
     "output_type": "stream",
     "text": [
      "9.335931963146704\n",
      "20752.95411431102\n",
      "[0.5441994855801308, 1.3551497988020649, 0.3119811413931227, 0.960482390141101, 1.3169916737868366, 1.2850661708222553, 0.8383185759805579, 0.8249837747957668]\n"
     ]
    },
    {
     "name": "stderr",
     "output_type": "stream",
     "text": [
      "/var/folders/1q/w3g5nkks29g3kjdwmq1lssj00000gn/T/ipykernel_1714/1334583777.py:25: DeprecationWarning: Sampling from a set deprecated\n",
      "since Python 3.9 and will be removed in a subsequent version.\n",
      "  for symbol in random.sample(allList,1000):\n"
     ]
    },
    {
     "name": "stdout",
     "output_type": "stream",
     "text": [
      "5.9879518072289155\n",
      "6164.912182871964\n",
      "[0.08337945121264001, 1.8045010853297372, -0.07580934730854574, 0.9857817822790352, 1.1530121539479856, 1.2648229700323959, 0.9738839380779492, 0.891072867710633]\n"
     ]
    },
    {
     "name": "stderr",
     "output_type": "stream",
     "text": [
      "/var/folders/1q/w3g5nkks29g3kjdwmq1lssj00000gn/T/ipykernel_1714/1334583777.py:25: DeprecationWarning: Sampling from a set deprecated\n",
      "since Python 3.9 and will be removed in a subsequent version.\n",
      "  for symbol in random.sample(allList,1000):\n"
     ]
    },
    {
     "name": "stdout",
     "output_type": "stream",
     "text": [
      "19.77958894401134\n",
      "2677.568438106162\n",
      "[0.5469561629819977, 0.7215927651800896, 0.11651251535264948, 1.0906712987221547, 1.081176198013951, 1.0016750657521956, 0.862299632322923, 1.1923619174965496]\n"
     ]
    },
    {
     "name": "stderr",
     "output_type": "stream",
     "text": [
      "/var/folders/1q/w3g5nkks29g3kjdwmq1lssj00000gn/T/ipykernel_1714/1334583777.py:25: DeprecationWarning: Sampling from a set deprecated\n",
      "since Python 3.9 and will be removed in a subsequent version.\n",
      "  for symbol in random.sample(allList,1000):\n"
     ]
    },
    {
     "name": "stdout",
     "output_type": "stream",
     "text": [
      "0.002834868887313962\n",
      "75.05718378800329\n",
      "[0.7048704954235776, 2.8680051817510526, 0.3480431796253787, 0.9889603780080696, 1.3021253133945712, 1.0085574176610872, 0.8280212333888682, 1.0216840662349809]\n"
     ]
    },
    {
     "name": "stderr",
     "output_type": "stream",
     "text": [
      "/var/folders/1q/w3g5nkks29g3kjdwmq1lssj00000gn/T/ipykernel_1714/1334583777.py:25: DeprecationWarning: Sampling from a set deprecated\n",
      "since Python 3.9 and will be removed in a subsequent version.\n",
      "  for symbol in random.sample(allList,1000):\n"
     ]
    },
    {
     "name": "stdout",
     "output_type": "stream",
     "text": [
      "0.3933380581148122\n",
      "376.1636828376237\n",
      "[0.2824191332434578, 2.6347232995856436, 0.30395918726929605, 0.9814864123007276, 1.2686615199838156, 1.2377152530095739, 0.9829542791683468, 0.9376672290893568]\n"
     ]
    },
    {
     "name": "stderr",
     "output_type": "stream",
     "text": [
      "/var/folders/1q/w3g5nkks29g3kjdwmq1lssj00000gn/T/ipykernel_1714/1334583777.py:25: DeprecationWarning: Sampling from a set deprecated\n",
      "since Python 3.9 and will be removed in a subsequent version.\n",
      "  for symbol in random.sample(allList,1000):\n"
     ]
    },
    {
     "name": "stdout",
     "output_type": "stream",
     "text": [
      "6.669029057406095\n",
      "13600.5894735273\n",
      "[0.25171579446696757, 2.8809742186485403, 0.13602223692499946, 1.0800070278836233, 1.3481328863206223, 1.260757299457395, 0.9042327702412726, 0.8338376270576602]\n"
     ]
    },
    {
     "name": "stderr",
     "output_type": "stream",
     "text": [
      "/var/folders/1q/w3g5nkks29g3kjdwmq1lssj00000gn/T/ipykernel_1714/1334583777.py:25: DeprecationWarning: Sampling from a set deprecated\n",
      "since Python 3.9 and will be removed in a subsequent version.\n",
      "  for symbol in random.sample(allList,1000):\n"
     ]
    },
    {
     "name": "stdout",
     "output_type": "stream",
     "text": [
      "0.0\n",
      "100\n",
      "[0.931646950253738, 1.337669412477545, 0.19347343202083747, 1.0819632371936003, 1.0203286630332686, 1.028435200042597, 0.9474093443730742, 1.137943883797224]\n"
     ]
    },
    {
     "name": "stderr",
     "output_type": "stream",
     "text": [
      "/var/folders/1q/w3g5nkks29g3kjdwmq1lssj00000gn/T/ipykernel_1714/1334583777.py:25: DeprecationWarning: Sampling from a set deprecated\n",
      "since Python 3.9 and will be removed in a subsequent version.\n",
      "  for symbol in random.sample(allList,1000):\n"
     ]
    },
    {
     "name": "stdout",
     "output_type": "stream",
     "text": [
      "0.021261516654854713\n",
      "115.99579710825219\n",
      "[0.7146014472606637, 0.028519637295062572, 0.09909200561004208, 1.0261501822547683, 1.1018585583203058, 1.173828655217214, 0.9795668183141663, 0.8795630144356436]\n"
     ]
    },
    {
     "name": "stderr",
     "output_type": "stream",
     "text": [
      "/var/folders/1q/w3g5nkks29g3kjdwmq1lssj00000gn/T/ipykernel_1714/1334583777.py:25: DeprecationWarning: Sampling from a set deprecated\n",
      "since Python 3.9 and will be removed in a subsequent version.\n",
      "  for symbol in random.sample(allList,1000):\n"
     ]
    },
    {
     "name": "stdout",
     "output_type": "stream",
     "text": [
      "12.535790219702339\n",
      "3787.516830635747\n",
      "[0.9294279265553134, 1.2773384777825716, -0.08594160863684122, 1.0616607243085685, 1.174162588777131, 1.0430776653736076, 0.855651309363038, 1.127754539086295]\n"
     ]
    },
    {
     "name": "stderr",
     "output_type": "stream",
     "text": [
      "/var/folders/1q/w3g5nkks29g3kjdwmq1lssj00000gn/T/ipykernel_1714/1334583777.py:25: DeprecationWarning: Sampling from a set deprecated\n",
      "since Python 3.9 and will be removed in a subsequent version.\n",
      "  for symbol in random.sample(allList,1000):\n"
     ]
    },
    {
     "name": "stdout",
     "output_type": "stream",
     "text": [
      "0.001417434443656981\n",
      "92.35955056179775\n",
      "[0.6285992935402109, 1.63329263657015, 0.02697426480269341, 1.0595798230623288, 1.2892227264802245, 1.0513120055422591, 0.8721586626832478, 0.9389460069584256]\n"
     ]
    },
    {
     "name": "stderr",
     "output_type": "stream",
     "text": [
      "/var/folders/1q/w3g5nkks29g3kjdwmq1lssj00000gn/T/ipykernel_1714/1334583777.py:25: DeprecationWarning: Sampling from a set deprecated\n",
      "since Python 3.9 and will be removed in a subsequent version.\n",
      "  for symbol in random.sample(allList,1000):\n"
     ]
    },
    {
     "name": "stdout",
     "output_type": "stream",
     "text": [
      "0.08433734939759036\n",
      "64.38554511012802\n",
      "[0.6419594728112015, 2.6622915838817214, 0.3659848250992842, 0.9018087928370118, 1.10608096615136, 1.012094212034372, 0.8362257535598021, 1.017591593879019]\n"
     ]
    },
    {
     "name": "stderr",
     "output_type": "stream",
     "text": [
      "/var/folders/1q/w3g5nkks29g3kjdwmq1lssj00000gn/T/ipykernel_1714/1334583777.py:25: DeprecationWarning: Sampling from a set deprecated\n",
      "since Python 3.9 and will be removed in a subsequent version.\n",
      "  for symbol in random.sample(allList,1000):\n"
     ]
    },
    {
     "name": "stdout",
     "output_type": "stream",
     "text": [
      "1.1509567682494684\n",
      "858.3822770234833\n",
      "[0.060673436280606285, 1.05593980117431, 0.16544383845868557, 0.9003209842175939, 1.3044084945885113, 1.0894499479151372, 0.9051731331988924, 0.8853434353664824]\n"
     ]
    },
    {
     "name": "stderr",
     "output_type": "stream",
     "text": [
      "/var/folders/1q/w3g5nkks29g3kjdwmq1lssj00000gn/T/ipykernel_1714/1334583777.py:25: DeprecationWarning: Sampling from a set deprecated\n",
      "since Python 3.9 and will be removed in a subsequent version.\n",
      "  for symbol in random.sample(allList,1000):\n"
     ]
    },
    {
     "name": "stdout",
     "output_type": "stream",
     "text": [
      "9.814316087880936\n",
      "2094.148075223157\n",
      "[0.6603170235223838, 1.7831792259517578, 0.3180688330808933, 0.9351196022216419, 1.1864460037864488, 1.1985371438918286, 0.8673522838660493, 1.078692046983444]\n"
     ]
    },
    {
     "name": "stderr",
     "output_type": "stream",
     "text": [
      "/var/folders/1q/w3g5nkks29g3kjdwmq1lssj00000gn/T/ipykernel_1714/1334583777.py:25: DeprecationWarning: Sampling from a set deprecated\n",
      "since Python 3.9 and will be removed in a subsequent version.\n",
      "  for symbol in random.sample(allList,1000):\n"
     ]
    },
    {
     "name": "stdout",
     "output_type": "stream",
     "text": [
      "7.697377746279234\n",
      "927.9626538229949\n",
      "[0.6066741716852411, 0.09791652101352477, -0.001632551302134272, 0.9988295249854494, 1.3676270974670992, 1.2617784707879136, 0.9490260082551729, 0.9273468855640032]\n"
     ]
    },
    {
     "name": "stderr",
     "output_type": "stream",
     "text": [
      "/var/folders/1q/w3g5nkks29g3kjdwmq1lssj00000gn/T/ipykernel_1714/1334583777.py:25: DeprecationWarning: Sampling from a set deprecated\n",
      "since Python 3.9 and will be removed in a subsequent version.\n",
      "  for symbol in random.sample(allList,1000):\n"
     ]
    },
    {
     "name": "stdout",
     "output_type": "stream",
     "text": [
      "7.197732104890149\n",
      "5128.393964653199\n",
      "[0.3465677562008772, 0.7043436487850321, 0.3390639355068906, 1.0573759871662196, 1.3267993404600433, 1.2736216558854583, 0.8655109550525872, 0.931541299827791]\n"
     ]
    },
    {
     "name": "stderr",
     "output_type": "stream",
     "text": [
      "/var/folders/1q/w3g5nkks29g3kjdwmq1lssj00000gn/T/ipykernel_1714/1334583777.py:25: DeprecationWarning: Sampling from a set deprecated\n",
      "since Python 3.9 and will be removed in a subsequent version.\n",
      "  for symbol in random.sample(allList,1000):\n"
     ]
    },
    {
     "name": "stdout",
     "output_type": "stream",
     "text": [
      "0.09142452161587526\n",
      "79.70749542961609\n",
      "[0.5913339652500357, 0.3104012686529358, 0.39014365023149766, 1.089667935329456, 1.3931320750411746, 1.2561051062292357, 0.930277819407721, 1.0323211379647592]\n"
     ]
    },
    {
     "name": "stderr",
     "output_type": "stream",
     "text": [
      "/var/folders/1q/w3g5nkks29g3kjdwmq1lssj00000gn/T/ipykernel_1714/1334583777.py:25: DeprecationWarning: Sampling from a set deprecated\n",
      "since Python 3.9 and will be removed in a subsequent version.\n",
      "  for symbol in random.sample(allList,1000):\n"
     ]
    },
    {
     "name": "stdout",
     "output_type": "stream",
     "text": [
      "0.0\n",
      "100\n",
      "[0.3548250569888862, 1.6568321393207084, -0.05877974106642833, 1.0451590475481354, 1.1280634918617545, 1.212439689469773, 0.8114748557373661, 1.184688474106897]\n"
     ]
    },
    {
     "name": "stderr",
     "output_type": "stream",
     "text": [
      "/var/folders/1q/w3g5nkks29g3kjdwmq1lssj00000gn/T/ipykernel_1714/1334583777.py:25: DeprecationWarning: Sampling from a set deprecated\n",
      "since Python 3.9 and will be removed in a subsequent version.\n",
      "  for symbol in random.sample(allList,1000):\n"
     ]
    },
    {
     "name": "stdout",
     "output_type": "stream",
     "text": [
      "0.5088589652728561\n",
      "639.3048976347603\n",
      "[0.89987310771413, 1.1812727515422101, 0.21567435902490198, 1.0142793435451578, 1.1378281933892371, 1.0538943163687422, 0.980323289215387, 1.1909423822329908]\n"
     ]
    },
    {
     "name": "stderr",
     "output_type": "stream",
     "text": [
      "/var/folders/1q/w3g5nkks29g3kjdwmq1lssj00000gn/T/ipykernel_1714/1334583777.py:25: DeprecationWarning: Sampling from a set deprecated\n",
      "since Python 3.9 and will be removed in a subsequent version.\n",
      "  for symbol in random.sample(allList,1000):\n"
     ]
    },
    {
     "name": "stdout",
     "output_type": "stream",
     "text": [
      "0.27569099929128277\n",
      "159.10567511382516\n",
      "[0.2041286090115444, 1.4476499920585217, 0.26939293233518224, 1.0375225927066154, 1.1693223901974275, 1.0206241250567187, 0.8998358377212762, 0.823914687459506]\n"
     ]
    },
    {
     "name": "stderr",
     "output_type": "stream",
     "text": [
      "/var/folders/1q/w3g5nkks29g3kjdwmq1lssj00000gn/T/ipykernel_1714/1334583777.py:25: DeprecationWarning: Sampling from a set deprecated\n",
      "since Python 3.9 and will be removed in a subsequent version.\n",
      "  for symbol in random.sample(allList,1000):\n"
     ]
    },
    {
     "name": "stdout",
     "output_type": "stream",
     "text": [
      "3.001417434443657\n",
      "24739.126389712823\n",
      "[0.3256160081733741, 1.2078941962444478, 0.2159346244464854, 0.9332386253939624, 1.0796656574021841, 1.0129372131867302, 0.959758384722891, 1.062436686299078]\n"
     ]
    },
    {
     "name": "stderr",
     "output_type": "stream",
     "text": [
      "/var/folders/1q/w3g5nkks29g3kjdwmq1lssj00000gn/T/ipykernel_1714/1334583777.py:25: DeprecationWarning: Sampling from a set deprecated\n",
      "since Python 3.9 and will be removed in a subsequent version.\n",
      "  for symbol in random.sample(allList,1000):\n"
     ]
    },
    {
     "name": "stdout",
     "output_type": "stream",
     "text": [
      "3.7710843373493974\n",
      "4951.60705066768\n",
      "[0.7957829889903634, 2.9868384754558686, 0.36379284275587664, 0.9313396346517306, 1.225617274515149, 1.1204818061035666, 0.8589276906528325, 0.8666087817711663]\n"
     ]
    },
    {
     "name": "stderr",
     "output_type": "stream",
     "text": [
      "/var/folders/1q/w3g5nkks29g3kjdwmq1lssj00000gn/T/ipykernel_1714/1334583777.py:25: DeprecationWarning: Sampling from a set deprecated\n",
      "since Python 3.9 and will be removed in a subsequent version.\n",
      "  for symbol in random.sample(allList,1000):\n"
     ]
    },
    {
     "name": "stdout",
     "output_type": "stream",
     "text": [
      "1.66194188518781\n",
      "618.5599697546029\n",
      "[0.03033851742176874, 0.015806337785317814, 0.3642757485766941, 1.0537069759643403, 1.3001816749877306, 1.1139513870478845, 0.9134888346565156, 1.0754327269117578]\n"
     ]
    },
    {
     "name": "stderr",
     "output_type": "stream",
     "text": [
      "/var/folders/1q/w3g5nkks29g3kjdwmq1lssj00000gn/T/ipykernel_1714/1334583777.py:25: DeprecationWarning: Sampling from a set deprecated\n",
      "since Python 3.9 and will be removed in a subsequent version.\n",
      "  for symbol in random.sample(allList,1000):\n"
     ]
    },
    {
     "name": "stdout",
     "output_type": "stream",
     "text": [
      "0.05386250885896527\n",
      "84.14811266957392\n",
      "[0.5986759805420495, 2.48129906550533, -0.08876581341674147, 0.9028519034952586, 1.2136067349888253, 1.0074664295346203, 0.987722361339428, 0.8504836516219454]\n"
     ]
    },
    {
     "name": "stderr",
     "output_type": "stream",
     "text": [
      "/var/folders/1q/w3g5nkks29g3kjdwmq1lssj00000gn/T/ipykernel_1714/1334583777.py:25: DeprecationWarning: Sampling from a set deprecated\n",
      "since Python 3.9 and will be removed in a subsequent version.\n",
      "  for symbol in random.sample(allList,1000):\n"
     ]
    },
    {
     "name": "stdout",
     "output_type": "stream",
     "text": [
      "4.279234585400426\n",
      "2769.9074769249705\n",
      "[0.43487359346534893, 2.712999747935512, 0.0018249849985948197, 1.0196608771111375, 1.3695876475928226, 1.0400573503985657, 0.8016598507280795, 0.9101015206128219]\n"
     ]
    },
    {
     "name": "stderr",
     "output_type": "stream",
     "text": [
      "/var/folders/1q/w3g5nkks29g3kjdwmq1lssj00000gn/T/ipykernel_1714/1334583777.py:25: DeprecationWarning: Sampling from a set deprecated\n",
      "since Python 3.9 and will be removed in a subsequent version.\n",
      "  for symbol in random.sample(allList,1000):\n"
     ]
    },
    {
     "name": "stdout",
     "output_type": "stream",
     "text": [
      "0.9603118355776046\n",
      "101.28228396882784\n",
      "[0.0947784028580837, 2.876830614203013, 0.3600423916515504, 1.0566749994093951, 1.0597161085415694, 1.22752273073196, 0.8818337000417236, 1.019585621466061]\n"
     ]
    },
    {
     "name": "stderr",
     "output_type": "stream",
     "text": [
      "/var/folders/1q/w3g5nkks29g3kjdwmq1lssj00000gn/T/ipykernel_1714/1334583777.py:25: DeprecationWarning: Sampling from a set deprecated\n",
      "since Python 3.9 and will be removed in a subsequent version.\n",
      "  for symbol in random.sample(allList,1000):\n"
     ]
    },
    {
     "name": "stdout",
     "output_type": "stream",
     "text": [
      "0.0\n",
      "100\n",
      "[0.8545102942502749, 0.7808602218663756, -0.07424736626408016, 1.0771157964805442, 1.3184537491875334, 1.1861395854664853, 0.9051390590874313, 0.8910985402493289]\n"
     ]
    },
    {
     "name": "stderr",
     "output_type": "stream",
     "text": [
      "/var/folders/1q/w3g5nkks29g3kjdwmq1lssj00000gn/T/ipykernel_1714/1334583777.py:25: DeprecationWarning: Sampling from a set deprecated\n",
      "since Python 3.9 and will be removed in a subsequent version.\n",
      "  for symbol in random.sample(allList,1000):\n"
     ]
    },
    {
     "name": "stdout",
     "output_type": "stream",
     "text": [
      "0.0\n",
      "100\n",
      "[0.6317102616268806, 1.4058607225111648, 0.37652489956972324, 0.9234829754332475, 1.2031461919613688, 1.0818347970453142, 0.8629803205814489, 0.8283422152125341]\n"
     ]
    },
    {
     "name": "stderr",
     "output_type": "stream",
     "text": [
      "/var/folders/1q/w3g5nkks29g3kjdwmq1lssj00000gn/T/ipykernel_1714/1334583777.py:25: DeprecationWarning: Sampling from a set deprecated\n",
      "since Python 3.9 and will be removed in a subsequent version.\n",
      "  for symbol in random.sample(allList,1000):\n"
     ]
    },
    {
     "name": "stdout",
     "output_type": "stream",
     "text": [
      "10.952515946137492\n",
      "9210.32251440438\n",
      "[0.0999559436079902, 2.708965378685203, 0.2939378771851031, 0.9300593996068407, 1.3995070570290655, 1.0006537794837222, 0.8130117012141937, 1.1475115339121753]\n"
     ]
    },
    {
     "name": "stderr",
     "output_type": "stream",
     "text": [
      "/var/folders/1q/w3g5nkks29g3kjdwmq1lssj00000gn/T/ipykernel_1714/1334583777.py:25: DeprecationWarning: Sampling from a set deprecated\n",
      "since Python 3.9 and will be removed in a subsequent version.\n",
      "  for symbol in random.sample(allList,1000):\n"
     ]
    },
    {
     "name": "stdout",
     "output_type": "stream",
     "text": [
      "0.3416017009213324\n",
      "483.2265451878945\n",
      "[0.2467608108704763, 0.7890934556843506, -0.04437649240638428, 1.0286906614064397, 1.2930218797621864, 1.0567449769422648, 0.933493912017731, 0.9234546247361645]\n"
     ]
    },
    {
     "name": "stderr",
     "output_type": "stream",
     "text": [
      "/var/folders/1q/w3g5nkks29g3kjdwmq1lssj00000gn/T/ipykernel_1714/1334583777.py:25: DeprecationWarning: Sampling from a set deprecated\n",
      "since Python 3.9 and will be removed in a subsequent version.\n",
      "  for symbol in random.sample(allList,1000):\n"
     ]
    },
    {
     "name": "stdout",
     "output_type": "stream",
     "text": [
      "4.331679659815734\n",
      "11148.29478011915\n",
      "[0.9908555252284322, 2.0897290693296355, 0.3109575934166403, 0.966337612904472, 1.3603244297414516, 1.0468244302213752, 0.8437210789790834, 1.1861429374607018]\n"
     ]
    },
    {
     "name": "stderr",
     "output_type": "stream",
     "text": [
      "/var/folders/1q/w3g5nkks29g3kjdwmq1lssj00000gn/T/ipykernel_1714/1334583777.py:25: DeprecationWarning: Sampling from a set deprecated\n",
      "since Python 3.9 and will be removed in a subsequent version.\n",
      "  for symbol in random.sample(allList,1000):\n"
     ]
    },
    {
     "name": "stdout",
     "output_type": "stream",
     "text": [
      "0.35648476257973066\n",
      "1026.1781156528286\n",
      "[0.5285840954844543, 2.8370867341030634, 0.028663469213921294, 0.9810918729032576, 1.1522016457412219, 1.1558628739934105, 0.8292550835507168, 0.9859392417488642]\n"
     ]
    },
    {
     "name": "stderr",
     "output_type": "stream",
     "text": [
      "/var/folders/1q/w3g5nkks29g3kjdwmq1lssj00000gn/T/ipykernel_1714/1334583777.py:25: DeprecationWarning: Sampling from a set deprecated\n",
      "since Python 3.9 and will be removed in a subsequent version.\n",
      "  for symbol in random.sample(allList,1000):\n"
     ]
    },
    {
     "name": "stdout",
     "output_type": "stream",
     "text": [
      "4.043940467753367\n",
      "1382.1072334969867\n",
      "[0.5084700791672135, 0.15644324917335706, 0.20143357237084378, 0.9269272114954964, 1.0256420171053195, 1.1162093413377832, 0.88335811764823, 0.8794395253303204]\n"
     ]
    },
    {
     "name": "stderr",
     "output_type": "stream",
     "text": [
      "/var/folders/1q/w3g5nkks29g3kjdwmq1lssj00000gn/T/ipykernel_1714/1334583777.py:25: DeprecationWarning: Sampling from a set deprecated\n",
      "since Python 3.9 and will be removed in a subsequent version.\n",
      "  for symbol in random.sample(allList,1000):\n"
     ]
    },
    {
     "name": "stdout",
     "output_type": "stream",
     "text": [
      "62.787384833451455\n",
      "2074.2797609182144\n",
      "[0.13863689974531535, 1.2441851084211173, 0.19450334419358048, 0.9925849767014365, 1.3213223788509216, 1.039365440994615, 0.9900722808863471, 1.0054045037520194]\n"
     ]
    },
    {
     "name": "stderr",
     "output_type": "stream",
     "text": [
      "/var/folders/1q/w3g5nkks29g3kjdwmq1lssj00000gn/T/ipykernel_1714/1334583777.py:25: DeprecationWarning: Sampling from a set deprecated\n",
      "since Python 3.9 and will be removed in a subsequent version.\n",
      "  for symbol in random.sample(allList,1000):\n"
     ]
    },
    {
     "name": "stdout",
     "output_type": "stream",
     "text": [
      "1.2055279943302621\n",
      "1877.5665547876188\n",
      "[0.8525168649766726, 2.9066114034100723, 0.39205691678081767, 1.0850009935390192, 1.0885653367933406, 1.0040924719078295, 0.9473119297612407, 0.9698555056131936]\n"
     ]
    },
    {
     "name": "stderr",
     "output_type": "stream",
     "text": [
      "/var/folders/1q/w3g5nkks29g3kjdwmq1lssj00000gn/T/ipykernel_1714/1334583777.py:25: DeprecationWarning: Sampling from a set deprecated\n",
      "since Python 3.9 and will be removed in a subsequent version.\n",
      "  for symbol in random.sample(allList,1000):\n"
     ]
    },
    {
     "name": "stdout",
     "output_type": "stream",
     "text": [
      "0.0\n",
      "100\n",
      "[0.47908849801896125, 0.2637644146553809, 0.07548476272606588, 0.988583088886327, 1.2234497305630896, 1.246002975811012, 0.9697563168413351, 0.9728491868335486]\n"
     ]
    },
    {
     "name": "stderr",
     "output_type": "stream",
     "text": [
      "/var/folders/1q/w3g5nkks29g3kjdwmq1lssj00000gn/T/ipykernel_1714/1334583777.py:25: DeprecationWarning: Sampling from a set deprecated\n",
      "since Python 3.9 and will be removed in a subsequent version.\n",
      "  for symbol in random.sample(allList,1000):\n"
     ]
    },
    {
     "name": "stdout",
     "output_type": "stream",
     "text": [
      "8.134656272147414\n",
      "660.278774141516\n",
      "[0.05206047555279114, 2.3937856018526196, 0.16266944615886755, 0.9264684739320561, 1.04587702869631, 1.161644178964736, 0.8742324290053055, 1.0043215643823136]\n"
     ]
    },
    {
     "name": "stderr",
     "output_type": "stream",
     "text": [
      "/var/folders/1q/w3g5nkks29g3kjdwmq1lssj00000gn/T/ipykernel_1714/1334583777.py:25: DeprecationWarning: Sampling from a set deprecated\n",
      "since Python 3.9 and will be removed in a subsequent version.\n",
      "  for symbol in random.sample(allList,1000):\n"
     ]
    },
    {
     "name": "stdout",
     "output_type": "stream",
     "text": [
      "8.79872430900071\n",
      "686.8184015460756\n",
      "[0.9690751421052769, 0.33318067798011985, 0.3435700466953757, 1.08059097422983, 1.0451938810347567, 1.1763947552712517, 0.8848613036297859, 1.1709943994979606]\n"
     ]
    },
    {
     "name": "stderr",
     "output_type": "stream",
     "text": [
      "/var/folders/1q/w3g5nkks29g3kjdwmq1lssj00000gn/T/ipykernel_1714/1334583777.py:25: DeprecationWarning: Sampling from a set deprecated\n",
      "since Python 3.9 and will be removed in a subsequent version.\n",
      "  for symbol in random.sample(allList,1000):\n"
     ]
    },
    {
     "name": "stdout",
     "output_type": "stream",
     "text": [
      "0.001417434443656981\n",
      "89.8086652011307\n",
      "[0.32297491320488125, 2.9193750156993463, 0.23324143696807656, 1.0099088354641461, 1.1139469875913175, 1.2436074778829627, 0.9552476320091562, 1.0057609776447978]\n"
     ]
    },
    {
     "name": "stderr",
     "output_type": "stream",
     "text": [
      "/var/folders/1q/w3g5nkks29g3kjdwmq1lssj00000gn/T/ipykernel_1714/1334583777.py:25: DeprecationWarning: Sampling from a set deprecated\n",
      "since Python 3.9 and will be removed in a subsequent version.\n",
      "  for symbol in random.sample(allList,1000):\n"
     ]
    },
    {
     "name": "stdout",
     "output_type": "stream",
     "text": [
      "3.983699503897945\n",
      "18220.729160500527\n",
      "[0.7967543203152507, 1.2942216058737732, 0.16741078922542527, 0.9444073143703082, 1.005507105311418, 1.0651385100535335, 0.9773616499526184, 0.9860126907544267]\n"
     ]
    },
    {
     "name": "stderr",
     "output_type": "stream",
     "text": [
      "/var/folders/1q/w3g5nkks29g3kjdwmq1lssj00000gn/T/ipykernel_1714/1334583777.py:25: DeprecationWarning: Sampling from a set deprecated\n",
      "since Python 3.9 and will be removed in a subsequent version.\n",
      "  for symbol in random.sample(allList,1000):\n"
     ]
    },
    {
     "name": "stdout",
     "output_type": "stream",
     "text": [
      "12.471296952515946\n",
      "4538.378440842736\n",
      "[0.5527321380842506, 0.22555031847153195, 0.2659130022351823, 0.9513582829989087, 1.3234269168862218, 1.1674542766796456, 0.9315013137255007, 0.8358393580439007]\n"
     ]
    },
    {
     "name": "stderr",
     "output_type": "stream",
     "text": [
      "/var/folders/1q/w3g5nkks29g3kjdwmq1lssj00000gn/T/ipykernel_1714/1334583777.py:25: DeprecationWarning: Sampling from a set deprecated\n",
      "since Python 3.9 and will be removed in a subsequent version.\n",
      "  for symbol in random.sample(allList,1000):\n"
     ]
    },
    {
     "name": "stdout",
     "output_type": "stream",
     "text": [
      "8.98157335223246\n",
      "5345.742752439479\n",
      "[0.3144318362106875, 0.12897397190055837, -0.04212092657495145, 1.0413114588842252, 1.1474385890298893, 1.1593526113756623, 0.9205467233674529, 1.1320787568389323]\n"
     ]
    },
    {
     "name": "stderr",
     "output_type": "stream",
     "text": [
      "/var/folders/1q/w3g5nkks29g3kjdwmq1lssj00000gn/T/ipykernel_1714/1334583777.py:25: DeprecationWarning: Sampling from a set deprecated\n",
      "since Python 3.9 and will be removed in a subsequent version.\n",
      "  for symbol in random.sample(allList,1000):\n"
     ]
    },
    {
     "name": "stdout",
     "output_type": "stream",
     "text": [
      "0.07654145995747696\n",
      "110.1650202846632\n",
      "[0.29210806009334733, 2.744688018353661, -0.042369238585386354, 0.90063533275322, 1.3839016874987018, 1.0791499036434333, 0.9350665735138146, 1.0372590996254876]\n"
     ]
    },
    {
     "name": "stderr",
     "output_type": "stream",
     "text": [
      "/var/folders/1q/w3g5nkks29g3kjdwmq1lssj00000gn/T/ipykernel_1714/1334583777.py:25: DeprecationWarning: Sampling from a set deprecated\n",
      "since Python 3.9 and will be removed in a subsequent version.\n",
      "  for symbol in random.sample(allList,1000):\n"
     ]
    },
    {
     "name": "stdout",
     "output_type": "stream",
     "text": [
      "0.6704464918497519\n",
      "2576.685040029197\n",
      "[0.22757566830945397, 0.6178622841007622, -0.03154906037990754, 1.0948242726242274, 1.3199777207946572, 1.0981336837543771, 0.8868543282515847, 0.8702213145990365]\n"
     ]
    },
    {
     "name": "stderr",
     "output_type": "stream",
     "text": [
      "/var/folders/1q/w3g5nkks29g3kjdwmq1lssj00000gn/T/ipykernel_1714/1334583777.py:25: DeprecationWarning: Sampling from a set deprecated\n",
      "since Python 3.9 and will be removed in a subsequent version.\n",
      "  for symbol in random.sample(allList,1000):\n"
     ]
    },
    {
     "name": "stdout",
     "output_type": "stream",
     "text": [
      "0.0\n",
      "100\n",
      "[0.3570881033681327, 1.995933939746652, 0.25620635183307183, 0.9966459287155626, 1.2910664082282248, 1.217239663586589, 0.8920586099333454, 1.0711132233529708]\n"
     ]
    },
    {
     "name": "stderr",
     "output_type": "stream",
     "text": [
      "/var/folders/1q/w3g5nkks29g3kjdwmq1lssj00000gn/T/ipykernel_1714/1334583777.py:25: DeprecationWarning: Sampling from a set deprecated\n",
      "since Python 3.9 and will be removed in a subsequent version.\n",
      "  for symbol in random.sample(allList,1000):\n"
     ]
    },
    {
     "name": "stdout",
     "output_type": "stream",
     "text": [
      "1.2473423104181431\n",
      "929.6306127378666\n",
      "[0.3583980974017814, 2.7187842530482738, -0.017166858336626928, 0.9286250263951377, 1.2490394771813793, 1.2935915754594642, 0.9216448849140593, 1.04175197493486]\n"
     ]
    },
    {
     "name": "stderr",
     "output_type": "stream",
     "text": [
      "/var/folders/1q/w3g5nkks29g3kjdwmq1lssj00000gn/T/ipykernel_1714/1334583777.py:25: DeprecationWarning: Sampling from a set deprecated\n",
      "since Python 3.9 and will be removed in a subsequent version.\n",
      "  for symbol in random.sample(allList,1000):\n"
     ]
    },
    {
     "name": "stdout",
     "output_type": "stream",
     "text": [
      "1.7696669029057406\n",
      "667.5982906480593\n",
      "[0.5445296561155378, 1.025990961368946, 0.0628815280401274, 1.0056998647507287, 1.2487905200584368, 1.0158079265766835, 0.9283851744188647, 0.8753444076233653]\n"
     ]
    },
    {
     "name": "stderr",
     "output_type": "stream",
     "text": [
      "/var/folders/1q/w3g5nkks29g3kjdwmq1lssj00000gn/T/ipykernel_1714/1334583777.py:25: DeprecationWarning: Sampling from a set deprecated\n",
      "since Python 3.9 and will be removed in a subsequent version.\n",
      "  for symbol in random.sample(allList,1000):\n"
     ]
    },
    {
     "name": "stdout",
     "output_type": "stream",
     "text": [
      "5.418851878100638\n",
      "7249.80035149068\n",
      "[0.8507893039967822, 2.6801300555167265, 0.3229294256638713, 1.0450876538313436, 1.0027988865041664, 1.2434147527172033, 0.9887886772533945, 0.8414876134147801]\n"
     ]
    },
    {
     "name": "stderr",
     "output_type": "stream",
     "text": [
      "/var/folders/1q/w3g5nkks29g3kjdwmq1lssj00000gn/T/ipykernel_1714/1334583777.py:25: DeprecationWarning: Sampling from a set deprecated\n",
      "since Python 3.9 and will be removed in a subsequent version.\n",
      "  for symbol in random.sample(allList,1000):\n"
     ]
    },
    {
     "name": "stdout",
     "output_type": "stream",
     "text": [
      "0.0\n",
      "100\n",
      "[0.8248933631945097, 0.4921157679761978, 0.3914255630119503, 0.9679191879846659, 1.1105802837596386, 1.1403673334572213, 0.9948392027896671, 0.9846302976372401]\n"
     ]
    },
    {
     "name": "stderr",
     "output_type": "stream",
     "text": [
      "/var/folders/1q/w3g5nkks29g3kjdwmq1lssj00000gn/T/ipykernel_1714/1334583777.py:25: DeprecationWarning: Sampling from a set deprecated\n",
      "since Python 3.9 and will be removed in a subsequent version.\n",
      "  for symbol in random.sample(allList,1000):\n"
     ]
    },
    {
     "name": "stdout",
     "output_type": "stream",
     "text": [
      "14.656980864635011\n",
      "1876.570193373168\n",
      "[0.6458060385069645, 2.791773275970045, -0.07843793291307419, 1.072496284728235, 1.2898050723157128, 1.0901771782355705, 0.8344025430241578, 0.8683405741305913]\n"
     ]
    },
    {
     "name": "stderr",
     "output_type": "stream",
     "text": [
      "/var/folders/1q/w3g5nkks29g3kjdwmq1lssj00000gn/T/ipykernel_1714/1334583777.py:25: DeprecationWarning: Sampling from a set deprecated\n",
      "since Python 3.9 and will be removed in a subsequent version.\n",
      "  for symbol in random.sample(allList,1000):\n"
     ]
    },
    {
     "name": "stdout",
     "output_type": "stream",
     "text": [
      "0.0\n",
      "100\n",
      "[0.1432815152506548, 2.9863691811203363, 0.30457083691332376, 1.067350511296251, 1.038109589271685, 1.0749695463197098, 0.8869051875901343, 1.0774272631491595]\n"
     ]
    },
    {
     "name": "stderr",
     "output_type": "stream",
     "text": [
      "/var/folders/1q/w3g5nkks29g3kjdwmq1lssj00000gn/T/ipykernel_1714/1334583777.py:25: DeprecationWarning: Sampling from a set deprecated\n",
      "since Python 3.9 and will be removed in a subsequent version.\n",
      "  for symbol in random.sample(allList,1000):\n"
     ]
    },
    {
     "name": "stdout",
     "output_type": "stream",
     "text": [
      "0.0\n",
      "100\n",
      "[0.37025077809506235, 0.8020516201152705, 0.3531770441660149, 1.0708087162357327, 1.355501157221409, 1.2464648300803411, 0.8819859850032004, 0.9591396669855052]\n"
     ]
    },
    {
     "name": "stderr",
     "output_type": "stream",
     "text": [
      "/var/folders/1q/w3g5nkks29g3kjdwmq1lssj00000gn/T/ipykernel_1714/1334583777.py:25: DeprecationWarning: Sampling from a set deprecated\n",
      "since Python 3.9 and will be removed in a subsequent version.\n",
      "  for symbol in random.sample(allList,1000):\n"
     ]
    },
    {
     "name": "stdout",
     "output_type": "stream",
     "text": [
      "0.09709425939050319\n",
      "321.23135363529747\n",
      "[0.7254700103649042, 1.8819861267032498, 0.12690134400769562, 1.001578527416917, 1.0277490736495458, 1.2605847204110254, 0.9074312426876323, 1.1543925230151009]\n"
     ]
    },
    {
     "name": "stderr",
     "output_type": "stream",
     "text": [
      "/var/folders/1q/w3g5nkks29g3kjdwmq1lssj00000gn/T/ipykernel_1714/1334583777.py:25: DeprecationWarning: Sampling from a set deprecated\n",
      "since Python 3.9 and will be removed in a subsequent version.\n",
      "  for symbol in random.sample(allList,1000):\n"
     ]
    },
    {
     "name": "stdout",
     "output_type": "stream",
     "text": [
      "1.293408929836995\n",
      "414.830315948651\n",
      "[0.7847583818801755, 2.4433753698605982, -0.02845539868219113, 1.0344782248484945, 1.0875592196102974, 1.1815050316821292, 0.9699955290056612, 1.1051350816808503]\n"
     ]
    },
    {
     "name": "stderr",
     "output_type": "stream",
     "text": [
      "/var/folders/1q/w3g5nkks29g3kjdwmq1lssj00000gn/T/ipykernel_1714/1334583777.py:25: DeprecationWarning: Sampling from a set deprecated\n",
      "since Python 3.9 and will be removed in a subsequent version.\n",
      "  for symbol in random.sample(allList,1000):\n"
     ]
    },
    {
     "name": "stdout",
     "output_type": "stream",
     "text": [
      "0.32742735648476257\n",
      "274.29838845620606\n",
      "[0.4740302892355511, 1.204226377709905, 0.24962328646022972, 0.9472216770260095, 1.1729660104947084, 1.137876167764283, 0.9960966662212831, 1.1167268208897672]\n"
     ]
    },
    {
     "name": "stderr",
     "output_type": "stream",
     "text": [
      "/var/folders/1q/w3g5nkks29g3kjdwmq1lssj00000gn/T/ipykernel_1714/1334583777.py:25: DeprecationWarning: Sampling from a set deprecated\n",
      "since Python 3.9 and will be removed in a subsequent version.\n",
      "  for symbol in random.sample(allList,1000):\n"
     ]
    },
    {
     "name": "stdout",
     "output_type": "stream",
     "text": [
      "3.4975194897236004\n",
      "10988.225157845622\n",
      "[0.17931278988442456, 1.5360549273480386, 0.18265855299811443, 0.9321605234342594, 1.03028961135933, 1.2245154841589576, 0.884463872952887, 0.905211606790629]\n"
     ]
    },
    {
     "name": "stderr",
     "output_type": "stream",
     "text": [
      "/var/folders/1q/w3g5nkks29g3kjdwmq1lssj00000gn/T/ipykernel_1714/1334583777.py:25: DeprecationWarning: Sampling from a set deprecated\n",
      "since Python 3.9 and will be removed in a subsequent version.\n",
      "  for symbol in random.sample(allList,1000):\n"
     ]
    },
    {
     "name": "stdout",
     "output_type": "stream",
     "text": [
      "24.92416725726435\n",
      "2661.9292520208123\n",
      "[0.610814886323085, 1.3566233936053234, 0.16703698477570553, 1.0707859161486597, 1.1222095125679792, 1.2665867615291742, 0.8446955023893825, 1.1738488897947956]\n"
     ]
    },
    {
     "name": "stderr",
     "output_type": "stream",
     "text": [
      "/var/folders/1q/w3g5nkks29g3kjdwmq1lssj00000gn/T/ipykernel_1714/1334583777.py:25: DeprecationWarning: Sampling from a set deprecated\n",
      "since Python 3.9 and will be removed in a subsequent version.\n",
      "  for symbol in random.sample(allList,1000):\n"
     ]
    },
    {
     "name": "stdout",
     "output_type": "stream",
     "text": [
      "0.0\n",
      "100\n",
      "[0.24092088250342336, 0.6611829196545268, -0.08538035640093342, 1.0326313772115427, 1.329236445886125, 1.2568398265164726, 0.9166137489118902, 0.8100551197636554]\n"
     ]
    },
    {
     "name": "stderr",
     "output_type": "stream",
     "text": [
      "/var/folders/1q/w3g5nkks29g3kjdwmq1lssj00000gn/T/ipykernel_1714/1334583777.py:25: DeprecationWarning: Sampling from a set deprecated\n",
      "since Python 3.9 and will be removed in a subsequent version.\n",
      "  for symbol in random.sample(allList,1000):\n"
     ]
    },
    {
     "name": "stdout",
     "output_type": "stream",
     "text": [
      "6.99078667611623\n",
      "4850.1684161996\n",
      "[0.503001999924617, 2.126243287085943, 0.1421918837586079, 1.0301442006374908, 1.2824323320134081, 1.1449846670142882, 0.8729407004227872, 1.0200143689393424]\n"
     ]
    },
    {
     "name": "stderr",
     "output_type": "stream",
     "text": [
      "/var/folders/1q/w3g5nkks29g3kjdwmq1lssj00000gn/T/ipykernel_1714/1334583777.py:25: DeprecationWarning: Sampling from a set deprecated\n",
      "since Python 3.9 and will be removed in a subsequent version.\n",
      "  for symbol in random.sample(allList,1000):\n"
     ]
    },
    {
     "name": "stdout",
     "output_type": "stream",
     "text": [
      "0.03330970942593905\n",
      "76.13318841580904\n",
      "[0.18569649974226565, 2.7467850645775393, 0.2597288928934167, 1.0476558982326551, 1.030451818929505, 1.1946409967227305, 0.9105564002438917, 0.8041151168321414]\n"
     ]
    },
    {
     "name": "stderr",
     "output_type": "stream",
     "text": [
      "/var/folders/1q/w3g5nkks29g3kjdwmq1lssj00000gn/T/ipykernel_1714/1334583777.py:25: DeprecationWarning: Sampling from a set deprecated\n",
      "since Python 3.9 and will be removed in a subsequent version.\n",
      "  for symbol in random.sample(allList,1000):\n"
     ]
    },
    {
     "name": "stdout",
     "output_type": "stream",
     "text": [
      "0.0\n",
      "100\n",
      "[0.14925289890114568, 1.2762794259114334, 0.24390417964255115, 0.9139753337705155, 1.184020651921091, 1.0433899198629057, 0.8149917019495878, 1.0670408074243563]\n"
     ]
    },
    {
     "name": "stderr",
     "output_type": "stream",
     "text": [
      "/var/folders/1q/w3g5nkks29g3kjdwmq1lssj00000gn/T/ipykernel_1714/1334583777.py:25: DeprecationWarning: Sampling from a set deprecated\n",
      "since Python 3.9 and will be removed in a subsequent version.\n",
      "  for symbol in random.sample(allList,1000):\n"
     ]
    },
    {
     "name": "stdout",
     "output_type": "stream",
     "text": [
      "4.2508858965272855\n",
      "2946.6997407060758\n",
      "[0.6894680741034321, 0.7457420341353549, 0.09210278031310734, 1.0124796113388788, 1.23156068499554, 1.2428377414869245, 0.8730053902708556, 0.8359608374669268]\n"
     ]
    },
    {
     "name": "stderr",
     "output_type": "stream",
     "text": [
      "/var/folders/1q/w3g5nkks29g3kjdwmq1lssj00000gn/T/ipykernel_1714/1334583777.py:25: DeprecationWarning: Sampling from a set deprecated\n",
      "since Python 3.9 and will be removed in a subsequent version.\n",
      "  for symbol in random.sample(allList,1000):\n"
     ]
    },
    {
     "name": "stdout",
     "output_type": "stream",
     "text": [
      "10.51665485471297\n",
      "3762.3488593799257\n",
      "[0.1862646157560207, 1.351870052790408, 0.06074539789994585, 0.9285985400491865, 1.085080173873052, 1.065295618215492, 0.9678946528342465, 0.8965579428455653]\n"
     ]
    },
    {
     "name": "stderr",
     "output_type": "stream",
     "text": [
      "/var/folders/1q/w3g5nkks29g3kjdwmq1lssj00000gn/T/ipykernel_1714/1334583777.py:25: DeprecationWarning: Sampling from a set deprecated\n",
      "since Python 3.9 and will be removed in a subsequent version.\n",
      "  for symbol in random.sample(allList,1000):\n"
     ]
    },
    {
     "name": "stdout",
     "output_type": "stream",
     "text": [
      "37.49822820694543\n",
      "3262.01602893669\n",
      "[0.15758780498464497, 1.0417905070192937, -0.0042204617393672705, 1.059879404587348, 1.0468068629952254, 1.0285773942610477, 0.8044174548249305, 1.0046224880995411]\n"
     ]
    },
    {
     "name": "stderr",
     "output_type": "stream",
     "text": [
      "/var/folders/1q/w3g5nkks29g3kjdwmq1lssj00000gn/T/ipykernel_1714/1334583777.py:25: DeprecationWarning: Sampling from a set deprecated\n",
      "since Python 3.9 and will be removed in a subsequent version.\n",
      "  for symbol in random.sample(allList,1000):\n"
     ]
    },
    {
     "name": "stdout",
     "output_type": "stream",
     "text": [
      "0.0063784549964564135\n",
      "53.6538524514832\n",
      "[0.18662565829377253, 0.7302747682896268, -0.03550034537975147, 1.0616792515965934, 1.165593267995456, 1.1845931935347511, 0.9304302626811134, 1.096213276653487]\n"
     ]
    },
    {
     "name": "stderr",
     "output_type": "stream",
     "text": [
      "/var/folders/1q/w3g5nkks29g3kjdwmq1lssj00000gn/T/ipykernel_1714/1334583777.py:25: DeprecationWarning: Sampling from a set deprecated\n",
      "since Python 3.9 and will be removed in a subsequent version.\n",
      "  for symbol in random.sample(allList,1000):\n"
     ]
    },
    {
     "name": "stdout",
     "output_type": "stream",
     "text": [
      "0.05244507441530829\n",
      "37.611533859252944\n",
      "[0.7241315835512188, 0.2862317942505248, 0.16236373934761353, 1.0135333029947715, 1.1962165097072721, 1.0254859196700823, 0.8295019834888218, 0.960158077253515]\n"
     ]
    },
    {
     "name": "stderr",
     "output_type": "stream",
     "text": [
      "/var/folders/1q/w3g5nkks29g3kjdwmq1lssj00000gn/T/ipykernel_1714/1334583777.py:25: DeprecationWarning: Sampling from a set deprecated\n",
      "since Python 3.9 and will be removed in a subsequent version.\n",
      "  for symbol in random.sample(allList,1000):\n"
     ]
    },
    {
     "name": "stdout",
     "output_type": "stream",
     "text": [
      "13.458540042523033\n",
      "4906.1283039296995\n",
      "[0.7596206053144465, 1.0889200932482772, 0.005911749853683507, 0.9353160972527524, 1.2211073729015507, 1.138973767623094, 0.9474193850060213, 1.105605656480774]\n"
     ]
    },
    {
     "name": "stderr",
     "output_type": "stream",
     "text": [
      "/var/folders/1q/w3g5nkks29g3kjdwmq1lssj00000gn/T/ipykernel_1714/1334583777.py:25: DeprecationWarning: Sampling from a set deprecated\n",
      "since Python 3.9 and will be removed in a subsequent version.\n",
      "  for symbol in random.sample(allList,1000):\n"
     ]
    },
    {
     "name": "stdout",
     "output_type": "stream",
     "text": [
      "7.29553508150248\n",
      "13967.432190134617\n",
      "[0.6921373567808887, 2.0826848206236983, 0.07107407215670172, 1.0283690611750809, 1.3401651270596737, 1.2488056428728544, 0.989768767673736, 0.8152396131465693]\n"
     ]
    },
    {
     "name": "stderr",
     "output_type": "stream",
     "text": [
      "/var/folders/1q/w3g5nkks29g3kjdwmq1lssj00000gn/T/ipykernel_1714/1334583777.py:25: DeprecationWarning: Sampling from a set deprecated\n",
      "since Python 3.9 and will be removed in a subsequent version.\n",
      "  for symbol in random.sample(allList,1000):\n"
     ]
    },
    {
     "name": "stdout",
     "output_type": "stream",
     "text": [
      "2.622962437987243\n",
      "150154.06141599314\n",
      "[0.9949995306034947, 0.9170170127577115, -0.02677813742120075, 0.973298501222406, 1.1900335620656197, 1.265819936610339, 0.8177973437290711, 0.9235881692312103]\n"
     ]
    },
    {
     "name": "stderr",
     "output_type": "stream",
     "text": [
      "/var/folders/1q/w3g5nkks29g3kjdwmq1lssj00000gn/T/ipykernel_1714/1334583777.py:25: DeprecationWarning: Sampling from a set deprecated\n",
      "since Python 3.9 and will be removed in a subsequent version.\n",
      "  for symbol in random.sample(allList,1000):\n"
     ]
    },
    {
     "name": "stdout",
     "output_type": "stream",
     "text": [
      "10.977321048901489\n",
      "1650.749250554514\n",
      "[0.7325284142043015, 2.04503610655532, 0.056406236500848, 0.9092526925908779, 1.0342169152242136, 1.2634749614478082, 0.8358599216731235, 1.0795517424601826]\n"
     ]
    },
    {
     "name": "stderr",
     "output_type": "stream",
     "text": [
      "/var/folders/1q/w3g5nkks29g3kjdwmq1lssj00000gn/T/ipykernel_1714/1334583777.py:25: DeprecationWarning: Sampling from a set deprecated\n",
      "since Python 3.9 and will be removed in a subsequent version.\n",
      "  for symbol in random.sample(allList,1000):\n"
     ]
    },
    {
     "name": "stdout",
     "output_type": "stream",
     "text": [
      "10.902197023387668\n",
      "2113.2572672767947\n",
      "[0.596924411179274, 1.2417343206862634, 0.23178048694559686, 0.9618197792693103, 1.168932108162263, 1.114535227738208, 0.9294210395677321, 1.1222267737358995]\n"
     ]
    },
    {
     "name": "stderr",
     "output_type": "stream",
     "text": [
      "/var/folders/1q/w3g5nkks29g3kjdwmq1lssj00000gn/T/ipykernel_1714/1334583777.py:25: DeprecationWarning: Sampling from a set deprecated\n",
      "since Python 3.9 and will be removed in a subsequent version.\n",
      "  for symbol in random.sample(allList,1000):\n"
     ]
    },
    {
     "name": "stdout",
     "output_type": "stream",
     "text": [
      "0.518781006378455\n",
      "337.7953229222953\n",
      "[0.2920326055769913, 0.14531310025753275, 0.11033251408317016, 1.0141270733370993, 1.2759157090533333, 1.1168612261776318, 0.906867543163513, 0.8225958350982487]\n"
     ]
    },
    {
     "name": "stderr",
     "output_type": "stream",
     "text": [
      "/var/folders/1q/w3g5nkks29g3kjdwmq1lssj00000gn/T/ipykernel_1714/1334583777.py:25: DeprecationWarning: Sampling from a set deprecated\n",
      "since Python 3.9 and will be removed in a subsequent version.\n",
      "  for symbol in random.sample(allList,1000):\n"
     ]
    },
    {
     "name": "stdout",
     "output_type": "stream",
     "text": [
      "22.270021261516654\n",
      "7478.7488808687285\n",
      "[0.5888627841540033, 0.46210875894302594, -0.016885309172974733, 0.9673671036103065, 1.3626504142324807, 1.2906978432338663, 0.9014483869552709, 1.167142437735321]\n"
     ]
    },
    {
     "name": "stderr",
     "output_type": "stream",
     "text": [
      "/var/folders/1q/w3g5nkks29g3kjdwmq1lssj00000gn/T/ipykernel_1714/1334583777.py:25: DeprecationWarning: Sampling from a set deprecated\n",
      "since Python 3.9 and will be removed in a subsequent version.\n",
      "  for symbol in random.sample(allList,1000):\n"
     ]
    },
    {
     "name": "stdout",
     "output_type": "stream",
     "text": [
      "0.5421686746987951\n",
      "237.3673188294287\n",
      "[0.6069741083601597, 0.2534188578131038, 0.3633529248247165, 1.0167914687793103, 1.390580018689095, 1.1513774236081706, 0.9391140450584509, 0.9299334787398728]\n"
     ]
    },
    {
     "name": "stderr",
     "output_type": "stream",
     "text": [
      "/var/folders/1q/w3g5nkks29g3kjdwmq1lssj00000gn/T/ipykernel_1714/1334583777.py:25: DeprecationWarning: Sampling from a set deprecated\n",
      "since Python 3.9 and will be removed in a subsequent version.\n",
      "  for symbol in random.sample(allList,1000):\n"
     ]
    },
    {
     "name": "stdout",
     "output_type": "stream",
     "text": [
      "3.4216867469879517\n",
      "1690.9357541658264\n",
      "[0.8638206629673308, 1.3544931352416016, 0.24667537709868506, 0.9776344383462765, 1.3511709107084624, 1.2208422927438796, 0.8369550438089116, 1.159677410933256]\n"
     ]
    },
    {
     "name": "stderr",
     "output_type": "stream",
     "text": [
      "/var/folders/1q/w3g5nkks29g3kjdwmq1lssj00000gn/T/ipykernel_1714/1334583777.py:25: DeprecationWarning: Sampling from a set deprecated\n",
      "since Python 3.9 and will be removed in a subsequent version.\n",
      "  for symbol in random.sample(allList,1000):\n"
     ]
    },
    {
     "name": "stdout",
     "output_type": "stream",
     "text": [
      "0.8986534372785259\n",
      "8179.478233126454\n",
      "[0.9774131933309803, 0.48236164368225154, 0.028734378449713965, 1.0096340402213393, 1.0804118890414836, 1.1460239418388576, 0.9193874527500664, 0.9761869806510293]\n"
     ]
    },
    {
     "name": "stderr",
     "output_type": "stream",
     "text": [
      "/var/folders/1q/w3g5nkks29g3kjdwmq1lssj00000gn/T/ipykernel_1714/1334583777.py:25: DeprecationWarning: Sampling from a set deprecated\n",
      "since Python 3.9 and will be removed in a subsequent version.\n",
      "  for symbol in random.sample(allList,1000):\n"
     ]
    },
    {
     "name": "stdout",
     "output_type": "stream",
     "text": [
      "31.306874557051735\n",
      "6924.468310477667\n",
      "[0.013342327503678031, 0.02689189309151352, 0.12840823070552973, 1.0847496763433109, 1.0842239682366304, 1.2812897465582254, 0.9812799224957309, 0.8956100837849549]\n"
     ]
    },
    {
     "name": "stderr",
     "output_type": "stream",
     "text": [
      "/var/folders/1q/w3g5nkks29g3kjdwmq1lssj00000gn/T/ipykernel_1714/1334583777.py:25: DeprecationWarning: Sampling from a set deprecated\n",
      "since Python 3.9 and will be removed in a subsequent version.\n",
      "  for symbol in random.sample(allList,1000):\n"
     ]
    },
    {
     "name": "stdout",
     "output_type": "stream",
     "text": [
      "0.21899362154500354\n",
      "39.434854092711625\n",
      "[0.016665322936033622, 2.2560652006075115, 0.39727106843892235, 1.099404006606419, 1.0601736637633117, 1.0134459309239487, 0.8225366733417069, 0.9613043674287801]\n"
     ]
    },
    {
     "name": "stderr",
     "output_type": "stream",
     "text": [
      "/var/folders/1q/w3g5nkks29g3kjdwmq1lssj00000gn/T/ipykernel_1714/1334583777.py:25: DeprecationWarning: Sampling from a set deprecated\n",
      "since Python 3.9 and will be removed in a subsequent version.\n",
      "  for symbol in random.sample(allList,1000):\n"
     ]
    },
    {
     "name": "stdout",
     "output_type": "stream",
     "text": [
      "0.0\n",
      "100\n",
      "[0.7125039987047354, 2.832340173493377, -0.08145219920110122, 0.9555709510751114, 1.1467991786349498, 1.2485791070769652, 0.8484523068883603, 0.9352790034081421]\n"
     ]
    },
    {
     "name": "stderr",
     "output_type": "stream",
     "text": [
      "/var/folders/1q/w3g5nkks29g3kjdwmq1lssj00000gn/T/ipykernel_1714/1334583777.py:25: DeprecationWarning: Sampling from a set deprecated\n",
      "since Python 3.9 and will be removed in a subsequent version.\n",
      "  for symbol in random.sample(allList,1000):\n"
     ]
    },
    {
     "name": "stdout",
     "output_type": "stream",
     "text": [
      "11.41318214032601\n",
      "5886.3626094336\n",
      "[0.23850622031261004, 0.01072357516936584, 0.33348743826493044, 1.0634662052632184, 1.2271958666887166, 1.063183616837416, 0.9636264112849572, 0.8808897629111243]\n"
     ]
    },
    {
     "name": "stderr",
     "output_type": "stream",
     "text": [
      "/var/folders/1q/w3g5nkks29g3kjdwmq1lssj00000gn/T/ipykernel_1714/1334583777.py:25: DeprecationWarning: Sampling from a set deprecated\n",
      "since Python 3.9 and will be removed in a subsequent version.\n",
      "  for symbol in random.sample(allList,1000):\n"
     ]
    },
    {
     "name": "stdout",
     "output_type": "stream",
     "text": [
      "0.0\n",
      "100\n",
      "[0.18476522502294124, 1.8528844179161046, 0.19399433140752778, 0.999922613772479, 1.3002716889757209, 1.2124688493988278, 0.8705539870313899, 0.9977780823432326]\n"
     ]
    },
    {
     "name": "stderr",
     "output_type": "stream",
     "text": [
      "/var/folders/1q/w3g5nkks29g3kjdwmq1lssj00000gn/T/ipykernel_1714/1334583777.py:25: DeprecationWarning: Sampling from a set deprecated\n",
      "since Python 3.9 and will be removed in a subsequent version.\n",
      "  for symbol in random.sample(allList,1000):\n"
     ]
    },
    {
     "name": "stdout",
     "output_type": "stream",
     "text": [
      "3.9135364989369243\n",
      "3302.5813895126457\n",
      "[0.13360435394592862, 0.31449654362524493, 0.176372672480566, 1.0583826574358697, 1.3210885552813925, 1.1121406054727412, 0.8589547992145566, 1.0111377315593346]\n"
     ]
    },
    {
     "name": "stderr",
     "output_type": "stream",
     "text": [
      "/var/folders/1q/w3g5nkks29g3kjdwmq1lssj00000gn/T/ipykernel_1714/1334583777.py:25: DeprecationWarning: Sampling from a set deprecated\n",
      "since Python 3.9 and will be removed in a subsequent version.\n",
      "  for symbol in random.sample(allList,1000):\n"
     ]
    },
    {
     "name": "stdout",
     "output_type": "stream",
     "text": [
      "0.12473423104181432\n",
      "64.08867559132521\n",
      "[0.642589702184857, 2.093037306588957, -0.040641125815856355, 1.0733228835977715, 1.0440623240084193, 1.0970474870064773, 0.9210573102172219, 0.9854137667253366]\n"
     ]
    },
    {
     "name": "stderr",
     "output_type": "stream",
     "text": [
      "/var/folders/1q/w3g5nkks29g3kjdwmq1lssj00000gn/T/ipykernel_1714/1334583777.py:25: DeprecationWarning: Sampling from a set deprecated\n",
      "since Python 3.9 and will be removed in a subsequent version.\n",
      "  for symbol in random.sample(allList,1000):\n"
     ]
    },
    {
     "name": "stdout",
     "output_type": "stream",
     "text": [
      "0.0\n",
      "100\n",
      "[0.8763067867565986, 2.04692952532516, 0.3358905807799931, 0.9816300454232234, 1.0874829668487889, 1.285223674207561, 0.8445747870685829, 1.0355671225723904]\n"
     ]
    },
    {
     "name": "stderr",
     "output_type": "stream",
     "text": [
      "/var/folders/1q/w3g5nkks29g3kjdwmq1lssj00000gn/T/ipykernel_1714/1334583777.py:25: DeprecationWarning: Sampling from a set deprecated\n",
      "since Python 3.9 and will be removed in a subsequent version.\n",
      "  for symbol in random.sample(allList,1000):\n"
     ]
    },
    {
     "name": "stdout",
     "output_type": "stream",
     "text": [
      "2.408929836995039\n",
      "470.9471225478753\n",
      "[0.7658921782389269, 0.4173728599227814, 0.28268112541612256, 0.9594434731731563, 1.2047765551995888, 1.0968827595438337, 0.8732121570240657, 1.0949248612598663]\n"
     ]
    },
    {
     "name": "stderr",
     "output_type": "stream",
     "text": [
      "/var/folders/1q/w3g5nkks29g3kjdwmq1lssj00000gn/T/ipykernel_1714/1334583777.py:25: DeprecationWarning: Sampling from a set deprecated\n",
      "since Python 3.9 and will be removed in a subsequent version.\n",
      "  for symbol in random.sample(allList,1000):\n"
     ]
    },
    {
     "name": "stdout",
     "output_type": "stream",
     "text": [
      "4.0595322466335935\n",
      "13477.058404744497\n",
      "[0.35391256363905177, 1.6051667609220774, -0.07228663489996909, 0.9022293356368262, 1.09809977882476, 1.2348111603501486, 0.8262257820758857, 1.1249833945624381]\n"
     ]
    },
    {
     "name": "stderr",
     "output_type": "stream",
     "text": [
      "/var/folders/1q/w3g5nkks29g3kjdwmq1lssj00000gn/T/ipykernel_1714/1334583777.py:25: DeprecationWarning: Sampling from a set deprecated\n",
      "since Python 3.9 and will be removed in a subsequent version.\n",
      "  for symbol in random.sample(allList,1000):\n"
     ]
    },
    {
     "name": "stdout",
     "output_type": "stream",
     "text": [
      "4.554216867469879\n",
      "899.6821921593416\n",
      "[0.20338726441796295, 0.5615274293808145, 0.11860743771093865, 0.9249648655792488, 1.3532586966421891, 1.0869800703603003, 0.9056855333714052, 1.0120882974231538]\n"
     ]
    },
    {
     "name": "stderr",
     "output_type": "stream",
     "text": [
      "/var/folders/1q/w3g5nkks29g3kjdwmq1lssj00000gn/T/ipykernel_1714/1334583777.py:25: DeprecationWarning: Sampling from a set deprecated\n",
      "since Python 3.9 and will be removed in a subsequent version.\n",
      "  for symbol in random.sample(allList,1000):\n"
     ]
    },
    {
     "name": "stdout",
     "output_type": "stream",
     "text": [
      "4.628632175761871\n",
      "6314.037735835193\n",
      "[0.553931704800507, 2.1778765160839377, 0.18456209318553599, 1.0684784730612618, 1.1202794858501208, 1.232585411528442, 0.8858338648472955, 0.8295244260842617]\n"
     ]
    },
    {
     "name": "stderr",
     "output_type": "stream",
     "text": [
      "/var/folders/1q/w3g5nkks29g3kjdwmq1lssj00000gn/T/ipykernel_1714/1334583777.py:25: DeprecationWarning: Sampling from a set deprecated\n",
      "since Python 3.9 and will be removed in a subsequent version.\n",
      "  for symbol in random.sample(allList,1000):\n"
     ]
    },
    {
     "name": "stdout",
     "output_type": "stream",
     "text": [
      "0.111268603827073\n",
      "215.84607171437926\n",
      "[0.32106359797532547, 2.1685637940063525, 0.2338858643330289, 1.0872790676053865, 1.010042950954145, 1.103572134077739, 0.8345520984218291, 0.8184325054398013]\n"
     ]
    },
    {
     "name": "stderr",
     "output_type": "stream",
     "text": [
      "/var/folders/1q/w3g5nkks29g3kjdwmq1lssj00000gn/T/ipykernel_1714/1334583777.py:25: DeprecationWarning: Sampling from a set deprecated\n",
      "since Python 3.9 and will be removed in a subsequent version.\n",
      "  for symbol in random.sample(allList,1000):\n"
     ]
    },
    {
     "name": "stdout",
     "output_type": "stream",
     "text": [
      "0.0\n",
      "100\n",
      "[0.8491509769306752, 0.11664261201199178, 0.30364713065891524, 0.9887116406039753, 1.3261188277559965, 1.039014200394438, 0.8787565712400321, 1.0672743780389984]\n"
     ]
    },
    {
     "name": "stderr",
     "output_type": "stream",
     "text": [
      "/var/folders/1q/w3g5nkks29g3kjdwmq1lssj00000gn/T/ipykernel_1714/1334583777.py:25: DeprecationWarning: Sampling from a set deprecated\n",
      "since Python 3.9 and will be removed in a subsequent version.\n",
      "  for symbol in random.sample(allList,1000):\n"
     ]
    },
    {
     "name": "stdout",
     "output_type": "stream",
     "text": [
      "0.9844082211197732\n",
      "1455.1016331272403\n",
      "[0.21998351531544125, 1.2271793981600831, 0.1603659733413473, 0.9621452738633229, 1.3805832461007637, 1.1888623571694539, 0.8979014518813044, 0.994681985078147]\n"
     ]
    },
    {
     "name": "stderr",
     "output_type": "stream",
     "text": [
      "/var/folders/1q/w3g5nkks29g3kjdwmq1lssj00000gn/T/ipykernel_1714/1334583777.py:25: DeprecationWarning: Sampling from a set deprecated\n",
      "since Python 3.9 and will be removed in a subsequent version.\n",
      "  for symbol in random.sample(allList,1000):\n"
     ]
    },
    {
     "name": "stdout",
     "output_type": "stream",
     "text": [
      "2.118355776045358\n",
      "1967.4788564156504\n",
      "[0.49224557573563654, 0.746625780286475, 0.2957088450364931, 0.9302456798075647, 1.2598367989438566, 1.0057319083266385, 0.8136024791696406, 0.9696619863792385]\n"
     ]
    },
    {
     "name": "stderr",
     "output_type": "stream",
     "text": [
      "/var/folders/1q/w3g5nkks29g3kjdwmq1lssj00000gn/T/ipykernel_1714/1334583777.py:25: DeprecationWarning: Sampling from a set deprecated\n",
      "since Python 3.9 and will be removed in a subsequent version.\n",
      "  for symbol in random.sample(allList,1000):\n"
     ]
    },
    {
     "name": "stdout",
     "output_type": "stream",
     "text": [
      "4.043231750531538\n",
      "5990.7507775913255\n",
      "[0.14009545192557726, 2.886528095489312, 0.26718372539697033, 0.9635962905371512, 1.3638426452143948, 1.2579718116455294, 0.9202001706024405, 0.8115384346759158]\n"
     ]
    },
    {
     "name": "stderr",
     "output_type": "stream",
     "text": [
      "/var/folders/1q/w3g5nkks29g3kjdwmq1lssj00000gn/T/ipykernel_1714/1334583777.py:25: DeprecationWarning: Sampling from a set deprecated\n",
      "since Python 3.9 and will be removed in a subsequent version.\n",
      "  for symbol in random.sample(allList,1000):\n"
     ]
    },
    {
     "name": "stdout",
     "output_type": "stream",
     "text": [
      "1.5960311835577605\n",
      "186.50593488866943\n",
      "[0.39473954624204655, 0.7304744844651828, 0.15621722068429747, 0.9757613807563751, 1.3886451326265066, 1.2985851754628253, 0.9537655859813987, 0.9413429798484039]\n"
     ]
    },
    {
     "name": "stderr",
     "output_type": "stream",
     "text": [
      "/var/folders/1q/w3g5nkks29g3kjdwmq1lssj00000gn/T/ipykernel_1714/1334583777.py:25: DeprecationWarning: Sampling from a set deprecated\n",
      "since Python 3.9 and will be removed in a subsequent version.\n",
      "  for symbol in random.sample(allList,1000):\n"
     ]
    },
    {
     "name": "stdout",
     "output_type": "stream",
     "text": [
      "3.2232459248759744\n",
      "966.2559298612351\n",
      "[0.5963053467826579, 0.5434888033683253, 0.3206139168392049, 0.9600317737749918, 1.1166031490364499, 1.2275234081330062, 0.9789063217182424, 1.1662924935515897]\n"
     ]
    },
    {
     "name": "stderr",
     "output_type": "stream",
     "text": [
      "/var/folders/1q/w3g5nkks29g3kjdwmq1lssj00000gn/T/ipykernel_1714/1334583777.py:25: DeprecationWarning: Sampling from a set deprecated\n",
      "since Python 3.9 and will be removed in a subsequent version.\n",
      "  for symbol in random.sample(allList,1000):\n"
     ]
    },
    {
     "name": "stdout",
     "output_type": "stream",
     "text": [
      "1.8504606661941885\n",
      "444.2397324708944\n",
      "[0.8802680099124378, 2.9480220666504016, 0.36772642237103725, 0.9140088390303008, 1.0210786160239258, 1.2847150032643133, 0.8062120464328184, 1.0682247904998794]\n"
     ]
    },
    {
     "name": "stderr",
     "output_type": "stream",
     "text": [
      "/var/folders/1q/w3g5nkks29g3kjdwmq1lssj00000gn/T/ipykernel_1714/1334583777.py:25: DeprecationWarning: Sampling from a set deprecated\n",
      "since Python 3.9 and will be removed in a subsequent version.\n",
      "  for symbol in random.sample(allList,1000):\n"
     ]
    },
    {
     "name": "stdout",
     "output_type": "stream",
     "text": [
      "0.6895818568391212\n",
      "26.19122290449527\n",
      "[0.3725217674375493, 2.397982785167823, 0.0005576785183618316, 1.0135137047226623, 1.1393692147284409, 1.1049664332463425, 0.8215915521291731, 0.8516916203017878]\n"
     ]
    },
    {
     "name": "stderr",
     "output_type": "stream",
     "text": [
      "/var/folders/1q/w3g5nkks29g3kjdwmq1lssj00000gn/T/ipykernel_1714/1334583777.py:25: DeprecationWarning: Sampling from a set deprecated\n",
      "since Python 3.9 and will be removed in a subsequent version.\n",
      "  for symbol in random.sample(allList,1000):\n"
     ]
    },
    {
     "name": "stdout",
     "output_type": "stream",
     "text": [
      "7.03260099220411\n",
      "14199.513709543673\n",
      "[0.1103282426286567, 1.029172553606779, -0.07451610279907547, 1.0179146675512019, 1.1185642990725004, 1.2647500654947037, 0.9381166615892955, 1.0848545594735712]\n"
     ]
    },
    {
     "name": "stderr",
     "output_type": "stream",
     "text": [
      "/var/folders/1q/w3g5nkks29g3kjdwmq1lssj00000gn/T/ipykernel_1714/1334583777.py:25: DeprecationWarning: Sampling from a set deprecated\n",
      "since Python 3.9 and will be removed in a subsequent version.\n",
      "  for symbol in random.sample(allList,1000):\n"
     ]
    },
    {
     "name": "stdout",
     "output_type": "stream",
     "text": [
      "10.70942593905032\n",
      "3012.6951827380444\n",
      "[0.9143759876566282, 2.7489828736472273, -0.05614577426271708, 0.9033179595561269, 1.0210527168649004, 1.2323599022523424, 0.9658580711382813, 0.8312690328376003]\n"
     ]
    },
    {
     "name": "stderr",
     "output_type": "stream",
     "text": [
      "/var/folders/1q/w3g5nkks29g3kjdwmq1lssj00000gn/T/ipykernel_1714/1334583777.py:25: DeprecationWarning: Sampling from a set deprecated\n",
      "since Python 3.9 and will be removed in a subsequent version.\n",
      "  for symbol in random.sample(allList,1000):\n"
     ]
    },
    {
     "name": "stdout",
     "output_type": "stream",
     "text": [
      "15.519489723600284\n",
      "2431.7407363914317\n",
      "[0.9532848711206866, 1.0019327533988327, 0.37622211549558005, 0.9439703886922755, 1.2130196580486616, 1.2495080692530722, 0.8396770203602482, 1.120180013951092]\n"
     ]
    },
    {
     "name": "stderr",
     "output_type": "stream",
     "text": [
      "/var/folders/1q/w3g5nkks29g3kjdwmq1lssj00000gn/T/ipykernel_1714/1334583777.py:25: DeprecationWarning: Sampling from a set deprecated\n",
      "since Python 3.9 and will be removed in a subsequent version.\n",
      "  for symbol in random.sample(allList,1000):\n"
     ]
    },
    {
     "name": "stdout",
     "output_type": "stream",
     "text": [
      "2.440822111977321\n",
      "2722.568391976217\n",
      "[0.7354549486717634, 2.0033200612054216, 0.05368951052144624, 0.98715251693238, 1.3357215005788645, 1.1276602674243956, 0.9991732905621695, 1.0194949377660296]\n"
     ]
    },
    {
     "name": "stderr",
     "output_type": "stream",
     "text": [
      "/var/folders/1q/w3g5nkks29g3kjdwmq1lssj00000gn/T/ipykernel_1714/1334583777.py:25: DeprecationWarning: Sampling from a set deprecated\n",
      "since Python 3.9 and will be removed in a subsequent version.\n",
      "  for symbol in random.sample(allList,1000):\n"
     ]
    },
    {
     "name": "stdout",
     "output_type": "stream",
     "text": [
      "4.3933380581148125\n",
      "10752.277959834319\n",
      "[0.030669404955456003, 0.7640501701404112, 0.22884121195916937, 0.9922760333159211, 1.2153331890318801, 1.1798999153785334, 0.918397464126905, 1.1587799630060898]\n"
     ]
    },
    {
     "name": "stderr",
     "output_type": "stream",
     "text": [
      "/var/folders/1q/w3g5nkks29g3kjdwmq1lssj00000gn/T/ipykernel_1714/1334583777.py:25: DeprecationWarning: Sampling from a set deprecated\n",
      "since Python 3.9 and will be removed in a subsequent version.\n",
      "  for symbol in random.sample(allList,1000):\n"
     ]
    },
    {
     "name": "stdout",
     "output_type": "stream",
     "text": [
      "5.039688164422396\n",
      "13149.488496491791\n",
      "[0.5789216544210745, 0.6373564472640434, 0.36158954951130506, 1.0823768976357964, 1.0134621320123374, 1.1674969255158487, 0.9041884953034146, 1.1364629813294886]\n"
     ]
    },
    {
     "name": "stderr",
     "output_type": "stream",
     "text": [
      "/var/folders/1q/w3g5nkks29g3kjdwmq1lssj00000gn/T/ipykernel_1714/1334583777.py:25: DeprecationWarning: Sampling from a set deprecated\n",
      "since Python 3.9 and will be removed in a subsequent version.\n",
      "  for symbol in random.sample(allList,1000):\n"
     ]
    },
    {
     "name": "stdout",
     "output_type": "stream",
     "text": [
      "0.0\n",
      "100\n",
      "[0.9514301300135962, 0.5241886097473645, 0.3331998124184923, 1.0594076692037842, 1.0912368827558807, 1.0524846051750378, 0.8148848165568512, 0.8133370813872286]\n"
     ]
    },
    {
     "name": "stderr",
     "output_type": "stream",
     "text": [
      "/var/folders/1q/w3g5nkks29g3kjdwmq1lssj00000gn/T/ipykernel_1714/1334583777.py:25: DeprecationWarning: Sampling from a set deprecated\n",
      "since Python 3.9 and will be removed in a subsequent version.\n",
      "  for symbol in random.sample(allList,1000):\n"
     ]
    },
    {
     "name": "stdout",
     "output_type": "stream",
     "text": [
      "0.023387668320340185\n",
      "39.42338385219847\n",
      "[0.8498547476364935, 1.2165074918296113, 0.1303691730562674, 1.0739129873948323, 1.2845824359243818, 1.122609883682131, 0.8337373992413231, 1.004834534437275]\n"
     ]
    },
    {
     "name": "stderr",
     "output_type": "stream",
     "text": [
      "/var/folders/1q/w3g5nkks29g3kjdwmq1lssj00000gn/T/ipykernel_1714/1334583777.py:25: DeprecationWarning: Sampling from a set deprecated\n",
      "since Python 3.9 and will be removed in a subsequent version.\n",
      "  for symbol in random.sample(allList,1000):\n"
     ]
    },
    {
     "name": "stdout",
     "output_type": "stream",
     "text": [
      "0.01630049610205528\n",
      "35.959406164960065\n",
      "[0.4835179177430028, 2.713360626669539, -0.035038280596746546, 1.004605412042443, 1.2960246527079942, 1.0041743279935647, 0.9873903846138724, 0.8555369612808064]\n"
     ]
    },
    {
     "name": "stderr",
     "output_type": "stream",
     "text": [
      "/var/folders/1q/w3g5nkks29g3kjdwmq1lssj00000gn/T/ipykernel_1714/1334583777.py:25: DeprecationWarning: Sampling from a set deprecated\n",
      "since Python 3.9 and will be removed in a subsequent version.\n",
      "  for symbol in random.sample(allList,1000):\n"
     ]
    },
    {
     "name": "stdout",
     "output_type": "stream",
     "text": [
      "2.795889440113395\n",
      "2169.5212659118542\n",
      "[0.9181086763864299, 2.6374024817695636, 0.08080426221883505, 1.0734745618999, 1.0294458691685453, 1.2189784167293418, 0.9284538557960758, 1.1670229183387737]\n"
     ]
    },
    {
     "name": "stderr",
     "output_type": "stream",
     "text": [
      "/var/folders/1q/w3g5nkks29g3kjdwmq1lssj00000gn/T/ipykernel_1714/1334583777.py:25: DeprecationWarning: Sampling from a set deprecated\n",
      "since Python 3.9 and will be removed in a subsequent version.\n",
      "  for symbol in random.sample(allList,1000):\n"
     ]
    },
    {
     "name": "stdout",
     "output_type": "stream",
     "text": [
      "0.0\n",
      "100\n",
      "[0.22231084935417778, 2.1597990688827386, 0.17581352110931328, 0.999974923054991, 1.3672448247773332, 1.0476381464161113, 0.9889257693341419, 0.868573465856379]\n"
     ]
    },
    {
     "name": "stderr",
     "output_type": "stream",
     "text": [
      "/var/folders/1q/w3g5nkks29g3kjdwmq1lssj00000gn/T/ipykernel_1714/1334583777.py:25: DeprecationWarning: Sampling from a set deprecated\n",
      "since Python 3.9 and will be removed in a subsequent version.\n",
      "  for symbol in random.sample(allList,1000):\n"
     ]
    },
    {
     "name": "stdout",
     "output_type": "stream",
     "text": [
      "4.138199858256556\n",
      "9325.049876829218\n",
      "[0.4258665016440256, 1.0104322001777564, 0.13988786162019087, 0.9080664529504537, 1.1965759061968142, 1.087465736627429, 0.9971456095745079, 0.9260601712798512]\n"
     ]
    },
    {
     "name": "stderr",
     "output_type": "stream",
     "text": [
      "/var/folders/1q/w3g5nkks29g3kjdwmq1lssj00000gn/T/ipykernel_1714/1334583777.py:25: DeprecationWarning: Sampling from a set deprecated\n",
      "since Python 3.9 and will be removed in a subsequent version.\n",
      "  for symbol in random.sample(allList,1000):\n"
     ]
    },
    {
     "name": "stdout",
     "output_type": "stream",
     "text": [
      "11.259390503189227\n",
      "1638.557109929874\n",
      "[0.2044544260909057, 1.629551479508157, 0.3559195645864729, 0.9531265617747425, 1.3942939350684744, 1.1513812588277814, 0.8496380419843867, 1.1527718333415962]\n"
     ]
    },
    {
     "name": "stderr",
     "output_type": "stream",
     "text": [
      "/var/folders/1q/w3g5nkks29g3kjdwmq1lssj00000gn/T/ipykernel_1714/1334583777.py:25: DeprecationWarning: Sampling from a set deprecated\n",
      "since Python 3.9 and will be removed in a subsequent version.\n",
      "  for symbol in random.sample(allList,1000):\n"
     ]
    },
    {
     "name": "stdout",
     "output_type": "stream",
     "text": [
      "0.0007087172218284905\n",
      "95.19756838905775\n",
      "[0.21348215437113172, 0.051406139864018874, 0.33148905023479924, 1.0681880650433655, 1.3628679390829876, 1.0212757026387944, 0.9894506022103571, 0.8852895724672313]\n"
     ]
    },
    {
     "name": "stderr",
     "output_type": "stream",
     "text": [
      "/var/folders/1q/w3g5nkks29g3kjdwmq1lssj00000gn/T/ipykernel_1714/1334583777.py:25: DeprecationWarning: Sampling from a set deprecated\n",
      "since Python 3.9 and will be removed in a subsequent version.\n",
      "  for symbol in random.sample(allList,1000):\n"
     ]
    },
    {
     "name": "stdout",
     "output_type": "stream",
     "text": [
      "0.0\n",
      "100\n",
      "[0.7323572250504313, 2.6023229031801787, 0.19090184114138684, 0.9052363252082077, 1.2233840203261124, 1.1129658423252309, 0.899200767054056, 1.004844469531099]\n"
     ]
    },
    {
     "name": "stderr",
     "output_type": "stream",
     "text": [
      "/var/folders/1q/w3g5nkks29g3kjdwmq1lssj00000gn/T/ipykernel_1714/1334583777.py:25: DeprecationWarning: Sampling from a set deprecated\n",
      "since Python 3.9 and will be removed in a subsequent version.\n",
      "  for symbol in random.sample(allList,1000):\n"
     ]
    },
    {
     "name": "stdout",
     "output_type": "stream",
     "text": [
      "1.5152374202693126\n",
      "30426.465457831444\n",
      "[0.3042502213562641, 0.8277709686302775, 0.13903451892920463, 0.9007007414890907, 1.305844390416813, 1.015273135868042, 0.8916716404170821, 1.0479317492277431]\n"
     ]
    },
    {
     "name": "stderr",
     "output_type": "stream",
     "text": [
      "/var/folders/1q/w3g5nkks29g3kjdwmq1lssj00000gn/T/ipykernel_1714/1334583777.py:25: DeprecationWarning: Sampling from a set deprecated\n",
      "since Python 3.9 and will be removed in a subsequent version.\n",
      "  for symbol in random.sample(allList,1000):\n"
     ]
    },
    {
     "name": "stdout",
     "output_type": "stream",
     "text": [
      "4.056697377746279\n",
      "3712.3253838758374\n",
      "[0.5098445158239974, 0.27169339110309065, -0.04389004564015167, 0.9179880822849311, 1.0880528455166494, 1.0413524502768694, 0.902974264902846, 0.9733156518467113]\n"
     ]
    },
    {
     "name": "stderr",
     "output_type": "stream",
     "text": [
      "/var/folders/1q/w3g5nkks29g3kjdwmq1lssj00000gn/T/ipykernel_1714/1334583777.py:25: DeprecationWarning: Sampling from a set deprecated\n",
      "since Python 3.9 and will be removed in a subsequent version.\n",
      "  for symbol in random.sample(allList,1000):\n"
     ]
    },
    {
     "name": "stdout",
     "output_type": "stream",
     "text": [
      "42.65627214741318\n",
      "1330.2762454482227\n",
      "[0.7130515984685579, 0.33989058831519636, -0.001674861236168862, 0.9593862008962011, 1.3449301675305874, 1.1367903101121837, 0.860402479905417, 0.9848390432034821]\n"
     ]
    },
    {
     "name": "stderr",
     "output_type": "stream",
     "text": [
      "/var/folders/1q/w3g5nkks29g3kjdwmq1lssj00000gn/T/ipykernel_1714/1334583777.py:25: DeprecationWarning: Sampling from a set deprecated\n",
      "since Python 3.9 and will be removed in a subsequent version.\n",
      "  for symbol in random.sample(allList,1000):\n"
     ]
    },
    {
     "name": "stdout",
     "output_type": "stream",
     "text": [
      "4.338766832034018\n",
      "1980.4372660929648\n",
      "[0.8559056774094286, 1.7793005064925786, -0.0692593090228941, 0.9513471447440387, 1.1291143352175124, 1.0905108004546185, 0.8345080576302991, 0.8037249412883989]\n"
     ]
    },
    {
     "name": "stderr",
     "output_type": "stream",
     "text": [
      "/var/folders/1q/w3g5nkks29g3kjdwmq1lssj00000gn/T/ipykernel_1714/1334583777.py:25: DeprecationWarning: Sampling from a set deprecated\n",
      "since Python 3.9 and will be removed in a subsequent version.\n",
      "  for symbol in random.sample(allList,1000):\n"
     ]
    },
    {
     "name": "stdout",
     "output_type": "stream",
     "text": [
      "23.30900070871722\n",
      "6538.259096848233\n",
      "[0.08271491113133855, 0.081800126099276, 0.19102025747702653, 1.068347453423765, 1.39619051494628, 1.0186791220623674, 0.8590487852179944, 0.9854338330241172]\n"
     ]
    },
    {
     "name": "stderr",
     "output_type": "stream",
     "text": [
      "/var/folders/1q/w3g5nkks29g3kjdwmq1lssj00000gn/T/ipykernel_1714/1334583777.py:25: DeprecationWarning: Sampling from a set deprecated\n",
      "since Python 3.9 and will be removed in a subsequent version.\n",
      "  for symbol in random.sample(allList,1000):\n"
     ]
    },
    {
     "name": "stdout",
     "output_type": "stream",
     "text": [
      "0.026931254429482635\n",
      "75.42375149791543\n",
      "[0.8893850522395609, 1.455540548287419, -0.04192547280480227, 1.0094076301140753, 1.1613001936626461, 1.0599547765532982, 0.9686063079010584, 0.844627988628671]\n"
     ]
    },
    {
     "name": "stderr",
     "output_type": "stream",
     "text": [
      "/var/folders/1q/w3g5nkks29g3kjdwmq1lssj00000gn/T/ipykernel_1714/1334583777.py:25: DeprecationWarning: Sampling from a set deprecated\n",
      "since Python 3.9 and will be removed in a subsequent version.\n",
      "  for symbol in random.sample(allList,1000):\n"
     ]
    },
    {
     "name": "stdout",
     "output_type": "stream",
     "text": [
      "13.555634301913537\n",
      "2231.28470090211\n",
      "[0.6554336203516619, 0.8847712766351276, 0.3248580562692025, 0.9314097137358771, 1.345809391038905, 1.0345843718643903, 0.8053235492926162, 0.9757040970443142]\n"
     ]
    },
    {
     "name": "stderr",
     "output_type": "stream",
     "text": [
      "/var/folders/1q/w3g5nkks29g3kjdwmq1lssj00000gn/T/ipykernel_1714/1334583777.py:25: DeprecationWarning: Sampling from a set deprecated\n",
      "since Python 3.9 and will be removed in a subsequent version.\n",
      "  for symbol in random.sample(allList,1000):\n"
     ]
    },
    {
     "name": "stdout",
     "output_type": "stream",
     "text": [
      "3.0942593905031894\n",
      "3551.222907177036\n",
      "[0.976043751569801, 1.6289035668992375, 0.16714688839988898, 0.9817689636588386, 1.3584057770600209, 1.1785367821373964, 0.938543418687427, 1.0826757105538363]\n"
     ]
    },
    {
     "name": "stderr",
     "output_type": "stream",
     "text": [
      "/var/folders/1q/w3g5nkks29g3kjdwmq1lssj00000gn/T/ipykernel_1714/1334583777.py:25: DeprecationWarning: Sampling from a set deprecated\n",
      "since Python 3.9 and will be removed in a subsequent version.\n",
      "  for symbol in random.sample(allList,1000):\n"
     ]
    },
    {
     "name": "stdout",
     "output_type": "stream",
     "text": [
      "0.7909284195605953\n",
      "1891.6962509243358\n",
      "[0.2787404338912619, 1.5995637321709353, 0.05832497462989386, 0.9218452487038905, 1.2508960025178224, 1.2327620965606543, 0.9711622564966184, 0.9112430730400277]\n"
     ]
    },
    {
     "name": "stderr",
     "output_type": "stream",
     "text": [
      "/var/folders/1q/w3g5nkks29g3kjdwmq1lssj00000gn/T/ipykernel_1714/1334583777.py:25: DeprecationWarning: Sampling from a set deprecated\n",
      "since Python 3.9 and will be removed in a subsequent version.\n",
      "  for symbol in random.sample(allList,1000):\n"
     ]
    },
    {
     "name": "stdout",
     "output_type": "stream",
     "text": [
      "5.577604535790219\n",
      "5382.775899211212\n",
      "[0.6977818902866489, 2.9156299104627923, 0.26945405914096854, 1.0710511828503102, 1.383483359605046, 1.2426188822013013, 0.938787177631561, 1.177783946140874]\n"
     ]
    },
    {
     "name": "stderr",
     "output_type": "stream",
     "text": [
      "/var/folders/1q/w3g5nkks29g3kjdwmq1lssj00000gn/T/ipykernel_1714/1334583777.py:25: DeprecationWarning: Sampling from a set deprecated\n",
      "since Python 3.9 and will be removed in a subsequent version.\n",
      "  for symbol in random.sample(allList,1000):\n"
     ]
    },
    {
     "name": "stdout",
     "output_type": "stream",
     "text": [
      "0.0\n",
      "100\n",
      "[0.37139084834884306, 0.9978085292259419, -0.07162017924951589, 0.9933869543567887, 1.0183062249560613, 1.1231873349938208, 0.8588376282185081, 0.8133248741954412]\n"
     ]
    },
    {
     "name": "stderr",
     "output_type": "stream",
     "text": [
      "/var/folders/1q/w3g5nkks29g3kjdwmq1lssj00000gn/T/ipykernel_1714/1334583777.py:25: DeprecationWarning: Sampling from a set deprecated\n",
      "since Python 3.9 and will be removed in a subsequent version.\n",
      "  for symbol in random.sample(allList,1000):\n"
     ]
    },
    {
     "name": "stdout",
     "output_type": "stream",
     "text": [
      "59.43231750531538\n",
      "2671.369525570711\n",
      "[0.08096999164232765, 1.1409055335571798, -0.08552453857832917, 1.0337343087516189, 1.0839460552302367, 1.0255412662521268, 0.8112147768088247, 0.9196478211411395]\n"
     ]
    },
    {
     "name": "stderr",
     "output_type": "stream",
     "text": [
      "/var/folders/1q/w3g5nkks29g3kjdwmq1lssj00000gn/T/ipykernel_1714/1334583777.py:25: DeprecationWarning: Sampling from a set deprecated\n",
      "since Python 3.9 and will be removed in a subsequent version.\n",
      "  for symbol in random.sample(allList,1000):\n"
     ]
    },
    {
     "name": "stdout",
     "output_type": "stream",
     "text": [
      "1.809355067328136\n",
      "104.31566972231701\n",
      "[0.6022135673188029, 0.6713838079998803, 0.21608010181796225, 1.0781618348773276, 1.1996341995201412, 1.2448003155989809, 0.9561508010409868, 1.0249783664347947]\n"
     ]
    },
    {
     "name": "stderr",
     "output_type": "stream",
     "text": [
      "/var/folders/1q/w3g5nkks29g3kjdwmq1lssj00000gn/T/ipykernel_1714/1334583777.py:25: DeprecationWarning: Sampling from a set deprecated\n",
      "since Python 3.9 and will be removed in a subsequent version.\n",
      "  for symbol in random.sample(allList,1000):\n"
     ]
    },
    {
     "name": "stdout",
     "output_type": "stream",
     "text": [
      "0.0\n",
      "100\n",
      "[0.10551578718468835, 2.3849484401136927, 0.1797491352931683, 1.039106687273979, 1.0554518981549008, 1.2266483075010302, 0.8039243285909449, 0.8372885803249985]\n"
     ]
    },
    {
     "name": "stderr",
     "output_type": "stream",
     "text": [
      "/var/folders/1q/w3g5nkks29g3kjdwmq1lssj00000gn/T/ipykernel_1714/1334583777.py:25: DeprecationWarning: Sampling from a set deprecated\n",
      "since Python 3.9 and will be removed in a subsequent version.\n",
      "  for symbol in random.sample(allList,1000):\n"
     ]
    },
    {
     "name": "stdout",
     "output_type": "stream",
     "text": [
      "0.5485471296952515\n",
      "614.2421150237\n",
      "[0.9738630564218735, 1.7659527678910543, -0.08171792908481143, 0.9128974151036099, 1.2116944266409386, 1.0793951380497295, 0.8313141011691634, 1.1434133740694492]\n"
     ]
    },
    {
     "name": "stderr",
     "output_type": "stream",
     "text": [
      "/var/folders/1q/w3g5nkks29g3kjdwmq1lssj00000gn/T/ipykernel_1714/1334583777.py:25: DeprecationWarning: Sampling from a set deprecated\n",
      "since Python 3.9 and will be removed in a subsequent version.\n",
      "  for symbol in random.sample(allList,1000):\n"
     ]
    },
    {
     "name": "stdout",
     "output_type": "stream",
     "text": [
      "0.7930545712260808\n",
      "340.92837090974626\n",
      "[0.01638695087522335, 2.8422142111139266, 0.1923496373527062, 0.927818220653624, 1.2645358656992447, 1.0527266484746225, 0.9401562163460552, 1.0203163406528297]\n"
     ]
    },
    {
     "name": "stderr",
     "output_type": "stream",
     "text": [
      "/var/folders/1q/w3g5nkks29g3kjdwmq1lssj00000gn/T/ipykernel_1714/1334583777.py:25: DeprecationWarning: Sampling from a set deprecated\n",
      "since Python 3.9 and will be removed in a subsequent version.\n",
      "  for symbol in random.sample(allList,1000):\n"
     ]
    },
    {
     "name": "stdout",
     "output_type": "stream",
     "text": [
      "1.6080793763288448\n",
      "3046.2627093272586\n",
      "[0.8526012760185154, 0.6881861457973197, 0.3922036960156663, 1.0274052041031494, 1.2765284577857507, 1.026485956814067, 0.841725464210255, 1.1471373936383809]\n"
     ]
    },
    {
     "name": "stderr",
     "output_type": "stream",
     "text": [
      "/var/folders/1q/w3g5nkks29g3kjdwmq1lssj00000gn/T/ipykernel_1714/1334583777.py:25: DeprecationWarning: Sampling from a set deprecated\n",
      "since Python 3.9 and will be removed in a subsequent version.\n",
      "  for symbol in random.sample(allList,1000):\n"
     ]
    },
    {
     "name": "stdout",
     "output_type": "stream",
     "text": [
      "0.9057406094968108\n",
      "1364.021412348389\n",
      "[0.6321016353957982, 0.992868330276803, 0.2449801338721537, 1.039882206923758, 1.1149196974979312, 1.0754192507520468, 0.8907249915052858, 0.8520800075607905]\n"
     ]
    },
    {
     "name": "stderr",
     "output_type": "stream",
     "text": [
      "/var/folders/1q/w3g5nkks29g3kjdwmq1lssj00000gn/T/ipykernel_1714/1334583777.py:25: DeprecationWarning: Sampling from a set deprecated\n",
      "since Python 3.9 and will be removed in a subsequent version.\n",
      "  for symbol in random.sample(allList,1000):\n"
     ]
    },
    {
     "name": "stdout",
     "output_type": "stream",
     "text": [
      "0.16513111268603828\n",
      "895.343909755164\n",
      "[0.6136821114532373, 2.543272531661966, 0.06349895472787107, 1.0506789512027954, 1.1485394317975874, 1.0791303662628025, 0.9927442501279761, 0.9495718775489828]\n"
     ]
    },
    {
     "name": "stderr",
     "output_type": "stream",
     "text": [
      "/var/folders/1q/w3g5nkks29g3kjdwmq1lssj00000gn/T/ipykernel_1714/1334583777.py:25: DeprecationWarning: Sampling from a set deprecated\n",
      "since Python 3.9 and will be removed in a subsequent version.\n",
      "  for symbol in random.sample(allList,1000):\n"
     ]
    },
    {
     "name": "stdout",
     "output_type": "stream",
     "text": [
      "0.012756909992912827\n",
      "63.43620632589526\n",
      "[0.492355193519318, 2.73142458725645, -0.07592897788974504, 0.9869833208654412, 1.1170950485503346, 1.2753990928156462, 0.8328295739744445, 0.9531740988519823]\n"
     ]
    },
    {
     "name": "stderr",
     "output_type": "stream",
     "text": [
      "/var/folders/1q/w3g5nkks29g3kjdwmq1lssj00000gn/T/ipykernel_1714/1334583777.py:25: DeprecationWarning: Sampling from a set deprecated\n",
      "since Python 3.9 and will be removed in a subsequent version.\n",
      "  for symbol in random.sample(allList,1000):\n"
     ]
    },
    {
     "name": "stdout",
     "output_type": "stream",
     "text": [
      "6.097094259390503\n",
      "978.0641674040326\n",
      "[0.11760507944783938, 1.2937014705562793, 0.14284767976848908, 1.0452472755507378, 1.2278875126046789, 1.256868001749985, 0.8545091935151998, 1.0479171650712193]\n"
     ]
    },
    {
     "name": "stderr",
     "output_type": "stream",
     "text": [
      "/var/folders/1q/w3g5nkks29g3kjdwmq1lssj00000gn/T/ipykernel_1714/1334583777.py:25: DeprecationWarning: Sampling from a set deprecated\n",
      "since Python 3.9 and will be removed in a subsequent version.\n",
      "  for symbol in random.sample(allList,1000):\n"
     ]
    },
    {
     "name": "stdout",
     "output_type": "stream",
     "text": [
      "0.03472714386959603\n",
      "58.90984456103983\n",
      "[0.5818979516887913, 2.3272607151457727, 0.3562061189535599, 1.087662713191964, 1.3079971656267466, 1.0084593171867986, 0.8382027821931446, 1.0766489887350077]\n"
     ]
    },
    {
     "name": "stderr",
     "output_type": "stream",
     "text": [
      "/var/folders/1q/w3g5nkks29g3kjdwmq1lssj00000gn/T/ipykernel_1714/1334583777.py:25: DeprecationWarning: Sampling from a set deprecated\n",
      "since Python 3.9 and will be removed in a subsequent version.\n",
      "  for symbol in random.sample(allList,1000):\n"
     ]
    },
    {
     "name": "stdout",
     "output_type": "stream",
     "text": [
      "0.0\n",
      "100\n",
      "[0.011165623180992235, 1.88733069506688, 0.32789503439739964, 1.017654732334086, 1.1730770436707476, 1.2634996722717267, 0.9219692252798004, 0.9261939649052702]\n"
     ]
    },
    {
     "name": "stderr",
     "output_type": "stream",
     "text": [
      "/var/folders/1q/w3g5nkks29g3kjdwmq1lssj00000gn/T/ipykernel_1714/1334583777.py:25: DeprecationWarning: Sampling from a set deprecated\n",
      "since Python 3.9 and will be removed in a subsequent version.\n",
      "  for symbol in random.sample(allList,1000):\n"
     ]
    },
    {
     "name": "stdout",
     "output_type": "stream",
     "text": [
      "8.441530829199149\n",
      "5235.777300645512\n",
      "[0.6246564794919859, 0.8723239142086618, 0.2920248352045741, 0.9309403812398408, 1.2127697486214288, 1.1181281043970182, 0.8630922908603016, 0.8654556046831988]\n"
     ]
    },
    {
     "name": "stderr",
     "output_type": "stream",
     "text": [
      "/var/folders/1q/w3g5nkks29g3kjdwmq1lssj00000gn/T/ipykernel_1714/1334583777.py:25: DeprecationWarning: Sampling from a set deprecated\n",
      "since Python 3.9 and will be removed in a subsequent version.\n",
      "  for symbol in random.sample(allList,1000):\n"
     ]
    },
    {
     "name": "stdout",
     "output_type": "stream",
     "text": [
      "12.892983699503898\n",
      "3376.9123410995285\n",
      "[0.2570522282449925, 2.250230350364947, 0.23469981144226695, 0.9841717537138186, 1.0786086394149166, 1.264993549379471, 0.9118724224841472, 0.8774357759860231]\n"
     ]
    },
    {
     "name": "stderr",
     "output_type": "stream",
     "text": [
      "/var/folders/1q/w3g5nkks29g3kjdwmq1lssj00000gn/T/ipykernel_1714/1334583777.py:25: DeprecationWarning: Sampling from a set deprecated\n",
      "since Python 3.9 and will be removed in a subsequent version.\n",
      "  for symbol in random.sample(allList,1000):\n"
     ]
    },
    {
     "name": "stdout",
     "output_type": "stream",
     "text": [
      "14.409638554216867\n",
      "2795.4650154660126\n",
      "[0.9808159933216127, 0.6916831558240897, 0.15941057736328665, 0.9828200553455303, 1.3464186624623822, 1.006405981557086, 0.8873826059634072, 1.0174241349282316]\n"
     ]
    },
    {
     "name": "stderr",
     "output_type": "stream",
     "text": [
      "/var/folders/1q/w3g5nkks29g3kjdwmq1lssj00000gn/T/ipykernel_1714/1334583777.py:25: DeprecationWarning: Sampling from a set deprecated\n",
      "since Python 3.9 and will be removed in a subsequent version.\n",
      "  for symbol in random.sample(allList,1000):\n"
     ]
    },
    {
     "name": "stdout",
     "output_type": "stream",
     "text": [
      "1.3890857547838413\n",
      "3418.262779074489\n",
      "[0.27096103991123477, 2.6461395437363113, 0.21005621964226737, 1.086334454357714, 1.0374197678164037, 1.159158346209851, 0.9933234154844122, 1.0366237099621558]\n"
     ]
    },
    {
     "name": "stderr",
     "output_type": "stream",
     "text": [
      "/var/folders/1q/w3g5nkks29g3kjdwmq1lssj00000gn/T/ipykernel_1714/1334583777.py:25: DeprecationWarning: Sampling from a set deprecated\n",
      "since Python 3.9 and will be removed in a subsequent version.\n",
      "  for symbol in random.sample(allList,1000):\n"
     ]
    },
    {
     "name": "stdout",
     "output_type": "stream",
     "text": [
      "0.0\n",
      "100\n",
      "[0.38509803343236626, 0.9213455932188328, -0.01614846576020665, 1.0576925951729566, 1.167500722201447, 1.2963952555024474, 0.9521066790226663, 1.124652879442328]\n"
     ]
    },
    {
     "name": "stderr",
     "output_type": "stream",
     "text": [
      "/var/folders/1q/w3g5nkks29g3kjdwmq1lssj00000gn/T/ipykernel_1714/1334583777.py:25: DeprecationWarning: Sampling from a set deprecated\n",
      "since Python 3.9 and will be removed in a subsequent version.\n",
      "  for symbol in random.sample(allList,1000):\n"
     ]
    },
    {
     "name": "stdout",
     "output_type": "stream",
     "text": [
      "0.0007087172218284905\n",
      "108.01361670806882\n",
      "[0.41523767934713185, 2.9746241384496312, -0.022836269050092867, 1.0577784664697583, 1.1597467649782196, 1.1127829691729798, 0.9468213298865783, 1.108619497593239]\n"
     ]
    },
    {
     "name": "stderr",
     "output_type": "stream",
     "text": [
      "/var/folders/1q/w3g5nkks29g3kjdwmq1lssj00000gn/T/ipykernel_1714/1334583777.py:25: DeprecationWarning: Sampling from a set deprecated\n",
      "since Python 3.9 and will be removed in a subsequent version.\n",
      "  for symbol in random.sample(allList,1000):\n"
     ]
    },
    {
     "name": "stdout",
     "output_type": "stream",
     "text": [
      "0.0\n",
      "100\n",
      "[0.7905855997201469, 2.3233133993681374, 0.021612633147826826, 1.0462510268461975, 1.1271958977464331, 1.0802815449063214, 0.8082535150270386, 1.1825492676359264]\n"
     ]
    },
    {
     "name": "stderr",
     "output_type": "stream",
     "text": [
      "/var/folders/1q/w3g5nkks29g3kjdwmq1lssj00000gn/T/ipykernel_1714/1334583777.py:25: DeprecationWarning: Sampling from a set deprecated\n",
      "since Python 3.9 and will be removed in a subsequent version.\n",
      "  for symbol in random.sample(allList,1000):\n"
     ]
    },
    {
     "name": "stdout",
     "output_type": "stream",
     "text": [
      "0.0007087172218284905\n",
      "77.18502926960751\n",
      "[0.5478582259837844, 0.43921921099584904, 0.19486378296623172, 0.9856712342039368, 1.2211202959742151, 1.0153405264417212, 0.8257248499560763, 0.8793692095792026]\n"
     ]
    },
    {
     "name": "stderr",
     "output_type": "stream",
     "text": [
      "/var/folders/1q/w3g5nkks29g3kjdwmq1lssj00000gn/T/ipykernel_1714/1334583777.py:25: DeprecationWarning: Sampling from a set deprecated\n",
      "since Python 3.9 and will be removed in a subsequent version.\n",
      "  for symbol in random.sample(allList,1000):\n"
     ]
    },
    {
     "name": "stdout",
     "output_type": "stream",
     "text": [
      "19.547838412473425\n",
      "5692.254400925671\n",
      "[0.6928143398053098, 2.38292290507896, 0.366246394645807, 0.9591014425744672, 1.22138317515312, 1.0609202691088913, 0.9810977564089906, 0.9865973257277836]\n"
     ]
    },
    {
     "name": "stderr",
     "output_type": "stream",
     "text": [
      "/var/folders/1q/w3g5nkks29g3kjdwmq1lssj00000gn/T/ipykernel_1714/1334583777.py:25: DeprecationWarning: Sampling from a set deprecated\n",
      "since Python 3.9 and will be removed in a subsequent version.\n",
      "  for symbol in random.sample(allList,1000):\n"
     ]
    },
    {
     "name": "stdout",
     "output_type": "stream",
     "text": [
      "4.493975903614458\n",
      "27071.92675883058\n",
      "[0.8105302450857889, 0.5310880781983126, 0.049910606714629296, 1.0953071411150532, 1.2830403092091276, 1.0338490959151616, 0.8981825248908265, 0.8966727199118613]\n"
     ]
    },
    {
     "name": "stderr",
     "output_type": "stream",
     "text": [
      "/var/folders/1q/w3g5nkks29g3kjdwmq1lssj00000gn/T/ipykernel_1714/1334583777.py:25: DeprecationWarning: Sampling from a set deprecated\n",
      "since Python 3.9 and will be removed in a subsequent version.\n",
      "  for symbol in random.sample(allList,1000):\n"
     ]
    },
    {
     "name": "stdout",
     "output_type": "stream",
     "text": [
      "0.0\n",
      "100\n",
      "[0.9849021826502093, 0.37977723502901484, 0.21682686440543134, 0.9615781060728631, 1.1299041966769465, 1.286050882571648, 0.8984664429863043, 1.1206820706395453]\n"
     ]
    },
    {
     "name": "stderr",
     "output_type": "stream",
     "text": [
      "/var/folders/1q/w3g5nkks29g3kjdwmq1lssj00000gn/T/ipykernel_1714/1334583777.py:25: DeprecationWarning: Sampling from a set deprecated\n",
      "since Python 3.9 and will be removed in a subsequent version.\n",
      "  for symbol in random.sample(allList,1000):\n"
     ]
    },
    {
     "name": "stdout",
     "output_type": "stream",
     "text": [
      "8.671863926293408\n",
      "5453.810800473226\n",
      "[0.21793194011543526, 0.7987750462428876, 0.14249540404486807, 1.0532185646906076, 1.0089939858241093, 1.2540407356862826, 0.8893576998834234, 0.8313963254558975]\n"
     ]
    },
    {
     "name": "stderr",
     "output_type": "stream",
     "text": [
      "/var/folders/1q/w3g5nkks29g3kjdwmq1lssj00000gn/T/ipykernel_1714/1334583777.py:25: DeprecationWarning: Sampling from a set deprecated\n",
      "since Python 3.9 and will be removed in a subsequent version.\n",
      "  for symbol in random.sample(allList,1000):\n"
     ]
    },
    {
     "name": "stdout",
     "output_type": "stream",
     "text": [
      "0.12189936215450035\n",
      "105.23670940222455\n",
      "[0.049756040658698764, 0.9476690747078834, 0.18967671587525378, 1.0713409653637944, 1.302699680960722, 1.2576455772536725, 0.9557772033070234, 1.1997677360958465]\n"
     ]
    },
    {
     "name": "stderr",
     "output_type": "stream",
     "text": [
      "/var/folders/1q/w3g5nkks29g3kjdwmq1lssj00000gn/T/ipykernel_1714/1334583777.py:25: DeprecationWarning: Sampling from a set deprecated\n",
      "since Python 3.9 and will be removed in a subsequent version.\n",
      "  for symbol in random.sample(allList,1000):\n"
     ]
    },
    {
     "name": "stdout",
     "output_type": "stream",
     "text": [
      "0.0\n",
      "100\n",
      "[0.8736178309902882, 2.2262150098174933, -0.05576479006302523, 1.0545969621418605, 1.0292304599962456, 1.2822063266067905, 0.8267958120862657, 1.1694131699105124]\n"
     ]
    },
    {
     "name": "stderr",
     "output_type": "stream",
     "text": [
      "/var/folders/1q/w3g5nkks29g3kjdwmq1lssj00000gn/T/ipykernel_1714/1334583777.py:25: DeprecationWarning: Sampling from a set deprecated\n",
      "since Python 3.9 and will be removed in a subsequent version.\n",
      "  for symbol in random.sample(allList,1000):\n"
     ]
    },
    {
     "name": "stdout",
     "output_type": "stream",
     "text": [
      "0.0\n",
      "100\n",
      "[0.7441933898565061, 2.8254259279072236, 0.0273425473306195, 0.958132803198252, 1.097376672093458, 1.0107148538631936, 0.8838757401660735, 0.8749809333138874]\n"
     ]
    },
    {
     "name": "stderr",
     "output_type": "stream",
     "text": [
      "/var/folders/1q/w3g5nkks29g3kjdwmq1lssj00000gn/T/ipykernel_1714/1334583777.py:25: DeprecationWarning: Sampling from a set deprecated\n",
      "since Python 3.9 and will be removed in a subsequent version.\n",
      "  for symbol in random.sample(allList,1000):\n"
     ]
    },
    {
     "name": "stdout",
     "output_type": "stream",
     "text": [
      "8.462792345854004\n",
      "4333.080902258075\n",
      "[0.95275181564579, 1.7819520785720266, 0.3156086752215307, 0.9511240691974354, 1.0095233794373129, 1.1909893841055814, 0.9642122600331532, 1.056905245666704]\n"
     ]
    },
    {
     "name": "stderr",
     "output_type": "stream",
     "text": [
      "/var/folders/1q/w3g5nkks29g3kjdwmq1lssj00000gn/T/ipykernel_1714/1334583777.py:25: DeprecationWarning: Sampling from a set deprecated\n",
      "since Python 3.9 and will be removed in a subsequent version.\n",
      "  for symbol in random.sample(allList,1000):\n"
     ]
    },
    {
     "name": "stdout",
     "output_type": "stream",
     "text": [
      "1.6683203401842666\n",
      "1222.3726900089944\n",
      "[0.6181163202123876, 0.14614189620853535, -0.0738543540425001, 1.0092582289316372, 1.1583534042057013, 1.0098761262386742, 0.9702317432619103, 1.116875377423115]\n"
     ]
    },
    {
     "name": "stderr",
     "output_type": "stream",
     "text": [
      "/var/folders/1q/w3g5nkks29g3kjdwmq1lssj00000gn/T/ipykernel_1714/1334583777.py:25: DeprecationWarning: Sampling from a set deprecated\n",
      "since Python 3.9 and will be removed in a subsequent version.\n",
      "  for symbol in random.sample(allList,1000):\n"
     ]
    },
    {
     "name": "stdout",
     "output_type": "stream",
     "text": [
      "8.226789510985117\n",
      "4330.019128161008\n",
      "[0.8806907011572223, 0.8211960370850856, 0.27235220730258847, 0.9729130166565058, 1.0967873904016885, 1.2717538972071931, 0.9319644935608589, 1.151070357025259]\n"
     ]
    },
    {
     "name": "stderr",
     "output_type": "stream",
     "text": [
      "/var/folders/1q/w3g5nkks29g3kjdwmq1lssj00000gn/T/ipykernel_1714/1334583777.py:25: DeprecationWarning: Sampling from a set deprecated\n",
      "since Python 3.9 and will be removed in a subsequent version.\n",
      "  for symbol in random.sample(allList,1000):\n"
     ]
    },
    {
     "name": "stdout",
     "output_type": "stream",
     "text": [
      "3.1608788093550673\n",
      "8716.755154915967\n",
      "[0.5155594307024284, 2.2861241205725724, 0.3975116372560237, 0.9338554066645885, 1.0493991349907044, 1.122855790133783, 0.8112444524456963, 1.0794541031675102]\n"
     ]
    },
    {
     "name": "stderr",
     "output_type": "stream",
     "text": [
      "/var/folders/1q/w3g5nkks29g3kjdwmq1lssj00000gn/T/ipykernel_1714/1334583777.py:25: DeprecationWarning: Sampling from a set deprecated\n",
      "since Python 3.9 and will be removed in a subsequent version.\n",
      "  for symbol in random.sample(allList,1000):\n"
     ]
    },
    {
     "name": "stdout",
     "output_type": "stream",
     "text": [
      "1.0063784549964565\n",
      "2499.0515472619722\n",
      "[0.2505485560320051, 1.5775868036355962, 0.020288079126511066, 0.9175276220998453, 1.1647987262150625, 1.040076946537607, 0.851129228771597, 1.096162626272325]\n"
     ]
    },
    {
     "name": "stderr",
     "output_type": "stream",
     "text": [
      "/var/folders/1q/w3g5nkks29g3kjdwmq1lssj00000gn/T/ipykernel_1714/1334583777.py:25: DeprecationWarning: Sampling from a set deprecated\n",
      "since Python 3.9 and will be removed in a subsequent version.\n",
      "  for symbol in random.sample(allList,1000):\n"
     ]
    },
    {
     "name": "stdout",
     "output_type": "stream",
     "text": [
      "1.1828490432317504\n",
      "820.0625562100615\n",
      "[0.44831062974738956, 0.026258263259239967, 0.1812663746469941, 1.013617706112987, 1.2976340735514724, 1.2322199306357864, 0.976593372992693, 1.0659279614252846]\n"
     ]
    },
    {
     "name": "stderr",
     "output_type": "stream",
     "text": [
      "/var/folders/1q/w3g5nkks29g3kjdwmq1lssj00000gn/T/ipykernel_1714/1334583777.py:25: DeprecationWarning: Sampling from a set deprecated\n",
      "since Python 3.9 and will be removed in a subsequent version.\n",
      "  for symbol in random.sample(allList,1000):\n"
     ]
    },
    {
     "name": "stdout",
     "output_type": "stream",
     "text": [
      "6.372785258681786\n",
      "3018.19468877255\n",
      "[0.36134027926289325, 1.607787272646692, 0.06472305766890044, 1.0627873209006005, 1.1891775443958237, 1.0009400351311701, 0.8165751219062022, 0.957285950052099]\n"
     ]
    },
    {
     "name": "stderr",
     "output_type": "stream",
     "text": [
      "/var/folders/1q/w3g5nkks29g3kjdwmq1lssj00000gn/T/ipykernel_1714/1334583777.py:25: DeprecationWarning: Sampling from a set deprecated\n",
      "since Python 3.9 and will be removed in a subsequent version.\n",
      "  for symbol in random.sample(allList,1000):\n"
     ]
    },
    {
     "name": "stdout",
     "output_type": "stream",
     "text": [
      "0.0\n",
      "100\n",
      "[0.1115025079306301, 0.8015577818500137, -0.05459807923332452, 1.0141282376559602, 1.2112112980672265, 1.2065699082356451, 0.9323309476671229, 1.1941191447433468]\n"
     ]
    },
    {
     "name": "stderr",
     "output_type": "stream",
     "text": [
      "/var/folders/1q/w3g5nkks29g3kjdwmq1lssj00000gn/T/ipykernel_1714/1334583777.py:25: DeprecationWarning: Sampling from a set deprecated\n",
      "since Python 3.9 and will be removed in a subsequent version.\n",
      "  for symbol in random.sample(allList,1000):\n"
     ]
    },
    {
     "name": "stdout",
     "output_type": "stream",
     "text": [
      "2.1601700921332387\n",
      "1143.4549885688332\n",
      "[0.22965185365878626, 0.5401170652231407, 0.12244825156140635, 0.9896739594979486, 1.0865248742755842, 1.1365218017621725, 0.9735261055442812, 1.1941552153993498]\n"
     ]
    },
    {
     "name": "stderr",
     "output_type": "stream",
     "text": [
      "/var/folders/1q/w3g5nkks29g3kjdwmq1lssj00000gn/T/ipykernel_1714/1334583777.py:25: DeprecationWarning: Sampling from a set deprecated\n",
      "since Python 3.9 and will be removed in a subsequent version.\n",
      "  for symbol in random.sample(allList,1000):\n"
     ]
    },
    {
     "name": "stdout",
     "output_type": "stream",
     "text": [
      "2.9312544294826366\n",
      "2493.9352236827654\n",
      "[0.21437877445289577, 2.9916013813628552, -0.08815945450847304, 1.0825212656944354, 1.1995701301257644, 1.0979146170796064, 0.9699933066674387, 1.019784722548092]\n"
     ]
    },
    {
     "name": "stderr",
     "output_type": "stream",
     "text": [
      "/var/folders/1q/w3g5nkks29g3kjdwmq1lssj00000gn/T/ipykernel_1714/1334583777.py:25: DeprecationWarning: Sampling from a set deprecated\n",
      "since Python 3.9 and will be removed in a subsequent version.\n",
      "  for symbol in random.sample(allList,1000):\n"
     ]
    },
    {
     "name": "stdout",
     "output_type": "stream",
     "text": [
      "0.0\n",
      "100\n",
      "[0.31260641085724483, 1.6542082055696534, 0.24226160318530174, 1.0150846050345428, 1.1007024611934044, 1.1458793664170241, 0.9451809967748548, 0.8655489524946149]\n"
     ]
    },
    {
     "name": "stderr",
     "output_type": "stream",
     "text": [
      "/var/folders/1q/w3g5nkks29g3kjdwmq1lssj00000gn/T/ipykernel_1714/1334583777.py:25: DeprecationWarning: Sampling from a set deprecated\n",
      "since Python 3.9 and will be removed in a subsequent version.\n",
      "  for symbol in random.sample(allList,1000):\n"
     ]
    },
    {
     "name": "stdout",
     "output_type": "stream",
     "text": [
      "14.907866761162296\n",
      "10811.21366496804\n",
      "[0.8343782275824687, 1.207744867456367, -0.012891559828643845, 0.9550292383212747, 1.0898097141264693, 1.0346155676256292, 0.8744267848842056, 0.901097113902916]\n"
     ]
    },
    {
     "name": "stderr",
     "output_type": "stream",
     "text": [
      "/var/folders/1q/w3g5nkks29g3kjdwmq1lssj00000gn/T/ipykernel_1714/1334583777.py:25: DeprecationWarning: Sampling from a set deprecated\n",
      "since Python 3.9 and will be removed in a subsequent version.\n",
      "  for symbol in random.sample(allList,1000):\n"
     ]
    },
    {
     "name": "stdout",
     "output_type": "stream",
     "text": [
      "23.533664068036853\n",
      "1365.015155371754\n",
      "[0.10536275944123263, 0.40188171120025906, 0.2929458106456767, 0.9135639992409708, 1.2427127373572349, 1.1833783654428893, 0.8757314851161818, 1.1565481942008005]\n"
     ]
    },
    {
     "name": "stderr",
     "output_type": "stream",
     "text": [
      "/var/folders/1q/w3g5nkks29g3kjdwmq1lssj00000gn/T/ipykernel_1714/1334583777.py:25: DeprecationWarning: Sampling from a set deprecated\n",
      "since Python 3.9 and will be removed in a subsequent version.\n",
      "  for symbol in random.sample(allList,1000):\n"
     ]
    },
    {
     "name": "stdout",
     "output_type": "stream",
     "text": [
      "1.4131821403260099\n",
      "7457.343108327965\n",
      "[0.7975766034858023, 0.4326811475029242, -0.020420009374578912, 1.0853318623671626, 1.0727823357473942, 1.2533001544969362, 0.9586034690865745, 0.8216556672703208]\n"
     ]
    },
    {
     "name": "stderr",
     "output_type": "stream",
     "text": [
      "/var/folders/1q/w3g5nkks29g3kjdwmq1lssj00000gn/T/ipykernel_1714/1334583777.py:25: DeprecationWarning: Sampling from a set deprecated\n",
      "since Python 3.9 and will be removed in a subsequent version.\n",
      "  for symbol in random.sample(allList,1000):\n"
     ]
    },
    {
     "name": "stdout",
     "output_type": "stream",
     "text": [
      "0.12260807937632884\n",
      "42.510315077308114\n",
      "[0.9097769990329565, 1.260191962102191, 0.02695105590122751, 0.9506463548346211, 1.0948697568395604, 1.125642379135966, 0.8184886617479536, 1.0566823523892108]\n"
     ]
    },
    {
     "name": "stderr",
     "output_type": "stream",
     "text": [
      "/var/folders/1q/w3g5nkks29g3kjdwmq1lssj00000gn/T/ipykernel_1714/1334583777.py:25: DeprecationWarning: Sampling from a set deprecated\n",
      "since Python 3.9 and will be removed in a subsequent version.\n",
      "  for symbol in random.sample(allList,1000):\n"
     ]
    },
    {
     "name": "stdout",
     "output_type": "stream",
     "text": [
      "10.411764705882353\n",
      "4518.005955019925\n",
      "[0.8246326878872077, 1.3525885255640935, -0.04003863265181681, 1.0950789337252407, 1.0839804457895652, 1.0989117867892384, 0.8705319375992528, 0.921239285294466]\n"
     ]
    },
    {
     "name": "stderr",
     "output_type": "stream",
     "text": [
      "/var/folders/1q/w3g5nkks29g3kjdwmq1lssj00000gn/T/ipykernel_1714/1334583777.py:25: DeprecationWarning: Sampling from a set deprecated\n",
      "since Python 3.9 and will be removed in a subsequent version.\n",
      "  for symbol in random.sample(allList,1000):\n"
     ]
    },
    {
     "name": "stdout",
     "output_type": "stream",
     "text": [
      "0.0\n",
      "100\n",
      "[0.26319625484168785, 1.8107058549514068, 0.038040775471691685, 1.0150285090506042, 1.1295201589617578, 1.2913626900875692, 0.930428838626764, 0.9353177546269005]\n"
     ]
    },
    {
     "name": "stderr",
     "output_type": "stream",
     "text": [
      "/var/folders/1q/w3g5nkks29g3kjdwmq1lssj00000gn/T/ipykernel_1714/1334583777.py:25: DeprecationWarning: Sampling from a set deprecated\n",
      "since Python 3.9 and will be removed in a subsequent version.\n",
      "  for symbol in random.sample(allList,1000):\n"
     ]
    },
    {
     "name": "stdout",
     "output_type": "stream",
     "text": [
      "14.252303330970943\n",
      "4056.7045033275463\n",
      "[0.9068776320943751, 2.2846339518459975, 0.13607849829406485, 1.0880667032487978, 1.30674204364786, 1.2112454347949708, 0.9604794095149093, 1.1152649719576146]\n"
     ]
    },
    {
     "name": "stderr",
     "output_type": "stream",
     "text": [
      "/var/folders/1q/w3g5nkks29g3kjdwmq1lssj00000gn/T/ipykernel_1714/1334583777.py:25: DeprecationWarning: Sampling from a set deprecated\n",
      "since Python 3.9 and will be removed in a subsequent version.\n",
      "  for symbol in random.sample(allList,1000):\n"
     ]
    },
    {
     "name": "stdout",
     "output_type": "stream",
     "text": [
      "0.0\n",
      "100\n",
      "[0.2794188987823534, 1.998135118101132, 0.10777464923744298, 0.9527366454073946, 1.1643123339074235, 1.1604597348389176, 0.8012309514210266, 0.8745611813955261]\n"
     ]
    },
    {
     "name": "stderr",
     "output_type": "stream",
     "text": [
      "/var/folders/1q/w3g5nkks29g3kjdwmq1lssj00000gn/T/ipykernel_1714/1334583777.py:25: DeprecationWarning: Sampling from a set deprecated\n",
      "since Python 3.9 and will be removed in a subsequent version.\n",
      "  for symbol in random.sample(allList,1000):\n"
     ]
    },
    {
     "name": "stdout",
     "output_type": "stream",
     "text": [
      "8.43656980864635\n",
      "1187.6635362068996\n",
      "[0.6102202275583332, 1.3225163487620644, 0.2408455328521578, 0.9182880269087409, 1.0141645873975833, 1.0426193782765383, 0.9148349543928864, 0.8868701923274521]\n"
     ]
    },
    {
     "name": "stderr",
     "output_type": "stream",
     "text": [
      "/var/folders/1q/w3g5nkks29g3kjdwmq1lssj00000gn/T/ipykernel_1714/1334583777.py:25: DeprecationWarning: Sampling from a set deprecated\n",
      "since Python 3.9 and will be removed in a subsequent version.\n",
      "  for symbol in random.sample(allList,1000):\n"
     ]
    },
    {
     "name": "stdout",
     "output_type": "stream",
     "text": [
      "16.75974486180014\n",
      "4825.116149227992\n",
      "[0.01592060686580854, 2.1337448640682606, 0.3045797749381687, 1.065725138680063, 1.2542739297133954, 1.0731212702571655, 0.8565508398470001, 1.1532072126804906]\n"
     ]
    },
    {
     "name": "stderr",
     "output_type": "stream",
     "text": [
      "/var/folders/1q/w3g5nkks29g3kjdwmq1lssj00000gn/T/ipykernel_1714/1334583777.py:25: DeprecationWarning: Sampling from a set deprecated\n",
      "since Python 3.9 and will be removed in a subsequent version.\n",
      "  for symbol in random.sample(allList,1000):\n"
     ]
    },
    {
     "name": "stdout",
     "output_type": "stream",
     "text": [
      "0.0063784549964564135\n",
      "60.36585273663249\n",
      "[0.6453251783651791, 0.15657741750026022, 0.2766929435092279, 0.9686763153426223, 1.1656673114774507, 1.218793657123038, 0.9343034941509278, 1.010119036622674]\n"
     ]
    },
    {
     "name": "stderr",
     "output_type": "stream",
     "text": [
      "/var/folders/1q/w3g5nkks29g3kjdwmq1lssj00000gn/T/ipykernel_1714/1334583777.py:25: DeprecationWarning: Sampling from a set deprecated\n",
      "since Python 3.9 and will be removed in a subsequent version.\n",
      "  for symbol in random.sample(allList,1000):\n"
     ]
    },
    {
     "name": "stdout",
     "output_type": "stream",
     "text": [
      "30.859673990077958\n",
      "6464.8872904277005\n",
      "[0.9965390139755701, 1.1942035903380734, -0.06675784276067578, 0.9898613770417461, 1.2409846172354004, 1.0371548558212724, 0.8633456430141906, 0.921909677423208]\n"
     ]
    },
    {
     "name": "stderr",
     "output_type": "stream",
     "text": [
      "/var/folders/1q/w3g5nkks29g3kjdwmq1lssj00000gn/T/ipykernel_1714/1334583777.py:25: DeprecationWarning: Sampling from a set deprecated\n",
      "since Python 3.9 and will be removed in a subsequent version.\n",
      "  for symbol in random.sample(allList,1000):\n"
     ]
    },
    {
     "name": "stdout",
     "output_type": "stream",
     "text": [
      "3.4698795180722892\n",
      "12880.41328221717\n",
      "[0.34105444712191024, 2.1809442249141187, 0.00014007886573533246, 0.9762399127837514, 1.172698332852402, 1.175295035892178, 0.8311150941963907, 0.8543618486029331]\n"
     ]
    },
    {
     "name": "stderr",
     "output_type": "stream",
     "text": [
      "/var/folders/1q/w3g5nkks29g3kjdwmq1lssj00000gn/T/ipykernel_1714/1334583777.py:25: DeprecationWarning: Sampling from a set deprecated\n",
      "since Python 3.9 and will be removed in a subsequent version.\n",
      "  for symbol in random.sample(allList,1000):\n"
     ]
    },
    {
     "name": "stdout",
     "output_type": "stream",
     "text": [
      "20.243798724309002\n",
      "7165.7695889494025\n",
      "[0.9361096044961452, 2.8843283720764186, -0.08748438175726783, 1.0387161665763442, 1.3429152727520446, 1.1328375897688867, 0.9602438835738981, 0.8968475552372556]\n"
     ]
    },
    {
     "name": "stderr",
     "output_type": "stream",
     "text": [
      "/var/folders/1q/w3g5nkks29g3kjdwmq1lssj00000gn/T/ipykernel_1714/1334583777.py:25: DeprecationWarning: Sampling from a set deprecated\n",
      "since Python 3.9 and will be removed in a subsequent version.\n",
      "  for symbol in random.sample(allList,1000):\n"
     ]
    },
    {
     "name": "stdout",
     "output_type": "stream",
     "text": [
      "0.12402551381998582\n",
      "123.28706772036705\n",
      "[0.7702886796084689, 1.0530123189300102, 0.07806361478078525, 0.9417363914575708, 1.062874206737126, 1.0997622514700205, 0.8075532532529024, 1.025783819389783]\n"
     ]
    },
    {
     "name": "stderr",
     "output_type": "stream",
     "text": [
      "/var/folders/1q/w3g5nkks29g3kjdwmq1lssj00000gn/T/ipykernel_1714/1334583777.py:25: DeprecationWarning: Sampling from a set deprecated\n",
      "since Python 3.9 and will be removed in a subsequent version.\n",
      "  for symbol in random.sample(allList,1000):\n"
     ]
    },
    {
     "name": "stdout",
     "output_type": "stream",
     "text": [
      "10.978029766123317\n",
      "801.2392808961532\n",
      "[0.23119181898745245, 0.9832597525916822, 0.21572867969683981, 1.0414686002542, 1.2320548393035435, 1.2077457557520028, 0.837063577370867, 1.0586911684553189]\n"
     ]
    },
    {
     "name": "stderr",
     "output_type": "stream",
     "text": [
      "/var/folders/1q/w3g5nkks29g3kjdwmq1lssj00000gn/T/ipykernel_1714/1334583777.py:25: DeprecationWarning: Sampling from a set deprecated\n",
      "since Python 3.9 and will be removed in a subsequent version.\n",
      "  for symbol in random.sample(allList,1000):\n"
     ]
    },
    {
     "name": "stdout",
     "output_type": "stream",
     "text": [
      "0.6272147413182141\n",
      "1162.799074925541\n",
      "[0.5454221027936036, 1.4971227155236653, 0.06140837614793451, 1.0072485912823261, 1.28221541419885, 1.2673531022086757, 0.9213113175342258, 0.9255373883846103]\n"
     ]
    },
    {
     "name": "stderr",
     "output_type": "stream",
     "text": [
      "/var/folders/1q/w3g5nkks29g3kjdwmq1lssj00000gn/T/ipykernel_1714/1334583777.py:25: DeprecationWarning: Sampling from a set deprecated\n",
      "since Python 3.9 and will be removed in a subsequent version.\n",
      "  for symbol in random.sample(allList,1000):\n"
     ]
    },
    {
     "name": "stdout",
     "output_type": "stream",
     "text": [
      "9.0049610205528\n",
      "10829.337121730581\n",
      "[0.30355430854625065, 2.510883185885521, -0.010360689722640454, 0.9592590541739899, 1.2468211799437596, 1.0428799864574347, 0.8671814196365357, 1.1592777948291877]\n"
     ]
    },
    {
     "name": "stderr",
     "output_type": "stream",
     "text": [
      "/var/folders/1q/w3g5nkks29g3kjdwmq1lssj00000gn/T/ipykernel_1714/1334583777.py:25: DeprecationWarning: Sampling from a set deprecated\n",
      "since Python 3.9 and will be removed in a subsequent version.\n",
      "  for symbol in random.sample(allList,1000):\n"
     ]
    },
    {
     "name": "stdout",
     "output_type": "stream",
     "text": [
      "1.1410347271438697\n",
      "2262.3870262156097\n",
      "[0.7528593362051273, 2.5936528185984873, -0.07137672808949627, 1.0581690726661994, 1.127775476219838, 1.0888182780699076, 0.901026390328791, 1.084109313898959]\n"
     ]
    },
    {
     "name": "stderr",
     "output_type": "stream",
     "text": [
      "/var/folders/1q/w3g5nkks29g3kjdwmq1lssj00000gn/T/ipykernel_1714/1334583777.py:25: DeprecationWarning: Sampling from a set deprecated\n",
      "since Python 3.9 and will be removed in a subsequent version.\n",
      "  for symbol in random.sample(allList,1000):\n"
     ]
    },
    {
     "name": "stdout",
     "output_type": "stream",
     "text": [
      "0.0\n",
      "100\n",
      "[0.9488007815220555, 0.27846898194767633, -0.06576397121203023, 0.9849758584756587, 1.2793960119340944, 1.107667469943066, 0.9993874064772318, 1.1546034924705604]\n"
     ]
    },
    {
     "name": "stderr",
     "output_type": "stream",
     "text": [
      "/var/folders/1q/w3g5nkks29g3kjdwmq1lssj00000gn/T/ipykernel_1714/1334583777.py:25: DeprecationWarning: Sampling from a set deprecated\n",
      "since Python 3.9 and will be removed in a subsequent version.\n",
      "  for symbol in random.sample(allList,1000):\n"
     ]
    },
    {
     "name": "stdout",
     "output_type": "stream",
     "text": [
      "2.2374202693125445\n",
      "1151.003870631989\n",
      "[0.14341222208818305, 2.86220797791714, -0.06106067932398432, 1.0313337484555272, 1.109666856031323, 1.039767025157235, 0.8037258822922673, 1.1301067014774868]\n"
     ]
    },
    {
     "name": "stderr",
     "output_type": "stream",
     "text": [
      "/var/folders/1q/w3g5nkks29g3kjdwmq1lssj00000gn/T/ipykernel_1714/1334583777.py:25: DeprecationWarning: Sampling from a set deprecated\n",
      "since Python 3.9 and will be removed in a subsequent version.\n",
      "  for symbol in random.sample(allList,1000):\n"
     ]
    },
    {
     "name": "stdout",
     "output_type": "stream",
     "text": [
      "1.1360737065910702\n",
      "70689.98111916034\n",
      "[0.5155206063362988, 0.7500870091042425, -0.08264297639309834, 1.0287998869984418, 1.2985921179357969, 1.1823983762102173, 0.8607099950146868, 1.1987291716257147]\n"
     ]
    },
    {
     "name": "stderr",
     "output_type": "stream",
     "text": [
      "/var/folders/1q/w3g5nkks29g3kjdwmq1lssj00000gn/T/ipykernel_1714/1334583777.py:25: DeprecationWarning: Sampling from a set deprecated\n",
      "since Python 3.9 and will be removed in a subsequent version.\n",
      "  for symbol in random.sample(allList,1000):\n"
     ]
    },
    {
     "name": "stdout",
     "output_type": "stream",
     "text": [
      "0.5719347980155918\n",
      "274.8047944381033\n",
      "[0.07098968023899543, 2.7405176936863223, -0.0539701271972238, 0.9882608884689089, 1.0924023408756014, 1.2273352213897633, 0.8435265908554407, 0.8734722917193184]\n"
     ]
    },
    {
     "name": "stderr",
     "output_type": "stream",
     "text": [
      "/var/folders/1q/w3g5nkks29g3kjdwmq1lssj00000gn/T/ipykernel_1714/1334583777.py:25: DeprecationWarning: Sampling from a set deprecated\n",
      "since Python 3.9 and will be removed in a subsequent version.\n",
      "  for symbol in random.sample(allList,1000):\n"
     ]
    },
    {
     "name": "stdout",
     "output_type": "stream",
     "text": [
      "12.90644932671864\n",
      "3035.802065239266\n",
      "[0.21337886042306597, 1.659567596742837, 0.07172685890552946, 1.0457303064372565, 1.370578201981646, 1.0511996698475041, 0.8072900249150184, 0.9971240639069684]\n"
     ]
    },
    {
     "name": "stderr",
     "output_type": "stream",
     "text": [
      "/var/folders/1q/w3g5nkks29g3kjdwmq1lssj00000gn/T/ipykernel_1714/1334583777.py:25: DeprecationWarning: Sampling from a set deprecated\n",
      "since Python 3.9 and will be removed in a subsequent version.\n",
      "  for symbol in random.sample(allList,1000):\n"
     ]
    },
    {
     "name": "stdout",
     "output_type": "stream",
     "text": [
      "1.4252303330970943\n",
      "17472.80606819003\n",
      "[0.18170137810675158, 1.9333376918153617, 0.1938422017217973, 0.9412231029711655, 1.0253325385557444, 1.2506649767646678, 0.9623781772203562, 1.0957942452101248]\n"
     ]
    },
    {
     "name": "stderr",
     "output_type": "stream",
     "text": [
      "/var/folders/1q/w3g5nkks29g3kjdwmq1lssj00000gn/T/ipykernel_1714/1334583777.py:25: DeprecationWarning: Sampling from a set deprecated\n",
      "since Python 3.9 and will be removed in a subsequent version.\n",
      "  for symbol in random.sample(allList,1000):\n"
     ]
    },
    {
     "name": "stdout",
     "output_type": "stream",
     "text": [
      "4.238837703756201\n",
      "9758.392230862464\n",
      "[0.1054472960804097, 0.2825763751392122, -0.06334838109636001, 1.0815204694641607, 1.0634401089791634, 1.2941586086580061, 0.8581669280509674, 0.9469383439151305]\n"
     ]
    },
    {
     "name": "stderr",
     "output_type": "stream",
     "text": [
      "/var/folders/1q/w3g5nkks29g3kjdwmq1lssj00000gn/T/ipykernel_1714/1334583777.py:25: DeprecationWarning: Sampling from a set deprecated\n",
      "since Python 3.9 and will be removed in a subsequent version.\n",
      "  for symbol in random.sample(allList,1000):\n"
     ]
    },
    {
     "name": "stdout",
     "output_type": "stream",
     "text": [
      "0.07158043940467754\n",
      "85.26711750941698\n",
      "[0.8757683287651664, 1.613152712074219, 0.1565216118292956, 1.0931342853650918, 1.02098736661694, 1.0600492276386937, 0.9016045074604474, 1.078105337995822]\n"
     ]
    },
    {
     "name": "stderr",
     "output_type": "stream",
     "text": [
      "/var/folders/1q/w3g5nkks29g3kjdwmq1lssj00000gn/T/ipykernel_1714/1334583777.py:25: DeprecationWarning: Sampling from a set deprecated\n",
      "since Python 3.9 and will be removed in a subsequent version.\n",
      "  for symbol in random.sample(allList,1000):\n"
     ]
    },
    {
     "name": "stdout",
     "output_type": "stream",
     "text": [
      "0.021261516654854713\n",
      "115.99579710825219\n",
      "[0.6519220067745096, 1.479447369641341, -0.011286926515886003, 0.9313534029268171, 1.3372592700906343, 1.1629556029377137, 0.8191412946396007, 1.1304963918897162]\n"
     ]
    },
    {
     "name": "stderr",
     "output_type": "stream",
     "text": [
      "/var/folders/1q/w3g5nkks29g3kjdwmq1lssj00000gn/T/ipykernel_1714/1334583777.py:25: DeprecationWarning: Sampling from a set deprecated\n",
      "since Python 3.9 and will be removed in a subsequent version.\n",
      "  for symbol in random.sample(allList,1000):\n"
     ]
    },
    {
     "name": "stdout",
     "output_type": "stream",
     "text": [
      "0.40963855421686746\n",
      "1844.803276619845\n",
      "[0.6412822780807539, 2.5122983555284235, 0.3281718999198341, 0.9527091453597439, 1.299635868269943, 1.0002435122307662, 0.949581811868043, 0.8499860750041734]\n"
     ]
    },
    {
     "name": "stderr",
     "output_type": "stream",
     "text": [
      "/var/folders/1q/w3g5nkks29g3kjdwmq1lssj00000gn/T/ipykernel_1714/1334583777.py:25: DeprecationWarning: Sampling from a set deprecated\n",
      "since Python 3.9 and will be removed in a subsequent version.\n",
      "  for symbol in random.sample(allList,1000):\n"
     ]
    },
    {
     "name": "stdout",
     "output_type": "stream",
     "text": [
      "0.2693125442948264\n",
      "54.985953532678245\n",
      "[0.8595722482610213, 1.9841836131474353, 0.18603190666953265, 0.9688452188462057, 1.013206127737033, 1.0486929791909725, 0.9580469185594729, 1.0980150131299202]\n"
     ]
    },
    {
     "name": "stderr",
     "output_type": "stream",
     "text": [
      "/var/folders/1q/w3g5nkks29g3kjdwmq1lssj00000gn/T/ipykernel_1714/1334583777.py:25: DeprecationWarning: Sampling from a set deprecated\n",
      "since Python 3.9 and will be removed in a subsequent version.\n",
      "  for symbol in random.sample(allList,1000):\n"
     ]
    },
    {
     "name": "stdout",
     "output_type": "stream",
     "text": [
      "0.19844082211197733\n",
      "91.08944354286625\n",
      "[0.5261132697236851, 2.224896617402297, 0.26633173553769707, 0.9444136800985722, 1.0765070570857431, 1.2910230812705388, 0.9300514911006467, 1.0854598281673584]\n"
     ]
    },
    {
     "name": "stderr",
     "output_type": "stream",
     "text": [
      "/var/folders/1q/w3g5nkks29g3kjdwmq1lssj00000gn/T/ipykernel_1714/1334583777.py:25: DeprecationWarning: Sampling from a set deprecated\n",
      "since Python 3.9 and will be removed in a subsequent version.\n",
      "  for symbol in random.sample(allList,1000):\n"
     ]
    },
    {
     "name": "stdout",
     "output_type": "stream",
     "text": [
      "4.047484053862509\n",
      "4584.471298020244\n",
      "[0.2837701665153498, 0.8683622534113655, 0.28749734522180603, 0.9112770629731834, 1.2600371255979796, 1.1657168862767209, 0.9557113531367052, 0.9157837679914084]\n"
     ]
    },
    {
     "name": "stderr",
     "output_type": "stream",
     "text": [
      "/var/folders/1q/w3g5nkks29g3kjdwmq1lssj00000gn/T/ipykernel_1714/1334583777.py:25: DeprecationWarning: Sampling from a set deprecated\n",
      "since Python 3.9 and will be removed in a subsequent version.\n",
      "  for symbol in random.sample(allList,1000):\n"
     ]
    },
    {
     "name": "stdout",
     "output_type": "stream",
     "text": [
      "9.56839121190645\n",
      "8802.21227438701\n",
      "[0.19059581939211767, 0.7277913577238784, 0.05543319047222553, 0.9229869770791191, 1.0407881096719045, 1.0851230731432266, 0.9898580935273578, 1.1798711354361213]\n"
     ]
    },
    {
     "name": "stderr",
     "output_type": "stream",
     "text": [
      "/var/folders/1q/w3g5nkks29g3kjdwmq1lssj00000gn/T/ipykernel_1714/1334583777.py:25: DeprecationWarning: Sampling from a set deprecated\n",
      "since Python 3.9 and will be removed in a subsequent version.\n",
      "  for symbol in random.sample(allList,1000):\n"
     ]
    },
    {
     "name": "stdout",
     "output_type": "stream",
     "text": [
      "5.077958894401134\n",
      "2629.464762863926\n",
      "[0.9489413985928078, 2.4175614286188196, 0.29204398719945035, 0.9484471100759624, 1.18338602343089, 1.0762225511602996, 0.9370006494407834, 0.9192000951702965]\n"
     ]
    },
    {
     "name": "stderr",
     "output_type": "stream",
     "text": [
      "/var/folders/1q/w3g5nkks29g3kjdwmq1lssj00000gn/T/ipykernel_1714/1334583777.py:25: DeprecationWarning: Sampling from a set deprecated\n",
      "since Python 3.9 and will be removed in a subsequent version.\n",
      "  for symbol in random.sample(allList,1000):\n"
     ]
    },
    {
     "name": "stdout",
     "output_type": "stream",
     "text": [
      "4.467044649184976\n",
      "8012.230422158697\n",
      "[0.9099702623723658, 1.2926900161700403, 0.01653732211948558, 1.0139708349602448, 1.0555098526476852, 1.1114573330710782, 0.9714052057110087, 1.054902768049294]\n"
     ]
    },
    {
     "name": "stderr",
     "output_type": "stream",
     "text": [
      "/var/folders/1q/w3g5nkks29g3kjdwmq1lssj00000gn/T/ipykernel_1714/1334583777.py:25: DeprecationWarning: Sampling from a set deprecated\n",
      "since Python 3.9 and will be removed in a subsequent version.\n",
      "  for symbol in random.sample(allList,1000):\n"
     ]
    },
    {
     "name": "stdout",
     "output_type": "stream",
     "text": [
      "5.510276399716513\n",
      "4186.2276505919845\n",
      "[0.9734169461347878, 2.51153513455396, 0.28233839484843515, 0.9208503714563613, 1.2627818005788072, 1.2116098309341188, 0.8922461240705774, 0.8584147336664616]\n"
     ]
    },
    {
     "name": "stderr",
     "output_type": "stream",
     "text": [
      "/var/folders/1q/w3g5nkks29g3kjdwmq1lssj00000gn/T/ipykernel_1714/1334583777.py:25: DeprecationWarning: Sampling from a set deprecated\n",
      "since Python 3.9 and will be removed in a subsequent version.\n",
      "  for symbol in random.sample(allList,1000):\n"
     ]
    },
    {
     "name": "stdout",
     "output_type": "stream",
     "text": [
      "2.5513819985825656\n",
      "525.867031765667\n",
      "[0.7521977829143711, 0.36835433957937425, -0.025570853499244622, 0.9735537653808104, 1.2984590221057268, 1.154009495777648, 0.9635294908361164, 0.948214970005935]\n"
     ]
    },
    {
     "name": "stderr",
     "output_type": "stream",
     "text": [
      "/var/folders/1q/w3g5nkks29g3kjdwmq1lssj00000gn/T/ipykernel_1714/1334583777.py:25: DeprecationWarning: Sampling from a set deprecated\n",
      "since Python 3.9 and will be removed in a subsequent version.\n",
      "  for symbol in random.sample(allList,1000):\n"
     ]
    },
    {
     "name": "stdout",
     "output_type": "stream",
     "text": [
      "9.403968816442239\n",
      "7388.958670132105\n",
      "[0.6262726785652077, 1.1864587740342403, 0.33338160523057403, 1.049595870581118, 1.1569493743284571, 1.2648282006915639, 0.9176033359954706, 0.9300887474876552]\n"
     ]
    },
    {
     "name": "stderr",
     "output_type": "stream",
     "text": [
      "/var/folders/1q/w3g5nkks29g3kjdwmq1lssj00000gn/T/ipykernel_1714/1334583777.py:25: DeprecationWarning: Sampling from a set deprecated\n",
      "since Python 3.9 and will be removed in a subsequent version.\n",
      "  for symbol in random.sample(allList,1000):\n"
     ]
    },
    {
     "name": "stdout",
     "output_type": "stream",
     "text": [
      "0.0\n",
      "100\n",
      "[0.663418207031109, 2.217460555584366, 0.3121206327371894, 1.0184033534611507, 1.1049255415164174, 1.1660987667411935, 0.9020385333623014, 0.8383651656024068]\n"
     ]
    },
    {
     "name": "stderr",
     "output_type": "stream",
     "text": [
      "/var/folders/1q/w3g5nkks29g3kjdwmq1lssj00000gn/T/ipykernel_1714/1334583777.py:25: DeprecationWarning: Sampling from a set deprecated\n",
      "since Python 3.9 and will be removed in a subsequent version.\n",
      "  for symbol in random.sample(allList,1000):\n"
     ]
    },
    {
     "name": "stdout",
     "output_type": "stream",
     "text": [
      "4.882352941176471\n",
      "3665.947811416564\n",
      "[0.8440916457682706, 1.149205037436979, 0.19061821235881707, 0.9372606467626878, 1.1377074824506512, 1.129573414317455, 0.8694187086362738, 1.079773923786757]\n"
     ]
    },
    {
     "name": "stderr",
     "output_type": "stream",
     "text": [
      "/var/folders/1q/w3g5nkks29g3kjdwmq1lssj00000gn/T/ipykernel_1714/1334583777.py:25: DeprecationWarning: Sampling from a set deprecated\n",
      "since Python 3.9 and will be removed in a subsequent version.\n",
      "  for symbol in random.sample(allList,1000):\n"
     ]
    },
    {
     "name": "stdout",
     "output_type": "stream",
     "text": [
      "6.879518072289157\n",
      "4969.851374815725\n",
      "[0.3396203790498189, 0.08045580176963485, 0.2730342015931332, 0.9789654045456957, 1.3794943163687616, 1.1312166255926241, 0.9541958319073158, 0.9431662657916798]\n"
     ]
    },
    {
     "name": "stderr",
     "output_type": "stream",
     "text": [
      "/var/folders/1q/w3g5nkks29g3kjdwmq1lssj00000gn/T/ipykernel_1714/1334583777.py:25: DeprecationWarning: Sampling from a set deprecated\n",
      "since Python 3.9 and will be removed in a subsequent version.\n",
      "  for symbol in random.sample(allList,1000):\n"
     ]
    },
    {
     "name": "stdout",
     "output_type": "stream",
     "text": [
      "7.508150248051027\n",
      "13127.174008037318\n",
      "[0.8441568584981508, 1.2973502728721675, 0.3826611122193184, 0.9490822263899167, 1.1097694433138967, 1.258396398393616, 0.9030527657004654, 1.1012322661116851]\n"
     ]
    },
    {
     "name": "stderr",
     "output_type": "stream",
     "text": [
      "/var/folders/1q/w3g5nkks29g3kjdwmq1lssj00000gn/T/ipykernel_1714/1334583777.py:25: DeprecationWarning: Sampling from a set deprecated\n",
      "since Python 3.9 and will be removed in a subsequent version.\n",
      "  for symbol in random.sample(allList,1000):\n"
     ]
    },
    {
     "name": "stdout",
     "output_type": "stream",
     "text": [
      "2.885896527285613\n",
      "581.8809153880069\n",
      "[0.3115718948222236, 0.42698289938645206, 0.12746673579911846, 0.9993866131127632, 1.301463773374632, 1.1388641710272072, 0.8576673675089307, 0.8203817923435321]\n"
     ]
    },
    {
     "name": "stderr",
     "output_type": "stream",
     "text": [
      "/var/folders/1q/w3g5nkks29g3kjdwmq1lssj00000gn/T/ipykernel_1714/1334583777.py:25: DeprecationWarning: Sampling from a set deprecated\n",
      "since Python 3.9 and will be removed in a subsequent version.\n",
      "  for symbol in random.sample(allList,1000):\n"
     ]
    },
    {
     "name": "stdout",
     "output_type": "stream",
     "text": [
      "12.143869596031184\n",
      "3983.6771001188204\n",
      "[0.15859663818524872, 2.1031334263047987, 0.07990179482945844, 0.9337073431436775, 1.0733547984651715, 1.1788722662097861, 0.8412955547911359, 1.060755354241126]\n"
     ]
    },
    {
     "name": "stderr",
     "output_type": "stream",
     "text": [
      "/var/folders/1q/w3g5nkks29g3kjdwmq1lssj00000gn/T/ipykernel_1714/1334583777.py:25: DeprecationWarning: Sampling from a set deprecated\n",
      "since Python 3.9 and will be removed in a subsequent version.\n",
      "  for symbol in random.sample(allList,1000):\n"
     ]
    },
    {
     "name": "stdout",
     "output_type": "stream",
     "text": [
      "10.552090715804393\n",
      "3164.0547434035857\n",
      "[0.8376659383667596, 0.009225133708529065, -0.04970482980375615, 1.0555012605437186, 1.346623688435052, 1.15729048117614, 0.9464854341323155, 0.9503769984245861]\n"
     ]
    },
    {
     "name": "stderr",
     "output_type": "stream",
     "text": [
      "/var/folders/1q/w3g5nkks29g3kjdwmq1lssj00000gn/T/ipykernel_1714/1334583777.py:25: DeprecationWarning: Sampling from a set deprecated\n",
      "since Python 3.9 and will be removed in a subsequent version.\n",
      "  for symbol in random.sample(allList,1000):\n"
     ]
    },
    {
     "name": "stdout",
     "output_type": "stream",
     "text": [
      "0.03756201275690999\n",
      "41.086120066989096\n",
      "[0.990406229993321, 1.4876731254373874, 0.09442839884274154, 0.9995314648247271, 1.1863925342183235, 1.2871299369816658, 0.9147538387614892, 1.0810529087554877]\n"
     ]
    },
    {
     "name": "stderr",
     "output_type": "stream",
     "text": [
      "/var/folders/1q/w3g5nkks29g3kjdwmq1lssj00000gn/T/ipykernel_1714/1334583777.py:25: DeprecationWarning: Sampling from a set deprecated\n",
      "since Python 3.9 and will be removed in a subsequent version.\n",
      "  for symbol in random.sample(allList,1000):\n"
     ]
    },
    {
     "name": "stdout",
     "output_type": "stream",
     "text": [
      "3.9270021261516654\n",
      "8518.419206910288\n",
      "[0.0286856570250571, 0.21135423557085742, 0.3169934903775059, 1.035657387914049, 1.1633924379983993, 1.1755279289067828, 0.8252475454775567, 1.122581673703438]\n"
     ]
    },
    {
     "name": "stderr",
     "output_type": "stream",
     "text": [
      "/var/folders/1q/w3g5nkks29g3kjdwmq1lssj00000gn/T/ipykernel_1714/1334583777.py:25: DeprecationWarning: Sampling from a set deprecated\n",
      "since Python 3.9 and will be removed in a subsequent version.\n",
      "  for symbol in random.sample(allList,1000):\n"
     ]
    },
    {
     "name": "stdout",
     "output_type": "stream",
     "text": [
      "0.8447909284195606\n",
      "457.05208483255785\n",
      "[0.5170624192577685, 0.35080381538365, 0.17400142685765987, 1.021744348928886, 1.1371498375919469, 1.256234453134347, 0.887054037218253, 1.17737940086331]\n"
     ]
    },
    {
     "name": "stderr",
     "output_type": "stream",
     "text": [
      "/var/folders/1q/w3g5nkks29g3kjdwmq1lssj00000gn/T/ipykernel_1714/1334583777.py:25: DeprecationWarning: Sampling from a set deprecated\n",
      "since Python 3.9 and will be removed in a subsequent version.\n",
      "  for symbol in random.sample(allList,1000):\n"
     ]
    },
    {
     "name": "stdout",
     "output_type": "stream",
     "text": [
      "3.264351523742027\n",
      "3078.785517393626\n",
      "[0.34808267847077345, 0.9095754511281364, 0.012439532864584407, 1.0875661726295978, 1.2275746548661222, 1.0017424197441362, 0.9818717527094929, 1.140162218886367]\n"
     ]
    },
    {
     "name": "stderr",
     "output_type": "stream",
     "text": [
      "/var/folders/1q/w3g5nkks29g3kjdwmq1lssj00000gn/T/ipykernel_1714/1334583777.py:25: DeprecationWarning: Sampling from a set deprecated\n",
      "since Python 3.9 and will be removed in a subsequent version.\n",
      "  for symbol in random.sample(allList,1000):\n"
     ]
    },
    {
     "name": "stdout",
     "output_type": "stream",
     "text": [
      "0.013465627214741318\n",
      "55.32934131736526\n",
      "[0.26687068165827277, 0.4909431645931194, 0.0755709242434465, 1.01500450198649, 1.3667535511436142, 1.135349122920383, 0.8983448105275604, 1.0190695189463044]\n"
     ]
    },
    {
     "name": "stderr",
     "output_type": "stream",
     "text": [
      "/var/folders/1q/w3g5nkks29g3kjdwmq1lssj00000gn/T/ipykernel_1714/1334583777.py:25: DeprecationWarning: Sampling from a set deprecated\n",
      "since Python 3.9 and will be removed in a subsequent version.\n",
      "  for symbol in random.sample(allList,1000):\n"
     ]
    },
    {
     "name": "stdout",
     "output_type": "stream",
     "text": [
      "3.6236711552090717\n",
      "3624.7901923399495\n",
      "[0.619817894585682, 0.056905020958119334, -0.0781075808418317, 0.971090606926063, 1.0863423382125914, 1.107069662055702, 0.8960818911900271, 0.9904774576139672]\n"
     ]
    },
    {
     "name": "stderr",
     "output_type": "stream",
     "text": [
      "/var/folders/1q/w3g5nkks29g3kjdwmq1lssj00000gn/T/ipykernel_1714/1334583777.py:25: DeprecationWarning: Sampling from a set deprecated\n",
      "since Python 3.9 and will be removed in a subsequent version.\n",
      "  for symbol in random.sample(allList,1000):\n"
     ]
    },
    {
     "name": "stdout",
     "output_type": "stream",
     "text": [
      "45.23812898653437\n",
      "1151.0864720501274\n",
      "[0.4614351987538461, 0.7080703362014867, 0.22049389778167114, 1.0901599956741945, 1.3649312410357726, 1.1596261908485235, 0.9117569537431272, 1.0050117445684081]\n"
     ]
    },
    {
     "name": "stderr",
     "output_type": "stream",
     "text": [
      "/var/folders/1q/w3g5nkks29g3kjdwmq1lssj00000gn/T/ipykernel_1714/1334583777.py:25: DeprecationWarning: Sampling from a set deprecated\n",
      "since Python 3.9 and will be removed in a subsequent version.\n",
      "  for symbol in random.sample(allList,1000):\n"
     ]
    },
    {
     "name": "stdout",
     "output_type": "stream",
     "text": [
      "0.0\n",
      "100\n",
      "[0.16353944898569384, 2.930646520669809, 0.07229836420386834, 1.0646249504140906, 1.1180869909277518, 1.2356120634733392, 0.8392567695017652, 1.1778995483214771]\n"
     ]
    },
    {
     "name": "stderr",
     "output_type": "stream",
     "text": [
      "/var/folders/1q/w3g5nkks29g3kjdwmq1lssj00000gn/T/ipykernel_1714/1334583777.py:25: DeprecationWarning: Sampling from a set deprecated\n",
      "since Python 3.9 and will be removed in a subsequent version.\n",
      "  for symbol in random.sample(allList,1000):\n"
     ]
    },
    {
     "name": "stdout",
     "output_type": "stream",
     "text": [
      "0.04394046775336641\n",
      "62.545454545454525\n",
      "[0.8765487710129868, 1.3549389938613412, 0.2797598994271766, 1.0945431124392615, 1.279055756693795, 1.2217207238701213, 0.9347113429885489, 0.972355002617759]\n"
     ]
    },
    {
     "name": "stderr",
     "output_type": "stream",
     "text": [
      "/var/folders/1q/w3g5nkks29g3kjdwmq1lssj00000gn/T/ipykernel_1714/1334583777.py:25: DeprecationWarning: Sampling from a set deprecated\n",
      "since Python 3.9 and will be removed in a subsequent version.\n",
      "  for symbol in random.sample(allList,1000):\n"
     ]
    },
    {
     "name": "stdout",
     "output_type": "stream",
     "text": [
      "0.0\n",
      "100\n",
      "[0.935446064835757, 0.981989865374842, 0.37711021664895994, 0.9351828074103119, 1.3286167057891767, 1.1247546792218623, 0.9061517681714324, 0.9831735790796539]\n"
     ]
    },
    {
     "name": "stderr",
     "output_type": "stream",
     "text": [
      "/var/folders/1q/w3g5nkks29g3kjdwmq1lssj00000gn/T/ipykernel_1714/1334583777.py:25: DeprecationWarning: Sampling from a set deprecated\n",
      "since Python 3.9 and will be removed in a subsequent version.\n",
      "  for symbol in random.sample(allList,1000):\n"
     ]
    },
    {
     "name": "stdout",
     "output_type": "stream",
     "text": [
      "1.0489014883061658\n",
      "176.41471344594999\n",
      "[0.6849512931263659, 2.3136124463229066, 0.18427731172836057, 1.0200939812032874, 1.1342297771687462, 1.2856588765712702, 0.9527093383422431, 1.1128259464721046]\n"
     ]
    },
    {
     "name": "stderr",
     "output_type": "stream",
     "text": [
      "/var/folders/1q/w3g5nkks29g3kjdwmq1lssj00000gn/T/ipykernel_1714/1334583777.py:25: DeprecationWarning: Sampling from a set deprecated\n",
      "since Python 3.9 and will be removed in a subsequent version.\n",
      "  for symbol in random.sample(allList,1000):\n"
     ]
    },
    {
     "name": "stdout",
     "output_type": "stream",
     "text": [
      "3.6094968107725016\n",
      "2388.8872454835237\n",
      "[0.03176535418549453, 2.2721325569209037, 0.3005276078619349, 0.9255634376106031, 1.0770687899010682, 1.1452449236156799, 0.9529062372758488, 1.0566409484627757]\n"
     ]
    },
    {
     "name": "stderr",
     "output_type": "stream",
     "text": [
      "/var/folders/1q/w3g5nkks29g3kjdwmq1lssj00000gn/T/ipykernel_1714/1334583777.py:25: DeprecationWarning: Sampling from a set deprecated\n",
      "since Python 3.9 and will be removed in a subsequent version.\n",
      "  for symbol in random.sample(allList,1000):\n"
     ]
    },
    {
     "name": "stdout",
     "output_type": "stream",
     "text": [
      "2.6782423812898655\n",
      "1915.8273861553428\n",
      "[0.8843952985579143, 1.9957783879633961, 0.07098638173492902, 0.9224219253736915, 1.1776639545258332, 1.1690535468881658, 0.8886061699816236, 0.9936635763627895]\n"
     ]
    },
    {
     "name": "stderr",
     "output_type": "stream",
     "text": [
      "/var/folders/1q/w3g5nkks29g3kjdwmq1lssj00000gn/T/ipykernel_1714/1334583777.py:25: DeprecationWarning: Sampling from a set deprecated\n",
      "since Python 3.9 and will be removed in a subsequent version.\n",
      "  for symbol in random.sample(allList,1000):\n"
     ]
    },
    {
     "name": "stdout",
     "output_type": "stream",
     "text": [
      "5.000708717221828\n",
      "321.4328632323823\n",
      "[0.26461214459224824, 1.7910740938837864, 0.3265954320650918, 1.0449208989962568, 1.2307474766172675, 1.0656479546236262, 0.9633406620658764, 1.086885108045823]\n"
     ]
    },
    {
     "name": "stderr",
     "output_type": "stream",
     "text": [
      "/var/folders/1q/w3g5nkks29g3kjdwmq1lssj00000gn/T/ipykernel_1714/1334583777.py:25: DeprecationWarning: Sampling from a set deprecated\n",
      "since Python 3.9 and will be removed in a subsequent version.\n",
      "  for symbol in random.sample(allList,1000):\n"
     ]
    },
    {
     "name": "stdout",
     "output_type": "stream",
     "text": [
      "0.21261516654854712\n",
      "3430.5765552793787\n",
      "[0.8841405085709141, 2.4634148563519913, -0.09572800440066417, 0.9953513201867908, 1.1991741630396773, 1.2057278446832103, 0.8496757451097184, 0.9898747859973803]\n"
     ]
    },
    {
     "name": "stderr",
     "output_type": "stream",
     "text": [
      "/var/folders/1q/w3g5nkks29g3kjdwmq1lssj00000gn/T/ipykernel_1714/1334583777.py:25: DeprecationWarning: Sampling from a set deprecated\n",
      "since Python 3.9 and will be removed in a subsequent version.\n",
      "  for symbol in random.sample(allList,1000):\n"
     ]
    },
    {
     "name": "stdout",
     "output_type": "stream",
     "text": [
      "0.8816442239546421\n",
      "282.3264100642447\n",
      "[0.022357883739850704, 2.751083388325578, 0.028708376611349923, 0.9694305100153483, 1.156386427977343, 1.0443227682348717, 0.9458919930832833, 0.9615818441437763]\n"
     ]
    },
    {
     "name": "stderr",
     "output_type": "stream",
     "text": [
      "/var/folders/1q/w3g5nkks29g3kjdwmq1lssj00000gn/T/ipykernel_1714/1334583777.py:25: DeprecationWarning: Sampling from a set deprecated\n",
      "since Python 3.9 and will be removed in a subsequent version.\n",
      "  for symbol in random.sample(allList,1000):\n"
     ]
    },
    {
     "name": "stdout",
     "output_type": "stream",
     "text": [
      "7.739900779588944\n",
      "1955.4851310016168\n",
      "[0.18805882393887807, 0.3354278393014408, 0.12374667930690372, 0.9999373430018285, 1.3365043647032788, 1.2334708681574582, 0.8858995759115411, 1.1031825900800318]\n"
     ]
    },
    {
     "name": "stderr",
     "output_type": "stream",
     "text": [
      "/var/folders/1q/w3g5nkks29g3kjdwmq1lssj00000gn/T/ipykernel_1714/1334583777.py:25: DeprecationWarning: Sampling from a set deprecated\n",
      "since Python 3.9 and will be removed in a subsequent version.\n",
      "  for symbol in random.sample(allList,1000):\n"
     ]
    },
    {
     "name": "stdout",
     "output_type": "stream",
     "text": [
      "1.7058823529411764\n",
      "512.343494490605\n",
      "[0.14734308675605057, 0.2935040401414011, 0.06540614174695888, 1.0893004460152722, 1.3115539300201675, 1.0311520291901382, 0.842582379766043, 1.0493047155365005]\n"
     ]
    },
    {
     "name": "stderr",
     "output_type": "stream",
     "text": [
      "/var/folders/1q/w3g5nkks29g3kjdwmq1lssj00000gn/T/ipykernel_1714/1334583777.py:25: DeprecationWarning: Sampling from a set deprecated\n",
      "since Python 3.9 and will be removed in a subsequent version.\n",
      "  for symbol in random.sample(allList,1000):\n"
     ]
    },
    {
     "name": "stdout",
     "output_type": "stream",
     "text": [
      "0.013465627214741318\n",
      "55.32934131736526\n",
      "[0.6732509465743188, 1.4033994215434005, 0.15619235900783154, 1.0872586727585225, 1.248681663052734, 1.1873656083910311, 0.8673083954014824, 1.0570098972689246]\n"
     ]
    },
    {
     "name": "stderr",
     "output_type": "stream",
     "text": [
      "/var/folders/1q/w3g5nkks29g3kjdwmq1lssj00000gn/T/ipykernel_1714/1334583777.py:25: DeprecationWarning: Sampling from a set deprecated\n",
      "since Python 3.9 and will be removed in a subsequent version.\n",
      "  for symbol in random.sample(allList,1000):\n"
     ]
    },
    {
     "name": "stdout",
     "output_type": "stream",
     "text": [
      "0.0\n",
      "100\n",
      "[0.9707539293153401, 2.984284431149515, -0.05403935405645191, 1.0630684018113963, 1.0969403821223063, 1.1670583395680791, 0.9931056115983169, 0.9172057095267592]\n"
     ]
    },
    {
     "name": "stderr",
     "output_type": "stream",
     "text": [
      "/var/folders/1q/w3g5nkks29g3kjdwmq1lssj00000gn/T/ipykernel_1714/1334583777.py:25: DeprecationWarning: Sampling from a set deprecated\n",
      "since Python 3.9 and will be removed in a subsequent version.\n",
      "  for symbol in random.sample(allList,1000):\n"
     ]
    },
    {
     "name": "stdout",
     "output_type": "stream",
     "text": [
      "0.0\n",
      "100\n",
      "[0.19071690855226198, 1.9570300322622596, 0.051250925822259236, 0.9037767862651531, 1.281520106384162, 1.1658117772556855, 0.8192699044968593, 1.0208402058005408]\n"
     ]
    },
    {
     "name": "stderr",
     "output_type": "stream",
     "text": [
      "/var/folders/1q/w3g5nkks29g3kjdwmq1lssj00000gn/T/ipykernel_1714/1334583777.py:25: DeprecationWarning: Sampling from a set deprecated\n",
      "since Python 3.9 and will be removed in a subsequent version.\n",
      "  for symbol in random.sample(allList,1000):\n"
     ]
    },
    {
     "name": "stdout",
     "output_type": "stream",
     "text": [
      "7.744861800141743\n",
      "5119.270678396052\n",
      "[0.958645527087164, 2.359693278739127, 0.07299666371616129, 0.9430327526573865, 1.0338209471195619, 1.1497119674950214, 0.9579303422741124, 1.0774674687760581]\n"
     ]
    },
    {
     "name": "stderr",
     "output_type": "stream",
     "text": [
      "/var/folders/1q/w3g5nkks29g3kjdwmq1lssj00000gn/T/ipykernel_1714/1334583777.py:25: DeprecationWarning: Sampling from a set deprecated\n",
      "since Python 3.9 and will be removed in a subsequent version.\n",
      "  for symbol in random.sample(allList,1000):\n"
     ]
    },
    {
     "name": "stdout",
     "output_type": "stream",
     "text": [
      "1.299078667611623\n",
      "491.83507321351976\n",
      "[0.7898332772548007, 2.610996592774261, 0.09062802515743798, 1.0605117040932106, 1.3771879373480922, 1.1537223242217265, 0.8898288040289182, 1.10193422105515]\n"
     ]
    },
    {
     "name": "stderr",
     "output_type": "stream",
     "text": [
      "/var/folders/1q/w3g5nkks29g3kjdwmq1lssj00000gn/T/ipykernel_1714/1334583777.py:25: DeprecationWarning: Sampling from a set deprecated\n",
      "since Python 3.9 and will be removed in a subsequent version.\n",
      "  for symbol in random.sample(allList,1000):\n"
     ]
    },
    {
     "name": "stdout",
     "output_type": "stream",
     "text": [
      "0.0007087172218284905\n",
      "91.89045512403531\n",
      "[0.8114923927100306, 2.4645470880863165, 0.09885201759712661, 0.9329619127561439, 1.1550589638932625, 1.0329100734837944, 0.9750754165276332, 0.8263216627504125]\n"
     ]
    },
    {
     "name": "stderr",
     "output_type": "stream",
     "text": [
      "/var/folders/1q/w3g5nkks29g3kjdwmq1lssj00000gn/T/ipykernel_1714/1334583777.py:25: DeprecationWarning: Sampling from a set deprecated\n",
      "since Python 3.9 and will be removed in a subsequent version.\n",
      "  for symbol in random.sample(allList,1000):\n"
     ]
    },
    {
     "name": "stdout",
     "output_type": "stream",
     "text": [
      "12.706591070163006\n",
      "12807.27506307429\n",
      "[0.5698971735702255, 1.1283489368395863, 0.3297045520056394, 1.0312013638407622, 1.1154662309143548, 1.1177787259856995, 0.893216078690362, 1.0600092299805521]\n"
     ]
    },
    {
     "name": "stderr",
     "output_type": "stream",
     "text": [
      "/var/folders/1q/w3g5nkks29g3kjdwmq1lssj00000gn/T/ipykernel_1714/1334583777.py:25: DeprecationWarning: Sampling from a set deprecated\n",
      "since Python 3.9 and will be removed in a subsequent version.\n",
      "  for symbol in random.sample(allList,1000):\n"
     ]
    },
    {
     "name": "stdout",
     "output_type": "stream",
     "text": [
      "0.8320340184266478\n",
      "26243.308066178215\n",
      "[0.6687250081305502, 1.1668206941359696, 0.04977797449828866, 0.9590891541472002, 1.188688952363972, 1.0296377559071317, 0.8719946051719781, 0.9258367089803612]\n"
     ]
    },
    {
     "name": "stderr",
     "output_type": "stream",
     "text": [
      "/var/folders/1q/w3g5nkks29g3kjdwmq1lssj00000gn/T/ipykernel_1714/1334583777.py:25: DeprecationWarning: Sampling from a set deprecated\n",
      "since Python 3.9 and will be removed in a subsequent version.\n",
      "  for symbol in random.sample(allList,1000):\n"
     ]
    },
    {
     "name": "stdout",
     "output_type": "stream",
     "text": [
      "8.442239546420979\n",
      "3700.2137347889434\n",
      "[0.37777534743101626, 2.68797739780687, 0.34816586045166975, 1.0168865201404171, 1.225239823143324, 1.2041567050509507, 0.8143856391774693, 1.1604538401663984]\n"
     ]
    },
    {
     "name": "stderr",
     "output_type": "stream",
     "text": [
      "/var/folders/1q/w3g5nkks29g3kjdwmq1lssj00000gn/T/ipykernel_1714/1334583777.py:25: DeprecationWarning: Sampling from a set deprecated\n",
      "since Python 3.9 and will be removed in a subsequent version.\n",
      "  for symbol in random.sample(allList,1000):\n"
     ]
    },
    {
     "name": "stdout",
     "output_type": "stream",
     "text": [
      "0.3642806520198441\n",
      "1108.9906672918196\n",
      "[0.3330024128565485, 1.1381131047427255, 0.1111494960503622, 0.9821150959905367, 1.3167885514582878, 1.0512013189830631, 0.9731729323803763, 0.9610004532607035]\n"
     ]
    },
    {
     "name": "stderr",
     "output_type": "stream",
     "text": [
      "/var/folders/1q/w3g5nkks29g3kjdwmq1lssj00000gn/T/ipykernel_1714/1334583777.py:25: DeprecationWarning: Sampling from a set deprecated\n",
      "since Python 3.9 and will be removed in a subsequent version.\n",
      "  for symbol in random.sample(allList,1000):\n"
     ]
    },
    {
     "name": "stdout",
     "output_type": "stream",
     "text": [
      "0.9447200566973778\n",
      "31.74917495322248\n",
      "[0.32806337983180367, 0.2766545213635534, 0.14075597061589698, 0.9713404636495798, 1.0261854057004898, 1.2374029033694236, 0.8494697889084986, 0.8691000026382736]\n"
     ]
    },
    {
     "name": "stderr",
     "output_type": "stream",
     "text": [
      "/var/folders/1q/w3g5nkks29g3kjdwmq1lssj00000gn/T/ipykernel_1714/1334583777.py:25: DeprecationWarning: Sampling from a set deprecated\n",
      "since Python 3.9 and will be removed in a subsequent version.\n",
      "  for symbol in random.sample(allList,1000):\n"
     ]
    },
    {
     "name": "stdout",
     "output_type": "stream",
     "text": [
      "72.73281360737066\n",
      "3775.1223680889852\n",
      "[0.47388568226620886, 2.6160487866733697, 0.38339353975461965, 1.0429236704605822, 1.076333170895, 1.2726688793143082, 0.8882318516099298, 0.8419964797682062]\n"
     ]
    },
    {
     "name": "stderr",
     "output_type": "stream",
     "text": [
      "/var/folders/1q/w3g5nkks29g3kjdwmq1lssj00000gn/T/ipykernel_1714/1334583777.py:25: DeprecationWarning: Sampling from a set deprecated\n",
      "since Python 3.9 and will be removed in a subsequent version.\n",
      "  for symbol in random.sample(allList,1000):\n"
     ]
    },
    {
     "name": "stdout",
     "output_type": "stream",
     "text": [
      "0.7165131112686038\n",
      "126.95319323565353\n",
      "[0.38668831026568806, 2.1588170059215908, 0.31638614008114085, 0.9800081289562442, 1.0383853839317359, 1.0966630365556251, 0.8739566318405928, 1.197877146368448]\n"
     ]
    },
    {
     "name": "stderr",
     "output_type": "stream",
     "text": [
      "/var/folders/1q/w3g5nkks29g3kjdwmq1lssj00000gn/T/ipykernel_1714/1334583777.py:25: DeprecationWarning: Sampling from a set deprecated\n",
      "since Python 3.9 and will be removed in a subsequent version.\n",
      "  for symbol in random.sample(allList,1000):\n"
     ]
    },
    {
     "name": "stdout",
     "output_type": "stream",
     "text": [
      "0.5322466335931963\n",
      "736.0812427293021\n",
      "[0.27396168249519315, 0.24583814647721858, 0.39764050351152513, 0.9788712422203955, 1.117700860973066, 1.007361478018394, 0.8317825227996484, 1.1519558557506748]\n"
     ]
    },
    {
     "name": "stderr",
     "output_type": "stream",
     "text": [
      "/var/folders/1q/w3g5nkks29g3kjdwmq1lssj00000gn/T/ipykernel_1714/1334583777.py:25: DeprecationWarning: Sampling from a set deprecated\n",
      "since Python 3.9 and will be removed in a subsequent version.\n",
      "  for symbol in random.sample(allList,1000):\n"
     ]
    },
    {
     "name": "stdout",
     "output_type": "stream",
     "text": [
      "7.304039688164423\n",
      "16899.205593409308\n",
      "[0.459718167267947, 2.8125359029324635, 0.1962596790809629, 0.9128768264974535, 1.0849741165942812, 1.2130152476358527, 0.8315992883115346, 0.8167356053584127]\n"
     ]
    },
    {
     "name": "stderr",
     "output_type": "stream",
     "text": [
      "/var/folders/1q/w3g5nkks29g3kjdwmq1lssj00000gn/T/ipykernel_1714/1334583777.py:25: DeprecationWarning: Sampling from a set deprecated\n",
      "since Python 3.9 and will be removed in a subsequent version.\n",
      "  for symbol in random.sample(allList,1000):\n"
     ]
    },
    {
     "name": "stdout",
     "output_type": "stream",
     "text": [
      "12.418851878100638\n",
      "2464.223581240976\n",
      "[0.2938552770269951, 2.834633617918616, 0.12438297287245195, 0.9782694091349196, 1.2436005926500497, 1.2324824803986274, 0.8186585581646729, 0.9523502078045184]\n"
     ]
    },
    {
     "name": "stderr",
     "output_type": "stream",
     "text": [
      "/var/folders/1q/w3g5nkks29g3kjdwmq1lssj00000gn/T/ipykernel_1714/1334583777.py:25: DeprecationWarning: Sampling from a set deprecated\n",
      "since Python 3.9 and will be removed in a subsequent version.\n",
      "  for symbol in random.sample(allList,1000):\n"
     ]
    },
    {
     "name": "stdout",
     "output_type": "stream",
     "text": [
      "4.532246633593196\n",
      "655.8397659691078\n",
      "[0.8497543913896537, 0.7279954824111637, 0.0649448607052577, 1.0652661002744581, 1.3073532622431119, 1.1857237025790104, 0.8280163126271881, 1.1199232770911978]\n"
     ]
    },
    {
     "name": "stderr",
     "output_type": "stream",
     "text": [
      "/var/folders/1q/w3g5nkks29g3kjdwmq1lssj00000gn/T/ipykernel_1714/1334583777.py:25: DeprecationWarning: Sampling from a set deprecated\n",
      "since Python 3.9 and will be removed in a subsequent version.\n",
      "  for symbol in random.sample(allList,1000):\n"
     ]
    },
    {
     "name": "stdout",
     "output_type": "stream",
     "text": [
      "0.07158043940467754\n",
      "184.2608867048938\n",
      "[0.29740779544234963, 2.8581470617123816, 0.23415019112204175, 0.9768496370765385, 1.0890281635762715, 1.2469726867901572, 0.9923363097457227, 1.0937896636612428]\n"
     ]
    },
    {
     "name": "stderr",
     "output_type": "stream",
     "text": [
      "/var/folders/1q/w3g5nkks29g3kjdwmq1lssj00000gn/T/ipykernel_1714/1334583777.py:25: DeprecationWarning: Sampling from a set deprecated\n",
      "since Python 3.9 and will be removed in a subsequent version.\n",
      "  for symbol in random.sample(allList,1000):\n"
     ]
    },
    {
     "name": "stdout",
     "output_type": "stream",
     "text": [
      "2.785967399007796\n",
      "11325.101242147106\n",
      "[0.31130357270066145, 1.924434103404493, -0.06762017083667951, 0.9598699518625081, 1.0464443097379492, 1.1823393577233077, 0.869525786402729, 0.8988698756967963]\n"
     ]
    },
    {
     "name": "stderr",
     "output_type": "stream",
     "text": [
      "/var/folders/1q/w3g5nkks29g3kjdwmq1lssj00000gn/T/ipykernel_1714/1334583777.py:25: DeprecationWarning: Sampling from a set deprecated\n",
      "since Python 3.9 and will be removed in a subsequent version.\n",
      "  for symbol in random.sample(allList,1000):\n"
     ]
    },
    {
     "name": "stdout",
     "output_type": "stream",
     "text": [
      "39.62296243798724\n",
      "5790.437124328635\n",
      "[0.3691672125475107, 0.41435778892038133, -0.06137848474811078, 0.911437560495914, 1.1775604267484365, 1.0541504467486094, 0.8594973737700691, 0.8312016778452543]\n"
     ]
    },
    {
     "name": "stderr",
     "output_type": "stream",
     "text": [
      "/var/folders/1q/w3g5nkks29g3kjdwmq1lssj00000gn/T/ipykernel_1714/1334583777.py:25: DeprecationWarning: Sampling from a set deprecated\n",
      "since Python 3.9 and will be removed in a subsequent version.\n",
      "  for symbol in random.sample(allList,1000):\n"
     ]
    },
    {
     "name": "stdout",
     "output_type": "stream",
     "text": [
      "39.09425939050319\n",
      "4751.106530967836\n",
      "[0.9768594478194585, 1.7872825823328158, 0.35109097709858017, 1.0612268081925393, 1.0057927160742712, 1.064884734970765, 0.828738490211003, 0.9850843903330913]\n"
     ]
    },
    {
     "name": "stderr",
     "output_type": "stream",
     "text": [
      "/var/folders/1q/w3g5nkks29g3kjdwmq1lssj00000gn/T/ipykernel_1714/1334583777.py:25: DeprecationWarning: Sampling from a set deprecated\n",
      "since Python 3.9 and will be removed in a subsequent version.\n",
      "  for symbol in random.sample(allList,1000):\n"
     ]
    },
    {
     "name": "stdout",
     "output_type": "stream",
     "text": [
      "0.021261516654854713\n",
      "42.503670352745075\n",
      "[0.9581343209531797, 1.9296818272203557, 0.034183495687470616, 1.0883373127693672, 1.0116303102529736, 1.1188235065858079, 0.8510624388051876, 0.937271287251641]\n"
     ]
    },
    {
     "name": "stderr",
     "output_type": "stream",
     "text": [
      "/var/folders/1q/w3g5nkks29g3kjdwmq1lssj00000gn/T/ipykernel_1714/1334583777.py:25: DeprecationWarning: Sampling from a set deprecated\n",
      "since Python 3.9 and will be removed in a subsequent version.\n",
      "  for symbol in random.sample(allList,1000):\n"
     ]
    },
    {
     "name": "stdout",
     "output_type": "stream",
     "text": [
      "0.0\n",
      "100\n",
      "[0.5371237166137214, 2.2084261944488115, -0.08580931189879806, 1.0735393124256851, 1.3709920727777904, 1.1907610440062262, 0.9374108639317433, 0.8202024880412789]\n"
     ]
    },
    {
     "name": "stderr",
     "output_type": "stream",
     "text": [
      "/var/folders/1q/w3g5nkks29g3kjdwmq1lssj00000gn/T/ipykernel_1714/1334583777.py:25: DeprecationWarning: Sampling from a set deprecated\n",
      "since Python 3.9 and will be removed in a subsequent version.\n",
      "  for symbol in random.sample(allList,1000):\n"
     ]
    },
    {
     "name": "stdout",
     "output_type": "stream",
     "text": [
      "0.0\n",
      "100\n",
      "[0.5745960274461738, 1.7591675197664267, 0.0060362640968111, 1.0084979112779915, 1.1680018705401616, 1.0971012284316657, 0.9398110096568287, 1.0750851867238767]\n"
     ]
    },
    {
     "name": "stderr",
     "output_type": "stream",
     "text": [
      "/var/folders/1q/w3g5nkks29g3kjdwmq1lssj00000gn/T/ipykernel_1714/1334583777.py:25: DeprecationWarning: Sampling from a set deprecated\n",
      "since Python 3.9 and will be removed in a subsequent version.\n",
      "  for symbol in random.sample(allList,1000):\n"
     ]
    },
    {
     "name": "stdout",
     "output_type": "stream",
     "text": [
      "3.4975194897236004\n",
      "8650.316387804378\n",
      "[0.08499298134222777, 1.4000725798563005, 0.393767962566679, 0.9603263385524468, 1.342768475673625, 1.1662250214932186, 0.913195115509466, 1.1548725805682543]\n"
     ]
    },
    {
     "name": "stderr",
     "output_type": "stream",
     "text": [
      "/var/folders/1q/w3g5nkks29g3kjdwmq1lssj00000gn/T/ipykernel_1714/1334583777.py:25: DeprecationWarning: Sampling from a set deprecated\n",
      "since Python 3.9 and will be removed in a subsequent version.\n",
      "  for symbol in random.sample(allList,1000):\n"
     ]
    },
    {
     "name": "stdout",
     "output_type": "stream",
     "text": [
      "0.1998582565556343\n",
      "22.67626740656212\n",
      "[0.21373506891376126, 1.414711687959938, 0.3701272587351544, 0.9129082893982479, 1.0919036651069387, 1.2741283772381677, 0.9079596793486493, 1.058462308992169]\n"
     ]
    },
    {
     "name": "stderr",
     "output_type": "stream",
     "text": [
      "/var/folders/1q/w3g5nkks29g3kjdwmq1lssj00000gn/T/ipykernel_1714/1334583777.py:25: DeprecationWarning: Sampling from a set deprecated\n",
      "since Python 3.9 and will be removed in a subsequent version.\n",
      "  for symbol in random.sample(allList,1000):\n"
     ]
    },
    {
     "name": "stdout",
     "output_type": "stream",
     "text": [
      "9.635719347980157\n",
      "10082.614897479523\n",
      "[0.910483061048935, 1.585461741060149, 0.17862378491934064, 0.9561576668677894, 1.3567112717577121, 1.227415108517055, 0.8760536779670902, 1.0870525529240005]\n"
     ]
    },
    {
     "name": "stderr",
     "output_type": "stream",
     "text": [
      "/var/folders/1q/w3g5nkks29g3kjdwmq1lssj00000gn/T/ipykernel_1714/1334583777.py:25: DeprecationWarning: Sampling from a set deprecated\n",
      "since Python 3.9 and will be removed in a subsequent version.\n",
      "  for symbol in random.sample(allList,1000):\n"
     ]
    },
    {
     "name": "stdout",
     "output_type": "stream",
     "text": [
      "1.371367824238129\n",
      "41623.196210796355\n",
      "[0.2624255521162029, 2.6120699255693145, 0.3516162143649272, 0.9070820341813469, 1.312408407945472, 1.261260821441072, 0.8121351054682413, 1.0664934016455196]\n"
     ]
    },
    {
     "name": "stderr",
     "output_type": "stream",
     "text": [
      "/var/folders/1q/w3g5nkks29g3kjdwmq1lssj00000gn/T/ipykernel_1714/1334583777.py:25: DeprecationWarning: Sampling from a set deprecated\n",
      "since Python 3.9 and will be removed in a subsequent version.\n",
      "  for symbol in random.sample(allList,1000):\n"
     ]
    },
    {
     "name": "stdout",
     "output_type": "stream",
     "text": [
      "3.1566265060240966\n",
      "7037.793109360901\n",
      "[0.08148614670214693, 1.4115253677539166, 0.15711538146604234, 1.0602461471048503, 1.1682267187225874, 1.2957340412826717, 0.9577241154536793, 1.033326076700609]\n"
     ]
    },
    {
     "name": "stderr",
     "output_type": "stream",
     "text": [
      "/var/folders/1q/w3g5nkks29g3kjdwmq1lssj00000gn/T/ipykernel_1714/1334583777.py:25: DeprecationWarning: Sampling from a set deprecated\n",
      "since Python 3.9 and will be removed in a subsequent version.\n",
      "  for symbol in random.sample(allList,1000):\n"
     ]
    },
    {
     "name": "stdout",
     "output_type": "stream",
     "text": [
      "0.0\n",
      "100\n",
      "[0.18883541649446955, 1.5445482442213476, -0.0056611174958039745, 1.0006129627083646, 1.1730883170198279, 1.028051354490713, 0.9969123956144952, 0.8356106585445563]\n"
     ]
    },
    {
     "name": "stderr",
     "output_type": "stream",
     "text": [
      "/var/folders/1q/w3g5nkks29g3kjdwmq1lssj00000gn/T/ipykernel_1714/1334583777.py:25: DeprecationWarning: Sampling from a set deprecated\n",
      "since Python 3.9 and will be removed in a subsequent version.\n",
      "  for symbol in random.sample(allList,1000):\n"
     ]
    },
    {
     "name": "stdout",
     "output_type": "stream",
     "text": [
      "14.518781006378456\n",
      "2917.1322974318505\n",
      "[0.959870757087692, 1.9638665971517095, 0.10716806860286984, 0.936346401978387, 1.1490121497081605, 1.193014267958374, 0.9473192447581408, 0.9974123040074523]\n"
     ]
    },
    {
     "name": "stderr",
     "output_type": "stream",
     "text": [
      "/var/folders/1q/w3g5nkks29g3kjdwmq1lssj00000gn/T/ipykernel_1714/1334583777.py:25: DeprecationWarning: Sampling from a set deprecated\n",
      "since Python 3.9 and will be removed in a subsequent version.\n",
      "  for symbol in random.sample(allList,1000):\n"
     ]
    },
    {
     "name": "stdout",
     "output_type": "stream",
     "text": [
      "3.608788093550673\n",
      "626.174758655003\n",
      "[0.9893569146847362, 0.5727462976784096, 0.13847434370887388, 1.051523794878835, 1.2251318472127288, 1.021119296248658, 0.9383538182534047, 0.9326254647843621]\n"
     ]
    },
    {
     "name": "stderr",
     "output_type": "stream",
     "text": [
      "/var/folders/1q/w3g5nkks29g3kjdwmq1lssj00000gn/T/ipykernel_1714/1334583777.py:25: DeprecationWarning: Sampling from a set deprecated\n",
      "since Python 3.9 and will be removed in a subsequent version.\n",
      "  for symbol in random.sample(allList,1000):\n"
     ]
    },
    {
     "name": "stdout",
     "output_type": "stream",
     "text": [
      "0.17150956768249467\n",
      "79.08911298151253\n",
      "[0.8211926738130358, 2.7771495498436543, 0.25880317845655143, 0.9367934277121506, 1.2043875751901734, 1.0452096368835677, 0.9326183899964118, 0.9336734792239872]\n"
     ]
    },
    {
     "name": "stderr",
     "output_type": "stream",
     "text": [
      "/var/folders/1q/w3g5nkks29g3kjdwmq1lssj00000gn/T/ipykernel_1714/1334583777.py:25: DeprecationWarning: Sampling from a set deprecated\n",
      "since Python 3.9 and will be removed in a subsequent version.\n",
      "  for symbol in random.sample(allList,1000):\n"
     ]
    },
    {
     "name": "stdout",
     "output_type": "stream",
     "text": [
      "2.4223954642097802\n",
      "8658.902598792223\n",
      "[0.30110562079695047, 2.4389084853108964, 0.2435785847258173, 0.9364242482367022, 1.143728716603878, 1.0907959407445997, 0.8182598366089193, 1.1884589394223182]\n"
     ]
    },
    {
     "name": "stderr",
     "output_type": "stream",
     "text": [
      "/var/folders/1q/w3g5nkks29g3kjdwmq1lssj00000gn/T/ipykernel_1714/1334583777.py:25: DeprecationWarning: Sampling from a set deprecated\n",
      "since Python 3.9 and will be removed in a subsequent version.\n",
      "  for symbol in random.sample(allList,1000):\n"
     ]
    },
    {
     "name": "stdout",
     "output_type": "stream",
     "text": [
      "0.88731396172927\n",
      "1177.4382269223338\n",
      "[0.9616609919670195, 1.634806098415889, 0.2434658827685057, 0.9082379175225338, 1.2718446147559939, 1.2987868898522552, 0.9182703081566199, 0.9657431902843497]\n"
     ]
    },
    {
     "name": "stderr",
     "output_type": "stream",
     "text": [
      "/var/folders/1q/w3g5nkks29g3kjdwmq1lssj00000gn/T/ipykernel_1714/1334583777.py:25: DeprecationWarning: Sampling from a set deprecated\n",
      "since Python 3.9 and will be removed in a subsequent version.\n",
      "  for symbol in random.sample(allList,1000):\n"
     ]
    },
    {
     "name": "stdout",
     "output_type": "stream",
     "text": [
      "4.93408929836995\n",
      "2674.1976919369836\n",
      "[0.16572194030881282, 0.011131993426152453, 0.22123123655281915, 1.0446027306863643, 1.0096390081472773, 1.0521693573888804, 0.9561074347708085, 0.9600772916585069]\n"
     ]
    },
    {
     "name": "stderr",
     "output_type": "stream",
     "text": [
      "/var/folders/1q/w3g5nkks29g3kjdwmq1lssj00000gn/T/ipykernel_1714/1334583777.py:25: DeprecationWarning: Sampling from a set deprecated\n",
      "since Python 3.9 and will be removed in a subsequent version.\n",
      "  for symbol in random.sample(allList,1000):\n"
     ]
    },
    {
     "name": "stdout",
     "output_type": "stream",
     "text": [
      "5.159461374911411\n",
      "13897.622837547244\n",
      "[0.41762550793075304, 1.2410980264372302, 0.11003233752231759, 0.9984952669363725, 1.1953986116915072, 1.2184203168629157, 0.9462735630768222, 0.9196679257637181]\n"
     ]
    },
    {
     "name": "stderr",
     "output_type": "stream",
     "text": [
      "/var/folders/1q/w3g5nkks29g3kjdwmq1lssj00000gn/T/ipykernel_1714/1334583777.py:25: DeprecationWarning: Sampling from a set deprecated\n",
      "since Python 3.9 and will be removed in a subsequent version.\n",
      "  for symbol in random.sample(allList,1000):\n"
     ]
    },
    {
     "name": "stdout",
     "output_type": "stream",
     "text": [
      "9.044649184975196\n",
      "678.399940730152\n",
      "[0.48546179624448516, 2.910327766896981, 0.1358373481655453, 1.0802943849728681, 1.251123422903206, 1.2460846639447545, 0.8501893132579655, 0.8794353238860354]\n"
     ]
    },
    {
     "name": "stderr",
     "output_type": "stream",
     "text": [
      "/var/folders/1q/w3g5nkks29g3kjdwmq1lssj00000gn/T/ipykernel_1714/1334583777.py:25: DeprecationWarning: Sampling from a set deprecated\n",
      "since Python 3.9 and will be removed in a subsequent version.\n",
      "  for symbol in random.sample(allList,1000):\n"
     ]
    },
    {
     "name": "stdout",
     "output_type": "stream",
     "text": [
      "0.0\n",
      "100\n",
      "[0.9522909071464034, 0.4688678609345913, 0.32700841620672083, 0.9892726674560219, 1.3950568302000343, 1.2556256378737694, 0.9571442130551242, 1.1302626479264437]\n"
     ]
    },
    {
     "name": "stderr",
     "output_type": "stream",
     "text": [
      "/var/folders/1q/w3g5nkks29g3kjdwmq1lssj00000gn/T/ipykernel_1714/1334583777.py:25: DeprecationWarning: Sampling from a set deprecated\n",
      "since Python 3.9 and will be removed in a subsequent version.\n",
      "  for symbol in random.sample(allList,1000):\n"
     ]
    },
    {
     "name": "stdout",
     "output_type": "stream",
     "text": [
      "0.34301913536498935\n",
      "33.98664756689247\n",
      "[0.19850233338818601, 2.7258783848083956, 0.24660228582639812, 1.0188140185033694, 1.115982882718308, 1.0585352008442102, 0.9181680466192726, 0.8319352049494563]\n"
     ]
    },
    {
     "name": "stderr",
     "output_type": "stream",
     "text": [
      "/var/folders/1q/w3g5nkks29g3kjdwmq1lssj00000gn/T/ipykernel_1714/1334583777.py:25: DeprecationWarning: Sampling from a set deprecated\n",
      "since Python 3.9 and will be removed in a subsequent version.\n",
      "  for symbol in random.sample(allList,1000):\n"
     ]
    },
    {
     "name": "stdout",
     "output_type": "stream",
     "text": [
      "3.258681785967399\n",
      "16605.789338506147\n",
      "[0.7300001407474622, 1.928152983544787, 0.12588380456909606, 1.0831859720680328, 1.306191912114325, 1.0774281242250432, 0.9209896670749756, 0.8453537252229165]\n"
     ]
    },
    {
     "name": "stderr",
     "output_type": "stream",
     "text": [
      "/var/folders/1q/w3g5nkks29g3kjdwmq1lssj00000gn/T/ipykernel_1714/1334583777.py:25: DeprecationWarning: Sampling from a set deprecated\n",
      "since Python 3.9 and will be removed in a subsequent version.\n",
      "  for symbol in random.sample(allList,1000):\n"
     ]
    },
    {
     "name": "stdout",
     "output_type": "stream",
     "text": [
      "0.0\n",
      "100\n",
      "[0.19811952151242762, 2.607927636973497, 0.10225533352786245, 1.0359895156325565, 1.088025185097462, 1.1939138032194505, 0.8424116362290861, 1.1957335544763614]\n"
     ]
    },
    {
     "name": "stderr",
     "output_type": "stream",
     "text": [
      "/var/folders/1q/w3g5nkks29g3kjdwmq1lssj00000gn/T/ipykernel_1714/1334583777.py:25: DeprecationWarning: Sampling from a set deprecated\n",
      "since Python 3.9 and will be removed in a subsequent version.\n",
      "  for symbol in random.sample(allList,1000):\n"
     ]
    },
    {
     "name": "stdout",
     "output_type": "stream",
     "text": [
      "0.3175053153791637\n",
      "494.19049295563275\n",
      "[0.2833286009770162, 2.2736060965246163, 0.2224436096977553, 1.0222910813735067, 1.144848332121346, 1.07030535419769, 0.9479614126037538, 1.092671327633166]\n"
     ]
    },
    {
     "name": "stderr",
     "output_type": "stream",
     "text": [
      "/var/folders/1q/w3g5nkks29g3kjdwmq1lssj00000gn/T/ipykernel_1714/1334583777.py:25: DeprecationWarning: Sampling from a set deprecated\n",
      "since Python 3.9 and will be removed in a subsequent version.\n",
      "  for symbol in random.sample(allList,1000):\n"
     ]
    },
    {
     "name": "stdout",
     "output_type": "stream",
     "text": [
      "0.35364989369241673\n",
      "108.2985722460104\n",
      "[0.17418203484056405, 2.5484979068622007, 0.05971997019043876, 0.9120532150081518, 1.334823663680658, 1.2548009088077057, 0.9641816020726041, 0.8599384354985278]\n"
     ]
    },
    {
     "name": "stderr",
     "output_type": "stream",
     "text": [
      "/var/folders/1q/w3g5nkks29g3kjdwmq1lssj00000gn/T/ipykernel_1714/1334583777.py:25: DeprecationWarning: Sampling from a set deprecated\n",
      "since Python 3.9 and will be removed in a subsequent version.\n",
      "  for symbol in random.sample(allList,1000):\n"
     ]
    },
    {
     "name": "stdout",
     "output_type": "stream",
     "text": [
      "0.11268603827072998\n",
      "21.97402969561115\n",
      "[0.676933570377721, 1.078123512457985, 0.30109198242706536, 1.084300768920173, 1.3851194857676936, 1.0588273388606624, 0.9538698191499824, 1.0829397471439126]\n"
     ]
    },
    {
     "name": "stderr",
     "output_type": "stream",
     "text": [
      "/var/folders/1q/w3g5nkks29g3kjdwmq1lssj00000gn/T/ipykernel_1714/1334583777.py:25: DeprecationWarning: Sampling from a set deprecated\n",
      "since Python 3.9 and will be removed in a subsequent version.\n",
      "  for symbol in random.sample(allList,1000):\n"
     ]
    },
    {
     "name": "stdout",
     "output_type": "stream",
     "text": [
      "0.0\n",
      "100\n",
      "[0.4455830902821485, 0.6241379106022087, 0.09873305037984861, 1.052149031363605, 1.3194123861238491, 1.0517662057837702, 0.9017632018315808, 1.172007119814701]\n"
     ]
    },
    {
     "name": "stderr",
     "output_type": "stream",
     "text": [
      "/var/folders/1q/w3g5nkks29g3kjdwmq1lssj00000gn/T/ipykernel_1714/1334583777.py:25: DeprecationWarning: Sampling from a set deprecated\n",
      "since Python 3.9 and will be removed in a subsequent version.\n",
      "  for symbol in random.sample(allList,1000):\n"
     ]
    },
    {
     "name": "stdout",
     "output_type": "stream",
     "text": [
      "0.031892274982282066\n",
      "45.4078940568999\n",
      "[0.009510197092973183, 1.5725818337462034, 0.3415453372930486, 1.009106277260856, 1.004830155678255, 1.0442361542205332, 0.9000865093743041, 0.9350788565913546]\n"
     ]
    },
    {
     "name": "stderr",
     "output_type": "stream",
     "text": [
      "/var/folders/1q/w3g5nkks29g3kjdwmq1lssj00000gn/T/ipykernel_1714/1334583777.py:25: DeprecationWarning: Sampling from a set deprecated\n",
      "since Python 3.9 and will be removed in a subsequent version.\n",
      "  for symbol in random.sample(allList,1000):\n"
     ]
    },
    {
     "name": "stdout",
     "output_type": "stream",
     "text": [
      "7.160878809355068\n",
      "5519.2680920950115\n",
      "[0.5183604181027245, 2.0110926468081765, 0.30913681347884747, 1.090512471790748, 1.2233103513554187, 1.1082900988160085, 0.8701922613080101, 1.198912566258807]\n"
     ]
    },
    {
     "name": "stderr",
     "output_type": "stream",
     "text": [
      "/var/folders/1q/w3g5nkks29g3kjdwmq1lssj00000gn/T/ipykernel_1714/1334583777.py:25: DeprecationWarning: Sampling from a set deprecated\n",
      "since Python 3.9 and will be removed in a subsequent version.\n",
      "  for symbol in random.sample(allList,1000):\n"
     ]
    },
    {
     "name": "stdout",
     "output_type": "stream",
     "text": [
      "0.0\n",
      "100\n",
      "[0.7603093451753349, 0.650092332521411, -0.09939529732438443, 1.0278261843831913, 1.2362342010128602, 1.1294582939201776, 0.837397128821577, 0.8270277170154742]\n"
     ]
    },
    {
     "name": "stderr",
     "output_type": "stream",
     "text": [
      "/var/folders/1q/w3g5nkks29g3kjdwmq1lssj00000gn/T/ipykernel_1714/1334583777.py:25: DeprecationWarning: Sampling from a set deprecated\n",
      "since Python 3.9 and will be removed in a subsequent version.\n",
      "  for symbol in random.sample(allList,1000):\n"
     ]
    },
    {
     "name": "stdout",
     "output_type": "stream",
     "text": [
      "5.898653437278526\n",
      "5634.13015485726\n",
      "[0.4144021302574956, 2.2299763272754336, -0.011798064375085598, 0.9172684811399466, 1.1769816869201277, 1.0049254031200616, 0.8231259244785752, 0.8756697128243933]\n"
     ]
    },
    {
     "name": "stderr",
     "output_type": "stream",
     "text": [
      "/var/folders/1q/w3g5nkks29g3kjdwmq1lssj00000gn/T/ipykernel_1714/1334583777.py:25: DeprecationWarning: Sampling from a set deprecated\n",
      "since Python 3.9 and will be removed in a subsequent version.\n",
      "  for symbol in random.sample(allList,1000):\n"
     ]
    },
    {
     "name": "stdout",
     "output_type": "stream",
     "text": [
      "5.790928419560595\n",
      "4944.6346044096235\n",
      "[0.7387393340709643, 0.5251281968842749, 0.3634967917722325, 1.0499740285574297, 1.2285118728927635, 1.254792383556565, 0.9771793603854296, 1.004295929104286]\n"
     ]
    },
    {
     "name": "stderr",
     "output_type": "stream",
     "text": [
      "/var/folders/1q/w3g5nkks29g3kjdwmq1lssj00000gn/T/ipykernel_1714/1334583777.py:25: DeprecationWarning: Sampling from a set deprecated\n",
      "since Python 3.9 and will be removed in a subsequent version.\n",
      "  for symbol in random.sample(allList,1000):\n"
     ]
    },
    {
     "name": "stdout",
     "output_type": "stream",
     "text": [
      "0.1254429482636428\n",
      "64.0106345025456\n",
      "[0.7817282000242167, 1.7491894942857686, -0.08160411847469365, 0.9766628626519301, 1.0856918587631401, 1.0140315210181348, 0.8376643903731928, 1.014580473862757]\n"
     ]
    },
    {
     "name": "stderr",
     "output_type": "stream",
     "text": [
      "/var/folders/1q/w3g5nkks29g3kjdwmq1lssj00000gn/T/ipykernel_1714/1334583777.py:25: DeprecationWarning: Sampling from a set deprecated\n",
      "since Python 3.9 and will be removed in a subsequent version.\n",
      "  for symbol in random.sample(allList,1000):\n"
     ]
    },
    {
     "name": "stdout",
     "output_type": "stream",
     "text": [
      "6.445783132530121\n",
      "4785.953798057071\n",
      "[0.20279274712321593, 2.0087268646663397, -0.021343589247661582, 0.9240645438900317, 1.1566933440392935, 1.1457932538429172, 0.888013019702076, 1.0366813235164682]\n"
     ]
    },
    {
     "name": "stderr",
     "output_type": "stream",
     "text": [
      "/var/folders/1q/w3g5nkks29g3kjdwmq1lssj00000gn/T/ipykernel_1714/1334583777.py:25: DeprecationWarning: Sampling from a set deprecated\n",
      "since Python 3.9 and will be removed in a subsequent version.\n",
      "  for symbol in random.sample(allList,1000):\n"
     ]
    },
    {
     "name": "stdout",
     "output_type": "stream",
     "text": [
      "4.8936924167257265\n",
      "10639.314087306788\n",
      "[0.4210819261296018, 0.9993094231830294, 0.0363880563401289, 0.9379677729539388, 1.3716299151482159, 1.17779842792377, 0.8581556320275744, 1.1190979652591615]\n"
     ]
    },
    {
     "name": "stderr",
     "output_type": "stream",
     "text": [
      "/var/folders/1q/w3g5nkks29g3kjdwmq1lssj00000gn/T/ipykernel_1714/1334583777.py:25: DeprecationWarning: Sampling from a set deprecated\n",
      "since Python 3.9 and will be removed in a subsequent version.\n",
      "  for symbol in random.sample(allList,1000):\n"
     ]
    },
    {
     "name": "stdout",
     "output_type": "stream",
     "text": [
      "2.3458540042523035\n",
      "1775.8088915822448\n",
      "[0.1868304926732115, 1.9512792931606404, 0.24854319079730222, 0.9882956897245256, 1.318054605396924, 1.0107456424207588, 0.9127701519404298, 1.064439569964461]\n"
     ]
    },
    {
     "name": "stderr",
     "output_type": "stream",
     "text": [
      "/var/folders/1q/w3g5nkks29g3kjdwmq1lssj00000gn/T/ipykernel_1714/1334583777.py:25: DeprecationWarning: Sampling from a set deprecated\n",
      "since Python 3.9 and will be removed in a subsequent version.\n",
      "  for symbol in random.sample(allList,1000):\n"
     ]
    },
    {
     "name": "stdout",
     "output_type": "stream",
     "text": [
      "1.2884479092841956\n",
      "31293.75995594974\n",
      "[0.10671714578623448, 0.7530247945525258, 0.34995258406512286, 0.9234711509061762, 1.3166009011200752, 1.2189143693250386, 0.9222290591554293, 0.8431852219723752]\n"
     ]
    },
    {
     "name": "stderr",
     "output_type": "stream",
     "text": [
      "/var/folders/1q/w3g5nkks29g3kjdwmq1lssj00000gn/T/ipykernel_1714/1334583777.py:25: DeprecationWarning: Sampling from a set deprecated\n",
      "since Python 3.9 and will be removed in a subsequent version.\n",
      "  for symbol in random.sample(allList,1000):\n"
     ]
    },
    {
     "name": "stdout",
     "output_type": "stream",
     "text": [
      "9.031892274982281\n",
      "2956.53248837717\n",
      "[0.1361001643216857, 2.669517947198418, 0.22253915287477447, 1.0758569531523576, 1.345420698722405, 1.1479130456571616, 0.997744896111824, 0.9224825108277933]\n"
     ]
    },
    {
     "name": "stderr",
     "output_type": "stream",
     "text": [
      "/var/folders/1q/w3g5nkks29g3kjdwmq1lssj00000gn/T/ipykernel_1714/1334583777.py:25: DeprecationWarning: Sampling from a set deprecated\n",
      "since Python 3.9 and will be removed in a subsequent version.\n",
      "  for symbol in random.sample(allList,1000):\n"
     ]
    },
    {
     "name": "stdout",
     "output_type": "stream",
     "text": [
      "0.0\n",
      "100\n",
      "[0.29834171064709225, 0.18291192481731844, -0.09141293621739635, 1.0555253764773314, 1.2449594106206119, 1.2737163921674342, 0.9900758816314366, 1.0051361621149024]\n"
     ]
    },
    {
     "name": "stderr",
     "output_type": "stream",
     "text": [
      "/var/folders/1q/w3g5nkks29g3kjdwmq1lssj00000gn/T/ipykernel_1714/1334583777.py:25: DeprecationWarning: Sampling from a set deprecated\n",
      "since Python 3.9 and will be removed in a subsequent version.\n",
      "  for symbol in random.sample(allList,1000):\n"
     ]
    },
    {
     "name": "stdout",
     "output_type": "stream",
     "text": [
      "0.07866761162296244\n",
      "70.57324840764328\n",
      "[0.022923372884570026, 2.0570456155857118, 0.33004839037431877, 1.010239662986418, 1.2817723219755688, 1.0711116840715886, 0.8523670936597605, 1.0448643513545433]\n"
     ]
    },
    {
     "name": "stderr",
     "output_type": "stream",
     "text": [
      "/var/folders/1q/w3g5nkks29g3kjdwmq1lssj00000gn/T/ipykernel_1714/1334583777.py:25: DeprecationWarning: Sampling from a set deprecated\n",
      "since Python 3.9 and will be removed in a subsequent version.\n",
      "  for symbol in random.sample(allList,1000):\n"
     ]
    },
    {
     "name": "stdout",
     "output_type": "stream",
     "text": [
      "6.063075832742736\n",
      "10601.683370916962\n",
      "[0.7463258451917643, 2.6748506982944256, -0.06358927224217162, 1.0009677245878243, 1.2727421255288869, 1.1856643481792013, 0.8867822255518489, 1.1092230985718576]\n"
     ]
    },
    {
     "name": "stderr",
     "output_type": "stream",
     "text": [
      "/var/folders/1q/w3g5nkks29g3kjdwmq1lssj00000gn/T/ipykernel_1714/1334583777.py:25: DeprecationWarning: Sampling from a set deprecated\n",
      "since Python 3.9 and will be removed in a subsequent version.\n",
      "  for symbol in random.sample(allList,1000):\n"
     ]
    },
    {
     "name": "stdout",
     "output_type": "stream",
     "text": [
      "2.9383416017009214\n",
      "5032.436840553742\n",
      "[0.057684080276247496, 2.506925541714697, 0.27389284198862607, 1.0102129181474686, 1.1965113755637937, 1.0512779758406785, 0.9341886818863476, 1.072017780555323]\n"
     ]
    },
    {
     "name": "stderr",
     "output_type": "stream",
     "text": [
      "/var/folders/1q/w3g5nkks29g3kjdwmq1lssj00000gn/T/ipykernel_1714/1334583777.py:25: DeprecationWarning: Sampling from a set deprecated\n",
      "since Python 3.9 and will be removed in a subsequent version.\n",
      "  for symbol in random.sample(allList,1000):\n"
     ]
    },
    {
     "name": "stdout",
     "output_type": "stream",
     "text": [
      "2.087172218284904\n",
      "17427.201158098494\n",
      "[0.8899935508722107, 0.30781228757046186, 0.13836414524731608, 1.0297451725991544, 1.059715559603087, 1.0245081283518394, 0.8503184021407066, 1.0623744651254416]\n"
     ]
    },
    {
     "name": "stderr",
     "output_type": "stream",
     "text": [
      "/var/folders/1q/w3g5nkks29g3kjdwmq1lssj00000gn/T/ipykernel_1714/1334583777.py:25: DeprecationWarning: Sampling from a set deprecated\n",
      "since Python 3.9 and will be removed in a subsequent version.\n",
      "  for symbol in random.sample(allList,1000):\n"
     ]
    },
    {
     "name": "stdout",
     "output_type": "stream",
     "text": [
      "0.8263642806520198\n",
      "881.8536673724335\n",
      "[0.4483852829568191, 0.28891958034349974, 0.23614195431493804, 0.9516653163850243, 1.0827168047722815, 1.2395347791341482, 0.9025700185677739, 1.030164490448864]\n"
     ]
    },
    {
     "name": "stderr",
     "output_type": "stream",
     "text": [
      "/var/folders/1q/w3g5nkks29g3kjdwmq1lssj00000gn/T/ipykernel_1714/1334583777.py:25: DeprecationWarning: Sampling from a set deprecated\n",
      "since Python 3.9 and will be removed in a subsequent version.\n",
      "  for symbol in random.sample(allList,1000):\n"
     ]
    },
    {
     "name": "stdout",
     "output_type": "stream",
     "text": [
      "33.6045357902197\n",
      "2915.135337803701\n",
      "[0.15820292622941468, 2.5234883759630713, 0.1678852994232439, 1.026726136298501, 1.2823541383725587, 1.0861277898100519, 0.8461826094891245, 1.0217824877836617]\n"
     ]
    },
    {
     "name": "stderr",
     "output_type": "stream",
     "text": [
      "/var/folders/1q/w3g5nkks29g3kjdwmq1lssj00000gn/T/ipykernel_1714/1334583777.py:25: DeprecationWarning: Sampling from a set deprecated\n",
      "since Python 3.9 and will be removed in a subsequent version.\n",
      "  for symbol in random.sample(allList,1000):\n"
     ]
    },
    {
     "name": "stdout",
     "output_type": "stream",
     "text": [
      "0.9383416017009213\n",
      "1167.5295796357275\n",
      "[0.01861914639576734, 2.2487805822367233, -0.06055461396093961, 1.0141664684474476, 1.067693341662416, 1.256043478791847, 0.9064959608405326, 1.0935768363643756]\n"
     ]
    },
    {
     "name": "stderr",
     "output_type": "stream",
     "text": [
      "/var/folders/1q/w3g5nkks29g3kjdwmq1lssj00000gn/T/ipykernel_1714/1334583777.py:25: DeprecationWarning: Sampling from a set deprecated\n",
      "since Python 3.9 and will be removed in a subsequent version.\n",
      "  for symbol in random.sample(allList,1000):\n"
     ]
    },
    {
     "name": "stdout",
     "output_type": "stream",
     "text": [
      "5.45995747696669\n",
      "4599.481051117803\n",
      "[0.6744406981956541, 0.6317257303959632, 0.25975939773696555, 1.0035523751803535, 1.2346597732103943, 1.294011761976561, 0.9319587461641528, 0.9136296954570361]\n"
     ]
    },
    {
     "name": "stderr",
     "output_type": "stream",
     "text": [
      "/var/folders/1q/w3g5nkks29g3kjdwmq1lssj00000gn/T/ipykernel_1714/1334583777.py:25: DeprecationWarning: Sampling from a set deprecated\n",
      "since Python 3.9 and will be removed in a subsequent version.\n",
      "  for symbol in random.sample(allList,1000):\n"
     ]
    },
    {
     "name": "stdout",
     "output_type": "stream",
     "text": [
      "14.81715095676825\n",
      "4403.375323286697\n",
      "[0.1358870848715671, 1.0530040794135835, 0.37585852843325407, 1.0709451891665673, 1.1003232555411013, 1.03283658053033, 0.9781737017678925, 0.925922293101064]\n"
     ]
    },
    {
     "name": "stderr",
     "output_type": "stream",
     "text": [
      "/var/folders/1q/w3g5nkks29g3kjdwmq1lssj00000gn/T/ipykernel_1714/1334583777.py:25: DeprecationWarning: Sampling from a set deprecated\n",
      "since Python 3.9 and will be removed in a subsequent version.\n",
      "  for symbol in random.sample(allList,1000):\n"
     ]
    },
    {
     "name": "stdout",
     "output_type": "stream",
     "text": [
      "0.01630049610205528\n",
      "88.0301775692336\n",
      "[0.41936647491718104, 1.112476652036488, 0.14904711519529032, 1.0871565159747387, 1.2966621868802943, 1.020237992550206, 0.9771100174178813, 0.9256990370727828]\n"
     ]
    },
    {
     "name": "stderr",
     "output_type": "stream",
     "text": [
      "/var/folders/1q/w3g5nkks29g3kjdwmq1lssj00000gn/T/ipykernel_1714/1334583777.py:25: DeprecationWarning: Sampling from a set deprecated\n",
      "since Python 3.9 and will be removed in a subsequent version.\n",
      "  for symbol in random.sample(allList,1000):\n"
     ]
    },
    {
     "name": "stdout",
     "output_type": "stream",
     "text": [
      "0.0\n",
      "100\n",
      "[0.30028375613871716, 1.7565636494961026, 0.3715222093924083, 0.9744000487851217, 1.1748207132640662, 1.1106599770788903, 0.8557302574343499, 1.1547561583821657]\n"
     ]
    },
    {
     "name": "stderr",
     "output_type": "stream",
     "text": [
      "/var/folders/1q/w3g5nkks29g3kjdwmq1lssj00000gn/T/ipykernel_1714/1334583777.py:25: DeprecationWarning: Sampling from a set deprecated\n",
      "since Python 3.9 and will be removed in a subsequent version.\n",
      "  for symbol in random.sample(allList,1000):\n"
     ]
    },
    {
     "name": "stdout",
     "output_type": "stream",
     "text": [
      "0.3926293408929837\n",
      "200.06941356932757\n",
      "[0.3637887490944839, 1.3811857572496735, -0.06951172915764744, 1.0351048421511617, 1.335388682450139, 1.2840461090034854, 0.8851866590067365, 1.119808057415936]\n"
     ]
    },
    {
     "name": "stderr",
     "output_type": "stream",
     "text": [
      "/var/folders/1q/w3g5nkks29g3kjdwmq1lssj00000gn/T/ipykernel_1714/1334583777.py:25: DeprecationWarning: Sampling from a set deprecated\n",
      "since Python 3.9 and will be removed in a subsequent version.\n",
      "  for symbol in random.sample(allList,1000):\n"
     ]
    },
    {
     "name": "stdout",
     "output_type": "stream",
     "text": [
      "0.05102763997165131\n",
      "238.5082748819197\n",
      "[0.31221132490360326, 1.256345026010752, 0.19962290226384324, 1.019542744183056, 1.0821945344237172, 1.2643456375920419, 0.8273052244319937, 0.8157506671381283]\n"
     ]
    },
    {
     "name": "stderr",
     "output_type": "stream",
     "text": [
      "/var/folders/1q/w3g5nkks29g3kjdwmq1lssj00000gn/T/ipykernel_1714/1334583777.py:25: DeprecationWarning: Sampling from a set deprecated\n",
      "since Python 3.9 and will be removed in a subsequent version.\n",
      "  for symbol in random.sample(allList,1000):\n"
     ]
    },
    {
     "name": "stdout",
     "output_type": "stream",
     "text": [
      "12.309709425939051\n",
      "15885.997706731529\n",
      "[0.9502340019697267, 1.2368146549239096, 0.32257821822452215, 0.933641307606693, 1.3050358337631607, 1.2846426587815056, 0.8527773878091633, 1.0812071213886698]\n"
     ]
    },
    {
     "name": "stderr",
     "output_type": "stream",
     "text": [
      "/var/folders/1q/w3g5nkks29g3kjdwmq1lssj00000gn/T/ipykernel_1714/1334583777.py:25: DeprecationWarning: Sampling from a set deprecated\n",
      "since Python 3.9 and will be removed in a subsequent version.\n",
      "  for symbol in random.sample(allList,1000):\n"
     ]
    },
    {
     "name": "stdout",
     "output_type": "stream",
     "text": [
      "1.7434443656980865\n",
      "107.68136542507006\n",
      "[0.3049914581666967, 0.1152422670889558, 0.2377375613159606, 1.0470490938707986, 1.1277357972347635, 1.0461224488281373, 0.8981115290065922, 0.8609352980643816]\n"
     ]
    },
    {
     "name": "stderr",
     "output_type": "stream",
     "text": [
      "/var/folders/1q/w3g5nkks29g3kjdwmq1lssj00000gn/T/ipykernel_1714/1334583777.py:25: DeprecationWarning: Sampling from a set deprecated\n",
      "since Python 3.9 and will be removed in a subsequent version.\n",
      "  for symbol in random.sample(allList,1000):\n"
     ]
    },
    {
     "name": "stdout",
     "output_type": "stream",
     "text": [
      "2.9284195605953225\n",
      "1134.8883109551466\n",
      "[0.8678481216084182, 0.8970037913531302, -0.04635752307117039, 0.9319610994364403, 1.2544427318956632, 1.241990869797764, 0.8227821916492569, 1.03055037571609]\n"
     ]
    },
    {
     "name": "stderr",
     "output_type": "stream",
     "text": [
      "/var/folders/1q/w3g5nkks29g3kjdwmq1lssj00000gn/T/ipykernel_1714/1334583777.py:25: DeprecationWarning: Sampling from a set deprecated\n",
      "since Python 3.9 and will be removed in a subsequent version.\n",
      "  for symbol in random.sample(allList,1000):\n"
     ]
    },
    {
     "name": "stdout",
     "output_type": "stream",
     "text": [
      "6.519489723600284\n",
      "1958.4884512809847\n",
      "[0.1636141274356503, 1.8945419781577408, -0.0728818187873558, 1.0054589520427573, 1.2878751538204634, 1.0189612324635249, 0.9307997305155594, 1.1780469590155709]\n"
     ]
    },
    {
     "name": "stderr",
     "output_type": "stream",
     "text": [
      "/var/folders/1q/w3g5nkks29g3kjdwmq1lssj00000gn/T/ipykernel_1714/1334583777.py:25: DeprecationWarning: Sampling from a set deprecated\n",
      "since Python 3.9 and will be removed in a subsequent version.\n",
      "  for symbol in random.sample(allList,1000):\n"
     ]
    },
    {
     "name": "stdout",
     "output_type": "stream",
     "text": [
      "0.14245216158752658\n",
      "81.4045450691251\n",
      "[0.1422503583863992, 2.9040777090019696, 0.07684128212483451, 1.0862909800078153, 1.0982607523056125, 1.1884432162132321, 0.8147513771027595, 0.9832376388437674]\n"
     ]
    },
    {
     "name": "stderr",
     "output_type": "stream",
     "text": [
      "/var/folders/1q/w3g5nkks29g3kjdwmq1lssj00000gn/T/ipykernel_1714/1334583777.py:25: DeprecationWarning: Sampling from a set deprecated\n",
      "since Python 3.9 and will be removed in a subsequent version.\n",
      "  for symbol in random.sample(allList,1000):\n"
     ]
    },
    {
     "name": "stdout",
     "output_type": "stream",
     "text": [
      "0.0\n",
      "100\n",
      "[0.9618885361459315, 2.642477185449386, 0.35247095838608244, 1.0119042578439876, 1.3367128298546942, 1.2138230556894074, 0.8312095124491276, 1.1727698685846153]\n"
     ]
    },
    {
     "name": "stderr",
     "output_type": "stream",
     "text": [
      "/var/folders/1q/w3g5nkks29g3kjdwmq1lssj00000gn/T/ipykernel_1714/1334583777.py:25: DeprecationWarning: Sampling from a set deprecated\n",
      "since Python 3.9 and will be removed in a subsequent version.\n",
      "  for symbol in random.sample(allList,1000):\n"
     ]
    },
    {
     "name": "stdout",
     "output_type": "stream",
     "text": [
      "0.029766123316796598\n",
      "45.5865506409261\n",
      "[0.3799808781096966, 2.516875397662469, 0.3922859715218261, 1.0351343895910958, 1.1998409434680875, 1.2573432270509144, 0.8490447998408569, 0.9860527521367064]\n"
     ]
    },
    {
     "name": "stderr",
     "output_type": "stream",
     "text": [
      "/var/folders/1q/w3g5nkks29g3kjdwmq1lssj00000gn/T/ipykernel_1714/1334583777.py:25: DeprecationWarning: Sampling from a set deprecated\n",
      "since Python 3.9 and will be removed in a subsequent version.\n",
      "  for symbol in random.sample(allList,1000):\n"
     ]
    },
    {
     "name": "stdout",
     "output_type": "stream",
     "text": [
      "0.47909284195605956\n",
      "433.80157084676034\n",
      "[0.33997827476502984, 1.3077763845098747, 0.30810555659852146, 0.9083820503016412, 1.2916429069963105, 1.0772863967205968, 0.8800687540565755, 1.0386549861176333]\n"
     ]
    },
    {
     "name": "stderr",
     "output_type": "stream",
     "text": [
      "/var/folders/1q/w3g5nkks29g3kjdwmq1lssj00000gn/T/ipykernel_1714/1334583777.py:25: DeprecationWarning: Sampling from a set deprecated\n",
      "since Python 3.9 and will be removed in a subsequent version.\n",
      "  for symbol in random.sample(allList,1000):\n"
     ]
    },
    {
     "name": "stdout",
     "output_type": "stream",
     "text": [
      "3.034727143869596\n",
      "2141.186975321049\n",
      "[0.015749394274294448, 2.269121103300333, 0.3213189965581763, 0.967078618419008, 1.1253984779445894, 1.1327322070012533, 0.8921135814300076, 0.8061412221803403]\n"
     ]
    },
    {
     "name": "stderr",
     "output_type": "stream",
     "text": [
      "/var/folders/1q/w3g5nkks29g3kjdwmq1lssj00000gn/T/ipykernel_1714/1334583777.py:25: DeprecationWarning: Sampling from a set deprecated\n",
      "since Python 3.9 and will be removed in a subsequent version.\n",
      "  for symbol in random.sample(allList,1000):\n"
     ]
    },
    {
     "name": "stdout",
     "output_type": "stream",
     "text": [
      "3.7462792345854004\n",
      "4388.742219505941\n",
      "[0.6047310518338065, 0.3269541329169473, 0.05623911419172403, 1.0795428350449185, 1.1529124104333692, 1.134582519317526, 0.9762467202063463, 1.0991133692191533]\n"
     ]
    },
    {
     "name": "stderr",
     "output_type": "stream",
     "text": [
      "/var/folders/1q/w3g5nkks29g3kjdwmq1lssj00000gn/T/ipykernel_1714/1334583777.py:25: DeprecationWarning: Sampling from a set deprecated\n",
      "since Python 3.9 and will be removed in a subsequent version.\n",
      "  for symbol in random.sample(allList,1000):\n"
     ]
    },
    {
     "name": "stdout",
     "output_type": "stream",
     "text": [
      "0.01559177888022679\n",
      "150.96634297968808\n",
      "[0.04644823079923077, 2.2088780911449932, 0.3232228175088906, 0.9763451133165963, 1.1776970597455387, 1.2933302420888275, 0.9505101718217519, 0.8276262791918301]\n"
     ]
    },
    {
     "name": "stderr",
     "output_type": "stream",
     "text": [
      "/var/folders/1q/w3g5nkks29g3kjdwmq1lssj00000gn/T/ipykernel_1714/1334583777.py:25: DeprecationWarning: Sampling from a set deprecated\n",
      "since Python 3.9 and will be removed in a subsequent version.\n",
      "  for symbol in random.sample(allList,1000):\n"
     ]
    },
    {
     "name": "stdout",
     "output_type": "stream",
     "text": [
      "12.862508858965272\n",
      "2794.954506552635\n",
      "[0.9584843083061197, 0.36804540012696296, 0.32500917847026145, 0.9154147207465928, 1.2484012524412789, 1.1085203707534532, 0.9797948036385973, 1.019938006117946]\n"
     ]
    },
    {
     "name": "stderr",
     "output_type": "stream",
     "text": [
      "/var/folders/1q/w3g5nkks29g3kjdwmq1lssj00000gn/T/ipykernel_1714/1334583777.py:25: DeprecationWarning: Sampling from a set deprecated\n",
      "since Python 3.9 and will be removed in a subsequent version.\n",
      "  for symbol in random.sample(allList,1000):\n"
     ]
    },
    {
     "name": "stdout",
     "output_type": "stream",
     "text": [
      "3.9355067328136073\n",
      "4961.675128824468\n",
      "[0.04992358884381509, 0.33077306457747013, 0.2044965782096991, 1.072667897161002, 1.3623818219558361, 1.010439129069918, 0.9312480508864993, 1.1485922528680685]\n"
     ]
    },
    {
     "name": "stderr",
     "output_type": "stream",
     "text": [
      "/var/folders/1q/w3g5nkks29g3kjdwmq1lssj00000gn/T/ipykernel_1714/1334583777.py:25: DeprecationWarning: Sampling from a set deprecated\n",
      "since Python 3.9 and will be removed in a subsequent version.\n",
      "  for symbol in random.sample(allList,1000):\n"
     ]
    },
    {
     "name": "stdout",
     "output_type": "stream",
     "text": [
      "0.0007087172218284905\n",
      "108.01361670806882\n",
      "[0.9725357374824753, 0.7679508459226709, -0.077055240239745, 0.9117265988789369, 1.0603362208160791, 1.044054778646739, 0.9832868711538816, 1.0751467507453065]\n"
     ]
    },
    {
     "name": "stderr",
     "output_type": "stream",
     "text": [
      "/var/folders/1q/w3g5nkks29g3kjdwmq1lssj00000gn/T/ipykernel_1714/1334583777.py:25: DeprecationWarning: Sampling from a set deprecated\n",
      "since Python 3.9 and will be removed in a subsequent version.\n",
      "  for symbol in random.sample(allList,1000):\n"
     ]
    },
    {
     "name": "stdout",
     "output_type": "stream",
     "text": [
      "5.890857547838412\n",
      "8438.948972839313\n",
      "[0.6592916721498732, 0.9019370052959271, 0.20010744613741252, 0.9994102116280589, 1.3279399500338778, 1.1356803566029128, 0.8473731859288661, 1.021996242333623]\n"
     ]
    },
    {
     "name": "stderr",
     "output_type": "stream",
     "text": [
      "/var/folders/1q/w3g5nkks29g3kjdwmq1lssj00000gn/T/ipykernel_1714/1334583777.py:25: DeprecationWarning: Sampling from a set deprecated\n",
      "since Python 3.9 and will be removed in a subsequent version.\n",
      "  for symbol in random.sample(allList,1000):\n"
     ]
    },
    {
     "name": "stdout",
     "output_type": "stream",
     "text": [
      "3.926293408929837\n",
      "1215.4055898561446\n",
      "[0.1855863839267441, 0.1542329637168638, 0.1622950653289469, 0.9855486643796265, 1.3239638391072823, 1.2982863938245184, 0.8350718403644724, 0.969157559579475]\n"
     ]
    },
    {
     "name": "stderr",
     "output_type": "stream",
     "text": [
      "/var/folders/1q/w3g5nkks29g3kjdwmq1lssj00000gn/T/ipykernel_1714/1334583777.py:25: DeprecationWarning: Sampling from a set deprecated\n",
      "since Python 3.9 and will be removed in a subsequent version.\n",
      "  for symbol in random.sample(allList,1000):\n"
     ]
    },
    {
     "name": "stdout",
     "output_type": "stream",
     "text": [
      "15.857547838412474\n",
      "9254.467833727107\n",
      "[0.24444666091666944, 1.7425321467632449, -0.02998946262940852, 1.0586397671029772, 1.0973052861332173, 1.2937985654028383, 0.9792207144111988, 1.194566270174052]\n"
     ]
    },
    {
     "name": "stderr",
     "output_type": "stream",
     "text": [
      "/var/folders/1q/w3g5nkks29g3kjdwmq1lssj00000gn/T/ipykernel_1714/1334583777.py:25: DeprecationWarning: Sampling from a set deprecated\n",
      "since Python 3.9 and will be removed in a subsequent version.\n",
      "  for symbol in random.sample(allList,1000):\n"
     ]
    },
    {
     "name": "stdout",
     "output_type": "stream",
     "text": [
      "0.0\n",
      "100\n",
      "[0.7518361664558759, 2.5146785354099785, 0.2673796877989919, 0.9413046410575295, 1.172567533968172, 1.2434019081986563, 0.9876610266745388, 0.8111625017016008]\n"
     ]
    },
    {
     "name": "stderr",
     "output_type": "stream",
     "text": [
      "/var/folders/1q/w3g5nkks29g3kjdwmq1lssj00000gn/T/ipykernel_1714/1334583777.py:25: DeprecationWarning: Sampling from a set deprecated\n",
      "since Python 3.9 and will be removed in a subsequent version.\n",
      "  for symbol in random.sample(allList,1000):\n"
     ]
    },
    {
     "name": "stdout",
     "output_type": "stream",
     "text": [
      "4.9900779588944015\n",
      "4844.878381048559\n",
      "[0.6593588209081952, 1.1587164800363476, 0.13880084876913748, 0.9215787436552905, 1.0962317578570882, 1.1624229135723545, 0.9007515071153613, 1.194287970558214]\n"
     ]
    },
    {
     "name": "stderr",
     "output_type": "stream",
     "text": [
      "/var/folders/1q/w3g5nkks29g3kjdwmq1lssj00000gn/T/ipykernel_1714/1334583777.py:25: DeprecationWarning: Sampling from a set deprecated\n",
      "since Python 3.9 and will be removed in a subsequent version.\n",
      "  for symbol in random.sample(allList,1000):\n"
     ]
    },
    {
     "name": "stdout",
     "output_type": "stream",
     "text": [
      "1.031892274982282\n",
      "864.2703455202935\n",
      "[0.477617287483438, 0.6021869974364115, 0.24389032709624223, 1.0783433430993743, 1.2961196579306846, 1.125775834056571, 0.8985548375416682, 0.994816790703043]\n"
     ]
    },
    {
     "name": "stderr",
     "output_type": "stream",
     "text": [
      "/var/folders/1q/w3g5nkks29g3kjdwmq1lssj00000gn/T/ipykernel_1714/1334583777.py:25: DeprecationWarning: Sampling from a set deprecated\n",
      "since Python 3.9 and will be removed in a subsequent version.\n",
      "  for symbol in random.sample(allList,1000):\n"
     ]
    },
    {
     "name": "stdout",
     "output_type": "stream",
     "text": [
      "0.0\n",
      "100\n",
      "[0.06443508367066209, 2.3968891699159114, -0.026559730183795344, 1.0531395540983683, 1.0498798509987253, 1.269831626383474, 0.9464562428823264, 0.9952957234171146]\n"
     ]
    },
    {
     "name": "stderr",
     "output_type": "stream",
     "text": [
      "/var/folders/1q/w3g5nkks29g3kjdwmq1lssj00000gn/T/ipykernel_1714/1334583777.py:25: DeprecationWarning: Sampling from a set deprecated\n",
      "since Python 3.9 and will be removed in a subsequent version.\n",
      "  for symbol in random.sample(allList,1000):\n"
     ]
    },
    {
     "name": "stdout",
     "output_type": "stream",
     "text": [
      "0.012048192771084338\n",
      "60.36585273663249\n",
      "[0.2186747119766248, 1.4206408063679814, 0.20555733172865268, 0.9130606416044073, 1.31770594004626, 1.0952593779864936, 0.8711487298689391, 0.9390131187835715]\n"
     ]
    },
    {
     "name": "stderr",
     "output_type": "stream",
     "text": [
      "/var/folders/1q/w3g5nkks29g3kjdwmq1lssj00000gn/T/ipykernel_1714/1334583777.py:25: DeprecationWarning: Sampling from a set deprecated\n",
      "since Python 3.9 and will be removed in a subsequent version.\n",
      "  for symbol in random.sample(allList,1000):\n"
     ]
    },
    {
     "name": "stdout",
     "output_type": "stream",
     "text": [
      "5.450035435861092\n",
      "1992.4380141115541\n",
      "[0.8153908733331136, 2.378132044287601, 0.04476250698582554, 0.9211414616997063, 1.2295764907369866, 1.0586490566146503, 0.9717187734695633, 1.1845980057249972]\n"
     ]
    },
    {
     "name": "stderr",
     "output_type": "stream",
     "text": [
      "/var/folders/1q/w3g5nkks29g3kjdwmq1lssj00000gn/T/ipykernel_1714/1334583777.py:25: DeprecationWarning: Sampling from a set deprecated\n",
      "since Python 3.9 and will be removed in a subsequent version.\n",
      "  for symbol in random.sample(allList,1000):\n"
     ]
    },
    {
     "name": "stdout",
     "output_type": "stream",
     "text": [
      "0.011339475549255847\n",
      "93.84467366286012\n",
      "[0.8428575821373613, 1.9081567270932704, 0.06584982073467069, 0.9000298688486817, 1.0880681428079275, 1.1807670837517674, 0.9848717426414177, 1.1917992954220442]\n"
     ]
    },
    {
     "name": "stderr",
     "output_type": "stream",
     "text": [
      "/var/folders/1q/w3g5nkks29g3kjdwmq1lssj00000gn/T/ipykernel_1714/1334583777.py:25: DeprecationWarning: Sampling from a set deprecated\n",
      "since Python 3.9 and will be removed in a subsequent version.\n",
      "  for symbol in random.sample(allList,1000):\n"
     ]
    },
    {
     "name": "stdout",
     "output_type": "stream",
     "text": [
      "0.39617292700212614\n",
      "308.43987560612356\n",
      "[0.971145614866716, 2.724624052655669, 0.09166031910976133, 1.0447484651292829, 1.104040501092374, 1.2713146064219203, 0.8817261653463976, 1.0078448496593475]\n"
     ]
    },
    {
     "name": "stderr",
     "output_type": "stream",
     "text": [
      "/var/folders/1q/w3g5nkks29g3kjdwmq1lssj00000gn/T/ipykernel_1714/1334583777.py:25: DeprecationWarning: Sampling from a set deprecated\n",
      "since Python 3.9 and will be removed in a subsequent version.\n",
      "  for symbol in random.sample(allList,1000):\n"
     ]
    },
    {
     "name": "stdout",
     "output_type": "stream",
     "text": [
      "0.01700921332388377\n",
      "238.17647914972338\n",
      "[0.15270873680417596, 0.3372262935985486, 0.14762535768189863, 1.034132516641001, 1.0082651929370874, 1.2570564035975789, 0.9531940511130798, 0.800572626343379]\n"
     ]
    },
    {
     "name": "stderr",
     "output_type": "stream",
     "text": [
      "/var/folders/1q/w3g5nkks29g3kjdwmq1lssj00000gn/T/ipykernel_1714/1334583777.py:25: DeprecationWarning: Sampling from a set deprecated\n",
      "since Python 3.9 and will be removed in a subsequent version.\n",
      "  for symbol in random.sample(allList,1000):\n"
     ]
    },
    {
     "name": "stdout",
     "output_type": "stream",
     "text": [
      "5.2714386959603114\n",
      "1173.122515919076\n",
      "[0.05076165200414173, 1.9186187581019283, -0.03206627187985109, 1.0747040916688548, 1.3484055536511574, 1.078666535165144, 0.8129653986564794, 0.9424280025201919]\n"
     ]
    },
    {
     "name": "stderr",
     "output_type": "stream",
     "text": [
      "/var/folders/1q/w3g5nkks29g3kjdwmq1lssj00000gn/T/ipykernel_1714/1334583777.py:25: DeprecationWarning: Sampling from a set deprecated\n",
      "since Python 3.9 and will be removed in a subsequent version.\n",
      "  for symbol in random.sample(allList,1000):\n"
     ]
    },
    {
     "name": "stdout",
     "output_type": "stream",
     "text": [
      "0.0\n",
      "100\n",
      "[0.8879262115069414, 0.5008810326004581, 0.17864825479812982, 1.0581066963870276, 1.1931886148937223, 1.127080104675566, 0.816353272172323, 0.9779330265369904]\n"
     ]
    },
    {
     "name": "stderr",
     "output_type": "stream",
     "text": [
      "/var/folders/1q/w3g5nkks29g3kjdwmq1lssj00000gn/T/ipykernel_1714/1334583777.py:25: DeprecationWarning: Sampling from a set deprecated\n",
      "since Python 3.9 and will be removed in a subsequent version.\n",
      "  for symbol in random.sample(allList,1000):\n"
     ]
    },
    {
     "name": "stdout",
     "output_type": "stream",
     "text": [
      "0.05315379163713678\n",
      "17.960871888419383\n",
      "[0.5584002187877819, 0.5323941418225439, 0.2173230230528155, 1.0765669937278075, 1.269826293016266, 1.079850358239177, 0.8810232720326421, 0.9213187643654821]\n"
     ]
    },
    {
     "name": "stderr",
     "output_type": "stream",
     "text": [
      "/var/folders/1q/w3g5nkks29g3kjdwmq1lssj00000gn/T/ipykernel_1714/1334583777.py:25: DeprecationWarning: Sampling from a set deprecated\n",
      "since Python 3.9 and will be removed in a subsequent version.\n",
      "  for symbol in random.sample(allList,1000):\n"
     ]
    },
    {
     "name": "stdout",
     "output_type": "stream",
     "text": [
      "0.03614457831325301\n",
      "28.28216390341878\n",
      "[0.5891929600057473, 1.3901746406615136, -0.016410159220554915, 0.9062323529812354, 1.1548493573378282, 1.189294570742721, 0.9458501838539949, 1.1691400025401943]\n"
     ]
    },
    {
     "name": "stderr",
     "output_type": "stream",
     "text": [
      "/var/folders/1q/w3g5nkks29g3kjdwmq1lssj00000gn/T/ipykernel_1714/1334583777.py:25: DeprecationWarning: Sampling from a set deprecated\n",
      "since Python 3.9 and will be removed in a subsequent version.\n",
      "  for symbol in random.sample(allList,1000):\n"
     ]
    },
    {
     "name": "stdout",
     "output_type": "stream",
     "text": [
      "3.038979447200567\n",
      "4057.0774381255183\n",
      "[0.7945876843706073, 2.729727758339779, 0.3343452008040533, 1.0684817713958668, 1.3252985735028955, 1.1903609577161294, 0.9057825095175599, 0.8638829817135416]\n"
     ]
    },
    {
     "name": "stderr",
     "output_type": "stream",
     "text": [
      "/var/folders/1q/w3g5nkks29g3kjdwmq1lssj00000gn/T/ipykernel_1714/1334583777.py:25: DeprecationWarning: Sampling from a set deprecated\n",
      "since Python 3.9 and will be removed in a subsequent version.\n",
      "  for symbol in random.sample(allList,1000):\n"
     ]
    },
    {
     "name": "stdout",
     "output_type": "stream",
     "text": [
      "0.0\n",
      "100\n",
      "[0.5682142632763788, 0.983485664201491, 0.08016276220629212, 1.0999503505127273, 1.3590331704972074, 1.252768897271974, 0.8723258851957406, 0.9843568456250948]\n"
     ]
    },
    {
     "name": "stderr",
     "output_type": "stream",
     "text": [
      "/var/folders/1q/w3g5nkks29g3kjdwmq1lssj00000gn/T/ipykernel_1714/1334583777.py:25: DeprecationWarning: Sampling from a set deprecated\n",
      "since Python 3.9 and will be removed in a subsequent version.\n",
      "  for symbol in random.sample(allList,1000):\n"
     ]
    },
    {
     "name": "stdout",
     "output_type": "stream",
     "text": [
      "0.0\n",
      "100\n",
      "[0.2364048231060102, 0.8982072913869156, 0.37403748530575287, 0.9905215644720717, 1.0810953606520637, 1.2355881498002717, 0.9096819490532244, 0.9268053959820599]\n"
     ]
    },
    {
     "name": "stderr",
     "output_type": "stream",
     "text": [
      "/var/folders/1q/w3g5nkks29g3kjdwmq1lssj00000gn/T/ipykernel_1714/1334583777.py:25: DeprecationWarning: Sampling from a set deprecated\n",
      "since Python 3.9 and will be removed in a subsequent version.\n",
      "  for symbol in random.sample(allList,1000):\n"
     ]
    },
    {
     "name": "stdout",
     "output_type": "stream",
     "text": [
      "17.64280652019844\n",
      "1802.2094943151965\n",
      "[0.9655567256324671, 2.571910417960057, -0.08524381229632685, 1.0319037657380772, 1.2910973457151638, 1.1540764698240205, 0.9660147803657161, 0.9337446691677581]\n"
     ]
    },
    {
     "name": "stderr",
     "output_type": "stream",
     "text": [
      "/var/folders/1q/w3g5nkks29g3kjdwmq1lssj00000gn/T/ipykernel_1714/1334583777.py:25: DeprecationWarning: Sampling from a set deprecated\n",
      "since Python 3.9 and will be removed in a subsequent version.\n",
      "  for symbol in random.sample(allList,1000):\n"
     ]
    },
    {
     "name": "stdout",
     "output_type": "stream",
     "text": [
      "0.26364280652019845\n",
      "56.02215930398964\n",
      "[0.0911531880391111, 1.1619983663792648, -0.028914721092312995, 0.9811752909035872, 1.254516497722856, 1.1341638463976202, 0.8139257024315261, 1.0965380459259657]\n"
     ]
    },
    {
     "name": "stderr",
     "output_type": "stream",
     "text": [
      "/var/folders/1q/w3g5nkks29g3kjdwmq1lssj00000gn/T/ipykernel_1714/1334583777.py:25: DeprecationWarning: Sampling from a set deprecated\n",
      "since Python 3.9 and will be removed in a subsequent version.\n",
      "  for symbol in random.sample(allList,1000):\n"
     ]
    },
    {
     "name": "stdout",
     "output_type": "stream",
     "text": [
      "3.8051027639971653\n",
      "3744.3259825774194\n",
      "[0.9234385350782984, 1.5552913748464852, 0.15680388815250415, 0.932658686510593, 1.072359020751801, 1.107985723455695, 0.9225449407773871, 1.04131852755061]\n"
     ]
    },
    {
     "name": "stderr",
     "output_type": "stream",
     "text": [
      "/var/folders/1q/w3g5nkks29g3kjdwmq1lssj00000gn/T/ipykernel_1714/1334583777.py:25: DeprecationWarning: Sampling from a set deprecated\n",
      "since Python 3.9 and will be removed in a subsequent version.\n",
      "  for symbol in random.sample(allList,1000):\n"
     ]
    },
    {
     "name": "stdout",
     "output_type": "stream",
     "text": [
      "8.518781006378456\n",
      "6647.605379851244\n",
      "[0.8416301240528784, 0.813319370368703, 0.21522774954414473, 0.9620570251437236, 1.1427194315543063, 1.13233919933404, 0.9715183610986493, 0.9932451299569843]\n"
     ]
    },
    {
     "name": "stderr",
     "output_type": "stream",
     "text": [
      "/var/folders/1q/w3g5nkks29g3kjdwmq1lssj00000gn/T/ipykernel_1714/1334583777.py:25: DeprecationWarning: Sampling from a set deprecated\n",
      "since Python 3.9 and will be removed in a subsequent version.\n",
      "  for symbol in random.sample(allList,1000):\n"
     ]
    },
    {
     "name": "stdout",
     "output_type": "stream",
     "text": [
      "12.946846208362864\n",
      "6835.363000403154\n",
      "[0.6996574215656932, 1.4610963082966149, 0.03594518064605415, 1.0346028464206012, 1.0910056223279825, 1.087309936469196, 0.9314027555145504, 1.1277959972709084]\n"
     ]
    },
    {
     "name": "stderr",
     "output_type": "stream",
     "text": [
      "/var/folders/1q/w3g5nkks29g3kjdwmq1lssj00000gn/T/ipykernel_1714/1334583777.py:25: DeprecationWarning: Sampling from a set deprecated\n",
      "since Python 3.9 and will be removed in a subsequent version.\n",
      "  for symbol in random.sample(allList,1000):\n"
     ]
    },
    {
     "name": "stdout",
     "output_type": "stream",
     "text": [
      "0.07937632884479093\n",
      "58.670259003906274\n",
      "[0.64317680640967, 2.1984132500256286, 0.3381137399247066, 1.0688523480866374, 1.0138482271156548, 1.1384248874538896, 0.8593887860750297, 1.1154763901075038]\n"
     ]
    },
    {
     "name": "stderr",
     "output_type": "stream",
     "text": [
      "/var/folders/1q/w3g5nkks29g3kjdwmq1lssj00000gn/T/ipykernel_1714/1334583777.py:25: DeprecationWarning: Sampling from a set deprecated\n",
      "since Python 3.9 and will be removed in a subsequent version.\n",
      "  for symbol in random.sample(allList,1000):\n"
     ]
    },
    {
     "name": "stdout",
     "output_type": "stream",
     "text": [
      "0.024805102763997167\n",
      "99.68222274550392\n",
      "[0.9754149285324486, 0.8705872255731287, 0.09007899882668344, 1.0878670580087544, 1.003720472612143, 1.0288836007784676, 0.9478749013188448, 1.108215368524192]\n"
     ]
    },
    {
     "name": "stderr",
     "output_type": "stream",
     "text": [
      "/var/folders/1q/w3g5nkks29g3kjdwmq1lssj00000gn/T/ipykernel_1714/1334583777.py:25: DeprecationWarning: Sampling from a set deprecated\n",
      "since Python 3.9 and will be removed in a subsequent version.\n",
      "  for symbol in random.sample(allList,1000):\n"
     ]
    },
    {
     "name": "stdout",
     "output_type": "stream",
     "text": [
      "0.04535790219702339\n",
      "114.4729696828468\n",
      "[0.2976126470031878, 2.2075334680588705, 0.13571867804117035, 1.0179550851231018, 1.3725836840770471, 1.0860199262317098, 0.8229069891589418, 1.1044351346606178]\n"
     ]
    },
    {
     "name": "stderr",
     "output_type": "stream",
     "text": [
      "/var/folders/1q/w3g5nkks29g3kjdwmq1lssj00000gn/T/ipykernel_1714/1334583777.py:25: DeprecationWarning: Sampling from a set deprecated\n",
      "since Python 3.9 and will be removed in a subsequent version.\n",
      "  for symbol in random.sample(allList,1000):\n"
     ]
    },
    {
     "name": "stdout",
     "output_type": "stream",
     "text": [
      "0.06165839829907867\n",
      "43.77891253501478\n",
      "[0.2801065141468828, 1.61370759143156, 0.10550699536097721, 1.0540660828523314, 1.3229424059685653, 1.1161785416118328, 0.9869849518928449, 1.06869134433289]\n"
     ]
    },
    {
     "name": "stderr",
     "output_type": "stream",
     "text": [
      "/var/folders/1q/w3g5nkks29g3kjdwmq1lssj00000gn/T/ipykernel_1714/1334583777.py:25: DeprecationWarning: Sampling from a set deprecated\n",
      "since Python 3.9 and will be removed in a subsequent version.\n",
      "  for symbol in random.sample(allList,1000):\n"
     ]
    },
    {
     "name": "stdout",
     "output_type": "stream",
     "text": [
      "0.0\n",
      "100\n",
      "[0.7021006358840831, 1.9349762320642907, 0.10047364725546024, 0.9294453211721005, 1.3327992073487342, 1.2296588359395206, 0.9158816899301258, 0.890870131969015]\n"
     ]
    },
    {
     "name": "stderr",
     "output_type": "stream",
     "text": [
      "/var/folders/1q/w3g5nkks29g3kjdwmq1lssj00000gn/T/ipykernel_1714/1334583777.py:25: DeprecationWarning: Sampling from a set deprecated\n",
      "since Python 3.9 and will be removed in a subsequent version.\n",
      "  for symbol in random.sample(allList,1000):\n"
     ]
    },
    {
     "name": "stdout",
     "output_type": "stream",
     "text": [
      "0.7058823529411765\n",
      "19.721503592290695\n",
      "[0.004177366325103682, 1.9672884826158579, 0.33125829670712326, 1.0942916370747824, 1.2554827756657656, 1.2758581323364635, 0.8418811769990928, 1.1451198581042723]\n"
     ]
    },
    {
     "name": "stderr",
     "output_type": "stream",
     "text": [
      "/var/folders/1q/w3g5nkks29g3kjdwmq1lssj00000gn/T/ipykernel_1714/1334583777.py:25: DeprecationWarning: Sampling from a set deprecated\n",
      "since Python 3.9 and will be removed in a subsequent version.\n",
      "  for symbol in random.sample(allList,1000):\n"
     ]
    },
    {
     "name": "stdout",
     "output_type": "stream",
     "text": [
      "0.0\n",
      "100\n",
      "[0.13486936620045364, 1.750858568528252, 0.11067199393067026, 1.0719761827643934, 1.2624950697975217, 1.0463816298002993, 0.8427210530619823, 1.0369572799192948]\n"
     ]
    },
    {
     "name": "stderr",
     "output_type": "stream",
     "text": [
      "/var/folders/1q/w3g5nkks29g3kjdwmq1lssj00000gn/T/ipykernel_1714/1334583777.py:25: DeprecationWarning: Sampling from a set deprecated\n",
      "since Python 3.9 and will be removed in a subsequent version.\n",
      "  for symbol in random.sample(allList,1000):\n"
     ]
    },
    {
     "name": "stdout",
     "output_type": "stream",
     "text": [
      "0.0\n",
      "100\n",
      "[0.9604321189201116, 2.770842837424591, 0.0016616315891751776, 1.083861856918972, 1.3244274238159548, 1.2814524551341635, 0.8856795161173695, 1.0558293334636055]\n"
     ]
    },
    {
     "name": "stderr",
     "output_type": "stream",
     "text": [
      "/var/folders/1q/w3g5nkks29g3kjdwmq1lssj00000gn/T/ipykernel_1714/1334583777.py:25: DeprecationWarning: Sampling from a set deprecated\n",
      "since Python 3.9 and will be removed in a subsequent version.\n",
      "  for symbol in random.sample(allList,1000):\n"
     ]
    },
    {
     "name": "stdout",
     "output_type": "stream",
     "text": [
      "0.0\n",
      "100\n",
      "[0.6273041673122638, 2.801753204523452, 0.3192952243239229, 0.9900915379134012, 1.2695538043204302, 1.088490518344744, 0.8515670622767393, 0.910736669667638]\n"
     ]
    },
    {
     "name": "stderr",
     "output_type": "stream",
     "text": [
      "/var/folders/1q/w3g5nkks29g3kjdwmq1lssj00000gn/T/ipykernel_1714/1334583777.py:25: DeprecationWarning: Sampling from a set deprecated\n",
      "since Python 3.9 and will be removed in a subsequent version.\n",
      "  for symbol in random.sample(allList,1000):\n"
     ]
    },
    {
     "name": "stdout",
     "output_type": "stream",
     "text": [
      "3.990077958894401\n",
      "3175.5290801145356\n",
      "[0.32364491282978025, 1.348375447775504, -0.06586577288875003, 0.9257682536029728, 1.2931124173812933, 1.184748921352809, 0.8349335531838455, 1.099397314186044]\n"
     ]
    },
    {
     "name": "stderr",
     "output_type": "stream",
     "text": [
      "/var/folders/1q/w3g5nkks29g3kjdwmq1lssj00000gn/T/ipykernel_1714/1334583777.py:25: DeprecationWarning: Sampling from a set deprecated\n",
      "since Python 3.9 and will be removed in a subsequent version.\n",
      "  for symbol in random.sample(allList,1000):\n"
     ]
    },
    {
     "name": "stdout",
     "output_type": "stream",
     "text": [
      "2.972360028348689\n",
      "11950.423657416013\n",
      "[0.71062262312879, 2.5498381431807626, 0.2818624878380762, 0.9934655106545429, 1.144828239760503, 1.2997977544804051, 0.9063894428609857, 1.036874150057114]\n"
     ]
    },
    {
     "name": "stderr",
     "output_type": "stream",
     "text": [
      "/var/folders/1q/w3g5nkks29g3kjdwmq1lssj00000gn/T/ipykernel_1714/1334583777.py:25: DeprecationWarning: Sampling from a set deprecated\n",
      "since Python 3.9 and will be removed in a subsequent version.\n",
      "  for symbol in random.sample(allList,1000):\n"
     ]
    },
    {
     "name": "stdout",
     "output_type": "stream",
     "text": [
      "1.8965272856130404\n",
      "795.3564462149911\n",
      "[0.7239284895019802, 2.2512160055631942, 0.38003894973654473, 0.9267545409988746, 1.1566031731072683, 1.173122577336786, 0.9088426820278583, 0.9416809787320113]\n"
     ]
    },
    {
     "name": "stderr",
     "output_type": "stream",
     "text": [
      "/var/folders/1q/w3g5nkks29g3kjdwmq1lssj00000gn/T/ipykernel_1714/1334583777.py:25: DeprecationWarning: Sampling from a set deprecated\n",
      "since Python 3.9 and will be removed in a subsequent version.\n",
      "  for symbol in random.sample(allList,1000):\n"
     ]
    },
    {
     "name": "stdout",
     "output_type": "stream",
     "text": [
      "3.5060240963855422\n",
      "3188.155938460425\n",
      "[0.659536480014987, 1.6663288749384433, -0.018069630373139994, 1.0763437804538731, 1.01449391566027, 1.233691697089536, 0.8713528936223347, 0.8963657361130895]\n"
     ]
    },
    {
     "name": "stderr",
     "output_type": "stream",
     "text": [
      "/var/folders/1q/w3g5nkks29g3kjdwmq1lssj00000gn/T/ipykernel_1714/1334583777.py:25: DeprecationWarning: Sampling from a set deprecated\n",
      "since Python 3.9 and will be removed in a subsequent version.\n",
      "  for symbol in random.sample(allList,1000):\n"
     ]
    },
    {
     "name": "stdout",
     "output_type": "stream",
     "text": [
      "0.0\n",
      "100\n",
      "[0.8796090528286765, 2.32011376890468, -0.04205244438722969, 0.9416734925496671, 1.2824834754253804, 1.084949540763175, 0.949612741386434, 1.0894823892342618]\n"
     ]
    },
    {
     "name": "stderr",
     "output_type": "stream",
     "text": [
      "/var/folders/1q/w3g5nkks29g3kjdwmq1lssj00000gn/T/ipykernel_1714/1334583777.py:25: DeprecationWarning: Sampling from a set deprecated\n",
      "since Python 3.9 and will be removed in a subsequent version.\n",
      "  for symbol in random.sample(allList,1000):\n"
     ]
    },
    {
     "name": "stdout",
     "output_type": "stream",
     "text": [
      "0.04323175053153792\n",
      "79.71577773521923\n",
      "[0.35789727994483234, 2.3811283219643844, -0.05278880571459907, 1.0016992501306354, 1.054545602932773, 1.048860147274334, 0.8841710098398611, 0.924850036373759]\n"
     ]
    },
    {
     "name": "stderr",
     "output_type": "stream",
     "text": [
      "/var/folders/1q/w3g5nkks29g3kjdwmq1lssj00000gn/T/ipykernel_1714/1334583777.py:25: DeprecationWarning: Sampling from a set deprecated\n",
      "since Python 3.9 and will be removed in a subsequent version.\n",
      "  for symbol in random.sample(allList,1000):\n"
     ]
    },
    {
     "name": "stdout",
     "output_type": "stream",
     "text": [
      "21.429482636428066\n",
      "14176.713058646445\n",
      "[0.8611978835422075, 0.899830963801437, 0.3640231044135468, 1.023253085980967, 1.0655865386014638, 1.281816008314668, 0.962606395182555, 0.8322335036379029]\n"
     ]
    },
    {
     "name": "stderr",
     "output_type": "stream",
     "text": [
      "/var/folders/1q/w3g5nkks29g3kjdwmq1lssj00000gn/T/ipykernel_1714/1334583777.py:25: DeprecationWarning: Sampling from a set deprecated\n",
      "since Python 3.9 and will be removed in a subsequent version.\n",
      "  for symbol in random.sample(allList,1000):\n"
     ]
    },
    {
     "name": "stdout",
     "output_type": "stream",
     "text": [
      "8.485471296952516\n",
      "1877.2258840901377\n",
      "[0.7892555343939103, 0.5422021795126013, 0.37077362659697033, 1.0277599301203626, 1.0881556179515377, 1.044578569696571, 0.856123679029283, 1.0441201315027988]\n"
     ]
    },
    {
     "name": "stderr",
     "output_type": "stream",
     "text": [
      "/var/folders/1q/w3g5nkks29g3kjdwmq1lssj00000gn/T/ipykernel_1714/1334583777.py:25: DeprecationWarning: Sampling from a set deprecated\n",
      "since Python 3.9 and will be removed in a subsequent version.\n",
      "  for symbol in random.sample(allList,1000):\n"
     ]
    },
    {
     "name": "stdout",
     "output_type": "stream",
     "text": [
      "0.4649184975194897\n",
      "829.8179895833348\n",
      "[0.2553697607873052, 0.8345980341023757, 0.004504897322816198, 1.075403863555931, 1.3935677934951793, 1.1749075093777555, 0.9582067618270286, 1.0744094401802478]\n"
     ]
    },
    {
     "name": "stderr",
     "output_type": "stream",
     "text": [
      "/var/folders/1q/w3g5nkks29g3kjdwmq1lssj00000gn/T/ipykernel_1714/1334583777.py:25: DeprecationWarning: Sampling from a set deprecated\n",
      "since Python 3.9 and will be removed in a subsequent version.\n",
      "  for symbol in random.sample(allList,1000):\n"
     ]
    },
    {
     "name": "stdout",
     "output_type": "stream",
     "text": [
      "0.0\n",
      "100\n",
      "[0.250753511234468, 0.8430187723091312, -0.057941274328394715, 0.9099023871765297, 1.2387621946454026, 1.2664497918257267, 0.9615291554505538, 1.107170784458945]\n"
     ]
    },
    {
     "name": "stderr",
     "output_type": "stream",
     "text": [
      "/var/folders/1q/w3g5nkks29g3kjdwmq1lssj00000gn/T/ipykernel_1714/1334583777.py:25: DeprecationWarning: Sampling from a set deprecated\n",
      "since Python 3.9 and will be removed in a subsequent version.\n",
      "  for symbol in random.sample(allList,1000):\n"
     ]
    },
    {
     "name": "stdout",
     "output_type": "stream",
     "text": [
      "3.4833451452870303\n",
      "498.45732938949016\n",
      "[0.8072179980380928, 1.1484694383153076, 0.2353626637751677, 0.9625873623264194, 1.247639308168887, 1.112532205962144, 0.8821314124088209, 1.001150190715128]\n"
     ]
    },
    {
     "name": "stderr",
     "output_type": "stream",
     "text": [
      "/var/folders/1q/w3g5nkks29g3kjdwmq1lssj00000gn/T/ipykernel_1714/1334583777.py:25: DeprecationWarning: Sampling from a set deprecated\n",
      "since Python 3.9 and will be removed in a subsequent version.\n",
      "  for symbol in random.sample(allList,1000):\n"
     ]
    },
    {
     "name": "stdout",
     "output_type": "stream",
     "text": [
      "1.995747696669029\n",
      "570.5908352586868\n",
      "[0.9948804738658754, 1.92546344339307, 0.013053967653581383, 0.9990800238256634, 1.2931946766286326, 1.2933513987854335, 0.8005008553677254, 1.1730147721303072]\n"
     ]
    },
    {
     "name": "stderr",
     "output_type": "stream",
     "text": [
      "/var/folders/1q/w3g5nkks29g3kjdwmq1lssj00000gn/T/ipykernel_1714/1334583777.py:25: DeprecationWarning: Sampling from a set deprecated\n",
      "since Python 3.9 and will be removed in a subsequent version.\n",
      "  for symbol in random.sample(allList,1000):\n"
     ]
    },
    {
     "name": "stdout",
     "output_type": "stream",
     "text": [
      "0.7058823529411765\n",
      "391.92038064133897\n",
      "[0.7429990102015919, 2.941905812047151, 0.1894661745940646, 1.0384150729907249, 1.0311709284018202, 1.268774785465883, 0.8522213699224723, 1.0841347037852034]\n"
     ]
    },
    {
     "name": "stderr",
     "output_type": "stream",
     "text": [
      "/var/folders/1q/w3g5nkks29g3kjdwmq1lssj00000gn/T/ipykernel_1714/1334583777.py:25: DeprecationWarning: Sampling from a set deprecated\n",
      "since Python 3.9 and will be removed in a subsequent version.\n",
      "  for symbol in random.sample(allList,1000):\n"
     ]
    },
    {
     "name": "stdout",
     "output_type": "stream",
     "text": [
      "0.2579730687455705\n",
      "582.180114899505\n",
      "[0.671510866892674, 2.440955915199313, 0.18844225848927484, 1.0054904502518276, 1.0930238086464579, 1.269812041745337, 0.8990366478385136, 1.160318578382485]\n"
     ]
    },
    {
     "name": "stderr",
     "output_type": "stream",
     "text": [
      "/var/folders/1q/w3g5nkks29g3kjdwmq1lssj00000gn/T/ipykernel_1714/1334583777.py:25: DeprecationWarning: Sampling from a set deprecated\n",
      "since Python 3.9 and will be removed in a subsequent version.\n",
      "  for symbol in random.sample(allList,1000):\n"
     ]
    },
    {
     "name": "stdout",
     "output_type": "stream",
     "text": [
      "1.2175761871013466\n",
      "686.6041109165549\n",
      "[0.4963781135114065, 2.4976299069442787, 0.31814105357192357, 0.9607158645958084, 1.2518385289575116, 1.2675243359471624, 0.9214325043363821, 0.8118721628607467]\n"
     ]
    },
    {
     "name": "stderr",
     "output_type": "stream",
     "text": [
      "/var/folders/1q/w3g5nkks29g3kjdwmq1lssj00000gn/T/ipykernel_1714/1334583777.py:25: DeprecationWarning: Sampling from a set deprecated\n",
      "since Python 3.9 and will be removed in a subsequent version.\n",
      "  for symbol in random.sample(allList,1000):\n"
     ]
    },
    {
     "name": "stdout",
     "output_type": "stream",
     "text": [
      "6.428773919206237\n",
      "961.492573465381\n",
      "[0.6512312855243365, 0.9122091291698812, 0.33347045127844, 1.0914841770982024, 1.003117839173016, 1.1737678907773363, 0.9346539536935015, 1.001162449805832]\n"
     ]
    },
    {
     "name": "stderr",
     "output_type": "stream",
     "text": [
      "/var/folders/1q/w3g5nkks29g3kjdwmq1lssj00000gn/T/ipykernel_1714/1334583777.py:25: DeprecationWarning: Sampling from a set deprecated\n",
      "since Python 3.9 and will be removed in a subsequent version.\n",
      "  for symbol in random.sample(allList,1000):\n"
     ]
    },
    {
     "name": "stdout",
     "output_type": "stream",
     "text": [
      "0.014174344436569808\n",
      "55.32934131736526\n",
      "[0.9449546316349581, 2.160128677210314, -0.02048560769209798, 1.0440666638643834, 1.1744029068417854, 1.2069966189246384, 0.8314702492531075, 0.9837377952447429]\n"
     ]
    },
    {
     "name": "stderr",
     "output_type": "stream",
     "text": [
      "/var/folders/1q/w3g5nkks29g3kjdwmq1lssj00000gn/T/ipykernel_1714/1334583777.py:25: DeprecationWarning: Sampling from a set deprecated\n",
      "since Python 3.9 and will be removed in a subsequent version.\n",
      "  for symbol in random.sample(allList,1000):\n"
     ]
    },
    {
     "name": "stdout",
     "output_type": "stream",
     "text": [
      "0.6754075124025514\n",
      "132.5743425266917\n",
      "[0.9747480437774598, 1.3036120781152623, 0.14777698956140925, 0.9970175843021472, 1.3874085794268578, 1.2752969214769632, 0.9218028642850837, 1.1332753329925391]\n"
     ]
    },
    {
     "name": "stderr",
     "output_type": "stream",
     "text": [
      "/var/folders/1q/w3g5nkks29g3kjdwmq1lssj00000gn/T/ipykernel_1714/1334583777.py:25: DeprecationWarning: Sampling from a set deprecated\n",
      "since Python 3.9 and will be removed in a subsequent version.\n",
      "  for symbol in random.sample(allList,1000):\n"
     ]
    },
    {
     "name": "stdout",
     "output_type": "stream",
     "text": [
      "0.24875974486180014\n",
      "330.7104639011709\n",
      "[0.9209930108484451, 2.1353163373133914, 0.38833432252342504, 1.0145669587676702, 1.3430674945002328, 1.2885732971743185, 0.8819731484492362, 1.126480000404119]\n"
     ]
    },
    {
     "name": "stderr",
     "output_type": "stream",
     "text": [
      "/var/folders/1q/w3g5nkks29g3kjdwmq1lssj00000gn/T/ipykernel_1714/1334583777.py:25: DeprecationWarning: Sampling from a set deprecated\n",
      "since Python 3.9 and will be removed in a subsequent version.\n",
      "  for symbol in random.sample(allList,1000):\n"
     ]
    },
    {
     "name": "stdout",
     "output_type": "stream",
     "text": [
      "1.5251594613749113\n",
      "25352.20779638136\n",
      "[0.727498332748195, 2.996742697619997, 0.1502733836123765, 1.073477723466393, 1.267117087036206, 1.1420355411651948, 0.9566536650672296, 0.8826323831415447]\n"
     ]
    },
    {
     "name": "stderr",
     "output_type": "stream",
     "text": [
      "/var/folders/1q/w3g5nkks29g3kjdwmq1lssj00000gn/T/ipykernel_1714/1334583777.py:25: DeprecationWarning: Sampling from a set deprecated\n",
      "since Python 3.9 and will be removed in a subsequent version.\n",
      "  for symbol in random.sample(allList,1000):\n"
     ]
    },
    {
     "name": "stdout",
     "output_type": "stream",
     "text": [
      "0.0\n",
      "100\n",
      "[0.5150518384378374, 2.5590622600277055, 0.11785868015380854, 0.9881751271241754, 1.0420908364302046, 1.2325282828388546, 0.9182052807411274, 0.9883711075132684]\n"
     ]
    },
    {
     "name": "stderr",
     "output_type": "stream",
     "text": [
      "/var/folders/1q/w3g5nkks29g3kjdwmq1lssj00000gn/T/ipykernel_1714/1334583777.py:25: DeprecationWarning: Sampling from a set deprecated\n",
      "since Python 3.9 and will be removed in a subsequent version.\n",
      "  for symbol in random.sample(allList,1000):\n"
     ]
    },
    {
     "name": "stdout",
     "output_type": "stream",
     "text": [
      "11.581148121899362\n",
      "5849.652116210446\n",
      "[0.4564766397002995, 1.099691519003498, 0.015831797857747215, 0.9373471241807092, 1.0382905766509427, 1.070400031560136, 0.9571017263216788, 0.933379437108347]\n"
     ]
    },
    {
     "name": "stderr",
     "output_type": "stream",
     "text": [
      "/var/folders/1q/w3g5nkks29g3kjdwmq1lssj00000gn/T/ipykernel_1714/1334583777.py:25: DeprecationWarning: Sampling from a set deprecated\n",
      "since Python 3.9 and will be removed in a subsequent version.\n",
      "  for symbol in random.sample(allList,1000):\n"
     ]
    },
    {
     "name": "stdout",
     "output_type": "stream",
     "text": [
      "39.111977321048904\n",
      "4629.868639278479\n",
      "[0.8727270264339863, 2.811309042050126, 0.14566216222739972, 1.0036267337707026, 1.15867351788002, 1.1518073848269075, 0.9495195952932234, 0.9708046030588091]\n"
     ]
    },
    {
     "name": "stderr",
     "output_type": "stream",
     "text": [
      "/var/folders/1q/w3g5nkks29g3kjdwmq1lssj00000gn/T/ipykernel_1714/1334583777.py:25: DeprecationWarning: Sampling from a set deprecated\n",
      "since Python 3.9 and will be removed in a subsequent version.\n",
      "  for symbol in random.sample(allList,1000):\n"
     ]
    },
    {
     "name": "stdout",
     "output_type": "stream",
     "text": [
      "7.800850460666195\n",
      "12113.809007786567\n",
      "[0.5236464758991587, 0.7855003717090869, -0.06735399107182946, 1.0240065084910803, 1.1048414723868543, 1.295492538262459, 0.904449968494233, 0.9353266393411158]\n"
     ]
    },
    {
     "name": "stderr",
     "output_type": "stream",
     "text": [
      "/var/folders/1q/w3g5nkks29g3kjdwmq1lssj00000gn/T/ipykernel_1714/1334583777.py:25: DeprecationWarning: Sampling from a set deprecated\n",
      "since Python 3.9 and will be removed in a subsequent version.\n",
      "  for symbol in random.sample(allList,1000):\n"
     ]
    },
    {
     "name": "stdout",
     "output_type": "stream",
     "text": [
      "6.560595322466336\n",
      "3151.6075076065886\n",
      "[0.006886695879543381, 1.4329461209458056, 0.18082691714877538, 0.989003704546388, 1.3301176235060304, 1.1223600914185874, 0.9290652449074444, 1.0050220611546397]\n"
     ]
    },
    {
     "name": "stderr",
     "output_type": "stream",
     "text": [
      "/var/folders/1q/w3g5nkks29g3kjdwmq1lssj00000gn/T/ipykernel_1714/1334583777.py:25: DeprecationWarning: Sampling from a set deprecated\n",
      "since Python 3.9 and will be removed in a subsequent version.\n",
      "  for symbol in random.sample(allList,1000):\n"
     ]
    },
    {
     "name": "stdout",
     "output_type": "stream",
     "text": [
      "2.215450035435861\n",
      "42423.3020320536\n",
      "[0.4192777231952406, 2.2145900983546176, -0.004162604891549876, 1.0626229040781252, 1.150497559706133, 1.2603214209896278, 0.9635375778533823, 1.0130350339654506]\n"
     ]
    },
    {
     "name": "stderr",
     "output_type": "stream",
     "text": [
      "/var/folders/1q/w3g5nkks29g3kjdwmq1lssj00000gn/T/ipykernel_1714/1334583777.py:25: DeprecationWarning: Sampling from a set deprecated\n",
      "since Python 3.9 and will be removed in a subsequent version.\n",
      "  for symbol in random.sample(allList,1000):\n"
     ]
    },
    {
     "name": "stdout",
     "output_type": "stream",
     "text": [
      "0.0\n",
      "100\n",
      "[0.28227079616577944, 2.0469051236819253, 0.11155314802061936, 1.0814889041439417, 1.2373760929743762, 1.0774736306428387, 0.8591511357217946, 0.9417585084658697]\n"
     ]
    },
    {
     "name": "stderr",
     "output_type": "stream",
     "text": [
      "/var/folders/1q/w3g5nkks29g3kjdwmq1lssj00000gn/T/ipykernel_1714/1334583777.py:25: DeprecationWarning: Sampling from a set deprecated\n",
      "since Python 3.9 and will be removed in a subsequent version.\n",
      "  for symbol in random.sample(allList,1000):\n"
     ]
    },
    {
     "name": "stdout",
     "output_type": "stream",
     "text": [
      "0.0\n",
      "100\n",
      "[0.6382437407090217, 2.5590523497198037, -0.06794543687303331, 0.9551183434038877, 1.0739826409892865, 1.156258195740361, 0.8242287103377384, 1.0575938292260758]\n"
     ]
    },
    {
     "name": "stderr",
     "output_type": "stream",
     "text": [
      "/var/folders/1q/w3g5nkks29g3kjdwmq1lssj00000gn/T/ipykernel_1714/1334583777.py:25: DeprecationWarning: Sampling from a set deprecated\n",
      "since Python 3.9 and will be removed in a subsequent version.\n",
      "  for symbol in random.sample(allList,1000):\n"
     ]
    },
    {
     "name": "stdout",
     "output_type": "stream",
     "text": [
      "9.712260807937632\n",
      "9828.107134673151\n",
      "[0.5424857475311479, 2.0706638224274885, 0.11513433905257589, 1.0980968543949483, 1.0241758608432712, 1.1693192004274582, 0.989748737324637, 0.9103618229513344]\n"
     ]
    },
    {
     "name": "stderr",
     "output_type": "stream",
     "text": [
      "/var/folders/1q/w3g5nkks29g3kjdwmq1lssj00000gn/T/ipykernel_1714/1334583777.py:25: DeprecationWarning: Sampling from a set deprecated\n",
      "since Python 3.9 and will be removed in a subsequent version.\n",
      "  for symbol in random.sample(allList,1000):\n"
     ]
    },
    {
     "name": "stdout",
     "output_type": "stream",
     "text": [
      "0.0\n",
      "100\n",
      "[0.7376992456547207, 2.095408424301102, -0.034608461531690976, 0.9543020683429668, 1.3856944657087484, 1.1261339922124183, 0.8214531965090391, 1.154138852283876]\n"
     ]
    },
    {
     "name": "stderr",
     "output_type": "stream",
     "text": [
      "/var/folders/1q/w3g5nkks29g3kjdwmq1lssj00000gn/T/ipykernel_1714/1334583777.py:25: DeprecationWarning: Sampling from a set deprecated\n",
      "since Python 3.9 and will be removed in a subsequent version.\n",
      "  for symbol in random.sample(allList,1000):\n"
     ]
    },
    {
     "name": "stdout",
     "output_type": "stream",
     "text": [
      "0.6137491141034727\n",
      "3742.2074351952856\n",
      "[0.2247655240112829, 1.9550000367939315, -0.037945279982565555, 1.062861681440601, 1.06516095635497, 1.0510281829505042, 0.9313545146421566, 0.9878063108278379]\n"
     ]
    },
    {
     "name": "stderr",
     "output_type": "stream",
     "text": [
      "/var/folders/1q/w3g5nkks29g3kjdwmq1lssj00000gn/T/ipykernel_1714/1334583777.py:25: DeprecationWarning: Sampling from a set deprecated\n",
      "since Python 3.9 and will be removed in a subsequent version.\n",
      "  for symbol in random.sample(allList,1000):\n"
     ]
    }
   ],
   "source": [
    "main()"
   ]
  },
  {
   "cell_type": "code",
   "execution_count": null,
   "metadata": {},
   "outputs": [],
   "source": []
  }
 ],
 "metadata": {
  "interpreter": {
   "hash": "6482a61bd65142dfd08aacddc6d509313aa2a592aede050a356a471649f69690"
  },
  "kernelspec": {
   "display_name": "Python 3.9.7 64-bit ('titanic': conda)",
   "language": "python",
   "name": "python3"
  },
  "language_info": {
   "codemirror_mode": {
    "name": "ipython",
    "version": 3
   },
   "file_extension": ".py",
   "mimetype": "text/x-python",
   "name": "python",
   "nbconvert_exporter": "python",
   "pygments_lexer": "ipython3",
   "version": "3.9.7"
  },
  "orig_nbformat": 4
 },
 "nbformat": 4,
 "nbformat_minor": 2
}
