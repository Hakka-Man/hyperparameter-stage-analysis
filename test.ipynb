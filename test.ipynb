{
 "cells": [
  {
   "cell_type": "code",
   "execution_count": 1,
   "metadata": {},
   "outputs": [],
   "source": [
    "import numpy as np"
   ]
  },
  {
   "cell_type": "code",
   "execution_count": 27,
   "metadata": {},
   "outputs": [
    {
     "name": "stdout",
     "output_type": "stream",
     "text": [
      "[0.8, 2.0, 0.1, 1.03, 1.1, 1.1, 0.975, -0.5005854568692244, 0.3418238180140738, 0.3350330481598275, -0.21147440591680033, 0.143579814372903, 0.1464114886161074, 0.36825966219870804]\n"
     ]
    }
   ],
   "source": [
    "original = np.array([0.8, 2,0.1, 1.03, 1.1, 1.1, 0.975])\n",
    "noises = []\n",
    "sum_list = []\n",
    "\n",
    "noises.append(np.random.normal(0, 0.2))\n",
    "noises.append(np.random.normal(0, 0.2))\n",
    "noises.append(np.random.normal(0, 0.2))\n",
    "noises.append(np.random.normal(0, 0.2))\n",
    "noises.append(np.random.normal(0, 0.2))\n",
    "noises.append(np.random.normal(0, 0.2))\n",
    "noises.append(np.random.normal(0, 0.2))\n",
    "\n",
    "for (item1, item2) in zip(original, noises):\n",
    "    sum_list.append(item1+item2)\n",
    "\n",
    "print(sum_list)\n",
    "\n",
    "\n",
    "# for i in range(0, 100):\n",
    "#   noise = np.random.normal(0, 0.2, original.shape)\n",
    "#   new_signal = original + noise\n",
    "#   print(new_signal.tolist())"
   ]
  }
 ],
 "metadata": {
  "interpreter": {
   "hash": "6482a61bd65142dfd08aacddc6d509313aa2a592aede050a356a471649f69690"
  },
  "kernelspec": {
   "display_name": "Python 3.9.7 64-bit ('titanic': conda)",
   "language": "python",
   "name": "python3"
  },
  "language_info": {
   "codemirror_mode": {
    "name": "ipython",
    "version": 3
   },
   "file_extension": ".py",
   "mimetype": "text/x-python",
   "name": "python",
   "nbconvert_exporter": "python",
   "pygments_lexer": "ipython3",
   "version": "3.9.7"
  },
  "orig_nbformat": 4
 },
 "nbformat": 4,
 "nbformat_minor": 2
}
